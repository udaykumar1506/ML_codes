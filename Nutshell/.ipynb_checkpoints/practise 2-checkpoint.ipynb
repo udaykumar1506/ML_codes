{
 "cells": [
  {
   "cell_type": "code",
   "execution_count": 1,
   "metadata": {
    "collapsed": true
   },
   "outputs": [],
   "source": [
    "from DemoServerDB import ConnectDatabase"
   ]
  },
  {
   "cell_type": "code",
   "execution_count": 2,
   "metadata": {
    "collapsed": true
   },
   "outputs": [],
   "source": [
    "temp = ConnectDatabase()"
   ]
  },
  {
   "cell_type": "code",
   "execution_count": 3,
   "metadata": {
    "collapsed": true
   },
   "outputs": [],
   "source": [
    "query = 'SELECT * from master_table_history'"
   ]
  },
  {
   "cell_type": "code",
   "execution_count": 4,
   "metadata": {
    "collapsed": true
   },
   "outputs": [],
   "source": [
    "import pandas as pd\n",
    "import numpy as np\n",
    "import datetime as dt\n",
    "from datetime import timedelta"
   ]
  },
  {
   "cell_type": "code",
   "execution_count": 5,
   "metadata": {
    "collapsed": true
   },
   "outputs": [],
   "source": [
    "temp.cur.execute(query)"
   ]
  },
  {
   "cell_type": "code",
   "execution_count": 6,
   "metadata": {
    "collapsed": true
   },
   "outputs": [],
   "source": [
    "col_names = [desc[0] for desc in temp.cur.description]"
   ]
  },
  {
   "cell_type": "code",
   "execution_count": 7,
   "metadata": {
    "collapsed": true
   },
   "outputs": [],
   "source": [
    "master_table_his = pd.DataFrame(temp.cur.fetchall(), columns=col_names)"
   ]
  },
  {
   "cell_type": "code",
   "execution_count": 8,
   "metadata": {
    "collapsed": false
   },
   "outputs": [
    {
     "data": {
      "text/html": [
       "<div>\n",
       "<table border=\"1\" class=\"dataframe\">\n",
       "  <thead>\n",
       "    <tr style=\"text-align: right;\">\n",
       "      <th></th>\n",
       "      <th>id</th>\n",
       "      <th>cust_id</th>\n",
       "      <th>churn</th>\n",
       "      <th>engagement</th>\n",
       "      <th>percent_churn</th>\n",
       "      <th>cltv</th>\n",
       "      <th>value</th>\n",
       "      <th>percent_cltv</th>\n",
       "      <th>high_convertor</th>\n",
       "      <th>bio</th>\n",
       "      <th>lifestage</th>\n",
       "      <th>custom_date_identifier</th>\n",
       "    </tr>\n",
       "  </thead>\n",
       "  <tbody>\n",
       "    <tr>\n",
       "      <th>0</th>\n",
       "      <td>2694.0</td>\n",
       "      <td>2942914</td>\n",
       "      <td>0</td>\n",
       "      <td>Low</td>\n",
       "      <td>0.13447828904731</td>\n",
       "      <td>0</td>\n",
       "      <td>Very Low</td>\n",
       "      <td>0</td>\n",
       "      <td>None</td>\n",
       "      <td>None</td>\n",
       "      <td>None</td>\n",
       "      <td>2017-03-27 07:53:06.971854</td>\n",
       "    </tr>\n",
       "    <tr>\n",
       "      <th>1</th>\n",
       "      <td>787.0</td>\n",
       "      <td>3053432</td>\n",
       "      <td>0</td>\n",
       "      <td>Very High</td>\n",
       "      <td>0.999351911860013</td>\n",
       "      <td>31.329512977429</td>\n",
       "      <td>Medium</td>\n",
       "      <td>74.7569669475049</td>\n",
       "      <td>None</td>\n",
       "      <td>None</td>\n",
       "      <td>None</td>\n",
       "      <td>2017-03-27 07:53:06.971854</td>\n",
       "    </tr>\n",
       "    <tr>\n",
       "      <th>2</th>\n",
       "      <td>285.0</td>\n",
       "      <td>3129800</td>\n",
       "      <td>0</td>\n",
       "      <td>Low</td>\n",
       "      <td>0.13447828904731</td>\n",
       "      <td>0</td>\n",
       "      <td>Very Low</td>\n",
       "      <td>0</td>\n",
       "      <td>None</td>\n",
       "      <td>None</td>\n",
       "      <td>None</td>\n",
       "      <td>2017-03-27 07:53:06.971854</td>\n",
       "    </tr>\n",
       "    <tr>\n",
       "      <th>3</th>\n",
       "      <td>1980.0</td>\n",
       "      <td>3289765</td>\n",
       "      <td>0</td>\n",
       "      <td>Low</td>\n",
       "      <td>0.13447828904731</td>\n",
       "      <td>0</td>\n",
       "      <td>Very Low</td>\n",
       "      <td>0</td>\n",
       "      <td>None</td>\n",
       "      <td>None</td>\n",
       "      <td>None</td>\n",
       "      <td>2017-03-27 07:53:06.971854</td>\n",
       "    </tr>\n",
       "    <tr>\n",
       "      <th>4</th>\n",
       "      <td>1992.0</td>\n",
       "      <td>3325662</td>\n",
       "      <td>0</td>\n",
       "      <td>High</td>\n",
       "      <td>0.751458198314971</td>\n",
       "      <td>31.5437490360638</td>\n",
       "      <td>Very High</td>\n",
       "      <td>82.7284510693454</td>\n",
       "      <td>None</td>\n",
       "      <td>None</td>\n",
       "      <td>None</td>\n",
       "      <td>2017-03-27 07:53:06.971854</td>\n",
       "    </tr>\n",
       "  </tbody>\n",
       "</table>\n",
       "</div>"
      ],
      "text/plain": [
       "       id  cust_id churn engagement      percent_churn              cltv  \\\n",
       "0  2694.0  2942914     0        Low   0.13447828904731                 0   \n",
       "1   787.0  3053432     0  Very High  0.999351911860013   31.329512977429   \n",
       "2   285.0  3129800     0        Low   0.13447828904731                 0   \n",
       "3  1980.0  3289765     0        Low   0.13447828904731                 0   \n",
       "4  1992.0  3325662     0       High  0.751458198314971  31.5437490360638   \n",
       "\n",
       "       value      percent_cltv high_convertor   bio lifestage  \\\n",
       "0   Very Low                 0           None  None      None   \n",
       "1     Medium  74.7569669475049           None  None      None   \n",
       "2   Very Low                 0           None  None      None   \n",
       "3   Very Low                 0           None  None      None   \n",
       "4  Very High  82.7284510693454           None  None      None   \n",
       "\n",
       "      custom_date_identifier  \n",
       "0 2017-03-27 07:53:06.971854  \n",
       "1 2017-03-27 07:53:06.971854  \n",
       "2 2017-03-27 07:53:06.971854  \n",
       "3 2017-03-27 07:53:06.971854  \n",
       "4 2017-03-27 07:53:06.971854  "
      ]
     },
     "execution_count": 8,
     "metadata": {},
     "output_type": "execute_result"
    }
   ],
   "source": [
    "master_table_his.head()"
   ]
  },
  {
   "cell_type": "code",
   "execution_count": 9,
   "metadata": {
    "collapsed": false
   },
   "outputs": [
    {
     "data": {
      "text/html": [
       "<div>\n",
       "<table border=\"1\" class=\"dataframe\">\n",
       "  <thead>\n",
       "    <tr style=\"text-align: right;\">\n",
       "      <th></th>\n",
       "      <th>id</th>\n",
       "      <th>cust_id</th>\n",
       "      <th>churn</th>\n",
       "      <th>engagement</th>\n",
       "      <th>percent_churn</th>\n",
       "      <th>cltv</th>\n",
       "      <th>value</th>\n",
       "      <th>percent_cltv</th>\n",
       "      <th>high_convertor</th>\n",
       "      <th>bio</th>\n",
       "      <th>lifestage</th>\n",
       "      <th>custom_date_identifier</th>\n",
       "    </tr>\n",
       "  </thead>\n",
       "  <tbody>\n",
       "    <tr>\n",
       "      <th>11683</th>\n",
       "      <td>2997.0</td>\n",
       "      <td>6290486</td>\n",
       "      <td>0</td>\n",
       "      <td>High</td>\n",
       "      <td>0.814322747893714</td>\n",
       "      <td>31.5437490360638</td>\n",
       "      <td>Very High</td>\n",
       "      <td>82.7284510693454</td>\n",
       "      <td>None</td>\n",
       "      <td>None</td>\n",
       "      <td>None</td>\n",
       "      <td>2017-03-30 06:21:45.296452</td>\n",
       "    </tr>\n",
       "    <tr>\n",
       "      <th>11684</th>\n",
       "      <td>2996.0</td>\n",
       "      <td>6294852</td>\n",
       "      <td>0</td>\n",
       "      <td>Low</td>\n",
       "      <td>0.13447828904731</td>\n",
       "      <td>0</td>\n",
       "      <td>Very High</td>\n",
       "      <td>0</td>\n",
       "      <td>None</td>\n",
       "      <td>None</td>\n",
       "      <td>None</td>\n",
       "      <td>2017-03-30 06:21:45.296452</td>\n",
       "    </tr>\n",
       "    <tr>\n",
       "      <th>11685</th>\n",
       "      <td>2998.0</td>\n",
       "      <td>6362274</td>\n",
       "      <td>0</td>\n",
       "      <td>Medium</td>\n",
       "      <td>0.465975372650681</td>\n",
       "      <td>0</td>\n",
       "      <td>Very High</td>\n",
       "      <td>0</td>\n",
       "      <td>None</td>\n",
       "      <td>None</td>\n",
       "      <td>None</td>\n",
       "      <td>2017-03-30 06:21:45.296452</td>\n",
       "    </tr>\n",
       "    <tr>\n",
       "      <th>11686</th>\n",
       "      <td>2999.0</td>\n",
       "      <td>6187373</td>\n",
       "      <td>0</td>\n",
       "      <td>Very Low</td>\n",
       "      <td>0</td>\n",
       "      <td>0</td>\n",
       "      <td>Very High</td>\n",
       "      <td>0</td>\n",
       "      <td>None</td>\n",
       "      <td>None</td>\n",
       "      <td>None</td>\n",
       "      <td>2017-03-30 06:21:45.296452</td>\n",
       "    </tr>\n",
       "    <tr>\n",
       "      <th>11687</th>\n",
       "      <td>3000.0</td>\n",
       "      <td>6275564</td>\n",
       "      <td>0</td>\n",
       "      <td>Low</td>\n",
       "      <td>0.13447828904731</td>\n",
       "      <td>0</td>\n",
       "      <td>Very High</td>\n",
       "      <td>0</td>\n",
       "      <td>None</td>\n",
       "      <td>None</td>\n",
       "      <td>None</td>\n",
       "      <td>2017-03-30 06:21:45.296452</td>\n",
       "    </tr>\n",
       "  </tbody>\n",
       "</table>\n",
       "</div>"
      ],
      "text/plain": [
       "           id  cust_id churn engagement      percent_churn              cltv  \\\n",
       "11683  2997.0  6290486     0       High  0.814322747893714  31.5437490360638   \n",
       "11684  2996.0  6294852     0        Low   0.13447828904731                 0   \n",
       "11685  2998.0  6362274     0     Medium  0.465975372650681                 0   \n",
       "11686  2999.0  6187373     0   Very Low                  0                 0   \n",
       "11687  3000.0  6275564     0        Low   0.13447828904731                 0   \n",
       "\n",
       "           value      percent_cltv high_convertor   bio lifestage  \\\n",
       "11683  Very High  82.7284510693454           None  None      None   \n",
       "11684  Very High                 0           None  None      None   \n",
       "11685  Very High                 0           None  None      None   \n",
       "11686  Very High                 0           None  None      None   \n",
       "11687  Very High                 0           None  None      None   \n",
       "\n",
       "          custom_date_identifier  \n",
       "11683 2017-03-30 06:21:45.296452  \n",
       "11684 2017-03-30 06:21:45.296452  \n",
       "11685 2017-03-30 06:21:45.296452  \n",
       "11686 2017-03-30 06:21:45.296452  \n",
       "11687 2017-03-30 06:21:45.296452  "
      ]
     },
     "execution_count": 9,
     "metadata": {},
     "output_type": "execute_result"
    }
   ],
   "source": [
    "master_table_his.tail()"
   ]
  },
  {
   "cell_type": "code",
   "execution_count": 10,
   "metadata": {
    "collapsed": false
   },
   "outputs": [
    {
     "data": {
      "text/plain": [
       "(11688, 12)"
      ]
     },
     "execution_count": 10,
     "metadata": {},
     "output_type": "execute_result"
    }
   ],
   "source": [
    "master_table_his.shape"
   ]
  },
  {
   "cell_type": "code",
   "execution_count": null,
   "metadata": {
    "collapsed": true
   },
   "outputs": [],
   "source": [
    "xyz = master_table_his.groupby(['cust_id', ''])"
   ]
  },
  {
   "cell_type": "code",
   "execution_count": null,
   "metadata": {
    "collapsed": true
   },
   "outputs": [],
   "source": []
  },
  {
   "cell_type": "code",
   "execution_count": null,
   "metadata": {
    "collapsed": true
   },
   "outputs": [],
   "source": []
  },
  {
   "cell_type": "code",
   "execution_count": null,
   "metadata": {
    "collapsed": true
   },
   "outputs": [],
   "source": []
  },
  {
   "cell_type": "code",
   "execution_count": null,
   "metadata": {
    "collapsed": true
   },
   "outputs": [],
   "source": []
  },
  {
   "cell_type": "code",
   "execution_count": null,
   "metadata": {
    "collapsed": true
   },
   "outputs": [],
   "source": []
  },
  {
   "cell_type": "code",
   "execution_count": null,
   "metadata": {
    "collapsed": true
   },
   "outputs": [],
   "source": []
  }
 ],
 "metadata": {
  "kernelspec": {
   "display_name": "Python 2",
   "language": "python",
   "name": "python2"
  },
  "language_info": {
   "codemirror_mode": {
    "name": "ipython",
    "version": 2
   },
   "file_extension": ".py",
   "mimetype": "text/x-python",
   "name": "python",
   "nbconvert_exporter": "python",
   "pygments_lexer": "ipython2",
   "version": "2.7.11"
  }
 },
 "nbformat": 4,
 "nbformat_minor": 0
}
