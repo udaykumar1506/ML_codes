{
 "cells": [
  {
   "cell_type": "code",
   "execution_count": 1,
   "metadata": {
    "collapsed": true
   },
   "outputs": [],
   "source": [
    "from DemoServerDB import ConnectDatabase"
   ]
  },
  {
   "cell_type": "code",
   "execution_count": 2,
   "metadata": {
    "collapsed": true
   },
   "outputs": [],
   "source": [
    "temp = ConnectDatabase()"
   ]
  },
  {
   "cell_type": "code",
   "execution_count": 3,
   "metadata": {
    "collapsed": false
   },
   "outputs": [
    {
     "data": {
      "text/plain": [
       "<connection object at 0x7f429af14910; dsn: 'dbname=postgres_db user=postgres_user password=xxxxx host=developer.tuple-mia.com port=5432 sslmode=require', closed: 0>"
      ]
     },
     "execution_count": 3,
     "metadata": {},
     "output_type": "execute_result"
    }
   ],
   "source": [
    "temp.conn"
   ]
  },
  {
   "cell_type": "code",
   "execution_count": 4,
   "metadata": {
    "collapsed": true
   },
   "outputs": [],
   "source": [
    "query = 'SELECT * from master_table_history'"
   ]
  },
  {
   "cell_type": "code",
   "execution_count": 5,
   "metadata": {
    "collapsed": true
   },
   "outputs": [],
   "source": [
    "import pandas as pd\n",
    "import numpy as np\n",
    "import datetime as dt\n",
    "from datetime import timedelta"
   ]
  },
  {
   "cell_type": "code",
   "execution_count": 6,
   "metadata": {
    "collapsed": true
   },
   "outputs": [],
   "source": [
    "temp.cur.execute(query)"
   ]
  },
  {
   "cell_type": "code",
   "execution_count": 7,
   "metadata": {
    "collapsed": true
   },
   "outputs": [],
   "source": [
    "col_names = [desc[0] for desc in temp.cur.description]"
   ]
  },
  {
   "cell_type": "code",
   "execution_count": 8,
   "metadata": {
    "collapsed": true
   },
   "outputs": [],
   "source": [
    "master_table_his = pd.DataFrame(temp.cur.fetchall(), columns=col_names)"
   ]
  },
  {
   "cell_type": "code",
   "execution_count": 9,
   "metadata": {
    "collapsed": true
   },
   "outputs": [],
   "source": [
    "max_date = master_table_his['custom_date_identifier'].max()"
   ]
  },
  {
   "cell_type": "code",
   "execution_count": 10,
   "metadata": {
    "collapsed": true
   },
   "outputs": [],
   "source": [
    "list_of_indexes_new = np.where(master_table_his['custom_date_identifier'] == max_date)"
   ]
  },
  {
   "cell_type": "code",
   "execution_count": 11,
   "metadata": {
    "collapsed": true
   },
   "outputs": [],
   "source": [
    "new_data = master_table_his.ix[list_of_indexes_new]"
   ]
  },
  {
   "cell_type": "code",
   "execution_count": 12,
   "metadata": {
    "collapsed": true
   },
   "outputs": [],
   "source": [
    "new_data.reset_index(drop=True, inplace=True)"
   ]
  },
  {
   "cell_type": "code",
   "execution_count": 13,
   "metadata": {
    "collapsed": false
   },
   "outputs": [
    {
     "data": {
      "text/html": [
       "<div>\n",
       "<table border=\"1\" class=\"dataframe\">\n",
       "  <thead>\n",
       "    <tr style=\"text-align: right;\">\n",
       "      <th></th>\n",
       "      <th>id</th>\n",
       "      <th>cust_id</th>\n",
       "      <th>churn</th>\n",
       "      <th>engagement</th>\n",
       "      <th>percent_churn</th>\n",
       "      <th>cltv</th>\n",
       "      <th>value</th>\n",
       "      <th>percent_cltv</th>\n",
       "      <th>high_convertor</th>\n",
       "      <th>bio</th>\n",
       "      <th>lifestage</th>\n",
       "      <th>custom_date_identifier</th>\n",
       "    </tr>\n",
       "  </thead>\n",
       "  <tbody>\n",
       "    <tr>\n",
       "      <th>0</th>\n",
       "      <td>702</td>\n",
       "      <td>6358882</td>\n",
       "      <td>None</td>\n",
       "      <td>None</td>\n",
       "      <td>None</td>\n",
       "      <td>None</td>\n",
       "      <td>None</td>\n",
       "      <td>None</td>\n",
       "      <td>High</td>\n",
       "      <td>7</td>\n",
       "      <td>None</td>\n",
       "      <td>2017-04-10 22:00:01.314963</td>\n",
       "    </tr>\n",
       "    <tr>\n",
       "      <th>1</th>\n",
       "      <td>1424</td>\n",
       "      <td>6292710</td>\n",
       "      <td>None</td>\n",
       "      <td>None</td>\n",
       "      <td>None</td>\n",
       "      <td>None</td>\n",
       "      <td>None</td>\n",
       "      <td>None</td>\n",
       "      <td>High</td>\n",
       "      <td>0</td>\n",
       "      <td>None</td>\n",
       "      <td>2017-04-10 22:00:01.314963</td>\n",
       "    </tr>\n",
       "    <tr>\n",
       "      <th>2</th>\n",
       "      <td>2172</td>\n",
       "      <td>6247369</td>\n",
       "      <td>None</td>\n",
       "      <td>None</td>\n",
       "      <td>None</td>\n",
       "      <td>None</td>\n",
       "      <td>None</td>\n",
       "      <td>None</td>\n",
       "      <td>High</td>\n",
       "      <td>2</td>\n",
       "      <td>None</td>\n",
       "      <td>2017-04-10 22:00:01.314963</td>\n",
       "    </tr>\n",
       "    <tr>\n",
       "      <th>3</th>\n",
       "      <td>2294</td>\n",
       "      <td>6181505</td>\n",
       "      <td>None</td>\n",
       "      <td>None</td>\n",
       "      <td>None</td>\n",
       "      <td>None</td>\n",
       "      <td>None</td>\n",
       "      <td>None</td>\n",
       "      <td>High</td>\n",
       "      <td>4</td>\n",
       "      <td>None</td>\n",
       "      <td>2017-04-10 22:00:01.314963</td>\n",
       "    </tr>\n",
       "    <tr>\n",
       "      <th>4</th>\n",
       "      <td>2466</td>\n",
       "      <td>6325984</td>\n",
       "      <td>0</td>\n",
       "      <td>Medium</td>\n",
       "      <td>0.465975372650681</td>\n",
       "      <td>0</td>\n",
       "      <td>Very Low</td>\n",
       "      <td>0</td>\n",
       "      <td>Low</td>\n",
       "      <td>4</td>\n",
       "      <td>Reactivated</td>\n",
       "      <td>2017-04-10 22:00:01.314963</td>\n",
       "    </tr>\n",
       "  </tbody>\n",
       "</table>\n",
       "</div>"
      ],
      "text/plain": [
       "     id  cust_id churn engagement      percent_churn  cltv     value  \\\n",
       "0   702  6358882  None       None               None  None      None   \n",
       "1  1424  6292710  None       None               None  None      None   \n",
       "2  2172  6247369  None       None               None  None      None   \n",
       "3  2294  6181505  None       None               None  None      None   \n",
       "4  2466  6325984     0     Medium  0.465975372650681     0  Very Low   \n",
       "\n",
       "  percent_cltv high_convertor bio    lifestage     custom_date_identifier  \n",
       "0         None           High   7         None 2017-04-10 22:00:01.314963  \n",
       "1         None           High   0         None 2017-04-10 22:00:01.314963  \n",
       "2         None           High   2         None 2017-04-10 22:00:01.314963  \n",
       "3         None           High   4         None 2017-04-10 22:00:01.314963  \n",
       "4            0            Low   4  Reactivated 2017-04-10 22:00:01.314963  "
      ]
     },
     "execution_count": 13,
     "metadata": {},
     "output_type": "execute_result"
    }
   ],
   "source": [
    "new_data.head()"
   ]
  },
  {
   "cell_type": "code",
   "execution_count": 14,
   "metadata": {
    "collapsed": true
   },
   "outputs": [],
   "source": [
    "list_of_indexes_old = np.where(master_table_his['custom_date_identifier'] != max_date)"
   ]
  },
  {
   "cell_type": "code",
   "execution_count": 15,
   "metadata": {
    "collapsed": true
   },
   "outputs": [],
   "source": [
    "old_data = master_table_his.ix[list_of_indexes_old]"
   ]
  },
  {
   "cell_type": "code",
   "execution_count": 16,
   "metadata": {
    "collapsed": false
   },
   "outputs": [
    {
     "data": {
      "text/html": [
       "<div>\n",
       "<table border=\"1\" class=\"dataframe\">\n",
       "  <thead>\n",
       "    <tr style=\"text-align: right;\">\n",
       "      <th></th>\n",
       "      <th>id</th>\n",
       "      <th>cust_id</th>\n",
       "      <th>churn</th>\n",
       "      <th>engagement</th>\n",
       "      <th>percent_churn</th>\n",
       "      <th>cltv</th>\n",
       "      <th>value</th>\n",
       "      <th>percent_cltv</th>\n",
       "      <th>high_convertor</th>\n",
       "      <th>bio</th>\n",
       "      <th>lifestage</th>\n",
       "      <th>custom_date_identifier</th>\n",
       "    </tr>\n",
       "  </thead>\n",
       "  <tbody>\n",
       "    <tr>\n",
       "      <th>0</th>\n",
       "      <td>4764</td>\n",
       "      <td>6151721</td>\n",
       "      <td>None</td>\n",
       "      <td>None</td>\n",
       "      <td>None</td>\n",
       "      <td>None</td>\n",
       "      <td>None</td>\n",
       "      <td>None</td>\n",
       "      <td>High</td>\n",
       "      <td>0</td>\n",
       "      <td>None</td>\n",
       "      <td>2017-04-04 22:00:01.209927</td>\n",
       "    </tr>\n",
       "    <tr>\n",
       "      <th>1</th>\n",
       "      <td>8</td>\n",
       "      <td>6236121</td>\n",
       "      <td>None</td>\n",
       "      <td>None</td>\n",
       "      <td>None</td>\n",
       "      <td>None</td>\n",
       "      <td>None</td>\n",
       "      <td>None</td>\n",
       "      <td>Low</td>\n",
       "      <td>0</td>\n",
       "      <td>None</td>\n",
       "      <td>2017-04-04 22:00:01.209927</td>\n",
       "    </tr>\n",
       "    <tr>\n",
       "      <th>2</th>\n",
       "      <td>6035</td>\n",
       "      <td>6330211</td>\n",
       "      <td>None</td>\n",
       "      <td>None</td>\n",
       "      <td>None</td>\n",
       "      <td>None</td>\n",
       "      <td>None</td>\n",
       "      <td>None</td>\n",
       "      <td>Low</td>\n",
       "      <td>5</td>\n",
       "      <td>None</td>\n",
       "      <td>2017-04-04 22:00:01.209927</td>\n",
       "    </tr>\n",
       "    <tr>\n",
       "      <th>3</th>\n",
       "      <td>3767</td>\n",
       "      <td>6348036</td>\n",
       "      <td>None</td>\n",
       "      <td>None</td>\n",
       "      <td>None</td>\n",
       "      <td>None</td>\n",
       "      <td>None</td>\n",
       "      <td>None</td>\n",
       "      <td>Low</td>\n",
       "      <td>0</td>\n",
       "      <td>None</td>\n",
       "      <td>2017-04-04 22:00:01.209927</td>\n",
       "    </tr>\n",
       "    <tr>\n",
       "      <th>4</th>\n",
       "      <td>4098</td>\n",
       "      <td>6148833</td>\n",
       "      <td>None</td>\n",
       "      <td>None</td>\n",
       "      <td>None</td>\n",
       "      <td>None</td>\n",
       "      <td>None</td>\n",
       "      <td>None</td>\n",
       "      <td>Low</td>\n",
       "      <td>4</td>\n",
       "      <td>None</td>\n",
       "      <td>2017-04-04 22:00:01.209927</td>\n",
       "    </tr>\n",
       "  </tbody>\n",
       "</table>\n",
       "</div>"
      ],
      "text/plain": [
       "     id  cust_id churn engagement percent_churn  cltv value percent_cltv  \\\n",
       "0  4764  6151721  None       None          None  None  None         None   \n",
       "1     8  6236121  None       None          None  None  None         None   \n",
       "2  6035  6330211  None       None          None  None  None         None   \n",
       "3  3767  6348036  None       None          None  None  None         None   \n",
       "4  4098  6148833  None       None          None  None  None         None   \n",
       "\n",
       "  high_convertor bio lifestage     custom_date_identifier  \n",
       "0           High   0      None 2017-04-04 22:00:01.209927  \n",
       "1            Low   0      None 2017-04-04 22:00:01.209927  \n",
       "2            Low   5      None 2017-04-04 22:00:01.209927  \n",
       "3            Low   0      None 2017-04-04 22:00:01.209927  \n",
       "4            Low   4      None 2017-04-04 22:00:01.209927  "
      ]
     },
     "execution_count": 16,
     "metadata": {},
     "output_type": "execute_result"
    }
   ],
   "source": [
    "old_data.head()"
   ]
  },
  {
   "cell_type": "code",
   "execution_count": 17,
   "metadata": {
    "collapsed": false
   },
   "outputs": [],
   "source": [
    "cltv_value_old = old_data[['cltv', 'custom_date_identifier']]"
   ]
  },
  {
   "cell_type": "code",
   "execution_count": 18,
   "metadata": {
    "collapsed": false
   },
   "outputs": [
    {
     "data": {
      "text/html": [
       "<div>\n",
       "<table border=\"1\" class=\"dataframe\">\n",
       "  <thead>\n",
       "    <tr style=\"text-align: right;\">\n",
       "      <th></th>\n",
       "      <th>cltv</th>\n",
       "      <th>custom_date_identifier</th>\n",
       "    </tr>\n",
       "  </thead>\n",
       "  <tbody>\n",
       "    <tr>\n",
       "      <th>0</th>\n",
       "      <td>None</td>\n",
       "      <td>2017-04-04 22:00:01.209927</td>\n",
       "    </tr>\n",
       "    <tr>\n",
       "      <th>1</th>\n",
       "      <td>None</td>\n",
       "      <td>2017-04-04 22:00:01.209927</td>\n",
       "    </tr>\n",
       "    <tr>\n",
       "      <th>2</th>\n",
       "      <td>None</td>\n",
       "      <td>2017-04-04 22:00:01.209927</td>\n",
       "    </tr>\n",
       "    <tr>\n",
       "      <th>3</th>\n",
       "      <td>None</td>\n",
       "      <td>2017-04-04 22:00:01.209927</td>\n",
       "    </tr>\n",
       "    <tr>\n",
       "      <th>4</th>\n",
       "      <td>None</td>\n",
       "      <td>2017-04-04 22:00:01.209927</td>\n",
       "    </tr>\n",
       "  </tbody>\n",
       "</table>\n",
       "</div>"
      ],
      "text/plain": [
       "   cltv     custom_date_identifier\n",
       "0  None 2017-04-04 22:00:01.209927\n",
       "1  None 2017-04-04 22:00:01.209927\n",
       "2  None 2017-04-04 22:00:01.209927\n",
       "3  None 2017-04-04 22:00:01.209927\n",
       "4  None 2017-04-04 22:00:01.209927"
      ]
     },
     "execution_count": 18,
     "metadata": {},
     "output_type": "execute_result"
    }
   ],
   "source": [
    "cltv_value_old.head()"
   ]
  },
  {
   "cell_type": "code",
   "execution_count": 19,
   "metadata": {
    "collapsed": false
   },
   "outputs": [],
   "source": [
    "old_cltv_sum = cltv_value_old.groupby('custom_date_identifier').sum().reset_index()"
   ]
  },
  {
   "cell_type": "code",
   "execution_count": 20,
   "metadata": {
    "collapsed": false
   },
   "outputs": [
    {
     "data": {
      "text/html": [
       "<div>\n",
       "<table border=\"1\" class=\"dataframe\">\n",
       "  <thead>\n",
       "    <tr style=\"text-align: right;\">\n",
       "      <th></th>\n",
       "      <th>custom_date_identifier</th>\n",
       "      <th>cltv</th>\n",
       "    </tr>\n",
       "  </thead>\n",
       "  <tbody>\n",
       "    <tr>\n",
       "      <th>0</th>\n",
       "      <td>2017-04-04 22:00:01.209927</td>\n",
       "      <td>26816.3279244758916</td>\n",
       "    </tr>\n",
       "    <tr>\n",
       "      <th>1</th>\n",
       "      <td>2017-04-05 22:00:01.278206</td>\n",
       "      <td>NaN</td>\n",
       "    </tr>\n",
       "    <tr>\n",
       "      <th>2</th>\n",
       "      <td>2017-04-06 22:00:01.169862</td>\n",
       "      <td>NaN</td>\n",
       "    </tr>\n",
       "    <tr>\n",
       "      <th>3</th>\n",
       "      <td>2017-04-07 22:00:01.551212</td>\n",
       "      <td>0</td>\n",
       "    </tr>\n",
       "  </tbody>\n",
       "</table>\n",
       "</div>"
      ],
      "text/plain": [
       "      custom_date_identifier                 cltv\n",
       "0 2017-04-04 22:00:01.209927  26816.3279244758916\n",
       "1 2017-04-05 22:00:01.278206                  NaN\n",
       "2 2017-04-06 22:00:01.169862                  NaN\n",
       "3 2017-04-07 22:00:01.551212                    0"
      ]
     },
     "execution_count": 20,
     "metadata": {},
     "output_type": "execute_result"
    }
   ],
   "source": [
    "old_cltv_sum"
   ]
  },
  {
   "cell_type": "code",
   "execution_count": 21,
   "metadata": {
    "collapsed": false
   },
   "outputs": [],
   "source": [
    "old_cltv_count = cltv_value_old.groupby('custom_date_identifier').count().reset_index()"
   ]
  },
  {
   "cell_type": "code",
   "execution_count": 22,
   "metadata": {
    "collapsed": false
   },
   "outputs": [
    {
     "data": {
      "text/html": [
       "<div>\n",
       "<table border=\"1\" class=\"dataframe\">\n",
       "  <thead>\n",
       "    <tr style=\"text-align: right;\">\n",
       "      <th></th>\n",
       "      <th>custom_date_identifier</th>\n",
       "      <th>cltv</th>\n",
       "    </tr>\n",
       "  </thead>\n",
       "  <tbody>\n",
       "    <tr>\n",
       "      <th>0</th>\n",
       "      <td>2017-04-04 22:00:01.209927</td>\n",
       "      <td>3087</td>\n",
       "    </tr>\n",
       "    <tr>\n",
       "      <th>1</th>\n",
       "      <td>2017-04-05 22:00:01.278206</td>\n",
       "      <td>0</td>\n",
       "    </tr>\n",
       "    <tr>\n",
       "      <th>2</th>\n",
       "      <td>2017-04-06 22:00:01.169862</td>\n",
       "      <td>0</td>\n",
       "    </tr>\n",
       "    <tr>\n",
       "      <th>3</th>\n",
       "      <td>2017-04-07 22:00:01.551212</td>\n",
       "      <td>1</td>\n",
       "    </tr>\n",
       "  </tbody>\n",
       "</table>\n",
       "</div>"
      ],
      "text/plain": [
       "      custom_date_identifier  cltv\n",
       "0 2017-04-04 22:00:01.209927  3087\n",
       "1 2017-04-05 22:00:01.278206     0\n",
       "2 2017-04-06 22:00:01.169862     0\n",
       "3 2017-04-07 22:00:01.551212     1"
      ]
     },
     "execution_count": 22,
     "metadata": {},
     "output_type": "execute_result"
    }
   ],
   "source": [
    "old_cltv_count"
   ]
  },
  {
   "cell_type": "code",
   "execution_count": 23,
   "metadata": {
    "collapsed": true
   },
   "outputs": [],
   "source": [
    "old_cltv_avrg = old_cltv_sum.merge(old_cltv_count, on='custom_date_identifier')"
   ]
  },
  {
   "cell_type": "code",
   "execution_count": 24,
   "metadata": {
    "collapsed": false
   },
   "outputs": [
    {
     "data": {
      "text/html": [
       "<div>\n",
       "<table border=\"1\" class=\"dataframe\">\n",
       "  <thead>\n",
       "    <tr style=\"text-align: right;\">\n",
       "      <th></th>\n",
       "      <th>custom_date_identifier</th>\n",
       "      <th>cltv_x</th>\n",
       "      <th>cltv_y</th>\n",
       "    </tr>\n",
       "  </thead>\n",
       "  <tbody>\n",
       "    <tr>\n",
       "      <th>0</th>\n",
       "      <td>2017-04-04 22:00:01.209927</td>\n",
       "      <td>26816.3279244758916</td>\n",
       "      <td>3087</td>\n",
       "    </tr>\n",
       "    <tr>\n",
       "      <th>1</th>\n",
       "      <td>2017-04-05 22:00:01.278206</td>\n",
       "      <td>NaN</td>\n",
       "      <td>0</td>\n",
       "    </tr>\n",
       "    <tr>\n",
       "      <th>2</th>\n",
       "      <td>2017-04-06 22:00:01.169862</td>\n",
       "      <td>NaN</td>\n",
       "      <td>0</td>\n",
       "    </tr>\n",
       "    <tr>\n",
       "      <th>3</th>\n",
       "      <td>2017-04-07 22:00:01.551212</td>\n",
       "      <td>0</td>\n",
       "      <td>1</td>\n",
       "    </tr>\n",
       "  </tbody>\n",
       "</table>\n",
       "</div>"
      ],
      "text/plain": [
       "      custom_date_identifier               cltv_x  cltv_y\n",
       "0 2017-04-04 22:00:01.209927  26816.3279244758916    3087\n",
       "1 2017-04-05 22:00:01.278206                  NaN       0\n",
       "2 2017-04-06 22:00:01.169862                  NaN       0\n",
       "3 2017-04-07 22:00:01.551212                    0       1"
      ]
     },
     "execution_count": 24,
     "metadata": {},
     "output_type": "execute_result"
    }
   ],
   "source": [
    "old_cltv_avrg"
   ]
  },
  {
   "cell_type": "code",
   "execution_count": 25,
   "metadata": {
    "collapsed": false
   },
   "outputs": [
    {
     "data": {
      "text/plain": [
       "custom_date_identifier    datetime64[ns]\n",
       "cltv_x                            object\n",
       "cltv_y                             int64\n",
       "dtype: object"
      ]
     },
     "execution_count": 25,
     "metadata": {},
     "output_type": "execute_result"
    }
   ],
   "source": [
    "old_cltv_avrg.dtypes"
   ]
  },
  {
   "cell_type": "code",
   "execution_count": 26,
   "metadata": {
    "collapsed": false
   },
   "outputs": [],
   "source": [
    "old_cltv_avrg.cltv_x = old_cltv_avrg.cltv_x.astype('float64', raise_on_error = False)\n",
    "old_cltv_avrg.cltv_y = old_cltv_avrg.cltv_y.astype('float64', raise_on_error = False)"
   ]
  },
  {
   "cell_type": "code",
   "execution_count": 27,
   "metadata": {
    "collapsed": false
   },
   "outputs": [
    {
     "data": {
      "text/plain": [
       "custom_date_identifier    datetime64[ns]\n",
       "cltv_x                           float64\n",
       "cltv_y                           float64\n",
       "dtype: object"
      ]
     },
     "execution_count": 27,
     "metadata": {},
     "output_type": "execute_result"
    }
   ],
   "source": [
    "old_cltv_avrg.dtypes"
   ]
  },
  {
   "cell_type": "code",
   "execution_count": 28,
   "metadata": {
    "collapsed": false
   },
   "outputs": [],
   "source": [
    "old_cltv_avrg['average_cltv'] = old_cltv_avrg.cltv_x / old_cltv_avrg.cltv_y.replace({ 0 : np.nan })"
   ]
  },
  {
   "cell_type": "code",
   "execution_count": 29,
   "metadata": {
    "collapsed": false
   },
   "outputs": [
    {
     "data": {
      "text/html": [
       "<div>\n",
       "<table border=\"1\" class=\"dataframe\">\n",
       "  <thead>\n",
       "    <tr style=\"text-align: right;\">\n",
       "      <th></th>\n",
       "      <th>custom_date_identifier</th>\n",
       "      <th>cltv_x</th>\n",
       "      <th>cltv_y</th>\n",
       "      <th>average_cltv</th>\n",
       "    </tr>\n",
       "  </thead>\n",
       "  <tbody>\n",
       "    <tr>\n",
       "      <th>0</th>\n",
       "      <td>2017-04-04 22:00:01.209927</td>\n",
       "      <td>26816.327924</td>\n",
       "      <td>3087.0</td>\n",
       "      <td>8.686857</td>\n",
       "    </tr>\n",
       "    <tr>\n",
       "      <th>1</th>\n",
       "      <td>2017-04-05 22:00:01.278206</td>\n",
       "      <td>NaN</td>\n",
       "      <td>0.0</td>\n",
       "      <td>NaN</td>\n",
       "    </tr>\n",
       "    <tr>\n",
       "      <th>2</th>\n",
       "      <td>2017-04-06 22:00:01.169862</td>\n",
       "      <td>NaN</td>\n",
       "      <td>0.0</td>\n",
       "      <td>NaN</td>\n",
       "    </tr>\n",
       "    <tr>\n",
       "      <th>3</th>\n",
       "      <td>2017-04-07 22:00:01.551212</td>\n",
       "      <td>0.000000</td>\n",
       "      <td>1.0</td>\n",
       "      <td>0.000000</td>\n",
       "    </tr>\n",
       "  </tbody>\n",
       "</table>\n",
       "</div>"
      ],
      "text/plain": [
       "      custom_date_identifier        cltv_x  cltv_y  average_cltv\n",
       "0 2017-04-04 22:00:01.209927  26816.327924  3087.0      8.686857\n",
       "1 2017-04-05 22:00:01.278206           NaN     0.0           NaN\n",
       "2 2017-04-06 22:00:01.169862           NaN     0.0           NaN\n",
       "3 2017-04-07 22:00:01.551212      0.000000     1.0      0.000000"
      ]
     },
     "execution_count": 29,
     "metadata": {},
     "output_type": "execute_result"
    }
   ],
   "source": [
    "old_cltv_avrg"
   ]
  },
  {
   "cell_type": "code",
   "execution_count": 30,
   "metadata": {
    "collapsed": true
   },
   "outputs": [],
   "source": [
    "cltv_value_new = new_data[['cltv', 'custom_date_identifier']]"
   ]
  },
  {
   "cell_type": "code",
   "execution_count": 31,
   "metadata": {
    "collapsed": false
   },
   "outputs": [
    {
     "data": {
      "text/html": [
       "<div>\n",
       "<table border=\"1\" class=\"dataframe\">\n",
       "  <thead>\n",
       "    <tr style=\"text-align: right;\">\n",
       "      <th></th>\n",
       "      <th>cltv</th>\n",
       "      <th>custom_date_identifier</th>\n",
       "    </tr>\n",
       "  </thead>\n",
       "  <tbody>\n",
       "    <tr>\n",
       "      <th>0</th>\n",
       "      <td>None</td>\n",
       "      <td>2017-04-10 22:00:01.314963</td>\n",
       "    </tr>\n",
       "    <tr>\n",
       "      <th>1</th>\n",
       "      <td>None</td>\n",
       "      <td>2017-04-10 22:00:01.314963</td>\n",
       "    </tr>\n",
       "    <tr>\n",
       "      <th>2</th>\n",
       "      <td>None</td>\n",
       "      <td>2017-04-10 22:00:01.314963</td>\n",
       "    </tr>\n",
       "    <tr>\n",
       "      <th>3</th>\n",
       "      <td>None</td>\n",
       "      <td>2017-04-10 22:00:01.314963</td>\n",
       "    </tr>\n",
       "    <tr>\n",
       "      <th>4</th>\n",
       "      <td>0</td>\n",
       "      <td>2017-04-10 22:00:01.314963</td>\n",
       "    </tr>\n",
       "    <tr>\n",
       "      <th>5</th>\n",
       "      <td>0</td>\n",
       "      <td>2017-04-10 22:00:01.314963</td>\n",
       "    </tr>\n",
       "    <tr>\n",
       "      <th>6</th>\n",
       "      <td>None</td>\n",
       "      <td>2017-04-10 22:00:01.314963</td>\n",
       "    </tr>\n",
       "    <tr>\n",
       "      <th>7</th>\n",
       "      <td>0</td>\n",
       "      <td>2017-04-10 22:00:01.314963</td>\n",
       "    </tr>\n",
       "    <tr>\n",
       "      <th>8</th>\n",
       "      <td>31.5437490360638</td>\n",
       "      <td>2017-04-10 22:00:01.314963</td>\n",
       "    </tr>\n",
       "  </tbody>\n",
       "</table>\n",
       "</div>"
      ],
      "text/plain": [
       "               cltv     custom_date_identifier\n",
       "0              None 2017-04-10 22:00:01.314963\n",
       "1              None 2017-04-10 22:00:01.314963\n",
       "2              None 2017-04-10 22:00:01.314963\n",
       "3              None 2017-04-10 22:00:01.314963\n",
       "4                 0 2017-04-10 22:00:01.314963\n",
       "5                 0 2017-04-10 22:00:01.314963\n",
       "6              None 2017-04-10 22:00:01.314963\n",
       "7                 0 2017-04-10 22:00:01.314963\n",
       "8  31.5437490360638 2017-04-10 22:00:01.314963"
      ]
     },
     "execution_count": 31,
     "metadata": {},
     "output_type": "execute_result"
    }
   ],
   "source": [
    "cltv_value_new"
   ]
  },
  {
   "cell_type": "code",
   "execution_count": 32,
   "metadata": {
    "collapsed": true
   },
   "outputs": [],
   "source": [
    "new_cltv_sum = cltv_value_new.groupby('custom_date_identifier').sum().reset_index()"
   ]
  },
  {
   "cell_type": "code",
   "execution_count": 33,
   "metadata": {
    "collapsed": true
   },
   "outputs": [],
   "source": [
    "new_cltv_count = cltv_value_new.groupby('custom_date_identifier').count().reset_index()"
   ]
  },
  {
   "cell_type": "code",
   "execution_count": 34,
   "metadata": {
    "collapsed": true
   },
   "outputs": [],
   "source": [
    "new_cltv_avrg = new_cltv_sum.merge(new_cltv_count, on='custom_date_identifier')"
   ]
  },
  {
   "cell_type": "code",
   "execution_count": 35,
   "metadata": {
    "collapsed": true
   },
   "outputs": [],
   "source": [
    "new_cltv_avrg.cltv_x = new_cltv_avrg.cltv_x.astype('float64', raise_on_error = False)\n",
    "new_cltv_avrg.cltv_y = new_cltv_avrg.cltv_y.astype('float64', raise_on_error = False)"
   ]
  },
  {
   "cell_type": "code",
   "execution_count": 36,
   "metadata": {
    "collapsed": true
   },
   "outputs": [],
   "source": [
    "new_cltv_avrg['average_cltv'] = new_cltv_avrg.cltv_x / new_cltv_avrg.cltv_y.replace({ 0 : np.nan })"
   ]
  },
  {
   "cell_type": "code",
   "execution_count": 37,
   "metadata": {
    "collapsed": false
   },
   "outputs": [
    {
     "data": {
      "text/html": [
       "<div>\n",
       "<table border=\"1\" class=\"dataframe\">\n",
       "  <thead>\n",
       "    <tr style=\"text-align: right;\">\n",
       "      <th></th>\n",
       "      <th>custom_date_identifier</th>\n",
       "      <th>cltv_x</th>\n",
       "      <th>cltv_y</th>\n",
       "      <th>average_cltv</th>\n",
       "    </tr>\n",
       "  </thead>\n",
       "  <tbody>\n",
       "    <tr>\n",
       "      <th>0</th>\n",
       "      <td>2017-04-10 22:00:01.314963</td>\n",
       "      <td>31.543749</td>\n",
       "      <td>4.0</td>\n",
       "      <td>7.885937</td>\n",
       "    </tr>\n",
       "  </tbody>\n",
       "</table>\n",
       "</div>"
      ],
      "text/plain": [
       "      custom_date_identifier     cltv_x  cltv_y  average_cltv\n",
       "0 2017-04-10 22:00:01.314963  31.543749     4.0      7.885937"
      ]
     },
     "execution_count": 37,
     "metadata": {},
     "output_type": "execute_result"
    }
   ],
   "source": [
    "new_cltv_avrg"
   ]
  },
  {
   "cell_type": "code",
   "execution_count": 38,
   "metadata": {
    "collapsed": false
   },
   "outputs": [
    {
     "data": {
      "text/html": [
       "<div>\n",
       "<table border=\"1\" class=\"dataframe\">\n",
       "  <thead>\n",
       "    <tr style=\"text-align: right;\">\n",
       "      <th></th>\n",
       "      <th>custom_date_identifier</th>\n",
       "      <th>cltv_x</th>\n",
       "      <th>cltv_y</th>\n",
       "      <th>average_cltv</th>\n",
       "    </tr>\n",
       "  </thead>\n",
       "  <tbody>\n",
       "    <tr>\n",
       "      <th>0</th>\n",
       "      <td>2017-04-04 22:00:01.209927</td>\n",
       "      <td>26816.327924</td>\n",
       "      <td>3087.0</td>\n",
       "      <td>8.686857</td>\n",
       "    </tr>\n",
       "    <tr>\n",
       "      <th>1</th>\n",
       "      <td>2017-04-05 22:00:01.278206</td>\n",
       "      <td>NaN</td>\n",
       "      <td>0.0</td>\n",
       "      <td>NaN</td>\n",
       "    </tr>\n",
       "    <tr>\n",
       "      <th>2</th>\n",
       "      <td>2017-04-06 22:00:01.169862</td>\n",
       "      <td>NaN</td>\n",
       "      <td>0.0</td>\n",
       "      <td>NaN</td>\n",
       "    </tr>\n",
       "    <tr>\n",
       "      <th>3</th>\n",
       "      <td>2017-04-07 22:00:01.551212</td>\n",
       "      <td>0.000000</td>\n",
       "      <td>1.0</td>\n",
       "      <td>0.000000</td>\n",
       "    </tr>\n",
       "  </tbody>\n",
       "</table>\n",
       "</div>"
      ],
      "text/plain": [
       "      custom_date_identifier        cltv_x  cltv_y  average_cltv\n",
       "0 2017-04-04 22:00:01.209927  26816.327924  3087.0      8.686857\n",
       "1 2017-04-05 22:00:01.278206           NaN     0.0           NaN\n",
       "2 2017-04-06 22:00:01.169862           NaN     0.0           NaN\n",
       "3 2017-04-07 22:00:01.551212      0.000000     1.0      0.000000"
      ]
     },
     "execution_count": 38,
     "metadata": {},
     "output_type": "execute_result"
    }
   ],
   "source": [
    "old_cltv_avrg"
   ]
  },
  {
   "cell_type": "markdown",
   "metadata": {
    "collapsed": true
   },
   "source": [
    "Average CLTV for last week is *** and increased/decreased by *** over previous week"
   ]
  },
  {
   "cell_type": "code",
   "execution_count": 40,
   "metadata": {
    "collapsed": false
   },
   "outputs": [],
   "source": [
    "Nutshell_1 = \"Average CLTV for last week is {value1}$ and {value2} by {value3}$ over previous week\".format(value1 = int(round(new_cltv_avrg.average_cltv.sum())), value2 = \"increased\" if int(round(new_cltv_avrg.average_cltv.sum())) > int(round(old_cltv_avrg.average_cltv.sum())) else \"decreased\", value3 = abs((int(round(new_cltv_avrg.average_cltv.sum())) - int(round(old_cltv_avrg.average_cltv.sum())))))"
   ]
  },
  {
   "cell_type": "code",
   "execution_count": 41,
   "metadata": {
    "collapsed": false
   },
   "outputs": [
    {
     "data": {
      "text/plain": [
       "'Average CLTV for last week is 8$ and decreased by 1$ over previous week'"
      ]
     },
     "execution_count": 41,
     "metadata": {},
     "output_type": "execute_result"
    }
   ],
   "source": [
    "Nutshell_1"
   ]
  },
  {
   "cell_type": "code",
   "execution_count": 42,
   "metadata": {
    "collapsed": false
   },
   "outputs": [
    {
     "data": {
      "text/html": [
       "<div>\n",
       "<table border=\"1\" class=\"dataframe\">\n",
       "  <thead>\n",
       "    <tr style=\"text-align: right;\">\n",
       "      <th></th>\n",
       "      <th>id</th>\n",
       "      <th>cust_id</th>\n",
       "      <th>churn</th>\n",
       "      <th>engagement</th>\n",
       "      <th>percent_churn</th>\n",
       "      <th>cltv</th>\n",
       "      <th>value</th>\n",
       "      <th>percent_cltv</th>\n",
       "      <th>high_convertor</th>\n",
       "      <th>bio</th>\n",
       "      <th>lifestage</th>\n",
       "      <th>custom_date_identifier</th>\n",
       "    </tr>\n",
       "  </thead>\n",
       "  <tbody>\n",
       "    <tr>\n",
       "      <th>0</th>\n",
       "      <td>4764</td>\n",
       "      <td>6151721</td>\n",
       "      <td>None</td>\n",
       "      <td>None</td>\n",
       "      <td>None</td>\n",
       "      <td>None</td>\n",
       "      <td>None</td>\n",
       "      <td>None</td>\n",
       "      <td>High</td>\n",
       "      <td>0</td>\n",
       "      <td>None</td>\n",
       "      <td>2017-04-04 22:00:01.209927</td>\n",
       "    </tr>\n",
       "    <tr>\n",
       "      <th>1</th>\n",
       "      <td>8</td>\n",
       "      <td>6236121</td>\n",
       "      <td>None</td>\n",
       "      <td>None</td>\n",
       "      <td>None</td>\n",
       "      <td>None</td>\n",
       "      <td>None</td>\n",
       "      <td>None</td>\n",
       "      <td>Low</td>\n",
       "      <td>0</td>\n",
       "      <td>None</td>\n",
       "      <td>2017-04-04 22:00:01.209927</td>\n",
       "    </tr>\n",
       "    <tr>\n",
       "      <th>2</th>\n",
       "      <td>6035</td>\n",
       "      <td>6330211</td>\n",
       "      <td>None</td>\n",
       "      <td>None</td>\n",
       "      <td>None</td>\n",
       "      <td>None</td>\n",
       "      <td>None</td>\n",
       "      <td>None</td>\n",
       "      <td>Low</td>\n",
       "      <td>5</td>\n",
       "      <td>None</td>\n",
       "      <td>2017-04-04 22:00:01.209927</td>\n",
       "    </tr>\n",
       "    <tr>\n",
       "      <th>3</th>\n",
       "      <td>3767</td>\n",
       "      <td>6348036</td>\n",
       "      <td>None</td>\n",
       "      <td>None</td>\n",
       "      <td>None</td>\n",
       "      <td>None</td>\n",
       "      <td>None</td>\n",
       "      <td>None</td>\n",
       "      <td>Low</td>\n",
       "      <td>0</td>\n",
       "      <td>None</td>\n",
       "      <td>2017-04-04 22:00:01.209927</td>\n",
       "    </tr>\n",
       "    <tr>\n",
       "      <th>4</th>\n",
       "      <td>4098</td>\n",
       "      <td>6148833</td>\n",
       "      <td>None</td>\n",
       "      <td>None</td>\n",
       "      <td>None</td>\n",
       "      <td>None</td>\n",
       "      <td>None</td>\n",
       "      <td>None</td>\n",
       "      <td>Low</td>\n",
       "      <td>4</td>\n",
       "      <td>None</td>\n",
       "      <td>2017-04-04 22:00:01.209927</td>\n",
       "    </tr>\n",
       "  </tbody>\n",
       "</table>\n",
       "</div>"
      ],
      "text/plain": [
       "     id  cust_id churn engagement percent_churn  cltv value percent_cltv  \\\n",
       "0  4764  6151721  None       None          None  None  None         None   \n",
       "1     8  6236121  None       None          None  None  None         None   \n",
       "2  6035  6330211  None       None          None  None  None         None   \n",
       "3  3767  6348036  None       None          None  None  None         None   \n",
       "4  4098  6148833  None       None          None  None  None         None   \n",
       "\n",
       "  high_convertor bio lifestage     custom_date_identifier  \n",
       "0           High   0      None 2017-04-04 22:00:01.209927  \n",
       "1            Low   0      None 2017-04-04 22:00:01.209927  \n",
       "2            Low   5      None 2017-04-04 22:00:01.209927  \n",
       "3            Low   0      None 2017-04-04 22:00:01.209927  \n",
       "4            Low   4      None 2017-04-04 22:00:01.209927  "
      ]
     },
     "execution_count": 42,
     "metadata": {},
     "output_type": "execute_result"
    }
   ],
   "source": [
    "master_table_his.head()"
   ]
  },
  {
   "cell_type": "code",
   "execution_count": 64,
   "metadata": {
    "collapsed": true
   },
   "outputs": [],
   "source": [
    "val_eng_current = master_table_his[['cust_id','engagement', 'value', 'custom_date_identifier']]"
   ]
  },
  {
   "cell_type": "code",
   "execution_count": 65,
   "metadata": {
    "collapsed": false
   },
   "outputs": [
    {
     "data": {
      "text/html": [
       "<div>\n",
       "<table border=\"1\" class=\"dataframe\">\n",
       "  <thead>\n",
       "    <tr style=\"text-align: right;\">\n",
       "      <th></th>\n",
       "      <th>cust_id</th>\n",
       "      <th>engagement</th>\n",
       "      <th>value</th>\n",
       "      <th>custom_date_identifier</th>\n",
       "    </tr>\n",
       "  </thead>\n",
       "  <tbody>\n",
       "    <tr>\n",
       "      <th>0</th>\n",
       "      <td>6151721</td>\n",
       "      <td>None</td>\n",
       "      <td>None</td>\n",
       "      <td>2017-04-04 22:00:01.209927</td>\n",
       "    </tr>\n",
       "    <tr>\n",
       "      <th>1</th>\n",
       "      <td>6236121</td>\n",
       "      <td>None</td>\n",
       "      <td>None</td>\n",
       "      <td>2017-04-04 22:00:01.209927</td>\n",
       "    </tr>\n",
       "    <tr>\n",
       "      <th>2</th>\n",
       "      <td>6330211</td>\n",
       "      <td>None</td>\n",
       "      <td>None</td>\n",
       "      <td>2017-04-04 22:00:01.209927</td>\n",
       "    </tr>\n",
       "    <tr>\n",
       "      <th>3</th>\n",
       "      <td>6348036</td>\n",
       "      <td>None</td>\n",
       "      <td>None</td>\n",
       "      <td>2017-04-04 22:00:01.209927</td>\n",
       "    </tr>\n",
       "    <tr>\n",
       "      <th>4</th>\n",
       "      <td>6148833</td>\n",
       "      <td>None</td>\n",
       "      <td>None</td>\n",
       "      <td>2017-04-04 22:00:01.209927</td>\n",
       "    </tr>\n",
       "  </tbody>\n",
       "</table>\n",
       "</div>"
      ],
      "text/plain": [
       "   cust_id engagement value     custom_date_identifier\n",
       "0  6151721       None  None 2017-04-04 22:00:01.209927\n",
       "1  6236121       None  None 2017-04-04 22:00:01.209927\n",
       "2  6330211       None  None 2017-04-04 22:00:01.209927\n",
       "3  6348036       None  None 2017-04-04 22:00:01.209927\n",
       "4  6148833       None  None 2017-04-04 22:00:01.209927"
      ]
     },
     "execution_count": 65,
     "metadata": {},
     "output_type": "execute_result"
    }
   ],
   "source": [
    "val_eng_current.head()"
   ]
  },
  {
   "cell_type": "code",
   "execution_count": 66,
   "metadata": {
    "collapsed": true
   },
   "outputs": [],
   "source": [
    "xyz = val_eng_current.query('value == \"Very Low\"')"
   ]
  },
  {
   "cell_type": "code",
   "execution_count": 70,
   "metadata": {
    "collapsed": false
   },
   "outputs": [
    {
     "data": {
      "text/html": [
       "<div>\n",
       "<table border=\"1\" class=\"dataframe\">\n",
       "  <thead>\n",
       "    <tr style=\"text-align: right;\">\n",
       "      <th></th>\n",
       "      <th>cust_id</th>\n",
       "      <th>engagement</th>\n",
       "      <th>value</th>\n",
       "      <th>custom_date_identifier</th>\n",
       "    </tr>\n",
       "  </thead>\n",
       "  <tbody>\n",
       "    <tr>\n",
       "      <th>3986</th>\n",
       "      <td>2942914</td>\n",
       "      <td>Low</td>\n",
       "      <td>Very Low</td>\n",
       "      <td>2017-04-04 22:00:01.209927</td>\n",
       "    </tr>\n",
       "    <tr>\n",
       "      <th>3988</th>\n",
       "      <td>3129800</td>\n",
       "      <td>Low</td>\n",
       "      <td>Very Low</td>\n",
       "      <td>2017-04-04 22:00:01.209927</td>\n",
       "    </tr>\n",
       "    <tr>\n",
       "      <th>3989</th>\n",
       "      <td>3289765</td>\n",
       "      <td>Low</td>\n",
       "      <td>Very Low</td>\n",
       "      <td>2017-04-04 22:00:01.209927</td>\n",
       "    </tr>\n",
       "    <tr>\n",
       "      <th>3995</th>\n",
       "      <td>6148771</td>\n",
       "      <td>Low</td>\n",
       "      <td>Very Low</td>\n",
       "      <td>2017-04-04 22:00:01.209927</td>\n",
       "    </tr>\n",
       "    <tr>\n",
       "      <th>3996</th>\n",
       "      <td>6148794</td>\n",
       "      <td>Very Low</td>\n",
       "      <td>Very Low</td>\n",
       "      <td>2017-04-04 22:00:01.209927</td>\n",
       "    </tr>\n",
       "  </tbody>\n",
       "</table>\n",
       "</div>"
      ],
      "text/plain": [
       "      cust_id engagement     value     custom_date_identifier\n",
       "3986  2942914        Low  Very Low 2017-04-04 22:00:01.209927\n",
       "3988  3129800        Low  Very Low 2017-04-04 22:00:01.209927\n",
       "3989  3289765        Low  Very Low 2017-04-04 22:00:01.209927\n",
       "3995  6148771        Low  Very Low 2017-04-04 22:00:01.209927\n",
       "3996  6148794   Very Low  Very Low 2017-04-04 22:00:01.209927"
      ]
     },
     "execution_count": 70,
     "metadata": {},
     "output_type": "execute_result"
    }
   ],
   "source": [
    "xyz.head()"
   ]
  },
  {
   "cell_type": "code",
   "execution_count": 69,
   "metadata": {
    "collapsed": false
   },
   "outputs": [
    {
     "data": {
      "text/html": [
       "<div>\n",
       "<table border=\"1\" class=\"dataframe\">\n",
       "  <thead>\n",
       "    <tr style=\"text-align: right;\">\n",
       "      <th></th>\n",
       "      <th>cust_id</th>\n",
       "      <th>engagement</th>\n",
       "      <th>value</th>\n",
       "      <th>custom_date_identifier</th>\n",
       "    </tr>\n",
       "  </thead>\n",
       "  <tbody>\n",
       "  </tbody>\n",
       "</table>\n",
       "</div>"
      ],
      "text/plain": [
       "Empty DataFrame\n",
       "Columns: [cust_id, engagement, value, custom_date_identifier]\n",
       "Index: []"
      ]
     },
     "execution_count": 69,
     "metadata": {},
     "output_type": "execute_result"
    }
   ],
   "source": [
    "xyz.query('engagement == \"High\"')"
   ]
  },
  {
   "cell_type": "code",
   "execution_count": 73,
   "metadata": {
    "collapsed": true
   },
   "outputs": [],
   "source": [
    "value_old = old_data[['cust_id','custom_date_identifier','value']]"
   ]
  },
  {
   "cell_type": "code",
   "execution_count": 74,
   "metadata": {
    "collapsed": false
   },
   "outputs": [
    {
     "data": {
      "text/html": [
       "<div>\n",
       "<table border=\"1\" class=\"dataframe\">\n",
       "  <thead>\n",
       "    <tr style=\"text-align: right;\">\n",
       "      <th></th>\n",
       "      <th>cust_id</th>\n",
       "      <th>custom_date_identifier</th>\n",
       "      <th>value</th>\n",
       "    </tr>\n",
       "  </thead>\n",
       "  <tbody>\n",
       "    <tr>\n",
       "      <th>0</th>\n",
       "      <td>6151721</td>\n",
       "      <td>2017-04-04 22:00:01.209927</td>\n",
       "      <td>None</td>\n",
       "    </tr>\n",
       "    <tr>\n",
       "      <th>1</th>\n",
       "      <td>6236121</td>\n",
       "      <td>2017-04-04 22:00:01.209927</td>\n",
       "      <td>None</td>\n",
       "    </tr>\n",
       "    <tr>\n",
       "      <th>2</th>\n",
       "      <td>6330211</td>\n",
       "      <td>2017-04-04 22:00:01.209927</td>\n",
       "      <td>None</td>\n",
       "    </tr>\n",
       "    <tr>\n",
       "      <th>3</th>\n",
       "      <td>6348036</td>\n",
       "      <td>2017-04-04 22:00:01.209927</td>\n",
       "      <td>None</td>\n",
       "    </tr>\n",
       "    <tr>\n",
       "      <th>4</th>\n",
       "      <td>6148833</td>\n",
       "      <td>2017-04-04 22:00:01.209927</td>\n",
       "      <td>None</td>\n",
       "    </tr>\n",
       "  </tbody>\n",
       "</table>\n",
       "</div>"
      ],
      "text/plain": [
       "   cust_id     custom_date_identifier value\n",
       "0  6151721 2017-04-04 22:00:01.209927  None\n",
       "1  6236121 2017-04-04 22:00:01.209927  None\n",
       "2  6330211 2017-04-04 22:00:01.209927  None\n",
       "3  6348036 2017-04-04 22:00:01.209927  None\n",
       "4  6148833 2017-04-04 22:00:01.209927  None"
      ]
     },
     "execution_count": 74,
     "metadata": {},
     "output_type": "execute_result"
    }
   ],
   "source": [
    "value_old.head()"
   ]
  },
  {
   "cell_type": "code",
   "execution_count": 82,
   "metadata": {
    "collapsed": true
   },
   "outputs": [],
   "source": [
    "value_customers_old = value_old.groupby(['custom_date_identifier', 'cust_id','value']).size().reset_index()"
   ]
  },
  {
   "cell_type": "code",
   "execution_count": 84,
   "metadata": {
    "collapsed": false
   },
   "outputs": [],
   "source": [
    "value_customers_old_very_low = value_customers_old.query('value == \"Very Low\"')"
   ]
  },
  {
   "cell_type": "code",
   "execution_count": 86,
   "metadata": {
    "collapsed": false
   },
   "outputs": [
    {
     "data": {
      "text/html": [
       "<div>\n",
       "<table border=\"1\" class=\"dataframe\">\n",
       "  <thead>\n",
       "    <tr style=\"text-align: right;\">\n",
       "      <th></th>\n",
       "      <th>custom_date_identifier</th>\n",
       "      <th>cust_id</th>\n",
       "      <th>value</th>\n",
       "      <th>0</th>\n",
       "    </tr>\n",
       "  </thead>\n",
       "  <tbody>\n",
       "    <tr>\n",
       "      <th>0</th>\n",
       "      <td>2017-04-04 22:00:01.209927</td>\n",
       "      <td>2942914</td>\n",
       "      <td>Very Low</td>\n",
       "      <td>1</td>\n",
       "    </tr>\n",
       "    <tr>\n",
       "      <th>2</th>\n",
       "      <td>2017-04-04 22:00:01.209927</td>\n",
       "      <td>3129800</td>\n",
       "      <td>Very Low</td>\n",
       "      <td>1</td>\n",
       "    </tr>\n",
       "    <tr>\n",
       "      <th>3</th>\n",
       "      <td>2017-04-04 22:00:01.209927</td>\n",
       "      <td>3289765</td>\n",
       "      <td>Very Low</td>\n",
       "      <td>1</td>\n",
       "    </tr>\n",
       "    <tr>\n",
       "      <th>9</th>\n",
       "      <td>2017-04-04 22:00:01.209927</td>\n",
       "      <td>6148771</td>\n",
       "      <td>Very Low</td>\n",
       "      <td>1</td>\n",
       "    </tr>\n",
       "    <tr>\n",
       "      <th>10</th>\n",
       "      <td>2017-04-04 22:00:01.209927</td>\n",
       "      <td>6148794</td>\n",
       "      <td>Very Low</td>\n",
       "      <td>1</td>\n",
       "    </tr>\n",
       "  </tbody>\n",
       "</table>\n",
       "</div>"
      ],
      "text/plain": [
       "       custom_date_identifier  cust_id     value  0\n",
       "0  2017-04-04 22:00:01.209927  2942914  Very Low  1\n",
       "2  2017-04-04 22:00:01.209927  3129800  Very Low  1\n",
       "3  2017-04-04 22:00:01.209927  3289765  Very Low  1\n",
       "9  2017-04-04 22:00:01.209927  6148771  Very Low  1\n",
       "10 2017-04-04 22:00:01.209927  6148794  Very Low  1"
      ]
     },
     "execution_count": 86,
     "metadata": {},
     "output_type": "execute_result"
    }
   ],
   "source": [
    "value_customers_old_very_low.head()"
   ]
  },
  {
   "cell_type": "code",
   "execution_count": null,
   "metadata": {
    "collapsed": true
   },
   "outputs": [],
   "source": []
  },
  {
   "cell_type": "code",
   "execution_count": null,
   "metadata": {
    "collapsed": true
   },
   "outputs": [],
   "source": []
  },
  {
   "cell_type": "markdown",
   "metadata": {},
   "source": [
    "*** CUSTOMERS saw Value Segment changed to Low to High yesterday which is X% of the total base"
   ]
  },
  {
   "cell_type": "code",
   "execution_count": 79,
   "metadata": {
    "collapsed": true
   },
   "outputs": [],
   "source": [
    "value_new = new_data[['cust_id','custom_date_identifier','value']]"
   ]
  },
  {
   "cell_type": "code",
   "execution_count": 80,
   "metadata": {
    "collapsed": true
   },
   "outputs": [],
   "source": [
    "value_customers_new = value_new.groupby(['custom_date_identifier', 'value']).size().reset_index()"
   ]
  },
  {
   "cell_type": "code",
   "execution_count": 81,
   "metadata": {
    "collapsed": false
   },
   "outputs": [
    {
     "data": {
      "text/html": [
       "<div>\n",
       "<table border=\"1\" class=\"dataframe\">\n",
       "  <thead>\n",
       "    <tr style=\"text-align: right;\">\n",
       "      <th></th>\n",
       "      <th>custom_date_identifier</th>\n",
       "      <th>value</th>\n",
       "      <th>0</th>\n",
       "    </tr>\n",
       "  </thead>\n",
       "  <tbody>\n",
       "    <tr>\n",
       "      <th>0</th>\n",
       "      <td>2017-04-10 22:00:01.314963</td>\n",
       "      <td>Very High</td>\n",
       "      <td>1</td>\n",
       "    </tr>\n",
       "    <tr>\n",
       "      <th>1</th>\n",
       "      <td>2017-04-10 22:00:01.314963</td>\n",
       "      <td>Very Low</td>\n",
       "      <td>3</td>\n",
       "    </tr>\n",
       "  </tbody>\n",
       "</table>\n",
       "</div>"
      ],
      "text/plain": [
       "      custom_date_identifier      value  0\n",
       "0 2017-04-10 22:00:01.314963  Very High  1\n",
       "1 2017-04-10 22:00:01.314963   Very Low  3"
      ]
     },
     "execution_count": 81,
     "metadata": {},
     "output_type": "execute_result"
    }
   ],
   "source": [
    "value_customers_new"
   ]
  },
  {
   "cell_type": "code",
   "execution_count": null,
   "metadata": {
    "collapsed": true
   },
   "outputs": [],
   "source": []
  },
  {
   "cell_type": "code",
   "execution_count": null,
   "metadata": {
    "collapsed": true
   },
   "outputs": [],
   "source": []
  },
  {
   "cell_type": "code",
   "execution_count": null,
   "metadata": {
    "collapsed": true
   },
   "outputs": [],
   "source": []
  }
 ],
 "metadata": {
  "kernelspec": {
   "display_name": "Python 2",
   "language": "python",
   "name": "python2"
  },
  "language_info": {
   "codemirror_mode": {
    "name": "ipython",
    "version": 2
   },
   "file_extension": ".py",
   "mimetype": "text/x-python",
   "name": "python",
   "nbconvert_exporter": "python",
   "pygments_lexer": "ipython2",
   "version": "2.7.13"
  }
 },
 "nbformat": 4,
 "nbformat_minor": 2
}
