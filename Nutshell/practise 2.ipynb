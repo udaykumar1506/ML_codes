{
 "cells": [
  {
   "cell_type": "code",
   "execution_count": 1,
   "metadata": {
    "collapsed": true
   },
   "outputs": [],
   "source": [
    "from DemoServerDB import ConnectDatabase"
   ]
  },
  {
   "cell_type": "code",
   "execution_count": 2,
   "metadata": {
    "collapsed": true
   },
   "outputs": [],
   "source": [
    "temp = ConnectDatabase()"
   ]
  },
  {
   "cell_type": "code",
   "execution_count": 3,
   "metadata": {
    "collapsed": true
   },
   "outputs": [],
   "source": [
    "query = 'SELECT * from master_table_hist'"
   ]
  },
  {
   "cell_type": "code",
   "execution_count": 4,
   "metadata": {
    "collapsed": true
   },
   "outputs": [],
   "source": [
    "import pandas as pd\n",
    "import numpy as np\n",
    "import datetime as dt\n",
    "from datetime import timedelta"
   ]
  },
  {
   "cell_type": "code",
   "execution_count": 5,
   "metadata": {
    "collapsed": true
   },
   "outputs": [],
   "source": [
    "temp.cur.execute(query)"
   ]
  },
  {
   "cell_type": "code",
   "execution_count": 6,
   "metadata": {
    "collapsed": true
   },
   "outputs": [],
   "source": [
    "col_names = [desc[0] for desc in temp.cur.description]"
   ]
  },
  {
   "cell_type": "code",
   "execution_count": 7,
   "metadata": {
    "collapsed": true
   },
   "outputs": [],
   "source": [
    "master_table_his = pd.DataFrame(temp.cur.fetchall(), columns=col_names)"
   ]
  },
  {
   "cell_type": "code",
   "execution_count": 8,
   "metadata": {
    "collapsed": false
   },
   "outputs": [
    {
     "data": {
      "text/html": [
       "<div>\n",
       "<table border=\"1\" class=\"dataframe\">\n",
       "  <thead>\n",
       "    <tr style=\"text-align: right;\">\n",
       "      <th></th>\n",
       "      <th>id</th>\n",
       "      <th>cust_id</th>\n",
       "      <th>churn</th>\n",
       "      <th>engagement</th>\n",
       "      <th>percent_churn</th>\n",
       "      <th>cltv</th>\n",
       "      <th>value</th>\n",
       "      <th>percent_cltv</th>\n",
       "      <th>high_convertor</th>\n",
       "      <th>bio</th>\n",
       "      <th>lifestage</th>\n",
       "      <th>custom_date_identifier</th>\n",
       "    </tr>\n",
       "  </thead>\n",
       "  <tbody>\n",
       "    <tr>\n",
       "      <th>0</th>\n",
       "      <td>4764</td>\n",
       "      <td>6151721</td>\n",
       "      <td>None</td>\n",
       "      <td>None</td>\n",
       "      <td>None</td>\n",
       "      <td>None</td>\n",
       "      <td>None</td>\n",
       "      <td>None</td>\n",
       "      <td>High</td>\n",
       "      <td>0</td>\n",
       "      <td>None</td>\n",
       "      <td>2017-04-01</td>\n",
       "    </tr>\n",
       "    <tr>\n",
       "      <th>1</th>\n",
       "      <td>5116</td>\n",
       "      <td>6230240</td>\n",
       "      <td>None</td>\n",
       "      <td>None</td>\n",
       "      <td>None</td>\n",
       "      <td>None</td>\n",
       "      <td>None</td>\n",
       "      <td>None</td>\n",
       "      <td>Low</td>\n",
       "      <td>0</td>\n",
       "      <td>None</td>\n",
       "      <td>2017-04-01</td>\n",
       "    </tr>\n",
       "    <tr>\n",
       "      <th>2</th>\n",
       "      <td>377</td>\n",
       "      <td>6310287</td>\n",
       "      <td>None</td>\n",
       "      <td>None</td>\n",
       "      <td>None</td>\n",
       "      <td>None</td>\n",
       "      <td>None</td>\n",
       "      <td>None</td>\n",
       "      <td>High</td>\n",
       "      <td>9</td>\n",
       "      <td>None</td>\n",
       "      <td>2017-04-01</td>\n",
       "    </tr>\n",
       "    <tr>\n",
       "      <th>3</th>\n",
       "      <td>5595</td>\n",
       "      <td>6167409</td>\n",
       "      <td>0</td>\n",
       "      <td>Very Low</td>\n",
       "      <td>0</td>\n",
       "      <td>0</td>\n",
       "      <td>Very Low</td>\n",
       "      <td>0</td>\n",
       "      <td>None</td>\n",
       "      <td>None</td>\n",
       "      <td>-</td>\n",
       "      <td>2017-04-01</td>\n",
       "    </tr>\n",
       "    <tr>\n",
       "      <th>4</th>\n",
       "      <td>3805</td>\n",
       "      <td>6266404</td>\n",
       "      <td>0</td>\n",
       "      <td>Low</td>\n",
       "      <td>0.13447828904731</td>\n",
       "      <td>0</td>\n",
       "      <td>Very Low</td>\n",
       "      <td>0</td>\n",
       "      <td>High</td>\n",
       "      <td>4</td>\n",
       "      <td>Lapsed</td>\n",
       "      <td>2017-04-01</td>\n",
       "    </tr>\n",
       "  </tbody>\n",
       "</table>\n",
       "</div>"
      ],
      "text/plain": [
       "     id  cust_id churn engagement     percent_churn  cltv     value  \\\n",
       "0  4764  6151721  None       None              None  None      None   \n",
       "1  5116  6230240  None       None              None  None      None   \n",
       "2   377  6310287  None       None              None  None      None   \n",
       "3  5595  6167409     0   Very Low                 0     0  Very Low   \n",
       "4  3805  6266404     0        Low  0.13447828904731     0  Very Low   \n",
       "\n",
       "  percent_cltv high_convertor   bio lifestage custom_date_identifier  \n",
       "0         None           High     0      None             2017-04-01  \n",
       "1         None            Low     0      None             2017-04-01  \n",
       "2         None           High     9      None             2017-04-01  \n",
       "3            0           None  None         -             2017-04-01  \n",
       "4            0           High     4    Lapsed             2017-04-01  "
      ]
     },
     "execution_count": 8,
     "metadata": {},
     "output_type": "execute_result"
    }
   ],
   "source": [
    "master_table_his.head()"
   ]
  },
  {
   "cell_type": "code",
   "execution_count": 9,
   "metadata": {
    "collapsed": false
   },
   "outputs": [
    {
     "data": {
      "text/html": [
       "<div>\n",
       "<table border=\"1\" class=\"dataframe\">\n",
       "  <thead>\n",
       "    <tr style=\"text-align: right;\">\n",
       "      <th></th>\n",
       "      <th>id</th>\n",
       "      <th>cust_id</th>\n",
       "      <th>churn</th>\n",
       "      <th>engagement</th>\n",
       "      <th>percent_churn</th>\n",
       "      <th>cltv</th>\n",
       "      <th>value</th>\n",
       "      <th>percent_cltv</th>\n",
       "      <th>high_convertor</th>\n",
       "      <th>bio</th>\n",
       "      <th>lifestage</th>\n",
       "      <th>custom_date_identifier</th>\n",
       "    </tr>\n",
       "  </thead>\n",
       "  <tbody>\n",
       "    <tr>\n",
       "      <th>14632</th>\n",
       "      <td>3288</td>\n",
       "      <td>6307811</td>\n",
       "      <td>1</td>\n",
       "      <td>Low</td>\n",
       "      <td>0.13447828904731</td>\n",
       "      <td>40</td>\n",
       "      <td>Low</td>\n",
       "      <td>0</td>\n",
       "      <td>High</td>\n",
       "      <td>7</td>\n",
       "      <td>Lapsed</td>\n",
       "      <td>2017-04-03</td>\n",
       "    </tr>\n",
       "    <tr>\n",
       "      <th>14633</th>\n",
       "      <td>3290</td>\n",
       "      <td>6333298</td>\n",
       "      <td>1</td>\n",
       "      <td>Low</td>\n",
       "      <td>None</td>\n",
       "      <td>40</td>\n",
       "      <td>Low</td>\n",
       "      <td>None</td>\n",
       "      <td>Low</td>\n",
       "      <td>0</td>\n",
       "      <td>None</td>\n",
       "      <td>2017-04-03</td>\n",
       "    </tr>\n",
       "    <tr>\n",
       "      <th>14634</th>\n",
       "      <td>3289</td>\n",
       "      <td>6202240</td>\n",
       "      <td>1</td>\n",
       "      <td>Low</td>\n",
       "      <td>0.967919637070642</td>\n",
       "      <td>40</td>\n",
       "      <td>Low</td>\n",
       "      <td>75.0162022034997</td>\n",
       "      <td>Low</td>\n",
       "      <td>7</td>\n",
       "      <td>Retained</td>\n",
       "      <td>2017-04-03</td>\n",
       "    </tr>\n",
       "    <tr>\n",
       "      <th>14635</th>\n",
       "      <td>3291</td>\n",
       "      <td>6339049</td>\n",
       "      <td>1</td>\n",
       "      <td>Low</td>\n",
       "      <td>None</td>\n",
       "      <td>40</td>\n",
       "      <td>Low</td>\n",
       "      <td>None</td>\n",
       "      <td>Low</td>\n",
       "      <td>0</td>\n",
       "      <td>None</td>\n",
       "      <td>2017-04-03</td>\n",
       "    </tr>\n",
       "    <tr>\n",
       "      <th>14636</th>\n",
       "      <td>3292</td>\n",
       "      <td>6190868</td>\n",
       "      <td>1</td>\n",
       "      <td>Low</td>\n",
       "      <td>None</td>\n",
       "      <td>40</td>\n",
       "      <td>Low</td>\n",
       "      <td>None</td>\n",
       "      <td>Low</td>\n",
       "      <td>0</td>\n",
       "      <td>None</td>\n",
       "      <td>2017-04-03</td>\n",
       "    </tr>\n",
       "  </tbody>\n",
       "</table>\n",
       "</div>"
      ],
      "text/plain": [
       "         id  cust_id churn engagement      percent_churn cltv value  \\\n",
       "14632  3288  6307811     1        Low   0.13447828904731   40   Low   \n",
       "14633  3290  6333298     1        Low               None   40   Low   \n",
       "14634  3289  6202240     1        Low  0.967919637070642   40   Low   \n",
       "14635  3291  6339049     1        Low               None   40   Low   \n",
       "14636  3292  6190868     1        Low               None   40   Low   \n",
       "\n",
       "           percent_cltv high_convertor bio lifestage custom_date_identifier  \n",
       "14632                 0           High   7    Lapsed             2017-04-03  \n",
       "14633              None            Low   0      None             2017-04-03  \n",
       "14634  75.0162022034997            Low   7  Retained             2017-04-03  \n",
       "14635              None            Low   0      None             2017-04-03  \n",
       "14636              None            Low   0      None             2017-04-03  "
      ]
     },
     "execution_count": 9,
     "metadata": {},
     "output_type": "execute_result"
    }
   ],
   "source": [
    "master_table_his.tail()"
   ]
  },
  {
   "cell_type": "code",
   "execution_count": 10,
   "metadata": {
    "collapsed": false
   },
   "outputs": [
    {
     "data": {
      "text/plain": [
       "(14637, 12)"
      ]
     },
     "execution_count": 10,
     "metadata": {},
     "output_type": "execute_result"
    }
   ],
   "source": [
    "master_table_his.shape"
   ]
  },
  {
   "cell_type": "code",
   "execution_count": null,
   "metadata": {
    "collapsed": false
   },
   "outputs": [],
   "source": [
    "len(master_table_his.cust_id.unique())"
   ]
  },
  {
   "cell_type": "code",
   "execution_count": 11,
   "metadata": {
    "collapsed": false
   },
   "outputs": [
    {
     "data": {
      "text/plain": [
       "array(['2017-04-01T00:00:00.000000000', '2017-04-02T00:00:00.000000000',\n",
       "       '2017-04-03T00:00:00.000000000'], dtype='datetime64[ns]')"
      ]
     },
     "execution_count": 11,
     "metadata": {},
     "output_type": "execute_result"
    }
   ],
   "source": [
    "master_table_his.custom_date_identifier.unique()"
   ]
  },
  {
   "cell_type": "code",
   "execution_count": 12,
   "metadata": {
    "collapsed": false
   },
   "outputs": [
    {
     "data": {
      "text/plain": [
       "array([None, Decimal('0'), Decimal('1')], dtype=object)"
      ]
     },
     "execution_count": 12,
     "metadata": {},
     "output_type": "execute_result"
    }
   ],
   "source": [
    "master_table_his.churn.unique()"
   ]
  },
  {
   "cell_type": "code",
   "execution_count": 13,
   "metadata": {
    "collapsed": false
   },
   "outputs": [
    {
     "data": {
      "text/plain": [
       "array([None, 'Very Low', 'Low', 'Medium', 'High', 'Very High'], dtype=object)"
      ]
     },
     "execution_count": 13,
     "metadata": {},
     "output_type": "execute_result"
    }
   ],
   "source": [
    "master_table_his.value.unique()"
   ]
  },
  {
   "cell_type": "code",
   "execution_count": 14,
   "metadata": {
    "collapsed": false
   },
   "outputs": [
    {
     "data": {
      "text/plain": [
       "array([None, 'Very Low', 'Low', 'Medium', 'High', 'Very High'], dtype=object)"
      ]
     },
     "execution_count": 14,
     "metadata": {},
     "output_type": "execute_result"
    }
   ],
   "source": [
    "master_table_his.engagement.unique()"
   ]
  },
  {
   "cell_type": "code",
   "execution_count": null,
   "metadata": {
    "collapsed": true
   },
   "outputs": [],
   "source": []
  },
  {
   "cell_type": "code",
   "execution_count": null,
   "metadata": {
    "collapsed": true
   },
   "outputs": [],
   "source": []
  },
  {
   "cell_type": "code",
   "execution_count": null,
   "metadata": {
    "collapsed": true
   },
   "outputs": [],
   "source": []
  },
  {
   "cell_type": "code",
   "execution_count": null,
   "metadata": {
    "collapsed": true
   },
   "outputs": [],
   "source": []
  },
  {
   "cell_type": "code",
   "execution_count": null,
   "metadata": {
    "collapsed": true
   },
   "outputs": [],
   "source": []
  },
  {
   "cell_type": "code",
   "execution_count": null,
   "metadata": {
    "collapsed": true
   },
   "outputs": [],
   "source": []
  },
  {
   "cell_type": "code",
   "execution_count": null,
   "metadata": {
    "collapsed": true
   },
   "outputs": [],
   "source": []
  },
  {
   "cell_type": "code",
   "execution_count": null,
   "metadata": {
    "collapsed": true
   },
   "outputs": [],
   "source": [
    "list_of_indexes_new = [np.argmax(g['custom_date_identifier']) for l, g in master_table_his.groupby(['cust_id'])]"
   ]
  },
  {
   "cell_type": "code",
   "execution_count": null,
   "metadata": {
    "collapsed": true
   },
   "outputs": [],
   "source": [
    "new_data = master_table_his.ix[list_of_indexes_new]"
   ]
  },
  {
   "cell_type": "code",
   "execution_count": null,
   "metadata": {
    "collapsed": true
   },
   "outputs": [],
   "source": [
    "new_data.reset_index(drop=True, inplace=True)"
   ]
  },
  {
   "cell_type": "code",
   "execution_count": null,
   "metadata": {
    "collapsed": false
   },
   "outputs": [],
   "source": [
    "new_data.head()"
   ]
  },
  {
   "cell_type": "code",
   "execution_count": null,
   "metadata": {
    "collapsed": false
   },
   "outputs": [],
   "source": [
    "new_data.tail()"
   ]
  },
  {
   "cell_type": "code",
   "execution_count": null,
   "metadata": {
    "collapsed": false
   },
   "outputs": [],
   "source": [
    "new_data.custom_date_identifier.unique()"
   ]
  },
  {
   "cell_type": "code",
   "execution_count": null,
   "metadata": {
    "collapsed": false
   },
   "outputs": [],
   "source": [
    "new_data.shape"
   ]
  },
  {
   "cell_type": "code",
   "execution_count": null,
   "metadata": {
    "collapsed": false
   },
   "outputs": [],
   "source": [
    "master_table_his.shape"
   ]
  },
  {
   "cell_type": "code",
   "execution_count": null,
   "metadata": {
    "collapsed": true
   },
   "outputs": [],
   "source": [
    "xyz = master_table_his.groupby(['cust_id', 'custom_date_identifier']).size().reset_index()"
   ]
  },
  {
   "cell_type": "code",
   "execution_count": null,
   "metadata": {
    "collapsed": false
   },
   "outputs": [],
   "source": [
    "def x(frame):\n",
    "    if len(frame.custom_date_identifier) > 1:\n",
    "        print frame.custom_date_identifier\n",
    "        if frame.custom_date_identifier.iloc[-2] == '10':\n",
    "            frame['time'] = frame.custom_date_identifier.iloc[-2]\n",
    "        else:\n",
    "            frame['time'] = frame.custom_date_identifier.iloc[-1]\n",
    "    else:\n",
    "        frame['time'] = frame.custom_date_identifier.iloc[-1]\n",
    "    return frame"
   ]
  },
  {
   "cell_type": "code",
   "execution_count": null,
   "metadata": {
    "collapsed": false
   },
   "outputs": [],
   "source": [
    "dates = xyz.groupby('cust_id').apply(x)"
   ]
  },
  {
   "cell_type": "code",
   "execution_count": null,
   "metadata": {
    "collapsed": false
   },
   "outputs": [],
   "source": [
    "del dates['custom_date_identifier']"
   ]
  },
  {
   "cell_type": "code",
   "execution_count": null,
   "metadata": {
    "collapsed": false
   },
   "outputs": [],
   "source": [
    "dates = dates.drop_duplicates('cust_id')"
   ]
  },
  {
   "cell_type": "code",
   "execution_count": null,
   "metadata": {
    "collapsed": false
   },
   "outputs": [],
   "source": [
    "dates.head()"
   ]
  },
  {
   "cell_type": "code",
   "execution_count": null,
   "metadata": {
    "collapsed": false
   },
   "outputs": [],
   "source": [
    "dates.rename(columns={'time':'custom_date_identifier'}, inplace=True)"
   ]
  },
  {
   "cell_type": "code",
   "execution_count": null,
   "metadata": {
    "collapsed": false
   },
   "outputs": [],
   "source": [
    "dates.head()"
   ]
  },
  {
   "cell_type": "code",
   "execution_count": null,
   "metadata": {
    "collapsed": false
   },
   "outputs": [],
   "source": [
    "master_table_his.head()"
   ]
  },
  {
   "cell_type": "code",
   "execution_count": null,
   "metadata": {
    "collapsed": false
   },
   "outputs": [],
   "source": [
    "old_data = pd.merge(master_table_his, dates, on=['cust_id', 'custom_date_identifier'], how='left')"
   ]
  },
  {
   "cell_type": "code",
   "execution_count": null,
   "metadata": {
    "collapsed": false
   },
   "outputs": [],
   "source": [
    "old_data.head()"
   ]
  },
  {
   "cell_type": "code",
   "execution_count": null,
   "metadata": {
    "collapsed": false
   },
   "outputs": [],
   "source": [
    "old_data.custom_date_identifier.unique()"
   ]
  },
  {
   "cell_type": "code",
   "execution_count": null,
   "metadata": {
    "collapsed": false
   },
   "outputs": [],
   "source": [
    "old_data.shape"
   ]
  },
  {
   "cell_type": "code",
   "execution_count": null,
   "metadata": {
    "collapsed": false
   },
   "outputs": [],
   "source": [
    "master_table_his.shape"
   ]
  },
  {
   "cell_type": "code",
   "execution_count": null,
   "metadata": {
    "collapsed": false
   },
   "outputs": [],
   "source": [
    "old_data.custom_date_identifier.describe()"
   ]
  },
  {
   "cell_type": "code",
   "execution_count": null,
   "metadata": {
    "collapsed": false
   },
   "outputs": [],
   "source": [
    "old_data.custom_date_identifier.unique()"
   ]
  },
  {
   "cell_type": "code",
   "execution_count": null,
   "metadata": {
    "collapsed": true
   },
   "outputs": [],
   "source": [
    "cltv_value_old = old_data[['cltv', 'custom_date_identifier']]"
   ]
  },
  {
   "cell_type": "code",
   "execution_count": null,
   "metadata": {
    "collapsed": true
   },
   "outputs": [],
   "source": [
    "old_cltv_sum = cltv_value_old.groupby('custom_date_identifier').sum().reset_index()"
   ]
  },
  {
   "cell_type": "code",
   "execution_count": null,
   "metadata": {
    "collapsed": true
   },
   "outputs": [],
   "source": [
    "old_cltv_count = cltv_value_old.groupby('custom_date_identifier').count().reset_index()"
   ]
  },
  {
   "cell_type": "code",
   "execution_count": null,
   "metadata": {
    "collapsed": true
   },
   "outputs": [],
   "source": [
    "old_cltv_avrg = old_cltv_sum.merge(old_cltv_count, on='custom_date_identifier')"
   ]
  },
  {
   "cell_type": "code",
   "execution_count": null,
   "metadata": {
    "collapsed": true
   },
   "outputs": [],
   "source": [
    "old_cltv_avrg.cltv_x = old_cltv_avrg.cltv_x.astype('float64', raise_on_error = False)\n",
    "old_cltv_avrg.cltv_y = old_cltv_avrg.cltv_y.astype('float64', raise_on_error = False)"
   ]
  },
  {
   "cell_type": "code",
   "execution_count": null,
   "metadata": {
    "collapsed": true
   },
   "outputs": [],
   "source": [
    "old_cltv_avrg['average_cltv'] = old_cltv_avrg.cltv_x / old_cltv_avrg.cltv_y.replace({ 0 : np.nan })"
   ]
  },
  {
   "cell_type": "code",
   "execution_count": null,
   "metadata": {
    "collapsed": false
   },
   "outputs": [],
   "source": [
    "old_cltv_avrg"
   ]
  },
  {
   "cell_type": "code",
   "execution_count": null,
   "metadata": {
    "collapsed": true
   },
   "outputs": [],
   "source": [
    "cltv_value_new = new_data[['cltv', 'custom_date_identifier']]"
   ]
  },
  {
   "cell_type": "code",
   "execution_count": null,
   "metadata": {
    "collapsed": true
   },
   "outputs": [],
   "source": [
    "new_cltv_sum = cltv_value_new.groupby('custom_date_identifier').sum().reset_index()"
   ]
  },
  {
   "cell_type": "code",
   "execution_count": null,
   "metadata": {
    "collapsed": true
   },
   "outputs": [],
   "source": [
    "new_cltv_count = cltv_value_new.groupby('custom_date_identifier').count().reset_index()"
   ]
  },
  {
   "cell_type": "code",
   "execution_count": null,
   "metadata": {
    "collapsed": true
   },
   "outputs": [],
   "source": [
    "new_cltv_avrg = new_cltv_sum.merge(new_cltv_count, on='custom_date_identifier')"
   ]
  },
  {
   "cell_type": "code",
   "execution_count": null,
   "metadata": {
    "collapsed": true
   },
   "outputs": [],
   "source": [
    "new_cltv_avrg.cltv_x = new_cltv_avrg.cltv_x.astype('float64', raise_on_error = False)\n",
    "new_cltv_avrg.cltv_y = new_cltv_avrg.cltv_y.astype('float64', raise_on_error = False)"
   ]
  },
  {
   "cell_type": "code",
   "execution_count": null,
   "metadata": {
    "collapsed": true
   },
   "outputs": [],
   "source": [
    "new_cltv_avrg['average_cltv'] = new_cltv_avrg.cltv_x / new_cltv_avrg.cltv_y.replace({ 0 : np.nan })"
   ]
  },
  {
   "cell_type": "code",
   "execution_count": null,
   "metadata": {
    "collapsed": false
   },
   "outputs": [],
   "source": [
    "new_cltv_avrg"
   ]
  },
  {
   "cell_type": "code",
   "execution_count": null,
   "metadata": {
    "collapsed": true
   },
   "outputs": [],
   "source": []
  },
  {
   "cell_type": "code",
   "execution_count": null,
   "metadata": {
    "collapsed": true
   },
   "outputs": [],
   "source": []
  },
  {
   "cell_type": "code",
   "execution_count": null,
   "metadata": {
    "collapsed": true
   },
   "outputs": [],
   "source": []
  },
  {
   "cell_type": "code",
   "execution_count": null,
   "metadata": {
    "collapsed": true
   },
   "outputs": [],
   "source": []
  },
  {
   "cell_type": "code",
   "execution_count": null,
   "metadata": {
    "collapsed": true
   },
   "outputs": [],
   "source": []
  },
  {
   "cell_type": "code",
   "execution_count": null,
   "metadata": {
    "collapsed": true
   },
   "outputs": [],
   "source": []
  },
  {
   "cell_type": "code",
   "execution_count": null,
   "metadata": {
    "collapsed": true
   },
   "outputs": [],
   "source": []
  }
 ],
 "metadata": {
  "kernelspec": {
   "display_name": "Python 2",
   "language": "python",
   "name": "python2"
  },
  "language_info": {
   "codemirror_mode": {
    "name": "ipython",
    "version": 2
   },
   "file_extension": ".py",
   "mimetype": "text/x-python",
   "name": "python",
   "nbconvert_exporter": "python",
   "pygments_lexer": "ipython2",
   "version": "2.7.13"
  }
 },
 "nbformat": 4,
 "nbformat_minor": 0
}
