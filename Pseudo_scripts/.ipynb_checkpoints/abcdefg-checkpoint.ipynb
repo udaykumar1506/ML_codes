{
 "cells": [
  {
   "cell_type": "code",
   "execution_count": 1,
   "metadata": {
    "collapsed": false
   },
   "outputs": [
    {
     "name": "stdout",
     "output_type": "stream",
     "text": [
      "/home/ubuntu\n"
     ]
    }
   ],
   "source": [
    "cd"
   ]
  },
  {
   "cell_type": "code",
   "execution_count": 2,
   "metadata": {
    "collapsed": false
   },
   "outputs": [],
   "source": [
    "from DemoServerDB import ConnectDatabase\n",
    "from mapping import doc"
   ]
  },
  {
   "cell_type": "code",
   "execution_count": 3,
   "metadata": {
    "collapsed": false
   },
   "outputs": [],
   "source": [
    "temp = ConnectDatabase()"
   ]
  },
  {
   "cell_type": "code",
   "execution_count": 4,
   "metadata": {
    "collapsed": false
   },
   "outputs": [
    {
     "data": {
      "text/plain": [
       "<connection object at 0x7fc2a44514b0; dsn: 'dbname=postgresdemo user=clientdemo password=xxxxxxxxxxx host=postgresdemo.c3yxphqgag3s.ap-southeast-1.rds.amazonaws.com port=5432 sslmode=require', closed: 0>"
      ]
     },
     "execution_count": 4,
     "metadata": {},
     "output_type": "execute_result"
    }
   ],
   "source": [
    "temp.conn"
   ]
  },
  {
   "cell_type": "code",
   "execution_count": 5,
   "metadata": {
    "collapsed": false
   },
   "outputs": [
    {
     "data": {
      "text/plain": [
       "{'cust_id': 'userid',\n",
       " 'product_id': 'product_id',\n",
       " 'quantity': 'quantity',\n",
       " 'renewal': 'renewal',\n",
       " 'revenue': 'revenue',\n",
       " 'timestamp': 'purchase_date'}"
      ]
     },
     "execution_count": 5,
     "metadata": {},
     "output_type": "execute_result"
    }
   ],
   "source": [
    "doc['column_map']['TRANSACTION_MASTER']"
   ]
  },
  {
   "cell_type": "code",
   "execution_count": 6,
   "metadata": {
    "collapsed": false
   },
   "outputs": [],
   "source": [
    "query = 'SELECT \"%s\",\"%s\",\"%s\" FROM \"%s\"'%(doc['column_map']['TRANSACTION_MASTER']['cust_id'],\n",
    "                                           doc['column_map']['TRANSACTION_MASTER']['product_id'],\n",
    "                                           doc['column_map']['TRANSACTION_MASTER']['timestamp'],\n",
    "                                           doc['table_map']['TRANSACTION_MASTER'])"
   ]
  },
  {
   "cell_type": "code",
   "execution_count": 7,
   "metadata": {
    "collapsed": false
   },
   "outputs": [
    {
     "name": "stdout",
     "output_type": "stream",
     "text": [
      "SELECT \"userid\",\"product_id\",\"purchase_date\" FROM \"trans\"\n"
     ]
    }
   ],
   "source": [
    "print query"
   ]
  },
  {
   "cell_type": "code",
   "execution_count": 8,
   "metadata": {
    "collapsed": true
   },
   "outputs": [],
   "source": [
    "temp.conn.rollback()"
   ]
  },
  {
   "cell_type": "code",
   "execution_count": 9,
   "metadata": {
    "collapsed": true
   },
   "outputs": [],
   "source": [
    "temp.cur.execute(query)"
   ]
  },
  {
   "cell_type": "code",
   "execution_count": 10,
   "metadata": {
    "collapsed": true
   },
   "outputs": [],
   "source": [
    "col_names = [desc[0] for desc in temp.cur.description]"
   ]
  },
  {
   "cell_type": "code",
   "execution_count": 11,
   "metadata": {
    "collapsed": false
   },
   "outputs": [
    {
     "data": {
      "text/plain": [
       "['userid', 'product_id', 'purchase_date']"
      ]
     },
     "execution_count": 11,
     "metadata": {},
     "output_type": "execute_result"
    }
   ],
   "source": [
    "col_names"
   ]
  },
  {
   "cell_type": "code",
   "execution_count": 12,
   "metadata": {
    "collapsed": true
   },
   "outputs": [],
   "source": [
    "import pandas as pd\n",
    "import numpy as np\n",
    "import datetime as dt"
   ]
  },
  {
   "cell_type": "code",
   "execution_count": 13,
   "metadata": {
    "collapsed": true
   },
   "outputs": [],
   "source": [
    "trans_table = pd.DataFrame(temp.cur.fetchall(), columns=col_names)"
   ]
  },
  {
   "cell_type": "code",
   "execution_count": 14,
   "metadata": {
    "collapsed": false
   },
   "outputs": [
    {
     "data": {
      "text/html": [
       "<div>\n",
       "<table border=\"1\" class=\"dataframe\">\n",
       "  <thead>\n",
       "    <tr style=\"text-align: right;\">\n",
       "      <th></th>\n",
       "      <th>userid</th>\n",
       "      <th>product_id</th>\n",
       "      <th>purchase_date</th>\n",
       "    </tr>\n",
       "  </thead>\n",
       "  <tbody>\n",
       "    <tr>\n",
       "      <th>0</th>\n",
       "      <td>3893506</td>\n",
       "      <td>com.gopaktor.subscription.v1.premium.1m</td>\n",
       "      <td>2016-09-07 13:59:45+00:00</td>\n",
       "    </tr>\n",
       "    <tr>\n",
       "      <th>1</th>\n",
       "      <td>3793254</td>\n",
       "      <td>com.gopaktor.subscription.v1.premium.1m</td>\n",
       "      <td>2016-09-25 03:06:11+00:00</td>\n",
       "    </tr>\n",
       "    <tr>\n",
       "      <th>2</th>\n",
       "      <td>6148794</td>\n",
       "      <td>com.gopaktor.subscription.v1.premium.1m</td>\n",
       "      <td>2016-10-01 02:27:37+00:00</td>\n",
       "    </tr>\n",
       "    <tr>\n",
       "      <th>3</th>\n",
       "      <td>6149220</td>\n",
       "      <td>com.gopaktor.subscription.v4.premium.1m</td>\n",
       "      <td>2016-10-01 06:39:16+00:00</td>\n",
       "    </tr>\n",
       "    <tr>\n",
       "      <th>4</th>\n",
       "      <td>6149432</td>\n",
       "      <td>com.gopaktor.subscription.v4.premium.1m</td>\n",
       "      <td>2016-10-01 09:07:49+00:00</td>\n",
       "    </tr>\n",
       "  </tbody>\n",
       "</table>\n",
       "</div>"
      ],
      "text/plain": [
       "    userid                               product_id             purchase_date\n",
       "0  3893506  com.gopaktor.subscription.v1.premium.1m 2016-09-07 13:59:45+00:00\n",
       "1  3793254  com.gopaktor.subscription.v1.premium.1m 2016-09-25 03:06:11+00:00\n",
       "2  6148794  com.gopaktor.subscription.v1.premium.1m 2016-10-01 02:27:37+00:00\n",
       "3  6149220  com.gopaktor.subscription.v4.premium.1m 2016-10-01 06:39:16+00:00\n",
       "4  6149432  com.gopaktor.subscription.v4.premium.1m 2016-10-01 09:07:49+00:00"
      ]
     },
     "execution_count": 14,
     "metadata": {},
     "output_type": "execute_result"
    }
   ],
   "source": [
    "trans_table.head()"
   ]
  },
  {
   "cell_type": "code",
   "execution_count": 15,
   "metadata": {
    "collapsed": true
   },
   "outputs": [],
   "source": [
    "trans_table.rename(columns={doc['column_map']['TRANSACTION_MASTER']['cust_id']:'cust_id'},inplace=True)\n",
    "trans_table.rename(columns={doc['column_map']['TRANSACTION_MASTER']['product_id']:'product_id'},inplace=True)\n",
    "trans_table.rename(columns={doc['column_map']['TRANSACTION_MASTER']['timestamp']:'timestamp'},inplace=True)"
   ]
  },
  {
   "cell_type": "code",
   "execution_count": 16,
   "metadata": {
    "collapsed": false
   },
   "outputs": [
    {
     "data": {
      "text/html": [
       "<div>\n",
       "<table border=\"1\" class=\"dataframe\">\n",
       "  <thead>\n",
       "    <tr style=\"text-align: right;\">\n",
       "      <th></th>\n",
       "      <th>cust_id</th>\n",
       "      <th>product_id</th>\n",
       "      <th>timestamp</th>\n",
       "    </tr>\n",
       "  </thead>\n",
       "  <tbody>\n",
       "    <tr>\n",
       "      <th>0</th>\n",
       "      <td>3893506</td>\n",
       "      <td>com.gopaktor.subscription.v1.premium.1m</td>\n",
       "      <td>2016-09-07 13:59:45+00:00</td>\n",
       "    </tr>\n",
       "    <tr>\n",
       "      <th>1</th>\n",
       "      <td>3793254</td>\n",
       "      <td>com.gopaktor.subscription.v1.premium.1m</td>\n",
       "      <td>2016-09-25 03:06:11+00:00</td>\n",
       "    </tr>\n",
       "    <tr>\n",
       "      <th>2</th>\n",
       "      <td>6148794</td>\n",
       "      <td>com.gopaktor.subscription.v1.premium.1m</td>\n",
       "      <td>2016-10-01 02:27:37+00:00</td>\n",
       "    </tr>\n",
       "    <tr>\n",
       "      <th>3</th>\n",
       "      <td>6149220</td>\n",
       "      <td>com.gopaktor.subscription.v4.premium.1m</td>\n",
       "      <td>2016-10-01 06:39:16+00:00</td>\n",
       "    </tr>\n",
       "    <tr>\n",
       "      <th>4</th>\n",
       "      <td>6149432</td>\n",
       "      <td>com.gopaktor.subscription.v4.premium.1m</td>\n",
       "      <td>2016-10-01 09:07:49+00:00</td>\n",
       "    </tr>\n",
       "  </tbody>\n",
       "</table>\n",
       "</div>"
      ],
      "text/plain": [
       "   cust_id                               product_id                 timestamp\n",
       "0  3893506  com.gopaktor.subscription.v1.premium.1m 2016-09-07 13:59:45+00:00\n",
       "1  3793254  com.gopaktor.subscription.v1.premium.1m 2016-09-25 03:06:11+00:00\n",
       "2  6148794  com.gopaktor.subscription.v1.premium.1m 2016-10-01 02:27:37+00:00\n",
       "3  6149220  com.gopaktor.subscription.v4.premium.1m 2016-10-01 06:39:16+00:00\n",
       "4  6149432  com.gopaktor.subscription.v4.premium.1m 2016-10-01 09:07:49+00:00"
      ]
     },
     "execution_count": 16,
     "metadata": {},
     "output_type": "execute_result"
    }
   ],
   "source": [
    "trans_table.head()"
   ]
  },
  {
   "cell_type": "code",
   "execution_count": 17,
   "metadata": {
    "collapsed": true
   },
   "outputs": [],
   "source": [
    "trans_table['timestamp'] = pd.to_datetime(trans_table['timestamp'])"
   ]
  },
  {
   "cell_type": "code",
   "execution_count": 18,
   "metadata": {
    "collapsed": false
   },
   "outputs": [
    {
     "data": {
      "text/plain": [
       "(4428, 3)"
      ]
     },
     "execution_count": 18,
     "metadata": {},
     "output_type": "execute_result"
    }
   ],
   "source": [
    "trans_table.shape"
   ]
  },
  {
   "cell_type": "code",
   "execution_count": 19,
   "metadata": {
    "collapsed": false
   },
   "outputs": [
    {
     "data": {
      "text/plain": [
       "3087"
      ]
     },
     "execution_count": 19,
     "metadata": {},
     "output_type": "execute_result"
    }
   ],
   "source": [
    "len(trans_table.cust_id.unique())"
   ]
  },
  {
   "cell_type": "code",
   "execution_count": 20,
   "metadata": {
    "collapsed": false
   },
   "outputs": [
    {
     "data": {
      "text/plain": [
       "18"
      ]
     },
     "execution_count": 20,
     "metadata": {},
     "output_type": "execute_result"
    }
   ],
   "source": [
    "len(trans_table.product_id.unique())"
   ]
  },
  {
   "cell_type": "code",
   "execution_count": 21,
   "metadata": {
    "collapsed": false
   },
   "outputs": [],
   "source": [
    "group_data = trans_table.groupby(['cust_id', 'product_id']).size().reset_index().rename(columns={0:'counter'})"
   ]
  },
  {
   "cell_type": "code",
   "execution_count": 22,
   "metadata": {
    "collapsed": false
   },
   "outputs": [
    {
     "data": {
      "text/html": [
       "<div>\n",
       "<table border=\"1\" class=\"dataframe\">\n",
       "  <thead>\n",
       "    <tr style=\"text-align: right;\">\n",
       "      <th></th>\n",
       "      <th>cust_id</th>\n",
       "      <th>product_id</th>\n",
       "      <th>counter</th>\n",
       "    </tr>\n",
       "  </thead>\n",
       "  <tbody>\n",
       "    <tr>\n",
       "      <th>0</th>\n",
       "      <td>2942914</td>\n",
       "      <td>com.gopaktor.subscription.v1.premium.1m</td>\n",
       "      <td>1</td>\n",
       "    </tr>\n",
       "    <tr>\n",
       "      <th>1</th>\n",
       "      <td>3053432</td>\n",
       "      <td>com.gopaktor.subscription.v4.premium.1m</td>\n",
       "      <td>10</td>\n",
       "    </tr>\n",
       "    <tr>\n",
       "      <th>2</th>\n",
       "      <td>3129800</td>\n",
       "      <td>com.gopaktor.subscription.v1.premium.1m</td>\n",
       "      <td>1</td>\n",
       "    </tr>\n",
       "    <tr>\n",
       "      <th>3</th>\n",
       "      <td>3289765</td>\n",
       "      <td>com.gopaktor.subscription.v2.premium.6m.2000</td>\n",
       "      <td>1</td>\n",
       "    </tr>\n",
       "    <tr>\n",
       "      <th>4</th>\n",
       "      <td>3325662</td>\n",
       "      <td>com.gopaktor.subscription.v12.premium.1m</td>\n",
       "      <td>2</td>\n",
       "    </tr>\n",
       "  </tbody>\n",
       "</table>\n",
       "</div>"
      ],
      "text/plain": [
       "   cust_id                                    product_id  counter\n",
       "0  2942914       com.gopaktor.subscription.v1.premium.1m        1\n",
       "1  3053432       com.gopaktor.subscription.v4.premium.1m       10\n",
       "2  3129800       com.gopaktor.subscription.v1.premium.1m        1\n",
       "3  3289765  com.gopaktor.subscription.v2.premium.6m.2000        1\n",
       "4  3325662      com.gopaktor.subscription.v12.premium.1m        2"
      ]
     },
     "execution_count": 22,
     "metadata": {},
     "output_type": "execute_result"
    }
   ],
   "source": [
    "group_data.head()"
   ]
  },
  {
   "cell_type": "code",
   "execution_count": 23,
   "metadata": {
    "collapsed": false
   },
   "outputs": [
    {
     "data": {
      "text/plain": [
       "(3232, 3)"
      ]
     },
     "execution_count": 23,
     "metadata": {},
     "output_type": "execute_result"
    }
   ],
   "source": [
    "group_data.shape"
   ]
  },
  {
   "cell_type": "code",
   "execution_count": 24,
   "metadata": {
    "collapsed": false
   },
   "outputs": [],
   "source": [
    "repeated_data = group_data.query('counter != 1')"
   ]
  },
  {
   "cell_type": "code",
   "execution_count": 25,
   "metadata": {
    "collapsed": false
   },
   "outputs": [
    {
     "data": {
      "text/html": [
       "<div>\n",
       "<table border=\"1\" class=\"dataframe\">\n",
       "  <thead>\n",
       "    <tr style=\"text-align: right;\">\n",
       "      <th></th>\n",
       "      <th>cust_id</th>\n",
       "      <th>product_id</th>\n",
       "      <th>counter</th>\n",
       "    </tr>\n",
       "  </thead>\n",
       "  <tbody>\n",
       "    <tr>\n",
       "      <th>1</th>\n",
       "      <td>3053432</td>\n",
       "      <td>com.gopaktor.subscription.v4.premium.1m</td>\n",
       "      <td>10</td>\n",
       "    </tr>\n",
       "    <tr>\n",
       "      <th>4</th>\n",
       "      <td>3325662</td>\n",
       "      <td>com.gopaktor.subscription.v12.premium.1m</td>\n",
       "      <td>2</td>\n",
       "    </tr>\n",
       "    <tr>\n",
       "      <th>5</th>\n",
       "      <td>3409109</td>\n",
       "      <td>com.gopaktor.subscription.v12.premium.1m</td>\n",
       "      <td>2</td>\n",
       "    </tr>\n",
       "    <tr>\n",
       "      <th>6</th>\n",
       "      <td>3793254</td>\n",
       "      <td>com.gopaktor.subscription.v1.premium.1m</td>\n",
       "      <td>4</td>\n",
       "    </tr>\n",
       "    <tr>\n",
       "      <th>7</th>\n",
       "      <td>3893506</td>\n",
       "      <td>com.gopaktor.subscription.v1.premium.1m</td>\n",
       "      <td>4</td>\n",
       "    </tr>\n",
       "  </tbody>\n",
       "</table>\n",
       "</div>"
      ],
      "text/plain": [
       "   cust_id                                product_id  counter\n",
       "1  3053432   com.gopaktor.subscription.v4.premium.1m       10\n",
       "4  3325662  com.gopaktor.subscription.v12.premium.1m        2\n",
       "5  3409109  com.gopaktor.subscription.v12.premium.1m        2\n",
       "6  3793254   com.gopaktor.subscription.v1.premium.1m        4\n",
       "7  3893506   com.gopaktor.subscription.v1.premium.1m        4"
      ]
     },
     "execution_count": 25,
     "metadata": {},
     "output_type": "execute_result"
    }
   ],
   "source": [
    "repeated_data.head()"
   ]
  },
  {
   "cell_type": "code",
   "execution_count": 26,
   "metadata": {
    "collapsed": false
   },
   "outputs": [
    {
     "data": {
      "text/plain": [
       "796"
      ]
     },
     "execution_count": 26,
     "metadata": {},
     "output_type": "execute_result"
    }
   ],
   "source": [
    "len(repeated_data.cust_id.unique())"
   ]
  },
  {
   "cell_type": "code",
   "execution_count": 27,
   "metadata": {
    "collapsed": false
   },
   "outputs": [
    {
     "data": {
      "text/plain": [
       "9"
      ]
     },
     "execution_count": 27,
     "metadata": {},
     "output_type": "execute_result"
    }
   ],
   "source": [
    "len(repeated_data.product_id.unique())"
   ]
  },
  {
   "cell_type": "code",
   "execution_count": 28,
   "metadata": {
    "collapsed": false
   },
   "outputs": [
    {
     "data": {
      "text/html": [
       "<div>\n",
       "<table border=\"1\" class=\"dataframe\">\n",
       "  <thead>\n",
       "    <tr style=\"text-align: right;\">\n",
       "      <th></th>\n",
       "      <th>cust_id</th>\n",
       "      <th>product_id</th>\n",
       "      <th>counter</th>\n",
       "    </tr>\n",
       "  </thead>\n",
       "  <tbody>\n",
       "    <tr>\n",
       "      <th>1</th>\n",
       "      <td>3053432</td>\n",
       "      <td>com.gopaktor.subscription.v4.premium.1m</td>\n",
       "      <td>10</td>\n",
       "    </tr>\n",
       "    <tr>\n",
       "      <th>4</th>\n",
       "      <td>3325662</td>\n",
       "      <td>com.gopaktor.subscription.v12.premium.1m</td>\n",
       "      <td>2</td>\n",
       "    </tr>\n",
       "    <tr>\n",
       "      <th>5</th>\n",
       "      <td>3409109</td>\n",
       "      <td>com.gopaktor.subscription.v12.premium.1m</td>\n",
       "      <td>2</td>\n",
       "    </tr>\n",
       "    <tr>\n",
       "      <th>6</th>\n",
       "      <td>3793254</td>\n",
       "      <td>com.gopaktor.subscription.v1.premium.1m</td>\n",
       "      <td>4</td>\n",
       "    </tr>\n",
       "    <tr>\n",
       "      <th>7</th>\n",
       "      <td>3893506</td>\n",
       "      <td>com.gopaktor.subscription.v1.premium.1m</td>\n",
       "      <td>4</td>\n",
       "    </tr>\n",
       "  </tbody>\n",
       "</table>\n",
       "</div>"
      ],
      "text/plain": [
       "   cust_id                                product_id  counter\n",
       "1  3053432   com.gopaktor.subscription.v4.premium.1m       10\n",
       "4  3325662  com.gopaktor.subscription.v12.premium.1m        2\n",
       "5  3409109  com.gopaktor.subscription.v12.premium.1m        2\n",
       "6  3793254   com.gopaktor.subscription.v1.premium.1m        4\n",
       "7  3893506   com.gopaktor.subscription.v1.premium.1m        4"
      ]
     },
     "execution_count": 28,
     "metadata": {},
     "output_type": "execute_result"
    }
   ],
   "source": [
    "repeated_data.head()"
   ]
  },
  {
   "cell_type": "code",
   "execution_count": 29,
   "metadata": {
    "collapsed": false
   },
   "outputs": [
    {
     "data": {
      "text/html": [
       "<div>\n",
       "<table border=\"1\" class=\"dataframe\">\n",
       "  <thead>\n",
       "    <tr style=\"text-align: right;\">\n",
       "      <th></th>\n",
       "      <th>cust_id</th>\n",
       "      <th>product_id</th>\n",
       "      <th>timestamp</th>\n",
       "    </tr>\n",
       "  </thead>\n",
       "  <tbody>\n",
       "    <tr>\n",
       "      <th>0</th>\n",
       "      <td>3893506</td>\n",
       "      <td>com.gopaktor.subscription.v1.premium.1m</td>\n",
       "      <td>2016-09-07 13:59:45+00:00</td>\n",
       "    </tr>\n",
       "    <tr>\n",
       "      <th>1</th>\n",
       "      <td>3793254</td>\n",
       "      <td>com.gopaktor.subscription.v1.premium.1m</td>\n",
       "      <td>2016-09-25 03:06:11+00:00</td>\n",
       "    </tr>\n",
       "    <tr>\n",
       "      <th>2</th>\n",
       "      <td>6148794</td>\n",
       "      <td>com.gopaktor.subscription.v1.premium.1m</td>\n",
       "      <td>2016-10-01 02:27:37+00:00</td>\n",
       "    </tr>\n",
       "    <tr>\n",
       "      <th>3</th>\n",
       "      <td>6149220</td>\n",
       "      <td>com.gopaktor.subscription.v4.premium.1m</td>\n",
       "      <td>2016-10-01 06:39:16+00:00</td>\n",
       "    </tr>\n",
       "    <tr>\n",
       "      <th>4</th>\n",
       "      <td>6149432</td>\n",
       "      <td>com.gopaktor.subscription.v4.premium.1m</td>\n",
       "      <td>2016-10-01 09:07:49+00:00</td>\n",
       "    </tr>\n",
       "  </tbody>\n",
       "</table>\n",
       "</div>"
      ],
      "text/plain": [
       "   cust_id                               product_id                 timestamp\n",
       "0  3893506  com.gopaktor.subscription.v1.premium.1m 2016-09-07 13:59:45+00:00\n",
       "1  3793254  com.gopaktor.subscription.v1.premium.1m 2016-09-25 03:06:11+00:00\n",
       "2  6148794  com.gopaktor.subscription.v1.premium.1m 2016-10-01 02:27:37+00:00\n",
       "3  6149220  com.gopaktor.subscription.v4.premium.1m 2016-10-01 06:39:16+00:00\n",
       "4  6149432  com.gopaktor.subscription.v4.premium.1m 2016-10-01 09:07:49+00:00"
      ]
     },
     "execution_count": 29,
     "metadata": {},
     "output_type": "execute_result"
    }
   ],
   "source": [
    "trans_table.head()"
   ]
  },
  {
   "cell_type": "code",
   "execution_count": 30,
   "metadata": {
    "collapsed": false
   },
   "outputs": [],
   "source": [
    "xyz = pd.merge(trans_table, repeated_data, on=['cust_id', 'product_id'], how='left')"
   ]
  },
  {
   "cell_type": "code",
   "execution_count": 31,
   "metadata": {
    "collapsed": false
   },
   "outputs": [
    {
     "data": {
      "text/html": [
       "<div>\n",
       "<table border=\"1\" class=\"dataframe\">\n",
       "  <thead>\n",
       "    <tr style=\"text-align: right;\">\n",
       "      <th></th>\n",
       "      <th>cust_id</th>\n",
       "      <th>product_id</th>\n",
       "      <th>timestamp</th>\n",
       "      <th>counter</th>\n",
       "    </tr>\n",
       "  </thead>\n",
       "  <tbody>\n",
       "    <tr>\n",
       "      <th>0</th>\n",
       "      <td>3893506</td>\n",
       "      <td>com.gopaktor.subscription.v1.premium.1m</td>\n",
       "      <td>2016-09-07 13:59:45+00:00</td>\n",
       "      <td>4.0</td>\n",
       "    </tr>\n",
       "    <tr>\n",
       "      <th>1</th>\n",
       "      <td>3793254</td>\n",
       "      <td>com.gopaktor.subscription.v1.premium.1m</td>\n",
       "      <td>2016-09-25 03:06:11+00:00</td>\n",
       "      <td>4.0</td>\n",
       "    </tr>\n",
       "    <tr>\n",
       "      <th>2</th>\n",
       "      <td>6148794</td>\n",
       "      <td>com.gopaktor.subscription.v1.premium.1m</td>\n",
       "      <td>2016-10-01 02:27:37+00:00</td>\n",
       "      <td>NaN</td>\n",
       "    </tr>\n",
       "    <tr>\n",
       "      <th>3</th>\n",
       "      <td>6149220</td>\n",
       "      <td>com.gopaktor.subscription.v4.premium.1m</td>\n",
       "      <td>2016-10-01 06:39:16+00:00</td>\n",
       "      <td>NaN</td>\n",
       "    </tr>\n",
       "    <tr>\n",
       "      <th>4</th>\n",
       "      <td>6149432</td>\n",
       "      <td>com.gopaktor.subscription.v4.premium.1m</td>\n",
       "      <td>2016-10-01 09:07:49+00:00</td>\n",
       "      <td>NaN</td>\n",
       "    </tr>\n",
       "  </tbody>\n",
       "</table>\n",
       "</div>"
      ],
      "text/plain": [
       "   cust_id                               product_id                 timestamp  \\\n",
       "0  3893506  com.gopaktor.subscription.v1.premium.1m 2016-09-07 13:59:45+00:00   \n",
       "1  3793254  com.gopaktor.subscription.v1.premium.1m 2016-09-25 03:06:11+00:00   \n",
       "2  6148794  com.gopaktor.subscription.v1.premium.1m 2016-10-01 02:27:37+00:00   \n",
       "3  6149220  com.gopaktor.subscription.v4.premium.1m 2016-10-01 06:39:16+00:00   \n",
       "4  6149432  com.gopaktor.subscription.v4.premium.1m 2016-10-01 09:07:49+00:00   \n",
       "\n",
       "   counter  \n",
       "0      4.0  \n",
       "1      4.0  \n",
       "2      NaN  \n",
       "3      NaN  \n",
       "4      NaN  "
      ]
     },
     "execution_count": 31,
     "metadata": {},
     "output_type": "execute_result"
    }
   ],
   "source": [
    "xyz.head()"
   ]
  },
  {
   "cell_type": "code",
   "execution_count": 32,
   "metadata": {
    "collapsed": false
   },
   "outputs": [
    {
     "data": {
      "text/plain": [
       "(4428, 4)"
      ]
     },
     "execution_count": 32,
     "metadata": {},
     "output_type": "execute_result"
    }
   ],
   "source": [
    "xyz.shape"
   ]
  },
  {
   "cell_type": "code",
   "execution_count": 33,
   "metadata": {
    "collapsed": false
   },
   "outputs": [
    {
     "data": {
      "text/plain": [
       "3087"
      ]
     },
     "execution_count": 33,
     "metadata": {},
     "output_type": "execute_result"
    }
   ],
   "source": [
    "len(xyz.cust_id.unique())"
   ]
  },
  {
   "cell_type": "code",
   "execution_count": 34,
   "metadata": {
    "collapsed": false
   },
   "outputs": [
    {
     "data": {
      "text/plain": [
       "18"
      ]
     },
     "execution_count": 34,
     "metadata": {},
     "output_type": "execute_result"
    }
   ],
   "source": [
    "len(xyz.product_id.unique())"
   ]
  },
  {
   "cell_type": "code",
   "execution_count": 35,
   "metadata": {
    "collapsed": true
   },
   "outputs": [],
   "source": [
    "def x(frame):\n",
    "    frame['time'] = frame['timestamp'].max() - frame['timestamp'].min()\n",
    "    return frame"
   ]
  },
  {
   "cell_type": "code",
   "execution_count": 36,
   "metadata": {
    "collapsed": false
   },
   "outputs": [],
   "source": [
    "dates = xyz.groupby(['cust_id','product_id'], group_keys=False).apply(x)"
   ]
  },
  {
   "cell_type": "code",
   "execution_count": 37,
   "metadata": {
    "collapsed": false
   },
   "outputs": [
    {
     "data": {
      "text/html": [
       "<div>\n",
       "<table border=\"1\" class=\"dataframe\">\n",
       "  <thead>\n",
       "    <tr style=\"text-align: right;\">\n",
       "      <th></th>\n",
       "      <th>cust_id</th>\n",
       "      <th>product_id</th>\n",
       "      <th>timestamp</th>\n",
       "      <th>counter</th>\n",
       "      <th>time</th>\n",
       "    </tr>\n",
       "  </thead>\n",
       "  <tbody>\n",
       "    <tr>\n",
       "      <th>0</th>\n",
       "      <td>3893506</td>\n",
       "      <td>com.gopaktor.subscription.v1.premium.1m</td>\n",
       "      <td>2016-09-07 13:59:45+00:00</td>\n",
       "      <td>4.0</td>\n",
       "      <td>91 days 01:00:00</td>\n",
       "    </tr>\n",
       "    <tr>\n",
       "      <th>1</th>\n",
       "      <td>3793254</td>\n",
       "      <td>com.gopaktor.subscription.v1.premium.1m</td>\n",
       "      <td>2016-09-25 03:06:11+00:00</td>\n",
       "      <td>4.0</td>\n",
       "      <td>91 days 01:00:00</td>\n",
       "    </tr>\n",
       "    <tr>\n",
       "      <th>2</th>\n",
       "      <td>6148794</td>\n",
       "      <td>com.gopaktor.subscription.v1.premium.1m</td>\n",
       "      <td>2016-10-01 02:27:37+00:00</td>\n",
       "      <td>NaN</td>\n",
       "      <td>0 days 00:00:00</td>\n",
       "    </tr>\n",
       "    <tr>\n",
       "      <th>3</th>\n",
       "      <td>6149220</td>\n",
       "      <td>com.gopaktor.subscription.v4.premium.1m</td>\n",
       "      <td>2016-10-01 06:39:16+00:00</td>\n",
       "      <td>NaN</td>\n",
       "      <td>0 days 00:00:00</td>\n",
       "    </tr>\n",
       "    <tr>\n",
       "      <th>4</th>\n",
       "      <td>6149432</td>\n",
       "      <td>com.gopaktor.subscription.v4.premium.1m</td>\n",
       "      <td>2016-10-01 09:07:49+00:00</td>\n",
       "      <td>NaN</td>\n",
       "      <td>0 days 00:00:00</td>\n",
       "    </tr>\n",
       "  </tbody>\n",
       "</table>\n",
       "</div>"
      ],
      "text/plain": [
       "   cust_id                               product_id                 timestamp  \\\n",
       "0  3893506  com.gopaktor.subscription.v1.premium.1m 2016-09-07 13:59:45+00:00   \n",
       "1  3793254  com.gopaktor.subscription.v1.premium.1m 2016-09-25 03:06:11+00:00   \n",
       "2  6148794  com.gopaktor.subscription.v1.premium.1m 2016-10-01 02:27:37+00:00   \n",
       "3  6149220  com.gopaktor.subscription.v4.premium.1m 2016-10-01 06:39:16+00:00   \n",
       "4  6149432  com.gopaktor.subscription.v4.premium.1m 2016-10-01 09:07:49+00:00   \n",
       "\n",
       "   counter             time  \n",
       "0      4.0 91 days 01:00:00  \n",
       "1      4.0 91 days 01:00:00  \n",
       "2      NaN  0 days 00:00:00  \n",
       "3      NaN  0 days 00:00:00  \n",
       "4      NaN  0 days 00:00:00  "
      ]
     },
     "execution_count": 37,
     "metadata": {},
     "output_type": "execute_result"
    }
   ],
   "source": [
    "dates.head()"
   ]
  },
  {
   "cell_type": "code",
   "execution_count": 38,
   "metadata": {
    "collapsed": false
   },
   "outputs": [
    {
     "data": {
      "text/plain": [
       "(4428, 5)"
      ]
     },
     "execution_count": 38,
     "metadata": {},
     "output_type": "execute_result"
    }
   ],
   "source": [
    "dates.shape"
   ]
  },
  {
   "cell_type": "code",
   "execution_count": 39,
   "metadata": {
    "collapsed": false
   },
   "outputs": [
    {
     "data": {
      "text/plain": [
       "3087"
      ]
     },
     "execution_count": 39,
     "metadata": {},
     "output_type": "execute_result"
    }
   ],
   "source": [
    "len(dates.cust_id.unique())"
   ]
  },
  {
   "cell_type": "code",
   "execution_count": 40,
   "metadata": {
    "collapsed": false
   },
   "outputs": [
    {
     "data": {
      "text/plain": [
       "18"
      ]
     },
     "execution_count": 40,
     "metadata": {},
     "output_type": "execute_result"
    }
   ],
   "source": [
    "len(dates.product_id.unique())"
   ]
  },
  {
   "cell_type": "code",
   "execution_count": 41,
   "metadata": {
    "collapsed": true
   },
   "outputs": [],
   "source": [
    "dates.reset_index(drop=True,inplace=True)"
   ]
  },
  {
   "cell_type": "code",
   "execution_count": 42,
   "metadata": {
    "collapsed": false
   },
   "outputs": [
    {
     "data": {
      "text/html": [
       "<div>\n",
       "<table border=\"1\" class=\"dataframe\">\n",
       "  <thead>\n",
       "    <tr style=\"text-align: right;\">\n",
       "      <th></th>\n",
       "      <th>cust_id</th>\n",
       "      <th>product_id</th>\n",
       "      <th>timestamp</th>\n",
       "      <th>counter</th>\n",
       "      <th>time</th>\n",
       "    </tr>\n",
       "  </thead>\n",
       "  <tbody>\n",
       "    <tr>\n",
       "      <th>0</th>\n",
       "      <td>3893506</td>\n",
       "      <td>com.gopaktor.subscription.v1.premium.1m</td>\n",
       "      <td>2016-09-07 13:59:45+00:00</td>\n",
       "      <td>4.0</td>\n",
       "      <td>91 days 01:00:00</td>\n",
       "    </tr>\n",
       "    <tr>\n",
       "      <th>1</th>\n",
       "      <td>3793254</td>\n",
       "      <td>com.gopaktor.subscription.v1.premium.1m</td>\n",
       "      <td>2016-09-25 03:06:11+00:00</td>\n",
       "      <td>4.0</td>\n",
       "      <td>91 days 01:00:00</td>\n",
       "    </tr>\n",
       "    <tr>\n",
       "      <th>2</th>\n",
       "      <td>6148794</td>\n",
       "      <td>com.gopaktor.subscription.v1.premium.1m</td>\n",
       "      <td>2016-10-01 02:27:37+00:00</td>\n",
       "      <td>NaN</td>\n",
       "      <td>0 days 00:00:00</td>\n",
       "    </tr>\n",
       "    <tr>\n",
       "      <th>3</th>\n",
       "      <td>6149220</td>\n",
       "      <td>com.gopaktor.subscription.v4.premium.1m</td>\n",
       "      <td>2016-10-01 06:39:16+00:00</td>\n",
       "      <td>NaN</td>\n",
       "      <td>0 days 00:00:00</td>\n",
       "    </tr>\n",
       "    <tr>\n",
       "      <th>4</th>\n",
       "      <td>6149432</td>\n",
       "      <td>com.gopaktor.subscription.v4.premium.1m</td>\n",
       "      <td>2016-10-01 09:07:49+00:00</td>\n",
       "      <td>NaN</td>\n",
       "      <td>0 days 00:00:00</td>\n",
       "    </tr>\n",
       "  </tbody>\n",
       "</table>\n",
       "</div>"
      ],
      "text/plain": [
       "   cust_id                               product_id                 timestamp  \\\n",
       "0  3893506  com.gopaktor.subscription.v1.premium.1m 2016-09-07 13:59:45+00:00   \n",
       "1  3793254  com.gopaktor.subscription.v1.premium.1m 2016-09-25 03:06:11+00:00   \n",
       "2  6148794  com.gopaktor.subscription.v1.premium.1m 2016-10-01 02:27:37+00:00   \n",
       "3  6149220  com.gopaktor.subscription.v4.premium.1m 2016-10-01 06:39:16+00:00   \n",
       "4  6149432  com.gopaktor.subscription.v4.premium.1m 2016-10-01 09:07:49+00:00   \n",
       "\n",
       "   counter             time  \n",
       "0      4.0 91 days 01:00:00  \n",
       "1      4.0 91 days 01:00:00  \n",
       "2      NaN  0 days 00:00:00  \n",
       "3      NaN  0 days 00:00:00  \n",
       "4      NaN  0 days 00:00:00  "
      ]
     },
     "execution_count": 42,
     "metadata": {},
     "output_type": "execute_result"
    }
   ],
   "source": [
    "dates.head()"
   ]
  },
  {
   "cell_type": "code",
   "execution_count": 43,
   "metadata": {
    "collapsed": true
   },
   "outputs": [],
   "source": [
    "cust_repur = dates"
   ]
  },
  {
   "cell_type": "code",
   "execution_count": 44,
   "metadata": {
    "collapsed": false
   },
   "outputs": [
    {
     "data": {
      "text/html": [
       "<div>\n",
       "<table border=\"1\" class=\"dataframe\">\n",
       "  <thead>\n",
       "    <tr style=\"text-align: right;\">\n",
       "      <th></th>\n",
       "      <th>cust_id</th>\n",
       "      <th>product_id</th>\n",
       "      <th>timestamp</th>\n",
       "      <th>counter</th>\n",
       "      <th>time</th>\n",
       "    </tr>\n",
       "  </thead>\n",
       "  <tbody>\n",
       "    <tr>\n",
       "      <th>0</th>\n",
       "      <td>3893506</td>\n",
       "      <td>com.gopaktor.subscription.v1.premium.1m</td>\n",
       "      <td>2016-09-07 13:59:45+00:00</td>\n",
       "      <td>4.0</td>\n",
       "      <td>91 days 01:00:00</td>\n",
       "    </tr>\n",
       "    <tr>\n",
       "      <th>1</th>\n",
       "      <td>3793254</td>\n",
       "      <td>com.gopaktor.subscription.v1.premium.1m</td>\n",
       "      <td>2016-09-25 03:06:11+00:00</td>\n",
       "      <td>4.0</td>\n",
       "      <td>91 days 01:00:00</td>\n",
       "    </tr>\n",
       "    <tr>\n",
       "      <th>2</th>\n",
       "      <td>6148794</td>\n",
       "      <td>com.gopaktor.subscription.v1.premium.1m</td>\n",
       "      <td>2016-10-01 02:27:37+00:00</td>\n",
       "      <td>NaN</td>\n",
       "      <td>0 days 00:00:00</td>\n",
       "    </tr>\n",
       "    <tr>\n",
       "      <th>3</th>\n",
       "      <td>6149220</td>\n",
       "      <td>com.gopaktor.subscription.v4.premium.1m</td>\n",
       "      <td>2016-10-01 06:39:16+00:00</td>\n",
       "      <td>NaN</td>\n",
       "      <td>0 days 00:00:00</td>\n",
       "    </tr>\n",
       "    <tr>\n",
       "      <th>4</th>\n",
       "      <td>6149432</td>\n",
       "      <td>com.gopaktor.subscription.v4.premium.1m</td>\n",
       "      <td>2016-10-01 09:07:49+00:00</td>\n",
       "      <td>NaN</td>\n",
       "      <td>0 days 00:00:00</td>\n",
       "    </tr>\n",
       "  </tbody>\n",
       "</table>\n",
       "</div>"
      ],
      "text/plain": [
       "   cust_id                               product_id                 timestamp  \\\n",
       "0  3893506  com.gopaktor.subscription.v1.premium.1m 2016-09-07 13:59:45+00:00   \n",
       "1  3793254  com.gopaktor.subscription.v1.premium.1m 2016-09-25 03:06:11+00:00   \n",
       "2  6148794  com.gopaktor.subscription.v1.premium.1m 2016-10-01 02:27:37+00:00   \n",
       "3  6149220  com.gopaktor.subscription.v4.premium.1m 2016-10-01 06:39:16+00:00   \n",
       "4  6149432  com.gopaktor.subscription.v4.premium.1m 2016-10-01 09:07:49+00:00   \n",
       "\n",
       "   counter             time  \n",
       "0      4.0 91 days 01:00:00  \n",
       "1      4.0 91 days 01:00:00  \n",
       "2      NaN  0 days 00:00:00  \n",
       "3      NaN  0 days 00:00:00  \n",
       "4      NaN  0 days 00:00:00  "
      ]
     },
     "execution_count": 44,
     "metadata": {},
     "output_type": "execute_result"
    }
   ],
   "source": [
    "cust_repur.head()"
   ]
  },
  {
   "cell_type": "code",
   "execution_count": 45,
   "metadata": {
    "collapsed": false
   },
   "outputs": [
    {
     "data": {
      "text/plain": [
       "(4428, 5)"
      ]
     },
     "execution_count": 45,
     "metadata": {},
     "output_type": "execute_result"
    }
   ],
   "source": [
    "cust_repur.shape"
   ]
  },
  {
   "cell_type": "code",
   "execution_count": 46,
   "metadata": {
    "collapsed": false
   },
   "outputs": [],
   "source": [
    "cust_repur.reset_index(drop=True, inplace=True)"
   ]
  },
  {
   "cell_type": "code",
   "execution_count": 47,
   "metadata": {
    "collapsed": false
   },
   "outputs": [
    {
     "data": {
      "text/html": [
       "<div>\n",
       "<table border=\"1\" class=\"dataframe\">\n",
       "  <thead>\n",
       "    <tr style=\"text-align: right;\">\n",
       "      <th></th>\n",
       "      <th>cust_id</th>\n",
       "      <th>product_id</th>\n",
       "      <th>timestamp</th>\n",
       "      <th>counter</th>\n",
       "      <th>time</th>\n",
       "    </tr>\n",
       "  </thead>\n",
       "  <tbody>\n",
       "    <tr>\n",
       "      <th>0</th>\n",
       "      <td>3893506</td>\n",
       "      <td>com.gopaktor.subscription.v1.premium.1m</td>\n",
       "      <td>2016-09-07 13:59:45+00:00</td>\n",
       "      <td>4.0</td>\n",
       "      <td>91 days 01:00:00</td>\n",
       "    </tr>\n",
       "    <tr>\n",
       "      <th>1</th>\n",
       "      <td>3793254</td>\n",
       "      <td>com.gopaktor.subscription.v1.premium.1m</td>\n",
       "      <td>2016-09-25 03:06:11+00:00</td>\n",
       "      <td>4.0</td>\n",
       "      <td>91 days 01:00:00</td>\n",
       "    </tr>\n",
       "    <tr>\n",
       "      <th>2</th>\n",
       "      <td>6148794</td>\n",
       "      <td>com.gopaktor.subscription.v1.premium.1m</td>\n",
       "      <td>2016-10-01 02:27:37+00:00</td>\n",
       "      <td>NaN</td>\n",
       "      <td>0 days 00:00:00</td>\n",
       "    </tr>\n",
       "    <tr>\n",
       "      <th>3</th>\n",
       "      <td>6149220</td>\n",
       "      <td>com.gopaktor.subscription.v4.premium.1m</td>\n",
       "      <td>2016-10-01 06:39:16+00:00</td>\n",
       "      <td>NaN</td>\n",
       "      <td>0 days 00:00:00</td>\n",
       "    </tr>\n",
       "    <tr>\n",
       "      <th>4</th>\n",
       "      <td>6149432</td>\n",
       "      <td>com.gopaktor.subscription.v4.premium.1m</td>\n",
       "      <td>2016-10-01 09:07:49+00:00</td>\n",
       "      <td>NaN</td>\n",
       "      <td>0 days 00:00:00</td>\n",
       "    </tr>\n",
       "  </tbody>\n",
       "</table>\n",
       "</div>"
      ],
      "text/plain": [
       "   cust_id                               product_id                 timestamp  \\\n",
       "0  3893506  com.gopaktor.subscription.v1.premium.1m 2016-09-07 13:59:45+00:00   \n",
       "1  3793254  com.gopaktor.subscription.v1.premium.1m 2016-09-25 03:06:11+00:00   \n",
       "2  6148794  com.gopaktor.subscription.v1.premium.1m 2016-10-01 02:27:37+00:00   \n",
       "3  6149220  com.gopaktor.subscription.v4.premium.1m 2016-10-01 06:39:16+00:00   \n",
       "4  6149432  com.gopaktor.subscription.v4.premium.1m 2016-10-01 09:07:49+00:00   \n",
       "\n",
       "   counter             time  \n",
       "0      4.0 91 days 01:00:00  \n",
       "1      4.0 91 days 01:00:00  \n",
       "2      NaN  0 days 00:00:00  \n",
       "3      NaN  0 days 00:00:00  \n",
       "4      NaN  0 days 00:00:00  "
      ]
     },
     "execution_count": 47,
     "metadata": {},
     "output_type": "execute_result"
    }
   ],
   "source": [
    "cust_repur.head()"
   ]
  },
  {
   "cell_type": "code",
   "execution_count": 48,
   "metadata": {
    "collapsed": false
   },
   "outputs": [
    {
     "data": {
      "text/plain": [
       "(4428, 5)"
      ]
     },
     "execution_count": 48,
     "metadata": {},
     "output_type": "execute_result"
    }
   ],
   "source": [
    "cust_repur.shape"
   ]
  },
  {
   "cell_type": "code",
   "execution_count": 49,
   "metadata": {
    "collapsed": false
   },
   "outputs": [],
   "source": [
    "list_of_indexes = [np.argmax(g['timestamp']) for l, g in cust_repur.groupby(['cust_id','product_id'])]"
   ]
  },
  {
   "cell_type": "code",
   "execution_count": 50,
   "metadata": {
    "collapsed": true
   },
   "outputs": [],
   "source": [
    "cust_repur_original = cust_repur.ix[list_of_indexes]"
   ]
  },
  {
   "cell_type": "code",
   "execution_count": 51,
   "metadata": {
    "collapsed": false
   },
   "outputs": [
    {
     "data": {
      "text/html": [
       "<div>\n",
       "<table border=\"1\" class=\"dataframe\">\n",
       "  <thead>\n",
       "    <tr style=\"text-align: right;\">\n",
       "      <th></th>\n",
       "      <th>cust_id</th>\n",
       "      <th>product_id</th>\n",
       "      <th>timestamp</th>\n",
       "      <th>counter</th>\n",
       "      <th>time</th>\n",
       "    </tr>\n",
       "  </thead>\n",
       "  <tbody>\n",
       "    <tr>\n",
       "      <th>2790</th>\n",
       "      <td>2942914</td>\n",
       "      <td>com.gopaktor.subscription.v1.premium.1m</td>\n",
       "      <td>2016-12-24 09:53:35+00:00</td>\n",
       "      <td>NaN</td>\n",
       "      <td>0 days 00:00:00</td>\n",
       "    </tr>\n",
       "    <tr>\n",
       "      <th>3556</th>\n",
       "      <td>3053432</td>\n",
       "      <td>com.gopaktor.subscription.v4.premium.1m</td>\n",
       "      <td>2017-01-26 06:22:00+00:00</td>\n",
       "      <td>10.0</td>\n",
       "      <td>245 days 01:54:56</td>\n",
       "    </tr>\n",
       "    <tr>\n",
       "      <th>2529</th>\n",
       "      <td>3129800</td>\n",
       "      <td>com.gopaktor.subscription.v1.premium.1m</td>\n",
       "      <td>2016-12-09 07:57:37+00:00</td>\n",
       "      <td>NaN</td>\n",
       "      <td>0 days 00:00:00</td>\n",
       "    </tr>\n",
       "    <tr>\n",
       "      <th>1308</th>\n",
       "      <td>3289765</td>\n",
       "      <td>com.gopaktor.subscription.v2.premium.6m.2000</td>\n",
       "      <td>2016-12-06 11:37:37+00:00</td>\n",
       "      <td>NaN</td>\n",
       "      <td>0 days 00:00:00</td>\n",
       "    </tr>\n",
       "    <tr>\n",
       "      <th>2411</th>\n",
       "      <td>3325662</td>\n",
       "      <td>com.gopaktor.subscription.v12.premium.1m</td>\n",
       "      <td>2016-12-03 04:36:00+00:00</td>\n",
       "      <td>2.0</td>\n",
       "      <td>31 days 01:49:48</td>\n",
       "    </tr>\n",
       "  </tbody>\n",
       "</table>\n",
       "</div>"
      ],
      "text/plain": [
       "      cust_id                                    product_id  \\\n",
       "2790  2942914       com.gopaktor.subscription.v1.premium.1m   \n",
       "3556  3053432       com.gopaktor.subscription.v4.premium.1m   \n",
       "2529  3129800       com.gopaktor.subscription.v1.premium.1m   \n",
       "1308  3289765  com.gopaktor.subscription.v2.premium.6m.2000   \n",
       "2411  3325662      com.gopaktor.subscription.v12.premium.1m   \n",
       "\n",
       "                     timestamp  counter              time  \n",
       "2790 2016-12-24 09:53:35+00:00      NaN   0 days 00:00:00  \n",
       "3556 2017-01-26 06:22:00+00:00     10.0 245 days 01:54:56  \n",
       "2529 2016-12-09 07:57:37+00:00      NaN   0 days 00:00:00  \n",
       "1308 2016-12-06 11:37:37+00:00      NaN   0 days 00:00:00  \n",
       "2411 2016-12-03 04:36:00+00:00      2.0  31 days 01:49:48  "
      ]
     },
     "execution_count": 51,
     "metadata": {},
     "output_type": "execute_result"
    }
   ],
   "source": [
    "cust_repur_original.head()"
   ]
  },
  {
   "cell_type": "code",
   "execution_count": 52,
   "metadata": {
    "collapsed": false
   },
   "outputs": [],
   "source": [
    "cust_repur_original.reset_index(drop=True,inplace=True)"
   ]
  },
  {
   "cell_type": "code",
   "execution_count": 53,
   "metadata": {
    "collapsed": false
   },
   "outputs": [
    {
     "data": {
      "text/html": [
       "<div>\n",
       "<table border=\"1\" class=\"dataframe\">\n",
       "  <thead>\n",
       "    <tr style=\"text-align: right;\">\n",
       "      <th></th>\n",
       "      <th>cust_id</th>\n",
       "      <th>product_id</th>\n",
       "      <th>timestamp</th>\n",
       "      <th>counter</th>\n",
       "      <th>time</th>\n",
       "    </tr>\n",
       "  </thead>\n",
       "  <tbody>\n",
       "    <tr>\n",
       "      <th>0</th>\n",
       "      <td>2942914</td>\n",
       "      <td>com.gopaktor.subscription.v1.premium.1m</td>\n",
       "      <td>2016-12-24 09:53:35+00:00</td>\n",
       "      <td>NaN</td>\n",
       "      <td>0 days 00:00:00</td>\n",
       "    </tr>\n",
       "    <tr>\n",
       "      <th>1</th>\n",
       "      <td>3053432</td>\n",
       "      <td>com.gopaktor.subscription.v4.premium.1m</td>\n",
       "      <td>2017-01-26 06:22:00+00:00</td>\n",
       "      <td>10.0</td>\n",
       "      <td>245 days 01:54:56</td>\n",
       "    </tr>\n",
       "    <tr>\n",
       "      <th>2</th>\n",
       "      <td>3129800</td>\n",
       "      <td>com.gopaktor.subscription.v1.premium.1m</td>\n",
       "      <td>2016-12-09 07:57:37+00:00</td>\n",
       "      <td>NaN</td>\n",
       "      <td>0 days 00:00:00</td>\n",
       "    </tr>\n",
       "    <tr>\n",
       "      <th>3</th>\n",
       "      <td>3289765</td>\n",
       "      <td>com.gopaktor.subscription.v2.premium.6m.2000</td>\n",
       "      <td>2016-12-06 11:37:37+00:00</td>\n",
       "      <td>NaN</td>\n",
       "      <td>0 days 00:00:00</td>\n",
       "    </tr>\n",
       "    <tr>\n",
       "      <th>4</th>\n",
       "      <td>3325662</td>\n",
       "      <td>com.gopaktor.subscription.v12.premium.1m</td>\n",
       "      <td>2016-12-03 04:36:00+00:00</td>\n",
       "      <td>2.0</td>\n",
       "      <td>31 days 01:49:48</td>\n",
       "    </tr>\n",
       "  </tbody>\n",
       "</table>\n",
       "</div>"
      ],
      "text/plain": [
       "   cust_id                                    product_id  \\\n",
       "0  2942914       com.gopaktor.subscription.v1.premium.1m   \n",
       "1  3053432       com.gopaktor.subscription.v4.premium.1m   \n",
       "2  3129800       com.gopaktor.subscription.v1.premium.1m   \n",
       "3  3289765  com.gopaktor.subscription.v2.premium.6m.2000   \n",
       "4  3325662      com.gopaktor.subscription.v12.premium.1m   \n",
       "\n",
       "                  timestamp  counter              time  \n",
       "0 2016-12-24 09:53:35+00:00      NaN   0 days 00:00:00  \n",
       "1 2017-01-26 06:22:00+00:00     10.0 245 days 01:54:56  \n",
       "2 2016-12-09 07:57:37+00:00      NaN   0 days 00:00:00  \n",
       "3 2016-12-06 11:37:37+00:00      NaN   0 days 00:00:00  \n",
       "4 2016-12-03 04:36:00+00:00      2.0  31 days 01:49:48  "
      ]
     },
     "execution_count": 53,
     "metadata": {},
     "output_type": "execute_result"
    }
   ],
   "source": [
    "cust_repur_original.head()"
   ]
  },
  {
   "cell_type": "code",
   "execution_count": 54,
   "metadata": {
    "collapsed": true
   },
   "outputs": [],
   "source": [
    "cust_repur_original['days_int'] = cust_repur_original['time'].dt.days"
   ]
  },
  {
   "cell_type": "code",
   "execution_count": 55,
   "metadata": {
    "collapsed": false
   },
   "outputs": [
    {
     "data": {
      "text/html": [
       "<div>\n",
       "<table border=\"1\" class=\"dataframe\">\n",
       "  <thead>\n",
       "    <tr style=\"text-align: right;\">\n",
       "      <th></th>\n",
       "      <th>cust_id</th>\n",
       "      <th>product_id</th>\n",
       "      <th>timestamp</th>\n",
       "      <th>counter</th>\n",
       "      <th>time</th>\n",
       "      <th>days_int</th>\n",
       "    </tr>\n",
       "  </thead>\n",
       "  <tbody>\n",
       "    <tr>\n",
       "      <th>0</th>\n",
       "      <td>2942914</td>\n",
       "      <td>com.gopaktor.subscription.v1.premium.1m</td>\n",
       "      <td>2016-12-24 09:53:35+00:00</td>\n",
       "      <td>NaN</td>\n",
       "      <td>0 days 00:00:00</td>\n",
       "      <td>0</td>\n",
       "    </tr>\n",
       "    <tr>\n",
       "      <th>1</th>\n",
       "      <td>3053432</td>\n",
       "      <td>com.gopaktor.subscription.v4.premium.1m</td>\n",
       "      <td>2017-01-26 06:22:00+00:00</td>\n",
       "      <td>10.0</td>\n",
       "      <td>245 days 01:54:56</td>\n",
       "      <td>245</td>\n",
       "    </tr>\n",
       "    <tr>\n",
       "      <th>2</th>\n",
       "      <td>3129800</td>\n",
       "      <td>com.gopaktor.subscription.v1.premium.1m</td>\n",
       "      <td>2016-12-09 07:57:37+00:00</td>\n",
       "      <td>NaN</td>\n",
       "      <td>0 days 00:00:00</td>\n",
       "      <td>0</td>\n",
       "    </tr>\n",
       "    <tr>\n",
       "      <th>3</th>\n",
       "      <td>3289765</td>\n",
       "      <td>com.gopaktor.subscription.v2.premium.6m.2000</td>\n",
       "      <td>2016-12-06 11:37:37+00:00</td>\n",
       "      <td>NaN</td>\n",
       "      <td>0 days 00:00:00</td>\n",
       "      <td>0</td>\n",
       "    </tr>\n",
       "    <tr>\n",
       "      <th>4</th>\n",
       "      <td>3325662</td>\n",
       "      <td>com.gopaktor.subscription.v12.premium.1m</td>\n",
       "      <td>2016-12-03 04:36:00+00:00</td>\n",
       "      <td>2.0</td>\n",
       "      <td>31 days 01:49:48</td>\n",
       "      <td>31</td>\n",
       "    </tr>\n",
       "  </tbody>\n",
       "</table>\n",
       "</div>"
      ],
      "text/plain": [
       "   cust_id                                    product_id  \\\n",
       "0  2942914       com.gopaktor.subscription.v1.premium.1m   \n",
       "1  3053432       com.gopaktor.subscription.v4.premium.1m   \n",
       "2  3129800       com.gopaktor.subscription.v1.premium.1m   \n",
       "3  3289765  com.gopaktor.subscription.v2.premium.6m.2000   \n",
       "4  3325662      com.gopaktor.subscription.v12.premium.1m   \n",
       "\n",
       "                  timestamp  counter              time  days_int  \n",
       "0 2016-12-24 09:53:35+00:00      NaN   0 days 00:00:00         0  \n",
       "1 2017-01-26 06:22:00+00:00     10.0 245 days 01:54:56       245  \n",
       "2 2016-12-09 07:57:37+00:00      NaN   0 days 00:00:00         0  \n",
       "3 2016-12-06 11:37:37+00:00      NaN   0 days 00:00:00         0  \n",
       "4 2016-12-03 04:36:00+00:00      2.0  31 days 01:49:48        31  "
      ]
     },
     "execution_count": 55,
     "metadata": {},
     "output_type": "execute_result"
    }
   ],
   "source": [
    "cust_repur_original.head()"
   ]
  },
  {
   "cell_type": "code",
   "execution_count": null,
   "metadata": {
    "collapsed": false
   },
   "outputs": [],
   "source": [
    "#for x in range(0,len(cust_repur_original)):\n",
    "    #cust_repur_original.days_int[x] = cust_repur_original.time[x].days"
   ]
  },
  {
   "cell_type": "code",
   "execution_count": null,
   "metadata": {
    "collapsed": false
   },
   "outputs": [],
   "source": [
    "cust_repur_original.head()"
   ]
  },
  {
   "cell_type": "raw",
   "metadata": {
    "collapsed": false
   },
   "source": [
    "\"\"\"for x in range(0,len(cust_repur_original)):\n",
    "    if cust_repur_original.days_int[x] != 0:\n",
    "        cust_repur_original.new_date[x] = cust_repur_original.days_int[x] - 1\n",
    "    else:\n",
    "        cust_repur_original.new_date[x] = 0\"\"\"\"\"\""
   ]
  },
  {
   "cell_type": "code",
   "execution_count": 56,
   "metadata": {
    "collapsed": false
   },
   "outputs": [],
   "source": [
    "cust_repur_original['repurchase_time'] = (cust_repur_original['days_int']-1) / (cust_repur_original['counter']-1)"
   ]
  },
  {
   "cell_type": "code",
   "execution_count": 57,
   "metadata": {
    "collapsed": false
   },
   "outputs": [
    {
     "data": {
      "text/html": [
       "<div>\n",
       "<table border=\"1\" class=\"dataframe\">\n",
       "  <thead>\n",
       "    <tr style=\"text-align: right;\">\n",
       "      <th></th>\n",
       "      <th>cust_id</th>\n",
       "      <th>product_id</th>\n",
       "      <th>timestamp</th>\n",
       "      <th>counter</th>\n",
       "      <th>time</th>\n",
       "      <th>days_int</th>\n",
       "      <th>repurchase_time</th>\n",
       "    </tr>\n",
       "  </thead>\n",
       "  <tbody>\n",
       "    <tr>\n",
       "      <th>0</th>\n",
       "      <td>2942914</td>\n",
       "      <td>com.gopaktor.subscription.v1.premium.1m</td>\n",
       "      <td>2016-12-24 09:53:35+00:00</td>\n",
       "      <td>NaN</td>\n",
       "      <td>0 days 00:00:00</td>\n",
       "      <td>0</td>\n",
       "      <td>NaN</td>\n",
       "    </tr>\n",
       "    <tr>\n",
       "      <th>1</th>\n",
       "      <td>3053432</td>\n",
       "      <td>com.gopaktor.subscription.v4.premium.1m</td>\n",
       "      <td>2017-01-26 06:22:00+00:00</td>\n",
       "      <td>10.0</td>\n",
       "      <td>245 days 01:54:56</td>\n",
       "      <td>245</td>\n",
       "      <td>27.111111</td>\n",
       "    </tr>\n",
       "    <tr>\n",
       "      <th>2</th>\n",
       "      <td>3129800</td>\n",
       "      <td>com.gopaktor.subscription.v1.premium.1m</td>\n",
       "      <td>2016-12-09 07:57:37+00:00</td>\n",
       "      <td>NaN</td>\n",
       "      <td>0 days 00:00:00</td>\n",
       "      <td>0</td>\n",
       "      <td>NaN</td>\n",
       "    </tr>\n",
       "    <tr>\n",
       "      <th>3</th>\n",
       "      <td>3289765</td>\n",
       "      <td>com.gopaktor.subscription.v2.premium.6m.2000</td>\n",
       "      <td>2016-12-06 11:37:37+00:00</td>\n",
       "      <td>NaN</td>\n",
       "      <td>0 days 00:00:00</td>\n",
       "      <td>0</td>\n",
       "      <td>NaN</td>\n",
       "    </tr>\n",
       "    <tr>\n",
       "      <th>4</th>\n",
       "      <td>3325662</td>\n",
       "      <td>com.gopaktor.subscription.v12.premium.1m</td>\n",
       "      <td>2016-12-03 04:36:00+00:00</td>\n",
       "      <td>2.0</td>\n",
       "      <td>31 days 01:49:48</td>\n",
       "      <td>31</td>\n",
       "      <td>30.000000</td>\n",
       "    </tr>\n",
       "  </tbody>\n",
       "</table>\n",
       "</div>"
      ],
      "text/plain": [
       "   cust_id                                    product_id  \\\n",
       "0  2942914       com.gopaktor.subscription.v1.premium.1m   \n",
       "1  3053432       com.gopaktor.subscription.v4.premium.1m   \n",
       "2  3129800       com.gopaktor.subscription.v1.premium.1m   \n",
       "3  3289765  com.gopaktor.subscription.v2.premium.6m.2000   \n",
       "4  3325662      com.gopaktor.subscription.v12.premium.1m   \n",
       "\n",
       "                  timestamp  counter              time  days_int  \\\n",
       "0 2016-12-24 09:53:35+00:00      NaN   0 days 00:00:00         0   \n",
       "1 2017-01-26 06:22:00+00:00     10.0 245 days 01:54:56       245   \n",
       "2 2016-12-09 07:57:37+00:00      NaN   0 days 00:00:00         0   \n",
       "3 2016-12-06 11:37:37+00:00      NaN   0 days 00:00:00         0   \n",
       "4 2016-12-03 04:36:00+00:00      2.0  31 days 01:49:48        31   \n",
       "\n",
       "   repurchase_time  \n",
       "0              NaN  \n",
       "1        27.111111  \n",
       "2              NaN  \n",
       "3              NaN  \n",
       "4        30.000000  "
      ]
     },
     "execution_count": 57,
     "metadata": {},
     "output_type": "execute_result"
    }
   ],
   "source": [
    "cust_repur_original.head()"
   ]
  },
  {
   "cell_type": "code",
   "execution_count": 58,
   "metadata": {
    "collapsed": false
   },
   "outputs": [
    {
     "data": {
      "text/plain": [
       "18"
      ]
     },
     "execution_count": 58,
     "metadata": {},
     "output_type": "execute_result"
    }
   ],
   "source": [
    "len(cust_repur_original.product_id.unique())"
   ]
  },
  {
   "cell_type": "code",
   "execution_count": 59,
   "metadata": {
    "collapsed": false
   },
   "outputs": [],
   "source": [
    "abc = pd.pivot_table(cust_repur_original, index=['cust_id'], columns=['product_id'], values=['repurchase_time'], aggfunc='first')"
   ]
  },
  {
   "cell_type": "code",
   "execution_count": 60,
   "metadata": {
    "collapsed": false
   },
   "outputs": [
    {
     "data": {
      "text/plain": [
       "(3087, 18)"
      ]
     },
     "execution_count": 60,
     "metadata": {},
     "output_type": "execute_result"
    }
   ],
   "source": [
    "abc.shape"
   ]
  },
  {
   "cell_type": "code",
   "execution_count": 61,
   "metadata": {
    "collapsed": false
   },
   "outputs": [
    {
     "data": {
      "text/html": [
       "<div>\n",
       "<table border=\"1\" class=\"dataframe\">\n",
       "  <thead>\n",
       "    <tr>\n",
       "      <th></th>\n",
       "      <th colspan=\"18\" halign=\"left\">repurchase_time</th>\n",
       "    </tr>\n",
       "    <tr>\n",
       "      <th>product_id</th>\n",
       "      <th>com.gopaktor.credit.v2.1000</th>\n",
       "      <th>com.gopaktor.credit.v2.10000</th>\n",
       "      <th>com.gopaktor.credit.v2.3000</th>\n",
       "      <th>com.gopaktor.credit.v2.6000</th>\n",
       "      <th>com.gopaktor.credit.v3.2000</th>\n",
       "      <th>com.gopaktor.subscription.v1.premium.1m</th>\n",
       "      <th>com.gopaktor.subscription.v11.premium.6m</th>\n",
       "      <th>com.gopaktor.subscription.v12.premium.1m</th>\n",
       "      <th>com.gopaktor.subscription.v12.premium.3m</th>\n",
       "      <th>com.gopaktor.subscription.v2.premium.1m.2000</th>\n",
       "      <th>com.gopaktor.subscription.v2.premium.1m.3000</th>\n",
       "      <th>com.gopaktor.subscription.v2.premium.3m</th>\n",
       "      <th>com.gopaktor.subscription.v2.premium.3m.2000</th>\n",
       "      <th>com.gopaktor.subscription.v2.premium.6m</th>\n",
       "      <th>com.gopaktor.subscription.v2.premium.6m.2000</th>\n",
       "      <th>com.gopaktor.subscription.v3.premium.3m</th>\n",
       "      <th>com.gopaktor.subscription.v3.premium.6m</th>\n",
       "      <th>com.gopaktor.subscription.v4.premium.1m</th>\n",
       "    </tr>\n",
       "    <tr>\n",
       "      <th>cust_id</th>\n",
       "      <th></th>\n",
       "      <th></th>\n",
       "      <th></th>\n",
       "      <th></th>\n",
       "      <th></th>\n",
       "      <th></th>\n",
       "      <th></th>\n",
       "      <th></th>\n",
       "      <th></th>\n",
       "      <th></th>\n",
       "      <th></th>\n",
       "      <th></th>\n",
       "      <th></th>\n",
       "      <th></th>\n",
       "      <th></th>\n",
       "      <th></th>\n",
       "      <th></th>\n",
       "      <th></th>\n",
       "    </tr>\n",
       "  </thead>\n",
       "  <tbody>\n",
       "    <tr>\n",
       "      <th>2942914</th>\n",
       "      <td>NaN</td>\n",
       "      <td>NaN</td>\n",
       "      <td>NaN</td>\n",
       "      <td>NaN</td>\n",
       "      <td>NaN</td>\n",
       "      <td>NaN</td>\n",
       "      <td>NaN</td>\n",
       "      <td>NaN</td>\n",
       "      <td>NaN</td>\n",
       "      <td>NaN</td>\n",
       "      <td>NaN</td>\n",
       "      <td>NaN</td>\n",
       "      <td>NaN</td>\n",
       "      <td>NaN</td>\n",
       "      <td>NaN</td>\n",
       "      <td>NaN</td>\n",
       "      <td>NaN</td>\n",
       "      <td>NaN</td>\n",
       "    </tr>\n",
       "    <tr>\n",
       "      <th>3053432</th>\n",
       "      <td>NaN</td>\n",
       "      <td>NaN</td>\n",
       "      <td>NaN</td>\n",
       "      <td>NaN</td>\n",
       "      <td>NaN</td>\n",
       "      <td>NaN</td>\n",
       "      <td>NaN</td>\n",
       "      <td>NaN</td>\n",
       "      <td>NaN</td>\n",
       "      <td>NaN</td>\n",
       "      <td>NaN</td>\n",
       "      <td>NaN</td>\n",
       "      <td>NaN</td>\n",
       "      <td>NaN</td>\n",
       "      <td>NaN</td>\n",
       "      <td>NaN</td>\n",
       "      <td>NaN</td>\n",
       "      <td>27.111111</td>\n",
       "    </tr>\n",
       "    <tr>\n",
       "      <th>3129800</th>\n",
       "      <td>NaN</td>\n",
       "      <td>NaN</td>\n",
       "      <td>NaN</td>\n",
       "      <td>NaN</td>\n",
       "      <td>NaN</td>\n",
       "      <td>NaN</td>\n",
       "      <td>NaN</td>\n",
       "      <td>NaN</td>\n",
       "      <td>NaN</td>\n",
       "      <td>NaN</td>\n",
       "      <td>NaN</td>\n",
       "      <td>NaN</td>\n",
       "      <td>NaN</td>\n",
       "      <td>NaN</td>\n",
       "      <td>NaN</td>\n",
       "      <td>NaN</td>\n",
       "      <td>NaN</td>\n",
       "      <td>NaN</td>\n",
       "    </tr>\n",
       "    <tr>\n",
       "      <th>3289765</th>\n",
       "      <td>NaN</td>\n",
       "      <td>NaN</td>\n",
       "      <td>NaN</td>\n",
       "      <td>NaN</td>\n",
       "      <td>NaN</td>\n",
       "      <td>NaN</td>\n",
       "      <td>NaN</td>\n",
       "      <td>NaN</td>\n",
       "      <td>NaN</td>\n",
       "      <td>NaN</td>\n",
       "      <td>NaN</td>\n",
       "      <td>NaN</td>\n",
       "      <td>NaN</td>\n",
       "      <td>NaN</td>\n",
       "      <td>NaN</td>\n",
       "      <td>NaN</td>\n",
       "      <td>NaN</td>\n",
       "      <td>NaN</td>\n",
       "    </tr>\n",
       "    <tr>\n",
       "      <th>3325662</th>\n",
       "      <td>NaN</td>\n",
       "      <td>NaN</td>\n",
       "      <td>NaN</td>\n",
       "      <td>NaN</td>\n",
       "      <td>NaN</td>\n",
       "      <td>NaN</td>\n",
       "      <td>NaN</td>\n",
       "      <td>30.0</td>\n",
       "      <td>NaN</td>\n",
       "      <td>NaN</td>\n",
       "      <td>NaN</td>\n",
       "      <td>NaN</td>\n",
       "      <td>NaN</td>\n",
       "      <td>NaN</td>\n",
       "      <td>NaN</td>\n",
       "      <td>NaN</td>\n",
       "      <td>NaN</td>\n",
       "      <td>NaN</td>\n",
       "    </tr>\n",
       "  </tbody>\n",
       "</table>\n",
       "</div>"
      ],
      "text/plain": [
       "                       repurchase_time                               \\\n",
       "product_id com.gopaktor.credit.v2.1000 com.gopaktor.credit.v2.10000   \n",
       "cust_id                                                               \n",
       "2942914                            NaN                          NaN   \n",
       "3053432                            NaN                          NaN   \n",
       "3129800                            NaN                          NaN   \n",
       "3289765                            NaN                          NaN   \n",
       "3325662                            NaN                          NaN   \n",
       "\n",
       "                                                                    \\\n",
       "product_id com.gopaktor.credit.v2.3000 com.gopaktor.credit.v2.6000   \n",
       "cust_id                                                              \n",
       "2942914                            NaN                         NaN   \n",
       "3053432                            NaN                         NaN   \n",
       "3129800                            NaN                         NaN   \n",
       "3289765                            NaN                         NaN   \n",
       "3325662                            NaN                         NaN   \n",
       "\n",
       "                                        \\\n",
       "product_id com.gopaktor.credit.v3.2000   \n",
       "cust_id                                  \n",
       "2942914                            NaN   \n",
       "3053432                            NaN   \n",
       "3129800                            NaN   \n",
       "3289765                            NaN   \n",
       "3325662                            NaN   \n",
       "\n",
       "                                                    \\\n",
       "product_id com.gopaktor.subscription.v1.premium.1m   \n",
       "cust_id                                              \n",
       "2942914                                        NaN   \n",
       "3053432                                        NaN   \n",
       "3129800                                        NaN   \n",
       "3289765                                        NaN   \n",
       "3325662                                        NaN   \n",
       "\n",
       "                                                     \\\n",
       "product_id com.gopaktor.subscription.v11.premium.6m   \n",
       "cust_id                                               \n",
       "2942914                                         NaN   \n",
       "3053432                                         NaN   \n",
       "3129800                                         NaN   \n",
       "3289765                                         NaN   \n",
       "3325662                                         NaN   \n",
       "\n",
       "                                                     \\\n",
       "product_id com.gopaktor.subscription.v12.premium.1m   \n",
       "cust_id                                               \n",
       "2942914                                         NaN   \n",
       "3053432                                         NaN   \n",
       "3129800                                         NaN   \n",
       "3289765                                         NaN   \n",
       "3325662                                        30.0   \n",
       "\n",
       "                                                     \\\n",
       "product_id com.gopaktor.subscription.v12.premium.3m   \n",
       "cust_id                                               \n",
       "2942914                                         NaN   \n",
       "3053432                                         NaN   \n",
       "3129800                                         NaN   \n",
       "3289765                                         NaN   \n",
       "3325662                                         NaN   \n",
       "\n",
       "                                                         \\\n",
       "product_id com.gopaktor.subscription.v2.premium.1m.2000   \n",
       "cust_id                                                   \n",
       "2942914                                             NaN   \n",
       "3053432                                             NaN   \n",
       "3129800                                             NaN   \n",
       "3289765                                             NaN   \n",
       "3325662                                             NaN   \n",
       "\n",
       "                                                         \\\n",
       "product_id com.gopaktor.subscription.v2.premium.1m.3000   \n",
       "cust_id                                                   \n",
       "2942914                                             NaN   \n",
       "3053432                                             NaN   \n",
       "3129800                                             NaN   \n",
       "3289765                                             NaN   \n",
       "3325662                                             NaN   \n",
       "\n",
       "                                                    \\\n",
       "product_id com.gopaktor.subscription.v2.premium.3m   \n",
       "cust_id                                              \n",
       "2942914                                        NaN   \n",
       "3053432                                        NaN   \n",
       "3129800                                        NaN   \n",
       "3289765                                        NaN   \n",
       "3325662                                        NaN   \n",
       "\n",
       "                                                         \\\n",
       "product_id com.gopaktor.subscription.v2.premium.3m.2000   \n",
       "cust_id                                                   \n",
       "2942914                                             NaN   \n",
       "3053432                                             NaN   \n",
       "3129800                                             NaN   \n",
       "3289765                                             NaN   \n",
       "3325662                                             NaN   \n",
       "\n",
       "                                                    \\\n",
       "product_id com.gopaktor.subscription.v2.premium.6m   \n",
       "cust_id                                              \n",
       "2942914                                        NaN   \n",
       "3053432                                        NaN   \n",
       "3129800                                        NaN   \n",
       "3289765                                        NaN   \n",
       "3325662                                        NaN   \n",
       "\n",
       "                                                         \\\n",
       "product_id com.gopaktor.subscription.v2.premium.6m.2000   \n",
       "cust_id                                                   \n",
       "2942914                                             NaN   \n",
       "3053432                                             NaN   \n",
       "3129800                                             NaN   \n",
       "3289765                                             NaN   \n",
       "3325662                                             NaN   \n",
       "\n",
       "                                                    \\\n",
       "product_id com.gopaktor.subscription.v3.premium.3m   \n",
       "cust_id                                              \n",
       "2942914                                        NaN   \n",
       "3053432                                        NaN   \n",
       "3129800                                        NaN   \n",
       "3289765                                        NaN   \n",
       "3325662                                        NaN   \n",
       "\n",
       "                                                    \\\n",
       "product_id com.gopaktor.subscription.v3.premium.6m   \n",
       "cust_id                                              \n",
       "2942914                                        NaN   \n",
       "3053432                                        NaN   \n",
       "3129800                                        NaN   \n",
       "3289765                                        NaN   \n",
       "3325662                                        NaN   \n",
       "\n",
       "                                                    \n",
       "product_id com.gopaktor.subscription.v4.premium.1m  \n",
       "cust_id                                             \n",
       "2942914                                        NaN  \n",
       "3053432                                  27.111111  \n",
       "3129800                                        NaN  \n",
       "3289765                                        NaN  \n",
       "3325662                                        NaN  "
      ]
     },
     "execution_count": 61,
     "metadata": {},
     "output_type": "execute_result"
    }
   ],
   "source": [
    "abc.head()"
   ]
  },
  {
   "cell_type": "code",
   "execution_count": 62,
   "metadata": {
    "collapsed": false
   },
   "outputs": [
    {
     "data": {
      "text/plain": [
       "pandas.core.frame.DataFrame"
      ]
     },
     "execution_count": 62,
     "metadata": {},
     "output_type": "execute_result"
    }
   ],
   "source": [
    "type(abc)"
   ]
  },
  {
   "cell_type": "code",
   "execution_count": 63,
   "metadata": {
    "collapsed": false
   },
   "outputs": [],
   "source": [
    "mi = abc.columns"
   ]
  },
  {
   "cell_type": "code",
   "execution_count": 64,
   "metadata": {
    "collapsed": false
   },
   "outputs": [
    {
     "data": {
      "text/plain": [
       "[('repurchase_time', 'com.gopaktor.credit.v2.1000'),\n",
       " ('repurchase_time', 'com.gopaktor.credit.v2.10000'),\n",
       " ('repurchase_time', 'com.gopaktor.credit.v2.3000'),\n",
       " ('repurchase_time', 'com.gopaktor.credit.v2.6000'),\n",
       " ('repurchase_time', 'com.gopaktor.credit.v3.2000'),\n",
       " ('repurchase_time', 'com.gopaktor.subscription.v1.premium.1m'),\n",
       " ('repurchase_time', 'com.gopaktor.subscription.v11.premium.6m'),\n",
       " ('repurchase_time', 'com.gopaktor.subscription.v12.premium.1m'),\n",
       " ('repurchase_time', 'com.gopaktor.subscription.v12.premium.3m'),\n",
       " ('repurchase_time', 'com.gopaktor.subscription.v2.premium.1m.2000'),\n",
       " ('repurchase_time', 'com.gopaktor.subscription.v2.premium.1m.3000'),\n",
       " ('repurchase_time', 'com.gopaktor.subscription.v2.premium.3m'),\n",
       " ('repurchase_time', 'com.gopaktor.subscription.v2.premium.3m.2000'),\n",
       " ('repurchase_time', 'com.gopaktor.subscription.v2.premium.6m'),\n",
       " ('repurchase_time', 'com.gopaktor.subscription.v2.premium.6m.2000'),\n",
       " ('repurchase_time', 'com.gopaktor.subscription.v3.premium.3m'),\n",
       " ('repurchase_time', 'com.gopaktor.subscription.v3.premium.6m'),\n",
       " ('repurchase_time', 'com.gopaktor.subscription.v4.premium.1m')]"
      ]
     },
     "execution_count": 64,
     "metadata": {},
     "output_type": "execute_result"
    }
   ],
   "source": [
    "mi.tolist()"
   ]
  },
  {
   "cell_type": "code",
   "execution_count": 65,
   "metadata": {
    "collapsed": true
   },
   "outputs": [],
   "source": [
    "ind = pd.Index([e[1] for e in mi.tolist()])"
   ]
  },
  {
   "cell_type": "code",
   "execution_count": 66,
   "metadata": {
    "collapsed": true
   },
   "outputs": [],
   "source": [
    "abc.columns = ind"
   ]
  },
  {
   "cell_type": "code",
   "execution_count": 67,
   "metadata": {
    "collapsed": false,
    "scrolled": true
   },
   "outputs": [
    {
     "data": {
      "text/html": [
       "<div>\n",
       "<table border=\"1\" class=\"dataframe\">\n",
       "  <thead>\n",
       "    <tr style=\"text-align: right;\">\n",
       "      <th></th>\n",
       "      <th>com.gopaktor.credit.v2.1000</th>\n",
       "      <th>com.gopaktor.credit.v2.10000</th>\n",
       "      <th>com.gopaktor.credit.v2.3000</th>\n",
       "      <th>com.gopaktor.credit.v2.6000</th>\n",
       "      <th>com.gopaktor.credit.v3.2000</th>\n",
       "      <th>com.gopaktor.subscription.v1.premium.1m</th>\n",
       "      <th>com.gopaktor.subscription.v11.premium.6m</th>\n",
       "      <th>com.gopaktor.subscription.v12.premium.1m</th>\n",
       "      <th>com.gopaktor.subscription.v12.premium.3m</th>\n",
       "      <th>com.gopaktor.subscription.v2.premium.1m.2000</th>\n",
       "      <th>com.gopaktor.subscription.v2.premium.1m.3000</th>\n",
       "      <th>com.gopaktor.subscription.v2.premium.3m</th>\n",
       "      <th>com.gopaktor.subscription.v2.premium.3m.2000</th>\n",
       "      <th>com.gopaktor.subscription.v2.premium.6m</th>\n",
       "      <th>com.gopaktor.subscription.v2.premium.6m.2000</th>\n",
       "      <th>com.gopaktor.subscription.v3.premium.3m</th>\n",
       "      <th>com.gopaktor.subscription.v3.premium.6m</th>\n",
       "      <th>com.gopaktor.subscription.v4.premium.1m</th>\n",
       "    </tr>\n",
       "    <tr>\n",
       "      <th>cust_id</th>\n",
       "      <th></th>\n",
       "      <th></th>\n",
       "      <th></th>\n",
       "      <th></th>\n",
       "      <th></th>\n",
       "      <th></th>\n",
       "      <th></th>\n",
       "      <th></th>\n",
       "      <th></th>\n",
       "      <th></th>\n",
       "      <th></th>\n",
       "      <th></th>\n",
       "      <th></th>\n",
       "      <th></th>\n",
       "      <th></th>\n",
       "      <th></th>\n",
       "      <th></th>\n",
       "      <th></th>\n",
       "    </tr>\n",
       "  </thead>\n",
       "  <tbody>\n",
       "    <tr>\n",
       "      <th>2942914</th>\n",
       "      <td>NaN</td>\n",
       "      <td>NaN</td>\n",
       "      <td>NaN</td>\n",
       "      <td>NaN</td>\n",
       "      <td>NaN</td>\n",
       "      <td>NaN</td>\n",
       "      <td>NaN</td>\n",
       "      <td>NaN</td>\n",
       "      <td>NaN</td>\n",
       "      <td>NaN</td>\n",
       "      <td>NaN</td>\n",
       "      <td>NaN</td>\n",
       "      <td>NaN</td>\n",
       "      <td>NaN</td>\n",
       "      <td>NaN</td>\n",
       "      <td>NaN</td>\n",
       "      <td>NaN</td>\n",
       "      <td>NaN</td>\n",
       "    </tr>\n",
       "    <tr>\n",
       "      <th>3053432</th>\n",
       "      <td>NaN</td>\n",
       "      <td>NaN</td>\n",
       "      <td>NaN</td>\n",
       "      <td>NaN</td>\n",
       "      <td>NaN</td>\n",
       "      <td>NaN</td>\n",
       "      <td>NaN</td>\n",
       "      <td>NaN</td>\n",
       "      <td>NaN</td>\n",
       "      <td>NaN</td>\n",
       "      <td>NaN</td>\n",
       "      <td>NaN</td>\n",
       "      <td>NaN</td>\n",
       "      <td>NaN</td>\n",
       "      <td>NaN</td>\n",
       "      <td>NaN</td>\n",
       "      <td>NaN</td>\n",
       "      <td>27.111111</td>\n",
       "    </tr>\n",
       "    <tr>\n",
       "      <th>3129800</th>\n",
       "      <td>NaN</td>\n",
       "      <td>NaN</td>\n",
       "      <td>NaN</td>\n",
       "      <td>NaN</td>\n",
       "      <td>NaN</td>\n",
       "      <td>NaN</td>\n",
       "      <td>NaN</td>\n",
       "      <td>NaN</td>\n",
       "      <td>NaN</td>\n",
       "      <td>NaN</td>\n",
       "      <td>NaN</td>\n",
       "      <td>NaN</td>\n",
       "      <td>NaN</td>\n",
       "      <td>NaN</td>\n",
       "      <td>NaN</td>\n",
       "      <td>NaN</td>\n",
       "      <td>NaN</td>\n",
       "      <td>NaN</td>\n",
       "    </tr>\n",
       "    <tr>\n",
       "      <th>3289765</th>\n",
       "      <td>NaN</td>\n",
       "      <td>NaN</td>\n",
       "      <td>NaN</td>\n",
       "      <td>NaN</td>\n",
       "      <td>NaN</td>\n",
       "      <td>NaN</td>\n",
       "      <td>NaN</td>\n",
       "      <td>NaN</td>\n",
       "      <td>NaN</td>\n",
       "      <td>NaN</td>\n",
       "      <td>NaN</td>\n",
       "      <td>NaN</td>\n",
       "      <td>NaN</td>\n",
       "      <td>NaN</td>\n",
       "      <td>NaN</td>\n",
       "      <td>NaN</td>\n",
       "      <td>NaN</td>\n",
       "      <td>NaN</td>\n",
       "    </tr>\n",
       "    <tr>\n",
       "      <th>3325662</th>\n",
       "      <td>NaN</td>\n",
       "      <td>NaN</td>\n",
       "      <td>NaN</td>\n",
       "      <td>NaN</td>\n",
       "      <td>NaN</td>\n",
       "      <td>NaN</td>\n",
       "      <td>NaN</td>\n",
       "      <td>30.0</td>\n",
       "      <td>NaN</td>\n",
       "      <td>NaN</td>\n",
       "      <td>NaN</td>\n",
       "      <td>NaN</td>\n",
       "      <td>NaN</td>\n",
       "      <td>NaN</td>\n",
       "      <td>NaN</td>\n",
       "      <td>NaN</td>\n",
       "      <td>NaN</td>\n",
       "      <td>NaN</td>\n",
       "    </tr>\n",
       "  </tbody>\n",
       "</table>\n",
       "</div>"
      ],
      "text/plain": [
       "         com.gopaktor.credit.v2.1000  com.gopaktor.credit.v2.10000  \\\n",
       "cust_id                                                              \n",
       "2942914                          NaN                           NaN   \n",
       "3053432                          NaN                           NaN   \n",
       "3129800                          NaN                           NaN   \n",
       "3289765                          NaN                           NaN   \n",
       "3325662                          NaN                           NaN   \n",
       "\n",
       "         com.gopaktor.credit.v2.3000  com.gopaktor.credit.v2.6000  \\\n",
       "cust_id                                                             \n",
       "2942914                          NaN                          NaN   \n",
       "3053432                          NaN                          NaN   \n",
       "3129800                          NaN                          NaN   \n",
       "3289765                          NaN                          NaN   \n",
       "3325662                          NaN                          NaN   \n",
       "\n",
       "         com.gopaktor.credit.v3.2000  com.gopaktor.subscription.v1.premium.1m  \\\n",
       "cust_id                                                                         \n",
       "2942914                          NaN                                      NaN   \n",
       "3053432                          NaN                                      NaN   \n",
       "3129800                          NaN                                      NaN   \n",
       "3289765                          NaN                                      NaN   \n",
       "3325662                          NaN                                      NaN   \n",
       "\n",
       "         com.gopaktor.subscription.v11.premium.6m  \\\n",
       "cust_id                                             \n",
       "2942914                                       NaN   \n",
       "3053432                                       NaN   \n",
       "3129800                                       NaN   \n",
       "3289765                                       NaN   \n",
       "3325662                                       NaN   \n",
       "\n",
       "         com.gopaktor.subscription.v12.premium.1m  \\\n",
       "cust_id                                             \n",
       "2942914                                       NaN   \n",
       "3053432                                       NaN   \n",
       "3129800                                       NaN   \n",
       "3289765                                       NaN   \n",
       "3325662                                      30.0   \n",
       "\n",
       "         com.gopaktor.subscription.v12.premium.3m  \\\n",
       "cust_id                                             \n",
       "2942914                                       NaN   \n",
       "3053432                                       NaN   \n",
       "3129800                                       NaN   \n",
       "3289765                                       NaN   \n",
       "3325662                                       NaN   \n",
       "\n",
       "         com.gopaktor.subscription.v2.premium.1m.2000  \\\n",
       "cust_id                                                 \n",
       "2942914                                           NaN   \n",
       "3053432                                           NaN   \n",
       "3129800                                           NaN   \n",
       "3289765                                           NaN   \n",
       "3325662                                           NaN   \n",
       "\n",
       "         com.gopaktor.subscription.v2.premium.1m.3000  \\\n",
       "cust_id                                                 \n",
       "2942914                                           NaN   \n",
       "3053432                                           NaN   \n",
       "3129800                                           NaN   \n",
       "3289765                                           NaN   \n",
       "3325662                                           NaN   \n",
       "\n",
       "         com.gopaktor.subscription.v2.premium.3m  \\\n",
       "cust_id                                            \n",
       "2942914                                      NaN   \n",
       "3053432                                      NaN   \n",
       "3129800                                      NaN   \n",
       "3289765                                      NaN   \n",
       "3325662                                      NaN   \n",
       "\n",
       "         com.gopaktor.subscription.v2.premium.3m.2000  \\\n",
       "cust_id                                                 \n",
       "2942914                                           NaN   \n",
       "3053432                                           NaN   \n",
       "3129800                                           NaN   \n",
       "3289765                                           NaN   \n",
       "3325662                                           NaN   \n",
       "\n",
       "         com.gopaktor.subscription.v2.premium.6m  \\\n",
       "cust_id                                            \n",
       "2942914                                      NaN   \n",
       "3053432                                      NaN   \n",
       "3129800                                      NaN   \n",
       "3289765                                      NaN   \n",
       "3325662                                      NaN   \n",
       "\n",
       "         com.gopaktor.subscription.v2.premium.6m.2000  \\\n",
       "cust_id                                                 \n",
       "2942914                                           NaN   \n",
       "3053432                                           NaN   \n",
       "3129800                                           NaN   \n",
       "3289765                                           NaN   \n",
       "3325662                                           NaN   \n",
       "\n",
       "         com.gopaktor.subscription.v3.premium.3m  \\\n",
       "cust_id                                            \n",
       "2942914                                      NaN   \n",
       "3053432                                      NaN   \n",
       "3129800                                      NaN   \n",
       "3289765                                      NaN   \n",
       "3325662                                      NaN   \n",
       "\n",
       "         com.gopaktor.subscription.v3.premium.6m  \\\n",
       "cust_id                                            \n",
       "2942914                                      NaN   \n",
       "3053432                                      NaN   \n",
       "3129800                                      NaN   \n",
       "3289765                                      NaN   \n",
       "3325662                                      NaN   \n",
       "\n",
       "         com.gopaktor.subscription.v4.premium.1m  \n",
       "cust_id                                           \n",
       "2942914                                      NaN  \n",
       "3053432                                27.111111  \n",
       "3129800                                      NaN  \n",
       "3289765                                      NaN  \n",
       "3325662                                      NaN  "
      ]
     },
     "execution_count": 67,
     "metadata": {},
     "output_type": "execute_result"
    }
   ],
   "source": [
    "abc.head()"
   ]
  },
  {
   "cell_type": "code",
   "execution_count": 68,
   "metadata": {
    "collapsed": true
   },
   "outputs": [],
   "source": [
    "products = pd.DataFrame(abc.columns)"
   ]
  },
  {
   "cell_type": "code",
   "execution_count": 69,
   "metadata": {
    "collapsed": false
   },
   "outputs": [],
   "source": [
    "products.rename(columns={0:'product_id'}, inplace=True)"
   ]
  },
  {
   "cell_type": "code",
   "execution_count": 70,
   "metadata": {
    "collapsed": true
   },
   "outputs": [],
   "source": [
    "art = abc[products.product_id[products.index]].sum() / abc[products.product_id[products.index]].count()"
   ]
  },
  {
   "cell_type": "code",
   "execution_count": 71,
   "metadata": {
    "collapsed": false
   },
   "outputs": [
    {
     "data": {
      "text/plain": [
       "pandas.core.series.Series"
      ]
     },
     "execution_count": 71,
     "metadata": {},
     "output_type": "execute_result"
    }
   ],
   "source": [
    "type(art)"
   ]
  },
  {
   "cell_type": "code",
   "execution_count": 72,
   "metadata": {
    "collapsed": false
   },
   "outputs": [],
   "source": [
    "art = art.to_frame()"
   ]
  },
  {
   "cell_type": "code",
   "execution_count": 73,
   "metadata": {
    "collapsed": true
   },
   "outputs": [],
   "source": [
    "art.reset_index(inplace=True)"
   ]
  },
  {
   "cell_type": "code",
   "execution_count": 74,
   "metadata": {
    "collapsed": true
   },
   "outputs": [],
   "source": [
    "art.rename(columns={'index':'product_id'}, inplace=True)"
   ]
  },
  {
   "cell_type": "code",
   "execution_count": 75,
   "metadata": {
    "collapsed": true
   },
   "outputs": [],
   "source": [
    "art.rename(columns={0:'average_repurchase_time'}, inplace=True)"
   ]
  },
  {
   "cell_type": "code",
   "execution_count": 76,
   "metadata": {
    "collapsed": false,
    "scrolled": true
   },
   "outputs": [
    {
     "data": {
      "text/html": [
       "<div>\n",
       "<table border=\"1\" class=\"dataframe\">\n",
       "  <thead>\n",
       "    <tr style=\"text-align: right;\">\n",
       "      <th></th>\n",
       "      <th>product_id</th>\n",
       "      <th>average_repurchase_time</th>\n",
       "    </tr>\n",
       "  </thead>\n",
       "  <tbody>\n",
       "    <tr>\n",
       "      <th>0</th>\n",
       "      <td>com.gopaktor.credit.v2.1000</td>\n",
       "      <td>1.586538</td>\n",
       "    </tr>\n",
       "    <tr>\n",
       "      <th>1</th>\n",
       "      <td>com.gopaktor.credit.v2.10000</td>\n",
       "      <td>NaN</td>\n",
       "    </tr>\n",
       "    <tr>\n",
       "      <th>2</th>\n",
       "      <td>com.gopaktor.credit.v2.3000</td>\n",
       "      <td>NaN</td>\n",
       "    </tr>\n",
       "    <tr>\n",
       "      <th>3</th>\n",
       "      <td>com.gopaktor.credit.v2.6000</td>\n",
       "      <td>NaN</td>\n",
       "    </tr>\n",
       "    <tr>\n",
       "      <th>4</th>\n",
       "      <td>com.gopaktor.credit.v3.2000</td>\n",
       "      <td>NaN</td>\n",
       "    </tr>\n",
       "    <tr>\n",
       "      <th>5</th>\n",
       "      <td>com.gopaktor.subscription.v1.premium.1m</td>\n",
       "      <td>30.151834</td>\n",
       "    </tr>\n",
       "    <tr>\n",
       "      <th>6</th>\n",
       "      <td>com.gopaktor.subscription.v11.premium.6m</td>\n",
       "      <td>NaN</td>\n",
       "    </tr>\n",
       "    <tr>\n",
       "      <th>7</th>\n",
       "      <td>com.gopaktor.subscription.v12.premium.1m</td>\n",
       "      <td>30.318182</td>\n",
       "    </tr>\n",
       "    <tr>\n",
       "      <th>8</th>\n",
       "      <td>com.gopaktor.subscription.v12.premium.3m</td>\n",
       "      <td>91.250000</td>\n",
       "    </tr>\n",
       "    <tr>\n",
       "      <th>9</th>\n",
       "      <td>com.gopaktor.subscription.v2.premium.1m.2000</td>\n",
       "      <td>29.507519</td>\n",
       "    </tr>\n",
       "    <tr>\n",
       "      <th>10</th>\n",
       "      <td>com.gopaktor.subscription.v2.premium.1m.3000</td>\n",
       "      <td>NaN</td>\n",
       "    </tr>\n",
       "    <tr>\n",
       "      <th>11</th>\n",
       "      <td>com.gopaktor.subscription.v2.premium.3m</td>\n",
       "      <td>91.000000</td>\n",
       "    </tr>\n",
       "    <tr>\n",
       "      <th>12</th>\n",
       "      <td>com.gopaktor.subscription.v2.premium.3m.2000</td>\n",
       "      <td>91.000000</td>\n",
       "    </tr>\n",
       "    <tr>\n",
       "      <th>13</th>\n",
       "      <td>com.gopaktor.subscription.v2.premium.6m</td>\n",
       "      <td>NaN</td>\n",
       "    </tr>\n",
       "    <tr>\n",
       "      <th>14</th>\n",
       "      <td>com.gopaktor.subscription.v2.premium.6m.2000</td>\n",
       "      <td>NaN</td>\n",
       "    </tr>\n",
       "    <tr>\n",
       "      <th>15</th>\n",
       "      <td>com.gopaktor.subscription.v3.premium.3m</td>\n",
       "      <td>92.000000</td>\n",
       "    </tr>\n",
       "    <tr>\n",
       "      <th>16</th>\n",
       "      <td>com.gopaktor.subscription.v3.premium.6m</td>\n",
       "      <td>NaN</td>\n",
       "    </tr>\n",
       "    <tr>\n",
       "      <th>17</th>\n",
       "      <td>com.gopaktor.subscription.v4.premium.1m</td>\n",
       "      <td>30.733682</td>\n",
       "    </tr>\n",
       "  </tbody>\n",
       "</table>\n",
       "</div>"
      ],
      "text/plain": [
       "                                      product_id  average_repurchase_time\n",
       "0                    com.gopaktor.credit.v2.1000                 1.586538\n",
       "1                   com.gopaktor.credit.v2.10000                      NaN\n",
       "2                    com.gopaktor.credit.v2.3000                      NaN\n",
       "3                    com.gopaktor.credit.v2.6000                      NaN\n",
       "4                    com.gopaktor.credit.v3.2000                      NaN\n",
       "5        com.gopaktor.subscription.v1.premium.1m                30.151834\n",
       "6       com.gopaktor.subscription.v11.premium.6m                      NaN\n",
       "7       com.gopaktor.subscription.v12.premium.1m                30.318182\n",
       "8       com.gopaktor.subscription.v12.premium.3m                91.250000\n",
       "9   com.gopaktor.subscription.v2.premium.1m.2000                29.507519\n",
       "10  com.gopaktor.subscription.v2.premium.1m.3000                      NaN\n",
       "11       com.gopaktor.subscription.v2.premium.3m                91.000000\n",
       "12  com.gopaktor.subscription.v2.premium.3m.2000                91.000000\n",
       "13       com.gopaktor.subscription.v2.premium.6m                      NaN\n",
       "14  com.gopaktor.subscription.v2.premium.6m.2000                      NaN\n",
       "15       com.gopaktor.subscription.v3.premium.3m                92.000000\n",
       "16       com.gopaktor.subscription.v3.premium.6m                      NaN\n",
       "17       com.gopaktor.subscription.v4.premium.1m                30.733682"
      ]
     },
     "execution_count": 76,
     "metadata": {},
     "output_type": "execute_result"
    }
   ],
   "source": [
    "art"
   ]
  },
  {
   "cell_type": "code",
   "execution_count": 77,
   "metadata": {
    "collapsed": false
   },
   "outputs": [
    {
     "data": {
      "text/html": [
       "<div>\n",
       "<table border=\"1\" class=\"dataframe\">\n",
       "  <thead>\n",
       "    <tr style=\"text-align: right;\">\n",
       "      <th></th>\n",
       "      <th>cust_id</th>\n",
       "      <th>product_id</th>\n",
       "      <th>timestamp</th>\n",
       "      <th>counter</th>\n",
       "      <th>time</th>\n",
       "      <th>days_int</th>\n",
       "      <th>repurchase_time</th>\n",
       "    </tr>\n",
       "  </thead>\n",
       "  <tbody>\n",
       "    <tr>\n",
       "      <th>0</th>\n",
       "      <td>2942914</td>\n",
       "      <td>com.gopaktor.subscription.v1.premium.1m</td>\n",
       "      <td>2016-12-24 09:53:35+00:00</td>\n",
       "      <td>NaN</td>\n",
       "      <td>0 days 00:00:00</td>\n",
       "      <td>0</td>\n",
       "      <td>NaN</td>\n",
       "    </tr>\n",
       "    <tr>\n",
       "      <th>1</th>\n",
       "      <td>3053432</td>\n",
       "      <td>com.gopaktor.subscription.v4.premium.1m</td>\n",
       "      <td>2017-01-26 06:22:00+00:00</td>\n",
       "      <td>10.0</td>\n",
       "      <td>245 days 01:54:56</td>\n",
       "      <td>245</td>\n",
       "      <td>27.111111</td>\n",
       "    </tr>\n",
       "    <tr>\n",
       "      <th>2</th>\n",
       "      <td>3129800</td>\n",
       "      <td>com.gopaktor.subscription.v1.premium.1m</td>\n",
       "      <td>2016-12-09 07:57:37+00:00</td>\n",
       "      <td>NaN</td>\n",
       "      <td>0 days 00:00:00</td>\n",
       "      <td>0</td>\n",
       "      <td>NaN</td>\n",
       "    </tr>\n",
       "    <tr>\n",
       "      <th>3</th>\n",
       "      <td>3289765</td>\n",
       "      <td>com.gopaktor.subscription.v2.premium.6m.2000</td>\n",
       "      <td>2016-12-06 11:37:37+00:00</td>\n",
       "      <td>NaN</td>\n",
       "      <td>0 days 00:00:00</td>\n",
       "      <td>0</td>\n",
       "      <td>NaN</td>\n",
       "    </tr>\n",
       "    <tr>\n",
       "      <th>4</th>\n",
       "      <td>3325662</td>\n",
       "      <td>com.gopaktor.subscription.v12.premium.1m</td>\n",
       "      <td>2016-12-03 04:36:00+00:00</td>\n",
       "      <td>2.0</td>\n",
       "      <td>31 days 01:49:48</td>\n",
       "      <td>31</td>\n",
       "      <td>30.000000</td>\n",
       "    </tr>\n",
       "  </tbody>\n",
       "</table>\n",
       "</div>"
      ],
      "text/plain": [
       "   cust_id                                    product_id  \\\n",
       "0  2942914       com.gopaktor.subscription.v1.premium.1m   \n",
       "1  3053432       com.gopaktor.subscription.v4.premium.1m   \n",
       "2  3129800       com.gopaktor.subscription.v1.premium.1m   \n",
       "3  3289765  com.gopaktor.subscription.v2.premium.6m.2000   \n",
       "4  3325662      com.gopaktor.subscription.v12.premium.1m   \n",
       "\n",
       "                  timestamp  counter              time  days_int  \\\n",
       "0 2016-12-24 09:53:35+00:00      NaN   0 days 00:00:00         0   \n",
       "1 2017-01-26 06:22:00+00:00     10.0 245 days 01:54:56       245   \n",
       "2 2016-12-09 07:57:37+00:00      NaN   0 days 00:00:00         0   \n",
       "3 2016-12-06 11:37:37+00:00      NaN   0 days 00:00:00         0   \n",
       "4 2016-12-03 04:36:00+00:00      2.0  31 days 01:49:48        31   \n",
       "\n",
       "   repurchase_time  \n",
       "0              NaN  \n",
       "1        27.111111  \n",
       "2              NaN  \n",
       "3              NaN  \n",
       "4        30.000000  "
      ]
     },
     "execution_count": 77,
     "metadata": {},
     "output_type": "execute_result"
    }
   ],
   "source": [
    "cust_repur_original.head()"
   ]
  },
  {
   "cell_type": "code",
   "execution_count": 78,
   "metadata": {
    "collapsed": true
   },
   "outputs": [],
   "source": [
    "cust_repur_original['time_diff'] = dt.date.today() - cust_repur_original[\"timestamp\"].dt.date"
   ]
  },
  {
   "cell_type": "code",
   "execution_count": 79,
   "metadata": {
    "collapsed": false
   },
   "outputs": [
    {
     "data": {
      "text/html": [
       "<div>\n",
       "<table border=\"1\" class=\"dataframe\">\n",
       "  <thead>\n",
       "    <tr style=\"text-align: right;\">\n",
       "      <th></th>\n",
       "      <th>cust_id</th>\n",
       "      <th>product_id</th>\n",
       "      <th>timestamp</th>\n",
       "      <th>counter</th>\n",
       "      <th>time</th>\n",
       "      <th>days_int</th>\n",
       "      <th>repurchase_time</th>\n",
       "      <th>time_diff</th>\n",
       "    </tr>\n",
       "  </thead>\n",
       "  <tbody>\n",
       "    <tr>\n",
       "      <th>0</th>\n",
       "      <td>2942914</td>\n",
       "      <td>com.gopaktor.subscription.v1.premium.1m</td>\n",
       "      <td>2016-12-24 09:53:35+00:00</td>\n",
       "      <td>NaN</td>\n",
       "      <td>0 days 00:00:00</td>\n",
       "      <td>0</td>\n",
       "      <td>NaN</td>\n",
       "      <td>92 days</td>\n",
       "    </tr>\n",
       "    <tr>\n",
       "      <th>1</th>\n",
       "      <td>3053432</td>\n",
       "      <td>com.gopaktor.subscription.v4.premium.1m</td>\n",
       "      <td>2017-01-26 06:22:00+00:00</td>\n",
       "      <td>10.0</td>\n",
       "      <td>245 days 01:54:56</td>\n",
       "      <td>245</td>\n",
       "      <td>27.111111</td>\n",
       "      <td>59 days</td>\n",
       "    </tr>\n",
       "    <tr>\n",
       "      <th>2</th>\n",
       "      <td>3129800</td>\n",
       "      <td>com.gopaktor.subscription.v1.premium.1m</td>\n",
       "      <td>2016-12-09 07:57:37+00:00</td>\n",
       "      <td>NaN</td>\n",
       "      <td>0 days 00:00:00</td>\n",
       "      <td>0</td>\n",
       "      <td>NaN</td>\n",
       "      <td>107 days</td>\n",
       "    </tr>\n",
       "    <tr>\n",
       "      <th>3</th>\n",
       "      <td>3289765</td>\n",
       "      <td>com.gopaktor.subscription.v2.premium.6m.2000</td>\n",
       "      <td>2016-12-06 11:37:37+00:00</td>\n",
       "      <td>NaN</td>\n",
       "      <td>0 days 00:00:00</td>\n",
       "      <td>0</td>\n",
       "      <td>NaN</td>\n",
       "      <td>110 days</td>\n",
       "    </tr>\n",
       "    <tr>\n",
       "      <th>4</th>\n",
       "      <td>3325662</td>\n",
       "      <td>com.gopaktor.subscription.v12.premium.1m</td>\n",
       "      <td>2016-12-03 04:36:00+00:00</td>\n",
       "      <td>2.0</td>\n",
       "      <td>31 days 01:49:48</td>\n",
       "      <td>31</td>\n",
       "      <td>30.000000</td>\n",
       "      <td>113 days</td>\n",
       "    </tr>\n",
       "  </tbody>\n",
       "</table>\n",
       "</div>"
      ],
      "text/plain": [
       "   cust_id                                    product_id  \\\n",
       "0  2942914       com.gopaktor.subscription.v1.premium.1m   \n",
       "1  3053432       com.gopaktor.subscription.v4.premium.1m   \n",
       "2  3129800       com.gopaktor.subscription.v1.premium.1m   \n",
       "3  3289765  com.gopaktor.subscription.v2.premium.6m.2000   \n",
       "4  3325662      com.gopaktor.subscription.v12.premium.1m   \n",
       "\n",
       "                  timestamp  counter              time  days_int  \\\n",
       "0 2016-12-24 09:53:35+00:00      NaN   0 days 00:00:00         0   \n",
       "1 2017-01-26 06:22:00+00:00     10.0 245 days 01:54:56       245   \n",
       "2 2016-12-09 07:57:37+00:00      NaN   0 days 00:00:00         0   \n",
       "3 2016-12-06 11:37:37+00:00      NaN   0 days 00:00:00         0   \n",
       "4 2016-12-03 04:36:00+00:00      2.0  31 days 01:49:48        31   \n",
       "\n",
       "   repurchase_time  time_diff  \n",
       "0              NaN    92 days  \n",
       "1        27.111111    59 days  \n",
       "2              NaN   107 days  \n",
       "3              NaN   110 days  \n",
       "4        30.000000   113 days  "
      ]
     },
     "execution_count": 79,
     "metadata": {},
     "output_type": "execute_result"
    }
   ],
   "source": [
    "cust_repur_original.head()"
   ]
  },
  {
   "cell_type": "raw",
   "metadata": {
    "collapsed": false,
    "scrolled": true
   },
   "source": [
    "import datetime\n",
    "for x in range(0,len(cust_repur_original)):\n",
    "    cust_repur_original.time_diff[x]= datetime.datetime.now().date() - cust_repur_original.timestamp[x].to_datetime().date()"
   ]
  },
  {
   "cell_type": "code",
   "execution_count": 80,
   "metadata": {
    "collapsed": false
   },
   "outputs": [
    {
     "data": {
      "text/html": [
       "<div>\n",
       "<table border=\"1\" class=\"dataframe\">\n",
       "  <thead>\n",
       "    <tr style=\"text-align: right;\">\n",
       "      <th></th>\n",
       "      <th>cust_id</th>\n",
       "      <th>product_id</th>\n",
       "      <th>timestamp</th>\n",
       "      <th>counter</th>\n",
       "      <th>time</th>\n",
       "      <th>days_int</th>\n",
       "      <th>repurchase_time</th>\n",
       "      <th>time_diff</th>\n",
       "    </tr>\n",
       "  </thead>\n",
       "  <tbody>\n",
       "    <tr>\n",
       "      <th>0</th>\n",
       "      <td>2942914</td>\n",
       "      <td>com.gopaktor.subscription.v1.premium.1m</td>\n",
       "      <td>2016-12-24 09:53:35+00:00</td>\n",
       "      <td>NaN</td>\n",
       "      <td>0 days 00:00:00</td>\n",
       "      <td>0</td>\n",
       "      <td>NaN</td>\n",
       "      <td>92 days</td>\n",
       "    </tr>\n",
       "    <tr>\n",
       "      <th>1</th>\n",
       "      <td>3053432</td>\n",
       "      <td>com.gopaktor.subscription.v4.premium.1m</td>\n",
       "      <td>2017-01-26 06:22:00+00:00</td>\n",
       "      <td>10.0</td>\n",
       "      <td>245 days 01:54:56</td>\n",
       "      <td>245</td>\n",
       "      <td>27.111111</td>\n",
       "      <td>59 days</td>\n",
       "    </tr>\n",
       "    <tr>\n",
       "      <th>2</th>\n",
       "      <td>3129800</td>\n",
       "      <td>com.gopaktor.subscription.v1.premium.1m</td>\n",
       "      <td>2016-12-09 07:57:37+00:00</td>\n",
       "      <td>NaN</td>\n",
       "      <td>0 days 00:00:00</td>\n",
       "      <td>0</td>\n",
       "      <td>NaN</td>\n",
       "      <td>107 days</td>\n",
       "    </tr>\n",
       "    <tr>\n",
       "      <th>3</th>\n",
       "      <td>3289765</td>\n",
       "      <td>com.gopaktor.subscription.v2.premium.6m.2000</td>\n",
       "      <td>2016-12-06 11:37:37+00:00</td>\n",
       "      <td>NaN</td>\n",
       "      <td>0 days 00:00:00</td>\n",
       "      <td>0</td>\n",
       "      <td>NaN</td>\n",
       "      <td>110 days</td>\n",
       "    </tr>\n",
       "    <tr>\n",
       "      <th>4</th>\n",
       "      <td>3325662</td>\n",
       "      <td>com.gopaktor.subscription.v12.premium.1m</td>\n",
       "      <td>2016-12-03 04:36:00+00:00</td>\n",
       "      <td>2.0</td>\n",
       "      <td>31 days 01:49:48</td>\n",
       "      <td>31</td>\n",
       "      <td>30.000000</td>\n",
       "      <td>113 days</td>\n",
       "    </tr>\n",
       "  </tbody>\n",
       "</table>\n",
       "</div>"
      ],
      "text/plain": [
       "   cust_id                                    product_id  \\\n",
       "0  2942914       com.gopaktor.subscription.v1.premium.1m   \n",
       "1  3053432       com.gopaktor.subscription.v4.premium.1m   \n",
       "2  3129800       com.gopaktor.subscription.v1.premium.1m   \n",
       "3  3289765  com.gopaktor.subscription.v2.premium.6m.2000   \n",
       "4  3325662      com.gopaktor.subscription.v12.premium.1m   \n",
       "\n",
       "                  timestamp  counter              time  days_int  \\\n",
       "0 2016-12-24 09:53:35+00:00      NaN   0 days 00:00:00         0   \n",
       "1 2017-01-26 06:22:00+00:00     10.0 245 days 01:54:56       245   \n",
       "2 2016-12-09 07:57:37+00:00      NaN   0 days 00:00:00         0   \n",
       "3 2016-12-06 11:37:37+00:00      NaN   0 days 00:00:00         0   \n",
       "4 2016-12-03 04:36:00+00:00      2.0  31 days 01:49:48        31   \n",
       "\n",
       "   repurchase_time  time_diff  \n",
       "0              NaN    92 days  \n",
       "1        27.111111    59 days  \n",
       "2              NaN   107 days  \n",
       "3              NaN   110 days  \n",
       "4        30.000000   113 days  "
      ]
     },
     "execution_count": 80,
     "metadata": {},
     "output_type": "execute_result"
    }
   ],
   "source": [
    "cust_repur_original.head()"
   ]
  },
  {
   "cell_type": "code",
   "execution_count": 81,
   "metadata": {
    "collapsed": false
   },
   "outputs": [
    {
     "data": {
      "text/html": [
       "<div>\n",
       "<table border=\"1\" class=\"dataframe\">\n",
       "  <thead>\n",
       "    <tr style=\"text-align: right;\">\n",
       "      <th></th>\n",
       "      <th>cust_id</th>\n",
       "      <th>product_id</th>\n",
       "      <th>timestamp</th>\n",
       "      <th>counter</th>\n",
       "      <th>time</th>\n",
       "      <th>days_int</th>\n",
       "      <th>repurchase_time</th>\n",
       "      <th>time_diff</th>\n",
       "    </tr>\n",
       "  </thead>\n",
       "  <tbody>\n",
       "    <tr>\n",
       "      <th>3227</th>\n",
       "      <td>6387444</td>\n",
       "      <td>com.gopaktor.subscription.v4.premium.1m</td>\n",
       "      <td>2017-02-05 14:21:36+00:00</td>\n",
       "      <td>NaN</td>\n",
       "      <td>0 days</td>\n",
       "      <td>0</td>\n",
       "      <td>NaN</td>\n",
       "      <td>49 days</td>\n",
       "    </tr>\n",
       "    <tr>\n",
       "      <th>3228</th>\n",
       "      <td>6387642</td>\n",
       "      <td>com.gopaktor.subscription.v4.premium.1m</td>\n",
       "      <td>2017-02-05 15:36:43+00:00</td>\n",
       "      <td>NaN</td>\n",
       "      <td>0 days</td>\n",
       "      <td>0</td>\n",
       "      <td>NaN</td>\n",
       "      <td>49 days</td>\n",
       "    </tr>\n",
       "    <tr>\n",
       "      <th>3229</th>\n",
       "      <td>6387756</td>\n",
       "      <td>com.gopaktor.subscription.v2.premium.3m.2000</td>\n",
       "      <td>2017-02-05 16:44:43+00:00</td>\n",
       "      <td>NaN</td>\n",
       "      <td>0 days</td>\n",
       "      <td>0</td>\n",
       "      <td>NaN</td>\n",
       "      <td>49 days</td>\n",
       "    </tr>\n",
       "    <tr>\n",
       "      <th>3230</th>\n",
       "      <td>6388413</td>\n",
       "      <td>com.gopaktor.subscription.v11.premium.6m</td>\n",
       "      <td>2017-02-06 04:34:35+00:00</td>\n",
       "      <td>NaN</td>\n",
       "      <td>0 days</td>\n",
       "      <td>0</td>\n",
       "      <td>NaN</td>\n",
       "      <td>48 days</td>\n",
       "    </tr>\n",
       "    <tr>\n",
       "      <th>3231</th>\n",
       "      <td>6388656</td>\n",
       "      <td>com.gopaktor.subscription.v2.premium.3m.2000</td>\n",
       "      <td>2017-02-06 08:35:39+00:00</td>\n",
       "      <td>NaN</td>\n",
       "      <td>0 days</td>\n",
       "      <td>0</td>\n",
       "      <td>NaN</td>\n",
       "      <td>48 days</td>\n",
       "    </tr>\n",
       "  </tbody>\n",
       "</table>\n",
       "</div>"
      ],
      "text/plain": [
       "      cust_id                                    product_id  \\\n",
       "3227  6387444       com.gopaktor.subscription.v4.premium.1m   \n",
       "3228  6387642       com.gopaktor.subscription.v4.premium.1m   \n",
       "3229  6387756  com.gopaktor.subscription.v2.premium.3m.2000   \n",
       "3230  6388413      com.gopaktor.subscription.v11.premium.6m   \n",
       "3231  6388656  com.gopaktor.subscription.v2.premium.3m.2000   \n",
       "\n",
       "                     timestamp  counter   time  days_int  repurchase_time  \\\n",
       "3227 2017-02-05 14:21:36+00:00      NaN 0 days         0              NaN   \n",
       "3228 2017-02-05 15:36:43+00:00      NaN 0 days         0              NaN   \n",
       "3229 2017-02-05 16:44:43+00:00      NaN 0 days         0              NaN   \n",
       "3230 2017-02-06 04:34:35+00:00      NaN 0 days         0              NaN   \n",
       "3231 2017-02-06 08:35:39+00:00      NaN 0 days         0              NaN   \n",
       "\n",
       "      time_diff  \n",
       "3227    49 days  \n",
       "3228    49 days  \n",
       "3229    49 days  \n",
       "3230    48 days  \n",
       "3231    48 days  "
      ]
     },
     "execution_count": 81,
     "metadata": {},
     "output_type": "execute_result"
    }
   ],
   "source": [
    "cust_repur_original.tail()"
   ]
  },
  {
   "cell_type": "code",
   "execution_count": 82,
   "metadata": {
    "collapsed": true
   },
   "outputs": [],
   "source": [
    "cust_repur_original.counter = cust_repur_original.counter.fillna(0)"
   ]
  },
  {
   "cell_type": "code",
   "execution_count": 83,
   "metadata": {
    "collapsed": false
   },
   "outputs": [
    {
     "data": {
      "text/html": [
       "<div>\n",
       "<table border=\"1\" class=\"dataframe\">\n",
       "  <thead>\n",
       "    <tr style=\"text-align: right;\">\n",
       "      <th></th>\n",
       "      <th>cust_id</th>\n",
       "      <th>product_id</th>\n",
       "      <th>timestamp</th>\n",
       "      <th>counter</th>\n",
       "      <th>time</th>\n",
       "      <th>days_int</th>\n",
       "      <th>repurchase_time</th>\n",
       "      <th>time_diff</th>\n",
       "    </tr>\n",
       "  </thead>\n",
       "  <tbody>\n",
       "    <tr>\n",
       "      <th>0</th>\n",
       "      <td>2942914</td>\n",
       "      <td>com.gopaktor.subscription.v1.premium.1m</td>\n",
       "      <td>2016-12-24 09:53:35+00:00</td>\n",
       "      <td>0.0</td>\n",
       "      <td>0 days 00:00:00</td>\n",
       "      <td>0</td>\n",
       "      <td>NaN</td>\n",
       "      <td>92 days</td>\n",
       "    </tr>\n",
       "    <tr>\n",
       "      <th>1</th>\n",
       "      <td>3053432</td>\n",
       "      <td>com.gopaktor.subscription.v4.premium.1m</td>\n",
       "      <td>2017-01-26 06:22:00+00:00</td>\n",
       "      <td>10.0</td>\n",
       "      <td>245 days 01:54:56</td>\n",
       "      <td>245</td>\n",
       "      <td>27.111111</td>\n",
       "      <td>59 days</td>\n",
       "    </tr>\n",
       "    <tr>\n",
       "      <th>2</th>\n",
       "      <td>3129800</td>\n",
       "      <td>com.gopaktor.subscription.v1.premium.1m</td>\n",
       "      <td>2016-12-09 07:57:37+00:00</td>\n",
       "      <td>0.0</td>\n",
       "      <td>0 days 00:00:00</td>\n",
       "      <td>0</td>\n",
       "      <td>NaN</td>\n",
       "      <td>107 days</td>\n",
       "    </tr>\n",
       "    <tr>\n",
       "      <th>3</th>\n",
       "      <td>3289765</td>\n",
       "      <td>com.gopaktor.subscription.v2.premium.6m.2000</td>\n",
       "      <td>2016-12-06 11:37:37+00:00</td>\n",
       "      <td>0.0</td>\n",
       "      <td>0 days 00:00:00</td>\n",
       "      <td>0</td>\n",
       "      <td>NaN</td>\n",
       "      <td>110 days</td>\n",
       "    </tr>\n",
       "    <tr>\n",
       "      <th>4</th>\n",
       "      <td>3325662</td>\n",
       "      <td>com.gopaktor.subscription.v12.premium.1m</td>\n",
       "      <td>2016-12-03 04:36:00+00:00</td>\n",
       "      <td>2.0</td>\n",
       "      <td>31 days 01:49:48</td>\n",
       "      <td>31</td>\n",
       "      <td>30.000000</td>\n",
       "      <td>113 days</td>\n",
       "    </tr>\n",
       "  </tbody>\n",
       "</table>\n",
       "</div>"
      ],
      "text/plain": [
       "   cust_id                                    product_id  \\\n",
       "0  2942914       com.gopaktor.subscription.v1.premium.1m   \n",
       "1  3053432       com.gopaktor.subscription.v4.premium.1m   \n",
       "2  3129800       com.gopaktor.subscription.v1.premium.1m   \n",
       "3  3289765  com.gopaktor.subscription.v2.premium.6m.2000   \n",
       "4  3325662      com.gopaktor.subscription.v12.premium.1m   \n",
       "\n",
       "                  timestamp  counter              time  days_int  \\\n",
       "0 2016-12-24 09:53:35+00:00      0.0   0 days 00:00:00         0   \n",
       "1 2017-01-26 06:22:00+00:00     10.0 245 days 01:54:56       245   \n",
       "2 2016-12-09 07:57:37+00:00      0.0   0 days 00:00:00         0   \n",
       "3 2016-12-06 11:37:37+00:00      0.0   0 days 00:00:00         0   \n",
       "4 2016-12-03 04:36:00+00:00      2.0  31 days 01:49:48        31   \n",
       "\n",
       "   repurchase_time  time_diff  \n",
       "0              NaN    92 days  \n",
       "1        27.111111    59 days  \n",
       "2              NaN   107 days  \n",
       "3              NaN   110 days  \n",
       "4        30.000000   113 days  "
      ]
     },
     "execution_count": 83,
     "metadata": {},
     "output_type": "execute_result"
    }
   ],
   "source": [
    "cust_repur_original.head()"
   ]
  },
  {
   "cell_type": "code",
   "execution_count": 84,
   "metadata": {
    "collapsed": true
   },
   "outputs": [],
   "source": [
    "art_dict = art.set_index('product_id')['average_repurchase_time'].to_dict()"
   ]
  },
  {
   "cell_type": "code",
   "execution_count": 85,
   "metadata": {
    "collapsed": false
   },
   "outputs": [
    {
     "data": {
      "text/plain": [
       "{'com.gopaktor.credit.v2.1000': 1.5865384615384612,\n",
       " 'com.gopaktor.credit.v2.10000': nan,\n",
       " 'com.gopaktor.credit.v2.3000': nan,\n",
       " 'com.gopaktor.credit.v2.6000': nan,\n",
       " 'com.gopaktor.credit.v3.2000': nan,\n",
       " 'com.gopaktor.subscription.v1.premium.1m': 30.151833872707652,\n",
       " 'com.gopaktor.subscription.v11.premium.6m': nan,\n",
       " 'com.gopaktor.subscription.v12.premium.1m': 30.318181818181817,\n",
       " 'com.gopaktor.subscription.v12.premium.3m': 91.25,\n",
       " 'com.gopaktor.subscription.v2.premium.1m.2000': 29.507518796992482,\n",
       " 'com.gopaktor.subscription.v2.premium.1m.3000': nan,\n",
       " 'com.gopaktor.subscription.v2.premium.3m': 91.0,\n",
       " 'com.gopaktor.subscription.v2.premium.3m.2000': 91.0,\n",
       " 'com.gopaktor.subscription.v2.premium.6m': nan,\n",
       " 'com.gopaktor.subscription.v2.premium.6m.2000': nan,\n",
       " 'com.gopaktor.subscription.v3.premium.3m': 92.0,\n",
       " 'com.gopaktor.subscription.v3.premium.6m': nan,\n",
       " 'com.gopaktor.subscription.v4.premium.1m': 30.73368211260588}"
      ]
     },
     "execution_count": 85,
     "metadata": {},
     "output_type": "execute_result"
    }
   ],
   "source": [
    "art_dict"
   ]
  },
  {
   "cell_type": "code",
   "execution_count": 119,
   "metadata": {
    "collapsed": false
   },
   "outputs": [
    {
     "data": {
      "text/html": [
       "<div>\n",
       "<table border=\"1\" class=\"dataframe\">\n",
       "  <thead>\n",
       "    <tr style=\"text-align: right;\">\n",
       "      <th></th>\n",
       "      <th>product_id</th>\n",
       "      <th>average_repurchase_time</th>\n",
       "    </tr>\n",
       "  </thead>\n",
       "  <tbody>\n",
       "    <tr>\n",
       "      <th>0</th>\n",
       "      <td>com.gopaktor.credit.v2.1000</td>\n",
       "      <td>1.586538</td>\n",
       "    </tr>\n",
       "    <tr>\n",
       "      <th>1</th>\n",
       "      <td>com.gopaktor.credit.v2.10000</td>\n",
       "      <td>NaN</td>\n",
       "    </tr>\n",
       "    <tr>\n",
       "      <th>2</th>\n",
       "      <td>com.gopaktor.credit.v2.3000</td>\n",
       "      <td>NaN</td>\n",
       "    </tr>\n",
       "    <tr>\n",
       "      <th>3</th>\n",
       "      <td>com.gopaktor.credit.v2.6000</td>\n",
       "      <td>NaN</td>\n",
       "    </tr>\n",
       "    <tr>\n",
       "      <th>4</th>\n",
       "      <td>com.gopaktor.credit.v3.2000</td>\n",
       "      <td>NaN</td>\n",
       "    </tr>\n",
       "    <tr>\n",
       "      <th>5</th>\n",
       "      <td>com.gopaktor.subscription.v1.premium.1m</td>\n",
       "      <td>30.151834</td>\n",
       "    </tr>\n",
       "    <tr>\n",
       "      <th>6</th>\n",
       "      <td>com.gopaktor.subscription.v11.premium.6m</td>\n",
       "      <td>NaN</td>\n",
       "    </tr>\n",
       "    <tr>\n",
       "      <th>7</th>\n",
       "      <td>com.gopaktor.subscription.v12.premium.1m</td>\n",
       "      <td>30.318182</td>\n",
       "    </tr>\n",
       "    <tr>\n",
       "      <th>8</th>\n",
       "      <td>com.gopaktor.subscription.v12.premium.3m</td>\n",
       "      <td>91.250000</td>\n",
       "    </tr>\n",
       "    <tr>\n",
       "      <th>9</th>\n",
       "      <td>com.gopaktor.subscription.v2.premium.1m.2000</td>\n",
       "      <td>29.507519</td>\n",
       "    </tr>\n",
       "    <tr>\n",
       "      <th>10</th>\n",
       "      <td>com.gopaktor.subscription.v2.premium.1m.3000</td>\n",
       "      <td>NaN</td>\n",
       "    </tr>\n",
       "    <tr>\n",
       "      <th>11</th>\n",
       "      <td>com.gopaktor.subscription.v2.premium.3m</td>\n",
       "      <td>91.000000</td>\n",
       "    </tr>\n",
       "    <tr>\n",
       "      <th>12</th>\n",
       "      <td>com.gopaktor.subscription.v2.premium.3m.2000</td>\n",
       "      <td>91.000000</td>\n",
       "    </tr>\n",
       "    <tr>\n",
       "      <th>13</th>\n",
       "      <td>com.gopaktor.subscription.v2.premium.6m</td>\n",
       "      <td>NaN</td>\n",
       "    </tr>\n",
       "    <tr>\n",
       "      <th>14</th>\n",
       "      <td>com.gopaktor.subscription.v2.premium.6m.2000</td>\n",
       "      <td>NaN</td>\n",
       "    </tr>\n",
       "    <tr>\n",
       "      <th>15</th>\n",
       "      <td>com.gopaktor.subscription.v3.premium.3m</td>\n",
       "      <td>92.000000</td>\n",
       "    </tr>\n",
       "    <tr>\n",
       "      <th>16</th>\n",
       "      <td>com.gopaktor.subscription.v3.premium.6m</td>\n",
       "      <td>NaN</td>\n",
       "    </tr>\n",
       "    <tr>\n",
       "      <th>17</th>\n",
       "      <td>com.gopaktor.subscription.v4.premium.1m</td>\n",
       "      <td>30.733682</td>\n",
       "    </tr>\n",
       "  </tbody>\n",
       "</table>\n",
       "</div>"
      ],
      "text/plain": [
       "                                      product_id  average_repurchase_time\n",
       "0                    com.gopaktor.credit.v2.1000                 1.586538\n",
       "1                   com.gopaktor.credit.v2.10000                      NaN\n",
       "2                    com.gopaktor.credit.v2.3000                      NaN\n",
       "3                    com.gopaktor.credit.v2.6000                      NaN\n",
       "4                    com.gopaktor.credit.v3.2000                      NaN\n",
       "5        com.gopaktor.subscription.v1.premium.1m                30.151834\n",
       "6       com.gopaktor.subscription.v11.premium.6m                      NaN\n",
       "7       com.gopaktor.subscription.v12.premium.1m                30.318182\n",
       "8       com.gopaktor.subscription.v12.premium.3m                91.250000\n",
       "9   com.gopaktor.subscription.v2.premium.1m.2000                29.507519\n",
       "10  com.gopaktor.subscription.v2.premium.1m.3000                      NaN\n",
       "11       com.gopaktor.subscription.v2.premium.3m                91.000000\n",
       "12  com.gopaktor.subscription.v2.premium.3m.2000                91.000000\n",
       "13       com.gopaktor.subscription.v2.premium.6m                      NaN\n",
       "14  com.gopaktor.subscription.v2.premium.6m.2000                      NaN\n",
       "15       com.gopaktor.subscription.v3.premium.3m                92.000000\n",
       "16       com.gopaktor.subscription.v3.premium.6m                      NaN\n",
       "17       com.gopaktor.subscription.v4.premium.1m                30.733682"
      ]
     },
     "execution_count": 119,
     "metadata": {},
     "output_type": "execute_result"
    }
   ],
   "source": [
    "art"
   ]
  },
  {
   "cell_type": "code",
   "execution_count": 86,
   "metadata": {
    "collapsed": false
   },
   "outputs": [
    {
     "data": {
      "text/html": [
       "<div>\n",
       "<table border=\"1\" class=\"dataframe\">\n",
       "  <thead>\n",
       "    <tr style=\"text-align: right;\">\n",
       "      <th></th>\n",
       "      <th>cust_id</th>\n",
       "      <th>product_id</th>\n",
       "      <th>timestamp</th>\n",
       "      <th>counter</th>\n",
       "      <th>time</th>\n",
       "      <th>days_int</th>\n",
       "      <th>repurchase_time</th>\n",
       "      <th>time_diff</th>\n",
       "    </tr>\n",
       "  </thead>\n",
       "  <tbody>\n",
       "    <tr>\n",
       "      <th>0</th>\n",
       "      <td>2942914</td>\n",
       "      <td>com.gopaktor.subscription.v1.premium.1m</td>\n",
       "      <td>2016-12-24 09:53:35+00:00</td>\n",
       "      <td>0.0</td>\n",
       "      <td>0 days 00:00:00</td>\n",
       "      <td>0</td>\n",
       "      <td>NaN</td>\n",
       "      <td>92 days</td>\n",
       "    </tr>\n",
       "    <tr>\n",
       "      <th>1</th>\n",
       "      <td>3053432</td>\n",
       "      <td>com.gopaktor.subscription.v4.premium.1m</td>\n",
       "      <td>2017-01-26 06:22:00+00:00</td>\n",
       "      <td>10.0</td>\n",
       "      <td>245 days 01:54:56</td>\n",
       "      <td>245</td>\n",
       "      <td>27.111111</td>\n",
       "      <td>59 days</td>\n",
       "    </tr>\n",
       "    <tr>\n",
       "      <th>2</th>\n",
       "      <td>3129800</td>\n",
       "      <td>com.gopaktor.subscription.v1.premium.1m</td>\n",
       "      <td>2016-12-09 07:57:37+00:00</td>\n",
       "      <td>0.0</td>\n",
       "      <td>0 days 00:00:00</td>\n",
       "      <td>0</td>\n",
       "      <td>NaN</td>\n",
       "      <td>107 days</td>\n",
       "    </tr>\n",
       "    <tr>\n",
       "      <th>3</th>\n",
       "      <td>3289765</td>\n",
       "      <td>com.gopaktor.subscription.v2.premium.6m.2000</td>\n",
       "      <td>2016-12-06 11:37:37+00:00</td>\n",
       "      <td>0.0</td>\n",
       "      <td>0 days 00:00:00</td>\n",
       "      <td>0</td>\n",
       "      <td>NaN</td>\n",
       "      <td>110 days</td>\n",
       "    </tr>\n",
       "    <tr>\n",
       "      <th>4</th>\n",
       "      <td>3325662</td>\n",
       "      <td>com.gopaktor.subscription.v12.premium.1m</td>\n",
       "      <td>2016-12-03 04:36:00+00:00</td>\n",
       "      <td>2.0</td>\n",
       "      <td>31 days 01:49:48</td>\n",
       "      <td>31</td>\n",
       "      <td>30.000000</td>\n",
       "      <td>113 days</td>\n",
       "    </tr>\n",
       "  </tbody>\n",
       "</table>\n",
       "</div>"
      ],
      "text/plain": [
       "   cust_id                                    product_id  \\\n",
       "0  2942914       com.gopaktor.subscription.v1.premium.1m   \n",
       "1  3053432       com.gopaktor.subscription.v4.premium.1m   \n",
       "2  3129800       com.gopaktor.subscription.v1.premium.1m   \n",
       "3  3289765  com.gopaktor.subscription.v2.premium.6m.2000   \n",
       "4  3325662      com.gopaktor.subscription.v12.premium.1m   \n",
       "\n",
       "                  timestamp  counter              time  days_int  \\\n",
       "0 2016-12-24 09:53:35+00:00      0.0   0 days 00:00:00         0   \n",
       "1 2017-01-26 06:22:00+00:00     10.0 245 days 01:54:56       245   \n",
       "2 2016-12-09 07:57:37+00:00      0.0   0 days 00:00:00         0   \n",
       "3 2016-12-06 11:37:37+00:00      0.0   0 days 00:00:00         0   \n",
       "4 2016-12-03 04:36:00+00:00      2.0  31 days 01:49:48        31   \n",
       "\n",
       "   repurchase_time  time_diff  \n",
       "0              NaN    92 days  \n",
       "1        27.111111    59 days  \n",
       "2              NaN   107 days  \n",
       "3              NaN   110 days  \n",
       "4        30.000000   113 days  "
      ]
     },
     "execution_count": 86,
     "metadata": {},
     "output_type": "execute_result"
    }
   ],
   "source": [
    "cust_repur_original.head()"
   ]
  },
  {
   "cell_type": "code",
   "execution_count": 122,
   "metadata": {
    "collapsed": false
   },
   "outputs": [],
   "source": [
    "if cust_repur_original.counter.all() == 0:\n",
    "    if art.product_id.all() == cust_repur_original.product_id:\n",
    "        print \"yes\""
   ]
  },
  {
   "cell_type": "code",
   "execution_count": 107,
   "metadata": {
    "collapsed": false
   },
   "outputs": [
    {
     "ename": "ValueError",
     "evalue": "The truth value of a Series is ambiguous. Use a.empty, a.bool(), a.item(), a.any() or a.all().",
     "output_type": "error",
     "traceback": [
      "\u001b[1;31m---------------------------------------------------------------------------\u001b[0m",
      "\u001b[1;31mValueError\u001b[0m                                Traceback (most recent call last)",
      "\u001b[1;32m<ipython-input-107-a509235ad937>\u001b[0m in \u001b[0;36m<module>\u001b[1;34m()\u001b[0m\n\u001b[1;32m----> 1\u001b[1;33m \u001b[1;32mif\u001b[0m \u001b[0mcust_repur_original\u001b[0m\u001b[1;33m.\u001b[0m\u001b[0mcounter\u001b[0m\u001b[1;33m.\u001b[0m\u001b[0mbool\u001b[0m\u001b[1;33m(\u001b[0m\u001b[1;33m)\u001b[0m \u001b[1;33m==\u001b[0m \u001b[1;36m0\u001b[0m\u001b[1;33m:\u001b[0m\u001b[1;33m\u001b[0m\u001b[0m\n\u001b[0m\u001b[0;32m      2\u001b[0m     \u001b[1;32mif\u001b[0m \u001b[0mart_dict\u001b[0m\u001b[1;33m.\u001b[0m\u001b[0mhas_key\u001b[0m\u001b[1;33m(\u001b[0m\u001b[0mstr\u001b[0m\u001b[1;33m(\u001b[0m\u001b[0mcust_repur_original\u001b[0m\u001b[1;33m[\u001b[0m\u001b[1;34m\"product_id\"\u001b[0m\u001b[1;33m]\u001b[0m\u001b[1;33m)\u001b[0m\u001b[1;33m)\u001b[0m\u001b[1;33m:\u001b[0m\u001b[1;33m\u001b[0m\u001b[0m\n\u001b[0;32m      3\u001b[0m             \u001b[0mcust_repur_original\u001b[0m\u001b[1;33m[\u001b[0m\u001b[1;34m\"repurchase_time\"\u001b[0m\u001b[1;33m]\u001b[0m\u001b[1;33m.\u001b[0m\u001b[0mreplace\u001b[0m\u001b[1;33m(\u001b[0m\u001b[0mart\u001b[0m\u001b[1;33m(\u001b[0m\u001b[0mcust_repur_original\u001b[0m\u001b[1;33m[\u001b[0m\u001b[1;34m'product_id'\u001b[0m\u001b[1;33m]\u001b[0m\u001b[1;33m)\u001b[0m\u001b[1;33m)\u001b[0m\u001b[1;33m\u001b[0m\u001b[0m\n",
      "\u001b[1;32m/home/ubuntu/anaconda2/lib/python2.7/site-packages/pandas/core/generic.pyc\u001b[0m in \u001b[0;36mbool\u001b[1;34m(self)\u001b[0m\n\u001b[0;32m    903\u001b[0m                              \"{0}\".format(self.__class__.__name__))\n\u001b[0;32m    904\u001b[0m \u001b[1;33m\u001b[0m\u001b[0m\n\u001b[1;32m--> 905\u001b[1;33m         \u001b[0mself\u001b[0m\u001b[1;33m.\u001b[0m\u001b[0m__nonzero__\u001b[0m\u001b[1;33m(\u001b[0m\u001b[1;33m)\u001b[0m\u001b[1;33m\u001b[0m\u001b[0m\n\u001b[0m\u001b[0;32m    906\u001b[0m \u001b[1;33m\u001b[0m\u001b[0m\n\u001b[0;32m    907\u001b[0m     \u001b[1;32mdef\u001b[0m \u001b[0m__abs__\u001b[0m\u001b[1;33m(\u001b[0m\u001b[0mself\u001b[0m\u001b[1;33m)\u001b[0m\u001b[1;33m:\u001b[0m\u001b[1;33m\u001b[0m\u001b[0m\n",
      "\u001b[1;32m/home/ubuntu/anaconda2/lib/python2.7/site-packages/pandas/core/generic.pyc\u001b[0m in \u001b[0;36m__nonzero__\u001b[1;34m(self)\u001b[0m\n\u001b[0;32m    885\u001b[0m         raise ValueError(\"The truth value of a {0} is ambiguous. \"\n\u001b[0;32m    886\u001b[0m                          \u001b[1;34m\"Use a.empty, a.bool(), a.item(), a.any() or a.all().\"\u001b[0m\u001b[1;33m\u001b[0m\u001b[0m\n\u001b[1;32m--> 887\u001b[1;33m                          .format(self.__class__.__name__))\n\u001b[0m\u001b[0;32m    888\u001b[0m \u001b[1;33m\u001b[0m\u001b[0m\n\u001b[0;32m    889\u001b[0m     \u001b[0m__bool__\u001b[0m \u001b[1;33m=\u001b[0m \u001b[0m__nonzero__\u001b[0m\u001b[1;33m\u001b[0m\u001b[0m\n",
      "\u001b[1;31mValueError\u001b[0m: The truth value of a Series is ambiguous. Use a.empty, a.bool(), a.item(), a.any() or a.all()."
     ]
    }
   ],
   "source": [
    "if cust_repur_original.counter.all() == 0:\n",
    "    if art_dict.has_key(str(cust_repur_original[\"product_id\"])):\n",
    "            cust_repur_original[\"repurchase_time\"].replace(art(cust_repur_original['product_id']))"
   ]
  },
  {
   "cell_type": "code",
   "execution_count": 105,
   "metadata": {
    "collapsed": false
   },
   "outputs": [
    {
     "data": {
      "text/html": [
       "<div>\n",
       "<table border=\"1\" class=\"dataframe\">\n",
       "  <thead>\n",
       "    <tr style=\"text-align: right;\">\n",
       "      <th></th>\n",
       "      <th>cust_id</th>\n",
       "      <th>product_id</th>\n",
       "      <th>timestamp</th>\n",
       "      <th>counter</th>\n",
       "      <th>time</th>\n",
       "      <th>days_int</th>\n",
       "      <th>repurchase_time</th>\n",
       "      <th>time_diff</th>\n",
       "    </tr>\n",
       "  </thead>\n",
       "  <tbody>\n",
       "    <tr>\n",
       "      <th>0</th>\n",
       "      <td>2942914</td>\n",
       "      <td>com.gopaktor.subscription.v1.premium.1m</td>\n",
       "      <td>2016-12-24 09:53:35+00:00</td>\n",
       "      <td>0.0</td>\n",
       "      <td>0 days 00:00:00</td>\n",
       "      <td>0</td>\n",
       "      <td>NaN</td>\n",
       "      <td>92 days</td>\n",
       "    </tr>\n",
       "    <tr>\n",
       "      <th>1</th>\n",
       "      <td>3053432</td>\n",
       "      <td>com.gopaktor.subscription.v4.premium.1m</td>\n",
       "      <td>2017-01-26 06:22:00+00:00</td>\n",
       "      <td>10.0</td>\n",
       "      <td>245 days 01:54:56</td>\n",
       "      <td>245</td>\n",
       "      <td>27.111111</td>\n",
       "      <td>59 days</td>\n",
       "    </tr>\n",
       "    <tr>\n",
       "      <th>2</th>\n",
       "      <td>3129800</td>\n",
       "      <td>com.gopaktor.subscription.v1.premium.1m</td>\n",
       "      <td>2016-12-09 07:57:37+00:00</td>\n",
       "      <td>0.0</td>\n",
       "      <td>0 days 00:00:00</td>\n",
       "      <td>0</td>\n",
       "      <td>NaN</td>\n",
       "      <td>107 days</td>\n",
       "    </tr>\n",
       "    <tr>\n",
       "      <th>3</th>\n",
       "      <td>3289765</td>\n",
       "      <td>com.gopaktor.subscription.v2.premium.6m.2000</td>\n",
       "      <td>2016-12-06 11:37:37+00:00</td>\n",
       "      <td>0.0</td>\n",
       "      <td>0 days 00:00:00</td>\n",
       "      <td>0</td>\n",
       "      <td>NaN</td>\n",
       "      <td>110 days</td>\n",
       "    </tr>\n",
       "    <tr>\n",
       "      <th>4</th>\n",
       "      <td>3325662</td>\n",
       "      <td>com.gopaktor.subscription.v12.premium.1m</td>\n",
       "      <td>2016-12-03 04:36:00+00:00</td>\n",
       "      <td>2.0</td>\n",
       "      <td>31 days 01:49:48</td>\n",
       "      <td>31</td>\n",
       "      <td>30.000000</td>\n",
       "      <td>113 days</td>\n",
       "    </tr>\n",
       "  </tbody>\n",
       "</table>\n",
       "</div>"
      ],
      "text/plain": [
       "   cust_id                                    product_id  \\\n",
       "0  2942914       com.gopaktor.subscription.v1.premium.1m   \n",
       "1  3053432       com.gopaktor.subscription.v4.premium.1m   \n",
       "2  3129800       com.gopaktor.subscription.v1.premium.1m   \n",
       "3  3289765  com.gopaktor.subscription.v2.premium.6m.2000   \n",
       "4  3325662      com.gopaktor.subscription.v12.premium.1m   \n",
       "\n",
       "                  timestamp  counter              time  days_int  \\\n",
       "0 2016-12-24 09:53:35+00:00      0.0   0 days 00:00:00         0   \n",
       "1 2017-01-26 06:22:00+00:00     10.0 245 days 01:54:56       245   \n",
       "2 2016-12-09 07:57:37+00:00      0.0   0 days 00:00:00         0   \n",
       "3 2016-12-06 11:37:37+00:00      0.0   0 days 00:00:00         0   \n",
       "4 2016-12-03 04:36:00+00:00      2.0  31 days 01:49:48        31   \n",
       "\n",
       "   repurchase_time  time_diff  \n",
       "0              NaN    92 days  \n",
       "1        27.111111    59 days  \n",
       "2              NaN   107 days  \n",
       "3              NaN   110 days  \n",
       "4        30.000000   113 days  "
      ]
     },
     "execution_count": 105,
     "metadata": {},
     "output_type": "execute_result"
    }
   ],
   "source": [
    "cust_repur_original.head()"
   ]
  },
  {
   "cell_type": "code",
   "execution_count": null,
   "metadata": {
    "collapsed": true
   },
   "outputs": [],
   "source": []
  },
  {
   "cell_type": "code",
   "execution_count": null,
   "metadata": {
    "collapsed": false
   },
   "outputs": [],
   "source": [
    "cust_repur_original.head()"
   ]
  },
  {
   "cell_type": "code",
   "execution_count": null,
   "metadata": {
    "collapsed": false
   },
   "outputs": [],
   "source": [
    "cust_repur_original.tail()"
   ]
  },
  {
   "cell_type": "code",
   "execution_count": null,
   "metadata": {
    "collapsed": true
   },
   "outputs": [],
   "source": [
    "cust_repur_original['time_diff_int'] = cust_repur_original['time_diff'].dt.days"
   ]
  },
  {
   "cell_type": "raw",
   "metadata": {
    "collapsed": false
   },
   "source": [
    "for x in range(0,len(cust_repur_original)):\n",
    "    cust_repur_original.time_diff_int[x] = cust_repur_original.time_diff[x].days"
   ]
  },
  {
   "cell_type": "code",
   "execution_count": null,
   "metadata": {
    "collapsed": false
   },
   "outputs": [],
   "source": [
    "cust_repur_original.head()"
   ]
  },
  {
   "cell_type": "code",
   "execution_count": null,
   "metadata": {
    "collapsed": true
   },
   "outputs": [],
   "source": [
    "cust_repur_original['depriotarize'] = \"\""
   ]
  },
  {
   "cell_type": "code",
   "execution_count": null,
   "metadata": {
    "collapsed": false
   },
   "outputs": [],
   "source": [
    "cust_repur_original.head()"
   ]
  },
  {
   "cell_type": "code",
   "execution_count": null,
   "metadata": {
    "collapsed": false
   },
   "outputs": [],
   "source": [
    "cust_repur_original.repurchase_time = cust_repur_original.repurchase_time.fillna(0)"
   ]
  },
  {
   "cell_type": "code",
   "execution_count": null,
   "metadata": {
    "collapsed": false
   },
   "outputs": [],
   "source": [
    "cust_repur_original.head()"
   ]
  },
  {
   "cell_type": "code",
   "execution_count": null,
   "metadata": {
    "collapsed": false
   },
   "outputs": [],
   "source": [
    "type(cust_repur_original.time_diff[1])"
   ]
  },
  {
   "cell_type": "code",
   "execution_count": null,
   "metadata": {
    "collapsed": false
   },
   "outputs": [],
   "source": [
    "cust_repur_original.head()"
   ]
  },
  {
   "cell_type": "code",
   "execution_count": null,
   "metadata": {
    "collapsed": false
   },
   "outputs": [],
   "source": [
    "for x in range(0,len(cust_repur_original)):\n",
    "    if cust_repur_original.time_diff_int[x] > cust_repur_original.repurchase_time[x]:\n",
    "        cust_repur_original.depriotarize[x] = \"Recommend\"\n",
    "    else:\n",
    "        cust_repur_original.depriotarize[x] = \"Do_not_Recommend\""
   ]
  },
  {
   "cell_type": "code",
   "execution_count": null,
   "metadata": {
    "collapsed": false,
    "scrolled": true
   },
   "outputs": [],
   "source": [
    "cust_repur_original.head()"
   ]
  },
  {
   "cell_type": "code",
   "execution_count": null,
   "metadata": {
    "collapsed": true
   },
   "outputs": [],
   "source": [
    "del cust_repur_original['timestamp']"
   ]
  },
  {
   "cell_type": "code",
   "execution_count": null,
   "metadata": {
    "collapsed": true
   },
   "outputs": [],
   "source": [
    "del cust_repur_original['counter']"
   ]
  },
  {
   "cell_type": "code",
   "execution_count": null,
   "metadata": {
    "collapsed": true
   },
   "outputs": [],
   "source": [
    "del cust_repur_original['time']"
   ]
  },
  {
   "cell_type": "code",
   "execution_count": null,
   "metadata": {
    "collapsed": true
   },
   "outputs": [],
   "source": [
    "del cust_repur_original['days_int']"
   ]
  },
  {
   "cell_type": "code",
   "execution_count": null,
   "metadata": {
    "collapsed": true
   },
   "outputs": [],
   "source": [
    "del cust_repur_original['repurchase_time']"
   ]
  },
  {
   "cell_type": "code",
   "execution_count": null,
   "metadata": {
    "collapsed": true
   },
   "outputs": [],
   "source": [
    "del cust_repur_original['time_diff']"
   ]
  },
  {
   "cell_type": "code",
   "execution_count": null,
   "metadata": {
    "collapsed": true
   },
   "outputs": [],
   "source": [
    "del cust_repur_original['time_diff_int']"
   ]
  },
  {
   "cell_type": "code",
   "execution_count": null,
   "metadata": {
    "collapsed": false
   },
   "outputs": [],
   "source": [
    "cust_repur_original.head()"
   ]
  },
  {
   "cell_type": "code",
   "execution_count": null,
   "metadata": {
    "collapsed": true
   },
   "outputs": [],
   "source": []
  }
 ],
 "metadata": {
  "kernelspec": {
   "display_name": "Python 2",
   "language": "python",
   "name": "python2"
  },
  "language_info": {
   "codemirror_mode": {
    "name": "ipython",
    "version": 2
   },
   "file_extension": ".py",
   "mimetype": "text/x-python",
   "name": "python",
   "nbconvert_exporter": "python",
   "pygments_lexer": "ipython2",
   "version": "2.7.11"
  }
 },
 "nbformat": 4,
 "nbformat_minor": 0
}
