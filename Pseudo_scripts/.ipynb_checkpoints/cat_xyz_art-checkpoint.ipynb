{
 "cells": [
  {
   "cell_type": "code",
   "execution_count": 1,
   "metadata": {
    "collapsed": true
   },
   "outputs": [],
   "source": [
    "from DemoServerDB import ConnectDatabase\n",
    "from mapping import doc"
   ]
  },
  {
   "cell_type": "code",
   "execution_count": 2,
   "metadata": {
    "collapsed": true
   },
   "outputs": [],
   "source": [
    "temp = ConnectDatabase()"
   ]
  },
  {
   "cell_type": "code",
   "execution_count": 3,
   "metadata": {
    "collapsed": false
   },
   "outputs": [
    {
     "data": {
      "text/plain": [
       "<connection object at 0x7f3bb4e64d70; dsn: 'dbname=postgresdemotwo user=clientdemo password=xxxxxxxxxxx host=postgresdemotwo.c3yxphqgag3s.ap-southeast-1.rds.amazonaws.com port=5432 sslmode=require', closed: 0>"
      ]
     },
     "execution_count": 3,
     "metadata": {},
     "output_type": "execute_result"
    }
   ],
   "source": [
    "temp.conn"
   ]
  },
  {
   "cell_type": "code",
   "execution_count": 4,
   "metadata": {
    "collapsed": false
   },
   "outputs": [
    {
     "data": {
      "text/plain": [
       "{'category': 'category',\n",
       " 'cust_id': 'id',\n",
       " 'product_id': 'prod_id',\n",
       " 'quantity': 'purchasequantity',\n",
       " 'timestamp': 'date'}"
      ]
     },
     "execution_count": 4,
     "metadata": {},
     "output_type": "execute_result"
    }
   ],
   "source": [
    "doc['column_map']['TRANSACTION_MASTER']"
   ]
  },
  {
   "cell_type": "code",
   "execution_count": 7,
   "metadata": {
    "collapsed": true
   },
   "outputs": [],
   "source": [
    "query = 'SELECT \"%s\",\"%s\" FROM \"%s\"'%(doc['column_map']['TRANSACTION_MASTER']['cust_id'],\n",
    "                               doc['column_map']['TRANSACTION_MASTER']['category'],\n",
    "                               doc['table_map']['TRANSACTION_MASTER'])"
   ]
  },
  {
   "cell_type": "code",
   "execution_count": 8,
   "metadata": {
    "collapsed": false
   },
   "outputs": [
    {
     "name": "stdout",
     "output_type": "stream",
     "text": [
      "SELECT \"id\",\"category\" FROM \"trans\"\n"
     ]
    }
   ],
   "source": [
    "print query"
   ]
  },
  {
   "cell_type": "code",
   "execution_count": 9,
   "metadata": {
    "collapsed": true
   },
   "outputs": [],
   "source": [
    "temp.conn.rollback()"
   ]
  },
  {
   "cell_type": "code",
   "execution_count": 10,
   "metadata": {
    "collapsed": false
   },
   "outputs": [],
   "source": [
    "temp.cur.execute(query)"
   ]
  },
  {
   "cell_type": "code",
   "execution_count": 11,
   "metadata": {
    "collapsed": false
   },
   "outputs": [],
   "source": [
    "col_names = [desc[0] for desc in temp.cur.description]"
   ]
  },
  {
   "cell_type": "code",
   "execution_count": 12,
   "metadata": {
    "collapsed": false
   },
   "outputs": [
    {
     "data": {
      "text/plain": [
       "['id', 'category']"
      ]
     },
     "execution_count": 12,
     "metadata": {},
     "output_type": "execute_result"
    }
   ],
   "source": [
    "col_names"
   ]
  },
  {
   "cell_type": "code",
   "execution_count": 13,
   "metadata": {
    "collapsed": false
   },
   "outputs": [],
   "source": [
    "import pandas as pd"
   ]
  },
  {
   "cell_type": "code",
   "execution_count": 14,
   "metadata": {
    "collapsed": true
   },
   "outputs": [],
   "source": [
    "trans_table = pd.DataFrame(temp.cur.fetchall(), columns=col_names)"
   ]
  },
  {
   "cell_type": "code",
   "execution_count": 15,
   "metadata": {
    "collapsed": false
   },
   "outputs": [
    {
     "data": {
      "text/html": [
       "<div>\n",
       "<table border=\"1\" class=\"dataframe\">\n",
       "  <thead>\n",
       "    <tr style=\"text-align: right;\">\n",
       "      <th></th>\n",
       "      <th>id</th>\n",
       "      <th>category</th>\n",
       "    </tr>\n",
       "  </thead>\n",
       "  <tbody>\n",
       "    <tr>\n",
       "      <th>0</th>\n",
       "      <td>3561244241</td>\n",
       "      <td>2507</td>\n",
       "    </tr>\n",
       "    <tr>\n",
       "      <th>1</th>\n",
       "      <td>3561244241</td>\n",
       "      <td>2507</td>\n",
       "    </tr>\n",
       "    <tr>\n",
       "      <th>2</th>\n",
       "      <td>3561244241</td>\n",
       "      <td>9753</td>\n",
       "    </tr>\n",
       "    <tr>\n",
       "      <th>3</th>\n",
       "      <td>3561244241</td>\n",
       "      <td>9518</td>\n",
       "    </tr>\n",
       "    <tr>\n",
       "      <th>4</th>\n",
       "      <td>3561244241</td>\n",
       "      <td>9518</td>\n",
       "    </tr>\n",
       "  </tbody>\n",
       "</table>\n",
       "</div>"
      ],
      "text/plain": [
       "           id  category\n",
       "0  3561244241      2507\n",
       "1  3561244241      2507\n",
       "2  3561244241      9753\n",
       "3  3561244241      9518\n",
       "4  3561244241      9518"
      ]
     },
     "execution_count": 15,
     "metadata": {},
     "output_type": "execute_result"
    }
   ],
   "source": [
    "trans_table.head()"
   ]
  },
  {
   "cell_type": "code",
   "execution_count": 16,
   "metadata": {
    "collapsed": true
   },
   "outputs": [],
   "source": [
    "trans_table.rename(columns={doc['column_map']['TRANSACTION_MASTER']['cust_id']:'cust_id'}, inplace=True)\n",
    "trans_table.rename(columns={doc['column_map']['TRANSACTION_MASTER']['category']:'category'}, inplace=True)"
   ]
  },
  {
   "cell_type": "code",
   "execution_count": 17,
   "metadata": {
    "collapsed": false
   },
   "outputs": [
    {
     "data": {
      "text/html": [
       "<div>\n",
       "<table border=\"1\" class=\"dataframe\">\n",
       "  <thead>\n",
       "    <tr style=\"text-align: right;\">\n",
       "      <th></th>\n",
       "      <th>cust_id</th>\n",
       "      <th>category</th>\n",
       "    </tr>\n",
       "  </thead>\n",
       "  <tbody>\n",
       "    <tr>\n",
       "      <th>0</th>\n",
       "      <td>3561244241</td>\n",
       "      <td>2507</td>\n",
       "    </tr>\n",
       "    <tr>\n",
       "      <th>1</th>\n",
       "      <td>3561244241</td>\n",
       "      <td>2507</td>\n",
       "    </tr>\n",
       "    <tr>\n",
       "      <th>2</th>\n",
       "      <td>3561244241</td>\n",
       "      <td>9753</td>\n",
       "    </tr>\n",
       "    <tr>\n",
       "      <th>3</th>\n",
       "      <td>3561244241</td>\n",
       "      <td>9518</td>\n",
       "    </tr>\n",
       "    <tr>\n",
       "      <th>4</th>\n",
       "      <td>3561244241</td>\n",
       "      <td>9518</td>\n",
       "    </tr>\n",
       "  </tbody>\n",
       "</table>\n",
       "</div>"
      ],
      "text/plain": [
       "      cust_id  category\n",
       "0  3561244241      2507\n",
       "1  3561244241      2507\n",
       "2  3561244241      9753\n",
       "3  3561244241      9518\n",
       "4  3561244241      9518"
      ]
     },
     "execution_count": 17,
     "metadata": {},
     "output_type": "execute_result"
    }
   ],
   "source": [
    "trans_table.head()"
   ]
  },
  {
   "cell_type": "code",
   "execution_count": 18,
   "metadata": {
    "collapsed": false
   },
   "outputs": [
    {
     "data": {
      "text/plain": [
       "(71932603, 2)"
      ]
     },
     "execution_count": 18,
     "metadata": {},
     "output_type": "execute_result"
    }
   ],
   "source": [
    "trans_table.shape"
   ]
  },
  {
   "cell_type": "code",
   "execution_count": 19,
   "metadata": {
    "collapsed": false
   },
   "outputs": [
    {
     "data": {
      "text/plain": [
       "62308"
      ]
     },
     "execution_count": 19,
     "metadata": {},
     "output_type": "execute_result"
    }
   ],
   "source": [
    "len(trans_table['cust_id'].unique())"
   ]
  },
  {
   "cell_type": "code",
   "execution_count": 20,
   "metadata": {
    "collapsed": false
   },
   "outputs": [],
   "source": [
    "grp_cust = trans_table.groupby('cust_id').count()"
   ]
  },
  {
   "cell_type": "code",
   "execution_count": 21,
   "metadata": {
    "collapsed": false
   },
   "outputs": [
    {
     "data": {
      "text/html": [
       "<div>\n",
       "<table border=\"1\" class=\"dataframe\">\n",
       "  <thead>\n",
       "    <tr style=\"text-align: right;\">\n",
       "      <th></th>\n",
       "      <th>category</th>\n",
       "    </tr>\n",
       "    <tr>\n",
       "      <th>cust_id</th>\n",
       "      <th></th>\n",
       "    </tr>\n",
       "  </thead>\n",
       "  <tbody>\n",
       "    <tr>\n",
       "      <th>100010021</th>\n",
       "      <td>349</td>\n",
       "    </tr>\n",
       "    <tr>\n",
       "      <th>100022923</th>\n",
       "      <td>617</td>\n",
       "    </tr>\n",
       "    <tr>\n",
       "      <th>100029473</th>\n",
       "      <td>1644</td>\n",
       "    </tr>\n",
       "    <tr>\n",
       "      <th>100050424</th>\n",
       "      <td>1235</td>\n",
       "    </tr>\n",
       "    <tr>\n",
       "      <th>100051316</th>\n",
       "      <td>3065</td>\n",
       "    </tr>\n",
       "  </tbody>\n",
       "</table>\n",
       "</div>"
      ],
      "text/plain": [
       "           category\n",
       "cust_id            \n",
       "100010021       349\n",
       "100022923       617\n",
       "100029473      1644\n",
       "100050424      1235\n",
       "100051316      3065"
      ]
     },
     "execution_count": 21,
     "metadata": {},
     "output_type": "execute_result"
    }
   ],
   "source": [
    "grp_cust.head()"
   ]
  },
  {
   "cell_type": "code",
   "execution_count": 22,
   "metadata": {
    "collapsed": true
   },
   "outputs": [],
   "source": [
    "grp_cust = grp_cust.reset_index()"
   ]
  },
  {
   "cell_type": "code",
   "execution_count": 23,
   "metadata": {
    "collapsed": false
   },
   "outputs": [
    {
     "data": {
      "text/html": [
       "<div>\n",
       "<table border=\"1\" class=\"dataframe\">\n",
       "  <thead>\n",
       "    <tr style=\"text-align: right;\">\n",
       "      <th></th>\n",
       "      <th>cust_id</th>\n",
       "      <th>category</th>\n",
       "    </tr>\n",
       "  </thead>\n",
       "  <tbody>\n",
       "    <tr>\n",
       "      <th>0</th>\n",
       "      <td>100010021</td>\n",
       "      <td>349</td>\n",
       "    </tr>\n",
       "    <tr>\n",
       "      <th>1</th>\n",
       "      <td>100022923</td>\n",
       "      <td>617</td>\n",
       "    </tr>\n",
       "    <tr>\n",
       "      <th>2</th>\n",
       "      <td>100029473</td>\n",
       "      <td>1644</td>\n",
       "    </tr>\n",
       "    <tr>\n",
       "      <th>3</th>\n",
       "      <td>100050424</td>\n",
       "      <td>1235</td>\n",
       "    </tr>\n",
       "    <tr>\n",
       "      <th>4</th>\n",
       "      <td>100051316</td>\n",
       "      <td>3065</td>\n",
       "    </tr>\n",
       "  </tbody>\n",
       "</table>\n",
       "</div>"
      ],
      "text/plain": [
       "     cust_id  category\n",
       "0  100010021       349\n",
       "1  100022923       617\n",
       "2  100029473      1644\n",
       "3  100050424      1235\n",
       "4  100051316      3065"
      ]
     },
     "execution_count": 23,
     "metadata": {},
     "output_type": "execute_result"
    }
   ],
   "source": [
    "grp_cust.head()"
   ]
  },
  {
   "cell_type": "code",
   "execution_count": 24,
   "metadata": {
    "collapsed": false
   },
   "outputs": [
    {
     "data": {
      "text/plain": [
       "(62308, 2)"
      ]
     },
     "execution_count": 24,
     "metadata": {},
     "output_type": "execute_result"
    }
   ],
   "source": [
    "grp_cust.shape"
   ]
  },
  {
   "cell_type": "code",
   "execution_count": 25,
   "metadata": {
    "collapsed": true
   },
   "outputs": [],
   "source": [
    "grp_cust.rename(columns={'category':'count'}, inplace=True)"
   ]
  },
  {
   "cell_type": "code",
   "execution_count": 26,
   "metadata": {
    "collapsed": false
   },
   "outputs": [
    {
     "data": {
      "text/html": [
       "<div>\n",
       "<table border=\"1\" class=\"dataframe\">\n",
       "  <thead>\n",
       "    <tr style=\"text-align: right;\">\n",
       "      <th></th>\n",
       "      <th>cust_id</th>\n",
       "      <th>count</th>\n",
       "    </tr>\n",
       "  </thead>\n",
       "  <tbody>\n",
       "    <tr>\n",
       "      <th>0</th>\n",
       "      <td>100010021</td>\n",
       "      <td>349</td>\n",
       "    </tr>\n",
       "    <tr>\n",
       "      <th>1</th>\n",
       "      <td>100022923</td>\n",
       "      <td>617</td>\n",
       "    </tr>\n",
       "    <tr>\n",
       "      <th>2</th>\n",
       "      <td>100029473</td>\n",
       "      <td>1644</td>\n",
       "    </tr>\n",
       "    <tr>\n",
       "      <th>3</th>\n",
       "      <td>100050424</td>\n",
       "      <td>1235</td>\n",
       "    </tr>\n",
       "    <tr>\n",
       "      <th>4</th>\n",
       "      <td>100051316</td>\n",
       "      <td>3065</td>\n",
       "    </tr>\n",
       "  </tbody>\n",
       "</table>\n",
       "</div>"
      ],
      "text/plain": [
       "     cust_id  count\n",
       "0  100010021    349\n",
       "1  100022923    617\n",
       "2  100029473   1644\n",
       "3  100050424   1235\n",
       "4  100051316   3065"
      ]
     },
     "execution_count": 26,
     "metadata": {},
     "output_type": "execute_result"
    }
   ],
   "source": [
    "grp_cust.head()"
   ]
  },
  {
   "cell_type": "code",
   "execution_count": 27,
   "metadata": {
    "collapsed": false
   },
   "outputs": [],
   "source": [
    "grp_cust_df_1 = grp_cust.query('count != 1')"
   ]
  },
  {
   "cell_type": "code",
   "execution_count": 28,
   "metadata": {
    "collapsed": false
   },
   "outputs": [
    {
     "data": {
      "text/plain": [
       "(62301, 2)"
      ]
     },
     "execution_count": 28,
     "metadata": {},
     "output_type": "execute_result"
    }
   ],
   "source": [
    "grp_cust_df_1.shape"
   ]
  },
  {
   "cell_type": "code",
   "execution_count": 29,
   "metadata": {
    "collapsed": false
   },
   "outputs": [
    {
     "data": {
      "text/plain": [
       "(62308, 2)"
      ]
     },
     "execution_count": 29,
     "metadata": {},
     "output_type": "execute_result"
    }
   ],
   "source": [
    "grp_cust.shape"
   ]
  },
  {
   "cell_type": "code",
   "execution_count": 30,
   "metadata": {
    "collapsed": true
   },
   "outputs": [],
   "source": [
    "grp_cust_df_1.reset_index(drop=True, inplace=True)"
   ]
  },
  {
   "cell_type": "code",
   "execution_count": 31,
   "metadata": {
    "collapsed": false
   },
   "outputs": [
    {
     "data": {
      "text/html": [
       "<div>\n",
       "<table border=\"1\" class=\"dataframe\">\n",
       "  <thead>\n",
       "    <tr style=\"text-align: right;\">\n",
       "      <th></th>\n",
       "      <th>cust_id</th>\n",
       "      <th>count</th>\n",
       "    </tr>\n",
       "  </thead>\n",
       "  <tbody>\n",
       "    <tr>\n",
       "      <th>0</th>\n",
       "      <td>100010021</td>\n",
       "      <td>349</td>\n",
       "    </tr>\n",
       "    <tr>\n",
       "      <th>1</th>\n",
       "      <td>100022923</td>\n",
       "      <td>617</td>\n",
       "    </tr>\n",
       "    <tr>\n",
       "      <th>2</th>\n",
       "      <td>100029473</td>\n",
       "      <td>1644</td>\n",
       "    </tr>\n",
       "    <tr>\n",
       "      <th>3</th>\n",
       "      <td>100050424</td>\n",
       "      <td>1235</td>\n",
       "    </tr>\n",
       "    <tr>\n",
       "      <th>4</th>\n",
       "      <td>100051316</td>\n",
       "      <td>3065</td>\n",
       "    </tr>\n",
       "  </tbody>\n",
       "</table>\n",
       "</div>"
      ],
      "text/plain": [
       "     cust_id  count\n",
       "0  100010021    349\n",
       "1  100022923    617\n",
       "2  100029473   1644\n",
       "3  100050424   1235\n",
       "4  100051316   3065"
      ]
     },
     "execution_count": 31,
     "metadata": {},
     "output_type": "execute_result"
    }
   ],
   "source": [
    "grp_cust_df_1.head()"
   ]
  },
  {
   "cell_type": "code",
   "execution_count": 32,
   "metadata": {
    "collapsed": false
   },
   "outputs": [
    {
     "data": {
      "text/html": [
       "<div>\n",
       "<table border=\"1\" class=\"dataframe\">\n",
       "  <thead>\n",
       "    <tr style=\"text-align: right;\">\n",
       "      <th></th>\n",
       "      <th>cust_id</th>\n",
       "      <th>count</th>\n",
       "    </tr>\n",
       "  </thead>\n",
       "  <tbody>\n",
       "    <tr>\n",
       "      <th>62296</th>\n",
       "      <td>99804794</td>\n",
       "      <td>529</td>\n",
       "    </tr>\n",
       "    <tr>\n",
       "      <th>62297</th>\n",
       "      <td>99818613</td>\n",
       "      <td>673</td>\n",
       "    </tr>\n",
       "    <tr>\n",
       "      <th>62298</th>\n",
       "      <td>99844671</td>\n",
       "      <td>1656</td>\n",
       "    </tr>\n",
       "    <tr>\n",
       "      <th>62299</th>\n",
       "      <td>99926227</td>\n",
       "      <td>914</td>\n",
       "    </tr>\n",
       "    <tr>\n",
       "      <th>62300</th>\n",
       "      <td>99972977</td>\n",
       "      <td>670</td>\n",
       "    </tr>\n",
       "  </tbody>\n",
       "</table>\n",
       "</div>"
      ],
      "text/plain": [
       "        cust_id  count\n",
       "62296  99804794    529\n",
       "62297  99818613    673\n",
       "62298  99844671   1656\n",
       "62299  99926227    914\n",
       "62300  99972977    670"
      ]
     },
     "execution_count": 32,
     "metadata": {},
     "output_type": "execute_result"
    }
   ],
   "source": [
    "grp_cust_df_1.tail()"
   ]
  },
  {
   "cell_type": "code",
   "execution_count": 33,
   "metadata": {
    "collapsed": true
   },
   "outputs": [],
   "source": [
    "cust = grp_cust_df_1[['cust_id']]"
   ]
  },
  {
   "cell_type": "code",
   "execution_count": 34,
   "metadata": {
    "collapsed": false
   },
   "outputs": [
    {
     "data": {
      "text/html": [
       "<div>\n",
       "<table border=\"1\" class=\"dataframe\">\n",
       "  <thead>\n",
       "    <tr style=\"text-align: right;\">\n",
       "      <th></th>\n",
       "      <th>cust_id</th>\n",
       "    </tr>\n",
       "  </thead>\n",
       "  <tbody>\n",
       "    <tr>\n",
       "      <th>0</th>\n",
       "      <td>100010021</td>\n",
       "    </tr>\n",
       "    <tr>\n",
       "      <th>1</th>\n",
       "      <td>100022923</td>\n",
       "    </tr>\n",
       "    <tr>\n",
       "      <th>2</th>\n",
       "      <td>100029473</td>\n",
       "    </tr>\n",
       "    <tr>\n",
       "      <th>3</th>\n",
       "      <td>100050424</td>\n",
       "    </tr>\n",
       "    <tr>\n",
       "      <th>4</th>\n",
       "      <td>100051316</td>\n",
       "    </tr>\n",
       "  </tbody>\n",
       "</table>\n",
       "</div>"
      ],
      "text/plain": [
       "     cust_id\n",
       "0  100010021\n",
       "1  100022923\n",
       "2  100029473\n",
       "3  100050424\n",
       "4  100051316"
      ]
     },
     "execution_count": 34,
     "metadata": {},
     "output_type": "execute_result"
    }
   ],
   "source": [
    "cust.head()"
   ]
  },
  {
   "cell_type": "code",
   "execution_count": 35,
   "metadata": {
    "collapsed": true
   },
   "outputs": [],
   "source": [
    "final_data = trans_table.merge(cust, on='cust_id')"
   ]
  },
  {
   "cell_type": "code",
   "execution_count": 36,
   "metadata": {
    "collapsed": false
   },
   "outputs": [
    {
     "data": {
      "text/plain": [
       "(71932596, 2)"
      ]
     },
     "execution_count": 36,
     "metadata": {},
     "output_type": "execute_result"
    }
   ],
   "source": [
    "final_data.shape"
   ]
  },
  {
   "cell_type": "code",
   "execution_count": 37,
   "metadata": {
    "collapsed": true
   },
   "outputs": [],
   "source": [
    "cust_category_comb = final_data.groupby(['cust_id','category']).size().reset_index().rename(columns={0:'count'})"
   ]
  },
  {
   "cell_type": "code",
   "execution_count": 38,
   "metadata": {
    "collapsed": false
   },
   "outputs": [
    {
     "data": {
      "text/html": [
       "<div>\n",
       "<table border=\"1\" class=\"dataframe\">\n",
       "  <thead>\n",
       "    <tr style=\"text-align: right;\">\n",
       "      <th></th>\n",
       "      <th>cust_id</th>\n",
       "      <th>category</th>\n",
       "      <th>count</th>\n",
       "    </tr>\n",
       "  </thead>\n",
       "  <tbody>\n",
       "    <tr>\n",
       "      <th>0</th>\n",
       "      <td>100010021</td>\n",
       "      <td>201</td>\n",
       "      <td>1</td>\n",
       "    </tr>\n",
       "    <tr>\n",
       "      <th>1</th>\n",
       "      <td>100010021</td>\n",
       "      <td>311</td>\n",
       "      <td>1</td>\n",
       "    </tr>\n",
       "    <tr>\n",
       "      <th>2</th>\n",
       "      <td>100010021</td>\n",
       "      <td>410</td>\n",
       "      <td>1</td>\n",
       "    </tr>\n",
       "    <tr>\n",
       "      <th>3</th>\n",
       "      <td>100010021</td>\n",
       "      <td>416</td>\n",
       "      <td>8</td>\n",
       "    </tr>\n",
       "    <tr>\n",
       "      <th>4</th>\n",
       "      <td>100010021</td>\n",
       "      <td>417</td>\n",
       "      <td>1</td>\n",
       "    </tr>\n",
       "  </tbody>\n",
       "</table>\n",
       "</div>"
      ],
      "text/plain": [
       "     cust_id  category  count\n",
       "0  100010021       201      1\n",
       "1  100010021       311      1\n",
       "2  100010021       410      1\n",
       "3  100010021       416      8\n",
       "4  100010021       417      1"
      ]
     },
     "execution_count": 38,
     "metadata": {},
     "output_type": "execute_result"
    }
   ],
   "source": [
    "cust_category_comb.head()"
   ]
  },
  {
   "cell_type": "code",
   "execution_count": 39,
   "metadata": {
    "collapsed": true
   },
   "outputs": [],
   "source": [
    "affinity_df = cust_category_comb.merge(grp_cust_df_1, on='cust_id')"
   ]
  },
  {
   "cell_type": "code",
   "execution_count": 40,
   "metadata": {
    "collapsed": false
   },
   "outputs": [
    {
     "data": {
      "text/html": [
       "<div>\n",
       "<table border=\"1\" class=\"dataframe\">\n",
       "  <thead>\n",
       "    <tr style=\"text-align: right;\">\n",
       "      <th></th>\n",
       "      <th>cust_id</th>\n",
       "      <th>category</th>\n",
       "      <th>count_x</th>\n",
       "      <th>count_y</th>\n",
       "    </tr>\n",
       "  </thead>\n",
       "  <tbody>\n",
       "    <tr>\n",
       "      <th>0</th>\n",
       "      <td>100010021</td>\n",
       "      <td>201</td>\n",
       "      <td>1</td>\n",
       "      <td>349</td>\n",
       "    </tr>\n",
       "    <tr>\n",
       "      <th>1</th>\n",
       "      <td>100010021</td>\n",
       "      <td>311</td>\n",
       "      <td>1</td>\n",
       "      <td>349</td>\n",
       "    </tr>\n",
       "    <tr>\n",
       "      <th>2</th>\n",
       "      <td>100010021</td>\n",
       "      <td>410</td>\n",
       "      <td>1</td>\n",
       "      <td>349</td>\n",
       "    </tr>\n",
       "    <tr>\n",
       "      <th>3</th>\n",
       "      <td>100010021</td>\n",
       "      <td>416</td>\n",
       "      <td>8</td>\n",
       "      <td>349</td>\n",
       "    </tr>\n",
       "    <tr>\n",
       "      <th>4</th>\n",
       "      <td>100010021</td>\n",
       "      <td>417</td>\n",
       "      <td>1</td>\n",
       "      <td>349</td>\n",
       "    </tr>\n",
       "  </tbody>\n",
       "</table>\n",
       "</div>"
      ],
      "text/plain": [
       "     cust_id  category  count_x  count_y\n",
       "0  100010021       201        1      349\n",
       "1  100010021       311        1      349\n",
       "2  100010021       410        1      349\n",
       "3  100010021       416        8      349\n",
       "4  100010021       417        1      349"
      ]
     },
     "execution_count": 40,
     "metadata": {},
     "output_type": "execute_result"
    }
   ],
   "source": [
    "affinity_df.head()"
   ]
  },
  {
   "cell_type": "code",
   "execution_count": 41,
   "metadata": {
    "collapsed": true
   },
   "outputs": [],
   "source": [
    "affinity_df.rename(columns={'count_x':'combination'}, inplace=True)\n",
    "affinity_df.rename(columns={'count_y':'visits'}, inplace=True)"
   ]
  },
  {
   "cell_type": "code",
   "execution_count": 42,
   "metadata": {
    "collapsed": false
   },
   "outputs": [
    {
     "data": {
      "text/html": [
       "<div>\n",
       "<table border=\"1\" class=\"dataframe\">\n",
       "  <thead>\n",
       "    <tr style=\"text-align: right;\">\n",
       "      <th></th>\n",
       "      <th>cust_id</th>\n",
       "      <th>category</th>\n",
       "      <th>combination</th>\n",
       "      <th>visits</th>\n",
       "    </tr>\n",
       "  </thead>\n",
       "  <tbody>\n",
       "    <tr>\n",
       "      <th>0</th>\n",
       "      <td>100010021</td>\n",
       "      <td>201</td>\n",
       "      <td>1</td>\n",
       "      <td>349</td>\n",
       "    </tr>\n",
       "    <tr>\n",
       "      <th>1</th>\n",
       "      <td>100010021</td>\n",
       "      <td>311</td>\n",
       "      <td>1</td>\n",
       "      <td>349</td>\n",
       "    </tr>\n",
       "    <tr>\n",
       "      <th>2</th>\n",
       "      <td>100010021</td>\n",
       "      <td>410</td>\n",
       "      <td>1</td>\n",
       "      <td>349</td>\n",
       "    </tr>\n",
       "    <tr>\n",
       "      <th>3</th>\n",
       "      <td>100010021</td>\n",
       "      <td>416</td>\n",
       "      <td>8</td>\n",
       "      <td>349</td>\n",
       "    </tr>\n",
       "    <tr>\n",
       "      <th>4</th>\n",
       "      <td>100010021</td>\n",
       "      <td>417</td>\n",
       "      <td>1</td>\n",
       "      <td>349</td>\n",
       "    </tr>\n",
       "  </tbody>\n",
       "</table>\n",
       "</div>"
      ],
      "text/plain": [
       "     cust_id  category  combination  visits\n",
       "0  100010021       201            1     349\n",
       "1  100010021       311            1     349\n",
       "2  100010021       410            1     349\n",
       "3  100010021       416            8     349\n",
       "4  100010021       417            1     349"
      ]
     },
     "execution_count": 42,
     "metadata": {},
     "output_type": "execute_result"
    }
   ],
   "source": [
    "affinity_df.head()"
   ]
  },
  {
   "cell_type": "code",
   "execution_count": 43,
   "metadata": {
    "collapsed": true
   },
   "outputs": [],
   "source": [
    "affinity_df['affinity'] = affinity_df['combination'] / affinity_df['visits'] * 100"
   ]
  },
  {
   "cell_type": "code",
   "execution_count": 44,
   "metadata": {
    "collapsed": false
   },
   "outputs": [
    {
     "data": {
      "text/html": [
       "<div>\n",
       "<table border=\"1\" class=\"dataframe\">\n",
       "  <thead>\n",
       "    <tr style=\"text-align: right;\">\n",
       "      <th></th>\n",
       "      <th>cust_id</th>\n",
       "      <th>category</th>\n",
       "      <th>combination</th>\n",
       "      <th>visits</th>\n",
       "      <th>affinity</th>\n",
       "    </tr>\n",
       "  </thead>\n",
       "  <tbody>\n",
       "    <tr>\n",
       "      <th>0</th>\n",
       "      <td>100010021</td>\n",
       "      <td>201</td>\n",
       "      <td>1</td>\n",
       "      <td>349</td>\n",
       "      <td>0.286533</td>\n",
       "    </tr>\n",
       "    <tr>\n",
       "      <th>1</th>\n",
       "      <td>100010021</td>\n",
       "      <td>311</td>\n",
       "      <td>1</td>\n",
       "      <td>349</td>\n",
       "      <td>0.286533</td>\n",
       "    </tr>\n",
       "    <tr>\n",
       "      <th>2</th>\n",
       "      <td>100010021</td>\n",
       "      <td>410</td>\n",
       "      <td>1</td>\n",
       "      <td>349</td>\n",
       "      <td>0.286533</td>\n",
       "    </tr>\n",
       "    <tr>\n",
       "      <th>3</th>\n",
       "      <td>100010021</td>\n",
       "      <td>416</td>\n",
       "      <td>8</td>\n",
       "      <td>349</td>\n",
       "      <td>2.292264</td>\n",
       "    </tr>\n",
       "    <tr>\n",
       "      <th>4</th>\n",
       "      <td>100010021</td>\n",
       "      <td>417</td>\n",
       "      <td>1</td>\n",
       "      <td>349</td>\n",
       "      <td>0.286533</td>\n",
       "    </tr>\n",
       "  </tbody>\n",
       "</table>\n",
       "</div>"
      ],
      "text/plain": [
       "     cust_id  category  combination  visits  affinity\n",
       "0  100010021       201            1     349  0.286533\n",
       "1  100010021       311            1     349  0.286533\n",
       "2  100010021       410            1     349  0.286533\n",
       "3  100010021       416            8     349  2.292264\n",
       "4  100010021       417            1     349  0.286533"
      ]
     },
     "execution_count": 44,
     "metadata": {},
     "output_type": "execute_result"
    }
   ],
   "source": [
    "affinity_df.head()"
   ]
  },
  {
   "cell_type": "code",
   "execution_count": 45,
   "metadata": {
    "collapsed": true
   },
   "outputs": [],
   "source": [
    "import numpy as np"
   ]
  },
  {
   "cell_type": "code",
   "execution_count": 46,
   "metadata": {
    "collapsed": true
   },
   "outputs": [],
   "source": [
    "affinity_df['affinity_round'] = affinity_df.affinity.round()"
   ]
  },
  {
   "cell_type": "code",
   "execution_count": 47,
   "metadata": {
    "collapsed": false
   },
   "outputs": [
    {
     "data": {
      "text/html": [
       "<div>\n",
       "<table border=\"1\" class=\"dataframe\">\n",
       "  <thead>\n",
       "    <tr style=\"text-align: right;\">\n",
       "      <th></th>\n",
       "      <th>cust_id</th>\n",
       "      <th>category</th>\n",
       "      <th>combination</th>\n",
       "      <th>visits</th>\n",
       "      <th>affinity</th>\n",
       "      <th>affinity_round</th>\n",
       "    </tr>\n",
       "  </thead>\n",
       "  <tbody>\n",
       "    <tr>\n",
       "      <th>0</th>\n",
       "      <td>100010021</td>\n",
       "      <td>201</td>\n",
       "      <td>1</td>\n",
       "      <td>349</td>\n",
       "      <td>0.286533</td>\n",
       "      <td>0.0</td>\n",
       "    </tr>\n",
       "    <tr>\n",
       "      <th>1</th>\n",
       "      <td>100010021</td>\n",
       "      <td>311</td>\n",
       "      <td>1</td>\n",
       "      <td>349</td>\n",
       "      <td>0.286533</td>\n",
       "      <td>0.0</td>\n",
       "    </tr>\n",
       "    <tr>\n",
       "      <th>2</th>\n",
       "      <td>100010021</td>\n",
       "      <td>410</td>\n",
       "      <td>1</td>\n",
       "      <td>349</td>\n",
       "      <td>0.286533</td>\n",
       "      <td>0.0</td>\n",
       "    </tr>\n",
       "    <tr>\n",
       "      <th>3</th>\n",
       "      <td>100010021</td>\n",
       "      <td>416</td>\n",
       "      <td>8</td>\n",
       "      <td>349</td>\n",
       "      <td>2.292264</td>\n",
       "      <td>2.0</td>\n",
       "    </tr>\n",
       "    <tr>\n",
       "      <th>4</th>\n",
       "      <td>100010021</td>\n",
       "      <td>417</td>\n",
       "      <td>1</td>\n",
       "      <td>349</td>\n",
       "      <td>0.286533</td>\n",
       "      <td>0.0</td>\n",
       "    </tr>\n",
       "  </tbody>\n",
       "</table>\n",
       "</div>"
      ],
      "text/plain": [
       "     cust_id  category  combination  visits  affinity  affinity_round\n",
       "0  100010021       201            1     349  0.286533             0.0\n",
       "1  100010021       311            1     349  0.286533             0.0\n",
       "2  100010021       410            1     349  0.286533             0.0\n",
       "3  100010021       416            8     349  2.292264             2.0\n",
       "4  100010021       417            1     349  0.286533             0.0"
      ]
     },
     "execution_count": 47,
     "metadata": {},
     "output_type": "execute_result"
    }
   ],
   "source": [
    "affinity_df.head()"
   ]
  },
  {
   "cell_type": "code",
   "execution_count": 48,
   "metadata": {
    "collapsed": true
   },
   "outputs": [],
   "source": [
    "affinity_user_df = affinity_df[['cust_id','affinity_round']]"
   ]
  },
  {
   "cell_type": "code",
   "execution_count": 49,
   "metadata": {
    "collapsed": false
   },
   "outputs": [
    {
     "data": {
      "text/html": [
       "<div>\n",
       "<table border=\"1\" class=\"dataframe\">\n",
       "  <thead>\n",
       "    <tr style=\"text-align: right;\">\n",
       "      <th></th>\n",
       "      <th>cust_id</th>\n",
       "      <th>affinity_round</th>\n",
       "    </tr>\n",
       "  </thead>\n",
       "  <tbody>\n",
       "    <tr>\n",
       "      <th>0</th>\n",
       "      <td>100010021</td>\n",
       "      <td>0.0</td>\n",
       "    </tr>\n",
       "    <tr>\n",
       "      <th>1</th>\n",
       "      <td>100010021</td>\n",
       "      <td>0.0</td>\n",
       "    </tr>\n",
       "    <tr>\n",
       "      <th>2</th>\n",
       "      <td>100010021</td>\n",
       "      <td>0.0</td>\n",
       "    </tr>\n",
       "    <tr>\n",
       "      <th>3</th>\n",
       "      <td>100010021</td>\n",
       "      <td>2.0</td>\n",
       "    </tr>\n",
       "    <tr>\n",
       "      <th>4</th>\n",
       "      <td>100010021</td>\n",
       "      <td>0.0</td>\n",
       "    </tr>\n",
       "  </tbody>\n",
       "</table>\n",
       "</div>"
      ],
      "text/plain": [
       "     cust_id  affinity_round\n",
       "0  100010021             0.0\n",
       "1  100010021             0.0\n",
       "2  100010021             0.0\n",
       "3  100010021             2.0\n",
       "4  100010021             0.0"
      ]
     },
     "execution_count": 49,
     "metadata": {},
     "output_type": "execute_result"
    }
   ],
   "source": [
    "affinity_user_df.head()"
   ]
  },
  {
   "cell_type": "code",
   "execution_count": 50,
   "metadata": {
    "collapsed": false
   },
   "outputs": [
    {
     "data": {
      "text/plain": [
       "(11965910, 2)"
      ]
     },
     "execution_count": 50,
     "metadata": {},
     "output_type": "execute_result"
    }
   ],
   "source": [
    "affinity_user_df.shape"
   ]
  },
  {
   "cell_type": "code",
   "execution_count": 51,
   "metadata": {
    "collapsed": false,
    "scrolled": true
   },
   "outputs": [],
   "source": [
    "affinity_user_df1 = affinity_user_df.drop_duplicates('cust_id').reset_index(drop = True)"
   ]
  },
  {
   "cell_type": "code",
   "execution_count": 52,
   "metadata": {
    "collapsed": false
   },
   "outputs": [
    {
     "data": {
      "text/plain": [
       "(62301, 2)"
      ]
     },
     "execution_count": 52,
     "metadata": {},
     "output_type": "execute_result"
    }
   ],
   "source": [
    "affinity_user_df1.shape"
   ]
  },
  {
   "cell_type": "code",
   "execution_count": 53,
   "metadata": {
    "collapsed": false
   },
   "outputs": [],
   "source": [
    "affinity_user_comb = affinity_user_df1.groupby(['affinity_round','cust_id']).size().reset_index().rename(columns={0:'users_count'})"
   ]
  },
  {
   "cell_type": "code",
   "execution_count": 54,
   "metadata": {
    "collapsed": false
   },
   "outputs": [
    {
     "data": {
      "text/html": [
       "<div>\n",
       "<table border=\"1\" class=\"dataframe\">\n",
       "  <thead>\n",
       "    <tr style=\"text-align: right;\">\n",
       "      <th></th>\n",
       "      <th>affinity_round</th>\n",
       "      <th>cust_id</th>\n",
       "      <th>users_count</th>\n",
       "    </tr>\n",
       "  </thead>\n",
       "  <tbody>\n",
       "    <tr>\n",
       "      <th>0</th>\n",
       "      <td>0.0</td>\n",
       "      <td>100010021</td>\n",
       "      <td>1</td>\n",
       "    </tr>\n",
       "    <tr>\n",
       "      <th>1</th>\n",
       "      <td>0.0</td>\n",
       "      <td>100022923</td>\n",
       "      <td>1</td>\n",
       "    </tr>\n",
       "    <tr>\n",
       "      <th>2</th>\n",
       "      <td>0.0</td>\n",
       "      <td>100029473</td>\n",
       "      <td>1</td>\n",
       "    </tr>\n",
       "    <tr>\n",
       "      <th>3</th>\n",
       "      <td>0.0</td>\n",
       "      <td>100050424</td>\n",
       "      <td>1</td>\n",
       "    </tr>\n",
       "    <tr>\n",
       "      <th>4</th>\n",
       "      <td>0.0</td>\n",
       "      <td>100051316</td>\n",
       "      <td>1</td>\n",
       "    </tr>\n",
       "  </tbody>\n",
       "</table>\n",
       "</div>"
      ],
      "text/plain": [
       "   affinity_round    cust_id  users_count\n",
       "0             0.0  100010021            1\n",
       "1             0.0  100022923            1\n",
       "2             0.0  100029473            1\n",
       "3             0.0  100050424            1\n",
       "4             0.0  100051316            1"
      ]
     },
     "execution_count": 54,
     "metadata": {},
     "output_type": "execute_result"
    }
   ],
   "source": [
    "affinity_user_comb.head()"
   ]
  },
  {
   "cell_type": "code",
   "execution_count": 55,
   "metadata": {
    "collapsed": false
   },
   "outputs": [
    {
     "data": {
      "text/html": [
       "<div>\n",
       "<table border=\"1\" class=\"dataframe\">\n",
       "  <thead>\n",
       "    <tr style=\"text-align: right;\">\n",
       "      <th></th>\n",
       "      <th>affinity_round</th>\n",
       "      <th>cust_id</th>\n",
       "      <th>users_count</th>\n",
       "    </tr>\n",
       "  </thead>\n",
       "  <tbody>\n",
       "    <tr>\n",
       "      <th>62296</th>\n",
       "      <td>50.0</td>\n",
       "      <td>4053422289</td>\n",
       "      <td>1</td>\n",
       "    </tr>\n",
       "    <tr>\n",
       "      <th>62297</th>\n",
       "      <td>50.0</td>\n",
       "      <td>4377662924</td>\n",
       "      <td>1</td>\n",
       "    </tr>\n",
       "    <tr>\n",
       "      <th>62298</th>\n",
       "      <td>50.0</td>\n",
       "      <td>4396488884</td>\n",
       "      <td>1</td>\n",
       "    </tr>\n",
       "    <tr>\n",
       "      <th>62299</th>\n",
       "      <td>50.0</td>\n",
       "      <td>4670979967</td>\n",
       "      <td>1</td>\n",
       "    </tr>\n",
       "    <tr>\n",
       "      <th>62300</th>\n",
       "      <td>100.0</td>\n",
       "      <td>2595430565</td>\n",
       "      <td>1</td>\n",
       "    </tr>\n",
       "  </tbody>\n",
       "</table>\n",
       "</div>"
      ],
      "text/plain": [
       "       affinity_round     cust_id  users_count\n",
       "62296            50.0  4053422289            1\n",
       "62297            50.0  4377662924            1\n",
       "62298            50.0  4396488884            1\n",
       "62299            50.0  4670979967            1\n",
       "62300           100.0  2595430565            1"
      ]
     },
     "execution_count": 55,
     "metadata": {},
     "output_type": "execute_result"
    }
   ],
   "source": [
    "affinity_user_comb.tail()"
   ]
  },
  {
   "cell_type": "code",
   "execution_count": 56,
   "metadata": {
    "collapsed": false
   },
   "outputs": [],
   "source": [
    "affinity_user_comb_df = affinity_user_comb.groupby(by=['affinity_round'])['users_count'].sum()"
   ]
  },
  {
   "cell_type": "code",
   "execution_count": 57,
   "metadata": {
    "collapsed": false
   },
   "outputs": [
    {
     "data": {
      "text/plain": [
       "affinity_round\n",
       "0.0    24583\n",
       "1.0    15709\n",
       "2.0     5986\n",
       "3.0     3706\n",
       "4.0     2867\n",
       "Name: users_count, dtype: int64"
      ]
     },
     "execution_count": 57,
     "metadata": {},
     "output_type": "execute_result"
    }
   ],
   "source": [
    "affinity_user_comb_df.head()"
   ]
  },
  {
   "cell_type": "code",
   "execution_count": 58,
   "metadata": {
    "collapsed": false
   },
   "outputs": [
    {
     "data": {
      "text/plain": [
       "pandas.core.series.Series"
      ]
     },
     "execution_count": 58,
     "metadata": {},
     "output_type": "execute_result"
    }
   ],
   "source": [
    "type(affinity_user_comb_df)"
   ]
  },
  {
   "cell_type": "code",
   "execution_count": 59,
   "metadata": {
    "collapsed": false
   },
   "outputs": [],
   "source": [
    "affinity_user_comb_df = affinity_user_comb_df.to_frame()"
   ]
  },
  {
   "cell_type": "code",
   "execution_count": 60,
   "metadata": {
    "collapsed": false
   },
   "outputs": [
    {
     "data": {
      "text/html": [
       "<div>\n",
       "<table border=\"1\" class=\"dataframe\">\n",
       "  <thead>\n",
       "    <tr style=\"text-align: right;\">\n",
       "      <th></th>\n",
       "      <th>users_count</th>\n",
       "    </tr>\n",
       "    <tr>\n",
       "      <th>affinity_round</th>\n",
       "      <th></th>\n",
       "    </tr>\n",
       "  </thead>\n",
       "  <tbody>\n",
       "    <tr>\n",
       "      <th>0.0</th>\n",
       "      <td>24583</td>\n",
       "    </tr>\n",
       "    <tr>\n",
       "      <th>1.0</th>\n",
       "      <td>15709</td>\n",
       "    </tr>\n",
       "    <tr>\n",
       "      <th>2.0</th>\n",
       "      <td>5986</td>\n",
       "    </tr>\n",
       "    <tr>\n",
       "      <th>3.0</th>\n",
       "      <td>3706</td>\n",
       "    </tr>\n",
       "    <tr>\n",
       "      <th>4.0</th>\n",
       "      <td>2867</td>\n",
       "    </tr>\n",
       "  </tbody>\n",
       "</table>\n",
       "</div>"
      ],
      "text/plain": [
       "                users_count\n",
       "affinity_round             \n",
       "0.0                   24583\n",
       "1.0                   15709\n",
       "2.0                    5986\n",
       "3.0                    3706\n",
       "4.0                    2867"
      ]
     },
     "execution_count": 60,
     "metadata": {},
     "output_type": "execute_result"
    }
   ],
   "source": [
    "affinity_user_comb_df.head()"
   ]
  },
  {
   "cell_type": "code",
   "execution_count": 61,
   "metadata": {
    "collapsed": true
   },
   "outputs": [],
   "source": [
    "affinity_user_comb_df.reset_index(inplace=True)"
   ]
  },
  {
   "cell_type": "code",
   "execution_count": 62,
   "metadata": {
    "collapsed": false,
    "scrolled": true
   },
   "outputs": [
    {
     "data": {
      "text/html": [
       "<div>\n",
       "<table border=\"1\" class=\"dataframe\">\n",
       "  <thead>\n",
       "    <tr style=\"text-align: right;\">\n",
       "      <th></th>\n",
       "      <th>affinity_round</th>\n",
       "      <th>users_count</th>\n",
       "    </tr>\n",
       "  </thead>\n",
       "  <tbody>\n",
       "    <tr>\n",
       "      <th>0</th>\n",
       "      <td>0.0</td>\n",
       "      <td>24583</td>\n",
       "    </tr>\n",
       "    <tr>\n",
       "      <th>1</th>\n",
       "      <td>1.0</td>\n",
       "      <td>15709</td>\n",
       "    </tr>\n",
       "    <tr>\n",
       "      <th>2</th>\n",
       "      <td>2.0</td>\n",
       "      <td>5986</td>\n",
       "    </tr>\n",
       "    <tr>\n",
       "      <th>3</th>\n",
       "      <td>3.0</td>\n",
       "      <td>3706</td>\n",
       "    </tr>\n",
       "    <tr>\n",
       "      <th>4</th>\n",
       "      <td>4.0</td>\n",
       "      <td>2867</td>\n",
       "    </tr>\n",
       "    <tr>\n",
       "      <th>5</th>\n",
       "      <td>5.0</td>\n",
       "      <td>2285</td>\n",
       "    </tr>\n",
       "    <tr>\n",
       "      <th>6</th>\n",
       "      <td>6.0</td>\n",
       "      <td>1656</td>\n",
       "    </tr>\n",
       "    <tr>\n",
       "      <th>7</th>\n",
       "      <td>7.0</td>\n",
       "      <td>1310</td>\n",
       "    </tr>\n",
       "    <tr>\n",
       "      <th>8</th>\n",
       "      <td>8.0</td>\n",
       "      <td>886</td>\n",
       "    </tr>\n",
       "    <tr>\n",
       "      <th>9</th>\n",
       "      <td>9.0</td>\n",
       "      <td>660</td>\n",
       "    </tr>\n",
       "    <tr>\n",
       "      <th>10</th>\n",
       "      <td>10.0</td>\n",
       "      <td>552</td>\n",
       "    </tr>\n",
       "    <tr>\n",
       "      <th>11</th>\n",
       "      <td>11.0</td>\n",
       "      <td>418</td>\n",
       "    </tr>\n",
       "    <tr>\n",
       "      <th>12</th>\n",
       "      <td>12.0</td>\n",
       "      <td>398</td>\n",
       "    </tr>\n",
       "    <tr>\n",
       "      <th>13</th>\n",
       "      <td>13.0</td>\n",
       "      <td>282</td>\n",
       "    </tr>\n",
       "    <tr>\n",
       "      <th>14</th>\n",
       "      <td>14.0</td>\n",
       "      <td>252</td>\n",
       "    </tr>\n",
       "    <tr>\n",
       "      <th>15</th>\n",
       "      <td>15.0</td>\n",
       "      <td>186</td>\n",
       "    </tr>\n",
       "    <tr>\n",
       "      <th>16</th>\n",
       "      <td>16.0</td>\n",
       "      <td>121</td>\n",
       "    </tr>\n",
       "    <tr>\n",
       "      <th>17</th>\n",
       "      <td>17.0</td>\n",
       "      <td>111</td>\n",
       "    </tr>\n",
       "    <tr>\n",
       "      <th>18</th>\n",
       "      <td>18.0</td>\n",
       "      <td>85</td>\n",
       "    </tr>\n",
       "    <tr>\n",
       "      <th>19</th>\n",
       "      <td>19.0</td>\n",
       "      <td>47</td>\n",
       "    </tr>\n",
       "    <tr>\n",
       "      <th>20</th>\n",
       "      <td>20.0</td>\n",
       "      <td>56</td>\n",
       "    </tr>\n",
       "    <tr>\n",
       "      <th>21</th>\n",
       "      <td>21.0</td>\n",
       "      <td>36</td>\n",
       "    </tr>\n",
       "    <tr>\n",
       "      <th>22</th>\n",
       "      <td>22.0</td>\n",
       "      <td>21</td>\n",
       "    </tr>\n",
       "    <tr>\n",
       "      <th>23</th>\n",
       "      <td>23.0</td>\n",
       "      <td>13</td>\n",
       "    </tr>\n",
       "    <tr>\n",
       "      <th>24</th>\n",
       "      <td>24.0</td>\n",
       "      <td>17</td>\n",
       "    </tr>\n",
       "    <tr>\n",
       "      <th>25</th>\n",
       "      <td>25.0</td>\n",
       "      <td>15</td>\n",
       "    </tr>\n",
       "    <tr>\n",
       "      <th>26</th>\n",
       "      <td>26.0</td>\n",
       "      <td>9</td>\n",
       "    </tr>\n",
       "    <tr>\n",
       "      <th>27</th>\n",
       "      <td>27.0</td>\n",
       "      <td>4</td>\n",
       "    </tr>\n",
       "    <tr>\n",
       "      <th>28</th>\n",
       "      <td>28.0</td>\n",
       "      <td>4</td>\n",
       "    </tr>\n",
       "    <tr>\n",
       "      <th>29</th>\n",
       "      <td>29.0</td>\n",
       "      <td>5</td>\n",
       "    </tr>\n",
       "    <tr>\n",
       "      <th>30</th>\n",
       "      <td>30.0</td>\n",
       "      <td>3</td>\n",
       "    </tr>\n",
       "    <tr>\n",
       "      <th>31</th>\n",
       "      <td>31.0</td>\n",
       "      <td>2</td>\n",
       "    </tr>\n",
       "    <tr>\n",
       "      <th>32</th>\n",
       "      <td>32.0</td>\n",
       "      <td>1</td>\n",
       "    </tr>\n",
       "    <tr>\n",
       "      <th>33</th>\n",
       "      <td>33.0</td>\n",
       "      <td>3</td>\n",
       "    </tr>\n",
       "    <tr>\n",
       "      <th>34</th>\n",
       "      <td>35.0</td>\n",
       "      <td>1</td>\n",
       "    </tr>\n",
       "    <tr>\n",
       "      <th>35</th>\n",
       "      <td>37.0</td>\n",
       "      <td>1</td>\n",
       "    </tr>\n",
       "    <tr>\n",
       "      <th>36</th>\n",
       "      <td>38.0</td>\n",
       "      <td>1</td>\n",
       "    </tr>\n",
       "    <tr>\n",
       "      <th>37</th>\n",
       "      <td>45.0</td>\n",
       "      <td>2</td>\n",
       "    </tr>\n",
       "    <tr>\n",
       "      <th>38</th>\n",
       "      <td>48.0</td>\n",
       "      <td>1</td>\n",
       "    </tr>\n",
       "    <tr>\n",
       "      <th>39</th>\n",
       "      <td>50.0</td>\n",
       "      <td>5</td>\n",
       "    </tr>\n",
       "    <tr>\n",
       "      <th>40</th>\n",
       "      <td>100.0</td>\n",
       "      <td>1</td>\n",
       "    </tr>\n",
       "  </tbody>\n",
       "</table>\n",
       "</div>"
      ],
      "text/plain": [
       "    affinity_round  users_count\n",
       "0              0.0        24583\n",
       "1              1.0        15709\n",
       "2              2.0         5986\n",
       "3              3.0         3706\n",
       "4              4.0         2867\n",
       "5              5.0         2285\n",
       "6              6.0         1656\n",
       "7              7.0         1310\n",
       "8              8.0          886\n",
       "9              9.0          660\n",
       "10            10.0          552\n",
       "11            11.0          418\n",
       "12            12.0          398\n",
       "13            13.0          282\n",
       "14            14.0          252\n",
       "15            15.0          186\n",
       "16            16.0          121\n",
       "17            17.0          111\n",
       "18            18.0           85\n",
       "19            19.0           47\n",
       "20            20.0           56\n",
       "21            21.0           36\n",
       "22            22.0           21\n",
       "23            23.0           13\n",
       "24            24.0           17\n",
       "25            25.0           15\n",
       "26            26.0            9\n",
       "27            27.0            4\n",
       "28            28.0            4\n",
       "29            29.0            5\n",
       "30            30.0            3\n",
       "31            31.0            2\n",
       "32            32.0            1\n",
       "33            33.0            3\n",
       "34            35.0            1\n",
       "35            37.0            1\n",
       "36            38.0            1\n",
       "37            45.0            2\n",
       "38            48.0            1\n",
       "39            50.0            5\n",
       "40           100.0            1"
      ]
     },
     "execution_count": 62,
     "metadata": {},
     "output_type": "execute_result"
    }
   ],
   "source": [
    "affinity_user_comb_df"
   ]
  },
  {
   "cell_type": "code",
   "execution_count": 63,
   "metadata": {
    "collapsed": false
   },
   "outputs": [
    {
     "data": {
      "text/plain": [
       "62301"
      ]
     },
     "execution_count": 63,
     "metadata": {},
     "output_type": "execute_result"
    }
   ],
   "source": [
    "affinity_user_comb_df.users_count.sum()"
   ]
  },
  {
   "cell_type": "code",
   "execution_count": 64,
   "metadata": {
    "collapsed": true
   },
   "outputs": [],
   "source": [
    "affinity_user_comb_df.sort_index(ascending=False,inplace=True)"
   ]
  },
  {
   "cell_type": "code",
   "execution_count": 65,
   "metadata": {
    "collapsed": false
   },
   "outputs": [
    {
     "data": {
      "text/html": [
       "<div>\n",
       "<table border=\"1\" class=\"dataframe\">\n",
       "  <thead>\n",
       "    <tr style=\"text-align: right;\">\n",
       "      <th></th>\n",
       "      <th>affinity_round</th>\n",
       "      <th>users_count</th>\n",
       "    </tr>\n",
       "  </thead>\n",
       "  <tbody>\n",
       "    <tr>\n",
       "      <th>40</th>\n",
       "      <td>100.0</td>\n",
       "      <td>1</td>\n",
       "    </tr>\n",
       "    <tr>\n",
       "      <th>39</th>\n",
       "      <td>50.0</td>\n",
       "      <td>5</td>\n",
       "    </tr>\n",
       "    <tr>\n",
       "      <th>38</th>\n",
       "      <td>48.0</td>\n",
       "      <td>1</td>\n",
       "    </tr>\n",
       "    <tr>\n",
       "      <th>37</th>\n",
       "      <td>45.0</td>\n",
       "      <td>2</td>\n",
       "    </tr>\n",
       "    <tr>\n",
       "      <th>36</th>\n",
       "      <td>38.0</td>\n",
       "      <td>1</td>\n",
       "    </tr>\n",
       "  </tbody>\n",
       "</table>\n",
       "</div>"
      ],
      "text/plain": [
       "    affinity_round  users_count\n",
       "40           100.0            1\n",
       "39            50.0            5\n",
       "38            48.0            1\n",
       "37            45.0            2\n",
       "36            38.0            1"
      ]
     },
     "execution_count": 65,
     "metadata": {},
     "output_type": "execute_result"
    }
   ],
   "source": [
    "affinity_user_comb_df.head()"
   ]
  },
  {
   "cell_type": "code",
   "execution_count": 66,
   "metadata": {
    "collapsed": true
   },
   "outputs": [],
   "source": [
    "affinity_user_comb_df['user_per'] = affinity_user_comb_df['users_count']/affinity_user_comb_df['users_count'].sum() * 100"
   ]
  },
  {
   "cell_type": "code",
   "execution_count": 67,
   "metadata": {
    "collapsed": false
   },
   "outputs": [
    {
     "data": {
      "text/html": [
       "<div>\n",
       "<table border=\"1\" class=\"dataframe\">\n",
       "  <thead>\n",
       "    <tr style=\"text-align: right;\">\n",
       "      <th></th>\n",
       "      <th>affinity_round</th>\n",
       "      <th>users_count</th>\n",
       "      <th>user_per</th>\n",
       "    </tr>\n",
       "  </thead>\n",
       "  <tbody>\n",
       "    <tr>\n",
       "      <th>40</th>\n",
       "      <td>100.0</td>\n",
       "      <td>1</td>\n",
       "      <td>0.001605</td>\n",
       "    </tr>\n",
       "    <tr>\n",
       "      <th>39</th>\n",
       "      <td>50.0</td>\n",
       "      <td>5</td>\n",
       "      <td>0.008026</td>\n",
       "    </tr>\n",
       "    <tr>\n",
       "      <th>38</th>\n",
       "      <td>48.0</td>\n",
       "      <td>1</td>\n",
       "      <td>0.001605</td>\n",
       "    </tr>\n",
       "    <tr>\n",
       "      <th>37</th>\n",
       "      <td>45.0</td>\n",
       "      <td>2</td>\n",
       "      <td>0.003210</td>\n",
       "    </tr>\n",
       "    <tr>\n",
       "      <th>36</th>\n",
       "      <td>38.0</td>\n",
       "      <td>1</td>\n",
       "      <td>0.001605</td>\n",
       "    </tr>\n",
       "  </tbody>\n",
       "</table>\n",
       "</div>"
      ],
      "text/plain": [
       "    affinity_round  users_count  user_per\n",
       "40           100.0            1  0.001605\n",
       "39            50.0            5  0.008026\n",
       "38            48.0            1  0.001605\n",
       "37            45.0            2  0.003210\n",
       "36            38.0            1  0.001605"
      ]
     },
     "execution_count": 67,
     "metadata": {},
     "output_type": "execute_result"
    }
   ],
   "source": [
    "affinity_user_comb_df.head()"
   ]
  },
  {
   "cell_type": "code",
   "execution_count": 68,
   "metadata": {
    "collapsed": true
   },
   "outputs": [],
   "source": [
    "affinity_user_comb_df['aggregated_per'] = affinity_user_comb_df.user_per.cumsum()"
   ]
  },
  {
   "cell_type": "code",
   "execution_count": 69,
   "metadata": {
    "collapsed": false
   },
   "outputs": [
    {
     "data": {
      "text/html": [
       "<div>\n",
       "<table border=\"1\" class=\"dataframe\">\n",
       "  <thead>\n",
       "    <tr style=\"text-align: right;\">\n",
       "      <th></th>\n",
       "      <th>affinity_round</th>\n",
       "      <th>users_count</th>\n",
       "      <th>user_per</th>\n",
       "      <th>aggregated_per</th>\n",
       "    </tr>\n",
       "  </thead>\n",
       "  <tbody>\n",
       "    <tr>\n",
       "      <th>40</th>\n",
       "      <td>100.0</td>\n",
       "      <td>1</td>\n",
       "      <td>0.001605</td>\n",
       "      <td>0.001605</td>\n",
       "    </tr>\n",
       "    <tr>\n",
       "      <th>39</th>\n",
       "      <td>50.0</td>\n",
       "      <td>5</td>\n",
       "      <td>0.008026</td>\n",
       "      <td>0.009631</td>\n",
       "    </tr>\n",
       "    <tr>\n",
       "      <th>38</th>\n",
       "      <td>48.0</td>\n",
       "      <td>1</td>\n",
       "      <td>0.001605</td>\n",
       "      <td>0.011236</td>\n",
       "    </tr>\n",
       "    <tr>\n",
       "      <th>37</th>\n",
       "      <td>45.0</td>\n",
       "      <td>2</td>\n",
       "      <td>0.003210</td>\n",
       "      <td>0.014446</td>\n",
       "    </tr>\n",
       "    <tr>\n",
       "      <th>36</th>\n",
       "      <td>38.0</td>\n",
       "      <td>1</td>\n",
       "      <td>0.001605</td>\n",
       "      <td>0.016051</td>\n",
       "    </tr>\n",
       "  </tbody>\n",
       "</table>\n",
       "</div>"
      ],
      "text/plain": [
       "    affinity_round  users_count  user_per  aggregated_per\n",
       "40           100.0            1  0.001605        0.001605\n",
       "39            50.0            5  0.008026        0.009631\n",
       "38            48.0            1  0.001605        0.011236\n",
       "37            45.0            2  0.003210        0.014446\n",
       "36            38.0            1  0.001605        0.016051"
      ]
     },
     "execution_count": 69,
     "metadata": {},
     "output_type": "execute_result"
    }
   ],
   "source": [
    "affinity_user_comb_df.head()"
   ]
  },
  {
   "cell_type": "code",
   "execution_count": 70,
   "metadata": {
    "collapsed": false,
    "scrolled": true
   },
   "outputs": [
    {
     "data": {
      "text/html": [
       "<div>\n",
       "<table border=\"1\" class=\"dataframe\">\n",
       "  <thead>\n",
       "    <tr style=\"text-align: right;\">\n",
       "      <th></th>\n",
       "      <th>affinity_round</th>\n",
       "      <th>users_count</th>\n",
       "      <th>user_per</th>\n",
       "      <th>aggregated_per</th>\n",
       "    </tr>\n",
       "  </thead>\n",
       "  <tbody>\n",
       "    <tr>\n",
       "      <th>40</th>\n",
       "      <td>100.0</td>\n",
       "      <td>1</td>\n",
       "      <td>0.001605</td>\n",
       "      <td>0.001605</td>\n",
       "    </tr>\n",
       "    <tr>\n",
       "      <th>39</th>\n",
       "      <td>50.0</td>\n",
       "      <td>5</td>\n",
       "      <td>0.008026</td>\n",
       "      <td>0.009631</td>\n",
       "    </tr>\n",
       "    <tr>\n",
       "      <th>38</th>\n",
       "      <td>48.0</td>\n",
       "      <td>1</td>\n",
       "      <td>0.001605</td>\n",
       "      <td>0.011236</td>\n",
       "    </tr>\n",
       "    <tr>\n",
       "      <th>37</th>\n",
       "      <td>45.0</td>\n",
       "      <td>2</td>\n",
       "      <td>0.003210</td>\n",
       "      <td>0.014446</td>\n",
       "    </tr>\n",
       "    <tr>\n",
       "      <th>36</th>\n",
       "      <td>38.0</td>\n",
       "      <td>1</td>\n",
       "      <td>0.001605</td>\n",
       "      <td>0.016051</td>\n",
       "    </tr>\n",
       "    <tr>\n",
       "      <th>35</th>\n",
       "      <td>37.0</td>\n",
       "      <td>1</td>\n",
       "      <td>0.001605</td>\n",
       "      <td>0.017656</td>\n",
       "    </tr>\n",
       "    <tr>\n",
       "      <th>34</th>\n",
       "      <td>35.0</td>\n",
       "      <td>1</td>\n",
       "      <td>0.001605</td>\n",
       "      <td>0.019261</td>\n",
       "    </tr>\n",
       "    <tr>\n",
       "      <th>33</th>\n",
       "      <td>33.0</td>\n",
       "      <td>3</td>\n",
       "      <td>0.004815</td>\n",
       "      <td>0.024077</td>\n",
       "    </tr>\n",
       "    <tr>\n",
       "      <th>32</th>\n",
       "      <td>32.0</td>\n",
       "      <td>1</td>\n",
       "      <td>0.001605</td>\n",
       "      <td>0.025682</td>\n",
       "    </tr>\n",
       "    <tr>\n",
       "      <th>31</th>\n",
       "      <td>31.0</td>\n",
       "      <td>2</td>\n",
       "      <td>0.003210</td>\n",
       "      <td>0.028892</td>\n",
       "    </tr>\n",
       "    <tr>\n",
       "      <th>30</th>\n",
       "      <td>30.0</td>\n",
       "      <td>3</td>\n",
       "      <td>0.004815</td>\n",
       "      <td>0.033707</td>\n",
       "    </tr>\n",
       "    <tr>\n",
       "      <th>29</th>\n",
       "      <td>29.0</td>\n",
       "      <td>5</td>\n",
       "      <td>0.008026</td>\n",
       "      <td>0.041733</td>\n",
       "    </tr>\n",
       "    <tr>\n",
       "      <th>28</th>\n",
       "      <td>28.0</td>\n",
       "      <td>4</td>\n",
       "      <td>0.006420</td>\n",
       "      <td>0.048153</td>\n",
       "    </tr>\n",
       "    <tr>\n",
       "      <th>27</th>\n",
       "      <td>27.0</td>\n",
       "      <td>4</td>\n",
       "      <td>0.006420</td>\n",
       "      <td>0.054574</td>\n",
       "    </tr>\n",
       "    <tr>\n",
       "      <th>26</th>\n",
       "      <td>26.0</td>\n",
       "      <td>9</td>\n",
       "      <td>0.014446</td>\n",
       "      <td>0.069020</td>\n",
       "    </tr>\n",
       "    <tr>\n",
       "      <th>25</th>\n",
       "      <td>25.0</td>\n",
       "      <td>15</td>\n",
       "      <td>0.024077</td>\n",
       "      <td>0.093096</td>\n",
       "    </tr>\n",
       "    <tr>\n",
       "      <th>24</th>\n",
       "      <td>24.0</td>\n",
       "      <td>17</td>\n",
       "      <td>0.027287</td>\n",
       "      <td>0.120383</td>\n",
       "    </tr>\n",
       "    <tr>\n",
       "      <th>23</th>\n",
       "      <td>23.0</td>\n",
       "      <td>13</td>\n",
       "      <td>0.020866</td>\n",
       "      <td>0.141250</td>\n",
       "    </tr>\n",
       "    <tr>\n",
       "      <th>22</th>\n",
       "      <td>22.0</td>\n",
       "      <td>21</td>\n",
       "      <td>0.033707</td>\n",
       "      <td>0.174957</td>\n",
       "    </tr>\n",
       "    <tr>\n",
       "      <th>21</th>\n",
       "      <td>21.0</td>\n",
       "      <td>36</td>\n",
       "      <td>0.057784</td>\n",
       "      <td>0.232741</td>\n",
       "    </tr>\n",
       "    <tr>\n",
       "      <th>20</th>\n",
       "      <td>20.0</td>\n",
       "      <td>56</td>\n",
       "      <td>0.089886</td>\n",
       "      <td>0.322627</td>\n",
       "    </tr>\n",
       "    <tr>\n",
       "      <th>19</th>\n",
       "      <td>19.0</td>\n",
       "      <td>47</td>\n",
       "      <td>0.075440</td>\n",
       "      <td>0.398067</td>\n",
       "    </tr>\n",
       "    <tr>\n",
       "      <th>18</th>\n",
       "      <td>18.0</td>\n",
       "      <td>85</td>\n",
       "      <td>0.136434</td>\n",
       "      <td>0.534502</td>\n",
       "    </tr>\n",
       "    <tr>\n",
       "      <th>17</th>\n",
       "      <td>17.0</td>\n",
       "      <td>111</td>\n",
       "      <td>0.178167</td>\n",
       "      <td>0.712669</td>\n",
       "    </tr>\n",
       "    <tr>\n",
       "      <th>16</th>\n",
       "      <td>16.0</td>\n",
       "      <td>121</td>\n",
       "      <td>0.194218</td>\n",
       "      <td>0.906888</td>\n",
       "    </tr>\n",
       "    <tr>\n",
       "      <th>15</th>\n",
       "      <td>15.0</td>\n",
       "      <td>186</td>\n",
       "      <td>0.298551</td>\n",
       "      <td>1.205438</td>\n",
       "    </tr>\n",
       "    <tr>\n",
       "      <th>14</th>\n",
       "      <td>14.0</td>\n",
       "      <td>252</td>\n",
       "      <td>0.404488</td>\n",
       "      <td>1.609926</td>\n",
       "    </tr>\n",
       "    <tr>\n",
       "      <th>13</th>\n",
       "      <td>13.0</td>\n",
       "      <td>282</td>\n",
       "      <td>0.452641</td>\n",
       "      <td>2.062567</td>\n",
       "    </tr>\n",
       "    <tr>\n",
       "      <th>12</th>\n",
       "      <td>12.0</td>\n",
       "      <td>398</td>\n",
       "      <td>0.638834</td>\n",
       "      <td>2.701401</td>\n",
       "    </tr>\n",
       "    <tr>\n",
       "      <th>11</th>\n",
       "      <td>11.0</td>\n",
       "      <td>418</td>\n",
       "      <td>0.670936</td>\n",
       "      <td>3.372338</td>\n",
       "    </tr>\n",
       "    <tr>\n",
       "      <th>10</th>\n",
       "      <td>10.0</td>\n",
       "      <td>552</td>\n",
       "      <td>0.886021</td>\n",
       "      <td>4.258359</td>\n",
       "    </tr>\n",
       "    <tr>\n",
       "      <th>9</th>\n",
       "      <td>9.0</td>\n",
       "      <td>660</td>\n",
       "      <td>1.059373</td>\n",
       "      <td>5.317732</td>\n",
       "    </tr>\n",
       "    <tr>\n",
       "      <th>8</th>\n",
       "      <td>8.0</td>\n",
       "      <td>886</td>\n",
       "      <td>1.422128</td>\n",
       "      <td>6.739860</td>\n",
       "    </tr>\n",
       "    <tr>\n",
       "      <th>7</th>\n",
       "      <td>7.0</td>\n",
       "      <td>1310</td>\n",
       "      <td>2.102695</td>\n",
       "      <td>8.842555</td>\n",
       "    </tr>\n",
       "    <tr>\n",
       "      <th>6</th>\n",
       "      <td>6.0</td>\n",
       "      <td>1656</td>\n",
       "      <td>2.658063</td>\n",
       "      <td>11.500618</td>\n",
       "    </tr>\n",
       "    <tr>\n",
       "      <th>5</th>\n",
       "      <td>5.0</td>\n",
       "      <td>2285</td>\n",
       "      <td>3.667678</td>\n",
       "      <td>15.168296</td>\n",
       "    </tr>\n",
       "    <tr>\n",
       "      <th>4</th>\n",
       "      <td>4.0</td>\n",
       "      <td>2867</td>\n",
       "      <td>4.601852</td>\n",
       "      <td>19.770148</td>\n",
       "    </tr>\n",
       "    <tr>\n",
       "      <th>3</th>\n",
       "      <td>3.0</td>\n",
       "      <td>3706</td>\n",
       "      <td>5.948540</td>\n",
       "      <td>25.718688</td>\n",
       "    </tr>\n",
       "    <tr>\n",
       "      <th>2</th>\n",
       "      <td>2.0</td>\n",
       "      <td>5986</td>\n",
       "      <td>9.608192</td>\n",
       "      <td>35.326881</td>\n",
       "    </tr>\n",
       "    <tr>\n",
       "      <th>1</th>\n",
       "      <td>1.0</td>\n",
       "      <td>15709</td>\n",
       "      <td>25.214684</td>\n",
       "      <td>60.541564</td>\n",
       "    </tr>\n",
       "    <tr>\n",
       "      <th>0</th>\n",
       "      <td>0.0</td>\n",
       "      <td>24583</td>\n",
       "      <td>39.458436</td>\n",
       "      <td>100.000000</td>\n",
       "    </tr>\n",
       "  </tbody>\n",
       "</table>\n",
       "</div>"
      ],
      "text/plain": [
       "    affinity_round  users_count   user_per  aggregated_per\n",
       "40           100.0            1   0.001605        0.001605\n",
       "39            50.0            5   0.008026        0.009631\n",
       "38            48.0            1   0.001605        0.011236\n",
       "37            45.0            2   0.003210        0.014446\n",
       "36            38.0            1   0.001605        0.016051\n",
       "35            37.0            1   0.001605        0.017656\n",
       "34            35.0            1   0.001605        0.019261\n",
       "33            33.0            3   0.004815        0.024077\n",
       "32            32.0            1   0.001605        0.025682\n",
       "31            31.0            2   0.003210        0.028892\n",
       "30            30.0            3   0.004815        0.033707\n",
       "29            29.0            5   0.008026        0.041733\n",
       "28            28.0            4   0.006420        0.048153\n",
       "27            27.0            4   0.006420        0.054574\n",
       "26            26.0            9   0.014446        0.069020\n",
       "25            25.0           15   0.024077        0.093096\n",
       "24            24.0           17   0.027287        0.120383\n",
       "23            23.0           13   0.020866        0.141250\n",
       "22            22.0           21   0.033707        0.174957\n",
       "21            21.0           36   0.057784        0.232741\n",
       "20            20.0           56   0.089886        0.322627\n",
       "19            19.0           47   0.075440        0.398067\n",
       "18            18.0           85   0.136434        0.534502\n",
       "17            17.0          111   0.178167        0.712669\n",
       "16            16.0          121   0.194218        0.906888\n",
       "15            15.0          186   0.298551        1.205438\n",
       "14            14.0          252   0.404488        1.609926\n",
       "13            13.0          282   0.452641        2.062567\n",
       "12            12.0          398   0.638834        2.701401\n",
       "11            11.0          418   0.670936        3.372338\n",
       "10            10.0          552   0.886021        4.258359\n",
       "9              9.0          660   1.059373        5.317732\n",
       "8              8.0          886   1.422128        6.739860\n",
       "7              7.0         1310   2.102695        8.842555\n",
       "6              6.0         1656   2.658063       11.500618\n",
       "5              5.0         2285   3.667678       15.168296\n",
       "4              4.0         2867   4.601852       19.770148\n",
       "3              3.0         3706   5.948540       25.718688\n",
       "2              2.0         5986   9.608192       35.326881\n",
       "1              1.0        15709  25.214684       60.541564\n",
       "0              0.0        24583  39.458436      100.000000"
      ]
     },
     "execution_count": 70,
     "metadata": {},
     "output_type": "execute_result"
    }
   ],
   "source": [
    "affinity_user_comb_df"
   ]
  },
  {
   "cell_type": "code",
   "execution_count": 71,
   "metadata": {
    "collapsed": true
   },
   "outputs": [],
   "source": [
    "affinity_user_comb_df['round_aggr'] = affinity_user_comb_df.aggregated_per.round()"
   ]
  },
  {
   "cell_type": "code",
   "execution_count": 72,
   "metadata": {
    "collapsed": false
   },
   "outputs": [
    {
     "data": {
      "text/html": [
       "<div>\n",
       "<table border=\"1\" class=\"dataframe\">\n",
       "  <thead>\n",
       "    <tr style=\"text-align: right;\">\n",
       "      <th></th>\n",
       "      <th>affinity_round</th>\n",
       "      <th>users_count</th>\n",
       "      <th>user_per</th>\n",
       "      <th>aggregated_per</th>\n",
       "      <th>round_aggr</th>\n",
       "    </tr>\n",
       "  </thead>\n",
       "  <tbody>\n",
       "    <tr>\n",
       "      <th>40</th>\n",
       "      <td>100.0</td>\n",
       "      <td>1</td>\n",
       "      <td>0.001605</td>\n",
       "      <td>0.001605</td>\n",
       "      <td>0.0</td>\n",
       "    </tr>\n",
       "    <tr>\n",
       "      <th>39</th>\n",
       "      <td>50.0</td>\n",
       "      <td>5</td>\n",
       "      <td>0.008026</td>\n",
       "      <td>0.009631</td>\n",
       "      <td>0.0</td>\n",
       "    </tr>\n",
       "    <tr>\n",
       "      <th>38</th>\n",
       "      <td>48.0</td>\n",
       "      <td>1</td>\n",
       "      <td>0.001605</td>\n",
       "      <td>0.011236</td>\n",
       "      <td>0.0</td>\n",
       "    </tr>\n",
       "    <tr>\n",
       "      <th>37</th>\n",
       "      <td>45.0</td>\n",
       "      <td>2</td>\n",
       "      <td>0.003210</td>\n",
       "      <td>0.014446</td>\n",
       "      <td>0.0</td>\n",
       "    </tr>\n",
       "    <tr>\n",
       "      <th>36</th>\n",
       "      <td>38.0</td>\n",
       "      <td>1</td>\n",
       "      <td>0.001605</td>\n",
       "      <td>0.016051</td>\n",
       "      <td>0.0</td>\n",
       "    </tr>\n",
       "  </tbody>\n",
       "</table>\n",
       "</div>"
      ],
      "text/plain": [
       "    affinity_round  users_count  user_per  aggregated_per  round_aggr\n",
       "40           100.0            1  0.001605        0.001605         0.0\n",
       "39            50.0            5  0.008026        0.009631         0.0\n",
       "38            48.0            1  0.001605        0.011236         0.0\n",
       "37            45.0            2  0.003210        0.014446         0.0\n",
       "36            38.0            1  0.001605        0.016051         0.0"
      ]
     },
     "execution_count": 72,
     "metadata": {},
     "output_type": "execute_result"
    }
   ],
   "source": [
    "affinity_user_comb_df.head()"
   ]
  },
  {
   "cell_type": "code",
   "execution_count": 73,
   "metadata": {
    "collapsed": false
   },
   "outputs": [
    {
     "data": {
      "text/html": [
       "<div>\n",
       "<table border=\"1\" class=\"dataframe\">\n",
       "  <thead>\n",
       "    <tr style=\"text-align: right;\">\n",
       "      <th></th>\n",
       "      <th>affinity_round</th>\n",
       "      <th>users_count</th>\n",
       "      <th>user_per</th>\n",
       "      <th>aggregated_per</th>\n",
       "      <th>round_aggr</th>\n",
       "    </tr>\n",
       "  </thead>\n",
       "  <tbody>\n",
       "    <tr>\n",
       "      <th>4</th>\n",
       "      <td>4.0</td>\n",
       "      <td>2867</td>\n",
       "      <td>4.601852</td>\n",
       "      <td>19.770148</td>\n",
       "      <td>20.0</td>\n",
       "    </tr>\n",
       "    <tr>\n",
       "      <th>3</th>\n",
       "      <td>3.0</td>\n",
       "      <td>3706</td>\n",
       "      <td>5.948540</td>\n",
       "      <td>25.718688</td>\n",
       "      <td>26.0</td>\n",
       "    </tr>\n",
       "    <tr>\n",
       "      <th>2</th>\n",
       "      <td>2.0</td>\n",
       "      <td>5986</td>\n",
       "      <td>9.608192</td>\n",
       "      <td>35.326881</td>\n",
       "      <td>35.0</td>\n",
       "    </tr>\n",
       "    <tr>\n",
       "      <th>1</th>\n",
       "      <td>1.0</td>\n",
       "      <td>15709</td>\n",
       "      <td>25.214684</td>\n",
       "      <td>60.541564</td>\n",
       "      <td>61.0</td>\n",
       "    </tr>\n",
       "    <tr>\n",
       "      <th>0</th>\n",
       "      <td>0.0</td>\n",
       "      <td>24583</td>\n",
       "      <td>39.458436</td>\n",
       "      <td>100.000000</td>\n",
       "      <td>100.0</td>\n",
       "    </tr>\n",
       "  </tbody>\n",
       "</table>\n",
       "</div>"
      ],
      "text/plain": [
       "   affinity_round  users_count   user_per  aggregated_per  round_aggr\n",
       "4             4.0         2867   4.601852       19.770148        20.0\n",
       "3             3.0         3706   5.948540       25.718688        26.0\n",
       "2             2.0         5986   9.608192       35.326881        35.0\n",
       "1             1.0        15709  25.214684       60.541564        61.0\n",
       "0             0.0        24583  39.458436      100.000000       100.0"
      ]
     },
     "execution_count": 73,
     "metadata": {},
     "output_type": "execute_result"
    }
   ],
   "source": [
    "affinity_user_comb_df.tail()"
   ]
  },
  {
   "cell_type": "code",
   "execution_count": 74,
   "metadata": {
    "collapsed": false
   },
   "outputs": [],
   "source": [
    "a = affinity_user_comb_df.loc[affinity_user_comb_df['round_aggr'] <= 2]"
   ]
  },
  {
   "cell_type": "code",
   "execution_count": 75,
   "metadata": {
    "collapsed": false
   },
   "outputs": [
    {
     "data": {
      "text/html": [
       "<div>\n",
       "<table border=\"1\" class=\"dataframe\">\n",
       "  <thead>\n",
       "    <tr style=\"text-align: right;\">\n",
       "      <th></th>\n",
       "      <th>affinity_round</th>\n",
       "      <th>users_count</th>\n",
       "      <th>user_per</th>\n",
       "      <th>aggregated_per</th>\n",
       "      <th>round_aggr</th>\n",
       "    </tr>\n",
       "  </thead>\n",
       "  <tbody>\n",
       "    <tr>\n",
       "      <th>40</th>\n",
       "      <td>100.0</td>\n",
       "      <td>1</td>\n",
       "      <td>0.001605</td>\n",
       "      <td>0.001605</td>\n",
       "      <td>0.0</td>\n",
       "    </tr>\n",
       "    <tr>\n",
       "      <th>39</th>\n",
       "      <td>50.0</td>\n",
       "      <td>5</td>\n",
       "      <td>0.008026</td>\n",
       "      <td>0.009631</td>\n",
       "      <td>0.0</td>\n",
       "    </tr>\n",
       "    <tr>\n",
       "      <th>38</th>\n",
       "      <td>48.0</td>\n",
       "      <td>1</td>\n",
       "      <td>0.001605</td>\n",
       "      <td>0.011236</td>\n",
       "      <td>0.0</td>\n",
       "    </tr>\n",
       "    <tr>\n",
       "      <th>37</th>\n",
       "      <td>45.0</td>\n",
       "      <td>2</td>\n",
       "      <td>0.003210</td>\n",
       "      <td>0.014446</td>\n",
       "      <td>0.0</td>\n",
       "    </tr>\n",
       "    <tr>\n",
       "      <th>36</th>\n",
       "      <td>38.0</td>\n",
       "      <td>1</td>\n",
       "      <td>0.001605</td>\n",
       "      <td>0.016051</td>\n",
       "      <td>0.0</td>\n",
       "    </tr>\n",
       "    <tr>\n",
       "      <th>35</th>\n",
       "      <td>37.0</td>\n",
       "      <td>1</td>\n",
       "      <td>0.001605</td>\n",
       "      <td>0.017656</td>\n",
       "      <td>0.0</td>\n",
       "    </tr>\n",
       "    <tr>\n",
       "      <th>34</th>\n",
       "      <td>35.0</td>\n",
       "      <td>1</td>\n",
       "      <td>0.001605</td>\n",
       "      <td>0.019261</td>\n",
       "      <td>0.0</td>\n",
       "    </tr>\n",
       "    <tr>\n",
       "      <th>33</th>\n",
       "      <td>33.0</td>\n",
       "      <td>3</td>\n",
       "      <td>0.004815</td>\n",
       "      <td>0.024077</td>\n",
       "      <td>0.0</td>\n",
       "    </tr>\n",
       "    <tr>\n",
       "      <th>32</th>\n",
       "      <td>32.0</td>\n",
       "      <td>1</td>\n",
       "      <td>0.001605</td>\n",
       "      <td>0.025682</td>\n",
       "      <td>0.0</td>\n",
       "    </tr>\n",
       "    <tr>\n",
       "      <th>31</th>\n",
       "      <td>31.0</td>\n",
       "      <td>2</td>\n",
       "      <td>0.003210</td>\n",
       "      <td>0.028892</td>\n",
       "      <td>0.0</td>\n",
       "    </tr>\n",
       "    <tr>\n",
       "      <th>30</th>\n",
       "      <td>30.0</td>\n",
       "      <td>3</td>\n",
       "      <td>0.004815</td>\n",
       "      <td>0.033707</td>\n",
       "      <td>0.0</td>\n",
       "    </tr>\n",
       "    <tr>\n",
       "      <th>29</th>\n",
       "      <td>29.0</td>\n",
       "      <td>5</td>\n",
       "      <td>0.008026</td>\n",
       "      <td>0.041733</td>\n",
       "      <td>0.0</td>\n",
       "    </tr>\n",
       "    <tr>\n",
       "      <th>28</th>\n",
       "      <td>28.0</td>\n",
       "      <td>4</td>\n",
       "      <td>0.006420</td>\n",
       "      <td>0.048153</td>\n",
       "      <td>0.0</td>\n",
       "    </tr>\n",
       "    <tr>\n",
       "      <th>27</th>\n",
       "      <td>27.0</td>\n",
       "      <td>4</td>\n",
       "      <td>0.006420</td>\n",
       "      <td>0.054574</td>\n",
       "      <td>0.0</td>\n",
       "    </tr>\n",
       "    <tr>\n",
       "      <th>26</th>\n",
       "      <td>26.0</td>\n",
       "      <td>9</td>\n",
       "      <td>0.014446</td>\n",
       "      <td>0.069020</td>\n",
       "      <td>0.0</td>\n",
       "    </tr>\n",
       "    <tr>\n",
       "      <th>25</th>\n",
       "      <td>25.0</td>\n",
       "      <td>15</td>\n",
       "      <td>0.024077</td>\n",
       "      <td>0.093096</td>\n",
       "      <td>0.0</td>\n",
       "    </tr>\n",
       "    <tr>\n",
       "      <th>24</th>\n",
       "      <td>24.0</td>\n",
       "      <td>17</td>\n",
       "      <td>0.027287</td>\n",
       "      <td>0.120383</td>\n",
       "      <td>0.0</td>\n",
       "    </tr>\n",
       "    <tr>\n",
       "      <th>23</th>\n",
       "      <td>23.0</td>\n",
       "      <td>13</td>\n",
       "      <td>0.020866</td>\n",
       "      <td>0.141250</td>\n",
       "      <td>0.0</td>\n",
       "    </tr>\n",
       "    <tr>\n",
       "      <th>22</th>\n",
       "      <td>22.0</td>\n",
       "      <td>21</td>\n",
       "      <td>0.033707</td>\n",
       "      <td>0.174957</td>\n",
       "      <td>0.0</td>\n",
       "    </tr>\n",
       "    <tr>\n",
       "      <th>21</th>\n",
       "      <td>21.0</td>\n",
       "      <td>36</td>\n",
       "      <td>0.057784</td>\n",
       "      <td>0.232741</td>\n",
       "      <td>0.0</td>\n",
       "    </tr>\n",
       "    <tr>\n",
       "      <th>20</th>\n",
       "      <td>20.0</td>\n",
       "      <td>56</td>\n",
       "      <td>0.089886</td>\n",
       "      <td>0.322627</td>\n",
       "      <td>0.0</td>\n",
       "    </tr>\n",
       "    <tr>\n",
       "      <th>19</th>\n",
       "      <td>19.0</td>\n",
       "      <td>47</td>\n",
       "      <td>0.075440</td>\n",
       "      <td>0.398067</td>\n",
       "      <td>0.0</td>\n",
       "    </tr>\n",
       "    <tr>\n",
       "      <th>18</th>\n",
       "      <td>18.0</td>\n",
       "      <td>85</td>\n",
       "      <td>0.136434</td>\n",
       "      <td>0.534502</td>\n",
       "      <td>1.0</td>\n",
       "    </tr>\n",
       "    <tr>\n",
       "      <th>17</th>\n",
       "      <td>17.0</td>\n",
       "      <td>111</td>\n",
       "      <td>0.178167</td>\n",
       "      <td>0.712669</td>\n",
       "      <td>1.0</td>\n",
       "    </tr>\n",
       "    <tr>\n",
       "      <th>16</th>\n",
       "      <td>16.0</td>\n",
       "      <td>121</td>\n",
       "      <td>0.194218</td>\n",
       "      <td>0.906888</td>\n",
       "      <td>1.0</td>\n",
       "    </tr>\n",
       "    <tr>\n",
       "      <th>15</th>\n",
       "      <td>15.0</td>\n",
       "      <td>186</td>\n",
       "      <td>0.298551</td>\n",
       "      <td>1.205438</td>\n",
       "      <td>1.0</td>\n",
       "    </tr>\n",
       "    <tr>\n",
       "      <th>14</th>\n",
       "      <td>14.0</td>\n",
       "      <td>252</td>\n",
       "      <td>0.404488</td>\n",
       "      <td>1.609926</td>\n",
       "      <td>2.0</td>\n",
       "    </tr>\n",
       "    <tr>\n",
       "      <th>13</th>\n",
       "      <td>13.0</td>\n",
       "      <td>282</td>\n",
       "      <td>0.452641</td>\n",
       "      <td>2.062567</td>\n",
       "      <td>2.0</td>\n",
       "    </tr>\n",
       "  </tbody>\n",
       "</table>\n",
       "</div>"
      ],
      "text/plain": [
       "    affinity_round  users_count  user_per  aggregated_per  round_aggr\n",
       "40           100.0            1  0.001605        0.001605         0.0\n",
       "39            50.0            5  0.008026        0.009631         0.0\n",
       "38            48.0            1  0.001605        0.011236         0.0\n",
       "37            45.0            2  0.003210        0.014446         0.0\n",
       "36            38.0            1  0.001605        0.016051         0.0\n",
       "35            37.0            1  0.001605        0.017656         0.0\n",
       "34            35.0            1  0.001605        0.019261         0.0\n",
       "33            33.0            3  0.004815        0.024077         0.0\n",
       "32            32.0            1  0.001605        0.025682         0.0\n",
       "31            31.0            2  0.003210        0.028892         0.0\n",
       "30            30.0            3  0.004815        0.033707         0.0\n",
       "29            29.0            5  0.008026        0.041733         0.0\n",
       "28            28.0            4  0.006420        0.048153         0.0\n",
       "27            27.0            4  0.006420        0.054574         0.0\n",
       "26            26.0            9  0.014446        0.069020         0.0\n",
       "25            25.0           15  0.024077        0.093096         0.0\n",
       "24            24.0           17  0.027287        0.120383         0.0\n",
       "23            23.0           13  0.020866        0.141250         0.0\n",
       "22            22.0           21  0.033707        0.174957         0.0\n",
       "21            21.0           36  0.057784        0.232741         0.0\n",
       "20            20.0           56  0.089886        0.322627         0.0\n",
       "19            19.0           47  0.075440        0.398067         0.0\n",
       "18            18.0           85  0.136434        0.534502         1.0\n",
       "17            17.0          111  0.178167        0.712669         1.0\n",
       "16            16.0          121  0.194218        0.906888         1.0\n",
       "15            15.0          186  0.298551        1.205438         1.0\n",
       "14            14.0          252  0.404488        1.609926         2.0\n",
       "13            13.0          282  0.452641        2.062567         2.0"
      ]
     },
     "execution_count": 75,
     "metadata": {},
     "output_type": "execute_result"
    }
   ],
   "source": [
    "a"
   ]
  },
  {
   "cell_type": "code",
   "execution_count": 76,
   "metadata": {
    "collapsed": false
   },
   "outputs": [],
   "source": [
    "a.reset_index(drop=True, inplace=True)"
   ]
  },
  {
   "cell_type": "code",
   "execution_count": 77,
   "metadata": {
    "collapsed": false
   },
   "outputs": [
    {
     "data": {
      "text/html": [
       "<div>\n",
       "<table border=\"1\" class=\"dataframe\">\n",
       "  <thead>\n",
       "    <tr style=\"text-align: right;\">\n",
       "      <th></th>\n",
       "      <th>affinity_round</th>\n",
       "      <th>users_count</th>\n",
       "      <th>user_per</th>\n",
       "      <th>aggregated_per</th>\n",
       "      <th>round_aggr</th>\n",
       "    </tr>\n",
       "  </thead>\n",
       "  <tbody>\n",
       "    <tr>\n",
       "      <th>0</th>\n",
       "      <td>100.0</td>\n",
       "      <td>1</td>\n",
       "      <td>0.001605</td>\n",
       "      <td>0.001605</td>\n",
       "      <td>0.0</td>\n",
       "    </tr>\n",
       "    <tr>\n",
       "      <th>1</th>\n",
       "      <td>50.0</td>\n",
       "      <td>5</td>\n",
       "      <td>0.008026</td>\n",
       "      <td>0.009631</td>\n",
       "      <td>0.0</td>\n",
       "    </tr>\n",
       "    <tr>\n",
       "      <th>2</th>\n",
       "      <td>48.0</td>\n",
       "      <td>1</td>\n",
       "      <td>0.001605</td>\n",
       "      <td>0.011236</td>\n",
       "      <td>0.0</td>\n",
       "    </tr>\n",
       "    <tr>\n",
       "      <th>3</th>\n",
       "      <td>45.0</td>\n",
       "      <td>2</td>\n",
       "      <td>0.003210</td>\n",
       "      <td>0.014446</td>\n",
       "      <td>0.0</td>\n",
       "    </tr>\n",
       "    <tr>\n",
       "      <th>4</th>\n",
       "      <td>38.0</td>\n",
       "      <td>1</td>\n",
       "      <td>0.001605</td>\n",
       "      <td>0.016051</td>\n",
       "      <td>0.0</td>\n",
       "    </tr>\n",
       "    <tr>\n",
       "      <th>5</th>\n",
       "      <td>37.0</td>\n",
       "      <td>1</td>\n",
       "      <td>0.001605</td>\n",
       "      <td>0.017656</td>\n",
       "      <td>0.0</td>\n",
       "    </tr>\n",
       "    <tr>\n",
       "      <th>6</th>\n",
       "      <td>35.0</td>\n",
       "      <td>1</td>\n",
       "      <td>0.001605</td>\n",
       "      <td>0.019261</td>\n",
       "      <td>0.0</td>\n",
       "    </tr>\n",
       "    <tr>\n",
       "      <th>7</th>\n",
       "      <td>33.0</td>\n",
       "      <td>3</td>\n",
       "      <td>0.004815</td>\n",
       "      <td>0.024077</td>\n",
       "      <td>0.0</td>\n",
       "    </tr>\n",
       "    <tr>\n",
       "      <th>8</th>\n",
       "      <td>32.0</td>\n",
       "      <td>1</td>\n",
       "      <td>0.001605</td>\n",
       "      <td>0.025682</td>\n",
       "      <td>0.0</td>\n",
       "    </tr>\n",
       "    <tr>\n",
       "      <th>9</th>\n",
       "      <td>31.0</td>\n",
       "      <td>2</td>\n",
       "      <td>0.003210</td>\n",
       "      <td>0.028892</td>\n",
       "      <td>0.0</td>\n",
       "    </tr>\n",
       "    <tr>\n",
       "      <th>10</th>\n",
       "      <td>30.0</td>\n",
       "      <td>3</td>\n",
       "      <td>0.004815</td>\n",
       "      <td>0.033707</td>\n",
       "      <td>0.0</td>\n",
       "    </tr>\n",
       "    <tr>\n",
       "      <th>11</th>\n",
       "      <td>29.0</td>\n",
       "      <td>5</td>\n",
       "      <td>0.008026</td>\n",
       "      <td>0.041733</td>\n",
       "      <td>0.0</td>\n",
       "    </tr>\n",
       "    <tr>\n",
       "      <th>12</th>\n",
       "      <td>28.0</td>\n",
       "      <td>4</td>\n",
       "      <td>0.006420</td>\n",
       "      <td>0.048153</td>\n",
       "      <td>0.0</td>\n",
       "    </tr>\n",
       "    <tr>\n",
       "      <th>13</th>\n",
       "      <td>27.0</td>\n",
       "      <td>4</td>\n",
       "      <td>0.006420</td>\n",
       "      <td>0.054574</td>\n",
       "      <td>0.0</td>\n",
       "    </tr>\n",
       "    <tr>\n",
       "      <th>14</th>\n",
       "      <td>26.0</td>\n",
       "      <td>9</td>\n",
       "      <td>0.014446</td>\n",
       "      <td>0.069020</td>\n",
       "      <td>0.0</td>\n",
       "    </tr>\n",
       "    <tr>\n",
       "      <th>15</th>\n",
       "      <td>25.0</td>\n",
       "      <td>15</td>\n",
       "      <td>0.024077</td>\n",
       "      <td>0.093096</td>\n",
       "      <td>0.0</td>\n",
       "    </tr>\n",
       "    <tr>\n",
       "      <th>16</th>\n",
       "      <td>24.0</td>\n",
       "      <td>17</td>\n",
       "      <td>0.027287</td>\n",
       "      <td>0.120383</td>\n",
       "      <td>0.0</td>\n",
       "    </tr>\n",
       "    <tr>\n",
       "      <th>17</th>\n",
       "      <td>23.0</td>\n",
       "      <td>13</td>\n",
       "      <td>0.020866</td>\n",
       "      <td>0.141250</td>\n",
       "      <td>0.0</td>\n",
       "    </tr>\n",
       "    <tr>\n",
       "      <th>18</th>\n",
       "      <td>22.0</td>\n",
       "      <td>21</td>\n",
       "      <td>0.033707</td>\n",
       "      <td>0.174957</td>\n",
       "      <td>0.0</td>\n",
       "    </tr>\n",
       "    <tr>\n",
       "      <th>19</th>\n",
       "      <td>21.0</td>\n",
       "      <td>36</td>\n",
       "      <td>0.057784</td>\n",
       "      <td>0.232741</td>\n",
       "      <td>0.0</td>\n",
       "    </tr>\n",
       "    <tr>\n",
       "      <th>20</th>\n",
       "      <td>20.0</td>\n",
       "      <td>56</td>\n",
       "      <td>0.089886</td>\n",
       "      <td>0.322627</td>\n",
       "      <td>0.0</td>\n",
       "    </tr>\n",
       "    <tr>\n",
       "      <th>21</th>\n",
       "      <td>19.0</td>\n",
       "      <td>47</td>\n",
       "      <td>0.075440</td>\n",
       "      <td>0.398067</td>\n",
       "      <td>0.0</td>\n",
       "    </tr>\n",
       "    <tr>\n",
       "      <th>22</th>\n",
       "      <td>18.0</td>\n",
       "      <td>85</td>\n",
       "      <td>0.136434</td>\n",
       "      <td>0.534502</td>\n",
       "      <td>1.0</td>\n",
       "    </tr>\n",
       "    <tr>\n",
       "      <th>23</th>\n",
       "      <td>17.0</td>\n",
       "      <td>111</td>\n",
       "      <td>0.178167</td>\n",
       "      <td>0.712669</td>\n",
       "      <td>1.0</td>\n",
       "    </tr>\n",
       "    <tr>\n",
       "      <th>24</th>\n",
       "      <td>16.0</td>\n",
       "      <td>121</td>\n",
       "      <td>0.194218</td>\n",
       "      <td>0.906888</td>\n",
       "      <td>1.0</td>\n",
       "    </tr>\n",
       "    <tr>\n",
       "      <th>25</th>\n",
       "      <td>15.0</td>\n",
       "      <td>186</td>\n",
       "      <td>0.298551</td>\n",
       "      <td>1.205438</td>\n",
       "      <td>1.0</td>\n",
       "    </tr>\n",
       "    <tr>\n",
       "      <th>26</th>\n",
       "      <td>14.0</td>\n",
       "      <td>252</td>\n",
       "      <td>0.404488</td>\n",
       "      <td>1.609926</td>\n",
       "      <td>2.0</td>\n",
       "    </tr>\n",
       "    <tr>\n",
       "      <th>27</th>\n",
       "      <td>13.0</td>\n",
       "      <td>282</td>\n",
       "      <td>0.452641</td>\n",
       "      <td>2.062567</td>\n",
       "      <td>2.0</td>\n",
       "    </tr>\n",
       "  </tbody>\n",
       "</table>\n",
       "</div>"
      ],
      "text/plain": [
       "    affinity_round  users_count  user_per  aggregated_per  round_aggr\n",
       "0            100.0            1  0.001605        0.001605         0.0\n",
       "1             50.0            5  0.008026        0.009631         0.0\n",
       "2             48.0            1  0.001605        0.011236         0.0\n",
       "3             45.0            2  0.003210        0.014446         0.0\n",
       "4             38.0            1  0.001605        0.016051         0.0\n",
       "5             37.0            1  0.001605        0.017656         0.0\n",
       "6             35.0            1  0.001605        0.019261         0.0\n",
       "7             33.0            3  0.004815        0.024077         0.0\n",
       "8             32.0            1  0.001605        0.025682         0.0\n",
       "9             31.0            2  0.003210        0.028892         0.0\n",
       "10            30.0            3  0.004815        0.033707         0.0\n",
       "11            29.0            5  0.008026        0.041733         0.0\n",
       "12            28.0            4  0.006420        0.048153         0.0\n",
       "13            27.0            4  0.006420        0.054574         0.0\n",
       "14            26.0            9  0.014446        0.069020         0.0\n",
       "15            25.0           15  0.024077        0.093096         0.0\n",
       "16            24.0           17  0.027287        0.120383         0.0\n",
       "17            23.0           13  0.020866        0.141250         0.0\n",
       "18            22.0           21  0.033707        0.174957         0.0\n",
       "19            21.0           36  0.057784        0.232741         0.0\n",
       "20            20.0           56  0.089886        0.322627         0.0\n",
       "21            19.0           47  0.075440        0.398067         0.0\n",
       "22            18.0           85  0.136434        0.534502         1.0\n",
       "23            17.0          111  0.178167        0.712669         1.0\n",
       "24            16.0          121  0.194218        0.906888         1.0\n",
       "25            15.0          186  0.298551        1.205438         1.0\n",
       "26            14.0          252  0.404488        1.609926         2.0\n",
       "27            13.0          282  0.452641        2.062567         2.0"
      ]
     },
     "execution_count": 77,
     "metadata": {},
     "output_type": "execute_result"
    }
   ],
   "source": [
    "a"
   ]
  },
  {
   "cell_type": "code",
   "execution_count": 78,
   "metadata": {
    "collapsed": true
   },
   "outputs": [],
   "source": [
    "a_value = a.affinity_round.loc[a['round_aggr'] <= 2]"
   ]
  },
  {
   "cell_type": "code",
   "execution_count": 79,
   "metadata": {
    "collapsed": false
   },
   "outputs": [],
   "source": [
    "a_value = a_value.tolist()"
   ]
  },
  {
   "cell_type": "code",
   "execution_count": 80,
   "metadata": {
    "collapsed": false,
    "scrolled": true
   },
   "outputs": [
    {
     "data": {
      "text/plain": [
       "[100.0,\n",
       " 50.0,\n",
       " 48.0,\n",
       " 45.0,\n",
       " 38.0,\n",
       " 37.0,\n",
       " 35.0,\n",
       " 33.0,\n",
       " 32.0,\n",
       " 31.0,\n",
       " 30.0,\n",
       " 29.0,\n",
       " 28.0,\n",
       " 27.0,\n",
       " 26.0,\n",
       " 25.0,\n",
       " 24.0,\n",
       " 23.0,\n",
       " 22.0,\n",
       " 21.0,\n",
       " 20.0,\n",
       " 19.0,\n",
       " 18.0,\n",
       " 17.0,\n",
       " 16.0,\n",
       " 15.0,\n",
       " 14.0,\n",
       " 13.0]"
      ]
     },
     "execution_count": 80,
     "metadata": {},
     "output_type": "execute_result"
    }
   ],
   "source": [
    "a_value"
   ]
  },
  {
   "cell_type": "code",
   "execution_count": 81,
   "metadata": {
    "collapsed": false
   },
   "outputs": [
    {
     "data": {
      "text/plain": [
       "13.0"
      ]
     },
     "execution_count": 81,
     "metadata": {},
     "output_type": "execute_result"
    }
   ],
   "source": [
    "a_value[-1]"
   ]
  },
  {
   "cell_type": "code",
   "execution_count": 82,
   "metadata": {
    "collapsed": true
   },
   "outputs": [],
   "source": [
    "b = affinity_user_comb_df.loc[(affinity_user_comb_df['round_aggr'] >2) & \n",
    "                                       (affinity_user_comb_df['round_aggr'] <=10)]"
   ]
  },
  {
   "cell_type": "code",
   "execution_count": 83,
   "metadata": {
    "collapsed": false
   },
   "outputs": [
    {
     "data": {
      "text/html": [
       "<div>\n",
       "<table border=\"1\" class=\"dataframe\">\n",
       "  <thead>\n",
       "    <tr style=\"text-align: right;\">\n",
       "      <th></th>\n",
       "      <th>affinity_round</th>\n",
       "      <th>users_count</th>\n",
       "      <th>user_per</th>\n",
       "      <th>aggregated_per</th>\n",
       "      <th>round_aggr</th>\n",
       "    </tr>\n",
       "  </thead>\n",
       "  <tbody>\n",
       "    <tr>\n",
       "      <th>12</th>\n",
       "      <td>12.0</td>\n",
       "      <td>398</td>\n",
       "      <td>0.638834</td>\n",
       "      <td>2.701401</td>\n",
       "      <td>3.0</td>\n",
       "    </tr>\n",
       "    <tr>\n",
       "      <th>11</th>\n",
       "      <td>11.0</td>\n",
       "      <td>418</td>\n",
       "      <td>0.670936</td>\n",
       "      <td>3.372338</td>\n",
       "      <td>3.0</td>\n",
       "    </tr>\n",
       "    <tr>\n",
       "      <th>10</th>\n",
       "      <td>10.0</td>\n",
       "      <td>552</td>\n",
       "      <td>0.886021</td>\n",
       "      <td>4.258359</td>\n",
       "      <td>4.0</td>\n",
       "    </tr>\n",
       "    <tr>\n",
       "      <th>9</th>\n",
       "      <td>9.0</td>\n",
       "      <td>660</td>\n",
       "      <td>1.059373</td>\n",
       "      <td>5.317732</td>\n",
       "      <td>5.0</td>\n",
       "    </tr>\n",
       "    <tr>\n",
       "      <th>8</th>\n",
       "      <td>8.0</td>\n",
       "      <td>886</td>\n",
       "      <td>1.422128</td>\n",
       "      <td>6.739860</td>\n",
       "      <td>7.0</td>\n",
       "    </tr>\n",
       "    <tr>\n",
       "      <th>7</th>\n",
       "      <td>7.0</td>\n",
       "      <td>1310</td>\n",
       "      <td>2.102695</td>\n",
       "      <td>8.842555</td>\n",
       "      <td>9.0</td>\n",
       "    </tr>\n",
       "  </tbody>\n",
       "</table>\n",
       "</div>"
      ],
      "text/plain": [
       "    affinity_round  users_count  user_per  aggregated_per  round_aggr\n",
       "12            12.0          398  0.638834        2.701401         3.0\n",
       "11            11.0          418  0.670936        3.372338         3.0\n",
       "10            10.0          552  0.886021        4.258359         4.0\n",
       "9              9.0          660  1.059373        5.317732         5.0\n",
       "8              8.0          886  1.422128        6.739860         7.0\n",
       "7              7.0         1310  2.102695        8.842555         9.0"
      ]
     },
     "execution_count": 83,
     "metadata": {},
     "output_type": "execute_result"
    }
   ],
   "source": [
    "b"
   ]
  },
  {
   "cell_type": "code",
   "execution_count": 84,
   "metadata": {
    "collapsed": true
   },
   "outputs": [],
   "source": [
    "b.reset_index(drop=True, inplace=True)"
   ]
  },
  {
   "cell_type": "code",
   "execution_count": 85,
   "metadata": {
    "collapsed": false
   },
   "outputs": [
    {
     "data": {
      "text/html": [
       "<div>\n",
       "<table border=\"1\" class=\"dataframe\">\n",
       "  <thead>\n",
       "    <tr style=\"text-align: right;\">\n",
       "      <th></th>\n",
       "      <th>affinity_round</th>\n",
       "      <th>users_count</th>\n",
       "      <th>user_per</th>\n",
       "      <th>aggregated_per</th>\n",
       "      <th>round_aggr</th>\n",
       "    </tr>\n",
       "  </thead>\n",
       "  <tbody>\n",
       "    <tr>\n",
       "      <th>0</th>\n",
       "      <td>12.0</td>\n",
       "      <td>398</td>\n",
       "      <td>0.638834</td>\n",
       "      <td>2.701401</td>\n",
       "      <td>3.0</td>\n",
       "    </tr>\n",
       "    <tr>\n",
       "      <th>1</th>\n",
       "      <td>11.0</td>\n",
       "      <td>418</td>\n",
       "      <td>0.670936</td>\n",
       "      <td>3.372338</td>\n",
       "      <td>3.0</td>\n",
       "    </tr>\n",
       "    <tr>\n",
       "      <th>2</th>\n",
       "      <td>10.0</td>\n",
       "      <td>552</td>\n",
       "      <td>0.886021</td>\n",
       "      <td>4.258359</td>\n",
       "      <td>4.0</td>\n",
       "    </tr>\n",
       "    <tr>\n",
       "      <th>3</th>\n",
       "      <td>9.0</td>\n",
       "      <td>660</td>\n",
       "      <td>1.059373</td>\n",
       "      <td>5.317732</td>\n",
       "      <td>5.0</td>\n",
       "    </tr>\n",
       "    <tr>\n",
       "      <th>4</th>\n",
       "      <td>8.0</td>\n",
       "      <td>886</td>\n",
       "      <td>1.422128</td>\n",
       "      <td>6.739860</td>\n",
       "      <td>7.0</td>\n",
       "    </tr>\n",
       "    <tr>\n",
       "      <th>5</th>\n",
       "      <td>7.0</td>\n",
       "      <td>1310</td>\n",
       "      <td>2.102695</td>\n",
       "      <td>8.842555</td>\n",
       "      <td>9.0</td>\n",
       "    </tr>\n",
       "  </tbody>\n",
       "</table>\n",
       "</div>"
      ],
      "text/plain": [
       "   affinity_round  users_count  user_per  aggregated_per  round_aggr\n",
       "0            12.0          398  0.638834        2.701401         3.0\n",
       "1            11.0          418  0.670936        3.372338         3.0\n",
       "2            10.0          552  0.886021        4.258359         4.0\n",
       "3             9.0          660  1.059373        5.317732         5.0\n",
       "4             8.0          886  1.422128        6.739860         7.0\n",
       "5             7.0         1310  2.102695        8.842555         9.0"
      ]
     },
     "execution_count": 85,
     "metadata": {},
     "output_type": "execute_result"
    }
   ],
   "source": [
    "b"
   ]
  },
  {
   "cell_type": "code",
   "execution_count": 86,
   "metadata": {
    "collapsed": true
   },
   "outputs": [],
   "source": [
    "b_value = b.affinity_round.loc[(b['round_aggr'] >2) & \n",
    "                          (b['round_aggr'] <=10)]"
   ]
  },
  {
   "cell_type": "code",
   "execution_count": 87,
   "metadata": {
    "collapsed": false
   },
   "outputs": [
    {
     "data": {
      "text/plain": [
       "0    12.0\n",
       "1    11.0\n",
       "2    10.0\n",
       "3     9.0\n",
       "4     8.0\n",
       "5     7.0\n",
       "Name: affinity_round, dtype: float64"
      ]
     },
     "execution_count": 87,
     "metadata": {},
     "output_type": "execute_result"
    }
   ],
   "source": [
    "b_value"
   ]
  },
  {
   "cell_type": "code",
   "execution_count": 88,
   "metadata": {
    "collapsed": false
   },
   "outputs": [],
   "source": [
    "b_value = b_value.tolist()"
   ]
  },
  {
   "cell_type": "code",
   "execution_count": 89,
   "metadata": {
    "collapsed": false
   },
   "outputs": [
    {
     "data": {
      "text/plain": [
       "[12.0, 11.0, 10.0, 9.0, 8.0, 7.0]"
      ]
     },
     "execution_count": 89,
     "metadata": {},
     "output_type": "execute_result"
    }
   ],
   "source": [
    "b_value"
   ]
  },
  {
   "cell_type": "code",
   "execution_count": 90,
   "metadata": {
    "collapsed": true
   },
   "outputs": [],
   "source": [
    "c = affinity_user_comb_df.loc[(affinity_user_comb_df['round_aggr'] >10) & \n",
    "                                       (affinity_user_comb_df['round_aggr'] <=25)]"
   ]
  },
  {
   "cell_type": "code",
   "execution_count": 91,
   "metadata": {
    "collapsed": false
   },
   "outputs": [
    {
     "data": {
      "text/html": [
       "<div>\n",
       "<table border=\"1\" class=\"dataframe\">\n",
       "  <thead>\n",
       "    <tr style=\"text-align: right;\">\n",
       "      <th></th>\n",
       "      <th>affinity_round</th>\n",
       "      <th>users_count</th>\n",
       "      <th>user_per</th>\n",
       "      <th>aggregated_per</th>\n",
       "      <th>round_aggr</th>\n",
       "    </tr>\n",
       "  </thead>\n",
       "  <tbody>\n",
       "    <tr>\n",
       "      <th>6</th>\n",
       "      <td>6.0</td>\n",
       "      <td>1656</td>\n",
       "      <td>2.658063</td>\n",
       "      <td>11.500618</td>\n",
       "      <td>12.0</td>\n",
       "    </tr>\n",
       "    <tr>\n",
       "      <th>5</th>\n",
       "      <td>5.0</td>\n",
       "      <td>2285</td>\n",
       "      <td>3.667678</td>\n",
       "      <td>15.168296</td>\n",
       "      <td>15.0</td>\n",
       "    </tr>\n",
       "    <tr>\n",
       "      <th>4</th>\n",
       "      <td>4.0</td>\n",
       "      <td>2867</td>\n",
       "      <td>4.601852</td>\n",
       "      <td>19.770148</td>\n",
       "      <td>20.0</td>\n",
       "    </tr>\n",
       "  </tbody>\n",
       "</table>\n",
       "</div>"
      ],
      "text/plain": [
       "   affinity_round  users_count  user_per  aggregated_per  round_aggr\n",
       "6             6.0         1656  2.658063       11.500618        12.0\n",
       "5             5.0         2285  3.667678       15.168296        15.0\n",
       "4             4.0         2867  4.601852       19.770148        20.0"
      ]
     },
     "execution_count": 91,
     "metadata": {},
     "output_type": "execute_result"
    }
   ],
   "source": [
    "c"
   ]
  },
  {
   "cell_type": "code",
   "execution_count": 92,
   "metadata": {
    "collapsed": true
   },
   "outputs": [],
   "source": [
    "c.reset_index(drop=True, inplace=True)"
   ]
  },
  {
   "cell_type": "code",
   "execution_count": 93,
   "metadata": {
    "collapsed": true
   },
   "outputs": [],
   "source": [
    "c_value = c.affinity_round.loc[(c['round_aggr'] >10) & \n",
    "                                       (c['round_aggr'] <=25)]"
   ]
  },
  {
   "cell_type": "code",
   "execution_count": 94,
   "metadata": {
    "collapsed": false
   },
   "outputs": [
    {
     "data": {
      "text/plain": [
       "0    6.0\n",
       "1    5.0\n",
       "2    4.0\n",
       "Name: affinity_round, dtype: float64"
      ]
     },
     "execution_count": 94,
     "metadata": {},
     "output_type": "execute_result"
    }
   ],
   "source": [
    "c_value"
   ]
  },
  {
   "cell_type": "code",
   "execution_count": 95,
   "metadata": {
    "collapsed": true
   },
   "outputs": [],
   "source": [
    "c_value = c_value.tolist()"
   ]
  },
  {
   "cell_type": "code",
   "execution_count": 96,
   "metadata": {
    "collapsed": false
   },
   "outputs": [
    {
     "data": {
      "text/plain": [
       "[6.0, 5.0, 4.0]"
      ]
     },
     "execution_count": 96,
     "metadata": {},
     "output_type": "execute_result"
    }
   ],
   "source": [
    "c_value"
   ]
  },
  {
   "cell_type": "code",
   "execution_count": 97,
   "metadata": {
    "collapsed": true
   },
   "outputs": [],
   "source": [
    "d = affinity_user_comb_df.loc[(affinity_user_comb_df['round_aggr'] >25) & \n",
    "                                       (affinity_user_comb_df['round_aggr'] <=50)]"
   ]
  },
  {
   "cell_type": "code",
   "execution_count": 98,
   "metadata": {
    "collapsed": false
   },
   "outputs": [
    {
     "data": {
      "text/html": [
       "<div>\n",
       "<table border=\"1\" class=\"dataframe\">\n",
       "  <thead>\n",
       "    <tr style=\"text-align: right;\">\n",
       "      <th></th>\n",
       "      <th>affinity_round</th>\n",
       "      <th>users_count</th>\n",
       "      <th>user_per</th>\n",
       "      <th>aggregated_per</th>\n",
       "      <th>round_aggr</th>\n",
       "    </tr>\n",
       "  </thead>\n",
       "  <tbody>\n",
       "    <tr>\n",
       "      <th>3</th>\n",
       "      <td>3.0</td>\n",
       "      <td>3706</td>\n",
       "      <td>5.948540</td>\n",
       "      <td>25.718688</td>\n",
       "      <td>26.0</td>\n",
       "    </tr>\n",
       "    <tr>\n",
       "      <th>2</th>\n",
       "      <td>2.0</td>\n",
       "      <td>5986</td>\n",
       "      <td>9.608192</td>\n",
       "      <td>35.326881</td>\n",
       "      <td>35.0</td>\n",
       "    </tr>\n",
       "  </tbody>\n",
       "</table>\n",
       "</div>"
      ],
      "text/plain": [
       "   affinity_round  users_count  user_per  aggregated_per  round_aggr\n",
       "3             3.0         3706  5.948540       25.718688        26.0\n",
       "2             2.0         5986  9.608192       35.326881        35.0"
      ]
     },
     "execution_count": 98,
     "metadata": {},
     "output_type": "execute_result"
    }
   ],
   "source": [
    "d"
   ]
  },
  {
   "cell_type": "code",
   "execution_count": 99,
   "metadata": {
    "collapsed": true
   },
   "outputs": [],
   "source": [
    "d.reset_index(drop=True, inplace=True)"
   ]
  },
  {
   "cell_type": "code",
   "execution_count": 100,
   "metadata": {
    "collapsed": true
   },
   "outputs": [],
   "source": [
    "d_value = d.affinity_round.loc[(d['round_aggr'] > 25) & \n",
    "                          (d['round_aggr'] <=50)]"
   ]
  },
  {
   "cell_type": "code",
   "execution_count": 101,
   "metadata": {
    "collapsed": false
   },
   "outputs": [
    {
     "data": {
      "text/plain": [
       "0    3.0\n",
       "1    2.0\n",
       "Name: affinity_round, dtype: float64"
      ]
     },
     "execution_count": 101,
     "metadata": {},
     "output_type": "execute_result"
    }
   ],
   "source": [
    "d_value"
   ]
  },
  {
   "cell_type": "code",
   "execution_count": 102,
   "metadata": {
    "collapsed": true
   },
   "outputs": [],
   "source": [
    "d_value= d_value.tolist()"
   ]
  },
  {
   "cell_type": "code",
   "execution_count": 103,
   "metadata": {
    "collapsed": false
   },
   "outputs": [
    {
     "data": {
      "text/plain": [
       "[3.0, 2.0]"
      ]
     },
     "execution_count": 103,
     "metadata": {},
     "output_type": "execute_result"
    }
   ],
   "source": [
    "d_value"
   ]
  },
  {
   "cell_type": "code",
   "execution_count": 104,
   "metadata": {
    "collapsed": true
   },
   "outputs": [],
   "source": [
    "e = affinity_user_comb_df.loc[affinity_user_comb_df['round_aggr'] > 50]"
   ]
  },
  {
   "cell_type": "code",
   "execution_count": 105,
   "metadata": {
    "collapsed": true
   },
   "outputs": [],
   "source": [
    "e.reset_index(drop=True, inplace=True)"
   ]
  },
  {
   "cell_type": "code",
   "execution_count": 106,
   "metadata": {
    "collapsed": true
   },
   "outputs": [],
   "source": [
    "e_value = e.affinity_round.loc[e['round_aggr'] > 50]"
   ]
  },
  {
   "cell_type": "code",
   "execution_count": 107,
   "metadata": {
    "collapsed": false
   },
   "outputs": [
    {
     "data": {
      "text/plain": [
       "0    1.0\n",
       "1    0.0\n",
       "Name: affinity_round, dtype: float64"
      ]
     },
     "execution_count": 107,
     "metadata": {},
     "output_type": "execute_result"
    }
   ],
   "source": [
    "e_value"
   ]
  },
  {
   "cell_type": "code",
   "execution_count": 108,
   "metadata": {
    "collapsed": true
   },
   "outputs": [],
   "source": [
    "e_value = e_value.tolist()"
   ]
  },
  {
   "cell_type": "code",
   "execution_count": 109,
   "metadata": {
    "collapsed": false
   },
   "outputs": [
    {
     "data": {
      "text/plain": [
       "[1.0, 0.0]"
      ]
     },
     "execution_count": 109,
     "metadata": {},
     "output_type": "execute_result"
    }
   ],
   "source": [
    "e_value"
   ]
  },
  {
   "cell_type": "code",
   "execution_count": 110,
   "metadata": {
    "collapsed": true
   },
   "outputs": [],
   "source": [
    "affinity_df['Recommendation_class'] = \"\""
   ]
  },
  {
   "cell_type": "code",
   "execution_count": 111,
   "metadata": {
    "collapsed": false
   },
   "outputs": [
    {
     "data": {
      "text/html": [
       "<div>\n",
       "<table border=\"1\" class=\"dataframe\">\n",
       "  <thead>\n",
       "    <tr style=\"text-align: right;\">\n",
       "      <th></th>\n",
       "      <th>cust_id</th>\n",
       "      <th>category</th>\n",
       "      <th>combination</th>\n",
       "      <th>visits</th>\n",
       "      <th>affinity</th>\n",
       "      <th>affinity_round</th>\n",
       "      <th>class</th>\n",
       "    </tr>\n",
       "  </thead>\n",
       "  <tbody>\n",
       "    <tr>\n",
       "      <th>0</th>\n",
       "      <td>100010021</td>\n",
       "      <td>201</td>\n",
       "      <td>1</td>\n",
       "      <td>349</td>\n",
       "      <td>0.286533</td>\n",
       "      <td>0.0</td>\n",
       "      <td></td>\n",
       "    </tr>\n",
       "    <tr>\n",
       "      <th>1</th>\n",
       "      <td>100010021</td>\n",
       "      <td>311</td>\n",
       "      <td>1</td>\n",
       "      <td>349</td>\n",
       "      <td>0.286533</td>\n",
       "      <td>0.0</td>\n",
       "      <td></td>\n",
       "    </tr>\n",
       "    <tr>\n",
       "      <th>2</th>\n",
       "      <td>100010021</td>\n",
       "      <td>410</td>\n",
       "      <td>1</td>\n",
       "      <td>349</td>\n",
       "      <td>0.286533</td>\n",
       "      <td>0.0</td>\n",
       "      <td></td>\n",
       "    </tr>\n",
       "    <tr>\n",
       "      <th>3</th>\n",
       "      <td>100010021</td>\n",
       "      <td>416</td>\n",
       "      <td>8</td>\n",
       "      <td>349</td>\n",
       "      <td>2.292264</td>\n",
       "      <td>2.0</td>\n",
       "      <td></td>\n",
       "    </tr>\n",
       "    <tr>\n",
       "      <th>4</th>\n",
       "      <td>100010021</td>\n",
       "      <td>417</td>\n",
       "      <td>1</td>\n",
       "      <td>349</td>\n",
       "      <td>0.286533</td>\n",
       "      <td>0.0</td>\n",
       "      <td></td>\n",
       "    </tr>\n",
       "  </tbody>\n",
       "</table>\n",
       "</div>"
      ],
      "text/plain": [
       "     cust_id  category  combination  visits  affinity  affinity_round class\n",
       "0  100010021       201            1     349  0.286533             0.0      \n",
       "1  100010021       311            1     349  0.286533             0.0      \n",
       "2  100010021       410            1     349  0.286533             0.0      \n",
       "3  100010021       416            8     349  2.292264             2.0      \n",
       "4  100010021       417            1     349  0.286533             0.0      "
      ]
     },
     "execution_count": 111,
     "metadata": {},
     "output_type": "execute_result"
    }
   ],
   "source": [
    "affinity_df.head()"
   ]
  },
  {
   "cell_type": "code",
   "execution_count": 112,
   "metadata": {
    "collapsed": false
   },
   "outputs": [],
   "source": [
    "affinity_df.loc[affinity_df['affinity_round'] >= a_value[-1], 'Recommendation_class'] = \"Class_A\""
   ]
  },
  {
   "cell_type": "code",
   "execution_count": 113,
   "metadata": {
    "collapsed": false
   },
   "outputs": [
    {
     "data": {
      "text/html": [
       "<div>\n",
       "<table border=\"1\" class=\"dataframe\">\n",
       "  <thead>\n",
       "    <tr style=\"text-align: right;\">\n",
       "      <th></th>\n",
       "      <th>cust_id</th>\n",
       "      <th>category</th>\n",
       "      <th>combination</th>\n",
       "      <th>visits</th>\n",
       "      <th>affinity</th>\n",
       "      <th>affinity_round</th>\n",
       "      <th>class</th>\n",
       "    </tr>\n",
       "  </thead>\n",
       "  <tbody>\n",
       "    <tr>\n",
       "      <th>0</th>\n",
       "      <td>100010021</td>\n",
       "      <td>201</td>\n",
       "      <td>1</td>\n",
       "      <td>349</td>\n",
       "      <td>0.286533</td>\n",
       "      <td>0.0</td>\n",
       "      <td></td>\n",
       "    </tr>\n",
       "    <tr>\n",
       "      <th>1</th>\n",
       "      <td>100010021</td>\n",
       "      <td>311</td>\n",
       "      <td>1</td>\n",
       "      <td>349</td>\n",
       "      <td>0.286533</td>\n",
       "      <td>0.0</td>\n",
       "      <td></td>\n",
       "    </tr>\n",
       "    <tr>\n",
       "      <th>2</th>\n",
       "      <td>100010021</td>\n",
       "      <td>410</td>\n",
       "      <td>1</td>\n",
       "      <td>349</td>\n",
       "      <td>0.286533</td>\n",
       "      <td>0.0</td>\n",
       "      <td></td>\n",
       "    </tr>\n",
       "    <tr>\n",
       "      <th>3</th>\n",
       "      <td>100010021</td>\n",
       "      <td>416</td>\n",
       "      <td>8</td>\n",
       "      <td>349</td>\n",
       "      <td>2.292264</td>\n",
       "      <td>2.0</td>\n",
       "      <td></td>\n",
       "    </tr>\n",
       "    <tr>\n",
       "      <th>4</th>\n",
       "      <td>100010021</td>\n",
       "      <td>417</td>\n",
       "      <td>1</td>\n",
       "      <td>349</td>\n",
       "      <td>0.286533</td>\n",
       "      <td>0.0</td>\n",
       "      <td></td>\n",
       "    </tr>\n",
       "  </tbody>\n",
       "</table>\n",
       "</div>"
      ],
      "text/plain": [
       "     cust_id  category  combination  visits  affinity  affinity_round class\n",
       "0  100010021       201            1     349  0.286533             0.0      \n",
       "1  100010021       311            1     349  0.286533             0.0      \n",
       "2  100010021       410            1     349  0.286533             0.0      \n",
       "3  100010021       416            8     349  2.292264             2.0      \n",
       "4  100010021       417            1     349  0.286533             0.0      "
      ]
     },
     "execution_count": 113,
     "metadata": {},
     "output_type": "execute_result"
    }
   ],
   "source": [
    "affinity_df.head()"
   ]
  },
  {
   "cell_type": "code",
   "execution_count": 114,
   "metadata": {
    "collapsed": false
   },
   "outputs": [],
   "source": [
    "affinity_df.loc[(affinity_df['affinity_round'] >= b_value[-1]) & (affinity_df['affinity_round'] < a_value[-1]), 'Recommendation_class'] = \"Class_B\""
   ]
  },
  {
   "cell_type": "code",
   "execution_count": 115,
   "metadata": {
    "collapsed": true
   },
   "outputs": [],
   "source": [
    "affinity_df.loc[(affinity_df['affinity_round'] >= c_value[-1]) & (affinity_df['affinity_round'] < b_value[-1]), 'Recommendation_class'] = \"Class_C\""
   ]
  },
  {
   "cell_type": "code",
   "execution_count": 116,
   "metadata": {
    "collapsed": false
   },
   "outputs": [],
   "source": [
    "affinity_df.loc[(affinity_df['affinity_round'] >= d_value[-1]) & (affinity_df['affinity_round'] < c_value[-1]), 'Recommendation_class'] = \"Class_D\""
   ]
  },
  {
   "cell_type": "code",
   "execution_count": 117,
   "metadata": {
    "collapsed": false
   },
   "outputs": [],
   "source": [
    "affinity_df.loc[(affinity_df['affinity_round'] >= e_value[-1]) & (affinity_df['affinity_round'] < d_value[-1]), 'Recommendation_class'] = \"Class_E\""
   ]
  },
  {
   "cell_type": "code",
   "execution_count": 118,
   "metadata": {
    "collapsed": false
   },
   "outputs": [
    {
     "data": {
      "text/html": [
       "<div>\n",
       "<table border=\"1\" class=\"dataframe\">\n",
       "  <thead>\n",
       "    <tr style=\"text-align: right;\">\n",
       "      <th></th>\n",
       "      <th>cust_id</th>\n",
       "      <th>category</th>\n",
       "      <th>combination</th>\n",
       "      <th>visits</th>\n",
       "      <th>affinity</th>\n",
       "      <th>affinity_round</th>\n",
       "      <th>class</th>\n",
       "    </tr>\n",
       "  </thead>\n",
       "  <tbody>\n",
       "    <tr>\n",
       "      <th>0</th>\n",
       "      <td>100010021</td>\n",
       "      <td>201</td>\n",
       "      <td>1</td>\n",
       "      <td>349</td>\n",
       "      <td>0.286533</td>\n",
       "      <td>0.0</td>\n",
       "      <td>Class_E</td>\n",
       "    </tr>\n",
       "    <tr>\n",
       "      <th>1</th>\n",
       "      <td>100010021</td>\n",
       "      <td>311</td>\n",
       "      <td>1</td>\n",
       "      <td>349</td>\n",
       "      <td>0.286533</td>\n",
       "      <td>0.0</td>\n",
       "      <td>Class_E</td>\n",
       "    </tr>\n",
       "    <tr>\n",
       "      <th>2</th>\n",
       "      <td>100010021</td>\n",
       "      <td>410</td>\n",
       "      <td>1</td>\n",
       "      <td>349</td>\n",
       "      <td>0.286533</td>\n",
       "      <td>0.0</td>\n",
       "      <td>Class_E</td>\n",
       "    </tr>\n",
       "    <tr>\n",
       "      <th>3</th>\n",
       "      <td>100010021</td>\n",
       "      <td>416</td>\n",
       "      <td>8</td>\n",
       "      <td>349</td>\n",
       "      <td>2.292264</td>\n",
       "      <td>2.0</td>\n",
       "      <td>Class_D</td>\n",
       "    </tr>\n",
       "    <tr>\n",
       "      <th>4</th>\n",
       "      <td>100010021</td>\n",
       "      <td>417</td>\n",
       "      <td>1</td>\n",
       "      <td>349</td>\n",
       "      <td>0.286533</td>\n",
       "      <td>0.0</td>\n",
       "      <td>Class_E</td>\n",
       "    </tr>\n",
       "  </tbody>\n",
       "</table>\n",
       "</div>"
      ],
      "text/plain": [
       "     cust_id  category  combination  visits  affinity  affinity_round    class\n",
       "0  100010021       201            1     349  0.286533             0.0  Class_E\n",
       "1  100010021       311            1     349  0.286533             0.0  Class_E\n",
       "2  100010021       410            1     349  0.286533             0.0  Class_E\n",
       "3  100010021       416            8     349  2.292264             2.0  Class_D\n",
       "4  100010021       417            1     349  0.286533             0.0  Class_E"
      ]
     },
     "execution_count": 118,
     "metadata": {},
     "output_type": "execute_result"
    }
   ],
   "source": [
    "affinity_df.head()"
   ]
  },
  {
   "cell_type": "code",
   "execution_count": 119,
   "metadata": {
    "collapsed": true
   },
   "outputs": [
    {
     "data": {
      "text/html": [
       "<div>\n",
       "<table border=\"1\" class=\"dataframe\">\n",
       "  <thead>\n",
       "    <tr style=\"text-align: right;\">\n",
       "      <th></th>\n",
       "      <th>cust_id</th>\n",
       "      <th>category</th>\n",
       "      <th>combination</th>\n",
       "      <th>visits</th>\n",
       "      <th>affinity</th>\n",
       "      <th>affinity_round</th>\n",
       "      <th>class</th>\n",
       "    </tr>\n",
       "  </thead>\n",
       "  <tbody>\n",
       "    <tr>\n",
       "      <th>2818</th>\n",
       "      <td>100413035</td>\n",
       "      <td>6315</td>\n",
       "      <td>35</td>\n",
       "      <td>186</td>\n",
       "      <td>18.817204</td>\n",
       "      <td>19.0</td>\n",
       "      <td>Class_A</td>\n",
       "    </tr>\n",
       "    <tr>\n",
       "      <th>14319</th>\n",
       "      <td>1017711885</td>\n",
       "      <td>9908</td>\n",
       "      <td>65</td>\n",
       "      <td>423</td>\n",
       "      <td>15.366430</td>\n",
       "      <td>15.0</td>\n",
       "      <td>Class_A</td>\n",
       "    </tr>\n",
       "    <tr>\n",
       "      <th>20970</th>\n",
       "      <td>102272269</td>\n",
       "      <td>5127</td>\n",
       "      <td>8</td>\n",
       "      <td>42</td>\n",
       "      <td>19.047619</td>\n",
       "      <td>19.0</td>\n",
       "      <td>Class_A</td>\n",
       "    </tr>\n",
       "    <tr>\n",
       "      <th>24530</th>\n",
       "      <td>102569751</td>\n",
       "      <td>5609</td>\n",
       "      <td>37</td>\n",
       "      <td>191</td>\n",
       "      <td>19.371728</td>\n",
       "      <td>19.0</td>\n",
       "      <td>Class_A</td>\n",
       "    </tr>\n",
       "    <tr>\n",
       "      <th>27596</th>\n",
       "      <td>102780068</td>\n",
       "      <td>501</td>\n",
       "      <td>75</td>\n",
       "      <td>599</td>\n",
       "      <td>12.520868</td>\n",
       "      <td>13.0</td>\n",
       "      <td>Class_A</td>\n",
       "    </tr>\n",
       "    <tr>\n",
       "      <th>29685</th>\n",
       "      <td>102893227</td>\n",
       "      <td>6315</td>\n",
       "      <td>28</td>\n",
       "      <td>214</td>\n",
       "      <td>13.084112</td>\n",
       "      <td>13.0</td>\n",
       "      <td>Class_A</td>\n",
       "    </tr>\n",
       "    <tr>\n",
       "      <th>29712</th>\n",
       "      <td>102900714</td>\n",
       "      <td>2709</td>\n",
       "      <td>137</td>\n",
       "      <td>875</td>\n",
       "      <td>15.657143</td>\n",
       "      <td>16.0</td>\n",
       "      <td>Class_A</td>\n",
       "    </tr>\n",
       "    <tr>\n",
       "      <th>30088</th>\n",
       "      <td>102970463</td>\n",
       "      <td>9753</td>\n",
       "      <td>2</td>\n",
       "      <td>8</td>\n",
       "      <td>25.000000</td>\n",
       "      <td>25.0</td>\n",
       "      <td>Class_A</td>\n",
       "    </tr>\n",
       "    <tr>\n",
       "      <th>31146</th>\n",
       "      <td>103015314</td>\n",
       "      <td>6408</td>\n",
       "      <td>241</td>\n",
       "      <td>1676</td>\n",
       "      <td>14.379475</td>\n",
       "      <td>14.0</td>\n",
       "      <td>Class_A</td>\n",
       "    </tr>\n",
       "    <tr>\n",
       "      <th>36674</th>\n",
       "      <td>103312863</td>\n",
       "      <td>5127</td>\n",
       "      <td>120</td>\n",
       "      <td>769</td>\n",
       "      <td>15.604681</td>\n",
       "      <td>16.0</td>\n",
       "      <td>Class_A</td>\n",
       "    </tr>\n",
       "    <tr>\n",
       "      <th>42962</th>\n",
       "      <td>103849933</td>\n",
       "      <td>2105</td>\n",
       "      <td>75</td>\n",
       "      <td>421</td>\n",
       "      <td>17.814727</td>\n",
       "      <td>18.0</td>\n",
       "      <td>Class_A</td>\n",
       "    </tr>\n",
       "    <tr>\n",
       "      <th>45626</th>\n",
       "      <td>104079182</td>\n",
       "      <td>6409</td>\n",
       "      <td>185</td>\n",
       "      <td>763</td>\n",
       "      <td>24.246396</td>\n",
       "      <td>24.0</td>\n",
       "      <td>Class_A</td>\n",
       "    </tr>\n",
       "    <tr>\n",
       "      <th>50181</th>\n",
       "      <td>104370698</td>\n",
       "      <td>6315</td>\n",
       "      <td>42</td>\n",
       "      <td>267</td>\n",
       "      <td>15.730337</td>\n",
       "      <td>16.0</td>\n",
       "      <td>Class_A</td>\n",
       "    </tr>\n",
       "    <tr>\n",
       "      <th>50359</th>\n",
       "      <td>104415170</td>\n",
       "      <td>2506</td>\n",
       "      <td>78</td>\n",
       "      <td>489</td>\n",
       "      <td>15.950920</td>\n",
       "      <td>16.0</td>\n",
       "      <td>Class_A</td>\n",
       "    </tr>\n",
       "    <tr>\n",
       "      <th>67944</th>\n",
       "      <td>105150199</td>\n",
       "      <td>3618</td>\n",
       "      <td>151</td>\n",
       "      <td>492</td>\n",
       "      <td>30.691057</td>\n",
       "      <td>31.0</td>\n",
       "      <td>Class_A</td>\n",
       "    </tr>\n",
       "    <tr>\n",
       "      <th>69671</th>\n",
       "      <td>105262890</td>\n",
       "      <td>5125</td>\n",
       "      <td>172</td>\n",
       "      <td>1165</td>\n",
       "      <td>14.763948</td>\n",
       "      <td>15.0</td>\n",
       "      <td>Class_A</td>\n",
       "    </tr>\n",
       "    <tr>\n",
       "      <th>77852</th>\n",
       "      <td>105737494</td>\n",
       "      <td>5126</td>\n",
       "      <td>34</td>\n",
       "      <td>163</td>\n",
       "      <td>20.858896</td>\n",
       "      <td>21.0</td>\n",
       "      <td>Class_A</td>\n",
       "    </tr>\n",
       "    <tr>\n",
       "      <th>83306</th>\n",
       "      <td>106120258</td>\n",
       "      <td>418</td>\n",
       "      <td>30</td>\n",
       "      <td>154</td>\n",
       "      <td>19.480519</td>\n",
       "      <td>19.0</td>\n",
       "      <td>Class_A</td>\n",
       "    </tr>\n",
       "    <tr>\n",
       "      <th>96391</th>\n",
       "      <td>106944049</td>\n",
       "      <td>501</td>\n",
       "      <td>20</td>\n",
       "      <td>98</td>\n",
       "      <td>20.408163</td>\n",
       "      <td>20.0</td>\n",
       "      <td>Class_A</td>\n",
       "    </tr>\n",
       "    <tr>\n",
       "      <th>101746</th>\n",
       "      <td>1073248526</td>\n",
       "      <td>9753</td>\n",
       "      <td>159</td>\n",
       "      <td>946</td>\n",
       "      <td>16.807611</td>\n",
       "      <td>17.0</td>\n",
       "      <td>Class_A</td>\n",
       "    </tr>\n",
       "    <tr>\n",
       "      <th>102356</th>\n",
       "      <td>107345069</td>\n",
       "      <td>9609</td>\n",
       "      <td>338</td>\n",
       "      <td>2384</td>\n",
       "      <td>14.177852</td>\n",
       "      <td>14.0</td>\n",
       "      <td>Class_A</td>\n",
       "    </tr>\n",
       "    <tr>\n",
       "      <th>107803</th>\n",
       "      <td>107733059</td>\n",
       "      <td>907</td>\n",
       "      <td>28</td>\n",
       "      <td>208</td>\n",
       "      <td>13.461538</td>\n",
       "      <td>13.0</td>\n",
       "      <td>Class_A</td>\n",
       "    </tr>\n",
       "    <tr>\n",
       "      <th>111581</th>\n",
       "      <td>1078792440</td>\n",
       "      <td>9753</td>\n",
       "      <td>355</td>\n",
       "      <td>2137</td>\n",
       "      <td>16.612073</td>\n",
       "      <td>17.0</td>\n",
       "      <td>Class_A</td>\n",
       "    </tr>\n",
       "    <tr>\n",
       "      <th>112360</th>\n",
       "      <td>107908162</td>\n",
       "      <td>9904</td>\n",
       "      <td>267</td>\n",
       "      <td>862</td>\n",
       "      <td>30.974478</td>\n",
       "      <td>31.0</td>\n",
       "      <td>Class_A</td>\n",
       "    </tr>\n",
       "    <tr>\n",
       "      <th>118128</th>\n",
       "      <td>108344921</td>\n",
       "      <td>2904</td>\n",
       "      <td>13</td>\n",
       "      <td>92</td>\n",
       "      <td>14.130435</td>\n",
       "      <td>14.0</td>\n",
       "      <td>Class_A</td>\n",
       "    </tr>\n",
       "    <tr>\n",
       "      <th>120072</th>\n",
       "      <td>108448122</td>\n",
       "      <td>3601</td>\n",
       "      <td>16</td>\n",
       "      <td>98</td>\n",
       "      <td>16.326531</td>\n",
       "      <td>16.0</td>\n",
       "      <td>Class_A</td>\n",
       "    </tr>\n",
       "    <tr>\n",
       "      <th>124785</th>\n",
       "      <td>108761761</td>\n",
       "      <td>6401</td>\n",
       "      <td>83</td>\n",
       "      <td>562</td>\n",
       "      <td>14.768683</td>\n",
       "      <td>15.0</td>\n",
       "      <td>Class_A</td>\n",
       "    </tr>\n",
       "    <tr>\n",
       "      <th>127822</th>\n",
       "      <td>109042370</td>\n",
       "      <td>5125</td>\n",
       "      <td>191</td>\n",
       "      <td>1343</td>\n",
       "      <td>14.221891</td>\n",
       "      <td>14.0</td>\n",
       "      <td>Class_A</td>\n",
       "    </tr>\n",
       "    <tr>\n",
       "      <th>128701</th>\n",
       "      <td>1091291758</td>\n",
       "      <td>9753</td>\n",
       "      <td>265</td>\n",
       "      <td>1503</td>\n",
       "      <td>17.631404</td>\n",
       "      <td>18.0</td>\n",
       "      <td>Class_A</td>\n",
       "    </tr>\n",
       "    <tr>\n",
       "      <th>130942</th>\n",
       "      <td>109566006</td>\n",
       "      <td>5125</td>\n",
       "      <td>185</td>\n",
       "      <td>1225</td>\n",
       "      <td>15.102041</td>\n",
       "      <td>15.0</td>\n",
       "      <td>Class_A</td>\n",
       "    </tr>\n",
       "    <tr>\n",
       "      <th>...</th>\n",
       "      <td>...</td>\n",
       "      <td>...</td>\n",
       "      <td>...</td>\n",
       "      <td>...</td>\n",
       "      <td>...</td>\n",
       "      <td>...</td>\n",
       "      <td>...</td>\n",
       "    </tr>\n",
       "    <tr>\n",
       "      <th>11858668</th>\n",
       "      <td>817874268</td>\n",
       "      <td>9753</td>\n",
       "      <td>258</td>\n",
       "      <td>1226</td>\n",
       "      <td>21.044046</td>\n",
       "      <td>21.0</td>\n",
       "      <td>Class_A</td>\n",
       "    </tr>\n",
       "    <tr>\n",
       "      <th>11864807</th>\n",
       "      <td>834799955</td>\n",
       "      <td>6315</td>\n",
       "      <td>42</td>\n",
       "      <td>300</td>\n",
       "      <td>14.000000</td>\n",
       "      <td>14.0</td>\n",
       "      <td>Class_A</td>\n",
       "    </tr>\n",
       "    <tr>\n",
       "      <th>11864825</th>\n",
       "      <td>834799955</td>\n",
       "      <td>9908</td>\n",
       "      <td>45</td>\n",
       "      <td>300</td>\n",
       "      <td>15.000000</td>\n",
       "      <td>15.0</td>\n",
       "      <td>Class_A</td>\n",
       "    </tr>\n",
       "    <tr>\n",
       "      <th>11869875</th>\n",
       "      <td>852268189</td>\n",
       "      <td>5125</td>\n",
       "      <td>87</td>\n",
       "      <td>533</td>\n",
       "      <td>16.322702</td>\n",
       "      <td>16.0</td>\n",
       "      <td>Class_A</td>\n",
       "    </tr>\n",
       "    <tr>\n",
       "      <th>11877350</th>\n",
       "      <td>863373290</td>\n",
       "      <td>9753</td>\n",
       "      <td>206</td>\n",
       "      <td>1061</td>\n",
       "      <td>19.415646</td>\n",
       "      <td>19.0</td>\n",
       "      <td>Class_A</td>\n",
       "    </tr>\n",
       "    <tr>\n",
       "      <th>11879229</th>\n",
       "      <td>864058080</td>\n",
       "      <td>5126</td>\n",
       "      <td>64</td>\n",
       "      <td>506</td>\n",
       "      <td>12.648221</td>\n",
       "      <td>13.0</td>\n",
       "      <td>Class_A</td>\n",
       "    </tr>\n",
       "    <tr>\n",
       "      <th>11887042</th>\n",
       "      <td>868370385</td>\n",
       "      <td>6401</td>\n",
       "      <td>492</td>\n",
       "      <td>3853</td>\n",
       "      <td>12.769271</td>\n",
       "      <td>13.0</td>\n",
       "      <td>Class_A</td>\n",
       "    </tr>\n",
       "    <tr>\n",
       "      <th>11889743</th>\n",
       "      <td>869269860</td>\n",
       "      <td>2704</td>\n",
       "      <td>156</td>\n",
       "      <td>1105</td>\n",
       "      <td>14.117647</td>\n",
       "      <td>14.0</td>\n",
       "      <td>Class_A</td>\n",
       "    </tr>\n",
       "    <tr>\n",
       "      <th>11895712</th>\n",
       "      <td>872049723</td>\n",
       "      <td>6401</td>\n",
       "      <td>351</td>\n",
       "      <td>2335</td>\n",
       "      <td>15.032120</td>\n",
       "      <td>15.0</td>\n",
       "      <td>Class_A</td>\n",
       "    </tr>\n",
       "    <tr>\n",
       "      <th>11899315</th>\n",
       "      <td>872846189</td>\n",
       "      <td>9753</td>\n",
       "      <td>241</td>\n",
       "      <td>1663</td>\n",
       "      <td>14.491882</td>\n",
       "      <td>14.0</td>\n",
       "      <td>Class_A</td>\n",
       "    </tr>\n",
       "    <tr>\n",
       "      <th>11905798</th>\n",
       "      <td>874013933</td>\n",
       "      <td>9753</td>\n",
       "      <td>243</td>\n",
       "      <td>1906</td>\n",
       "      <td>12.749213</td>\n",
       "      <td>13.0</td>\n",
       "      <td>Class_A</td>\n",
       "    </tr>\n",
       "    <tr>\n",
       "      <th>11907222</th>\n",
       "      <td>87423533</td>\n",
       "      <td>3618</td>\n",
       "      <td>41</td>\n",
       "      <td>153</td>\n",
       "      <td>26.797386</td>\n",
       "      <td>27.0</td>\n",
       "      <td>Class_A</td>\n",
       "    </tr>\n",
       "    <tr>\n",
       "      <th>11911415</th>\n",
       "      <td>875087896</td>\n",
       "      <td>9753</td>\n",
       "      <td>137</td>\n",
       "      <td>894</td>\n",
       "      <td>15.324385</td>\n",
       "      <td>15.0</td>\n",
       "      <td>Class_A</td>\n",
       "    </tr>\n",
       "    <tr>\n",
       "      <th>11914971</th>\n",
       "      <td>878487149</td>\n",
       "      <td>6312</td>\n",
       "      <td>33</td>\n",
       "      <td>260</td>\n",
       "      <td>12.692308</td>\n",
       "      <td>13.0</td>\n",
       "      <td>Class_A</td>\n",
       "    </tr>\n",
       "    <tr>\n",
       "      <th>11927675</th>\n",
       "      <td>898839529</td>\n",
       "      <td>7901</td>\n",
       "      <td>134</td>\n",
       "      <td>737</td>\n",
       "      <td>18.181818</td>\n",
       "      <td>18.0</td>\n",
       "      <td>Class_A</td>\n",
       "    </tr>\n",
       "    <tr>\n",
       "      <th>11936436</th>\n",
       "      <td>944697007</td>\n",
       "      <td>0</td>\n",
       "      <td>68</td>\n",
       "      <td>359</td>\n",
       "      <td>18.941504</td>\n",
       "      <td>19.0</td>\n",
       "      <td>Class_A</td>\n",
       "    </tr>\n",
       "    <tr>\n",
       "      <th>11936446</th>\n",
       "      <td>944697007</td>\n",
       "      <td>908</td>\n",
       "      <td>45</td>\n",
       "      <td>359</td>\n",
       "      <td>12.534819</td>\n",
       "      <td>13.0</td>\n",
       "      <td>Class_A</td>\n",
       "    </tr>\n",
       "    <tr>\n",
       "      <th>11937139</th>\n",
       "      <td>948271276</td>\n",
       "      <td>9609</td>\n",
       "      <td>209</td>\n",
       "      <td>1257</td>\n",
       "      <td>16.626889</td>\n",
       "      <td>17.0</td>\n",
       "      <td>Class_A</td>\n",
       "    </tr>\n",
       "    <tr>\n",
       "      <th>11937324</th>\n",
       "      <td>94953922</td>\n",
       "      <td>6401</td>\n",
       "      <td>107</td>\n",
       "      <td>687</td>\n",
       "      <td>15.574964</td>\n",
       "      <td>16.0</td>\n",
       "      <td>Class_A</td>\n",
       "    </tr>\n",
       "    <tr>\n",
       "      <th>11940172</th>\n",
       "      <td>96745376</td>\n",
       "      <td>2630</td>\n",
       "      <td>9</td>\n",
       "      <td>49</td>\n",
       "      <td>18.367347</td>\n",
       "      <td>18.0</td>\n",
       "      <td>Class_A</td>\n",
       "    </tr>\n",
       "    <tr>\n",
       "      <th>11940173</th>\n",
       "      <td>96745376</td>\n",
       "      <td>2633</td>\n",
       "      <td>7</td>\n",
       "      <td>49</td>\n",
       "      <td>14.285714</td>\n",
       "      <td>14.0</td>\n",
       "      <td>Class_A</td>\n",
       "    </tr>\n",
       "    <tr>\n",
       "      <th>11940177</th>\n",
       "      <td>96745376</td>\n",
       "      <td>6401</td>\n",
       "      <td>13</td>\n",
       "      <td>49</td>\n",
       "      <td>26.530612</td>\n",
       "      <td>27.0</td>\n",
       "      <td>Class_A</td>\n",
       "    </tr>\n",
       "    <tr>\n",
       "      <th>11944254</th>\n",
       "      <td>97234559</td>\n",
       "      <td>5128</td>\n",
       "      <td>31</td>\n",
       "      <td>233</td>\n",
       "      <td>13.304721</td>\n",
       "      <td>13.0</td>\n",
       "      <td>Class_A</td>\n",
       "    </tr>\n",
       "    <tr>\n",
       "      <th>11945032</th>\n",
       "      <td>97309678</td>\n",
       "      <td>9753</td>\n",
       "      <td>217</td>\n",
       "      <td>1372</td>\n",
       "      <td>15.816327</td>\n",
       "      <td>16.0</td>\n",
       "      <td>Class_A</td>\n",
       "    </tr>\n",
       "    <tr>\n",
       "      <th>11945949</th>\n",
       "      <td>97483202</td>\n",
       "      <td>3604</td>\n",
       "      <td>21</td>\n",
       "      <td>120</td>\n",
       "      <td>17.500000</td>\n",
       "      <td>18.0</td>\n",
       "      <td>Class_A</td>\n",
       "    </tr>\n",
       "    <tr>\n",
       "      <th>11948861</th>\n",
       "      <td>97904692</td>\n",
       "      <td>9904</td>\n",
       "      <td>72</td>\n",
       "      <td>463</td>\n",
       "      <td>15.550756</td>\n",
       "      <td>16.0</td>\n",
       "      <td>Class_A</td>\n",
       "    </tr>\n",
       "    <tr>\n",
       "      <th>11950022</th>\n",
       "      <td>98030569</td>\n",
       "      <td>6409</td>\n",
       "      <td>56</td>\n",
       "      <td>358</td>\n",
       "      <td>15.642458</td>\n",
       "      <td>16.0</td>\n",
       "      <td>Class_A</td>\n",
       "    </tr>\n",
       "    <tr>\n",
       "      <th>11950334</th>\n",
       "      <td>98075215</td>\n",
       "      <td>6315</td>\n",
       "      <td>12</td>\n",
       "      <td>77</td>\n",
       "      <td>15.584416</td>\n",
       "      <td>16.0</td>\n",
       "      <td>Class_A</td>\n",
       "    </tr>\n",
       "    <tr>\n",
       "      <th>11954050</th>\n",
       "      <td>98440819</td>\n",
       "      <td>501</td>\n",
       "      <td>12</td>\n",
       "      <td>71</td>\n",
       "      <td>16.901408</td>\n",
       "      <td>17.0</td>\n",
       "      <td>Class_A</td>\n",
       "    </tr>\n",
       "    <tr>\n",
       "      <th>11957486</th>\n",
       "      <td>98985536</td>\n",
       "      <td>5125</td>\n",
       "      <td>201</td>\n",
       "      <td>1409</td>\n",
       "      <td>14.265436</td>\n",
       "      <td>14.0</td>\n",
       "      <td>Class_A</td>\n",
       "    </tr>\n",
       "  </tbody>\n",
       "</table>\n",
       "<p>8640 rows × 7 columns</p>\n",
       "</div>"
      ],
      "text/plain": [
       "             cust_id  category  combination  visits   affinity  \\\n",
       "2818       100413035      6315           35     186  18.817204   \n",
       "14319     1017711885      9908           65     423  15.366430   \n",
       "20970      102272269      5127            8      42  19.047619   \n",
       "24530      102569751      5609           37     191  19.371728   \n",
       "27596      102780068       501           75     599  12.520868   \n",
       "29685      102893227      6315           28     214  13.084112   \n",
       "29712      102900714      2709          137     875  15.657143   \n",
       "30088      102970463      9753            2       8  25.000000   \n",
       "31146      103015314      6408          241    1676  14.379475   \n",
       "36674      103312863      5127          120     769  15.604681   \n",
       "42962      103849933      2105           75     421  17.814727   \n",
       "45626      104079182      6409          185     763  24.246396   \n",
       "50181      104370698      6315           42     267  15.730337   \n",
       "50359      104415170      2506           78     489  15.950920   \n",
       "67944      105150199      3618          151     492  30.691057   \n",
       "69671      105262890      5125          172    1165  14.763948   \n",
       "77852      105737494      5126           34     163  20.858896   \n",
       "83306      106120258       418           30     154  19.480519   \n",
       "96391      106944049       501           20      98  20.408163   \n",
       "101746    1073248526      9753          159     946  16.807611   \n",
       "102356     107345069      9609          338    2384  14.177852   \n",
       "107803     107733059       907           28     208  13.461538   \n",
       "111581    1078792440      9753          355    2137  16.612073   \n",
       "112360     107908162      9904          267     862  30.974478   \n",
       "118128     108344921      2904           13      92  14.130435   \n",
       "120072     108448122      3601           16      98  16.326531   \n",
       "124785     108761761      6401           83     562  14.768683   \n",
       "127822     109042370      5125          191    1343  14.221891   \n",
       "128701    1091291758      9753          265    1503  17.631404   \n",
       "130942     109566006      5125          185    1225  15.102041   \n",
       "...              ...       ...          ...     ...        ...   \n",
       "11858668   817874268      9753          258    1226  21.044046   \n",
       "11864807   834799955      6315           42     300  14.000000   \n",
       "11864825   834799955      9908           45     300  15.000000   \n",
       "11869875   852268189      5125           87     533  16.322702   \n",
       "11877350   863373290      9753          206    1061  19.415646   \n",
       "11879229   864058080      5126           64     506  12.648221   \n",
       "11887042   868370385      6401          492    3853  12.769271   \n",
       "11889743   869269860      2704          156    1105  14.117647   \n",
       "11895712   872049723      6401          351    2335  15.032120   \n",
       "11899315   872846189      9753          241    1663  14.491882   \n",
       "11905798   874013933      9753          243    1906  12.749213   \n",
       "11907222    87423533      3618           41     153  26.797386   \n",
       "11911415   875087896      9753          137     894  15.324385   \n",
       "11914971   878487149      6312           33     260  12.692308   \n",
       "11927675   898839529      7901          134     737  18.181818   \n",
       "11936436   944697007         0           68     359  18.941504   \n",
       "11936446   944697007       908           45     359  12.534819   \n",
       "11937139   948271276      9609          209    1257  16.626889   \n",
       "11937324    94953922      6401          107     687  15.574964   \n",
       "11940172    96745376      2630            9      49  18.367347   \n",
       "11940173    96745376      2633            7      49  14.285714   \n",
       "11940177    96745376      6401           13      49  26.530612   \n",
       "11944254    97234559      5128           31     233  13.304721   \n",
       "11945032    97309678      9753          217    1372  15.816327   \n",
       "11945949    97483202      3604           21     120  17.500000   \n",
       "11948861    97904692      9904           72     463  15.550756   \n",
       "11950022    98030569      6409           56     358  15.642458   \n",
       "11950334    98075215      6315           12      77  15.584416   \n",
       "11954050    98440819       501           12      71  16.901408   \n",
       "11957486    98985536      5125          201    1409  14.265436   \n",
       "\n",
       "          affinity_round    class  \n",
       "2818                19.0  Class_A  \n",
       "14319               15.0  Class_A  \n",
       "20970               19.0  Class_A  \n",
       "24530               19.0  Class_A  \n",
       "27596               13.0  Class_A  \n",
       "29685               13.0  Class_A  \n",
       "29712               16.0  Class_A  \n",
       "30088               25.0  Class_A  \n",
       "31146               14.0  Class_A  \n",
       "36674               16.0  Class_A  \n",
       "42962               18.0  Class_A  \n",
       "45626               24.0  Class_A  \n",
       "50181               16.0  Class_A  \n",
       "50359               16.0  Class_A  \n",
       "67944               31.0  Class_A  \n",
       "69671               15.0  Class_A  \n",
       "77852               21.0  Class_A  \n",
       "83306               19.0  Class_A  \n",
       "96391               20.0  Class_A  \n",
       "101746              17.0  Class_A  \n",
       "102356              14.0  Class_A  \n",
       "107803              13.0  Class_A  \n",
       "111581              17.0  Class_A  \n",
       "112360              31.0  Class_A  \n",
       "118128              14.0  Class_A  \n",
       "120072              16.0  Class_A  \n",
       "124785              15.0  Class_A  \n",
       "127822              14.0  Class_A  \n",
       "128701              18.0  Class_A  \n",
       "130942              15.0  Class_A  \n",
       "...                  ...      ...  \n",
       "11858668            21.0  Class_A  \n",
       "11864807            14.0  Class_A  \n",
       "11864825            15.0  Class_A  \n",
       "11869875            16.0  Class_A  \n",
       "11877350            19.0  Class_A  \n",
       "11879229            13.0  Class_A  \n",
       "11887042            13.0  Class_A  \n",
       "11889743            14.0  Class_A  \n",
       "11895712            15.0  Class_A  \n",
       "11899315            14.0  Class_A  \n",
       "11905798            13.0  Class_A  \n",
       "11907222            27.0  Class_A  \n",
       "11911415            15.0  Class_A  \n",
       "11914971            13.0  Class_A  \n",
       "11927675            18.0  Class_A  \n",
       "11936436            19.0  Class_A  \n",
       "11936446            13.0  Class_A  \n",
       "11937139            17.0  Class_A  \n",
       "11937324            16.0  Class_A  \n",
       "11940172            18.0  Class_A  \n",
       "11940173            14.0  Class_A  \n",
       "11940177            27.0  Class_A  \n",
       "11944254            13.0  Class_A  \n",
       "11945032            16.0  Class_A  \n",
       "11945949            18.0  Class_A  \n",
       "11948861            16.0  Class_A  \n",
       "11950022            16.0  Class_A  \n",
       "11950334            16.0  Class_A  \n",
       "11954050            17.0  Class_A  \n",
       "11957486            14.0  Class_A  \n",
       "\n",
       "[8640 rows x 7 columns]"
      ]
     },
     "execution_count": 119,
     "metadata": {},
     "output_type": "execute_result"
    }
   ],
   "source": [
    "#affinity_df.query('affinity_round >= 13')"
   ]
  },
  {
   "cell_type": "code",
   "execution_count": 120,
   "metadata": {
    "collapsed": false
   },
   "outputs": [
    {
     "data": {
      "text/plain": [
       "(11965910, 7)"
      ]
     },
     "execution_count": 120,
     "metadata": {},
     "output_type": "execute_result"
    }
   ],
   "source": [
    "affinity_df.shape"
   ]
  },
  {
   "cell_type": "code",
   "execution_count": 121,
   "metadata": {
    "collapsed": false
   },
   "outputs": [
    {
     "data": {
      "text/plain": [
       "62301"
      ]
     },
     "execution_count": 121,
     "metadata": {},
     "output_type": "execute_result"
    }
   ],
   "source": [
    "len(affinity_df.cust_id.unique())"
   ]
  },
  {
   "cell_type": "code",
   "execution_count": null,
   "metadata": {
    "collapsed": true
   },
   "outputs": [],
   "source": []
  },
  {
   "cell_type": "code",
   "execution_count": null,
   "metadata": {
    "collapsed": true
   },
   "outputs": [],
   "source": []
  }
 ],
 "metadata": {
  "kernelspec": {
   "display_name": "Python 2",
   "language": "python",
   "name": "python2"
  },
  "language_info": {
   "codemirror_mode": {
    "name": "ipython",
    "version": 2
   },
   "file_extension": ".py",
   "mimetype": "text/x-python",
   "name": "python",
   "nbconvert_exporter": "python",
   "pygments_lexer": "ipython2",
   "version": "2.7.11"
  }
 },
 "nbformat": 4,
 "nbformat_minor": 0
}
