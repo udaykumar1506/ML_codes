{
 "cells": [
  {
   "cell_type": "code",
   "execution_count": 1,
   "metadata": {
    "collapsed": false
   },
   "outputs": [],
   "source": [
    "##cd"
   ]
  },
  {
   "cell_type": "code",
   "execution_count": 2,
   "metadata": {
    "collapsed": false
   },
   "outputs": [],
   "source": [
    "from DemoServerDB import ConnectDatabase\n",
    "from mapping import doc"
   ]
  },
  {
   "cell_type": "code",
   "execution_count": 3,
   "metadata": {
    "collapsed": false
   },
   "outputs": [],
   "source": [
    "temp = ConnectDatabase()"
   ]
  },
  {
   "cell_type": "code",
   "execution_count": 4,
   "metadata": {
    "collapsed": false
   },
   "outputs": [
    {
     "data": {
      "text/plain": [
       "<connection object at 0x7fdedc3b9280; dsn: 'dbname=postgres_trans user=client3 password=xxxxxxxxx host=postgrestrans.c3yxphqgag3s.ap-southeast-1.rds.amazonaws.com port=5432 sslmode=require', closed: 0>"
      ]
     },
     "execution_count": 4,
     "metadata": {},
     "output_type": "execute_result"
    }
   ],
   "source": [
    "temp.conn"
   ]
  },
  {
   "cell_type": "code",
   "execution_count": 5,
   "metadata": {
    "collapsed": false
   },
   "outputs": [
    {
     "data": {
      "text/plain": [
       "{'cust_id': 'userid',\n",
       " 'product_id': 'product_id',\n",
       " 'quantity': 'quantity',\n",
       " 'renewal': 'renewal',\n",
       " 'revenue': 'revenue',\n",
       " 'timestamp': 'purchase_date'}"
      ]
     },
     "execution_count": 5,
     "metadata": {},
     "output_type": "execute_result"
    }
   ],
   "source": [
    "doc['column_map']['TRANSACTION_MASTER']"
   ]
  },
  {
   "cell_type": "code",
   "execution_count": 6,
   "metadata": {
    "collapsed": false
   },
   "outputs": [],
   "source": [
    "query = 'SELECT \"%s\",\"%s\",\"%s\" FROM \"%s\"'%(doc['column_map']['TRANSACTION_MASTER']['cust_id'],\n",
    "                                           doc['column_map']['TRANSACTION_MASTER']['product_id'],\n",
    "                                           doc['column_map']['TRANSACTION_MASTER']['timestamp'],\n",
    "                                           doc['table_map']['TRANSACTION_MASTER'])"
   ]
  },
  {
   "cell_type": "code",
   "execution_count": 7,
   "metadata": {
    "collapsed": false
   },
   "outputs": [
    {
     "name": "stdout",
     "output_type": "stream",
     "text": [
      "SELECT \"userid\",\"product_id\",\"purchase_date\" FROM \"trans\"\n"
     ]
    }
   ],
   "source": [
    "print query"
   ]
  },
  {
   "cell_type": "code",
   "execution_count": 8,
   "metadata": {
    "collapsed": true
   },
   "outputs": [],
   "source": [
    "temp.conn.rollback()"
   ]
  },
  {
   "cell_type": "code",
   "execution_count": 9,
   "metadata": {
    "collapsed": true
   },
   "outputs": [],
   "source": [
    "temp.cur.execute(query)"
   ]
  },
  {
   "cell_type": "code",
   "execution_count": 10,
   "metadata": {
    "collapsed": true
   },
   "outputs": [],
   "source": [
    "col_names = [desc[0] for desc in temp.cur.description]"
   ]
  },
  {
   "cell_type": "code",
   "execution_count": 11,
   "metadata": {
    "collapsed": false
   },
   "outputs": [
    {
     "data": {
      "text/plain": [
       "['userid', 'product_id', 'purchase_date']"
      ]
     },
     "execution_count": 11,
     "metadata": {},
     "output_type": "execute_result"
    }
   ],
   "source": [
    "col_names"
   ]
  },
  {
   "cell_type": "code",
   "execution_count": 12,
   "metadata": {
    "collapsed": true
   },
   "outputs": [],
   "source": [
    "import pandas as pd\n",
    "import numpy as np"
   ]
  },
  {
   "cell_type": "code",
   "execution_count": 13,
   "metadata": {
    "collapsed": true
   },
   "outputs": [],
   "source": [
    "trans_table = pd.DataFrame(temp.cur.fetchall(), columns=col_names)"
   ]
  },
  {
   "cell_type": "code",
   "execution_count": 14,
   "metadata": {
    "collapsed": false
   },
   "outputs": [
    {
     "data": {
      "text/html": [
       "<div>\n",
       "<table border=\"1\" class=\"dataframe\">\n",
       "  <thead>\n",
       "    <tr style=\"text-align: right;\">\n",
       "      <th></th>\n",
       "      <th>userid</th>\n",
       "      <th>product_id</th>\n",
       "      <th>purchase_date</th>\n",
       "    </tr>\n",
       "  </thead>\n",
       "  <tbody>\n",
       "    <tr>\n",
       "      <th>0</th>\n",
       "      <td>6093827</td>\n",
       "      <td>com.gopaktor.subscription.v4.premium.1m</td>\n",
       "      <td>2016-09-07 02:25:39</td>\n",
       "    </tr>\n",
       "    <tr>\n",
       "      <th>1</th>\n",
       "      <td>110380</td>\n",
       "      <td>com.gopaktor.subscription.v4.premium.1m</td>\n",
       "      <td>2016-07-07 17:54:01</td>\n",
       "    </tr>\n",
       "    <tr>\n",
       "      <th>2</th>\n",
       "      <td>131057</td>\n",
       "      <td>com.gopaktor.subscription.v4.premium.1m</td>\n",
       "      <td>2016-06-10 17:54:00</td>\n",
       "    </tr>\n",
       "    <tr>\n",
       "      <th>3</th>\n",
       "      <td>133977</td>\n",
       "      <td>com.gopaktor.subscription.v4.premium.1m</td>\n",
       "      <td>2016-07-27 18:53:07</td>\n",
       "    </tr>\n",
       "    <tr>\n",
       "      <th>4</th>\n",
       "      <td>171879</td>\n",
       "      <td>com.gopaktor.subscription.v4.premium.1m</td>\n",
       "      <td>2016-07-06 10:18:42</td>\n",
       "    </tr>\n",
       "  </tbody>\n",
       "</table>\n",
       "</div>"
      ],
      "text/plain": [
       "    userid                               product_id        purchase_date\n",
       "0  6093827  com.gopaktor.subscription.v4.premium.1m  2016-09-07 02:25:39\n",
       "1   110380  com.gopaktor.subscription.v4.premium.1m  2016-07-07 17:54:01\n",
       "2   131057  com.gopaktor.subscription.v4.premium.1m  2016-06-10 17:54:00\n",
       "3   133977  com.gopaktor.subscription.v4.premium.1m  2016-07-27 18:53:07\n",
       "4   171879  com.gopaktor.subscription.v4.premium.1m  2016-07-06 10:18:42"
      ]
     },
     "execution_count": 14,
     "metadata": {},
     "output_type": "execute_result"
    }
   ],
   "source": [
    "trans_table.head()"
   ]
  },
  {
   "cell_type": "code",
   "execution_count": 15,
   "metadata": {
    "collapsed": true
   },
   "outputs": [],
   "source": [
    "trans_table.rename(columns={doc['column_map']['TRANSACTION_MASTER']['cust_id']:'cust_id'},inplace=True)\n",
    "trans_table.rename(columns={doc['column_map']['TRANSACTION_MASTER']['product_id']:'product_id'},inplace=True)\n",
    "trans_table.rename(columns={doc['column_map']['TRANSACTION_MASTER']['timestamp']:'timestamp'},inplace=True)"
   ]
  },
  {
   "cell_type": "code",
   "execution_count": 16,
   "metadata": {
    "collapsed": false
   },
   "outputs": [
    {
     "data": {
      "text/html": [
       "<div>\n",
       "<table border=\"1\" class=\"dataframe\">\n",
       "  <thead>\n",
       "    <tr style=\"text-align: right;\">\n",
       "      <th></th>\n",
       "      <th>cust_id</th>\n",
       "      <th>product_id</th>\n",
       "      <th>timestamp</th>\n",
       "    </tr>\n",
       "  </thead>\n",
       "  <tbody>\n",
       "    <tr>\n",
       "      <th>0</th>\n",
       "      <td>6093827</td>\n",
       "      <td>com.gopaktor.subscription.v4.premium.1m</td>\n",
       "      <td>2016-09-07 02:25:39</td>\n",
       "    </tr>\n",
       "    <tr>\n",
       "      <th>1</th>\n",
       "      <td>110380</td>\n",
       "      <td>com.gopaktor.subscription.v4.premium.1m</td>\n",
       "      <td>2016-07-07 17:54:01</td>\n",
       "    </tr>\n",
       "    <tr>\n",
       "      <th>2</th>\n",
       "      <td>131057</td>\n",
       "      <td>com.gopaktor.subscription.v4.premium.1m</td>\n",
       "      <td>2016-06-10 17:54:00</td>\n",
       "    </tr>\n",
       "    <tr>\n",
       "      <th>3</th>\n",
       "      <td>133977</td>\n",
       "      <td>com.gopaktor.subscription.v4.premium.1m</td>\n",
       "      <td>2016-07-27 18:53:07</td>\n",
       "    </tr>\n",
       "    <tr>\n",
       "      <th>4</th>\n",
       "      <td>171879</td>\n",
       "      <td>com.gopaktor.subscription.v4.premium.1m</td>\n",
       "      <td>2016-07-06 10:18:42</td>\n",
       "    </tr>\n",
       "  </tbody>\n",
       "</table>\n",
       "</div>"
      ],
      "text/plain": [
       "   cust_id                               product_id            timestamp\n",
       "0  6093827  com.gopaktor.subscription.v4.premium.1m  2016-09-07 02:25:39\n",
       "1   110380  com.gopaktor.subscription.v4.premium.1m  2016-07-07 17:54:01\n",
       "2   131057  com.gopaktor.subscription.v4.premium.1m  2016-06-10 17:54:00\n",
       "3   133977  com.gopaktor.subscription.v4.premium.1m  2016-07-27 18:53:07\n",
       "4   171879  com.gopaktor.subscription.v4.premium.1m  2016-07-06 10:18:42"
      ]
     },
     "execution_count": 16,
     "metadata": {},
     "output_type": "execute_result"
    }
   ],
   "source": [
    "trans_table.head()"
   ]
  },
  {
   "cell_type": "code",
   "execution_count": 17,
   "metadata": {
    "collapsed": true
   },
   "outputs": [],
   "source": [
    "trans_table['timestamp'] = pd.to_datetime(trans_table['timestamp'])"
   ]
  },
  {
   "cell_type": "code",
   "execution_count": 18,
   "metadata": {
    "collapsed": false
   },
   "outputs": [
    {
     "data": {
      "text/plain": [
       "pandas.tslib.Timestamp"
      ]
     },
     "execution_count": 18,
     "metadata": {},
     "output_type": "execute_result"
    }
   ],
   "source": [
    "type(trans_table.timestamp[500])"
   ]
  },
  {
   "cell_type": "code",
   "execution_count": 19,
   "metadata": {
    "collapsed": false
   },
   "outputs": [
    {
     "data": {
      "text/plain": [
       "(1831, 3)"
      ]
     },
     "execution_count": 19,
     "metadata": {},
     "output_type": "execute_result"
    }
   ],
   "source": [
    "trans_table.shape"
   ]
  },
  {
   "cell_type": "code",
   "execution_count": 20,
   "metadata": {
    "collapsed": false
   },
   "outputs": [
    {
     "data": {
      "text/plain": [
       "1042"
      ]
     },
     "execution_count": 20,
     "metadata": {},
     "output_type": "execute_result"
    }
   ],
   "source": [
    "len(trans_table.cust_id.unique())"
   ]
  },
  {
   "cell_type": "code",
   "execution_count": 21,
   "metadata": {
    "collapsed": false
   },
   "outputs": [
    {
     "data": {
      "text/plain": [
       "22"
      ]
     },
     "execution_count": 21,
     "metadata": {},
     "output_type": "execute_result"
    }
   ],
   "source": [
    "len(trans_table.product_id.unique())"
   ]
  },
  {
   "cell_type": "code",
   "execution_count": 22,
   "metadata": {
    "collapsed": true
   },
   "outputs": [],
   "source": [
    "cust_prod = trans_table[['cust_id', 'product_id']]"
   ]
  },
  {
   "cell_type": "code",
   "execution_count": 23,
   "metadata": {
    "collapsed": false
   },
   "outputs": [],
   "source": [
    "group_data = trans_table.groupby(['cust_id', 'product_id']).size().reset_index().rename(columns={0:'counter'})"
   ]
  },
  {
   "cell_type": "code",
   "execution_count": 24,
   "metadata": {
    "collapsed": false
   },
   "outputs": [
    {
     "data": {
      "text/html": [
       "<div>\n",
       "<table border=\"1\" class=\"dataframe\">\n",
       "  <thead>\n",
       "    <tr style=\"text-align: right;\">\n",
       "      <th></th>\n",
       "      <th>cust_id</th>\n",
       "      <th>product_id</th>\n",
       "      <th>counter</th>\n",
       "    </tr>\n",
       "  </thead>\n",
       "  <tbody>\n",
       "    <tr>\n",
       "      <th>0</th>\n",
       "      <td>10319</td>\n",
       "      <td>com.gopaktor.subscription.v1.premium.1m</td>\n",
       "      <td>3</td>\n",
       "    </tr>\n",
       "    <tr>\n",
       "      <th>1</th>\n",
       "      <td>105945</td>\n",
       "      <td>com.gopaktor.subscription.v1.premium.1m</td>\n",
       "      <td>3</td>\n",
       "    </tr>\n",
       "    <tr>\n",
       "      <th>2</th>\n",
       "      <td>10939</td>\n",
       "      <td>com.gopaktor.subscription.v1.premium.1m</td>\n",
       "      <td>4</td>\n",
       "    </tr>\n",
       "    <tr>\n",
       "      <th>3</th>\n",
       "      <td>110380</td>\n",
       "      <td>com.gopaktor.subscription.v12.premium.3m</td>\n",
       "      <td>1</td>\n",
       "    </tr>\n",
       "    <tr>\n",
       "      <th>4</th>\n",
       "      <td>110380</td>\n",
       "      <td>com.gopaktor.subscription.v4.premium.1m</td>\n",
       "      <td>2</td>\n",
       "    </tr>\n",
       "  </tbody>\n",
       "</table>\n",
       "</div>"
      ],
      "text/plain": [
       "  cust_id                                product_id  counter\n",
       "0   10319   com.gopaktor.subscription.v1.premium.1m        3\n",
       "1  105945   com.gopaktor.subscription.v1.premium.1m        3\n",
       "2   10939   com.gopaktor.subscription.v1.premium.1m        4\n",
       "3  110380  com.gopaktor.subscription.v12.premium.3m        1\n",
       "4  110380   com.gopaktor.subscription.v4.premium.1m        2"
      ]
     },
     "execution_count": 24,
     "metadata": {},
     "output_type": "execute_result"
    }
   ],
   "source": [
    "group_data.head()"
   ]
  },
  {
   "cell_type": "code",
   "execution_count": 25,
   "metadata": {
    "collapsed": false
   },
   "outputs": [
    {
     "data": {
      "text/plain": [
       "(1140, 3)"
      ]
     },
     "execution_count": 25,
     "metadata": {},
     "output_type": "execute_result"
    }
   ],
   "source": [
    "group_data.shape"
   ]
  },
  {
   "cell_type": "code",
   "execution_count": 26,
   "metadata": {
    "collapsed": false
   },
   "outputs": [],
   "source": [
    "repeated_data = group_data.query('counter != 1')"
   ]
  },
  {
   "cell_type": "code",
   "execution_count": 27,
   "metadata": {
    "collapsed": false
   },
   "outputs": [
    {
     "data": {
      "text/html": [
       "<div>\n",
       "<table border=\"1\" class=\"dataframe\">\n",
       "  <thead>\n",
       "    <tr style=\"text-align: right;\">\n",
       "      <th></th>\n",
       "      <th>cust_id</th>\n",
       "      <th>product_id</th>\n",
       "      <th>counter</th>\n",
       "    </tr>\n",
       "  </thead>\n",
       "  <tbody>\n",
       "    <tr>\n",
       "      <th>0</th>\n",
       "      <td>10319</td>\n",
       "      <td>com.gopaktor.subscription.v1.premium.1m</td>\n",
       "      <td>3</td>\n",
       "    </tr>\n",
       "    <tr>\n",
       "      <th>1</th>\n",
       "      <td>105945</td>\n",
       "      <td>com.gopaktor.subscription.v1.premium.1m</td>\n",
       "      <td>3</td>\n",
       "    </tr>\n",
       "    <tr>\n",
       "      <th>2</th>\n",
       "      <td>10939</td>\n",
       "      <td>com.gopaktor.subscription.v1.premium.1m</td>\n",
       "      <td>4</td>\n",
       "    </tr>\n",
       "    <tr>\n",
       "      <th>4</th>\n",
       "      <td>110380</td>\n",
       "      <td>com.gopaktor.subscription.v4.premium.1m</td>\n",
       "      <td>2</td>\n",
       "    </tr>\n",
       "    <tr>\n",
       "      <th>7</th>\n",
       "      <td>118179</td>\n",
       "      <td>com.gopaktor.subscription.v1.premium.1m</td>\n",
       "      <td>4</td>\n",
       "    </tr>\n",
       "  </tbody>\n",
       "</table>\n",
       "</div>"
      ],
      "text/plain": [
       "  cust_id                               product_id  counter\n",
       "0   10319  com.gopaktor.subscription.v1.premium.1m        3\n",
       "1  105945  com.gopaktor.subscription.v1.premium.1m        3\n",
       "2   10939  com.gopaktor.subscription.v1.premium.1m        4\n",
       "4  110380  com.gopaktor.subscription.v4.premium.1m        2\n",
       "7  118179  com.gopaktor.subscription.v1.premium.1m        4"
      ]
     },
     "execution_count": 27,
     "metadata": {},
     "output_type": "execute_result"
    }
   ],
   "source": [
    "repeated_data.head()"
   ]
  },
  {
   "cell_type": "code",
   "execution_count": 28,
   "metadata": {
    "collapsed": false
   },
   "outputs": [
    {
     "data": {
      "text/plain": [
       "356"
      ]
     },
     "execution_count": 28,
     "metadata": {},
     "output_type": "execute_result"
    }
   ],
   "source": [
    "len(repeated_data.cust_id.unique())"
   ]
  },
  {
   "cell_type": "code",
   "execution_count": 29,
   "metadata": {
    "collapsed": false
   },
   "outputs": [
    {
     "data": {
      "text/plain": [
       "15"
      ]
     },
     "execution_count": 29,
     "metadata": {},
     "output_type": "execute_result"
    }
   ],
   "source": [
    "len(repeated_data.product_id.unique())"
   ]
  },
  {
   "cell_type": "code",
   "execution_count": 30,
   "metadata": {
    "collapsed": false
   },
   "outputs": [
    {
     "data": {
      "text/html": [
       "<div>\n",
       "<table border=\"1\" class=\"dataframe\">\n",
       "  <thead>\n",
       "    <tr style=\"text-align: right;\">\n",
       "      <th></th>\n",
       "      <th>cust_id</th>\n",
       "      <th>product_id</th>\n",
       "      <th>counter</th>\n",
       "    </tr>\n",
       "  </thead>\n",
       "  <tbody>\n",
       "    <tr>\n",
       "      <th>0</th>\n",
       "      <td>10319</td>\n",
       "      <td>com.gopaktor.subscription.v1.premium.1m</td>\n",
       "      <td>3</td>\n",
       "    </tr>\n",
       "    <tr>\n",
       "      <th>1</th>\n",
       "      <td>105945</td>\n",
       "      <td>com.gopaktor.subscription.v1.premium.1m</td>\n",
       "      <td>3</td>\n",
       "    </tr>\n",
       "    <tr>\n",
       "      <th>2</th>\n",
       "      <td>10939</td>\n",
       "      <td>com.gopaktor.subscription.v1.premium.1m</td>\n",
       "      <td>4</td>\n",
       "    </tr>\n",
       "    <tr>\n",
       "      <th>4</th>\n",
       "      <td>110380</td>\n",
       "      <td>com.gopaktor.subscription.v4.premium.1m</td>\n",
       "      <td>2</td>\n",
       "    </tr>\n",
       "    <tr>\n",
       "      <th>7</th>\n",
       "      <td>118179</td>\n",
       "      <td>com.gopaktor.subscription.v1.premium.1m</td>\n",
       "      <td>4</td>\n",
       "    </tr>\n",
       "  </tbody>\n",
       "</table>\n",
       "</div>"
      ],
      "text/plain": [
       "  cust_id                               product_id  counter\n",
       "0   10319  com.gopaktor.subscription.v1.premium.1m        3\n",
       "1  105945  com.gopaktor.subscription.v1.premium.1m        3\n",
       "2   10939  com.gopaktor.subscription.v1.premium.1m        4\n",
       "4  110380  com.gopaktor.subscription.v4.premium.1m        2\n",
       "7  118179  com.gopaktor.subscription.v1.premium.1m        4"
      ]
     },
     "execution_count": 30,
     "metadata": {},
     "output_type": "execute_result"
    }
   ],
   "source": [
    "repeated_data.head()"
   ]
  },
  {
   "cell_type": "code",
   "execution_count": 31,
   "metadata": {
    "collapsed": false
   },
   "outputs": [
    {
     "data": {
      "text/html": [
       "<div>\n",
       "<table border=\"1\" class=\"dataframe\">\n",
       "  <thead>\n",
       "    <tr style=\"text-align: right;\">\n",
       "      <th></th>\n",
       "      <th>cust_id</th>\n",
       "      <th>product_id</th>\n",
       "      <th>timestamp</th>\n",
       "    </tr>\n",
       "  </thead>\n",
       "  <tbody>\n",
       "    <tr>\n",
       "      <th>0</th>\n",
       "      <td>6093827</td>\n",
       "      <td>com.gopaktor.subscription.v4.premium.1m</td>\n",
       "      <td>2016-09-07 02:25:39</td>\n",
       "    </tr>\n",
       "    <tr>\n",
       "      <th>1</th>\n",
       "      <td>110380</td>\n",
       "      <td>com.gopaktor.subscription.v4.premium.1m</td>\n",
       "      <td>2016-07-07 17:54:01</td>\n",
       "    </tr>\n",
       "    <tr>\n",
       "      <th>2</th>\n",
       "      <td>131057</td>\n",
       "      <td>com.gopaktor.subscription.v4.premium.1m</td>\n",
       "      <td>2016-06-10 17:54:00</td>\n",
       "    </tr>\n",
       "    <tr>\n",
       "      <th>3</th>\n",
       "      <td>133977</td>\n",
       "      <td>com.gopaktor.subscription.v4.premium.1m</td>\n",
       "      <td>2016-07-27 18:53:07</td>\n",
       "    </tr>\n",
       "    <tr>\n",
       "      <th>4</th>\n",
       "      <td>171879</td>\n",
       "      <td>com.gopaktor.subscription.v4.premium.1m</td>\n",
       "      <td>2016-07-06 10:18:42</td>\n",
       "    </tr>\n",
       "  </tbody>\n",
       "</table>\n",
       "</div>"
      ],
      "text/plain": [
       "   cust_id                               product_id           timestamp\n",
       "0  6093827  com.gopaktor.subscription.v4.premium.1m 2016-09-07 02:25:39\n",
       "1   110380  com.gopaktor.subscription.v4.premium.1m 2016-07-07 17:54:01\n",
       "2   131057  com.gopaktor.subscription.v4.premium.1m 2016-06-10 17:54:00\n",
       "3   133977  com.gopaktor.subscription.v4.premium.1m 2016-07-27 18:53:07\n",
       "4   171879  com.gopaktor.subscription.v4.premium.1m 2016-07-06 10:18:42"
      ]
     },
     "execution_count": 31,
     "metadata": {},
     "output_type": "execute_result"
    }
   ],
   "source": [
    "trans_table.head()"
   ]
  },
  {
   "cell_type": "code",
   "execution_count": 32,
   "metadata": {
    "collapsed": false
   },
   "outputs": [],
   "source": [
    "xyz = pd.merge(trans_table, repeated_data, on=['cust_id', 'product_id'], how='left')"
   ]
  },
  {
   "cell_type": "code",
   "execution_count": 33,
   "metadata": {
    "collapsed": false
   },
   "outputs": [
    {
     "data": {
      "text/html": [
       "<div>\n",
       "<table border=\"1\" class=\"dataframe\">\n",
       "  <thead>\n",
       "    <tr style=\"text-align: right;\">\n",
       "      <th></th>\n",
       "      <th>cust_id</th>\n",
       "      <th>product_id</th>\n",
       "      <th>timestamp</th>\n",
       "      <th>counter</th>\n",
       "    </tr>\n",
       "  </thead>\n",
       "  <tbody>\n",
       "    <tr>\n",
       "      <th>0</th>\n",
       "      <td>6093827</td>\n",
       "      <td>com.gopaktor.subscription.v4.premium.1m</td>\n",
       "      <td>2016-09-07 02:25:39</td>\n",
       "      <td>2.0</td>\n",
       "    </tr>\n",
       "    <tr>\n",
       "      <th>1</th>\n",
       "      <td>110380</td>\n",
       "      <td>com.gopaktor.subscription.v4.premium.1m</td>\n",
       "      <td>2016-07-07 17:54:01</td>\n",
       "      <td>2.0</td>\n",
       "    </tr>\n",
       "    <tr>\n",
       "      <th>2</th>\n",
       "      <td>131057</td>\n",
       "      <td>com.gopaktor.subscription.v4.premium.1m</td>\n",
       "      <td>2016-06-10 17:54:00</td>\n",
       "      <td>2.0</td>\n",
       "    </tr>\n",
       "    <tr>\n",
       "      <th>3</th>\n",
       "      <td>133977</td>\n",
       "      <td>com.gopaktor.subscription.v4.premium.1m</td>\n",
       "      <td>2016-07-27 18:53:07</td>\n",
       "      <td>2.0</td>\n",
       "    </tr>\n",
       "    <tr>\n",
       "      <th>4</th>\n",
       "      <td>171879</td>\n",
       "      <td>com.gopaktor.subscription.v4.premium.1m</td>\n",
       "      <td>2016-07-06 10:18:42</td>\n",
       "      <td>NaN</td>\n",
       "    </tr>\n",
       "  </tbody>\n",
       "</table>\n",
       "</div>"
      ],
      "text/plain": [
       "   cust_id                               product_id           timestamp  \\\n",
       "0  6093827  com.gopaktor.subscription.v4.premium.1m 2016-09-07 02:25:39   \n",
       "1   110380  com.gopaktor.subscription.v4.premium.1m 2016-07-07 17:54:01   \n",
       "2   131057  com.gopaktor.subscription.v4.premium.1m 2016-06-10 17:54:00   \n",
       "3   133977  com.gopaktor.subscription.v4.premium.1m 2016-07-27 18:53:07   \n",
       "4   171879  com.gopaktor.subscription.v4.premium.1m 2016-07-06 10:18:42   \n",
       "\n",
       "   counter  \n",
       "0      2.0  \n",
       "1      2.0  \n",
       "2      2.0  \n",
       "3      2.0  \n",
       "4      NaN  "
      ]
     },
     "execution_count": 33,
     "metadata": {},
     "output_type": "execute_result"
    }
   ],
   "source": [
    "xyz.head()"
   ]
  },
  {
   "cell_type": "code",
   "execution_count": 34,
   "metadata": {
    "collapsed": false
   },
   "outputs": [
    {
     "data": {
      "text/plain": [
       "pandas.tslib.Timestamp"
      ]
     },
     "execution_count": 34,
     "metadata": {},
     "output_type": "execute_result"
    }
   ],
   "source": [
    "type(xyz.timestamp[0])"
   ]
  },
  {
   "cell_type": "code",
   "execution_count": 35,
   "metadata": {
    "collapsed": false
   },
   "outputs": [
    {
     "data": {
      "text/plain": [
       "(1831, 4)"
      ]
     },
     "execution_count": 35,
     "metadata": {},
     "output_type": "execute_result"
    }
   ],
   "source": [
    "xyz.shape"
   ]
  },
  {
   "cell_type": "code",
   "execution_count": 36,
   "metadata": {
    "collapsed": false
   },
   "outputs": [
    {
     "data": {
      "text/plain": [
       "1042"
      ]
     },
     "execution_count": 36,
     "metadata": {},
     "output_type": "execute_result"
    }
   ],
   "source": [
    "len(xyz.cust_id.unique())"
   ]
  },
  {
   "cell_type": "code",
   "execution_count": 37,
   "metadata": {
    "collapsed": false
   },
   "outputs": [
    {
     "data": {
      "text/plain": [
       "22"
      ]
     },
     "execution_count": 37,
     "metadata": {},
     "output_type": "execute_result"
    }
   ],
   "source": [
    "len(xyz.product_id.unique())"
   ]
  },
  {
   "cell_type": "code",
   "execution_count": 38,
   "metadata": {
    "collapsed": true
   },
   "outputs": [],
   "source": [
    "def x(frame):\n",
    "    frame.sort_values('timestamp', inplace=True)\n",
    "    frame['time'] = frame['timestamp'] - frame['timestamp'].shift(1)\n",
    "    return frame"
   ]
  },
  {
   "cell_type": "code",
   "execution_count": 39,
   "metadata": {
    "collapsed": false
   },
   "outputs": [],
   "source": [
    "dates = xyz.groupby(['cust_id','product_id'], group_keys=False).apply(x)"
   ]
  },
  {
   "cell_type": "code",
   "execution_count": 40,
   "metadata": {
    "collapsed": false
   },
   "outputs": [
    {
     "data": {
      "text/html": [
       "<div>\n",
       "<table border=\"1\" class=\"dataframe\">\n",
       "  <thead>\n",
       "    <tr style=\"text-align: right;\">\n",
       "      <th></th>\n",
       "      <th>cust_id</th>\n",
       "      <th>product_id</th>\n",
       "      <th>timestamp</th>\n",
       "      <th>counter</th>\n",
       "      <th>time</th>\n",
       "    </tr>\n",
       "  </thead>\n",
       "  <tbody>\n",
       "    <tr>\n",
       "      <th>1401</th>\n",
       "      <td>10319</td>\n",
       "      <td>com.gopaktor.subscription.v1.premium.1m</td>\n",
       "      <td>2016-06-11 01:40:21</td>\n",
       "      <td>3.0</td>\n",
       "      <td>NaT</td>\n",
       "    </tr>\n",
       "    <tr>\n",
       "      <th>1419</th>\n",
       "      <td>10319</td>\n",
       "      <td>com.gopaktor.subscription.v1.premium.1m</td>\n",
       "      <td>2016-07-19 10:57:14</td>\n",
       "      <td>3.0</td>\n",
       "      <td>38 days 09:16:53</td>\n",
       "    </tr>\n",
       "    <tr>\n",
       "      <th>827</th>\n",
       "      <td>10319</td>\n",
       "      <td>com.gopaktor.subscription.v1.premium.1m</td>\n",
       "      <td>2016-08-19 10:57:14</td>\n",
       "      <td>3.0</td>\n",
       "      <td>31 days 00:00:00</td>\n",
       "    </tr>\n",
       "    <tr>\n",
       "      <th>844</th>\n",
       "      <td>105945</td>\n",
       "      <td>com.gopaktor.subscription.v1.premium.1m</td>\n",
       "      <td>2016-06-28 05:27:58</td>\n",
       "      <td>3.0</td>\n",
       "      <td>NaT</td>\n",
       "    </tr>\n",
       "    <tr>\n",
       "      <th>828</th>\n",
       "      <td>105945</td>\n",
       "      <td>com.gopaktor.subscription.v1.premium.1m</td>\n",
       "      <td>2016-07-28 05:27:58</td>\n",
       "      <td>3.0</td>\n",
       "      <td>30 days 00:00:00</td>\n",
       "    </tr>\n",
       "  </tbody>\n",
       "</table>\n",
       "</div>"
      ],
      "text/plain": [
       "     cust_id                               product_id           timestamp  \\\n",
       "1401   10319  com.gopaktor.subscription.v1.premium.1m 2016-06-11 01:40:21   \n",
       "1419   10319  com.gopaktor.subscription.v1.premium.1m 2016-07-19 10:57:14   \n",
       "827    10319  com.gopaktor.subscription.v1.premium.1m 2016-08-19 10:57:14   \n",
       "844   105945  com.gopaktor.subscription.v1.premium.1m 2016-06-28 05:27:58   \n",
       "828   105945  com.gopaktor.subscription.v1.premium.1m 2016-07-28 05:27:58   \n",
       "\n",
       "      counter             time  \n",
       "1401      3.0              NaT  \n",
       "1419      3.0 38 days 09:16:53  \n",
       "827       3.0 31 days 00:00:00  \n",
       "844       3.0              NaT  \n",
       "828       3.0 30 days 00:00:00  "
      ]
     },
     "execution_count": 40,
     "metadata": {},
     "output_type": "execute_result"
    }
   ],
   "source": [
    "dates.head()"
   ]
  },
  {
   "cell_type": "code",
   "execution_count": 41,
   "metadata": {
    "collapsed": false
   },
   "outputs": [
    {
     "data": {
      "text/plain": [
       "pandas.tslib.Timedelta"
      ]
     },
     "execution_count": 41,
     "metadata": {},
     "output_type": "execute_result"
    }
   ],
   "source": [
    "type(dates.time[1])"
   ]
  },
  {
   "cell_type": "code",
   "execution_count": 42,
   "metadata": {
    "collapsed": false
   },
   "outputs": [
    {
     "data": {
      "text/plain": [
       "pandas.tslib.Timestamp"
      ]
     },
     "execution_count": 42,
     "metadata": {},
     "output_type": "execute_result"
    }
   ],
   "source": [
    "type(dates.timestamp[1])"
   ]
  },
  {
   "cell_type": "code",
   "execution_count": 43,
   "metadata": {
    "collapsed": false
   },
   "outputs": [
    {
     "data": {
      "text/plain": [
       "(1831, 5)"
      ]
     },
     "execution_count": 43,
     "metadata": {},
     "output_type": "execute_result"
    }
   ],
   "source": [
    "dates.shape"
   ]
  },
  {
   "cell_type": "code",
   "execution_count": 44,
   "metadata": {
    "collapsed": false
   },
   "outputs": [
    {
     "data": {
      "text/plain": [
       "1042"
      ]
     },
     "execution_count": 44,
     "metadata": {},
     "output_type": "execute_result"
    }
   ],
   "source": [
    "len(dates.cust_id.unique())"
   ]
  },
  {
   "cell_type": "code",
   "execution_count": 45,
   "metadata": {
    "collapsed": false
   },
   "outputs": [
    {
     "data": {
      "text/plain": [
       "22"
      ]
     },
     "execution_count": 45,
     "metadata": {},
     "output_type": "execute_result"
    }
   ],
   "source": [
    "len(dates.product_id.unique())"
   ]
  },
  {
   "cell_type": "code",
   "execution_count": 46,
   "metadata": {
    "collapsed": true
   },
   "outputs": [],
   "source": [
    "dates.reset_index(drop=True,inplace=True)"
   ]
  },
  {
   "cell_type": "code",
   "execution_count": 47,
   "metadata": {
    "collapsed": false
   },
   "outputs": [
    {
     "data": {
      "text/html": [
       "<div>\n",
       "<table border=\"1\" class=\"dataframe\">\n",
       "  <thead>\n",
       "    <tr style=\"text-align: right;\">\n",
       "      <th></th>\n",
       "      <th>cust_id</th>\n",
       "      <th>product_id</th>\n",
       "      <th>timestamp</th>\n",
       "      <th>counter</th>\n",
       "      <th>time</th>\n",
       "    </tr>\n",
       "  </thead>\n",
       "  <tbody>\n",
       "    <tr>\n",
       "      <th>0</th>\n",
       "      <td>10319</td>\n",
       "      <td>com.gopaktor.subscription.v1.premium.1m</td>\n",
       "      <td>2016-06-11 01:40:21</td>\n",
       "      <td>3.0</td>\n",
       "      <td>NaT</td>\n",
       "    </tr>\n",
       "    <tr>\n",
       "      <th>1</th>\n",
       "      <td>10319</td>\n",
       "      <td>com.gopaktor.subscription.v1.premium.1m</td>\n",
       "      <td>2016-07-19 10:57:14</td>\n",
       "      <td>3.0</td>\n",
       "      <td>38 days 09:16:53</td>\n",
       "    </tr>\n",
       "    <tr>\n",
       "      <th>2</th>\n",
       "      <td>10319</td>\n",
       "      <td>com.gopaktor.subscription.v1.premium.1m</td>\n",
       "      <td>2016-08-19 10:57:14</td>\n",
       "      <td>3.0</td>\n",
       "      <td>31 days 00:00:00</td>\n",
       "    </tr>\n",
       "    <tr>\n",
       "      <th>3</th>\n",
       "      <td>105945</td>\n",
       "      <td>com.gopaktor.subscription.v1.premium.1m</td>\n",
       "      <td>2016-06-28 05:27:58</td>\n",
       "      <td>3.0</td>\n",
       "      <td>NaT</td>\n",
       "    </tr>\n",
       "    <tr>\n",
       "      <th>4</th>\n",
       "      <td>105945</td>\n",
       "      <td>com.gopaktor.subscription.v1.premium.1m</td>\n",
       "      <td>2016-07-28 05:27:58</td>\n",
       "      <td>3.0</td>\n",
       "      <td>30 days 00:00:00</td>\n",
       "    </tr>\n",
       "  </tbody>\n",
       "</table>\n",
       "</div>"
      ],
      "text/plain": [
       "  cust_id                               product_id           timestamp  \\\n",
       "0   10319  com.gopaktor.subscription.v1.premium.1m 2016-06-11 01:40:21   \n",
       "1   10319  com.gopaktor.subscription.v1.premium.1m 2016-07-19 10:57:14   \n",
       "2   10319  com.gopaktor.subscription.v1.premium.1m 2016-08-19 10:57:14   \n",
       "3  105945  com.gopaktor.subscription.v1.premium.1m 2016-06-28 05:27:58   \n",
       "4  105945  com.gopaktor.subscription.v1.premium.1m 2016-07-28 05:27:58   \n",
       "\n",
       "   counter             time  \n",
       "0      3.0              NaT  \n",
       "1      3.0 38 days 09:16:53  \n",
       "2      3.0 31 days 00:00:00  \n",
       "3      3.0              NaT  \n",
       "4      3.0 30 days 00:00:00  "
      ]
     },
     "execution_count": 47,
     "metadata": {},
     "output_type": "execute_result"
    }
   ],
   "source": [
    "dates.head()"
   ]
  },
  {
   "cell_type": "code",
   "execution_count": 48,
   "metadata": {
    "collapsed": true
   },
   "outputs": [],
   "source": [
    "dates.time = dates.time.fillna(0)"
   ]
  },
  {
   "cell_type": "code",
   "execution_count": 49,
   "metadata": {
    "collapsed": false
   },
   "outputs": [
    {
     "data": {
      "text/html": [
       "<div>\n",
       "<table border=\"1\" class=\"dataframe\">\n",
       "  <thead>\n",
       "    <tr style=\"text-align: right;\">\n",
       "      <th></th>\n",
       "      <th>cust_id</th>\n",
       "      <th>product_id</th>\n",
       "      <th>timestamp</th>\n",
       "      <th>counter</th>\n",
       "      <th>time</th>\n",
       "    </tr>\n",
       "  </thead>\n",
       "  <tbody>\n",
       "    <tr>\n",
       "      <th>0</th>\n",
       "      <td>10319</td>\n",
       "      <td>com.gopaktor.subscription.v1.premium.1m</td>\n",
       "      <td>2016-06-11 01:40:21</td>\n",
       "      <td>3.0</td>\n",
       "      <td>0 days 00:00:00</td>\n",
       "    </tr>\n",
       "    <tr>\n",
       "      <th>1</th>\n",
       "      <td>10319</td>\n",
       "      <td>com.gopaktor.subscription.v1.premium.1m</td>\n",
       "      <td>2016-07-19 10:57:14</td>\n",
       "      <td>3.0</td>\n",
       "      <td>38 days 09:16:53</td>\n",
       "    </tr>\n",
       "    <tr>\n",
       "      <th>2</th>\n",
       "      <td>10319</td>\n",
       "      <td>com.gopaktor.subscription.v1.premium.1m</td>\n",
       "      <td>2016-08-19 10:57:14</td>\n",
       "      <td>3.0</td>\n",
       "      <td>31 days 00:00:00</td>\n",
       "    </tr>\n",
       "    <tr>\n",
       "      <th>3</th>\n",
       "      <td>105945</td>\n",
       "      <td>com.gopaktor.subscription.v1.premium.1m</td>\n",
       "      <td>2016-06-28 05:27:58</td>\n",
       "      <td>3.0</td>\n",
       "      <td>0 days 00:00:00</td>\n",
       "    </tr>\n",
       "    <tr>\n",
       "      <th>4</th>\n",
       "      <td>105945</td>\n",
       "      <td>com.gopaktor.subscription.v1.premium.1m</td>\n",
       "      <td>2016-07-28 05:27:58</td>\n",
       "      <td>3.0</td>\n",
       "      <td>30 days 00:00:00</td>\n",
       "    </tr>\n",
       "  </tbody>\n",
       "</table>\n",
       "</div>"
      ],
      "text/plain": [
       "  cust_id                               product_id           timestamp  \\\n",
       "0   10319  com.gopaktor.subscription.v1.premium.1m 2016-06-11 01:40:21   \n",
       "1   10319  com.gopaktor.subscription.v1.premium.1m 2016-07-19 10:57:14   \n",
       "2   10319  com.gopaktor.subscription.v1.premium.1m 2016-08-19 10:57:14   \n",
       "3  105945  com.gopaktor.subscription.v1.premium.1m 2016-06-28 05:27:58   \n",
       "4  105945  com.gopaktor.subscription.v1.premium.1m 2016-07-28 05:27:58   \n",
       "\n",
       "   counter             time  \n",
       "0      3.0  0 days 00:00:00  \n",
       "1      3.0 38 days 09:16:53  \n",
       "2      3.0 31 days 00:00:00  \n",
       "3      3.0  0 days 00:00:00  \n",
       "4      3.0 30 days 00:00:00  "
      ]
     },
     "execution_count": 49,
     "metadata": {},
     "output_type": "execute_result"
    }
   ],
   "source": [
    "dates.head()"
   ]
  },
  {
   "cell_type": "code",
   "execution_count": 50,
   "metadata": {
    "collapsed": true
   },
   "outputs": [],
   "source": [
    "def y(frame):\n",
    "    frame['sum_days'] = frame['time'].sum()\n",
    "    return frame"
   ]
  },
  {
   "cell_type": "code",
   "execution_count": 51,
   "metadata": {
    "collapsed": false
   },
   "outputs": [],
   "source": [
    "dates_sum = dates.groupby(['cust_id','product_id']).apply(y)"
   ]
  },
  {
   "cell_type": "code",
   "execution_count": 52,
   "metadata": {
    "collapsed": false,
    "scrolled": true
   },
   "outputs": [
    {
     "data": {
      "text/html": [
       "<div>\n",
       "<table border=\"1\" class=\"dataframe\">\n",
       "  <thead>\n",
       "    <tr style=\"text-align: right;\">\n",
       "      <th></th>\n",
       "      <th>cust_id</th>\n",
       "      <th>product_id</th>\n",
       "      <th>timestamp</th>\n",
       "      <th>counter</th>\n",
       "      <th>time</th>\n",
       "      <th>sum_days</th>\n",
       "    </tr>\n",
       "  </thead>\n",
       "  <tbody>\n",
       "    <tr>\n",
       "      <th>0</th>\n",
       "      <td>10319</td>\n",
       "      <td>com.gopaktor.subscription.v1.premium.1m</td>\n",
       "      <td>2016-06-11 01:40:21</td>\n",
       "      <td>3.0</td>\n",
       "      <td>0 days 00:00:00</td>\n",
       "      <td>69 days 09:16:53</td>\n",
       "    </tr>\n",
       "    <tr>\n",
       "      <th>1</th>\n",
       "      <td>10319</td>\n",
       "      <td>com.gopaktor.subscription.v1.premium.1m</td>\n",
       "      <td>2016-07-19 10:57:14</td>\n",
       "      <td>3.0</td>\n",
       "      <td>38 days 09:16:53</td>\n",
       "      <td>69 days 09:16:53</td>\n",
       "    </tr>\n",
       "    <tr>\n",
       "      <th>2</th>\n",
       "      <td>10319</td>\n",
       "      <td>com.gopaktor.subscription.v1.premium.1m</td>\n",
       "      <td>2016-08-19 10:57:14</td>\n",
       "      <td>3.0</td>\n",
       "      <td>31 days 00:00:00</td>\n",
       "      <td>69 days 09:16:53</td>\n",
       "    </tr>\n",
       "    <tr>\n",
       "      <th>3</th>\n",
       "      <td>105945</td>\n",
       "      <td>com.gopaktor.subscription.v1.premium.1m</td>\n",
       "      <td>2016-06-28 05:27:58</td>\n",
       "      <td>3.0</td>\n",
       "      <td>0 days 00:00:00</td>\n",
       "      <td>61 days 00:00:00</td>\n",
       "    </tr>\n",
       "    <tr>\n",
       "      <th>4</th>\n",
       "      <td>105945</td>\n",
       "      <td>com.gopaktor.subscription.v1.premium.1m</td>\n",
       "      <td>2016-07-28 05:27:58</td>\n",
       "      <td>3.0</td>\n",
       "      <td>30 days 00:00:00</td>\n",
       "      <td>61 days 00:00:00</td>\n",
       "    </tr>\n",
       "  </tbody>\n",
       "</table>\n",
       "</div>"
      ],
      "text/plain": [
       "  cust_id                               product_id           timestamp  \\\n",
       "0   10319  com.gopaktor.subscription.v1.premium.1m 2016-06-11 01:40:21   \n",
       "1   10319  com.gopaktor.subscription.v1.premium.1m 2016-07-19 10:57:14   \n",
       "2   10319  com.gopaktor.subscription.v1.premium.1m 2016-08-19 10:57:14   \n",
       "3  105945  com.gopaktor.subscription.v1.premium.1m 2016-06-28 05:27:58   \n",
       "4  105945  com.gopaktor.subscription.v1.premium.1m 2016-07-28 05:27:58   \n",
       "\n",
       "   counter             time         sum_days  \n",
       "0      3.0  0 days 00:00:00 69 days 09:16:53  \n",
       "1      3.0 38 days 09:16:53 69 days 09:16:53  \n",
       "2      3.0 31 days 00:00:00 69 days 09:16:53  \n",
       "3      3.0  0 days 00:00:00 61 days 00:00:00  \n",
       "4      3.0 30 days 00:00:00 61 days 00:00:00  "
      ]
     },
     "execution_count": 52,
     "metadata": {},
     "output_type": "execute_result"
    }
   ],
   "source": [
    "dates_sum.head()"
   ]
  },
  {
   "cell_type": "code",
   "execution_count": 53,
   "metadata": {
    "collapsed": false
   },
   "outputs": [
    {
     "data": {
      "text/html": [
       "<div>\n",
       "<table border=\"1\" class=\"dataframe\">\n",
       "  <thead>\n",
       "    <tr style=\"text-align: right;\">\n",
       "      <th></th>\n",
       "      <th>cust_id</th>\n",
       "      <th>product_id</th>\n",
       "      <th>timestamp</th>\n",
       "      <th>counter</th>\n",
       "      <th>time</th>\n",
       "      <th>sum_days</th>\n",
       "    </tr>\n",
       "  </thead>\n",
       "  <tbody>\n",
       "    <tr>\n",
       "      <th>1826</th>\n",
       "      <td>98952</td>\n",
       "      <td>com.gopaktor.subscription.v4.premium.1m</td>\n",
       "      <td>2016-08-25 16:48:31</td>\n",
       "      <td>NaN</td>\n",
       "      <td>0 days</td>\n",
       "      <td>0 days</td>\n",
       "    </tr>\n",
       "    <tr>\n",
       "      <th>1827</th>\n",
       "      <td>9912</td>\n",
       "      <td>com.gopaktor.subscription.v2.premium.1m.3000</td>\n",
       "      <td>2016-06-07 14:10:03</td>\n",
       "      <td>NaN</td>\n",
       "      <td>0 days</td>\n",
       "      <td>0 days</td>\n",
       "    </tr>\n",
       "    <tr>\n",
       "      <th>1828</th>\n",
       "      <td>99137</td>\n",
       "      <td>com.gopaktor.subscription.v2.premium.1m.2000</td>\n",
       "      <td>2016-06-15 11:22:21</td>\n",
       "      <td>NaN</td>\n",
       "      <td>0 days</td>\n",
       "      <td>0 days</td>\n",
       "    </tr>\n",
       "    <tr>\n",
       "      <th>1829</th>\n",
       "      <td>99470</td>\n",
       "      <td>com.gopaktor.subscription.v4.premium.1m</td>\n",
       "      <td>2016-06-17 19:47:00</td>\n",
       "      <td>2.0</td>\n",
       "      <td>0 days</td>\n",
       "      <td>30 days</td>\n",
       "    </tr>\n",
       "    <tr>\n",
       "      <th>1830</th>\n",
       "      <td>99470</td>\n",
       "      <td>com.gopaktor.subscription.v4.premium.1m</td>\n",
       "      <td>2016-07-17 19:47:00</td>\n",
       "      <td>2.0</td>\n",
       "      <td>30 days</td>\n",
       "      <td>30 days</td>\n",
       "    </tr>\n",
       "  </tbody>\n",
       "</table>\n",
       "</div>"
      ],
      "text/plain": [
       "     cust_id                                    product_id  \\\n",
       "1826   98952       com.gopaktor.subscription.v4.premium.1m   \n",
       "1827    9912  com.gopaktor.subscription.v2.premium.1m.3000   \n",
       "1828   99137  com.gopaktor.subscription.v2.premium.1m.2000   \n",
       "1829   99470       com.gopaktor.subscription.v4.premium.1m   \n",
       "1830   99470       com.gopaktor.subscription.v4.premium.1m   \n",
       "\n",
       "               timestamp  counter    time  sum_days  \n",
       "1826 2016-08-25 16:48:31      NaN  0 days    0 days  \n",
       "1827 2016-06-07 14:10:03      NaN  0 days    0 days  \n",
       "1828 2016-06-15 11:22:21      NaN  0 days    0 days  \n",
       "1829 2016-06-17 19:47:00      2.0  0 days   30 days  \n",
       "1830 2016-07-17 19:47:00      2.0 30 days   30 days  "
      ]
     },
     "execution_count": 53,
     "metadata": {},
     "output_type": "execute_result"
    }
   ],
   "source": [
    "dates_sum.tail()"
   ]
  },
  {
   "cell_type": "code",
   "execution_count": 54,
   "metadata": {
    "collapsed": false
   },
   "outputs": [],
   "source": [
    "dates_sum['days_int'] = \"\""
   ]
  },
  {
   "cell_type": "code",
   "execution_count": 55,
   "metadata": {
    "collapsed": false
   },
   "outputs": [
    {
     "data": {
      "text/html": [
       "<div>\n",
       "<table border=\"1\" class=\"dataframe\">\n",
       "  <thead>\n",
       "    <tr style=\"text-align: right;\">\n",
       "      <th></th>\n",
       "      <th>cust_id</th>\n",
       "      <th>product_id</th>\n",
       "      <th>timestamp</th>\n",
       "      <th>counter</th>\n",
       "      <th>time</th>\n",
       "      <th>sum_days</th>\n",
       "      <th>days_int</th>\n",
       "    </tr>\n",
       "  </thead>\n",
       "  <tbody>\n",
       "    <tr>\n",
       "      <th>0</th>\n",
       "      <td>10319</td>\n",
       "      <td>com.gopaktor.subscription.v1.premium.1m</td>\n",
       "      <td>2016-06-11 01:40:21</td>\n",
       "      <td>3.0</td>\n",
       "      <td>0 days 00:00:00</td>\n",
       "      <td>69 days 09:16:53</td>\n",
       "      <td></td>\n",
       "    </tr>\n",
       "    <tr>\n",
       "      <th>1</th>\n",
       "      <td>10319</td>\n",
       "      <td>com.gopaktor.subscription.v1.premium.1m</td>\n",
       "      <td>2016-07-19 10:57:14</td>\n",
       "      <td>3.0</td>\n",
       "      <td>38 days 09:16:53</td>\n",
       "      <td>69 days 09:16:53</td>\n",
       "      <td></td>\n",
       "    </tr>\n",
       "    <tr>\n",
       "      <th>2</th>\n",
       "      <td>10319</td>\n",
       "      <td>com.gopaktor.subscription.v1.premium.1m</td>\n",
       "      <td>2016-08-19 10:57:14</td>\n",
       "      <td>3.0</td>\n",
       "      <td>31 days 00:00:00</td>\n",
       "      <td>69 days 09:16:53</td>\n",
       "      <td></td>\n",
       "    </tr>\n",
       "    <tr>\n",
       "      <th>3</th>\n",
       "      <td>105945</td>\n",
       "      <td>com.gopaktor.subscription.v1.premium.1m</td>\n",
       "      <td>2016-06-28 05:27:58</td>\n",
       "      <td>3.0</td>\n",
       "      <td>0 days 00:00:00</td>\n",
       "      <td>61 days 00:00:00</td>\n",
       "      <td></td>\n",
       "    </tr>\n",
       "    <tr>\n",
       "      <th>4</th>\n",
       "      <td>105945</td>\n",
       "      <td>com.gopaktor.subscription.v1.premium.1m</td>\n",
       "      <td>2016-07-28 05:27:58</td>\n",
       "      <td>3.0</td>\n",
       "      <td>30 days 00:00:00</td>\n",
       "      <td>61 days 00:00:00</td>\n",
       "      <td></td>\n",
       "    </tr>\n",
       "  </tbody>\n",
       "</table>\n",
       "</div>"
      ],
      "text/plain": [
       "  cust_id                               product_id           timestamp  \\\n",
       "0   10319  com.gopaktor.subscription.v1.premium.1m 2016-06-11 01:40:21   \n",
       "1   10319  com.gopaktor.subscription.v1.premium.1m 2016-07-19 10:57:14   \n",
       "2   10319  com.gopaktor.subscription.v1.premium.1m 2016-08-19 10:57:14   \n",
       "3  105945  com.gopaktor.subscription.v1.premium.1m 2016-06-28 05:27:58   \n",
       "4  105945  com.gopaktor.subscription.v1.premium.1m 2016-07-28 05:27:58   \n",
       "\n",
       "   counter             time         sum_days days_int  \n",
       "0      3.0  0 days 00:00:00 69 days 09:16:53           \n",
       "1      3.0 38 days 09:16:53 69 days 09:16:53           \n",
       "2      3.0 31 days 00:00:00 69 days 09:16:53           \n",
       "3      3.0  0 days 00:00:00 61 days 00:00:00           \n",
       "4      3.0 30 days 00:00:00 61 days 00:00:00           "
      ]
     },
     "execution_count": 55,
     "metadata": {},
     "output_type": "execute_result"
    }
   ],
   "source": [
    "dates_sum.head()"
   ]
  },
  {
   "cell_type": "code",
   "execution_count": 56,
   "metadata": {
    "collapsed": false
   },
   "outputs": [
    {
     "name": "stderr",
     "output_type": "stream",
     "text": [
      "/home/ubuntu/anaconda2/lib/python2.7/site-packages/ipykernel/__main__.py:2: SettingWithCopyWarning: \n",
      "A value is trying to be set on a copy of a slice from a DataFrame\n",
      "\n",
      "See the caveats in the documentation: http://pandas.pydata.org/pandas-docs/stable/indexing.html#indexing-view-versus-copy\n",
      "  from ipykernel import kernelapp as app\n"
     ]
    }
   ],
   "source": [
    "for x in range(0,len(dates_sum)):\n",
    "    dates_sum.days_int[x] = dates_sum.sum_days[x].days"
   ]
  },
  {
   "cell_type": "code",
   "execution_count": 57,
   "metadata": {
    "collapsed": false
   },
   "outputs": [
    {
     "data": {
      "text/html": [
       "<div>\n",
       "<table border=\"1\" class=\"dataframe\">\n",
       "  <thead>\n",
       "    <tr style=\"text-align: right;\">\n",
       "      <th></th>\n",
       "      <th>cust_id</th>\n",
       "      <th>product_id</th>\n",
       "      <th>timestamp</th>\n",
       "      <th>counter</th>\n",
       "      <th>time</th>\n",
       "      <th>sum_days</th>\n",
       "      <th>days_int</th>\n",
       "    </tr>\n",
       "  </thead>\n",
       "  <tbody>\n",
       "    <tr>\n",
       "      <th>0</th>\n",
       "      <td>10319</td>\n",
       "      <td>com.gopaktor.subscription.v1.premium.1m</td>\n",
       "      <td>2016-06-11 01:40:21</td>\n",
       "      <td>3.0</td>\n",
       "      <td>0 days 00:00:00</td>\n",
       "      <td>69 days 09:16:53</td>\n",
       "      <td>69</td>\n",
       "    </tr>\n",
       "    <tr>\n",
       "      <th>1</th>\n",
       "      <td>10319</td>\n",
       "      <td>com.gopaktor.subscription.v1.premium.1m</td>\n",
       "      <td>2016-07-19 10:57:14</td>\n",
       "      <td>3.0</td>\n",
       "      <td>38 days 09:16:53</td>\n",
       "      <td>69 days 09:16:53</td>\n",
       "      <td>69</td>\n",
       "    </tr>\n",
       "    <tr>\n",
       "      <th>2</th>\n",
       "      <td>10319</td>\n",
       "      <td>com.gopaktor.subscription.v1.premium.1m</td>\n",
       "      <td>2016-08-19 10:57:14</td>\n",
       "      <td>3.0</td>\n",
       "      <td>31 days 00:00:00</td>\n",
       "      <td>69 days 09:16:53</td>\n",
       "      <td>69</td>\n",
       "    </tr>\n",
       "    <tr>\n",
       "      <th>3</th>\n",
       "      <td>105945</td>\n",
       "      <td>com.gopaktor.subscription.v1.premium.1m</td>\n",
       "      <td>2016-06-28 05:27:58</td>\n",
       "      <td>3.0</td>\n",
       "      <td>0 days 00:00:00</td>\n",
       "      <td>61 days 00:00:00</td>\n",
       "      <td>61</td>\n",
       "    </tr>\n",
       "    <tr>\n",
       "      <th>4</th>\n",
       "      <td>105945</td>\n",
       "      <td>com.gopaktor.subscription.v1.premium.1m</td>\n",
       "      <td>2016-07-28 05:27:58</td>\n",
       "      <td>3.0</td>\n",
       "      <td>30 days 00:00:00</td>\n",
       "      <td>61 days 00:00:00</td>\n",
       "      <td>61</td>\n",
       "    </tr>\n",
       "  </tbody>\n",
       "</table>\n",
       "</div>"
      ],
      "text/plain": [
       "  cust_id                               product_id           timestamp  \\\n",
       "0   10319  com.gopaktor.subscription.v1.premium.1m 2016-06-11 01:40:21   \n",
       "1   10319  com.gopaktor.subscription.v1.premium.1m 2016-07-19 10:57:14   \n",
       "2   10319  com.gopaktor.subscription.v1.premium.1m 2016-08-19 10:57:14   \n",
       "3  105945  com.gopaktor.subscription.v1.premium.1m 2016-06-28 05:27:58   \n",
       "4  105945  com.gopaktor.subscription.v1.premium.1m 2016-07-28 05:27:58   \n",
       "\n",
       "   counter             time         sum_days days_int  \n",
       "0      3.0  0 days 00:00:00 69 days 09:16:53       69  \n",
       "1      3.0 38 days 09:16:53 69 days 09:16:53       69  \n",
       "2      3.0 31 days 00:00:00 69 days 09:16:53       69  \n",
       "3      3.0  0 days 00:00:00 61 days 00:00:00       61  \n",
       "4      3.0 30 days 00:00:00 61 days 00:00:00       61  "
      ]
     },
     "execution_count": 57,
     "metadata": {},
     "output_type": "execute_result"
    }
   ],
   "source": [
    "dates_sum.head()"
   ]
  },
  {
   "cell_type": "code",
   "execution_count": 58,
   "metadata": {
    "collapsed": false
   },
   "outputs": [
    {
     "data": {
      "text/html": [
       "<div>\n",
       "<table border=\"1\" class=\"dataframe\">\n",
       "  <thead>\n",
       "    <tr style=\"text-align: right;\">\n",
       "      <th></th>\n",
       "      <th>cust_id</th>\n",
       "      <th>product_id</th>\n",
       "      <th>timestamp</th>\n",
       "      <th>counter</th>\n",
       "      <th>time</th>\n",
       "      <th>sum_days</th>\n",
       "      <th>days_int</th>\n",
       "    </tr>\n",
       "  </thead>\n",
       "  <tbody>\n",
       "    <tr>\n",
       "      <th>1826</th>\n",
       "      <td>98952</td>\n",
       "      <td>com.gopaktor.subscription.v4.premium.1m</td>\n",
       "      <td>2016-08-25 16:48:31</td>\n",
       "      <td>NaN</td>\n",
       "      <td>0 days</td>\n",
       "      <td>0 days</td>\n",
       "      <td>0</td>\n",
       "    </tr>\n",
       "    <tr>\n",
       "      <th>1827</th>\n",
       "      <td>9912</td>\n",
       "      <td>com.gopaktor.subscription.v2.premium.1m.3000</td>\n",
       "      <td>2016-06-07 14:10:03</td>\n",
       "      <td>NaN</td>\n",
       "      <td>0 days</td>\n",
       "      <td>0 days</td>\n",
       "      <td>0</td>\n",
       "    </tr>\n",
       "    <tr>\n",
       "      <th>1828</th>\n",
       "      <td>99137</td>\n",
       "      <td>com.gopaktor.subscription.v2.premium.1m.2000</td>\n",
       "      <td>2016-06-15 11:22:21</td>\n",
       "      <td>NaN</td>\n",
       "      <td>0 days</td>\n",
       "      <td>0 days</td>\n",
       "      <td>0</td>\n",
       "    </tr>\n",
       "    <tr>\n",
       "      <th>1829</th>\n",
       "      <td>99470</td>\n",
       "      <td>com.gopaktor.subscription.v4.premium.1m</td>\n",
       "      <td>2016-06-17 19:47:00</td>\n",
       "      <td>2.0</td>\n",
       "      <td>0 days</td>\n",
       "      <td>30 days</td>\n",
       "      <td>30</td>\n",
       "    </tr>\n",
       "    <tr>\n",
       "      <th>1830</th>\n",
       "      <td>99470</td>\n",
       "      <td>com.gopaktor.subscription.v4.premium.1m</td>\n",
       "      <td>2016-07-17 19:47:00</td>\n",
       "      <td>2.0</td>\n",
       "      <td>30 days</td>\n",
       "      <td>30 days</td>\n",
       "      <td>30</td>\n",
       "    </tr>\n",
       "  </tbody>\n",
       "</table>\n",
       "</div>"
      ],
      "text/plain": [
       "     cust_id                                    product_id  \\\n",
       "1826   98952       com.gopaktor.subscription.v4.premium.1m   \n",
       "1827    9912  com.gopaktor.subscription.v2.premium.1m.3000   \n",
       "1828   99137  com.gopaktor.subscription.v2.premium.1m.2000   \n",
       "1829   99470       com.gopaktor.subscription.v4.premium.1m   \n",
       "1830   99470       com.gopaktor.subscription.v4.premium.1m   \n",
       "\n",
       "               timestamp  counter    time  sum_days days_int  \n",
       "1826 2016-08-25 16:48:31      NaN  0 days    0 days        0  \n",
       "1827 2016-06-07 14:10:03      NaN  0 days    0 days        0  \n",
       "1828 2016-06-15 11:22:21      NaN  0 days    0 days        0  \n",
       "1829 2016-06-17 19:47:00      2.0  0 days   30 days       30  \n",
       "1830 2016-07-17 19:47:00      2.0 30 days   30 days       30  "
      ]
     },
     "execution_count": 58,
     "metadata": {},
     "output_type": "execute_result"
    }
   ],
   "source": [
    "dates_sum.tail()"
   ]
  },
  {
   "cell_type": "code",
   "execution_count": 59,
   "metadata": {
    "collapsed": false
   },
   "outputs": [
    {
     "data": {
      "text/plain": [
       "int"
      ]
     },
     "execution_count": 59,
     "metadata": {},
     "output_type": "execute_result"
    }
   ],
   "source": [
    "type(dates_sum.days_int[0])"
   ]
  },
  {
   "cell_type": "code",
   "execution_count": 60,
   "metadata": {
    "collapsed": false
   },
   "outputs": [
    {
     "data": {
      "text/plain": [
       "22"
      ]
     },
     "execution_count": 60,
     "metadata": {},
     "output_type": "execute_result"
    }
   ],
   "source": [
    "len(dates_sum.product_id.unique())"
   ]
  },
  {
   "cell_type": "code",
   "execution_count": 61,
   "metadata": {
    "collapsed": true
   },
   "outputs": [],
   "source": [
    "cust_repur = dates_sum"
   ]
  },
  {
   "cell_type": "code",
   "execution_count": 62,
   "metadata": {
    "collapsed": false
   },
   "outputs": [
    {
     "data": {
      "text/html": [
       "<div>\n",
       "<table border=\"1\" class=\"dataframe\">\n",
       "  <thead>\n",
       "    <tr style=\"text-align: right;\">\n",
       "      <th></th>\n",
       "      <th>cust_id</th>\n",
       "      <th>product_id</th>\n",
       "      <th>timestamp</th>\n",
       "      <th>counter</th>\n",
       "      <th>time</th>\n",
       "      <th>sum_days</th>\n",
       "      <th>days_int</th>\n",
       "    </tr>\n",
       "  </thead>\n",
       "  <tbody>\n",
       "    <tr>\n",
       "      <th>0</th>\n",
       "      <td>10319</td>\n",
       "      <td>com.gopaktor.subscription.v1.premium.1m</td>\n",
       "      <td>2016-06-11 01:40:21</td>\n",
       "      <td>3.0</td>\n",
       "      <td>0 days 00:00:00</td>\n",
       "      <td>69 days 09:16:53</td>\n",
       "      <td>69</td>\n",
       "    </tr>\n",
       "    <tr>\n",
       "      <th>1</th>\n",
       "      <td>10319</td>\n",
       "      <td>com.gopaktor.subscription.v1.premium.1m</td>\n",
       "      <td>2016-07-19 10:57:14</td>\n",
       "      <td>3.0</td>\n",
       "      <td>38 days 09:16:53</td>\n",
       "      <td>69 days 09:16:53</td>\n",
       "      <td>69</td>\n",
       "    </tr>\n",
       "    <tr>\n",
       "      <th>2</th>\n",
       "      <td>10319</td>\n",
       "      <td>com.gopaktor.subscription.v1.premium.1m</td>\n",
       "      <td>2016-08-19 10:57:14</td>\n",
       "      <td>3.0</td>\n",
       "      <td>31 days 00:00:00</td>\n",
       "      <td>69 days 09:16:53</td>\n",
       "      <td>69</td>\n",
       "    </tr>\n",
       "    <tr>\n",
       "      <th>3</th>\n",
       "      <td>105945</td>\n",
       "      <td>com.gopaktor.subscription.v1.premium.1m</td>\n",
       "      <td>2016-06-28 05:27:58</td>\n",
       "      <td>3.0</td>\n",
       "      <td>0 days 00:00:00</td>\n",
       "      <td>61 days 00:00:00</td>\n",
       "      <td>61</td>\n",
       "    </tr>\n",
       "    <tr>\n",
       "      <th>4</th>\n",
       "      <td>105945</td>\n",
       "      <td>com.gopaktor.subscription.v1.premium.1m</td>\n",
       "      <td>2016-07-28 05:27:58</td>\n",
       "      <td>3.0</td>\n",
       "      <td>30 days 00:00:00</td>\n",
       "      <td>61 days 00:00:00</td>\n",
       "      <td>61</td>\n",
       "    </tr>\n",
       "  </tbody>\n",
       "</table>\n",
       "</div>"
      ],
      "text/plain": [
       "  cust_id                               product_id           timestamp  \\\n",
       "0   10319  com.gopaktor.subscription.v1.premium.1m 2016-06-11 01:40:21   \n",
       "1   10319  com.gopaktor.subscription.v1.premium.1m 2016-07-19 10:57:14   \n",
       "2   10319  com.gopaktor.subscription.v1.premium.1m 2016-08-19 10:57:14   \n",
       "3  105945  com.gopaktor.subscription.v1.premium.1m 2016-06-28 05:27:58   \n",
       "4  105945  com.gopaktor.subscription.v1.premium.1m 2016-07-28 05:27:58   \n",
       "\n",
       "   counter             time         sum_days days_int  \n",
       "0      3.0  0 days 00:00:00 69 days 09:16:53       69  \n",
       "1      3.0 38 days 09:16:53 69 days 09:16:53       69  \n",
       "2      3.0 31 days 00:00:00 69 days 09:16:53       69  \n",
       "3      3.0  0 days 00:00:00 61 days 00:00:00       61  \n",
       "4      3.0 30 days 00:00:00 61 days 00:00:00       61  "
      ]
     },
     "execution_count": 62,
     "metadata": {},
     "output_type": "execute_result"
    }
   ],
   "source": [
    "cust_repur.head()"
   ]
  },
  {
   "cell_type": "code",
   "execution_count": 63,
   "metadata": {
    "collapsed": false
   },
   "outputs": [
    {
     "data": {
      "text/plain": [
       "(1831, 7)"
      ]
     },
     "execution_count": 63,
     "metadata": {},
     "output_type": "execute_result"
    }
   ],
   "source": [
    "cust_repur.shape"
   ]
  },
  {
   "cell_type": "code",
   "execution_count": 64,
   "metadata": {
    "collapsed": false
   },
   "outputs": [
    {
     "data": {
      "text/plain": [
       "22"
      ]
     },
     "execution_count": 64,
     "metadata": {},
     "output_type": "execute_result"
    }
   ],
   "source": [
    "len(cust_repur.product_id.unique())"
   ]
  },
  {
   "cell_type": "code",
   "execution_count": 65,
   "metadata": {
    "collapsed": false
   },
   "outputs": [],
   "source": [
    "del cust_repur['time']"
   ]
  },
  {
   "cell_type": "code",
   "execution_count": 66,
   "metadata": {
    "collapsed": false
   },
   "outputs": [
    {
     "data": {
      "text/html": [
       "<div>\n",
       "<table border=\"1\" class=\"dataframe\">\n",
       "  <thead>\n",
       "    <tr style=\"text-align: right;\">\n",
       "      <th></th>\n",
       "      <th>cust_id</th>\n",
       "      <th>product_id</th>\n",
       "      <th>timestamp</th>\n",
       "      <th>counter</th>\n",
       "      <th>sum_days</th>\n",
       "      <th>days_int</th>\n",
       "    </tr>\n",
       "  </thead>\n",
       "  <tbody>\n",
       "    <tr>\n",
       "      <th>0</th>\n",
       "      <td>10319</td>\n",
       "      <td>com.gopaktor.subscription.v1.premium.1m</td>\n",
       "      <td>2016-06-11 01:40:21</td>\n",
       "      <td>3.0</td>\n",
       "      <td>69 days 09:16:53</td>\n",
       "      <td>69</td>\n",
       "    </tr>\n",
       "    <tr>\n",
       "      <th>1</th>\n",
       "      <td>10319</td>\n",
       "      <td>com.gopaktor.subscription.v1.premium.1m</td>\n",
       "      <td>2016-07-19 10:57:14</td>\n",
       "      <td>3.0</td>\n",
       "      <td>69 days 09:16:53</td>\n",
       "      <td>69</td>\n",
       "    </tr>\n",
       "    <tr>\n",
       "      <th>2</th>\n",
       "      <td>10319</td>\n",
       "      <td>com.gopaktor.subscription.v1.premium.1m</td>\n",
       "      <td>2016-08-19 10:57:14</td>\n",
       "      <td>3.0</td>\n",
       "      <td>69 days 09:16:53</td>\n",
       "      <td>69</td>\n",
       "    </tr>\n",
       "    <tr>\n",
       "      <th>3</th>\n",
       "      <td>105945</td>\n",
       "      <td>com.gopaktor.subscription.v1.premium.1m</td>\n",
       "      <td>2016-06-28 05:27:58</td>\n",
       "      <td>3.0</td>\n",
       "      <td>61 days 00:00:00</td>\n",
       "      <td>61</td>\n",
       "    </tr>\n",
       "    <tr>\n",
       "      <th>4</th>\n",
       "      <td>105945</td>\n",
       "      <td>com.gopaktor.subscription.v1.premium.1m</td>\n",
       "      <td>2016-07-28 05:27:58</td>\n",
       "      <td>3.0</td>\n",
       "      <td>61 days 00:00:00</td>\n",
       "      <td>61</td>\n",
       "    </tr>\n",
       "  </tbody>\n",
       "</table>\n",
       "</div>"
      ],
      "text/plain": [
       "  cust_id                               product_id           timestamp  \\\n",
       "0   10319  com.gopaktor.subscription.v1.premium.1m 2016-06-11 01:40:21   \n",
       "1   10319  com.gopaktor.subscription.v1.premium.1m 2016-07-19 10:57:14   \n",
       "2   10319  com.gopaktor.subscription.v1.premium.1m 2016-08-19 10:57:14   \n",
       "3  105945  com.gopaktor.subscription.v1.premium.1m 2016-06-28 05:27:58   \n",
       "4  105945  com.gopaktor.subscription.v1.premium.1m 2016-07-28 05:27:58   \n",
       "\n",
       "   counter         sum_days days_int  \n",
       "0      3.0 69 days 09:16:53       69  \n",
       "1      3.0 69 days 09:16:53       69  \n",
       "2      3.0 69 days 09:16:53       69  \n",
       "3      3.0 61 days 00:00:00       61  \n",
       "4      3.0 61 days 00:00:00       61  "
      ]
     },
     "execution_count": 66,
     "metadata": {},
     "output_type": "execute_result"
    }
   ],
   "source": [
    "cust_repur.head()"
   ]
  },
  {
   "cell_type": "code",
   "execution_count": 67,
   "metadata": {
    "collapsed": false
   },
   "outputs": [],
   "source": [
    "cust_repur.reset_index(drop=True, inplace=True)"
   ]
  },
  {
   "cell_type": "code",
   "execution_count": 68,
   "metadata": {
    "collapsed": false
   },
   "outputs": [
    {
     "data": {
      "text/html": [
       "<div>\n",
       "<table border=\"1\" class=\"dataframe\">\n",
       "  <thead>\n",
       "    <tr style=\"text-align: right;\">\n",
       "      <th></th>\n",
       "      <th>cust_id</th>\n",
       "      <th>product_id</th>\n",
       "      <th>timestamp</th>\n",
       "      <th>counter</th>\n",
       "      <th>sum_days</th>\n",
       "      <th>days_int</th>\n",
       "    </tr>\n",
       "  </thead>\n",
       "  <tbody>\n",
       "    <tr>\n",
       "      <th>0</th>\n",
       "      <td>10319</td>\n",
       "      <td>com.gopaktor.subscription.v1.premium.1m</td>\n",
       "      <td>2016-06-11 01:40:21</td>\n",
       "      <td>3.0</td>\n",
       "      <td>69 days 09:16:53</td>\n",
       "      <td>69</td>\n",
       "    </tr>\n",
       "    <tr>\n",
       "      <th>1</th>\n",
       "      <td>10319</td>\n",
       "      <td>com.gopaktor.subscription.v1.premium.1m</td>\n",
       "      <td>2016-07-19 10:57:14</td>\n",
       "      <td>3.0</td>\n",
       "      <td>69 days 09:16:53</td>\n",
       "      <td>69</td>\n",
       "    </tr>\n",
       "    <tr>\n",
       "      <th>2</th>\n",
       "      <td>10319</td>\n",
       "      <td>com.gopaktor.subscription.v1.premium.1m</td>\n",
       "      <td>2016-08-19 10:57:14</td>\n",
       "      <td>3.0</td>\n",
       "      <td>69 days 09:16:53</td>\n",
       "      <td>69</td>\n",
       "    </tr>\n",
       "    <tr>\n",
       "      <th>3</th>\n",
       "      <td>105945</td>\n",
       "      <td>com.gopaktor.subscription.v1.premium.1m</td>\n",
       "      <td>2016-06-28 05:27:58</td>\n",
       "      <td>3.0</td>\n",
       "      <td>61 days 00:00:00</td>\n",
       "      <td>61</td>\n",
       "    </tr>\n",
       "    <tr>\n",
       "      <th>4</th>\n",
       "      <td>105945</td>\n",
       "      <td>com.gopaktor.subscription.v1.premium.1m</td>\n",
       "      <td>2016-07-28 05:27:58</td>\n",
       "      <td>3.0</td>\n",
       "      <td>61 days 00:00:00</td>\n",
       "      <td>61</td>\n",
       "    </tr>\n",
       "  </tbody>\n",
       "</table>\n",
       "</div>"
      ],
      "text/plain": [
       "  cust_id                               product_id           timestamp  \\\n",
       "0   10319  com.gopaktor.subscription.v1.premium.1m 2016-06-11 01:40:21   \n",
       "1   10319  com.gopaktor.subscription.v1.premium.1m 2016-07-19 10:57:14   \n",
       "2   10319  com.gopaktor.subscription.v1.premium.1m 2016-08-19 10:57:14   \n",
       "3  105945  com.gopaktor.subscription.v1.premium.1m 2016-06-28 05:27:58   \n",
       "4  105945  com.gopaktor.subscription.v1.premium.1m 2016-07-28 05:27:58   \n",
       "\n",
       "   counter         sum_days days_int  \n",
       "0      3.0 69 days 09:16:53       69  \n",
       "1      3.0 69 days 09:16:53       69  \n",
       "2      3.0 69 days 09:16:53       69  \n",
       "3      3.0 61 days 00:00:00       61  \n",
       "4      3.0 61 days 00:00:00       61  "
      ]
     },
     "execution_count": 68,
     "metadata": {},
     "output_type": "execute_result"
    }
   ],
   "source": [
    "cust_repur.head()"
   ]
  },
  {
   "cell_type": "code",
   "execution_count": 69,
   "metadata": {
    "collapsed": false
   },
   "outputs": [
    {
     "data": {
      "text/plain": [
       "(1831, 6)"
      ]
     },
     "execution_count": 69,
     "metadata": {},
     "output_type": "execute_result"
    }
   ],
   "source": [
    "cust_repur.shape"
   ]
  },
  {
   "cell_type": "code",
   "execution_count": 70,
   "metadata": {
    "collapsed": false
   },
   "outputs": [],
   "source": [
    "list_of_indexes = [np.argmax(g['timestamp']) for l, g in cust_repur.groupby(['cust_id','product_id'])]"
   ]
  },
  {
   "cell_type": "code",
   "execution_count": 71,
   "metadata": {
    "collapsed": true
   },
   "outputs": [],
   "source": [
    "cust_repur_original = cust_repur.ix[list_of_indexes]"
   ]
  },
  {
   "cell_type": "code",
   "execution_count": 72,
   "metadata": {
    "collapsed": false
   },
   "outputs": [
    {
     "data": {
      "text/html": [
       "<div>\n",
       "<table border=\"1\" class=\"dataframe\">\n",
       "  <thead>\n",
       "    <tr style=\"text-align: right;\">\n",
       "      <th></th>\n",
       "      <th>cust_id</th>\n",
       "      <th>product_id</th>\n",
       "      <th>timestamp</th>\n",
       "      <th>counter</th>\n",
       "      <th>sum_days</th>\n",
       "      <th>days_int</th>\n",
       "    </tr>\n",
       "  </thead>\n",
       "  <tbody>\n",
       "    <tr>\n",
       "      <th>2</th>\n",
       "      <td>10319</td>\n",
       "      <td>com.gopaktor.subscription.v1.premium.1m</td>\n",
       "      <td>2016-08-19 10:57:14</td>\n",
       "      <td>3.0</td>\n",
       "      <td>69 days 09:16:53</td>\n",
       "      <td>69</td>\n",
       "    </tr>\n",
       "    <tr>\n",
       "      <th>5</th>\n",
       "      <td>105945</td>\n",
       "      <td>com.gopaktor.subscription.v1.premium.1m</td>\n",
       "      <td>2016-08-28 05:27:58</td>\n",
       "      <td>3.0</td>\n",
       "      <td>61 days 00:00:00</td>\n",
       "      <td>61</td>\n",
       "    </tr>\n",
       "    <tr>\n",
       "      <th>9</th>\n",
       "      <td>10939</td>\n",
       "      <td>com.gopaktor.subscription.v1.premium.1m</td>\n",
       "      <td>2016-09-12 14:56:45</td>\n",
       "      <td>4.0</td>\n",
       "      <td>92 days 00:00:00</td>\n",
       "      <td>92</td>\n",
       "    </tr>\n",
       "    <tr>\n",
       "      <th>10</th>\n",
       "      <td>110380</td>\n",
       "      <td>com.gopaktor.subscription.v12.premium.3m</td>\n",
       "      <td>2016-08-13 16:38:00</td>\n",
       "      <td>NaN</td>\n",
       "      <td>0 days 00:00:00</td>\n",
       "      <td>0</td>\n",
       "    </tr>\n",
       "    <tr>\n",
       "      <th>12</th>\n",
       "      <td>110380</td>\n",
       "      <td>com.gopaktor.subscription.v4.premium.1m</td>\n",
       "      <td>2016-07-07 17:54:01</td>\n",
       "      <td>2.0</td>\n",
       "      <td>30 days 00:00:01</td>\n",
       "      <td>30</td>\n",
       "    </tr>\n",
       "  </tbody>\n",
       "</table>\n",
       "</div>"
      ],
      "text/plain": [
       "   cust_id                                product_id           timestamp  \\\n",
       "2    10319   com.gopaktor.subscription.v1.premium.1m 2016-08-19 10:57:14   \n",
       "5   105945   com.gopaktor.subscription.v1.premium.1m 2016-08-28 05:27:58   \n",
       "9    10939   com.gopaktor.subscription.v1.premium.1m 2016-09-12 14:56:45   \n",
       "10  110380  com.gopaktor.subscription.v12.premium.3m 2016-08-13 16:38:00   \n",
       "12  110380   com.gopaktor.subscription.v4.premium.1m 2016-07-07 17:54:01   \n",
       "\n",
       "    counter         sum_days days_int  \n",
       "2       3.0 69 days 09:16:53       69  \n",
       "5       3.0 61 days 00:00:00       61  \n",
       "9       4.0 92 days 00:00:00       92  \n",
       "10      NaN  0 days 00:00:00        0  \n",
       "12      2.0 30 days 00:00:01       30  "
      ]
     },
     "execution_count": 72,
     "metadata": {},
     "output_type": "execute_result"
    }
   ],
   "source": [
    "cust_repur_original.head()"
   ]
  },
  {
   "cell_type": "code",
   "execution_count": 73,
   "metadata": {
    "collapsed": false
   },
   "outputs": [],
   "source": [
    "cust_repur_original.reset_index(drop=True,inplace=True)"
   ]
  },
  {
   "cell_type": "code",
   "execution_count": 74,
   "metadata": {
    "collapsed": false
   },
   "outputs": [
    {
     "data": {
      "text/html": [
       "<div>\n",
       "<table border=\"1\" class=\"dataframe\">\n",
       "  <thead>\n",
       "    <tr style=\"text-align: right;\">\n",
       "      <th></th>\n",
       "      <th>cust_id</th>\n",
       "      <th>product_id</th>\n",
       "      <th>timestamp</th>\n",
       "      <th>counter</th>\n",
       "      <th>sum_days</th>\n",
       "      <th>days_int</th>\n",
       "    </tr>\n",
       "  </thead>\n",
       "  <tbody>\n",
       "    <tr>\n",
       "      <th>0</th>\n",
       "      <td>10319</td>\n",
       "      <td>com.gopaktor.subscription.v1.premium.1m</td>\n",
       "      <td>2016-08-19 10:57:14</td>\n",
       "      <td>3.0</td>\n",
       "      <td>69 days 09:16:53</td>\n",
       "      <td>69</td>\n",
       "    </tr>\n",
       "    <tr>\n",
       "      <th>1</th>\n",
       "      <td>105945</td>\n",
       "      <td>com.gopaktor.subscription.v1.premium.1m</td>\n",
       "      <td>2016-08-28 05:27:58</td>\n",
       "      <td>3.0</td>\n",
       "      <td>61 days 00:00:00</td>\n",
       "      <td>61</td>\n",
       "    </tr>\n",
       "    <tr>\n",
       "      <th>2</th>\n",
       "      <td>10939</td>\n",
       "      <td>com.gopaktor.subscription.v1.premium.1m</td>\n",
       "      <td>2016-09-12 14:56:45</td>\n",
       "      <td>4.0</td>\n",
       "      <td>92 days 00:00:00</td>\n",
       "      <td>92</td>\n",
       "    </tr>\n",
       "    <tr>\n",
       "      <th>3</th>\n",
       "      <td>110380</td>\n",
       "      <td>com.gopaktor.subscription.v12.premium.3m</td>\n",
       "      <td>2016-08-13 16:38:00</td>\n",
       "      <td>NaN</td>\n",
       "      <td>0 days 00:00:00</td>\n",
       "      <td>0</td>\n",
       "    </tr>\n",
       "    <tr>\n",
       "      <th>4</th>\n",
       "      <td>110380</td>\n",
       "      <td>com.gopaktor.subscription.v4.premium.1m</td>\n",
       "      <td>2016-07-07 17:54:01</td>\n",
       "      <td>2.0</td>\n",
       "      <td>30 days 00:00:01</td>\n",
       "      <td>30</td>\n",
       "    </tr>\n",
       "  </tbody>\n",
       "</table>\n",
       "</div>"
      ],
      "text/plain": [
       "  cust_id                                product_id           timestamp  \\\n",
       "0   10319   com.gopaktor.subscription.v1.premium.1m 2016-08-19 10:57:14   \n",
       "1  105945   com.gopaktor.subscription.v1.premium.1m 2016-08-28 05:27:58   \n",
       "2   10939   com.gopaktor.subscription.v1.premium.1m 2016-09-12 14:56:45   \n",
       "3  110380  com.gopaktor.subscription.v12.premium.3m 2016-08-13 16:38:00   \n",
       "4  110380   com.gopaktor.subscription.v4.premium.1m 2016-07-07 17:54:01   \n",
       "\n",
       "   counter         sum_days days_int  \n",
       "0      3.0 69 days 09:16:53       69  \n",
       "1      3.0 61 days 00:00:00       61  \n",
       "2      4.0 92 days 00:00:00       92  \n",
       "3      NaN  0 days 00:00:00        0  \n",
       "4      2.0 30 days 00:00:01       30  "
      ]
     },
     "execution_count": 74,
     "metadata": {},
     "output_type": "execute_result"
    }
   ],
   "source": [
    "cust_repur_original.head()"
   ]
  },
  {
   "cell_type": "code",
   "execution_count": 75,
   "metadata": {
    "collapsed": true
   },
   "outputs": [],
   "source": [
    "cust_repur_original['new_date'] = \"\""
   ]
  },
  {
   "cell_type": "code",
   "execution_count": 76,
   "metadata": {
    "collapsed": false
   },
   "outputs": [
    {
     "data": {
      "text/html": [
       "<div>\n",
       "<table border=\"1\" class=\"dataframe\">\n",
       "  <thead>\n",
       "    <tr style=\"text-align: right;\">\n",
       "      <th></th>\n",
       "      <th>cust_id</th>\n",
       "      <th>product_id</th>\n",
       "      <th>timestamp</th>\n",
       "      <th>counter</th>\n",
       "      <th>sum_days</th>\n",
       "      <th>days_int</th>\n",
       "      <th>new_date</th>\n",
       "    </tr>\n",
       "  </thead>\n",
       "  <tbody>\n",
       "    <tr>\n",
       "      <th>0</th>\n",
       "      <td>10319</td>\n",
       "      <td>com.gopaktor.subscription.v1.premium.1m</td>\n",
       "      <td>2016-08-19 10:57:14</td>\n",
       "      <td>3.0</td>\n",
       "      <td>69 days 09:16:53</td>\n",
       "      <td>69</td>\n",
       "      <td></td>\n",
       "    </tr>\n",
       "    <tr>\n",
       "      <th>1</th>\n",
       "      <td>105945</td>\n",
       "      <td>com.gopaktor.subscription.v1.premium.1m</td>\n",
       "      <td>2016-08-28 05:27:58</td>\n",
       "      <td>3.0</td>\n",
       "      <td>61 days 00:00:00</td>\n",
       "      <td>61</td>\n",
       "      <td></td>\n",
       "    </tr>\n",
       "    <tr>\n",
       "      <th>2</th>\n",
       "      <td>10939</td>\n",
       "      <td>com.gopaktor.subscription.v1.premium.1m</td>\n",
       "      <td>2016-09-12 14:56:45</td>\n",
       "      <td>4.0</td>\n",
       "      <td>92 days 00:00:00</td>\n",
       "      <td>92</td>\n",
       "      <td></td>\n",
       "    </tr>\n",
       "    <tr>\n",
       "      <th>3</th>\n",
       "      <td>110380</td>\n",
       "      <td>com.gopaktor.subscription.v12.premium.3m</td>\n",
       "      <td>2016-08-13 16:38:00</td>\n",
       "      <td>NaN</td>\n",
       "      <td>0 days 00:00:00</td>\n",
       "      <td>0</td>\n",
       "      <td></td>\n",
       "    </tr>\n",
       "    <tr>\n",
       "      <th>4</th>\n",
       "      <td>110380</td>\n",
       "      <td>com.gopaktor.subscription.v4.premium.1m</td>\n",
       "      <td>2016-07-07 17:54:01</td>\n",
       "      <td>2.0</td>\n",
       "      <td>30 days 00:00:01</td>\n",
       "      <td>30</td>\n",
       "      <td></td>\n",
       "    </tr>\n",
       "  </tbody>\n",
       "</table>\n",
       "</div>"
      ],
      "text/plain": [
       "  cust_id                                product_id           timestamp  \\\n",
       "0   10319   com.gopaktor.subscription.v1.premium.1m 2016-08-19 10:57:14   \n",
       "1  105945   com.gopaktor.subscription.v1.premium.1m 2016-08-28 05:27:58   \n",
       "2   10939   com.gopaktor.subscription.v1.premium.1m 2016-09-12 14:56:45   \n",
       "3  110380  com.gopaktor.subscription.v12.premium.3m 2016-08-13 16:38:00   \n",
       "4  110380   com.gopaktor.subscription.v4.premium.1m 2016-07-07 17:54:01   \n",
       "\n",
       "   counter         sum_days days_int new_date  \n",
       "0      3.0 69 days 09:16:53       69           \n",
       "1      3.0 61 days 00:00:00       61           \n",
       "2      4.0 92 days 00:00:00       92           \n",
       "3      NaN  0 days 00:00:00        0           \n",
       "4      2.0 30 days 00:00:01       30           "
      ]
     },
     "execution_count": 76,
     "metadata": {},
     "output_type": "execute_result"
    }
   ],
   "source": [
    "cust_repur_original.head()"
   ]
  },
  {
   "cell_type": "code",
   "execution_count": 77,
   "metadata": {
    "collapsed": false
   },
   "outputs": [
    {
     "name": "stderr",
     "output_type": "stream",
     "text": [
      "/home/ubuntu/anaconda2/lib/python2.7/site-packages/ipykernel/__main__.py:3: SettingWithCopyWarning: \n",
      "A value is trying to be set on a copy of a slice from a DataFrame\n",
      "\n",
      "See the caveats in the documentation: http://pandas.pydata.org/pandas-docs/stable/indexing.html#indexing-view-versus-copy\n",
      "  app.launch_new_instance()\n",
      "/home/ubuntu/anaconda2/lib/python2.7/site-packages/ipykernel/__main__.py:5: SettingWithCopyWarning: \n",
      "A value is trying to be set on a copy of a slice from a DataFrame\n",
      "\n",
      "See the caveats in the documentation: http://pandas.pydata.org/pandas-docs/stable/indexing.html#indexing-view-versus-copy\n"
     ]
    }
   ],
   "source": [
    "for x in range(0,len(cust_repur_original)):\n",
    "    if cust_repur_original.days_int[x] != 0:\n",
    "        cust_repur_original.new_date[x] = cust_repur_original.days_int[x] - 1\n",
    "    else:\n",
    "        cust_repur_original.new_date[x] = 0"
   ]
  },
  {
   "cell_type": "code",
   "execution_count": 78,
   "metadata": {
    "collapsed": false
   },
   "outputs": [
    {
     "data": {
      "text/html": [
       "<div>\n",
       "<table border=\"1\" class=\"dataframe\">\n",
       "  <thead>\n",
       "    <tr style=\"text-align: right;\">\n",
       "      <th></th>\n",
       "      <th>cust_id</th>\n",
       "      <th>product_id</th>\n",
       "      <th>timestamp</th>\n",
       "      <th>counter</th>\n",
       "      <th>sum_days</th>\n",
       "      <th>days_int</th>\n",
       "      <th>new_date</th>\n",
       "    </tr>\n",
       "  </thead>\n",
       "  <tbody>\n",
       "    <tr>\n",
       "      <th>0</th>\n",
       "      <td>10319</td>\n",
       "      <td>com.gopaktor.subscription.v1.premium.1m</td>\n",
       "      <td>2016-08-19 10:57:14</td>\n",
       "      <td>3.0</td>\n",
       "      <td>69 days 09:16:53</td>\n",
       "      <td>69</td>\n",
       "      <td>68</td>\n",
       "    </tr>\n",
       "    <tr>\n",
       "      <th>1</th>\n",
       "      <td>105945</td>\n",
       "      <td>com.gopaktor.subscription.v1.premium.1m</td>\n",
       "      <td>2016-08-28 05:27:58</td>\n",
       "      <td>3.0</td>\n",
       "      <td>61 days 00:00:00</td>\n",
       "      <td>61</td>\n",
       "      <td>60</td>\n",
       "    </tr>\n",
       "    <tr>\n",
       "      <th>2</th>\n",
       "      <td>10939</td>\n",
       "      <td>com.gopaktor.subscription.v1.premium.1m</td>\n",
       "      <td>2016-09-12 14:56:45</td>\n",
       "      <td>4.0</td>\n",
       "      <td>92 days 00:00:00</td>\n",
       "      <td>92</td>\n",
       "      <td>91</td>\n",
       "    </tr>\n",
       "    <tr>\n",
       "      <th>3</th>\n",
       "      <td>110380</td>\n",
       "      <td>com.gopaktor.subscription.v12.premium.3m</td>\n",
       "      <td>2016-08-13 16:38:00</td>\n",
       "      <td>NaN</td>\n",
       "      <td>0 days 00:00:00</td>\n",
       "      <td>0</td>\n",
       "      <td>0</td>\n",
       "    </tr>\n",
       "    <tr>\n",
       "      <th>4</th>\n",
       "      <td>110380</td>\n",
       "      <td>com.gopaktor.subscription.v4.premium.1m</td>\n",
       "      <td>2016-07-07 17:54:01</td>\n",
       "      <td>2.0</td>\n",
       "      <td>30 days 00:00:01</td>\n",
       "      <td>30</td>\n",
       "      <td>29</td>\n",
       "    </tr>\n",
       "  </tbody>\n",
       "</table>\n",
       "</div>"
      ],
      "text/plain": [
       "  cust_id                                product_id           timestamp  \\\n",
       "0   10319   com.gopaktor.subscription.v1.premium.1m 2016-08-19 10:57:14   \n",
       "1  105945   com.gopaktor.subscription.v1.premium.1m 2016-08-28 05:27:58   \n",
       "2   10939   com.gopaktor.subscription.v1.premium.1m 2016-09-12 14:56:45   \n",
       "3  110380  com.gopaktor.subscription.v12.premium.3m 2016-08-13 16:38:00   \n",
       "4  110380   com.gopaktor.subscription.v4.premium.1m 2016-07-07 17:54:01   \n",
       "\n",
       "   counter         sum_days days_int new_date  \n",
       "0      3.0 69 days 09:16:53       69       68  \n",
       "1      3.0 61 days 00:00:00       61       60  \n",
       "2      4.0 92 days 00:00:00       92       91  \n",
       "3      NaN  0 days 00:00:00        0        0  \n",
       "4      2.0 30 days 00:00:01       30       29  "
      ]
     },
     "execution_count": 78,
     "metadata": {},
     "output_type": "execute_result"
    }
   ],
   "source": [
    "cust_repur_original.head()"
   ]
  },
  {
   "cell_type": "code",
   "execution_count": 79,
   "metadata": {
    "collapsed": true
   },
   "outputs": [],
   "source": [
    "cust_repur_original['new_count'] = cust_repur_original['counter'] - 1"
   ]
  },
  {
   "cell_type": "code",
   "execution_count": 80,
   "metadata": {
    "collapsed": false
   },
   "outputs": [
    {
     "data": {
      "text/html": [
       "<div>\n",
       "<table border=\"1\" class=\"dataframe\">\n",
       "  <thead>\n",
       "    <tr style=\"text-align: right;\">\n",
       "      <th></th>\n",
       "      <th>cust_id</th>\n",
       "      <th>product_id</th>\n",
       "      <th>timestamp</th>\n",
       "      <th>counter</th>\n",
       "      <th>sum_days</th>\n",
       "      <th>days_int</th>\n",
       "      <th>new_date</th>\n",
       "      <th>new_count</th>\n",
       "    </tr>\n",
       "  </thead>\n",
       "  <tbody>\n",
       "    <tr>\n",
       "      <th>0</th>\n",
       "      <td>10319</td>\n",
       "      <td>com.gopaktor.subscription.v1.premium.1m</td>\n",
       "      <td>2016-08-19 10:57:14</td>\n",
       "      <td>3.0</td>\n",
       "      <td>69 days 09:16:53</td>\n",
       "      <td>69</td>\n",
       "      <td>68</td>\n",
       "      <td>2.0</td>\n",
       "    </tr>\n",
       "    <tr>\n",
       "      <th>1</th>\n",
       "      <td>105945</td>\n",
       "      <td>com.gopaktor.subscription.v1.premium.1m</td>\n",
       "      <td>2016-08-28 05:27:58</td>\n",
       "      <td>3.0</td>\n",
       "      <td>61 days 00:00:00</td>\n",
       "      <td>61</td>\n",
       "      <td>60</td>\n",
       "      <td>2.0</td>\n",
       "    </tr>\n",
       "    <tr>\n",
       "      <th>2</th>\n",
       "      <td>10939</td>\n",
       "      <td>com.gopaktor.subscription.v1.premium.1m</td>\n",
       "      <td>2016-09-12 14:56:45</td>\n",
       "      <td>4.0</td>\n",
       "      <td>92 days 00:00:00</td>\n",
       "      <td>92</td>\n",
       "      <td>91</td>\n",
       "      <td>3.0</td>\n",
       "    </tr>\n",
       "    <tr>\n",
       "      <th>3</th>\n",
       "      <td>110380</td>\n",
       "      <td>com.gopaktor.subscription.v12.premium.3m</td>\n",
       "      <td>2016-08-13 16:38:00</td>\n",
       "      <td>NaN</td>\n",
       "      <td>0 days 00:00:00</td>\n",
       "      <td>0</td>\n",
       "      <td>0</td>\n",
       "      <td>NaN</td>\n",
       "    </tr>\n",
       "    <tr>\n",
       "      <th>4</th>\n",
       "      <td>110380</td>\n",
       "      <td>com.gopaktor.subscription.v4.premium.1m</td>\n",
       "      <td>2016-07-07 17:54:01</td>\n",
       "      <td>2.0</td>\n",
       "      <td>30 days 00:00:01</td>\n",
       "      <td>30</td>\n",
       "      <td>29</td>\n",
       "      <td>1.0</td>\n",
       "    </tr>\n",
       "  </tbody>\n",
       "</table>\n",
       "</div>"
      ],
      "text/plain": [
       "  cust_id                                product_id           timestamp  \\\n",
       "0   10319   com.gopaktor.subscription.v1.premium.1m 2016-08-19 10:57:14   \n",
       "1  105945   com.gopaktor.subscription.v1.premium.1m 2016-08-28 05:27:58   \n",
       "2   10939   com.gopaktor.subscription.v1.premium.1m 2016-09-12 14:56:45   \n",
       "3  110380  com.gopaktor.subscription.v12.premium.3m 2016-08-13 16:38:00   \n",
       "4  110380   com.gopaktor.subscription.v4.premium.1m 2016-07-07 17:54:01   \n",
       "\n",
       "   counter         sum_days days_int new_date  new_count  \n",
       "0      3.0 69 days 09:16:53       69       68        2.0  \n",
       "1      3.0 61 days 00:00:00       61       60        2.0  \n",
       "2      4.0 92 days 00:00:00       92       91        3.0  \n",
       "3      NaN  0 days 00:00:00        0        0        NaN  \n",
       "4      2.0 30 days 00:00:01       30       29        1.0  "
      ]
     },
     "execution_count": 80,
     "metadata": {},
     "output_type": "execute_result"
    }
   ],
   "source": [
    "cust_repur_original.head()"
   ]
  },
  {
   "cell_type": "code",
   "execution_count": 81,
   "metadata": {
    "collapsed": false
   },
   "outputs": [],
   "source": [
    "cust_repur_original['repurchase_time'] = cust_repur_original['days_int'] / cust_repur_original['new_count']"
   ]
  },
  {
   "cell_type": "code",
   "execution_count": 82,
   "metadata": {
    "collapsed": false
   },
   "outputs": [
    {
     "data": {
      "text/html": [
       "<div>\n",
       "<table border=\"1\" class=\"dataframe\">\n",
       "  <thead>\n",
       "    <tr style=\"text-align: right;\">\n",
       "      <th></th>\n",
       "      <th>cust_id</th>\n",
       "      <th>product_id</th>\n",
       "      <th>timestamp</th>\n",
       "      <th>counter</th>\n",
       "      <th>sum_days</th>\n",
       "      <th>days_int</th>\n",
       "      <th>new_date</th>\n",
       "      <th>new_count</th>\n",
       "      <th>repurchase_time</th>\n",
       "    </tr>\n",
       "  </thead>\n",
       "  <tbody>\n",
       "    <tr>\n",
       "      <th>0</th>\n",
       "      <td>10319</td>\n",
       "      <td>com.gopaktor.subscription.v1.premium.1m</td>\n",
       "      <td>2016-08-19 10:57:14</td>\n",
       "      <td>3.0</td>\n",
       "      <td>69 days 09:16:53</td>\n",
       "      <td>69</td>\n",
       "      <td>68</td>\n",
       "      <td>2.0</td>\n",
       "      <td>34.5</td>\n",
       "    </tr>\n",
       "    <tr>\n",
       "      <th>1</th>\n",
       "      <td>105945</td>\n",
       "      <td>com.gopaktor.subscription.v1.premium.1m</td>\n",
       "      <td>2016-08-28 05:27:58</td>\n",
       "      <td>3.0</td>\n",
       "      <td>61 days 00:00:00</td>\n",
       "      <td>61</td>\n",
       "      <td>60</td>\n",
       "      <td>2.0</td>\n",
       "      <td>30.5</td>\n",
       "    </tr>\n",
       "    <tr>\n",
       "      <th>2</th>\n",
       "      <td>10939</td>\n",
       "      <td>com.gopaktor.subscription.v1.premium.1m</td>\n",
       "      <td>2016-09-12 14:56:45</td>\n",
       "      <td>4.0</td>\n",
       "      <td>92 days 00:00:00</td>\n",
       "      <td>92</td>\n",
       "      <td>91</td>\n",
       "      <td>3.0</td>\n",
       "      <td>30.6667</td>\n",
       "    </tr>\n",
       "    <tr>\n",
       "      <th>3</th>\n",
       "      <td>110380</td>\n",
       "      <td>com.gopaktor.subscription.v12.premium.3m</td>\n",
       "      <td>2016-08-13 16:38:00</td>\n",
       "      <td>NaN</td>\n",
       "      <td>0 days 00:00:00</td>\n",
       "      <td>0</td>\n",
       "      <td>0</td>\n",
       "      <td>NaN</td>\n",
       "      <td>NaN</td>\n",
       "    </tr>\n",
       "    <tr>\n",
       "      <th>4</th>\n",
       "      <td>110380</td>\n",
       "      <td>com.gopaktor.subscription.v4.premium.1m</td>\n",
       "      <td>2016-07-07 17:54:01</td>\n",
       "      <td>2.0</td>\n",
       "      <td>30 days 00:00:01</td>\n",
       "      <td>30</td>\n",
       "      <td>29</td>\n",
       "      <td>1.0</td>\n",
       "      <td>30</td>\n",
       "    </tr>\n",
       "  </tbody>\n",
       "</table>\n",
       "</div>"
      ],
      "text/plain": [
       "  cust_id                                product_id           timestamp  \\\n",
       "0   10319   com.gopaktor.subscription.v1.premium.1m 2016-08-19 10:57:14   \n",
       "1  105945   com.gopaktor.subscription.v1.premium.1m 2016-08-28 05:27:58   \n",
       "2   10939   com.gopaktor.subscription.v1.premium.1m 2016-09-12 14:56:45   \n",
       "3  110380  com.gopaktor.subscription.v12.premium.3m 2016-08-13 16:38:00   \n",
       "4  110380   com.gopaktor.subscription.v4.premium.1m 2016-07-07 17:54:01   \n",
       "\n",
       "   counter         sum_days days_int new_date  new_count repurchase_time  \n",
       "0      3.0 69 days 09:16:53       69       68        2.0            34.5  \n",
       "1      3.0 61 days 00:00:00       61       60        2.0            30.5  \n",
       "2      4.0 92 days 00:00:00       92       91        3.0         30.6667  \n",
       "3      NaN  0 days 00:00:00        0        0        NaN             NaN  \n",
       "4      2.0 30 days 00:00:01       30       29        1.0              30  "
      ]
     },
     "execution_count": 82,
     "metadata": {},
     "output_type": "execute_result"
    }
   ],
   "source": [
    "cust_repur_original.head()"
   ]
  },
  {
   "cell_type": "code",
   "execution_count": 83,
   "metadata": {
    "collapsed": false
   },
   "outputs": [
    {
     "data": {
      "text/plain": [
       "22"
      ]
     },
     "execution_count": 83,
     "metadata": {},
     "output_type": "execute_result"
    }
   ],
   "source": [
    "len(cust_repur_original.product_id.unique())"
   ]
  },
  {
   "cell_type": "code",
   "execution_count": 84,
   "metadata": {
    "collapsed": false
   },
   "outputs": [],
   "source": [
    "abc = pd.pivot_table(cust_repur_original, index=['cust_id'], columns=['product_id'], values=['repurchase_time'], aggfunc='first')"
   ]
  },
  {
   "cell_type": "code",
   "execution_count": 85,
   "metadata": {
    "collapsed": false
   },
   "outputs": [
    {
     "data": {
      "text/plain": [
       "(1042, 22)"
      ]
     },
     "execution_count": 85,
     "metadata": {},
     "output_type": "execute_result"
    }
   ],
   "source": [
    "abc.shape"
   ]
  },
  {
   "cell_type": "code",
   "execution_count": 86,
   "metadata": {
    "collapsed": false
   },
   "outputs": [
    {
     "data": {
      "text/html": [
       "<div>\n",
       "<table border=\"1\" class=\"dataframe\">\n",
       "  <thead>\n",
       "    <tr>\n",
       "      <th></th>\n",
       "      <th colspan=\"21\" halign=\"left\">repurchase_time</th>\n",
       "    </tr>\n",
       "    <tr>\n",
       "      <th>product_id</th>\n",
       "      <th>com.gopaktor.credit.v2.1000</th>\n",
       "      <th>com.gopaktor.credit.v2.10000</th>\n",
       "      <th>com.gopaktor.credit.v2.3000</th>\n",
       "      <th>com.gopaktor.credit.v2.6000</th>\n",
       "      <th>com.gopaktor.subscription.v1.premium.1m</th>\n",
       "      <th>com.gopaktor.subscription.v11.premium.6m</th>\n",
       "      <th>com.gopaktor.subscription.v12.premium.3m</th>\n",
       "      <th>com.gopaktor.subscription.v14.premium.1m</th>\n",
       "      <th>com.gopaktor.subscription.v2.premium.1m</th>\n",
       "      <th>com.gopaktor.subscription.v2.premium.1m.2000</th>\n",
       "      <th>...</th>\n",
       "      <th>com.gopaktor.subscription.v2.premium.3m.2000</th>\n",
       "      <th>com.gopaktor.subscription.v2.premium.3m.3000</th>\n",
       "      <th>com.gopaktor.subscription.v2.premium.6m</th>\n",
       "      <th>com.gopaktor.subscription.v2.premium.6m.3000</th>\n",
       "      <th>com.gopaktor.subscription.v3.premium.3m</th>\n",
       "      <th>com.gopaktor.subscription.v3.premium.6m</th>\n",
       "      <th>com.gopaktor.subscription.v4.premium.1m</th>\n",
       "      <th>com.gopaktor.subscription.v8.premium.6m</th>\n",
       "      <th>com.gopaktor.upgrade.v2.ultimate.premium.3m</th>\n",
       "      <th>paktor.credit.10</th>\n",
       "    </tr>\n",
       "    <tr>\n",
       "      <th>cust_id</th>\n",
       "      <th></th>\n",
       "      <th></th>\n",
       "      <th></th>\n",
       "      <th></th>\n",
       "      <th></th>\n",
       "      <th></th>\n",
       "      <th></th>\n",
       "      <th></th>\n",
       "      <th></th>\n",
       "      <th></th>\n",
       "      <th></th>\n",
       "      <th></th>\n",
       "      <th></th>\n",
       "      <th></th>\n",
       "      <th></th>\n",
       "      <th></th>\n",
       "      <th></th>\n",
       "      <th></th>\n",
       "      <th></th>\n",
       "      <th></th>\n",
       "      <th></th>\n",
       "    </tr>\n",
       "  </thead>\n",
       "  <tbody>\n",
       "    <tr>\n",
       "      <th>10319</th>\n",
       "      <td>NaN</td>\n",
       "      <td>NaN</td>\n",
       "      <td>NaN</td>\n",
       "      <td>NaN</td>\n",
       "      <td>34.500000</td>\n",
       "      <td>NaN</td>\n",
       "      <td>NaN</td>\n",
       "      <td>NaN</td>\n",
       "      <td>NaN</td>\n",
       "      <td>NaN</td>\n",
       "      <td>...</td>\n",
       "      <td>NaN</td>\n",
       "      <td>NaN</td>\n",
       "      <td>NaN</td>\n",
       "      <td>NaN</td>\n",
       "      <td>NaN</td>\n",
       "      <td>NaN</td>\n",
       "      <td>NaN</td>\n",
       "      <td>NaN</td>\n",
       "      <td>NaN</td>\n",
       "      <td>NaN</td>\n",
       "    </tr>\n",
       "    <tr>\n",
       "      <th>105945</th>\n",
       "      <td>NaN</td>\n",
       "      <td>NaN</td>\n",
       "      <td>NaN</td>\n",
       "      <td>NaN</td>\n",
       "      <td>30.500000</td>\n",
       "      <td>NaN</td>\n",
       "      <td>NaN</td>\n",
       "      <td>NaN</td>\n",
       "      <td>NaN</td>\n",
       "      <td>NaN</td>\n",
       "      <td>...</td>\n",
       "      <td>NaN</td>\n",
       "      <td>NaN</td>\n",
       "      <td>NaN</td>\n",
       "      <td>NaN</td>\n",
       "      <td>NaN</td>\n",
       "      <td>NaN</td>\n",
       "      <td>NaN</td>\n",
       "      <td>NaN</td>\n",
       "      <td>NaN</td>\n",
       "      <td>NaN</td>\n",
       "    </tr>\n",
       "    <tr>\n",
       "      <th>10939</th>\n",
       "      <td>NaN</td>\n",
       "      <td>NaN</td>\n",
       "      <td>NaN</td>\n",
       "      <td>NaN</td>\n",
       "      <td>30.666667</td>\n",
       "      <td>NaN</td>\n",
       "      <td>NaN</td>\n",
       "      <td>NaN</td>\n",
       "      <td>NaN</td>\n",
       "      <td>NaN</td>\n",
       "      <td>...</td>\n",
       "      <td>NaN</td>\n",
       "      <td>NaN</td>\n",
       "      <td>NaN</td>\n",
       "      <td>NaN</td>\n",
       "      <td>NaN</td>\n",
       "      <td>NaN</td>\n",
       "      <td>NaN</td>\n",
       "      <td>NaN</td>\n",
       "      <td>NaN</td>\n",
       "      <td>NaN</td>\n",
       "    </tr>\n",
       "    <tr>\n",
       "      <th>110380</th>\n",
       "      <td>NaN</td>\n",
       "      <td>NaN</td>\n",
       "      <td>NaN</td>\n",
       "      <td>NaN</td>\n",
       "      <td>NaN</td>\n",
       "      <td>NaN</td>\n",
       "      <td>NaN</td>\n",
       "      <td>NaN</td>\n",
       "      <td>NaN</td>\n",
       "      <td>NaN</td>\n",
       "      <td>...</td>\n",
       "      <td>NaN</td>\n",
       "      <td>NaN</td>\n",
       "      <td>NaN</td>\n",
       "      <td>NaN</td>\n",
       "      <td>NaN</td>\n",
       "      <td>NaN</td>\n",
       "      <td>30.0</td>\n",
       "      <td>NaN</td>\n",
       "      <td>NaN</td>\n",
       "      <td>NaN</td>\n",
       "    </tr>\n",
       "    <tr>\n",
       "      <th>11279</th>\n",
       "      <td>NaN</td>\n",
       "      <td>NaN</td>\n",
       "      <td>NaN</td>\n",
       "      <td>NaN</td>\n",
       "      <td>NaN</td>\n",
       "      <td>NaN</td>\n",
       "      <td>NaN</td>\n",
       "      <td>NaN</td>\n",
       "      <td>NaN</td>\n",
       "      <td>NaN</td>\n",
       "      <td>...</td>\n",
       "      <td>NaN</td>\n",
       "      <td>NaN</td>\n",
       "      <td>NaN</td>\n",
       "      <td>NaN</td>\n",
       "      <td>NaN</td>\n",
       "      <td>NaN</td>\n",
       "      <td>NaN</td>\n",
       "      <td>NaN</td>\n",
       "      <td>NaN</td>\n",
       "      <td>NaN</td>\n",
       "    </tr>\n",
       "  </tbody>\n",
       "</table>\n",
       "<p>5 rows × 22 columns</p>\n",
       "</div>"
      ],
      "text/plain": [
       "                       repurchase_time                               \\\n",
       "product_id com.gopaktor.credit.v2.1000 com.gopaktor.credit.v2.10000   \n",
       "cust_id                                                               \n",
       "10319                              NaN                          NaN   \n",
       "105945                             NaN                          NaN   \n",
       "10939                              NaN                          NaN   \n",
       "110380                             NaN                          NaN   \n",
       "11279                              NaN                          NaN   \n",
       "\n",
       "                                                                    \\\n",
       "product_id com.gopaktor.credit.v2.3000 com.gopaktor.credit.v2.6000   \n",
       "cust_id                                                              \n",
       "10319                              NaN                         NaN   \n",
       "105945                             NaN                         NaN   \n",
       "10939                              NaN                         NaN   \n",
       "110380                             NaN                         NaN   \n",
       "11279                              NaN                         NaN   \n",
       "\n",
       "                                                    \\\n",
       "product_id com.gopaktor.subscription.v1.premium.1m   \n",
       "cust_id                                              \n",
       "10319                                    34.500000   \n",
       "105945                                   30.500000   \n",
       "10939                                    30.666667   \n",
       "110380                                         NaN   \n",
       "11279                                          NaN   \n",
       "\n",
       "                                                     \\\n",
       "product_id com.gopaktor.subscription.v11.premium.6m   \n",
       "cust_id                                               \n",
       "10319                                           NaN   \n",
       "105945                                          NaN   \n",
       "10939                                           NaN   \n",
       "110380                                          NaN   \n",
       "11279                                           NaN   \n",
       "\n",
       "                                                     \\\n",
       "product_id com.gopaktor.subscription.v12.premium.3m   \n",
       "cust_id                                               \n",
       "10319                                           NaN   \n",
       "105945                                          NaN   \n",
       "10939                                           NaN   \n",
       "110380                                          NaN   \n",
       "11279                                           NaN   \n",
       "\n",
       "                                                     \\\n",
       "product_id com.gopaktor.subscription.v14.premium.1m   \n",
       "cust_id                                               \n",
       "10319                                           NaN   \n",
       "105945                                          NaN   \n",
       "10939                                           NaN   \n",
       "110380                                          NaN   \n",
       "11279                                           NaN   \n",
       "\n",
       "                                                    \\\n",
       "product_id com.gopaktor.subscription.v2.premium.1m   \n",
       "cust_id                                              \n",
       "10319                                          NaN   \n",
       "105945                                         NaN   \n",
       "10939                                          NaN   \n",
       "110380                                         NaN   \n",
       "11279                                          NaN   \n",
       "\n",
       "                                                              ...         \\\n",
       "product_id com.gopaktor.subscription.v2.premium.1m.2000       ...          \n",
       "cust_id                                                       ...          \n",
       "10319                                               NaN       ...          \n",
       "105945                                              NaN       ...          \n",
       "10939                                               NaN       ...          \n",
       "110380                                              NaN       ...          \n",
       "11279                                               NaN       ...          \n",
       "\n",
       "                                                         \\\n",
       "product_id com.gopaktor.subscription.v2.premium.3m.2000   \n",
       "cust_id                                                   \n",
       "10319                                               NaN   \n",
       "105945                                              NaN   \n",
       "10939                                               NaN   \n",
       "110380                                              NaN   \n",
       "11279                                               NaN   \n",
       "\n",
       "                                                         \\\n",
       "product_id com.gopaktor.subscription.v2.premium.3m.3000   \n",
       "cust_id                                                   \n",
       "10319                                               NaN   \n",
       "105945                                              NaN   \n",
       "10939                                               NaN   \n",
       "110380                                              NaN   \n",
       "11279                                               NaN   \n",
       "\n",
       "                                                    \\\n",
       "product_id com.gopaktor.subscription.v2.premium.6m   \n",
       "cust_id                                              \n",
       "10319                                          NaN   \n",
       "105945                                         NaN   \n",
       "10939                                          NaN   \n",
       "110380                                         NaN   \n",
       "11279                                          NaN   \n",
       "\n",
       "                                                         \\\n",
       "product_id com.gopaktor.subscription.v2.premium.6m.3000   \n",
       "cust_id                                                   \n",
       "10319                                               NaN   \n",
       "105945                                              NaN   \n",
       "10939                                               NaN   \n",
       "110380                                              NaN   \n",
       "11279                                               NaN   \n",
       "\n",
       "                                                    \\\n",
       "product_id com.gopaktor.subscription.v3.premium.3m   \n",
       "cust_id                                              \n",
       "10319                                          NaN   \n",
       "105945                                         NaN   \n",
       "10939                                          NaN   \n",
       "110380                                         NaN   \n",
       "11279                                          NaN   \n",
       "\n",
       "                                                    \\\n",
       "product_id com.gopaktor.subscription.v3.premium.6m   \n",
       "cust_id                                              \n",
       "10319                                          NaN   \n",
       "105945                                         NaN   \n",
       "10939                                          NaN   \n",
       "110380                                         NaN   \n",
       "11279                                          NaN   \n",
       "\n",
       "                                                    \\\n",
       "product_id com.gopaktor.subscription.v4.premium.1m   \n",
       "cust_id                                              \n",
       "10319                                          NaN   \n",
       "105945                                         NaN   \n",
       "10939                                          NaN   \n",
       "110380                                        30.0   \n",
       "11279                                          NaN   \n",
       "\n",
       "                                                    \\\n",
       "product_id com.gopaktor.subscription.v8.premium.6m   \n",
       "cust_id                                              \n",
       "10319                                          NaN   \n",
       "105945                                         NaN   \n",
       "10939                                          NaN   \n",
       "110380                                         NaN   \n",
       "11279                                          NaN   \n",
       "\n",
       "                                                                         \n",
       "product_id com.gopaktor.upgrade.v2.ultimate.premium.3m paktor.credit.10  \n",
       "cust_id                                                                  \n",
       "10319                                              NaN              NaN  \n",
       "105945                                             NaN              NaN  \n",
       "10939                                              NaN              NaN  \n",
       "110380                                             NaN              NaN  \n",
       "11279                                              NaN              NaN  \n",
       "\n",
       "[5 rows x 22 columns]"
      ]
     },
     "execution_count": 86,
     "metadata": {},
     "output_type": "execute_result"
    }
   ],
   "source": [
    "abc.head()"
   ]
  },
  {
   "cell_type": "code",
   "execution_count": 87,
   "metadata": {
    "collapsed": false
   },
   "outputs": [
    {
     "data": {
      "text/plain": [
       "pandas.core.frame.DataFrame"
      ]
     },
     "execution_count": 87,
     "metadata": {},
     "output_type": "execute_result"
    }
   ],
   "source": [
    "type(abc)"
   ]
  },
  {
   "cell_type": "code",
   "execution_count": 88,
   "metadata": {
    "collapsed": false
   },
   "outputs": [],
   "source": [
    "mi = abc.columns"
   ]
  },
  {
   "cell_type": "code",
   "execution_count": 89,
   "metadata": {
    "collapsed": false
   },
   "outputs": [
    {
     "data": {
      "text/plain": [
       "[('repurchase_time', 'com.gopaktor.credit.v2.1000'),\n",
       " ('repurchase_time', 'com.gopaktor.credit.v2.10000'),\n",
       " ('repurchase_time', 'com.gopaktor.credit.v2.3000'),\n",
       " ('repurchase_time', 'com.gopaktor.credit.v2.6000'),\n",
       " ('repurchase_time', 'com.gopaktor.subscription.v1.premium.1m'),\n",
       " ('repurchase_time', 'com.gopaktor.subscription.v11.premium.6m'),\n",
       " ('repurchase_time', 'com.gopaktor.subscription.v12.premium.3m'),\n",
       " ('repurchase_time', 'com.gopaktor.subscription.v14.premium.1m'),\n",
       " ('repurchase_time', 'com.gopaktor.subscription.v2.premium.1m'),\n",
       " ('repurchase_time', 'com.gopaktor.subscription.v2.premium.1m.2000'),\n",
       " ('repurchase_time', 'com.gopaktor.subscription.v2.premium.1m.3000'),\n",
       " ('repurchase_time', 'com.gopaktor.subscription.v2.premium.3m'),\n",
       " ('repurchase_time', 'com.gopaktor.subscription.v2.premium.3m.2000'),\n",
       " ('repurchase_time', 'com.gopaktor.subscription.v2.premium.3m.3000'),\n",
       " ('repurchase_time', 'com.gopaktor.subscription.v2.premium.6m'),\n",
       " ('repurchase_time', 'com.gopaktor.subscription.v2.premium.6m.3000'),\n",
       " ('repurchase_time', 'com.gopaktor.subscription.v3.premium.3m'),\n",
       " ('repurchase_time', 'com.gopaktor.subscription.v3.premium.6m'),\n",
       " ('repurchase_time', 'com.gopaktor.subscription.v4.premium.1m'),\n",
       " ('repurchase_time', 'com.gopaktor.subscription.v8.premium.6m'),\n",
       " ('repurchase_time', 'com.gopaktor.upgrade.v2.ultimate.premium.3m'),\n",
       " ('repurchase_time', 'paktor.credit.10')]"
      ]
     },
     "execution_count": 89,
     "metadata": {},
     "output_type": "execute_result"
    }
   ],
   "source": [
    "mi.tolist()"
   ]
  },
  {
   "cell_type": "code",
   "execution_count": 90,
   "metadata": {
    "collapsed": true
   },
   "outputs": [],
   "source": [
    "ind = pd.Index([e[1] for e in mi.tolist()])"
   ]
  },
  {
   "cell_type": "code",
   "execution_count": 91,
   "metadata": {
    "collapsed": true
   },
   "outputs": [],
   "source": [
    "abc.columns = ind"
   ]
  },
  {
   "cell_type": "code",
   "execution_count": 92,
   "metadata": {
    "collapsed": false,
    "scrolled": true
   },
   "outputs": [
    {
     "data": {
      "text/html": [
       "<div>\n",
       "<table border=\"1\" class=\"dataframe\">\n",
       "  <thead>\n",
       "    <tr style=\"text-align: right;\">\n",
       "      <th></th>\n",
       "      <th>com.gopaktor.credit.v2.1000</th>\n",
       "      <th>com.gopaktor.credit.v2.10000</th>\n",
       "      <th>com.gopaktor.credit.v2.3000</th>\n",
       "      <th>com.gopaktor.credit.v2.6000</th>\n",
       "      <th>com.gopaktor.subscription.v1.premium.1m</th>\n",
       "      <th>com.gopaktor.subscription.v11.premium.6m</th>\n",
       "      <th>com.gopaktor.subscription.v12.premium.3m</th>\n",
       "      <th>com.gopaktor.subscription.v14.premium.1m</th>\n",
       "      <th>com.gopaktor.subscription.v2.premium.1m</th>\n",
       "      <th>com.gopaktor.subscription.v2.premium.1m.2000</th>\n",
       "      <th>...</th>\n",
       "      <th>com.gopaktor.subscription.v2.premium.3m.2000</th>\n",
       "      <th>com.gopaktor.subscription.v2.premium.3m.3000</th>\n",
       "      <th>com.gopaktor.subscription.v2.premium.6m</th>\n",
       "      <th>com.gopaktor.subscription.v2.premium.6m.3000</th>\n",
       "      <th>com.gopaktor.subscription.v3.premium.3m</th>\n",
       "      <th>com.gopaktor.subscription.v3.premium.6m</th>\n",
       "      <th>com.gopaktor.subscription.v4.premium.1m</th>\n",
       "      <th>com.gopaktor.subscription.v8.premium.6m</th>\n",
       "      <th>com.gopaktor.upgrade.v2.ultimate.premium.3m</th>\n",
       "      <th>paktor.credit.10</th>\n",
       "    </tr>\n",
       "    <tr>\n",
       "      <th>cust_id</th>\n",
       "      <th></th>\n",
       "      <th></th>\n",
       "      <th></th>\n",
       "      <th></th>\n",
       "      <th></th>\n",
       "      <th></th>\n",
       "      <th></th>\n",
       "      <th></th>\n",
       "      <th></th>\n",
       "      <th></th>\n",
       "      <th></th>\n",
       "      <th></th>\n",
       "      <th></th>\n",
       "      <th></th>\n",
       "      <th></th>\n",
       "      <th></th>\n",
       "      <th></th>\n",
       "      <th></th>\n",
       "      <th></th>\n",
       "      <th></th>\n",
       "      <th></th>\n",
       "    </tr>\n",
       "  </thead>\n",
       "  <tbody>\n",
       "    <tr>\n",
       "      <th>10319</th>\n",
       "      <td>NaN</td>\n",
       "      <td>NaN</td>\n",
       "      <td>NaN</td>\n",
       "      <td>NaN</td>\n",
       "      <td>34.500000</td>\n",
       "      <td>NaN</td>\n",
       "      <td>NaN</td>\n",
       "      <td>NaN</td>\n",
       "      <td>NaN</td>\n",
       "      <td>NaN</td>\n",
       "      <td>...</td>\n",
       "      <td>NaN</td>\n",
       "      <td>NaN</td>\n",
       "      <td>NaN</td>\n",
       "      <td>NaN</td>\n",
       "      <td>NaN</td>\n",
       "      <td>NaN</td>\n",
       "      <td>NaN</td>\n",
       "      <td>NaN</td>\n",
       "      <td>NaN</td>\n",
       "      <td>NaN</td>\n",
       "    </tr>\n",
       "    <tr>\n",
       "      <th>105945</th>\n",
       "      <td>NaN</td>\n",
       "      <td>NaN</td>\n",
       "      <td>NaN</td>\n",
       "      <td>NaN</td>\n",
       "      <td>30.500000</td>\n",
       "      <td>NaN</td>\n",
       "      <td>NaN</td>\n",
       "      <td>NaN</td>\n",
       "      <td>NaN</td>\n",
       "      <td>NaN</td>\n",
       "      <td>...</td>\n",
       "      <td>NaN</td>\n",
       "      <td>NaN</td>\n",
       "      <td>NaN</td>\n",
       "      <td>NaN</td>\n",
       "      <td>NaN</td>\n",
       "      <td>NaN</td>\n",
       "      <td>NaN</td>\n",
       "      <td>NaN</td>\n",
       "      <td>NaN</td>\n",
       "      <td>NaN</td>\n",
       "    </tr>\n",
       "    <tr>\n",
       "      <th>10939</th>\n",
       "      <td>NaN</td>\n",
       "      <td>NaN</td>\n",
       "      <td>NaN</td>\n",
       "      <td>NaN</td>\n",
       "      <td>30.666667</td>\n",
       "      <td>NaN</td>\n",
       "      <td>NaN</td>\n",
       "      <td>NaN</td>\n",
       "      <td>NaN</td>\n",
       "      <td>NaN</td>\n",
       "      <td>...</td>\n",
       "      <td>NaN</td>\n",
       "      <td>NaN</td>\n",
       "      <td>NaN</td>\n",
       "      <td>NaN</td>\n",
       "      <td>NaN</td>\n",
       "      <td>NaN</td>\n",
       "      <td>NaN</td>\n",
       "      <td>NaN</td>\n",
       "      <td>NaN</td>\n",
       "      <td>NaN</td>\n",
       "    </tr>\n",
       "    <tr>\n",
       "      <th>110380</th>\n",
       "      <td>NaN</td>\n",
       "      <td>NaN</td>\n",
       "      <td>NaN</td>\n",
       "      <td>NaN</td>\n",
       "      <td>NaN</td>\n",
       "      <td>NaN</td>\n",
       "      <td>NaN</td>\n",
       "      <td>NaN</td>\n",
       "      <td>NaN</td>\n",
       "      <td>NaN</td>\n",
       "      <td>...</td>\n",
       "      <td>NaN</td>\n",
       "      <td>NaN</td>\n",
       "      <td>NaN</td>\n",
       "      <td>NaN</td>\n",
       "      <td>NaN</td>\n",
       "      <td>NaN</td>\n",
       "      <td>30.0</td>\n",
       "      <td>NaN</td>\n",
       "      <td>NaN</td>\n",
       "      <td>NaN</td>\n",
       "    </tr>\n",
       "    <tr>\n",
       "      <th>11279</th>\n",
       "      <td>NaN</td>\n",
       "      <td>NaN</td>\n",
       "      <td>NaN</td>\n",
       "      <td>NaN</td>\n",
       "      <td>NaN</td>\n",
       "      <td>NaN</td>\n",
       "      <td>NaN</td>\n",
       "      <td>NaN</td>\n",
       "      <td>NaN</td>\n",
       "      <td>NaN</td>\n",
       "      <td>...</td>\n",
       "      <td>NaN</td>\n",
       "      <td>NaN</td>\n",
       "      <td>NaN</td>\n",
       "      <td>NaN</td>\n",
       "      <td>NaN</td>\n",
       "      <td>NaN</td>\n",
       "      <td>NaN</td>\n",
       "      <td>NaN</td>\n",
       "      <td>NaN</td>\n",
       "      <td>NaN</td>\n",
       "    </tr>\n",
       "  </tbody>\n",
       "</table>\n",
       "<p>5 rows × 22 columns</p>\n",
       "</div>"
      ],
      "text/plain": [
       "         com.gopaktor.credit.v2.1000  com.gopaktor.credit.v2.10000  \\\n",
       "cust_id                                                              \n",
       "10319                            NaN                           NaN   \n",
       "105945                           NaN                           NaN   \n",
       "10939                            NaN                           NaN   \n",
       "110380                           NaN                           NaN   \n",
       "11279                            NaN                           NaN   \n",
       "\n",
       "         com.gopaktor.credit.v2.3000  com.gopaktor.credit.v2.6000  \\\n",
       "cust_id                                                             \n",
       "10319                            NaN                          NaN   \n",
       "105945                           NaN                          NaN   \n",
       "10939                            NaN                          NaN   \n",
       "110380                           NaN                          NaN   \n",
       "11279                            NaN                          NaN   \n",
       "\n",
       "         com.gopaktor.subscription.v1.premium.1m  \\\n",
       "cust_id                                            \n",
       "10319                                  34.500000   \n",
       "105945                                 30.500000   \n",
       "10939                                  30.666667   \n",
       "110380                                       NaN   \n",
       "11279                                        NaN   \n",
       "\n",
       "         com.gopaktor.subscription.v11.premium.6m  \\\n",
       "cust_id                                             \n",
       "10319                                         NaN   \n",
       "105945                                        NaN   \n",
       "10939                                         NaN   \n",
       "110380                                        NaN   \n",
       "11279                                         NaN   \n",
       "\n",
       "         com.gopaktor.subscription.v12.premium.3m  \\\n",
       "cust_id                                             \n",
       "10319                                         NaN   \n",
       "105945                                        NaN   \n",
       "10939                                         NaN   \n",
       "110380                                        NaN   \n",
       "11279                                         NaN   \n",
       "\n",
       "         com.gopaktor.subscription.v14.premium.1m  \\\n",
       "cust_id                                             \n",
       "10319                                         NaN   \n",
       "105945                                        NaN   \n",
       "10939                                         NaN   \n",
       "110380                                        NaN   \n",
       "11279                                         NaN   \n",
       "\n",
       "         com.gopaktor.subscription.v2.premium.1m  \\\n",
       "cust_id                                            \n",
       "10319                                        NaN   \n",
       "105945                                       NaN   \n",
       "10939                                        NaN   \n",
       "110380                                       NaN   \n",
       "11279                                        NaN   \n",
       "\n",
       "         com.gopaktor.subscription.v2.premium.1m.2000        ...         \\\n",
       "cust_id                                                      ...          \n",
       "10319                                             NaN        ...          \n",
       "105945                                            NaN        ...          \n",
       "10939                                             NaN        ...          \n",
       "110380                                            NaN        ...          \n",
       "11279                                             NaN        ...          \n",
       "\n",
       "         com.gopaktor.subscription.v2.premium.3m.2000  \\\n",
       "cust_id                                                 \n",
       "10319                                             NaN   \n",
       "105945                                            NaN   \n",
       "10939                                             NaN   \n",
       "110380                                            NaN   \n",
       "11279                                             NaN   \n",
       "\n",
       "         com.gopaktor.subscription.v2.premium.3m.3000  \\\n",
       "cust_id                                                 \n",
       "10319                                             NaN   \n",
       "105945                                            NaN   \n",
       "10939                                             NaN   \n",
       "110380                                            NaN   \n",
       "11279                                             NaN   \n",
       "\n",
       "         com.gopaktor.subscription.v2.premium.6m  \\\n",
       "cust_id                                            \n",
       "10319                                        NaN   \n",
       "105945                                       NaN   \n",
       "10939                                        NaN   \n",
       "110380                                       NaN   \n",
       "11279                                        NaN   \n",
       "\n",
       "         com.gopaktor.subscription.v2.premium.6m.3000  \\\n",
       "cust_id                                                 \n",
       "10319                                             NaN   \n",
       "105945                                            NaN   \n",
       "10939                                             NaN   \n",
       "110380                                            NaN   \n",
       "11279                                             NaN   \n",
       "\n",
       "         com.gopaktor.subscription.v3.premium.3m  \\\n",
       "cust_id                                            \n",
       "10319                                        NaN   \n",
       "105945                                       NaN   \n",
       "10939                                        NaN   \n",
       "110380                                       NaN   \n",
       "11279                                        NaN   \n",
       "\n",
       "         com.gopaktor.subscription.v3.premium.6m  \\\n",
       "cust_id                                            \n",
       "10319                                        NaN   \n",
       "105945                                       NaN   \n",
       "10939                                        NaN   \n",
       "110380                                       NaN   \n",
       "11279                                        NaN   \n",
       "\n",
       "         com.gopaktor.subscription.v4.premium.1m  \\\n",
       "cust_id                                            \n",
       "10319                                        NaN   \n",
       "105945                                       NaN   \n",
       "10939                                        NaN   \n",
       "110380                                      30.0   \n",
       "11279                                        NaN   \n",
       "\n",
       "         com.gopaktor.subscription.v8.premium.6m  \\\n",
       "cust_id                                            \n",
       "10319                                        NaN   \n",
       "105945                                       NaN   \n",
       "10939                                        NaN   \n",
       "110380                                       NaN   \n",
       "11279                                        NaN   \n",
       "\n",
       "         com.gopaktor.upgrade.v2.ultimate.premium.3m  paktor.credit.10  \n",
       "cust_id                                                                 \n",
       "10319                                            NaN               NaN  \n",
       "105945                                           NaN               NaN  \n",
       "10939                                            NaN               NaN  \n",
       "110380                                           NaN               NaN  \n",
       "11279                                            NaN               NaN  \n",
       "\n",
       "[5 rows x 22 columns]"
      ]
     },
     "execution_count": 92,
     "metadata": {},
     "output_type": "execute_result"
    }
   ],
   "source": [
    "abc.head()"
   ]
  },
  {
   "cell_type": "code",
   "execution_count": 93,
   "metadata": {
    "collapsed": true
   },
   "outputs": [],
   "source": [
    "products = pd.DataFrame(abc.columns)"
   ]
  },
  {
   "cell_type": "code",
   "execution_count": 94,
   "metadata": {
    "collapsed": false
   },
   "outputs": [],
   "source": [
    "products.rename(columns={0:'product_id'}, inplace=True)"
   ]
  },
  {
   "cell_type": "code",
   "execution_count": 95,
   "metadata": {
    "collapsed": false
   },
   "outputs": [
    {
     "data": {
      "text/plain": [
       "2220.0"
      ]
     },
     "execution_count": 95,
     "metadata": {},
     "output_type": "execute_result"
    }
   ],
   "source": [
    "abc['com.gopaktor.subscription.v1.premium.1m'].sum()"
   ]
  },
  {
   "cell_type": "code",
   "execution_count": 96,
   "metadata": {
    "collapsed": false
   },
   "outputs": [
    {
     "data": {
      "text/plain": [
       "71"
      ]
     },
     "execution_count": 96,
     "metadata": {},
     "output_type": "execute_result"
    }
   ],
   "source": [
    "abc['com.gopaktor.subscription.v1.premium.1m'].count()"
   ]
  },
  {
   "cell_type": "code",
   "execution_count": 97,
   "metadata": {
    "collapsed": false
   },
   "outputs": [
    {
     "data": {
      "text/plain": [
       "1042"
      ]
     },
     "execution_count": 97,
     "metadata": {},
     "output_type": "execute_result"
    }
   ],
   "source": [
    "abc['com.gopaktor.subscription.v1.premium.1m'].size"
   ]
  },
  {
   "cell_type": "code",
   "execution_count": 98,
   "metadata": {
    "collapsed": true
   },
   "outputs": [],
   "source": [
    "art = abc[products.product_id[products.index]].sum() / abc[products.product_id[products.index]].count()"
   ]
  },
  {
   "cell_type": "code",
   "execution_count": 99,
   "metadata": {
    "collapsed": false
   },
   "outputs": [
    {
     "data": {
      "text/plain": [
       "pandas.core.series.Series"
      ]
     },
     "execution_count": 99,
     "metadata": {},
     "output_type": "execute_result"
    }
   ],
   "source": [
    "type(art)"
   ]
  },
  {
   "cell_type": "code",
   "execution_count": 100,
   "metadata": {
    "collapsed": false
   },
   "outputs": [],
   "source": [
    "art = art.to_frame()"
   ]
  },
  {
   "cell_type": "code",
   "execution_count": 101,
   "metadata": {
    "collapsed": true
   },
   "outputs": [],
   "source": [
    "art.reset_index(inplace=True)"
   ]
  },
  {
   "cell_type": "code",
   "execution_count": 102,
   "metadata": {
    "collapsed": true
   },
   "outputs": [],
   "source": [
    "art.rename(columns={'index':'product_id'}, inplace=True)"
   ]
  },
  {
   "cell_type": "code",
   "execution_count": 103,
   "metadata": {
    "collapsed": true
   },
   "outputs": [],
   "source": [
    "art.rename(columns={0:'average_repurchase_time'}, inplace=True)"
   ]
  },
  {
   "cell_type": "code",
   "execution_count": 104,
   "metadata": {
    "collapsed": false
   },
   "outputs": [
    {
     "data": {
      "text/html": [
       "<div>\n",
       "<table border=\"1\" class=\"dataframe\">\n",
       "  <thead>\n",
       "    <tr style=\"text-align: right;\">\n",
       "      <th></th>\n",
       "      <th>product_id</th>\n",
       "      <th>average_repurchase_time</th>\n",
       "    </tr>\n",
       "  </thead>\n",
       "  <tbody>\n",
       "    <tr>\n",
       "      <th>0</th>\n",
       "      <td>com.gopaktor.credit.v2.1000</td>\n",
       "      <td>10.295833</td>\n",
       "    </tr>\n",
       "    <tr>\n",
       "      <th>1</th>\n",
       "      <td>com.gopaktor.credit.v2.10000</td>\n",
       "      <td>29.000000</td>\n",
       "    </tr>\n",
       "    <tr>\n",
       "      <th>2</th>\n",
       "      <td>com.gopaktor.credit.v2.3000</td>\n",
       "      <td>19.404762</td>\n",
       "    </tr>\n",
       "    <tr>\n",
       "      <th>3</th>\n",
       "      <td>com.gopaktor.credit.v2.6000</td>\n",
       "      <td>12.500000</td>\n",
       "    </tr>\n",
       "    <tr>\n",
       "      <th>4</th>\n",
       "      <td>com.gopaktor.subscription.v1.premium.1m</td>\n",
       "      <td>31.267606</td>\n",
       "    </tr>\n",
       "    <tr>\n",
       "      <th>5</th>\n",
       "      <td>com.gopaktor.subscription.v11.premium.6m</td>\n",
       "      <td>NaN</td>\n",
       "    </tr>\n",
       "    <tr>\n",
       "      <th>6</th>\n",
       "      <td>com.gopaktor.subscription.v12.premium.3m</td>\n",
       "      <td>NaN</td>\n",
       "    </tr>\n",
       "    <tr>\n",
       "      <th>7</th>\n",
       "      <td>com.gopaktor.subscription.v14.premium.1m</td>\n",
       "      <td>NaN</td>\n",
       "    </tr>\n",
       "    <tr>\n",
       "      <th>8</th>\n",
       "      <td>com.gopaktor.subscription.v2.premium.1m</td>\n",
       "      <td>29.246667</td>\n",
       "    </tr>\n",
       "    <tr>\n",
       "      <th>9</th>\n",
       "      <td>com.gopaktor.subscription.v2.premium.1m.2000</td>\n",
       "      <td>30.611111</td>\n",
       "    </tr>\n",
       "    <tr>\n",
       "      <th>10</th>\n",
       "      <td>com.gopaktor.subscription.v2.premium.1m.3000</td>\n",
       "      <td>30.491667</td>\n",
       "    </tr>\n",
       "    <tr>\n",
       "      <th>11</th>\n",
       "      <td>com.gopaktor.subscription.v2.premium.3m</td>\n",
       "      <td>76.666667</td>\n",
       "    </tr>\n",
       "    <tr>\n",
       "      <th>12</th>\n",
       "      <td>com.gopaktor.subscription.v2.premium.3m.2000</td>\n",
       "      <td>92.000000</td>\n",
       "    </tr>\n",
       "    <tr>\n",
       "      <th>13</th>\n",
       "      <td>com.gopaktor.subscription.v2.premium.3m.3000</td>\n",
       "      <td>74.750000</td>\n",
       "    </tr>\n",
       "    <tr>\n",
       "      <th>14</th>\n",
       "      <td>com.gopaktor.subscription.v2.premium.6m</td>\n",
       "      <td>NaN</td>\n",
       "    </tr>\n",
       "    <tr>\n",
       "      <th>15</th>\n",
       "      <td>com.gopaktor.subscription.v2.premium.6m.3000</td>\n",
       "      <td>NaN</td>\n",
       "    </tr>\n",
       "    <tr>\n",
       "      <th>16</th>\n",
       "      <td>com.gopaktor.subscription.v3.premium.3m</td>\n",
       "      <td>79.681818</td>\n",
       "    </tr>\n",
       "    <tr>\n",
       "      <th>17</th>\n",
       "      <td>com.gopaktor.subscription.v3.premium.6m</td>\n",
       "      <td>0.000000</td>\n",
       "    </tr>\n",
       "    <tr>\n",
       "      <th>18</th>\n",
       "      <td>com.gopaktor.subscription.v4.premium.1m</td>\n",
       "      <td>30.025935</td>\n",
       "    </tr>\n",
       "    <tr>\n",
       "      <th>19</th>\n",
       "      <td>com.gopaktor.subscription.v8.premium.6m</td>\n",
       "      <td>NaN</td>\n",
       "    </tr>\n",
       "    <tr>\n",
       "      <th>20</th>\n",
       "      <td>com.gopaktor.upgrade.v2.ultimate.premium.3m</td>\n",
       "      <td>NaN</td>\n",
       "    </tr>\n",
       "    <tr>\n",
       "      <th>21</th>\n",
       "      <td>paktor.credit.10</td>\n",
       "      <td>2.000000</td>\n",
       "    </tr>\n",
       "  </tbody>\n",
       "</table>\n",
       "</div>"
      ],
      "text/plain": [
       "                                      product_id  average_repurchase_time\n",
       "0                    com.gopaktor.credit.v2.1000                10.295833\n",
       "1                   com.gopaktor.credit.v2.10000                29.000000\n",
       "2                    com.gopaktor.credit.v2.3000                19.404762\n",
       "3                    com.gopaktor.credit.v2.6000                12.500000\n",
       "4        com.gopaktor.subscription.v1.premium.1m                31.267606\n",
       "5       com.gopaktor.subscription.v11.premium.6m                      NaN\n",
       "6       com.gopaktor.subscription.v12.premium.3m                      NaN\n",
       "7       com.gopaktor.subscription.v14.premium.1m                      NaN\n",
       "8        com.gopaktor.subscription.v2.premium.1m                29.246667\n",
       "9   com.gopaktor.subscription.v2.premium.1m.2000                30.611111\n",
       "10  com.gopaktor.subscription.v2.premium.1m.3000                30.491667\n",
       "11       com.gopaktor.subscription.v2.premium.3m                76.666667\n",
       "12  com.gopaktor.subscription.v2.premium.3m.2000                92.000000\n",
       "13  com.gopaktor.subscription.v2.premium.3m.3000                74.750000\n",
       "14       com.gopaktor.subscription.v2.premium.6m                      NaN\n",
       "15  com.gopaktor.subscription.v2.premium.6m.3000                      NaN\n",
       "16       com.gopaktor.subscription.v3.premium.3m                79.681818\n",
       "17       com.gopaktor.subscription.v3.premium.6m                 0.000000\n",
       "18       com.gopaktor.subscription.v4.premium.1m                30.025935\n",
       "19       com.gopaktor.subscription.v8.premium.6m                      NaN\n",
       "20   com.gopaktor.upgrade.v2.ultimate.premium.3m                      NaN\n",
       "21                              paktor.credit.10                 2.000000"
      ]
     },
     "execution_count": 104,
     "metadata": {},
     "output_type": "execute_result"
    }
   ],
   "source": [
    "art"
   ]
  },
  {
   "cell_type": "code",
   "execution_count": 105,
   "metadata": {
    "collapsed": false
   },
   "outputs": [
    {
     "data": {
      "text/html": [
       "<div>\n",
       "<table border=\"1\" class=\"dataframe\">\n",
       "  <thead>\n",
       "    <tr style=\"text-align: right;\">\n",
       "      <th></th>\n",
       "      <th>cust_id</th>\n",
       "      <th>product_id</th>\n",
       "      <th>timestamp</th>\n",
       "      <th>counter</th>\n",
       "      <th>sum_days</th>\n",
       "      <th>days_int</th>\n",
       "      <th>new_date</th>\n",
       "      <th>new_count</th>\n",
       "      <th>repurchase_time</th>\n",
       "    </tr>\n",
       "  </thead>\n",
       "  <tbody>\n",
       "    <tr>\n",
       "      <th>0</th>\n",
       "      <td>10319</td>\n",
       "      <td>com.gopaktor.subscription.v1.premium.1m</td>\n",
       "      <td>2016-08-19 10:57:14</td>\n",
       "      <td>3.0</td>\n",
       "      <td>69 days 09:16:53</td>\n",
       "      <td>69</td>\n",
       "      <td>68</td>\n",
       "      <td>2.0</td>\n",
       "      <td>34.5</td>\n",
       "    </tr>\n",
       "    <tr>\n",
       "      <th>1</th>\n",
       "      <td>105945</td>\n",
       "      <td>com.gopaktor.subscription.v1.premium.1m</td>\n",
       "      <td>2016-08-28 05:27:58</td>\n",
       "      <td>3.0</td>\n",
       "      <td>61 days 00:00:00</td>\n",
       "      <td>61</td>\n",
       "      <td>60</td>\n",
       "      <td>2.0</td>\n",
       "      <td>30.5</td>\n",
       "    </tr>\n",
       "    <tr>\n",
       "      <th>2</th>\n",
       "      <td>10939</td>\n",
       "      <td>com.gopaktor.subscription.v1.premium.1m</td>\n",
       "      <td>2016-09-12 14:56:45</td>\n",
       "      <td>4.0</td>\n",
       "      <td>92 days 00:00:00</td>\n",
       "      <td>92</td>\n",
       "      <td>91</td>\n",
       "      <td>3.0</td>\n",
       "      <td>30.6667</td>\n",
       "    </tr>\n",
       "    <tr>\n",
       "      <th>3</th>\n",
       "      <td>110380</td>\n",
       "      <td>com.gopaktor.subscription.v12.premium.3m</td>\n",
       "      <td>2016-08-13 16:38:00</td>\n",
       "      <td>NaN</td>\n",
       "      <td>0 days 00:00:00</td>\n",
       "      <td>0</td>\n",
       "      <td>0</td>\n",
       "      <td>NaN</td>\n",
       "      <td>NaN</td>\n",
       "    </tr>\n",
       "    <tr>\n",
       "      <th>4</th>\n",
       "      <td>110380</td>\n",
       "      <td>com.gopaktor.subscription.v4.premium.1m</td>\n",
       "      <td>2016-07-07 17:54:01</td>\n",
       "      <td>2.0</td>\n",
       "      <td>30 days 00:00:01</td>\n",
       "      <td>30</td>\n",
       "      <td>29</td>\n",
       "      <td>1.0</td>\n",
       "      <td>30</td>\n",
       "    </tr>\n",
       "  </tbody>\n",
       "</table>\n",
       "</div>"
      ],
      "text/plain": [
       "  cust_id                                product_id           timestamp  \\\n",
       "0   10319   com.gopaktor.subscription.v1.premium.1m 2016-08-19 10:57:14   \n",
       "1  105945   com.gopaktor.subscription.v1.premium.1m 2016-08-28 05:27:58   \n",
       "2   10939   com.gopaktor.subscription.v1.premium.1m 2016-09-12 14:56:45   \n",
       "3  110380  com.gopaktor.subscription.v12.premium.3m 2016-08-13 16:38:00   \n",
       "4  110380   com.gopaktor.subscription.v4.premium.1m 2016-07-07 17:54:01   \n",
       "\n",
       "   counter         sum_days days_int new_date  new_count repurchase_time  \n",
       "0      3.0 69 days 09:16:53       69       68        2.0            34.5  \n",
       "1      3.0 61 days 00:00:00       61       60        2.0            30.5  \n",
       "2      4.0 92 days 00:00:00       92       91        3.0         30.6667  \n",
       "3      NaN  0 days 00:00:00        0        0        NaN             NaN  \n",
       "4      2.0 30 days 00:00:01       30       29        1.0              30  "
      ]
     },
     "execution_count": 105,
     "metadata": {},
     "output_type": "execute_result"
    }
   ],
   "source": [
    "cust_repur_original.head()"
   ]
  },
  {
   "cell_type": "code",
   "execution_count": 106,
   "metadata": {
    "collapsed": false
   },
   "outputs": [],
   "source": [
    "del cust_repur_original['sum_days']"
   ]
  },
  {
   "cell_type": "code",
   "execution_count": 107,
   "metadata": {
    "collapsed": true
   },
   "outputs": [],
   "source": [
    "del cust_repur_original['new_date']"
   ]
  },
  {
   "cell_type": "code",
   "execution_count": 108,
   "metadata": {
    "collapsed": true
   },
   "outputs": [],
   "source": [
    "del cust_repur_original['new_count']"
   ]
  },
  {
   "cell_type": "code",
   "execution_count": 109,
   "metadata": {
    "collapsed": false
   },
   "outputs": [
    {
     "data": {
      "text/html": [
       "<div>\n",
       "<table border=\"1\" class=\"dataframe\">\n",
       "  <thead>\n",
       "    <tr style=\"text-align: right;\">\n",
       "      <th></th>\n",
       "      <th>cust_id</th>\n",
       "      <th>product_id</th>\n",
       "      <th>timestamp</th>\n",
       "      <th>counter</th>\n",
       "      <th>days_int</th>\n",
       "      <th>repurchase_time</th>\n",
       "    </tr>\n",
       "  </thead>\n",
       "  <tbody>\n",
       "    <tr>\n",
       "      <th>0</th>\n",
       "      <td>10319</td>\n",
       "      <td>com.gopaktor.subscription.v1.premium.1m</td>\n",
       "      <td>2016-08-19 10:57:14</td>\n",
       "      <td>3.0</td>\n",
       "      <td>69</td>\n",
       "      <td>34.5</td>\n",
       "    </tr>\n",
       "    <tr>\n",
       "      <th>1</th>\n",
       "      <td>105945</td>\n",
       "      <td>com.gopaktor.subscription.v1.premium.1m</td>\n",
       "      <td>2016-08-28 05:27:58</td>\n",
       "      <td>3.0</td>\n",
       "      <td>61</td>\n",
       "      <td>30.5</td>\n",
       "    </tr>\n",
       "    <tr>\n",
       "      <th>2</th>\n",
       "      <td>10939</td>\n",
       "      <td>com.gopaktor.subscription.v1.premium.1m</td>\n",
       "      <td>2016-09-12 14:56:45</td>\n",
       "      <td>4.0</td>\n",
       "      <td>92</td>\n",
       "      <td>30.6667</td>\n",
       "    </tr>\n",
       "    <tr>\n",
       "      <th>3</th>\n",
       "      <td>110380</td>\n",
       "      <td>com.gopaktor.subscription.v12.premium.3m</td>\n",
       "      <td>2016-08-13 16:38:00</td>\n",
       "      <td>NaN</td>\n",
       "      <td>0</td>\n",
       "      <td>NaN</td>\n",
       "    </tr>\n",
       "    <tr>\n",
       "      <th>4</th>\n",
       "      <td>110380</td>\n",
       "      <td>com.gopaktor.subscription.v4.premium.1m</td>\n",
       "      <td>2016-07-07 17:54:01</td>\n",
       "      <td>2.0</td>\n",
       "      <td>30</td>\n",
       "      <td>30</td>\n",
       "    </tr>\n",
       "  </tbody>\n",
       "</table>\n",
       "</div>"
      ],
      "text/plain": [
       "  cust_id                                product_id           timestamp  \\\n",
       "0   10319   com.gopaktor.subscription.v1.premium.1m 2016-08-19 10:57:14   \n",
       "1  105945   com.gopaktor.subscription.v1.premium.1m 2016-08-28 05:27:58   \n",
       "2   10939   com.gopaktor.subscription.v1.premium.1m 2016-09-12 14:56:45   \n",
       "3  110380  com.gopaktor.subscription.v12.premium.3m 2016-08-13 16:38:00   \n",
       "4  110380   com.gopaktor.subscription.v4.premium.1m 2016-07-07 17:54:01   \n",
       "\n",
       "   counter days_int repurchase_time  \n",
       "0      3.0       69            34.5  \n",
       "1      3.0       61            30.5  \n",
       "2      4.0       92         30.6667  \n",
       "3      NaN        0             NaN  \n",
       "4      2.0       30              30  "
      ]
     },
     "execution_count": 109,
     "metadata": {},
     "output_type": "execute_result"
    }
   ],
   "source": [
    "cust_repur_original.head()"
   ]
  },
  {
   "cell_type": "code",
   "execution_count": 110,
   "metadata": {
    "collapsed": true
   },
   "outputs": [],
   "source": [
    "######cust_repur_original[\"timestamp_new\"] = pd.to_datetime(cust_repur_original[\"timestamp\"]).apply(lambda x: x.replace(hour =0,minute=0, second=0))"
   ]
  },
  {
   "cell_type": "code",
   "execution_count": 111,
   "metadata": {
    "collapsed": true
   },
   "outputs": [],
   "source": [
    "cust_repur_original['time_diff'] = \"\""
   ]
  },
  {
   "cell_type": "code",
   "execution_count": 112,
   "metadata": {
    "collapsed": false
   },
   "outputs": [
    {
     "data": {
      "text/html": [
       "<div>\n",
       "<table border=\"1\" class=\"dataframe\">\n",
       "  <thead>\n",
       "    <tr style=\"text-align: right;\">\n",
       "      <th></th>\n",
       "      <th>cust_id</th>\n",
       "      <th>product_id</th>\n",
       "      <th>timestamp</th>\n",
       "      <th>counter</th>\n",
       "      <th>days_int</th>\n",
       "      <th>repurchase_time</th>\n",
       "      <th>time_diff</th>\n",
       "    </tr>\n",
       "  </thead>\n",
       "  <tbody>\n",
       "    <tr>\n",
       "      <th>0</th>\n",
       "      <td>10319</td>\n",
       "      <td>com.gopaktor.subscription.v1.premium.1m</td>\n",
       "      <td>2016-08-19 10:57:14</td>\n",
       "      <td>3.0</td>\n",
       "      <td>69</td>\n",
       "      <td>34.5</td>\n",
       "      <td></td>\n",
       "    </tr>\n",
       "    <tr>\n",
       "      <th>1</th>\n",
       "      <td>105945</td>\n",
       "      <td>com.gopaktor.subscription.v1.premium.1m</td>\n",
       "      <td>2016-08-28 05:27:58</td>\n",
       "      <td>3.0</td>\n",
       "      <td>61</td>\n",
       "      <td>30.5</td>\n",
       "      <td></td>\n",
       "    </tr>\n",
       "    <tr>\n",
       "      <th>2</th>\n",
       "      <td>10939</td>\n",
       "      <td>com.gopaktor.subscription.v1.premium.1m</td>\n",
       "      <td>2016-09-12 14:56:45</td>\n",
       "      <td>4.0</td>\n",
       "      <td>92</td>\n",
       "      <td>30.6667</td>\n",
       "      <td></td>\n",
       "    </tr>\n",
       "    <tr>\n",
       "      <th>3</th>\n",
       "      <td>110380</td>\n",
       "      <td>com.gopaktor.subscription.v12.premium.3m</td>\n",
       "      <td>2016-08-13 16:38:00</td>\n",
       "      <td>NaN</td>\n",
       "      <td>0</td>\n",
       "      <td>NaN</td>\n",
       "      <td></td>\n",
       "    </tr>\n",
       "    <tr>\n",
       "      <th>4</th>\n",
       "      <td>110380</td>\n",
       "      <td>com.gopaktor.subscription.v4.premium.1m</td>\n",
       "      <td>2016-07-07 17:54:01</td>\n",
       "      <td>2.0</td>\n",
       "      <td>30</td>\n",
       "      <td>30</td>\n",
       "      <td></td>\n",
       "    </tr>\n",
       "  </tbody>\n",
       "</table>\n",
       "</div>"
      ],
      "text/plain": [
       "  cust_id                                product_id           timestamp  \\\n",
       "0   10319   com.gopaktor.subscription.v1.premium.1m 2016-08-19 10:57:14   \n",
       "1  105945   com.gopaktor.subscription.v1.premium.1m 2016-08-28 05:27:58   \n",
       "2   10939   com.gopaktor.subscription.v1.premium.1m 2016-09-12 14:56:45   \n",
       "3  110380  com.gopaktor.subscription.v12.premium.3m 2016-08-13 16:38:00   \n",
       "4  110380   com.gopaktor.subscription.v4.premium.1m 2016-07-07 17:54:01   \n",
       "\n",
       "   counter days_int repurchase_time time_diff  \n",
       "0      3.0       69            34.5            \n",
       "1      3.0       61            30.5            \n",
       "2      4.0       92         30.6667            \n",
       "3      NaN        0             NaN            \n",
       "4      2.0       30              30            "
      ]
     },
     "execution_count": 112,
     "metadata": {},
     "output_type": "execute_result"
    }
   ],
   "source": [
    "cust_repur_original.head()"
   ]
  },
  {
   "cell_type": "code",
   "execution_count": 113,
   "metadata": {
    "collapsed": false,
    "scrolled": true
   },
   "outputs": [
    {
     "name": "stderr",
     "output_type": "stream",
     "text": [
      "/home/ubuntu/anaconda2/lib/python2.7/site-packages/ipykernel/__main__.py:3: SettingWithCopyWarning: \n",
      "A value is trying to be set on a copy of a slice from a DataFrame\n",
      "\n",
      "See the caveats in the documentation: http://pandas.pydata.org/pandas-docs/stable/indexing.html#indexing-view-versus-copy\n",
      "  app.launch_new_instance()\n"
     ]
    }
   ],
   "source": [
    "import datetime\n",
    "for x in range(0,len(cust_repur_original)):\n",
    "    cust_repur_original.time_diff[x]= datetime.datetime.now().date() - cust_repur_original.timestamp[x].to_datetime().date()"
   ]
  },
  {
   "cell_type": "code",
   "execution_count": 114,
   "metadata": {
    "collapsed": false
   },
   "outputs": [
    {
     "data": {
      "text/html": [
       "<div>\n",
       "<table border=\"1\" class=\"dataframe\">\n",
       "  <thead>\n",
       "    <tr style=\"text-align: right;\">\n",
       "      <th></th>\n",
       "      <th>cust_id</th>\n",
       "      <th>product_id</th>\n",
       "      <th>timestamp</th>\n",
       "      <th>counter</th>\n",
       "      <th>days_int</th>\n",
       "      <th>repurchase_time</th>\n",
       "      <th>time_diff</th>\n",
       "    </tr>\n",
       "  </thead>\n",
       "  <tbody>\n",
       "    <tr>\n",
       "      <th>0</th>\n",
       "      <td>10319</td>\n",
       "      <td>com.gopaktor.subscription.v1.premium.1m</td>\n",
       "      <td>2016-08-19 10:57:14</td>\n",
       "      <td>3.0</td>\n",
       "      <td>69</td>\n",
       "      <td>34.5</td>\n",
       "      <td>218 days, 0:00:00</td>\n",
       "    </tr>\n",
       "    <tr>\n",
       "      <th>1</th>\n",
       "      <td>105945</td>\n",
       "      <td>com.gopaktor.subscription.v1.premium.1m</td>\n",
       "      <td>2016-08-28 05:27:58</td>\n",
       "      <td>3.0</td>\n",
       "      <td>61</td>\n",
       "      <td>30.5</td>\n",
       "      <td>209 days, 0:00:00</td>\n",
       "    </tr>\n",
       "    <tr>\n",
       "      <th>2</th>\n",
       "      <td>10939</td>\n",
       "      <td>com.gopaktor.subscription.v1.premium.1m</td>\n",
       "      <td>2016-09-12 14:56:45</td>\n",
       "      <td>4.0</td>\n",
       "      <td>92</td>\n",
       "      <td>30.6667</td>\n",
       "      <td>194 days, 0:00:00</td>\n",
       "    </tr>\n",
       "    <tr>\n",
       "      <th>3</th>\n",
       "      <td>110380</td>\n",
       "      <td>com.gopaktor.subscription.v12.premium.3m</td>\n",
       "      <td>2016-08-13 16:38:00</td>\n",
       "      <td>NaN</td>\n",
       "      <td>0</td>\n",
       "      <td>NaN</td>\n",
       "      <td>224 days, 0:00:00</td>\n",
       "    </tr>\n",
       "    <tr>\n",
       "      <th>4</th>\n",
       "      <td>110380</td>\n",
       "      <td>com.gopaktor.subscription.v4.premium.1m</td>\n",
       "      <td>2016-07-07 17:54:01</td>\n",
       "      <td>2.0</td>\n",
       "      <td>30</td>\n",
       "      <td>30</td>\n",
       "      <td>261 days, 0:00:00</td>\n",
       "    </tr>\n",
       "  </tbody>\n",
       "</table>\n",
       "</div>"
      ],
      "text/plain": [
       "  cust_id                                product_id           timestamp  \\\n",
       "0   10319   com.gopaktor.subscription.v1.premium.1m 2016-08-19 10:57:14   \n",
       "1  105945   com.gopaktor.subscription.v1.premium.1m 2016-08-28 05:27:58   \n",
       "2   10939   com.gopaktor.subscription.v1.premium.1m 2016-09-12 14:56:45   \n",
       "3  110380  com.gopaktor.subscription.v12.premium.3m 2016-08-13 16:38:00   \n",
       "4  110380   com.gopaktor.subscription.v4.premium.1m 2016-07-07 17:54:01   \n",
       "\n",
       "   counter days_int repurchase_time          time_diff  \n",
       "0      3.0       69            34.5  218 days, 0:00:00  \n",
       "1      3.0       61            30.5  209 days, 0:00:00  \n",
       "2      4.0       92         30.6667  194 days, 0:00:00  \n",
       "3      NaN        0             NaN  224 days, 0:00:00  \n",
       "4      2.0       30              30  261 days, 0:00:00  "
      ]
     },
     "execution_count": 114,
     "metadata": {},
     "output_type": "execute_result"
    }
   ],
   "source": [
    "cust_repur_original.head()"
   ]
  },
  {
   "cell_type": "code",
   "execution_count": 115,
   "metadata": {
    "collapsed": false
   },
   "outputs": [
    {
     "data": {
      "text/html": [
       "<div>\n",
       "<table border=\"1\" class=\"dataframe\">\n",
       "  <thead>\n",
       "    <tr style=\"text-align: right;\">\n",
       "      <th></th>\n",
       "      <th>cust_id</th>\n",
       "      <th>product_id</th>\n",
       "      <th>timestamp</th>\n",
       "      <th>counter</th>\n",
       "      <th>days_int</th>\n",
       "      <th>repurchase_time</th>\n",
       "      <th>time_diff</th>\n",
       "    </tr>\n",
       "  </thead>\n",
       "  <tbody>\n",
       "    <tr>\n",
       "      <th>1135</th>\n",
       "      <td>9880</td>\n",
       "      <td>com.gopaktor.subscription.v3.premium.6m</td>\n",
       "      <td>2016-09-25 07:46:00</td>\n",
       "      <td>NaN</td>\n",
       "      <td>0</td>\n",
       "      <td>NaN</td>\n",
       "      <td>181 days, 0:00:00</td>\n",
       "    </tr>\n",
       "    <tr>\n",
       "      <th>1136</th>\n",
       "      <td>98952</td>\n",
       "      <td>com.gopaktor.subscription.v4.premium.1m</td>\n",
       "      <td>2016-08-25 16:48:31</td>\n",
       "      <td>NaN</td>\n",
       "      <td>0</td>\n",
       "      <td>NaN</td>\n",
       "      <td>212 days, 0:00:00</td>\n",
       "    </tr>\n",
       "    <tr>\n",
       "      <th>1137</th>\n",
       "      <td>9912</td>\n",
       "      <td>com.gopaktor.subscription.v2.premium.1m.3000</td>\n",
       "      <td>2016-06-07 14:10:03</td>\n",
       "      <td>NaN</td>\n",
       "      <td>0</td>\n",
       "      <td>NaN</td>\n",
       "      <td>291 days, 0:00:00</td>\n",
       "    </tr>\n",
       "    <tr>\n",
       "      <th>1138</th>\n",
       "      <td>99137</td>\n",
       "      <td>com.gopaktor.subscription.v2.premium.1m.2000</td>\n",
       "      <td>2016-06-15 11:22:21</td>\n",
       "      <td>NaN</td>\n",
       "      <td>0</td>\n",
       "      <td>NaN</td>\n",
       "      <td>283 days, 0:00:00</td>\n",
       "    </tr>\n",
       "    <tr>\n",
       "      <th>1139</th>\n",
       "      <td>99470</td>\n",
       "      <td>com.gopaktor.subscription.v4.premium.1m</td>\n",
       "      <td>2016-07-17 19:47:00</td>\n",
       "      <td>2.0</td>\n",
       "      <td>30</td>\n",
       "      <td>30</td>\n",
       "      <td>251 days, 0:00:00</td>\n",
       "    </tr>\n",
       "  </tbody>\n",
       "</table>\n",
       "</div>"
      ],
      "text/plain": [
       "     cust_id                                    product_id  \\\n",
       "1135    9880       com.gopaktor.subscription.v3.premium.6m   \n",
       "1136   98952       com.gopaktor.subscription.v4.premium.1m   \n",
       "1137    9912  com.gopaktor.subscription.v2.premium.1m.3000   \n",
       "1138   99137  com.gopaktor.subscription.v2.premium.1m.2000   \n",
       "1139   99470       com.gopaktor.subscription.v4.premium.1m   \n",
       "\n",
       "               timestamp  counter days_int repurchase_time          time_diff  \n",
       "1135 2016-09-25 07:46:00      NaN        0             NaN  181 days, 0:00:00  \n",
       "1136 2016-08-25 16:48:31      NaN        0             NaN  212 days, 0:00:00  \n",
       "1137 2016-06-07 14:10:03      NaN        0             NaN  291 days, 0:00:00  \n",
       "1138 2016-06-15 11:22:21      NaN        0             NaN  283 days, 0:00:00  \n",
       "1139 2016-07-17 19:47:00      2.0       30              30  251 days, 0:00:00  "
      ]
     },
     "execution_count": 115,
     "metadata": {},
     "output_type": "execute_result"
    }
   ],
   "source": [
    "cust_repur_original.tail()"
   ]
  },
  {
   "cell_type": "code",
   "execution_count": 116,
   "metadata": {
    "collapsed": true
   },
   "outputs": [],
   "source": [
    "cust_repur_original.counter = cust_repur_original.counter.fillna(0)"
   ]
  },
  {
   "cell_type": "code",
   "execution_count": 117,
   "metadata": {
    "collapsed": false
   },
   "outputs": [
    {
     "data": {
      "text/html": [
       "<div>\n",
       "<table border=\"1\" class=\"dataframe\">\n",
       "  <thead>\n",
       "    <tr style=\"text-align: right;\">\n",
       "      <th></th>\n",
       "      <th>cust_id</th>\n",
       "      <th>product_id</th>\n",
       "      <th>timestamp</th>\n",
       "      <th>counter</th>\n",
       "      <th>days_int</th>\n",
       "      <th>repurchase_time</th>\n",
       "      <th>time_diff</th>\n",
       "    </tr>\n",
       "  </thead>\n",
       "  <tbody>\n",
       "    <tr>\n",
       "      <th>0</th>\n",
       "      <td>10319</td>\n",
       "      <td>com.gopaktor.subscription.v1.premium.1m</td>\n",
       "      <td>2016-08-19 10:57:14</td>\n",
       "      <td>3.0</td>\n",
       "      <td>69</td>\n",
       "      <td>34.5</td>\n",
       "      <td>218 days, 0:00:00</td>\n",
       "    </tr>\n",
       "    <tr>\n",
       "      <th>1</th>\n",
       "      <td>105945</td>\n",
       "      <td>com.gopaktor.subscription.v1.premium.1m</td>\n",
       "      <td>2016-08-28 05:27:58</td>\n",
       "      <td>3.0</td>\n",
       "      <td>61</td>\n",
       "      <td>30.5</td>\n",
       "      <td>209 days, 0:00:00</td>\n",
       "    </tr>\n",
       "    <tr>\n",
       "      <th>2</th>\n",
       "      <td>10939</td>\n",
       "      <td>com.gopaktor.subscription.v1.premium.1m</td>\n",
       "      <td>2016-09-12 14:56:45</td>\n",
       "      <td>4.0</td>\n",
       "      <td>92</td>\n",
       "      <td>30.6667</td>\n",
       "      <td>194 days, 0:00:00</td>\n",
       "    </tr>\n",
       "    <tr>\n",
       "      <th>3</th>\n",
       "      <td>110380</td>\n",
       "      <td>com.gopaktor.subscription.v12.premium.3m</td>\n",
       "      <td>2016-08-13 16:38:00</td>\n",
       "      <td>0.0</td>\n",
       "      <td>0</td>\n",
       "      <td>NaN</td>\n",
       "      <td>224 days, 0:00:00</td>\n",
       "    </tr>\n",
       "    <tr>\n",
       "      <th>4</th>\n",
       "      <td>110380</td>\n",
       "      <td>com.gopaktor.subscription.v4.premium.1m</td>\n",
       "      <td>2016-07-07 17:54:01</td>\n",
       "      <td>2.0</td>\n",
       "      <td>30</td>\n",
       "      <td>30</td>\n",
       "      <td>261 days, 0:00:00</td>\n",
       "    </tr>\n",
       "  </tbody>\n",
       "</table>\n",
       "</div>"
      ],
      "text/plain": [
       "  cust_id                                product_id           timestamp  \\\n",
       "0   10319   com.gopaktor.subscription.v1.premium.1m 2016-08-19 10:57:14   \n",
       "1  105945   com.gopaktor.subscription.v1.premium.1m 2016-08-28 05:27:58   \n",
       "2   10939   com.gopaktor.subscription.v1.premium.1m 2016-09-12 14:56:45   \n",
       "3  110380  com.gopaktor.subscription.v12.premium.3m 2016-08-13 16:38:00   \n",
       "4  110380   com.gopaktor.subscription.v4.premium.1m 2016-07-07 17:54:01   \n",
       "\n",
       "   counter days_int repurchase_time          time_diff  \n",
       "0      3.0       69            34.5  218 days, 0:00:00  \n",
       "1      3.0       61            30.5  209 days, 0:00:00  \n",
       "2      4.0       92         30.6667  194 days, 0:00:00  \n",
       "3      0.0        0             NaN  224 days, 0:00:00  \n",
       "4      2.0       30              30  261 days, 0:00:00  "
      ]
     },
     "execution_count": 117,
     "metadata": {},
     "output_type": "execute_result"
    }
   ],
   "source": [
    "cust_repur_original.head()"
   ]
  },
  {
   "cell_type": "code",
   "execution_count": 118,
   "metadata": {
    "collapsed": true
   },
   "outputs": [],
   "source": [
    "art_dict = art.set_index('product_id')['average_repurchase_time'].to_dict()"
   ]
  },
  {
   "cell_type": "code",
   "execution_count": 119,
   "metadata": {
    "collapsed": false
   },
   "outputs": [
    {
     "data": {
      "text/plain": [
       "{'com.gopaktor.credit.v2.1000': 10.295833333333334,\n",
       " 'com.gopaktor.credit.v2.10000': 29.0,\n",
       " 'com.gopaktor.credit.v2.3000': 19.404761904761905,\n",
       " 'com.gopaktor.credit.v2.6000': 12.5,\n",
       " 'com.gopaktor.subscription.v1.premium.1m': 31.267605633802816,\n",
       " 'com.gopaktor.subscription.v11.premium.6m': nan,\n",
       " 'com.gopaktor.subscription.v12.premium.3m': nan,\n",
       " 'com.gopaktor.subscription.v14.premium.1m': nan,\n",
       " 'com.gopaktor.subscription.v2.premium.1m': 29.246666666666663,\n",
       " 'com.gopaktor.subscription.v2.premium.1m.2000': 30.611111111111111,\n",
       " 'com.gopaktor.subscription.v2.premium.1m.3000': 30.491666666666667,\n",
       " 'com.gopaktor.subscription.v2.premium.3m': 76.666666666666671,\n",
       " 'com.gopaktor.subscription.v2.premium.3m.2000': 92.0,\n",
       " 'com.gopaktor.subscription.v2.premium.3m.3000': 74.75,\n",
       " 'com.gopaktor.subscription.v2.premium.6m': nan,\n",
       " 'com.gopaktor.subscription.v2.premium.6m.3000': nan,\n",
       " 'com.gopaktor.subscription.v3.premium.3m': 79.681818181818187,\n",
       " 'com.gopaktor.subscription.v3.premium.6m': 0.0,\n",
       " 'com.gopaktor.subscription.v4.premium.1m': 30.025935374149654,\n",
       " 'com.gopaktor.subscription.v8.premium.6m': nan,\n",
       " 'com.gopaktor.upgrade.v2.ultimate.premium.3m': nan,\n",
       " 'paktor.credit.10': 2.0}"
      ]
     },
     "execution_count": 119,
     "metadata": {},
     "output_type": "execute_result"
    }
   ],
   "source": [
    "art_dict"
   ]
  },
  {
   "cell_type": "code",
   "execution_count": 120,
   "metadata": {
    "collapsed": false
   },
   "outputs": [
    {
     "name": "stderr",
     "output_type": "stream",
     "text": [
      "/home/ubuntu/anaconda2/lib/python2.7/site-packages/ipykernel/__main__.py:4: SettingWithCopyWarning: \n",
      "A value is trying to be set on a copy of a slice from a DataFrame\n",
      "\n",
      "See the caveats in the documentation: http://pandas.pydata.org/pandas-docs/stable/indexing.html#indexing-view-versus-copy\n"
     ]
    }
   ],
   "source": [
    "for x in range(0,len(cust_repur_original)):\n",
    "    if cust_repur_original.counter[x] == 0:\n",
    "        if art_dict.has_key(str(cust_repur_original.product_id[x])):\n",
    "            cust_repur_original.repurchase_time[x] = art_dict[str(cust_repur_original.product_id[x])]"
   ]
  },
  {
   "cell_type": "code",
   "execution_count": 121,
   "metadata": {
    "collapsed": false
   },
   "outputs": [
    {
     "data": {
      "text/html": [
       "<div>\n",
       "<table border=\"1\" class=\"dataframe\">\n",
       "  <thead>\n",
       "    <tr style=\"text-align: right;\">\n",
       "      <th></th>\n",
       "      <th>cust_id</th>\n",
       "      <th>product_id</th>\n",
       "      <th>timestamp</th>\n",
       "      <th>counter</th>\n",
       "      <th>days_int</th>\n",
       "      <th>repurchase_time</th>\n",
       "      <th>time_diff</th>\n",
       "    </tr>\n",
       "  </thead>\n",
       "  <tbody>\n",
       "    <tr>\n",
       "      <th>0</th>\n",
       "      <td>10319</td>\n",
       "      <td>com.gopaktor.subscription.v1.premium.1m</td>\n",
       "      <td>2016-08-19 10:57:14</td>\n",
       "      <td>3.0</td>\n",
       "      <td>69</td>\n",
       "      <td>34.5</td>\n",
       "      <td>218 days, 0:00:00</td>\n",
       "    </tr>\n",
       "    <tr>\n",
       "      <th>1</th>\n",
       "      <td>105945</td>\n",
       "      <td>com.gopaktor.subscription.v1.premium.1m</td>\n",
       "      <td>2016-08-28 05:27:58</td>\n",
       "      <td>3.0</td>\n",
       "      <td>61</td>\n",
       "      <td>30.5</td>\n",
       "      <td>209 days, 0:00:00</td>\n",
       "    </tr>\n",
       "    <tr>\n",
       "      <th>2</th>\n",
       "      <td>10939</td>\n",
       "      <td>com.gopaktor.subscription.v1.premium.1m</td>\n",
       "      <td>2016-09-12 14:56:45</td>\n",
       "      <td>4.0</td>\n",
       "      <td>92</td>\n",
       "      <td>30.6667</td>\n",
       "      <td>194 days, 0:00:00</td>\n",
       "    </tr>\n",
       "    <tr>\n",
       "      <th>3</th>\n",
       "      <td>110380</td>\n",
       "      <td>com.gopaktor.subscription.v12.premium.3m</td>\n",
       "      <td>2016-08-13 16:38:00</td>\n",
       "      <td>0.0</td>\n",
       "      <td>0</td>\n",
       "      <td>NaN</td>\n",
       "      <td>224 days, 0:00:00</td>\n",
       "    </tr>\n",
       "    <tr>\n",
       "      <th>4</th>\n",
       "      <td>110380</td>\n",
       "      <td>com.gopaktor.subscription.v4.premium.1m</td>\n",
       "      <td>2016-07-07 17:54:01</td>\n",
       "      <td>2.0</td>\n",
       "      <td>30</td>\n",
       "      <td>30</td>\n",
       "      <td>261 days, 0:00:00</td>\n",
       "    </tr>\n",
       "  </tbody>\n",
       "</table>\n",
       "</div>"
      ],
      "text/plain": [
       "  cust_id                                product_id           timestamp  \\\n",
       "0   10319   com.gopaktor.subscription.v1.premium.1m 2016-08-19 10:57:14   \n",
       "1  105945   com.gopaktor.subscription.v1.premium.1m 2016-08-28 05:27:58   \n",
       "2   10939   com.gopaktor.subscription.v1.premium.1m 2016-09-12 14:56:45   \n",
       "3  110380  com.gopaktor.subscription.v12.premium.3m 2016-08-13 16:38:00   \n",
       "4  110380   com.gopaktor.subscription.v4.premium.1m 2016-07-07 17:54:01   \n",
       "\n",
       "   counter days_int repurchase_time          time_diff  \n",
       "0      3.0       69            34.5  218 days, 0:00:00  \n",
       "1      3.0       61            30.5  209 days, 0:00:00  \n",
       "2      4.0       92         30.6667  194 days, 0:00:00  \n",
       "3      0.0        0             NaN  224 days, 0:00:00  \n",
       "4      2.0       30              30  261 days, 0:00:00  "
      ]
     },
     "execution_count": 121,
     "metadata": {},
     "output_type": "execute_result"
    }
   ],
   "source": [
    "cust_repur_original.head()"
   ]
  },
  {
   "cell_type": "code",
   "execution_count": 122,
   "metadata": {
    "collapsed": false
   },
   "outputs": [
    {
     "data": {
      "text/html": [
       "<div>\n",
       "<table border=\"1\" class=\"dataframe\">\n",
       "  <thead>\n",
       "    <tr style=\"text-align: right;\">\n",
       "      <th></th>\n",
       "      <th>cust_id</th>\n",
       "      <th>product_id</th>\n",
       "      <th>timestamp</th>\n",
       "      <th>counter</th>\n",
       "      <th>days_int</th>\n",
       "      <th>repurchase_time</th>\n",
       "      <th>time_diff</th>\n",
       "    </tr>\n",
       "  </thead>\n",
       "  <tbody>\n",
       "    <tr>\n",
       "      <th>1135</th>\n",
       "      <td>9880</td>\n",
       "      <td>com.gopaktor.subscription.v3.premium.6m</td>\n",
       "      <td>2016-09-25 07:46:00</td>\n",
       "      <td>0.0</td>\n",
       "      <td>0</td>\n",
       "      <td>0</td>\n",
       "      <td>181 days, 0:00:00</td>\n",
       "    </tr>\n",
       "    <tr>\n",
       "      <th>1136</th>\n",
       "      <td>98952</td>\n",
       "      <td>com.gopaktor.subscription.v4.premium.1m</td>\n",
       "      <td>2016-08-25 16:48:31</td>\n",
       "      <td>0.0</td>\n",
       "      <td>0</td>\n",
       "      <td>30.0259</td>\n",
       "      <td>212 days, 0:00:00</td>\n",
       "    </tr>\n",
       "    <tr>\n",
       "      <th>1137</th>\n",
       "      <td>9912</td>\n",
       "      <td>com.gopaktor.subscription.v2.premium.1m.3000</td>\n",
       "      <td>2016-06-07 14:10:03</td>\n",
       "      <td>0.0</td>\n",
       "      <td>0</td>\n",
       "      <td>30.4917</td>\n",
       "      <td>291 days, 0:00:00</td>\n",
       "    </tr>\n",
       "    <tr>\n",
       "      <th>1138</th>\n",
       "      <td>99137</td>\n",
       "      <td>com.gopaktor.subscription.v2.premium.1m.2000</td>\n",
       "      <td>2016-06-15 11:22:21</td>\n",
       "      <td>0.0</td>\n",
       "      <td>0</td>\n",
       "      <td>30.6111</td>\n",
       "      <td>283 days, 0:00:00</td>\n",
       "    </tr>\n",
       "    <tr>\n",
       "      <th>1139</th>\n",
       "      <td>99470</td>\n",
       "      <td>com.gopaktor.subscription.v4.premium.1m</td>\n",
       "      <td>2016-07-17 19:47:00</td>\n",
       "      <td>2.0</td>\n",
       "      <td>30</td>\n",
       "      <td>30</td>\n",
       "      <td>251 days, 0:00:00</td>\n",
       "    </tr>\n",
       "  </tbody>\n",
       "</table>\n",
       "</div>"
      ],
      "text/plain": [
       "     cust_id                                    product_id  \\\n",
       "1135    9880       com.gopaktor.subscription.v3.premium.6m   \n",
       "1136   98952       com.gopaktor.subscription.v4.premium.1m   \n",
       "1137    9912  com.gopaktor.subscription.v2.premium.1m.3000   \n",
       "1138   99137  com.gopaktor.subscription.v2.premium.1m.2000   \n",
       "1139   99470       com.gopaktor.subscription.v4.premium.1m   \n",
       "\n",
       "               timestamp  counter days_int repurchase_time          time_diff  \n",
       "1135 2016-09-25 07:46:00      0.0        0               0  181 days, 0:00:00  \n",
       "1136 2016-08-25 16:48:31      0.0        0         30.0259  212 days, 0:00:00  \n",
       "1137 2016-06-07 14:10:03      0.0        0         30.4917  291 days, 0:00:00  \n",
       "1138 2016-06-15 11:22:21      0.0        0         30.6111  283 days, 0:00:00  \n",
       "1139 2016-07-17 19:47:00      2.0       30              30  251 days, 0:00:00  "
      ]
     },
     "execution_count": 122,
     "metadata": {},
     "output_type": "execute_result"
    }
   ],
   "source": [
    "cust_repur_original.tail()"
   ]
  },
  {
   "cell_type": "code",
   "execution_count": 123,
   "metadata": {
    "collapsed": true
   },
   "outputs": [],
   "source": [
    "cust_repur_original['time_diff_int'] = \"\""
   ]
  },
  {
   "cell_type": "code",
   "execution_count": 124,
   "metadata": {
    "collapsed": false
   },
   "outputs": [
    {
     "name": "stderr",
     "output_type": "stream",
     "text": [
      "/home/ubuntu/anaconda2/lib/python2.7/site-packages/ipykernel/__main__.py:2: SettingWithCopyWarning: \n",
      "A value is trying to be set on a copy of a slice from a DataFrame\n",
      "\n",
      "See the caveats in the documentation: http://pandas.pydata.org/pandas-docs/stable/indexing.html#indexing-view-versus-copy\n",
      "  from ipykernel import kernelapp as app\n"
     ]
    }
   ],
   "source": [
    "for x in range(0,len(cust_repur_original)):\n",
    "    cust_repur_original.time_diff_int[x] = cust_repur_original.time_diff[x].days"
   ]
  },
  {
   "cell_type": "code",
   "execution_count": 125,
   "metadata": {
    "collapsed": false
   },
   "outputs": [
    {
     "data": {
      "text/html": [
       "<div>\n",
       "<table border=\"1\" class=\"dataframe\">\n",
       "  <thead>\n",
       "    <tr style=\"text-align: right;\">\n",
       "      <th></th>\n",
       "      <th>cust_id</th>\n",
       "      <th>product_id</th>\n",
       "      <th>timestamp</th>\n",
       "      <th>counter</th>\n",
       "      <th>days_int</th>\n",
       "      <th>repurchase_time</th>\n",
       "      <th>time_diff</th>\n",
       "      <th>time_diff_int</th>\n",
       "    </tr>\n",
       "  </thead>\n",
       "  <tbody>\n",
       "    <tr>\n",
       "      <th>0</th>\n",
       "      <td>10319</td>\n",
       "      <td>com.gopaktor.subscription.v1.premium.1m</td>\n",
       "      <td>2016-08-19 10:57:14</td>\n",
       "      <td>3.0</td>\n",
       "      <td>69</td>\n",
       "      <td>34.5</td>\n",
       "      <td>218 days, 0:00:00</td>\n",
       "      <td>218</td>\n",
       "    </tr>\n",
       "    <tr>\n",
       "      <th>1</th>\n",
       "      <td>105945</td>\n",
       "      <td>com.gopaktor.subscription.v1.premium.1m</td>\n",
       "      <td>2016-08-28 05:27:58</td>\n",
       "      <td>3.0</td>\n",
       "      <td>61</td>\n",
       "      <td>30.5</td>\n",
       "      <td>209 days, 0:00:00</td>\n",
       "      <td>209</td>\n",
       "    </tr>\n",
       "    <tr>\n",
       "      <th>2</th>\n",
       "      <td>10939</td>\n",
       "      <td>com.gopaktor.subscription.v1.premium.1m</td>\n",
       "      <td>2016-09-12 14:56:45</td>\n",
       "      <td>4.0</td>\n",
       "      <td>92</td>\n",
       "      <td>30.6667</td>\n",
       "      <td>194 days, 0:00:00</td>\n",
       "      <td>194</td>\n",
       "    </tr>\n",
       "    <tr>\n",
       "      <th>3</th>\n",
       "      <td>110380</td>\n",
       "      <td>com.gopaktor.subscription.v12.premium.3m</td>\n",
       "      <td>2016-08-13 16:38:00</td>\n",
       "      <td>0.0</td>\n",
       "      <td>0</td>\n",
       "      <td>NaN</td>\n",
       "      <td>224 days, 0:00:00</td>\n",
       "      <td>224</td>\n",
       "    </tr>\n",
       "    <tr>\n",
       "      <th>4</th>\n",
       "      <td>110380</td>\n",
       "      <td>com.gopaktor.subscription.v4.premium.1m</td>\n",
       "      <td>2016-07-07 17:54:01</td>\n",
       "      <td>2.0</td>\n",
       "      <td>30</td>\n",
       "      <td>30</td>\n",
       "      <td>261 days, 0:00:00</td>\n",
       "      <td>261</td>\n",
       "    </tr>\n",
       "  </tbody>\n",
       "</table>\n",
       "</div>"
      ],
      "text/plain": [
       "  cust_id                                product_id           timestamp  \\\n",
       "0   10319   com.gopaktor.subscription.v1.premium.1m 2016-08-19 10:57:14   \n",
       "1  105945   com.gopaktor.subscription.v1.premium.1m 2016-08-28 05:27:58   \n",
       "2   10939   com.gopaktor.subscription.v1.premium.1m 2016-09-12 14:56:45   \n",
       "3  110380  com.gopaktor.subscription.v12.premium.3m 2016-08-13 16:38:00   \n",
       "4  110380   com.gopaktor.subscription.v4.premium.1m 2016-07-07 17:54:01   \n",
       "\n",
       "   counter days_int repurchase_time          time_diff time_diff_int  \n",
       "0      3.0       69            34.5  218 days, 0:00:00           218  \n",
       "1      3.0       61            30.5  209 days, 0:00:00           209  \n",
       "2      4.0       92         30.6667  194 days, 0:00:00           194  \n",
       "3      0.0        0             NaN  224 days, 0:00:00           224  \n",
       "4      2.0       30              30  261 days, 0:00:00           261  "
      ]
     },
     "execution_count": 125,
     "metadata": {},
     "output_type": "execute_result"
    }
   ],
   "source": [
    "cust_repur_original.head()"
   ]
  },
  {
   "cell_type": "code",
   "execution_count": 126,
   "metadata": {
    "collapsed": true
   },
   "outputs": [],
   "source": [
    "cust_repur_original['depriotarize'] = \"\""
   ]
  },
  {
   "cell_type": "code",
   "execution_count": 127,
   "metadata": {
    "collapsed": false
   },
   "outputs": [
    {
     "data": {
      "text/html": [
       "<div>\n",
       "<table border=\"1\" class=\"dataframe\">\n",
       "  <thead>\n",
       "    <tr style=\"text-align: right;\">\n",
       "      <th></th>\n",
       "      <th>cust_id</th>\n",
       "      <th>product_id</th>\n",
       "      <th>timestamp</th>\n",
       "      <th>counter</th>\n",
       "      <th>days_int</th>\n",
       "      <th>repurchase_time</th>\n",
       "      <th>time_diff</th>\n",
       "      <th>time_diff_int</th>\n",
       "      <th>depriotarize</th>\n",
       "    </tr>\n",
       "  </thead>\n",
       "  <tbody>\n",
       "    <tr>\n",
       "      <th>0</th>\n",
       "      <td>10319</td>\n",
       "      <td>com.gopaktor.subscription.v1.premium.1m</td>\n",
       "      <td>2016-08-19 10:57:14</td>\n",
       "      <td>3.0</td>\n",
       "      <td>69</td>\n",
       "      <td>34.5</td>\n",
       "      <td>218 days, 0:00:00</td>\n",
       "      <td>218</td>\n",
       "      <td></td>\n",
       "    </tr>\n",
       "    <tr>\n",
       "      <th>1</th>\n",
       "      <td>105945</td>\n",
       "      <td>com.gopaktor.subscription.v1.premium.1m</td>\n",
       "      <td>2016-08-28 05:27:58</td>\n",
       "      <td>3.0</td>\n",
       "      <td>61</td>\n",
       "      <td>30.5</td>\n",
       "      <td>209 days, 0:00:00</td>\n",
       "      <td>209</td>\n",
       "      <td></td>\n",
       "    </tr>\n",
       "    <tr>\n",
       "      <th>2</th>\n",
       "      <td>10939</td>\n",
       "      <td>com.gopaktor.subscription.v1.premium.1m</td>\n",
       "      <td>2016-09-12 14:56:45</td>\n",
       "      <td>4.0</td>\n",
       "      <td>92</td>\n",
       "      <td>30.6667</td>\n",
       "      <td>194 days, 0:00:00</td>\n",
       "      <td>194</td>\n",
       "      <td></td>\n",
       "    </tr>\n",
       "    <tr>\n",
       "      <th>3</th>\n",
       "      <td>110380</td>\n",
       "      <td>com.gopaktor.subscription.v12.premium.3m</td>\n",
       "      <td>2016-08-13 16:38:00</td>\n",
       "      <td>0.0</td>\n",
       "      <td>0</td>\n",
       "      <td>NaN</td>\n",
       "      <td>224 days, 0:00:00</td>\n",
       "      <td>224</td>\n",
       "      <td></td>\n",
       "    </tr>\n",
       "    <tr>\n",
       "      <th>4</th>\n",
       "      <td>110380</td>\n",
       "      <td>com.gopaktor.subscription.v4.premium.1m</td>\n",
       "      <td>2016-07-07 17:54:01</td>\n",
       "      <td>2.0</td>\n",
       "      <td>30</td>\n",
       "      <td>30</td>\n",
       "      <td>261 days, 0:00:00</td>\n",
       "      <td>261</td>\n",
       "      <td></td>\n",
       "    </tr>\n",
       "  </tbody>\n",
       "</table>\n",
       "</div>"
      ],
      "text/plain": [
       "  cust_id                                product_id           timestamp  \\\n",
       "0   10319   com.gopaktor.subscription.v1.premium.1m 2016-08-19 10:57:14   \n",
       "1  105945   com.gopaktor.subscription.v1.premium.1m 2016-08-28 05:27:58   \n",
       "2   10939   com.gopaktor.subscription.v1.premium.1m 2016-09-12 14:56:45   \n",
       "3  110380  com.gopaktor.subscription.v12.premium.3m 2016-08-13 16:38:00   \n",
       "4  110380   com.gopaktor.subscription.v4.premium.1m 2016-07-07 17:54:01   \n",
       "\n",
       "   counter days_int repurchase_time          time_diff time_diff_int  \\\n",
       "0      3.0       69            34.5  218 days, 0:00:00           218   \n",
       "1      3.0       61            30.5  209 days, 0:00:00           209   \n",
       "2      4.0       92         30.6667  194 days, 0:00:00           194   \n",
       "3      0.0        0             NaN  224 days, 0:00:00           224   \n",
       "4      2.0       30              30  261 days, 0:00:00           261   \n",
       "\n",
       "  depriotarize  \n",
       "0               \n",
       "1               \n",
       "2               \n",
       "3               \n",
       "4               "
      ]
     },
     "execution_count": 127,
     "metadata": {},
     "output_type": "execute_result"
    }
   ],
   "source": [
    "cust_repur_original.head()"
   ]
  },
  {
   "cell_type": "code",
   "execution_count": 128,
   "metadata": {
    "collapsed": false
   },
   "outputs": [],
   "source": [
    "cust_repur_original.repurchase_time = cust_repur_original.repurchase_time.fillna(0)"
   ]
  },
  {
   "cell_type": "code",
   "execution_count": 129,
   "metadata": {
    "collapsed": false
   },
   "outputs": [
    {
     "data": {
      "text/html": [
       "<div>\n",
       "<table border=\"1\" class=\"dataframe\">\n",
       "  <thead>\n",
       "    <tr style=\"text-align: right;\">\n",
       "      <th></th>\n",
       "      <th>cust_id</th>\n",
       "      <th>product_id</th>\n",
       "      <th>timestamp</th>\n",
       "      <th>counter</th>\n",
       "      <th>days_int</th>\n",
       "      <th>repurchase_time</th>\n",
       "      <th>time_diff</th>\n",
       "      <th>time_diff_int</th>\n",
       "      <th>depriotarize</th>\n",
       "    </tr>\n",
       "  </thead>\n",
       "  <tbody>\n",
       "    <tr>\n",
       "      <th>0</th>\n",
       "      <td>10319</td>\n",
       "      <td>com.gopaktor.subscription.v1.premium.1m</td>\n",
       "      <td>2016-08-19 10:57:14</td>\n",
       "      <td>3.0</td>\n",
       "      <td>69</td>\n",
       "      <td>34.500000</td>\n",
       "      <td>218 days, 0:00:00</td>\n",
       "      <td>218</td>\n",
       "      <td></td>\n",
       "    </tr>\n",
       "    <tr>\n",
       "      <th>1</th>\n",
       "      <td>105945</td>\n",
       "      <td>com.gopaktor.subscription.v1.premium.1m</td>\n",
       "      <td>2016-08-28 05:27:58</td>\n",
       "      <td>3.0</td>\n",
       "      <td>61</td>\n",
       "      <td>30.500000</td>\n",
       "      <td>209 days, 0:00:00</td>\n",
       "      <td>209</td>\n",
       "      <td></td>\n",
       "    </tr>\n",
       "    <tr>\n",
       "      <th>2</th>\n",
       "      <td>10939</td>\n",
       "      <td>com.gopaktor.subscription.v1.premium.1m</td>\n",
       "      <td>2016-09-12 14:56:45</td>\n",
       "      <td>4.0</td>\n",
       "      <td>92</td>\n",
       "      <td>30.666667</td>\n",
       "      <td>194 days, 0:00:00</td>\n",
       "      <td>194</td>\n",
       "      <td></td>\n",
       "    </tr>\n",
       "    <tr>\n",
       "      <th>3</th>\n",
       "      <td>110380</td>\n",
       "      <td>com.gopaktor.subscription.v12.premium.3m</td>\n",
       "      <td>2016-08-13 16:38:00</td>\n",
       "      <td>0.0</td>\n",
       "      <td>0</td>\n",
       "      <td>0.000000</td>\n",
       "      <td>224 days, 0:00:00</td>\n",
       "      <td>224</td>\n",
       "      <td></td>\n",
       "    </tr>\n",
       "    <tr>\n",
       "      <th>4</th>\n",
       "      <td>110380</td>\n",
       "      <td>com.gopaktor.subscription.v4.premium.1m</td>\n",
       "      <td>2016-07-07 17:54:01</td>\n",
       "      <td>2.0</td>\n",
       "      <td>30</td>\n",
       "      <td>30.000000</td>\n",
       "      <td>261 days, 0:00:00</td>\n",
       "      <td>261</td>\n",
       "      <td></td>\n",
       "    </tr>\n",
       "  </tbody>\n",
       "</table>\n",
       "</div>"
      ],
      "text/plain": [
       "  cust_id                                product_id           timestamp  \\\n",
       "0   10319   com.gopaktor.subscription.v1.premium.1m 2016-08-19 10:57:14   \n",
       "1  105945   com.gopaktor.subscription.v1.premium.1m 2016-08-28 05:27:58   \n",
       "2   10939   com.gopaktor.subscription.v1.premium.1m 2016-09-12 14:56:45   \n",
       "3  110380  com.gopaktor.subscription.v12.premium.3m 2016-08-13 16:38:00   \n",
       "4  110380   com.gopaktor.subscription.v4.premium.1m 2016-07-07 17:54:01   \n",
       "\n",
       "   counter days_int  repurchase_time          time_diff time_diff_int  \\\n",
       "0      3.0       69        34.500000  218 days, 0:00:00           218   \n",
       "1      3.0       61        30.500000  209 days, 0:00:00           209   \n",
       "2      4.0       92        30.666667  194 days, 0:00:00           194   \n",
       "3      0.0        0         0.000000  224 days, 0:00:00           224   \n",
       "4      2.0       30        30.000000  261 days, 0:00:00           261   \n",
       "\n",
       "  depriotarize  \n",
       "0               \n",
       "1               \n",
       "2               \n",
       "3               \n",
       "4               "
      ]
     },
     "execution_count": 129,
     "metadata": {},
     "output_type": "execute_result"
    }
   ],
   "source": [
    "cust_repur_original.head()"
   ]
  },
  {
   "cell_type": "code",
   "execution_count": 130,
   "metadata": {
    "collapsed": false
   },
   "outputs": [
    {
     "data": {
      "text/plain": [
       "datetime.timedelta"
      ]
     },
     "execution_count": 130,
     "metadata": {},
     "output_type": "execute_result"
    }
   ],
   "source": [
    "type(cust_repur_original.time_diff[1])"
   ]
  },
  {
   "cell_type": "code",
   "execution_count": 131,
   "metadata": {
    "collapsed": false
   },
   "outputs": [
    {
     "data": {
      "text/html": [
       "<div>\n",
       "<table border=\"1\" class=\"dataframe\">\n",
       "  <thead>\n",
       "    <tr style=\"text-align: right;\">\n",
       "      <th></th>\n",
       "      <th>cust_id</th>\n",
       "      <th>product_id</th>\n",
       "      <th>timestamp</th>\n",
       "      <th>counter</th>\n",
       "      <th>days_int</th>\n",
       "      <th>repurchase_time</th>\n",
       "      <th>time_diff</th>\n",
       "      <th>time_diff_int</th>\n",
       "      <th>depriotarize</th>\n",
       "    </tr>\n",
       "  </thead>\n",
       "  <tbody>\n",
       "    <tr>\n",
       "      <th>0</th>\n",
       "      <td>10319</td>\n",
       "      <td>com.gopaktor.subscription.v1.premium.1m</td>\n",
       "      <td>2016-08-19 10:57:14</td>\n",
       "      <td>3.0</td>\n",
       "      <td>69</td>\n",
       "      <td>34.500000</td>\n",
       "      <td>218 days, 0:00:00</td>\n",
       "      <td>218</td>\n",
       "      <td></td>\n",
       "    </tr>\n",
       "    <tr>\n",
       "      <th>1</th>\n",
       "      <td>105945</td>\n",
       "      <td>com.gopaktor.subscription.v1.premium.1m</td>\n",
       "      <td>2016-08-28 05:27:58</td>\n",
       "      <td>3.0</td>\n",
       "      <td>61</td>\n",
       "      <td>30.500000</td>\n",
       "      <td>209 days, 0:00:00</td>\n",
       "      <td>209</td>\n",
       "      <td></td>\n",
       "    </tr>\n",
       "    <tr>\n",
       "      <th>2</th>\n",
       "      <td>10939</td>\n",
       "      <td>com.gopaktor.subscription.v1.premium.1m</td>\n",
       "      <td>2016-09-12 14:56:45</td>\n",
       "      <td>4.0</td>\n",
       "      <td>92</td>\n",
       "      <td>30.666667</td>\n",
       "      <td>194 days, 0:00:00</td>\n",
       "      <td>194</td>\n",
       "      <td></td>\n",
       "    </tr>\n",
       "    <tr>\n",
       "      <th>3</th>\n",
       "      <td>110380</td>\n",
       "      <td>com.gopaktor.subscription.v12.premium.3m</td>\n",
       "      <td>2016-08-13 16:38:00</td>\n",
       "      <td>0.0</td>\n",
       "      <td>0</td>\n",
       "      <td>0.000000</td>\n",
       "      <td>224 days, 0:00:00</td>\n",
       "      <td>224</td>\n",
       "      <td></td>\n",
       "    </tr>\n",
       "    <tr>\n",
       "      <th>4</th>\n",
       "      <td>110380</td>\n",
       "      <td>com.gopaktor.subscription.v4.premium.1m</td>\n",
       "      <td>2016-07-07 17:54:01</td>\n",
       "      <td>2.0</td>\n",
       "      <td>30</td>\n",
       "      <td>30.000000</td>\n",
       "      <td>261 days, 0:00:00</td>\n",
       "      <td>261</td>\n",
       "      <td></td>\n",
       "    </tr>\n",
       "  </tbody>\n",
       "</table>\n",
       "</div>"
      ],
      "text/plain": [
       "  cust_id                                product_id           timestamp  \\\n",
       "0   10319   com.gopaktor.subscription.v1.premium.1m 2016-08-19 10:57:14   \n",
       "1  105945   com.gopaktor.subscription.v1.premium.1m 2016-08-28 05:27:58   \n",
       "2   10939   com.gopaktor.subscription.v1.premium.1m 2016-09-12 14:56:45   \n",
       "3  110380  com.gopaktor.subscription.v12.premium.3m 2016-08-13 16:38:00   \n",
       "4  110380   com.gopaktor.subscription.v4.premium.1m 2016-07-07 17:54:01   \n",
       "\n",
       "   counter days_int  repurchase_time          time_diff time_diff_int  \\\n",
       "0      3.0       69        34.500000  218 days, 0:00:00           218   \n",
       "1      3.0       61        30.500000  209 days, 0:00:00           209   \n",
       "2      4.0       92        30.666667  194 days, 0:00:00           194   \n",
       "3      0.0        0         0.000000  224 days, 0:00:00           224   \n",
       "4      2.0       30        30.000000  261 days, 0:00:00           261   \n",
       "\n",
       "  depriotarize  \n",
       "0               \n",
       "1               \n",
       "2               \n",
       "3               \n",
       "4               "
      ]
     },
     "execution_count": 131,
     "metadata": {},
     "output_type": "execute_result"
    }
   ],
   "source": [
    "cust_repur_original.head()"
   ]
  },
  {
   "cell_type": "code",
   "execution_count": 132,
   "metadata": {
    "collapsed": false
   },
   "outputs": [
    {
     "name": "stderr",
     "output_type": "stream",
     "text": [
      "/home/ubuntu/anaconda2/lib/python2.7/site-packages/ipykernel/__main__.py:3: SettingWithCopyWarning: \n",
      "A value is trying to be set on a copy of a slice from a DataFrame\n",
      "\n",
      "See the caveats in the documentation: http://pandas.pydata.org/pandas-docs/stable/indexing.html#indexing-view-versus-copy\n",
      "  app.launch_new_instance()\n"
     ]
    }
   ],
   "source": [
    "for x in range(0,len(cust_repur_original)):\n",
    "    if cust_repur_original.time_diff_int[x] > cust_repur_original.repurchase_time[x]:\n",
    "        cust_repur_original.depriotarize[x] = \"Recommend\"\n",
    "    else:\n",
    "        cust_repur_original.depriotarize[x] = \"Do_not_Recommend\""
   ]
  },
  {
   "cell_type": "code",
   "execution_count": 133,
   "metadata": {
    "collapsed": false,
    "scrolled": true
   },
   "outputs": [
    {
     "data": {
      "text/html": [
       "<div>\n",
       "<table border=\"1\" class=\"dataframe\">\n",
       "  <thead>\n",
       "    <tr style=\"text-align: right;\">\n",
       "      <th></th>\n",
       "      <th>cust_id</th>\n",
       "      <th>product_id</th>\n",
       "      <th>timestamp</th>\n",
       "      <th>counter</th>\n",
       "      <th>days_int</th>\n",
       "      <th>repurchase_time</th>\n",
       "      <th>time_diff</th>\n",
       "      <th>time_diff_int</th>\n",
       "      <th>depriotarize</th>\n",
       "    </tr>\n",
       "  </thead>\n",
       "  <tbody>\n",
       "    <tr>\n",
       "      <th>0</th>\n",
       "      <td>10319</td>\n",
       "      <td>com.gopaktor.subscription.v1.premium.1m</td>\n",
       "      <td>2016-08-19 10:57:14</td>\n",
       "      <td>3.0</td>\n",
       "      <td>69</td>\n",
       "      <td>34.500000</td>\n",
       "      <td>218 days, 0:00:00</td>\n",
       "      <td>218</td>\n",
       "      <td>Recommend</td>\n",
       "    </tr>\n",
       "    <tr>\n",
       "      <th>1</th>\n",
       "      <td>105945</td>\n",
       "      <td>com.gopaktor.subscription.v1.premium.1m</td>\n",
       "      <td>2016-08-28 05:27:58</td>\n",
       "      <td>3.0</td>\n",
       "      <td>61</td>\n",
       "      <td>30.500000</td>\n",
       "      <td>209 days, 0:00:00</td>\n",
       "      <td>209</td>\n",
       "      <td>Recommend</td>\n",
       "    </tr>\n",
       "    <tr>\n",
       "      <th>2</th>\n",
       "      <td>10939</td>\n",
       "      <td>com.gopaktor.subscription.v1.premium.1m</td>\n",
       "      <td>2016-09-12 14:56:45</td>\n",
       "      <td>4.0</td>\n",
       "      <td>92</td>\n",
       "      <td>30.666667</td>\n",
       "      <td>194 days, 0:00:00</td>\n",
       "      <td>194</td>\n",
       "      <td>Recommend</td>\n",
       "    </tr>\n",
       "    <tr>\n",
       "      <th>3</th>\n",
       "      <td>110380</td>\n",
       "      <td>com.gopaktor.subscription.v12.premium.3m</td>\n",
       "      <td>2016-08-13 16:38:00</td>\n",
       "      <td>0.0</td>\n",
       "      <td>0</td>\n",
       "      <td>0.000000</td>\n",
       "      <td>224 days, 0:00:00</td>\n",
       "      <td>224</td>\n",
       "      <td>Recommend</td>\n",
       "    </tr>\n",
       "    <tr>\n",
       "      <th>4</th>\n",
       "      <td>110380</td>\n",
       "      <td>com.gopaktor.subscription.v4.premium.1m</td>\n",
       "      <td>2016-07-07 17:54:01</td>\n",
       "      <td>2.0</td>\n",
       "      <td>30</td>\n",
       "      <td>30.000000</td>\n",
       "      <td>261 days, 0:00:00</td>\n",
       "      <td>261</td>\n",
       "      <td>Recommend</td>\n",
       "    </tr>\n",
       "  </tbody>\n",
       "</table>\n",
       "</div>"
      ],
      "text/plain": [
       "  cust_id                                product_id           timestamp  \\\n",
       "0   10319   com.gopaktor.subscription.v1.premium.1m 2016-08-19 10:57:14   \n",
       "1  105945   com.gopaktor.subscription.v1.premium.1m 2016-08-28 05:27:58   \n",
       "2   10939   com.gopaktor.subscription.v1.premium.1m 2016-09-12 14:56:45   \n",
       "3  110380  com.gopaktor.subscription.v12.premium.3m 2016-08-13 16:38:00   \n",
       "4  110380   com.gopaktor.subscription.v4.premium.1m 2016-07-07 17:54:01   \n",
       "\n",
       "   counter days_int  repurchase_time          time_diff time_diff_int  \\\n",
       "0      3.0       69        34.500000  218 days, 0:00:00           218   \n",
       "1      3.0       61        30.500000  209 days, 0:00:00           209   \n",
       "2      4.0       92        30.666667  194 days, 0:00:00           194   \n",
       "3      0.0        0         0.000000  224 days, 0:00:00           224   \n",
       "4      2.0       30        30.000000  261 days, 0:00:00           261   \n",
       "\n",
       "  depriotarize  \n",
       "0    Recommend  \n",
       "1    Recommend  \n",
       "2    Recommend  \n",
       "3    Recommend  \n",
       "4    Recommend  "
      ]
     },
     "execution_count": 133,
     "metadata": {},
     "output_type": "execute_result"
    }
   ],
   "source": [
    "cust_repur_original.head()"
   ]
  },
  {
   "cell_type": "code",
   "execution_count": 134,
   "metadata": {
    "collapsed": true
   },
   "outputs": [],
   "source": [
    "del cust_repur_original['timestamp']"
   ]
  },
  {
   "cell_type": "code",
   "execution_count": 135,
   "metadata": {
    "collapsed": true
   },
   "outputs": [],
   "source": [
    "del cust_repur_original['counter']"
   ]
  },
  {
   "cell_type": "code",
   "execution_count": 136,
   "metadata": {
    "collapsed": true
   },
   "outputs": [],
   "source": [
    "del cust_repur_original['days_int']"
   ]
  },
  {
   "cell_type": "code",
   "execution_count": 137,
   "metadata": {
    "collapsed": true
   },
   "outputs": [],
   "source": [
    "del cust_repur_original['repurchase_time']"
   ]
  },
  {
   "cell_type": "code",
   "execution_count": 138,
   "metadata": {
    "collapsed": true
   },
   "outputs": [],
   "source": [
    "del cust_repur_original['time_diff']"
   ]
  },
  {
   "cell_type": "code",
   "execution_count": 139,
   "metadata": {
    "collapsed": true
   },
   "outputs": [],
   "source": [
    "del cust_repur_original['time_diff_int']"
   ]
  },
  {
   "cell_type": "code",
   "execution_count": 140,
   "metadata": {
    "collapsed": false
   },
   "outputs": [
    {
     "data": {
      "text/html": [
       "<div>\n",
       "<table border=\"1\" class=\"dataframe\">\n",
       "  <thead>\n",
       "    <tr style=\"text-align: right;\">\n",
       "      <th></th>\n",
       "      <th>cust_id</th>\n",
       "      <th>product_id</th>\n",
       "      <th>depriotarize</th>\n",
       "    </tr>\n",
       "  </thead>\n",
       "  <tbody>\n",
       "    <tr>\n",
       "      <th>0</th>\n",
       "      <td>10319</td>\n",
       "      <td>com.gopaktor.subscription.v1.premium.1m</td>\n",
       "      <td>Recommend</td>\n",
       "    </tr>\n",
       "    <tr>\n",
       "      <th>1</th>\n",
       "      <td>105945</td>\n",
       "      <td>com.gopaktor.subscription.v1.premium.1m</td>\n",
       "      <td>Recommend</td>\n",
       "    </tr>\n",
       "    <tr>\n",
       "      <th>2</th>\n",
       "      <td>10939</td>\n",
       "      <td>com.gopaktor.subscription.v1.premium.1m</td>\n",
       "      <td>Recommend</td>\n",
       "    </tr>\n",
       "    <tr>\n",
       "      <th>3</th>\n",
       "      <td>110380</td>\n",
       "      <td>com.gopaktor.subscription.v12.premium.3m</td>\n",
       "      <td>Recommend</td>\n",
       "    </tr>\n",
       "    <tr>\n",
       "      <th>4</th>\n",
       "      <td>110380</td>\n",
       "      <td>com.gopaktor.subscription.v4.premium.1m</td>\n",
       "      <td>Recommend</td>\n",
       "    </tr>\n",
       "  </tbody>\n",
       "</table>\n",
       "</div>"
      ],
      "text/plain": [
       "  cust_id                                product_id depriotarize\n",
       "0   10319   com.gopaktor.subscription.v1.premium.1m    Recommend\n",
       "1  105945   com.gopaktor.subscription.v1.premium.1m    Recommend\n",
       "2   10939   com.gopaktor.subscription.v1.premium.1m    Recommend\n",
       "3  110380  com.gopaktor.subscription.v12.premium.3m    Recommend\n",
       "4  110380   com.gopaktor.subscription.v4.premium.1m    Recommend"
      ]
     },
     "execution_count": 140,
     "metadata": {},
     "output_type": "execute_result"
    }
   ],
   "source": [
    "cust_repur_original.head()"
   ]
  }
 ],
 "metadata": {
  "kernelspec": {
   "display_name": "Python 2",
   "language": "python",
   "name": "python2"
  },
  "language_info": {
   "codemirror_mode": {
    "name": "ipython",
    "version": 2
   },
   "file_extension": ".py",
   "mimetype": "text/x-python",
   "name": "python",
   "nbconvert_exporter": "python",
   "pygments_lexer": "ipython2",
   "version": "2.7.11"
  }
 },
 "nbformat": 4,
 "nbformat_minor": 0
}
