{
 "cells": [
  {
   "cell_type": "code",
   "execution_count": 1,
   "metadata": {
    "collapsed": true
   },
   "outputs": [],
   "source": [
    "from DemoServerDB import ConnectDatabase\n",
    "from mapping import doc"
   ]
  },
  {
   "cell_type": "code",
   "execution_count": 2,
   "metadata": {
    "collapsed": true
   },
   "outputs": [],
   "source": [
    "temp = ConnectDatabase()"
   ]
  },
  {
   "cell_type": "code",
   "execution_count": 3,
   "metadata": {
    "collapsed": false
   },
   "outputs": [
    {
     "data": {
      "text/plain": [
       "<connection object at 0x7f98d819ca28; dsn: 'dbname=postgresdemotwo user=clientdemo password=xxxxxxxxxxx host=postgresdemotwo.c3yxphqgag3s.ap-southeast-1.rds.amazonaws.com port=5432 sslmode=require', closed: 0>"
      ]
     },
     "execution_count": 3,
     "metadata": {},
     "output_type": "execute_result"
    }
   ],
   "source": [
    "temp.conn"
   ]
  },
  {
   "cell_type": "code",
   "execution_count": 4,
   "metadata": {
    "collapsed": false
   },
   "outputs": [
    {
     "data": {
      "text/plain": [
       "{'category': 'category',\n",
       " 'cust_id': 'id',\n",
       " 'product_id': 'prod_id',\n",
       " 'quantity': 'purchasequantity',\n",
       " 'timestamp': 'date'}"
      ]
     },
     "execution_count": 4,
     "metadata": {},
     "output_type": "execute_result"
    }
   ],
   "source": [
    "doc['column_map']['TRANSACTION_MASTER']"
   ]
  },
  {
   "cell_type": "code",
   "execution_count": 5,
   "metadata": {
    "collapsed": true
   },
   "outputs": [],
   "source": [
    "query = 'SELECT \"%s\",\"%s\" FROM \"%s\"'%(doc['column_map']['TRANSACTION_MASTER']['cust_id'],\n",
    "                               doc['column_map']['TRANSACTION_MASTER']['product_id'],\n",
    "                               doc['table_map']['TRANSACTION_MASTER'])"
   ]
  },
  {
   "cell_type": "code",
   "execution_count": 6,
   "metadata": {
    "collapsed": false
   },
   "outputs": [
    {
     "name": "stdout",
     "output_type": "stream",
     "text": [
      "SELECT \"id\",\"prod_id\" FROM \"trans\"\n"
     ]
    }
   ],
   "source": [
    "print query"
   ]
  },
  {
   "cell_type": "code",
   "execution_count": 7,
   "metadata": {
    "collapsed": true
   },
   "outputs": [],
   "source": [
    "temp.conn.rollback()"
   ]
  },
  {
   "cell_type": "code",
   "execution_count": 8,
   "metadata": {
    "collapsed": false
   },
   "outputs": [],
   "source": [
    "temp.cur.execute(query)"
   ]
  },
  {
   "cell_type": "code",
   "execution_count": 9,
   "metadata": {
    "collapsed": false
   },
   "outputs": [],
   "source": [
    "col_names = [desc[0] for desc in temp.cur.description]"
   ]
  },
  {
   "cell_type": "code",
   "execution_count": 10,
   "metadata": {
    "collapsed": false
   },
   "outputs": [
    {
     "data": {
      "text/plain": [
       "['id', 'prod_id']"
      ]
     },
     "execution_count": 10,
     "metadata": {},
     "output_type": "execute_result"
    }
   ],
   "source": [
    "col_names"
   ]
  },
  {
   "cell_type": "code",
   "execution_count": 11,
   "metadata": {
    "collapsed": false
   },
   "outputs": [],
   "source": [
    "import pandas as pd"
   ]
  },
  {
   "cell_type": "code",
   "execution_count": 12,
   "metadata": {
    "collapsed": true
   },
   "outputs": [],
   "source": [
    "trans_table = pd.DataFrame(temp.cur.fetchall(), columns=col_names)"
   ]
  },
  {
   "cell_type": "code",
   "execution_count": 13,
   "metadata": {
    "collapsed": false
   },
   "outputs": [
    {
     "data": {
      "text/html": [
       "<div>\n",
       "<table border=\"1\" class=\"dataframe\">\n",
       "  <thead>\n",
       "    <tr style=\"text-align: right;\">\n",
       "      <th></th>\n",
       "      <th>id</th>\n",
       "      <th>prod_id</th>\n",
       "    </tr>\n",
       "  </thead>\n",
       "  <tbody>\n",
       "    <tr>\n",
       "      <th>0</th>\n",
       "      <td>3561244241</td>\n",
       "      <td>2507 - 8499 - 24 - OZ</td>\n",
       "    </tr>\n",
       "    <tr>\n",
       "      <th>1</th>\n",
       "      <td>3561244241</td>\n",
       "      <td>2507 - 8499 - 24 - OZ</td>\n",
       "    </tr>\n",
       "    <tr>\n",
       "      <th>2</th>\n",
       "      <td>3561244241</td>\n",
       "      <td>9753 - 0 - 1 - CT</td>\n",
       "    </tr>\n",
       "    <tr>\n",
       "      <th>3</th>\n",
       "      <td>3561244241</td>\n",
       "      <td>9518 - 2988 - 1 - CT</td>\n",
       "    </tr>\n",
       "    <tr>\n",
       "      <th>4</th>\n",
       "      <td>3561244241</td>\n",
       "      <td>9518 - 2988 - 1 - CT</td>\n",
       "    </tr>\n",
       "  </tbody>\n",
       "</table>\n",
       "</div>"
      ],
      "text/plain": [
       "           id                prod_id\n",
       "0  3561244241  2507 - 8499 - 24 - OZ\n",
       "1  3561244241  2507 - 8499 - 24 - OZ\n",
       "2  3561244241      9753 - 0 - 1 - CT\n",
       "3  3561244241   9518 - 2988 - 1 - CT\n",
       "4  3561244241   9518 - 2988 - 1 - CT"
      ]
     },
     "execution_count": 13,
     "metadata": {},
     "output_type": "execute_result"
    }
   ],
   "source": [
    "trans_table.head()"
   ]
  },
  {
   "cell_type": "code",
   "execution_count": 14,
   "metadata": {
    "collapsed": true
   },
   "outputs": [],
   "source": [
    "trans_table.rename(columns={doc['column_map']['TRANSACTION_MASTER']['cust_id']:'cust_id'}, inplace=True)\n",
    "trans_table.rename(columns={doc['column_map']['TRANSACTION_MASTER']['product_id']:'product_id'}, inplace=True)"
   ]
  },
  {
   "cell_type": "code",
   "execution_count": 15,
   "metadata": {
    "collapsed": false
   },
   "outputs": [
    {
     "data": {
      "text/html": [
       "<div>\n",
       "<table border=\"1\" class=\"dataframe\">\n",
       "  <thead>\n",
       "    <tr style=\"text-align: right;\">\n",
       "      <th></th>\n",
       "      <th>cust_id</th>\n",
       "      <th>product_id</th>\n",
       "    </tr>\n",
       "  </thead>\n",
       "  <tbody>\n",
       "    <tr>\n",
       "      <th>0</th>\n",
       "      <td>3561244241</td>\n",
       "      <td>2507 - 8499 - 24 - OZ</td>\n",
       "    </tr>\n",
       "    <tr>\n",
       "      <th>1</th>\n",
       "      <td>3561244241</td>\n",
       "      <td>2507 - 8499 - 24 - OZ</td>\n",
       "    </tr>\n",
       "    <tr>\n",
       "      <th>2</th>\n",
       "      <td>3561244241</td>\n",
       "      <td>9753 - 0 - 1 - CT</td>\n",
       "    </tr>\n",
       "    <tr>\n",
       "      <th>3</th>\n",
       "      <td>3561244241</td>\n",
       "      <td>9518 - 2988 - 1 - CT</td>\n",
       "    </tr>\n",
       "    <tr>\n",
       "      <th>4</th>\n",
       "      <td>3561244241</td>\n",
       "      <td>9518 - 2988 - 1 - CT</td>\n",
       "    </tr>\n",
       "  </tbody>\n",
       "</table>\n",
       "</div>"
      ],
      "text/plain": [
       "      cust_id             product_id\n",
       "0  3561244241  2507 - 8499 - 24 - OZ\n",
       "1  3561244241  2507 - 8499 - 24 - OZ\n",
       "2  3561244241      9753 - 0 - 1 - CT\n",
       "3  3561244241   9518 - 2988 - 1 - CT\n",
       "4  3561244241   9518 - 2988 - 1 - CT"
      ]
     },
     "execution_count": 15,
     "metadata": {},
     "output_type": "execute_result"
    }
   ],
   "source": [
    "trans_table.head()"
   ]
  },
  {
   "cell_type": "code",
   "execution_count": 16,
   "metadata": {
    "collapsed": false
   },
   "outputs": [
    {
     "data": {
      "text/plain": [
       "(71932603, 2)"
      ]
     },
     "execution_count": 16,
     "metadata": {},
     "output_type": "execute_result"
    }
   ],
   "source": [
    "trans_table.shape"
   ]
  },
  {
   "cell_type": "code",
   "execution_count": 17,
   "metadata": {
    "collapsed": true
   },
   "outputs": [],
   "source": [
    "trans_table = trans_table[['cust_id','product_id']]"
   ]
  },
  {
   "cell_type": "code",
   "execution_count": 18,
   "metadata": {
    "collapsed": false
   },
   "outputs": [
    {
     "data": {
      "text/plain": [
       "62308"
      ]
     },
     "execution_count": 18,
     "metadata": {},
     "output_type": "execute_result"
    }
   ],
   "source": [
    "len(trans_table['cust_id'].unique())"
   ]
  },
  {
   "cell_type": "code",
   "execution_count": 19,
   "metadata": {
    "collapsed": false
   },
   "outputs": [],
   "source": [
    "grp_cust = trans_table.groupby('cust_id').count()"
   ]
  },
  {
   "cell_type": "code",
   "execution_count": 20,
   "metadata": {
    "collapsed": false
   },
   "outputs": [
    {
     "data": {
      "text/html": [
       "<div>\n",
       "<table border=\"1\" class=\"dataframe\">\n",
       "  <thead>\n",
       "    <tr style=\"text-align: right;\">\n",
       "      <th></th>\n",
       "      <th>product_id</th>\n",
       "    </tr>\n",
       "    <tr>\n",
       "      <th>cust_id</th>\n",
       "      <th></th>\n",
       "    </tr>\n",
       "  </thead>\n",
       "  <tbody>\n",
       "    <tr>\n",
       "      <th>100010021</th>\n",
       "      <td>349</td>\n",
       "    </tr>\n",
       "    <tr>\n",
       "      <th>100022923</th>\n",
       "      <td>617</td>\n",
       "    </tr>\n",
       "    <tr>\n",
       "      <th>100029473</th>\n",
       "      <td>1644</td>\n",
       "    </tr>\n",
       "    <tr>\n",
       "      <th>100050424</th>\n",
       "      <td>1235</td>\n",
       "    </tr>\n",
       "    <tr>\n",
       "      <th>100051316</th>\n",
       "      <td>3065</td>\n",
       "    </tr>\n",
       "  </tbody>\n",
       "</table>\n",
       "</div>"
      ],
      "text/plain": [
       "           product_id\n",
       "cust_id              \n",
       "100010021         349\n",
       "100022923         617\n",
       "100029473        1644\n",
       "100050424        1235\n",
       "100051316        3065"
      ]
     },
     "execution_count": 20,
     "metadata": {},
     "output_type": "execute_result"
    }
   ],
   "source": [
    "grp_cust.head()"
   ]
  },
  {
   "cell_type": "code",
   "execution_count": 21,
   "metadata": {
    "collapsed": true
   },
   "outputs": [],
   "source": [
    "grp_cust = grp_cust.reset_index()"
   ]
  },
  {
   "cell_type": "code",
   "execution_count": 22,
   "metadata": {
    "collapsed": false
   },
   "outputs": [
    {
     "data": {
      "text/html": [
       "<div>\n",
       "<table border=\"1\" class=\"dataframe\">\n",
       "  <thead>\n",
       "    <tr style=\"text-align: right;\">\n",
       "      <th></th>\n",
       "      <th>cust_id</th>\n",
       "      <th>product_id</th>\n",
       "    </tr>\n",
       "  </thead>\n",
       "  <tbody>\n",
       "    <tr>\n",
       "      <th>0</th>\n",
       "      <td>100010021</td>\n",
       "      <td>349</td>\n",
       "    </tr>\n",
       "    <tr>\n",
       "      <th>1</th>\n",
       "      <td>100022923</td>\n",
       "      <td>617</td>\n",
       "    </tr>\n",
       "    <tr>\n",
       "      <th>2</th>\n",
       "      <td>100029473</td>\n",
       "      <td>1644</td>\n",
       "    </tr>\n",
       "    <tr>\n",
       "      <th>3</th>\n",
       "      <td>100050424</td>\n",
       "      <td>1235</td>\n",
       "    </tr>\n",
       "    <tr>\n",
       "      <th>4</th>\n",
       "      <td>100051316</td>\n",
       "      <td>3065</td>\n",
       "    </tr>\n",
       "  </tbody>\n",
       "</table>\n",
       "</div>"
      ],
      "text/plain": [
       "     cust_id  product_id\n",
       "0  100010021         349\n",
       "1  100022923         617\n",
       "2  100029473        1644\n",
       "3  100050424        1235\n",
       "4  100051316        3065"
      ]
     },
     "execution_count": 22,
     "metadata": {},
     "output_type": "execute_result"
    }
   ],
   "source": [
    "grp_cust.head()"
   ]
  },
  {
   "cell_type": "code",
   "execution_count": 23,
   "metadata": {
    "collapsed": false
   },
   "outputs": [
    {
     "data": {
      "text/plain": [
       "(62308, 2)"
      ]
     },
     "execution_count": 23,
     "metadata": {},
     "output_type": "execute_result"
    }
   ],
   "source": [
    "grp_cust.shape"
   ]
  },
  {
   "cell_type": "code",
   "execution_count": 24,
   "metadata": {
    "collapsed": true
   },
   "outputs": [],
   "source": [
    "grp_cust.rename(columns={'product_id':'count'}, inplace=True)"
   ]
  },
  {
   "cell_type": "code",
   "execution_count": 25,
   "metadata": {
    "collapsed": false
   },
   "outputs": [
    {
     "data": {
      "text/html": [
       "<div>\n",
       "<table border=\"1\" class=\"dataframe\">\n",
       "  <thead>\n",
       "    <tr style=\"text-align: right;\">\n",
       "      <th></th>\n",
       "      <th>cust_id</th>\n",
       "      <th>count</th>\n",
       "    </tr>\n",
       "  </thead>\n",
       "  <tbody>\n",
       "    <tr>\n",
       "      <th>0</th>\n",
       "      <td>100010021</td>\n",
       "      <td>349</td>\n",
       "    </tr>\n",
       "    <tr>\n",
       "      <th>1</th>\n",
       "      <td>100022923</td>\n",
       "      <td>617</td>\n",
       "    </tr>\n",
       "    <tr>\n",
       "      <th>2</th>\n",
       "      <td>100029473</td>\n",
       "      <td>1644</td>\n",
       "    </tr>\n",
       "    <tr>\n",
       "      <th>3</th>\n",
       "      <td>100050424</td>\n",
       "      <td>1235</td>\n",
       "    </tr>\n",
       "    <tr>\n",
       "      <th>4</th>\n",
       "      <td>100051316</td>\n",
       "      <td>3065</td>\n",
       "    </tr>\n",
       "  </tbody>\n",
       "</table>\n",
       "</div>"
      ],
      "text/plain": [
       "     cust_id  count\n",
       "0  100010021    349\n",
       "1  100022923    617\n",
       "2  100029473   1644\n",
       "3  100050424   1235\n",
       "4  100051316   3065"
      ]
     },
     "execution_count": 25,
     "metadata": {},
     "output_type": "execute_result"
    }
   ],
   "source": [
    "grp_cust.head()"
   ]
  },
  {
   "cell_type": "code",
   "execution_count": 26,
   "metadata": {
    "collapsed": false
   },
   "outputs": [],
   "source": [
    "grp_cust_df_1 = grp_cust.query('count != 1')"
   ]
  },
  {
   "cell_type": "code",
   "execution_count": 27,
   "metadata": {
    "collapsed": false
   },
   "outputs": [
    {
     "data": {
      "text/plain": [
       "(62301, 2)"
      ]
     },
     "execution_count": 27,
     "metadata": {},
     "output_type": "execute_result"
    }
   ],
   "source": [
    "grp_cust_df_1.shape"
   ]
  },
  {
   "cell_type": "code",
   "execution_count": 28,
   "metadata": {
    "collapsed": false
   },
   "outputs": [
    {
     "data": {
      "text/plain": [
       "(62308, 2)"
      ]
     },
     "execution_count": 28,
     "metadata": {},
     "output_type": "execute_result"
    }
   ],
   "source": [
    "grp_cust.shape"
   ]
  },
  {
   "cell_type": "code",
   "execution_count": 29,
   "metadata": {
    "collapsed": true
   },
   "outputs": [],
   "source": [
    "grp_cust_df_1.reset_index(drop=True, inplace=True)"
   ]
  },
  {
   "cell_type": "code",
   "execution_count": 30,
   "metadata": {
    "collapsed": false
   },
   "outputs": [
    {
     "data": {
      "text/html": [
       "<div>\n",
       "<table border=\"1\" class=\"dataframe\">\n",
       "  <thead>\n",
       "    <tr style=\"text-align: right;\">\n",
       "      <th></th>\n",
       "      <th>cust_id</th>\n",
       "      <th>count</th>\n",
       "    </tr>\n",
       "  </thead>\n",
       "  <tbody>\n",
       "    <tr>\n",
       "      <th>0</th>\n",
       "      <td>100010021</td>\n",
       "      <td>349</td>\n",
       "    </tr>\n",
       "    <tr>\n",
       "      <th>1</th>\n",
       "      <td>100022923</td>\n",
       "      <td>617</td>\n",
       "    </tr>\n",
       "    <tr>\n",
       "      <th>2</th>\n",
       "      <td>100029473</td>\n",
       "      <td>1644</td>\n",
       "    </tr>\n",
       "    <tr>\n",
       "      <th>3</th>\n",
       "      <td>100050424</td>\n",
       "      <td>1235</td>\n",
       "    </tr>\n",
       "    <tr>\n",
       "      <th>4</th>\n",
       "      <td>100051316</td>\n",
       "      <td>3065</td>\n",
       "    </tr>\n",
       "  </tbody>\n",
       "</table>\n",
       "</div>"
      ],
      "text/plain": [
       "     cust_id  count\n",
       "0  100010021    349\n",
       "1  100022923    617\n",
       "2  100029473   1644\n",
       "3  100050424   1235\n",
       "4  100051316   3065"
      ]
     },
     "execution_count": 30,
     "metadata": {},
     "output_type": "execute_result"
    }
   ],
   "source": [
    "grp_cust_df_1.head()"
   ]
  },
  {
   "cell_type": "code",
   "execution_count": 31,
   "metadata": {
    "collapsed": false
   },
   "outputs": [
    {
     "data": {
      "text/html": [
       "<div>\n",
       "<table border=\"1\" class=\"dataframe\">\n",
       "  <thead>\n",
       "    <tr style=\"text-align: right;\">\n",
       "      <th></th>\n",
       "      <th>cust_id</th>\n",
       "      <th>count</th>\n",
       "    </tr>\n",
       "  </thead>\n",
       "  <tbody>\n",
       "    <tr>\n",
       "      <th>62296</th>\n",
       "      <td>99804794</td>\n",
       "      <td>529</td>\n",
       "    </tr>\n",
       "    <tr>\n",
       "      <th>62297</th>\n",
       "      <td>99818613</td>\n",
       "      <td>673</td>\n",
       "    </tr>\n",
       "    <tr>\n",
       "      <th>62298</th>\n",
       "      <td>99844671</td>\n",
       "      <td>1656</td>\n",
       "    </tr>\n",
       "    <tr>\n",
       "      <th>62299</th>\n",
       "      <td>99926227</td>\n",
       "      <td>914</td>\n",
       "    </tr>\n",
       "    <tr>\n",
       "      <th>62300</th>\n",
       "      <td>99972977</td>\n",
       "      <td>670</td>\n",
       "    </tr>\n",
       "  </tbody>\n",
       "</table>\n",
       "</div>"
      ],
      "text/plain": [
       "        cust_id  count\n",
       "62296  99804794    529\n",
       "62297  99818613    673\n",
       "62298  99844671   1656\n",
       "62299  99926227    914\n",
       "62300  99972977    670"
      ]
     },
     "execution_count": 31,
     "metadata": {},
     "output_type": "execute_result"
    }
   ],
   "source": [
    "grp_cust_df_1.tail()"
   ]
  },
  {
   "cell_type": "code",
   "execution_count": 32,
   "metadata": {
    "collapsed": true
   },
   "outputs": [],
   "source": [
    "cust = grp_cust_df_1[['cust_id']]"
   ]
  },
  {
   "cell_type": "code",
   "execution_count": 33,
   "metadata": {
    "collapsed": false
   },
   "outputs": [
    {
     "data": {
      "text/html": [
       "<div>\n",
       "<table border=\"1\" class=\"dataframe\">\n",
       "  <thead>\n",
       "    <tr style=\"text-align: right;\">\n",
       "      <th></th>\n",
       "      <th>cust_id</th>\n",
       "    </tr>\n",
       "  </thead>\n",
       "  <tbody>\n",
       "    <tr>\n",
       "      <th>0</th>\n",
       "      <td>100010021</td>\n",
       "    </tr>\n",
       "    <tr>\n",
       "      <th>1</th>\n",
       "      <td>100022923</td>\n",
       "    </tr>\n",
       "    <tr>\n",
       "      <th>2</th>\n",
       "      <td>100029473</td>\n",
       "    </tr>\n",
       "    <tr>\n",
       "      <th>3</th>\n",
       "      <td>100050424</td>\n",
       "    </tr>\n",
       "    <tr>\n",
       "      <th>4</th>\n",
       "      <td>100051316</td>\n",
       "    </tr>\n",
       "  </tbody>\n",
       "</table>\n",
       "</div>"
      ],
      "text/plain": [
       "     cust_id\n",
       "0  100010021\n",
       "1  100022923\n",
       "2  100029473\n",
       "3  100050424\n",
       "4  100051316"
      ]
     },
     "execution_count": 33,
     "metadata": {},
     "output_type": "execute_result"
    }
   ],
   "source": [
    "cust.head()"
   ]
  },
  {
   "cell_type": "code",
   "execution_count": 34,
   "metadata": {
    "collapsed": true
   },
   "outputs": [],
   "source": [
    "final_data = trans_table.merge(cust, on='cust_id')"
   ]
  },
  {
   "cell_type": "code",
   "execution_count": 35,
   "metadata": {
    "collapsed": false
   },
   "outputs": [
    {
     "data": {
      "text/plain": [
       "(71932596, 2)"
      ]
     },
     "execution_count": 35,
     "metadata": {},
     "output_type": "execute_result"
    }
   ],
   "source": [
    "final_data.shape"
   ]
  },
  {
   "cell_type": "code",
   "execution_count": 36,
   "metadata": {
    "collapsed": true
   },
   "outputs": [],
   "source": [
    "cust_prod_comb = final_data.groupby(['cust_id','product_id']).size().reset_index().rename(columns={0:'count'})"
   ]
  },
  {
   "cell_type": "code",
   "execution_count": 37,
   "metadata": {
    "collapsed": false
   },
   "outputs": [
    {
     "data": {
      "text/html": [
       "<div>\n",
       "<table border=\"1\" class=\"dataframe\">\n",
       "  <thead>\n",
       "    <tr style=\"text-align: right;\">\n",
       "      <th></th>\n",
       "      <th>cust_id</th>\n",
       "      <th>product_id</th>\n",
       "      <th>count</th>\n",
       "    </tr>\n",
       "  </thead>\n",
       "  <tbody>\n",
       "    <tr>\n",
       "      <th>0</th>\n",
       "      <td>100010021</td>\n",
       "      <td>1205 - 17292 - 5 - OZ</td>\n",
       "      <td>2</td>\n",
       "    </tr>\n",
       "    <tr>\n",
       "      <th>1</th>\n",
       "      <td>100010021</td>\n",
       "      <td>1703 - 10882 - 32 - OZ</td>\n",
       "      <td>1</td>\n",
       "    </tr>\n",
       "    <tr>\n",
       "      <th>2</th>\n",
       "      <td>100010021</td>\n",
       "      <td>1703 - 19934 - 26 - OZ</td>\n",
       "      <td>1</td>\n",
       "    </tr>\n",
       "    <tr>\n",
       "      <th>3</th>\n",
       "      <td>100010021</td>\n",
       "      <td>1703 - 6608 - 32 - OZ</td>\n",
       "      <td>1</td>\n",
       "    </tr>\n",
       "    <tr>\n",
       "      <th>4</th>\n",
       "      <td>100010021</td>\n",
       "      <td>1704 - 27327 - 20 - OZ</td>\n",
       "      <td>1</td>\n",
       "    </tr>\n",
       "  </tbody>\n",
       "</table>\n",
       "</div>"
      ],
      "text/plain": [
       "     cust_id              product_id  count\n",
       "0  100010021   1205 - 17292 - 5 - OZ      2\n",
       "1  100010021  1703 - 10882 - 32 - OZ      1\n",
       "2  100010021  1703 - 19934 - 26 - OZ      1\n",
       "3  100010021   1703 - 6608 - 32 - OZ      1\n",
       "4  100010021  1704 - 27327 - 20 - OZ      1"
      ]
     },
     "execution_count": 37,
     "metadata": {},
     "output_type": "execute_result"
    }
   ],
   "source": [
    "cust_prod_comb.head()"
   ]
  },
  {
   "cell_type": "code",
   "execution_count": 38,
   "metadata": {
    "collapsed": true
   },
   "outputs": [],
   "source": [
    "affinity_df = cust_prod_comb.merge(grp_cust_df_1, on='cust_id')"
   ]
  },
  {
   "cell_type": "code",
   "execution_count": 39,
   "metadata": {
    "collapsed": false
   },
   "outputs": [
    {
     "data": {
      "text/html": [
       "<div>\n",
       "<table border=\"1\" class=\"dataframe\">\n",
       "  <thead>\n",
       "    <tr style=\"text-align: right;\">\n",
       "      <th></th>\n",
       "      <th>cust_id</th>\n",
       "      <th>product_id</th>\n",
       "      <th>count_x</th>\n",
       "      <th>count_y</th>\n",
       "    </tr>\n",
       "  </thead>\n",
       "  <tbody>\n",
       "    <tr>\n",
       "      <th>0</th>\n",
       "      <td>100010021</td>\n",
       "      <td>1205 - 17292 - 5 - OZ</td>\n",
       "      <td>2</td>\n",
       "      <td>349</td>\n",
       "    </tr>\n",
       "    <tr>\n",
       "      <th>1</th>\n",
       "      <td>100010021</td>\n",
       "      <td>1703 - 10882 - 32 - OZ</td>\n",
       "      <td>1</td>\n",
       "      <td>349</td>\n",
       "    </tr>\n",
       "    <tr>\n",
       "      <th>2</th>\n",
       "      <td>100010021</td>\n",
       "      <td>1703 - 19934 - 26 - OZ</td>\n",
       "      <td>1</td>\n",
       "      <td>349</td>\n",
       "    </tr>\n",
       "    <tr>\n",
       "      <th>3</th>\n",
       "      <td>100010021</td>\n",
       "      <td>1703 - 6608 - 32 - OZ</td>\n",
       "      <td>1</td>\n",
       "      <td>349</td>\n",
       "    </tr>\n",
       "    <tr>\n",
       "      <th>4</th>\n",
       "      <td>100010021</td>\n",
       "      <td>1704 - 27327 - 20 - OZ</td>\n",
       "      <td>1</td>\n",
       "      <td>349</td>\n",
       "    </tr>\n",
       "  </tbody>\n",
       "</table>\n",
       "</div>"
      ],
      "text/plain": [
       "     cust_id              product_id  count_x  count_y\n",
       "0  100010021   1205 - 17292 - 5 - OZ        2      349\n",
       "1  100010021  1703 - 10882 - 32 - OZ        1      349\n",
       "2  100010021  1703 - 19934 - 26 - OZ        1      349\n",
       "3  100010021   1703 - 6608 - 32 - OZ        1      349\n",
       "4  100010021  1704 - 27327 - 20 - OZ        1      349"
      ]
     },
     "execution_count": 39,
     "metadata": {},
     "output_type": "execute_result"
    }
   ],
   "source": [
    "affinity_df.head()"
   ]
  },
  {
   "cell_type": "code",
   "execution_count": 40,
   "metadata": {
    "collapsed": true
   },
   "outputs": [],
   "source": [
    "affinity_df.rename(columns={'count_x':'combination'}, inplace=True)\n",
    "affinity_df.rename(columns={'count_y':'visits'}, inplace=True)"
   ]
  },
  {
   "cell_type": "code",
   "execution_count": 41,
   "metadata": {
    "collapsed": false
   },
   "outputs": [
    {
     "data": {
      "text/html": [
       "<div>\n",
       "<table border=\"1\" class=\"dataframe\">\n",
       "  <thead>\n",
       "    <tr style=\"text-align: right;\">\n",
       "      <th></th>\n",
       "      <th>cust_id</th>\n",
       "      <th>product_id</th>\n",
       "      <th>combination</th>\n",
       "      <th>visits</th>\n",
       "    </tr>\n",
       "  </thead>\n",
       "  <tbody>\n",
       "    <tr>\n",
       "      <th>0</th>\n",
       "      <td>100010021</td>\n",
       "      <td>1205 - 17292 - 5 - OZ</td>\n",
       "      <td>2</td>\n",
       "      <td>349</td>\n",
       "    </tr>\n",
       "    <tr>\n",
       "      <th>1</th>\n",
       "      <td>100010021</td>\n",
       "      <td>1703 - 10882 - 32 - OZ</td>\n",
       "      <td>1</td>\n",
       "      <td>349</td>\n",
       "    </tr>\n",
       "    <tr>\n",
       "      <th>2</th>\n",
       "      <td>100010021</td>\n",
       "      <td>1703 - 19934 - 26 - OZ</td>\n",
       "      <td>1</td>\n",
       "      <td>349</td>\n",
       "    </tr>\n",
       "    <tr>\n",
       "      <th>3</th>\n",
       "      <td>100010021</td>\n",
       "      <td>1703 - 6608 - 32 - OZ</td>\n",
       "      <td>1</td>\n",
       "      <td>349</td>\n",
       "    </tr>\n",
       "    <tr>\n",
       "      <th>4</th>\n",
       "      <td>100010021</td>\n",
       "      <td>1704 - 27327 - 20 - OZ</td>\n",
       "      <td>1</td>\n",
       "      <td>349</td>\n",
       "    </tr>\n",
       "  </tbody>\n",
       "</table>\n",
       "</div>"
      ],
      "text/plain": [
       "     cust_id              product_id  combination  visits\n",
       "0  100010021   1205 - 17292 - 5 - OZ            2     349\n",
       "1  100010021  1703 - 10882 - 32 - OZ            1     349\n",
       "2  100010021  1703 - 19934 - 26 - OZ            1     349\n",
       "3  100010021   1703 - 6608 - 32 - OZ            1     349\n",
       "4  100010021  1704 - 27327 - 20 - OZ            1     349"
      ]
     },
     "execution_count": 41,
     "metadata": {},
     "output_type": "execute_result"
    }
   ],
   "source": [
    "affinity_df.head()"
   ]
  },
  {
   "cell_type": "code",
   "execution_count": 42,
   "metadata": {
    "collapsed": true
   },
   "outputs": [],
   "source": [
    "affinity_df['affinity'] = affinity_df['combination'] / affinity_df['visits'] * 100"
   ]
  },
  {
   "cell_type": "code",
   "execution_count": 43,
   "metadata": {
    "collapsed": false
   },
   "outputs": [
    {
     "data": {
      "text/html": [
       "<div>\n",
       "<table border=\"1\" class=\"dataframe\">\n",
       "  <thead>\n",
       "    <tr style=\"text-align: right;\">\n",
       "      <th></th>\n",
       "      <th>cust_id</th>\n",
       "      <th>product_id</th>\n",
       "      <th>combination</th>\n",
       "      <th>visits</th>\n",
       "      <th>affinity</th>\n",
       "    </tr>\n",
       "  </thead>\n",
       "  <tbody>\n",
       "    <tr>\n",
       "      <th>0</th>\n",
       "      <td>100010021</td>\n",
       "      <td>1205 - 17292 - 5 - OZ</td>\n",
       "      <td>2</td>\n",
       "      <td>349</td>\n",
       "      <td>0.573066</td>\n",
       "    </tr>\n",
       "    <tr>\n",
       "      <th>1</th>\n",
       "      <td>100010021</td>\n",
       "      <td>1703 - 10882 - 32 - OZ</td>\n",
       "      <td>1</td>\n",
       "      <td>349</td>\n",
       "      <td>0.286533</td>\n",
       "    </tr>\n",
       "    <tr>\n",
       "      <th>2</th>\n",
       "      <td>100010021</td>\n",
       "      <td>1703 - 19934 - 26 - OZ</td>\n",
       "      <td>1</td>\n",
       "      <td>349</td>\n",
       "      <td>0.286533</td>\n",
       "    </tr>\n",
       "    <tr>\n",
       "      <th>3</th>\n",
       "      <td>100010021</td>\n",
       "      <td>1703 - 6608 - 32 - OZ</td>\n",
       "      <td>1</td>\n",
       "      <td>349</td>\n",
       "      <td>0.286533</td>\n",
       "    </tr>\n",
       "    <tr>\n",
       "      <th>4</th>\n",
       "      <td>100010021</td>\n",
       "      <td>1704 - 27327 - 20 - OZ</td>\n",
       "      <td>1</td>\n",
       "      <td>349</td>\n",
       "      <td>0.286533</td>\n",
       "    </tr>\n",
       "  </tbody>\n",
       "</table>\n",
       "</div>"
      ],
      "text/plain": [
       "     cust_id              product_id  combination  visits  affinity\n",
       "0  100010021   1205 - 17292 - 5 - OZ            2     349  0.573066\n",
       "1  100010021  1703 - 10882 - 32 - OZ            1     349  0.286533\n",
       "2  100010021  1703 - 19934 - 26 - OZ            1     349  0.286533\n",
       "3  100010021   1703 - 6608 - 32 - OZ            1     349  0.286533\n",
       "4  100010021  1704 - 27327 - 20 - OZ            1     349  0.286533"
      ]
     },
     "execution_count": 43,
     "metadata": {},
     "output_type": "execute_result"
    }
   ],
   "source": [
    "affinity_df.head()"
   ]
  },
  {
   "cell_type": "code",
   "execution_count": 44,
   "metadata": {
    "collapsed": true
   },
   "outputs": [],
   "source": [
    "affinity_df['affinity_round'] = affinity_df.affinity.round()"
   ]
  },
  {
   "cell_type": "code",
   "execution_count": 45,
   "metadata": {
    "collapsed": false
   },
   "outputs": [
    {
     "data": {
      "text/html": [
       "<div>\n",
       "<table border=\"1\" class=\"dataframe\">\n",
       "  <thead>\n",
       "    <tr style=\"text-align: right;\">\n",
       "      <th></th>\n",
       "      <th>cust_id</th>\n",
       "      <th>product_id</th>\n",
       "      <th>combination</th>\n",
       "      <th>visits</th>\n",
       "      <th>affinity</th>\n",
       "      <th>affinity_round</th>\n",
       "    </tr>\n",
       "  </thead>\n",
       "  <tbody>\n",
       "    <tr>\n",
       "      <th>0</th>\n",
       "      <td>100010021</td>\n",
       "      <td>1205 - 17292 - 5 - OZ</td>\n",
       "      <td>2</td>\n",
       "      <td>349</td>\n",
       "      <td>0.573066</td>\n",
       "      <td>1.0</td>\n",
       "    </tr>\n",
       "    <tr>\n",
       "      <th>1</th>\n",
       "      <td>100010021</td>\n",
       "      <td>1703 - 10882 - 32 - OZ</td>\n",
       "      <td>1</td>\n",
       "      <td>349</td>\n",
       "      <td>0.286533</td>\n",
       "      <td>0.0</td>\n",
       "    </tr>\n",
       "    <tr>\n",
       "      <th>2</th>\n",
       "      <td>100010021</td>\n",
       "      <td>1703 - 19934 - 26 - OZ</td>\n",
       "      <td>1</td>\n",
       "      <td>349</td>\n",
       "      <td>0.286533</td>\n",
       "      <td>0.0</td>\n",
       "    </tr>\n",
       "    <tr>\n",
       "      <th>3</th>\n",
       "      <td>100010021</td>\n",
       "      <td>1703 - 6608 - 32 - OZ</td>\n",
       "      <td>1</td>\n",
       "      <td>349</td>\n",
       "      <td>0.286533</td>\n",
       "      <td>0.0</td>\n",
       "    </tr>\n",
       "    <tr>\n",
       "      <th>4</th>\n",
       "      <td>100010021</td>\n",
       "      <td>1704 - 27327 - 20 - OZ</td>\n",
       "      <td>1</td>\n",
       "      <td>349</td>\n",
       "      <td>0.286533</td>\n",
       "      <td>0.0</td>\n",
       "    </tr>\n",
       "  </tbody>\n",
       "</table>\n",
       "</div>"
      ],
      "text/plain": [
       "     cust_id              product_id  combination  visits  affinity  \\\n",
       "0  100010021   1205 - 17292 - 5 - OZ            2     349  0.573066   \n",
       "1  100010021  1703 - 10882 - 32 - OZ            1     349  0.286533   \n",
       "2  100010021  1703 - 19934 - 26 - OZ            1     349  0.286533   \n",
       "3  100010021   1703 - 6608 - 32 - OZ            1     349  0.286533   \n",
       "4  100010021  1704 - 27327 - 20 - OZ            1     349  0.286533   \n",
       "\n",
       "   affinity_round  \n",
       "0             1.0  \n",
       "1             0.0  \n",
       "2             0.0  \n",
       "3             0.0  \n",
       "4             0.0  "
      ]
     },
     "execution_count": 45,
     "metadata": {},
     "output_type": "execute_result"
    }
   ],
   "source": [
    "affinity_df.head()"
   ]
  },
  {
   "cell_type": "code",
   "execution_count": 46,
   "metadata": {
    "collapsed": true
   },
   "outputs": [],
   "source": [
    "affinity_user_df = affinity_df[['cust_id','affinity_round']]"
   ]
  },
  {
   "cell_type": "code",
   "execution_count": 47,
   "metadata": {
    "collapsed": false
   },
   "outputs": [
    {
     "data": {
      "text/html": [
       "<div>\n",
       "<table border=\"1\" class=\"dataframe\">\n",
       "  <thead>\n",
       "    <tr style=\"text-align: right;\">\n",
       "      <th></th>\n",
       "      <th>cust_id</th>\n",
       "      <th>affinity_round</th>\n",
       "    </tr>\n",
       "  </thead>\n",
       "  <tbody>\n",
       "    <tr>\n",
       "      <th>0</th>\n",
       "      <td>100010021</td>\n",
       "      <td>1.0</td>\n",
       "    </tr>\n",
       "    <tr>\n",
       "      <th>1</th>\n",
       "      <td>100010021</td>\n",
       "      <td>0.0</td>\n",
       "    </tr>\n",
       "    <tr>\n",
       "      <th>2</th>\n",
       "      <td>100010021</td>\n",
       "      <td>0.0</td>\n",
       "    </tr>\n",
       "    <tr>\n",
       "      <th>3</th>\n",
       "      <td>100010021</td>\n",
       "      <td>0.0</td>\n",
       "    </tr>\n",
       "    <tr>\n",
       "      <th>4</th>\n",
       "      <td>100010021</td>\n",
       "      <td>0.0</td>\n",
       "    </tr>\n",
       "  </tbody>\n",
       "</table>\n",
       "</div>"
      ],
      "text/plain": [
       "     cust_id  affinity_round\n",
       "0  100010021             1.0\n",
       "1  100010021             0.0\n",
       "2  100010021             0.0\n",
       "3  100010021             0.0\n",
       "4  100010021             0.0"
      ]
     },
     "execution_count": 47,
     "metadata": {},
     "output_type": "execute_result"
    }
   ],
   "source": [
    "affinity_user_df.head()"
   ]
  },
  {
   "cell_type": "code",
   "execution_count": 48,
   "metadata": {
    "collapsed": false
   },
   "outputs": [
    {
     "data": {
      "text/plain": [
       "(27692932, 2)"
      ]
     },
     "execution_count": 48,
     "metadata": {},
     "output_type": "execute_result"
    }
   ],
   "source": [
    "affinity_user_df.shape"
   ]
  },
  {
   "cell_type": "code",
   "execution_count": 49,
   "metadata": {
    "collapsed": false,
    "scrolled": true
   },
   "outputs": [],
   "source": [
    "affinity_user_df1 = affinity_user_df.drop_duplicates('cust_id').reset_index(drop = True)"
   ]
  },
  {
   "cell_type": "code",
   "execution_count": 50,
   "metadata": {
    "collapsed": false
   },
   "outputs": [
    {
     "data": {
      "text/plain": [
       "(62301, 2)"
      ]
     },
     "execution_count": 50,
     "metadata": {},
     "output_type": "execute_result"
    }
   ],
   "source": [
    "affinity_user_df1.shape"
   ]
  },
  {
   "cell_type": "code",
   "execution_count": 51,
   "metadata": {
    "collapsed": false
   },
   "outputs": [],
   "source": [
    "affinity_user_comb = affinity_user_df1.groupby(['affinity_round','cust_id']).size().reset_index().rename(columns={0:'users_count'})"
   ]
  },
  {
   "cell_type": "code",
   "execution_count": 52,
   "metadata": {
    "collapsed": false
   },
   "outputs": [
    {
     "data": {
      "text/html": [
       "<div>\n",
       "<table border=\"1\" class=\"dataframe\">\n",
       "  <thead>\n",
       "    <tr style=\"text-align: right;\">\n",
       "      <th></th>\n",
       "      <th>affinity_round</th>\n",
       "      <th>cust_id</th>\n",
       "      <th>users_count</th>\n",
       "    </tr>\n",
       "  </thead>\n",
       "  <tbody>\n",
       "    <tr>\n",
       "      <th>0</th>\n",
       "      <td>0.0</td>\n",
       "      <td>100022923</td>\n",
       "      <td>1</td>\n",
       "    </tr>\n",
       "    <tr>\n",
       "      <th>1</th>\n",
       "      <td>0.0</td>\n",
       "      <td>100029473</td>\n",
       "      <td>1</td>\n",
       "    </tr>\n",
       "    <tr>\n",
       "      <th>2</th>\n",
       "      <td>0.0</td>\n",
       "      <td>100050424</td>\n",
       "      <td>1</td>\n",
       "    </tr>\n",
       "    <tr>\n",
       "      <th>3</th>\n",
       "      <td>0.0</td>\n",
       "      <td>100051316</td>\n",
       "      <td>1</td>\n",
       "    </tr>\n",
       "    <tr>\n",
       "      <th>4</th>\n",
       "      <td>0.0</td>\n",
       "      <td>100077437</td>\n",
       "      <td>1</td>\n",
       "    </tr>\n",
       "  </tbody>\n",
       "</table>\n",
       "</div>"
      ],
      "text/plain": [
       "   affinity_round    cust_id  users_count\n",
       "0             0.0  100022923            1\n",
       "1             0.0  100029473            1\n",
       "2             0.0  100050424            1\n",
       "3             0.0  100051316            1\n",
       "4             0.0  100077437            1"
      ]
     },
     "execution_count": 52,
     "metadata": {},
     "output_type": "execute_result"
    }
   ],
   "source": [
    "affinity_user_comb.head()"
   ]
  },
  {
   "cell_type": "code",
   "execution_count": 53,
   "metadata": {
    "collapsed": false
   },
   "outputs": [
    {
     "data": {
      "text/html": [
       "<div>\n",
       "<table border=\"1\" class=\"dataframe\">\n",
       "  <thead>\n",
       "    <tr style=\"text-align: right;\">\n",
       "      <th></th>\n",
       "      <th>affinity_round</th>\n",
       "      <th>cust_id</th>\n",
       "      <th>users_count</th>\n",
       "    </tr>\n",
       "  </thead>\n",
       "  <tbody>\n",
       "    <tr>\n",
       "      <th>62296</th>\n",
       "      <td>50.0</td>\n",
       "      <td>3020234434</td>\n",
       "      <td>1</td>\n",
       "    </tr>\n",
       "    <tr>\n",
       "      <th>62297</th>\n",
       "      <td>50.0</td>\n",
       "      <td>4053422289</td>\n",
       "      <td>1</td>\n",
       "    </tr>\n",
       "    <tr>\n",
       "      <th>62298</th>\n",
       "      <td>50.0</td>\n",
       "      <td>4377662924</td>\n",
       "      <td>1</td>\n",
       "    </tr>\n",
       "    <tr>\n",
       "      <th>62299</th>\n",
       "      <td>50.0</td>\n",
       "      <td>4396488884</td>\n",
       "      <td>1</td>\n",
       "    </tr>\n",
       "    <tr>\n",
       "      <th>62300</th>\n",
       "      <td>50.0</td>\n",
       "      <td>4670979967</td>\n",
       "      <td>1</td>\n",
       "    </tr>\n",
       "  </tbody>\n",
       "</table>\n",
       "</div>"
      ],
      "text/plain": [
       "       affinity_round     cust_id  users_count\n",
       "62296            50.0  3020234434            1\n",
       "62297            50.0  4053422289            1\n",
       "62298            50.0  4377662924            1\n",
       "62299            50.0  4396488884            1\n",
       "62300            50.0  4670979967            1"
      ]
     },
     "execution_count": 53,
     "metadata": {},
     "output_type": "execute_result"
    }
   ],
   "source": [
    "affinity_user_comb.tail()"
   ]
  },
  {
   "cell_type": "code",
   "execution_count": 54,
   "metadata": {
    "collapsed": false
   },
   "outputs": [],
   "source": [
    "affinity_user_comb_df = affinity_user_comb.groupby(by=['affinity_round'])['users_count'].sum()"
   ]
  },
  {
   "cell_type": "code",
   "execution_count": 55,
   "metadata": {
    "collapsed": false
   },
   "outputs": [
    {
     "data": {
      "text/plain": [
       "affinity_round\n",
       "0.0    30119\n",
       "1.0    13671\n",
       "2.0     4492\n",
       "3.0     2868\n",
       "4.0     2443\n",
       "Name: users_count, dtype: int64"
      ]
     },
     "execution_count": 55,
     "metadata": {},
     "output_type": "execute_result"
    }
   ],
   "source": [
    "affinity_user_comb_df.head()"
   ]
  },
  {
   "cell_type": "code",
   "execution_count": 56,
   "metadata": {
    "collapsed": false
   },
   "outputs": [
    {
     "data": {
      "text/plain": [
       "pandas.core.series.Series"
      ]
     },
     "execution_count": 56,
     "metadata": {},
     "output_type": "execute_result"
    }
   ],
   "source": [
    "type(affinity_user_comb_df)"
   ]
  },
  {
   "cell_type": "code",
   "execution_count": 57,
   "metadata": {
    "collapsed": false
   },
   "outputs": [],
   "source": [
    "affinity_user_comb_df = affinity_user_comb_df.to_frame()"
   ]
  },
  {
   "cell_type": "code",
   "execution_count": 58,
   "metadata": {
    "collapsed": false
   },
   "outputs": [
    {
     "data": {
      "text/html": [
       "<div>\n",
       "<table border=\"1\" class=\"dataframe\">\n",
       "  <thead>\n",
       "    <tr style=\"text-align: right;\">\n",
       "      <th></th>\n",
       "      <th>users_count</th>\n",
       "    </tr>\n",
       "    <tr>\n",
       "      <th>affinity_round</th>\n",
       "      <th></th>\n",
       "    </tr>\n",
       "  </thead>\n",
       "  <tbody>\n",
       "    <tr>\n",
       "      <th>0.0</th>\n",
       "      <td>30119</td>\n",
       "    </tr>\n",
       "    <tr>\n",
       "      <th>1.0</th>\n",
       "      <td>13671</td>\n",
       "    </tr>\n",
       "    <tr>\n",
       "      <th>2.0</th>\n",
       "      <td>4492</td>\n",
       "    </tr>\n",
       "    <tr>\n",
       "      <th>3.0</th>\n",
       "      <td>2868</td>\n",
       "    </tr>\n",
       "    <tr>\n",
       "      <th>4.0</th>\n",
       "      <td>2443</td>\n",
       "    </tr>\n",
       "  </tbody>\n",
       "</table>\n",
       "</div>"
      ],
      "text/plain": [
       "                users_count\n",
       "affinity_round             \n",
       "0.0                   30119\n",
       "1.0                   13671\n",
       "2.0                    4492\n",
       "3.0                    2868\n",
       "4.0                    2443"
      ]
     },
     "execution_count": 58,
     "metadata": {},
     "output_type": "execute_result"
    }
   ],
   "source": [
    "affinity_user_comb_df.head()"
   ]
  },
  {
   "cell_type": "code",
   "execution_count": 59,
   "metadata": {
    "collapsed": true
   },
   "outputs": [],
   "source": [
    "affinity_user_comb_df.reset_index(inplace=True)"
   ]
  },
  {
   "cell_type": "code",
   "execution_count": 60,
   "metadata": {
    "collapsed": false,
    "scrolled": true
   },
   "outputs": [
    {
     "data": {
      "text/html": [
       "<div>\n",
       "<table border=\"1\" class=\"dataframe\">\n",
       "  <thead>\n",
       "    <tr style=\"text-align: right;\">\n",
       "      <th></th>\n",
       "      <th>affinity_round</th>\n",
       "      <th>users_count</th>\n",
       "    </tr>\n",
       "  </thead>\n",
       "  <tbody>\n",
       "    <tr>\n",
       "      <th>0</th>\n",
       "      <td>0.0</td>\n",
       "      <td>30119</td>\n",
       "    </tr>\n",
       "    <tr>\n",
       "      <th>1</th>\n",
       "      <td>1.0</td>\n",
       "      <td>13671</td>\n",
       "    </tr>\n",
       "    <tr>\n",
       "      <th>2</th>\n",
       "      <td>2.0</td>\n",
       "      <td>4492</td>\n",
       "    </tr>\n",
       "    <tr>\n",
       "      <th>3</th>\n",
       "      <td>3.0</td>\n",
       "      <td>2868</td>\n",
       "    </tr>\n",
       "    <tr>\n",
       "      <th>4</th>\n",
       "      <td>4.0</td>\n",
       "      <td>2443</td>\n",
       "    </tr>\n",
       "    <tr>\n",
       "      <th>5</th>\n",
       "      <td>5.0</td>\n",
       "      <td>1969</td>\n",
       "    </tr>\n",
       "    <tr>\n",
       "      <th>6</th>\n",
       "      <td>6.0</td>\n",
       "      <td>1545</td>\n",
       "    </tr>\n",
       "    <tr>\n",
       "      <th>7</th>\n",
       "      <td>7.0</td>\n",
       "      <td>1205</td>\n",
       "    </tr>\n",
       "    <tr>\n",
       "      <th>8</th>\n",
       "      <td>8.0</td>\n",
       "      <td>824</td>\n",
       "    </tr>\n",
       "    <tr>\n",
       "      <th>9</th>\n",
       "      <td>9.0</td>\n",
       "      <td>627</td>\n",
       "    </tr>\n",
       "    <tr>\n",
       "      <th>10</th>\n",
       "      <td>10.0</td>\n",
       "      <td>528</td>\n",
       "    </tr>\n",
       "    <tr>\n",
       "      <th>11</th>\n",
       "      <td>11.0</td>\n",
       "      <td>396</td>\n",
       "    </tr>\n",
       "    <tr>\n",
       "      <th>12</th>\n",
       "      <td>12.0</td>\n",
       "      <td>380</td>\n",
       "    </tr>\n",
       "    <tr>\n",
       "      <th>13</th>\n",
       "      <td>13.0</td>\n",
       "      <td>273</td>\n",
       "    </tr>\n",
       "    <tr>\n",
       "      <th>14</th>\n",
       "      <td>14.0</td>\n",
       "      <td>245</td>\n",
       "    </tr>\n",
       "    <tr>\n",
       "      <th>15</th>\n",
       "      <td>15.0</td>\n",
       "      <td>176</td>\n",
       "    </tr>\n",
       "    <tr>\n",
       "      <th>16</th>\n",
       "      <td>16.0</td>\n",
       "      <td>117</td>\n",
       "    </tr>\n",
       "    <tr>\n",
       "      <th>17</th>\n",
       "      <td>17.0</td>\n",
       "      <td>107</td>\n",
       "    </tr>\n",
       "    <tr>\n",
       "      <th>18</th>\n",
       "      <td>18.0</td>\n",
       "      <td>79</td>\n",
       "    </tr>\n",
       "    <tr>\n",
       "      <th>19</th>\n",
       "      <td>19.0</td>\n",
       "      <td>53</td>\n",
       "    </tr>\n",
       "    <tr>\n",
       "      <th>20</th>\n",
       "      <td>20.0</td>\n",
       "      <td>52</td>\n",
       "    </tr>\n",
       "    <tr>\n",
       "      <th>21</th>\n",
       "      <td>21.0</td>\n",
       "      <td>35</td>\n",
       "    </tr>\n",
       "    <tr>\n",
       "      <th>22</th>\n",
       "      <td>22.0</td>\n",
       "      <td>21</td>\n",
       "    </tr>\n",
       "    <tr>\n",
       "      <th>23</th>\n",
       "      <td>23.0</td>\n",
       "      <td>12</td>\n",
       "    </tr>\n",
       "    <tr>\n",
       "      <th>24</th>\n",
       "      <td>24.0</td>\n",
       "      <td>16</td>\n",
       "    </tr>\n",
       "    <tr>\n",
       "      <th>25</th>\n",
       "      <td>25.0</td>\n",
       "      <td>14</td>\n",
       "    </tr>\n",
       "    <tr>\n",
       "      <th>26</th>\n",
       "      <td>26.0</td>\n",
       "      <td>8</td>\n",
       "    </tr>\n",
       "    <tr>\n",
       "      <th>27</th>\n",
       "      <td>27.0</td>\n",
       "      <td>4</td>\n",
       "    </tr>\n",
       "    <tr>\n",
       "      <th>28</th>\n",
       "      <td>28.0</td>\n",
       "      <td>3</td>\n",
       "    </tr>\n",
       "    <tr>\n",
       "      <th>29</th>\n",
       "      <td>29.0</td>\n",
       "      <td>4</td>\n",
       "    </tr>\n",
       "    <tr>\n",
       "      <th>30</th>\n",
       "      <td>30.0</td>\n",
       "      <td>3</td>\n",
       "    </tr>\n",
       "    <tr>\n",
       "      <th>31</th>\n",
       "      <td>32.0</td>\n",
       "      <td>1</td>\n",
       "    </tr>\n",
       "    <tr>\n",
       "      <th>32</th>\n",
       "      <td>33.0</td>\n",
       "      <td>2</td>\n",
       "    </tr>\n",
       "    <tr>\n",
       "      <th>33</th>\n",
       "      <td>35.0</td>\n",
       "      <td>1</td>\n",
       "    </tr>\n",
       "    <tr>\n",
       "      <th>34</th>\n",
       "      <td>38.0</td>\n",
       "      <td>1</td>\n",
       "    </tr>\n",
       "    <tr>\n",
       "      <th>35</th>\n",
       "      <td>45.0</td>\n",
       "      <td>1</td>\n",
       "    </tr>\n",
       "    <tr>\n",
       "      <th>36</th>\n",
       "      <td>50.0</td>\n",
       "      <td>6</td>\n",
       "    </tr>\n",
       "  </tbody>\n",
       "</table>\n",
       "</div>"
      ],
      "text/plain": [
       "    affinity_round  users_count\n",
       "0              0.0        30119\n",
       "1              1.0        13671\n",
       "2              2.0         4492\n",
       "3              3.0         2868\n",
       "4              4.0         2443\n",
       "5              5.0         1969\n",
       "6              6.0         1545\n",
       "7              7.0         1205\n",
       "8              8.0          824\n",
       "9              9.0          627\n",
       "10            10.0          528\n",
       "11            11.0          396\n",
       "12            12.0          380\n",
       "13            13.0          273\n",
       "14            14.0          245\n",
       "15            15.0          176\n",
       "16            16.0          117\n",
       "17            17.0          107\n",
       "18            18.0           79\n",
       "19            19.0           53\n",
       "20            20.0           52\n",
       "21            21.0           35\n",
       "22            22.0           21\n",
       "23            23.0           12\n",
       "24            24.0           16\n",
       "25            25.0           14\n",
       "26            26.0            8\n",
       "27            27.0            4\n",
       "28            28.0            3\n",
       "29            29.0            4\n",
       "30            30.0            3\n",
       "31            32.0            1\n",
       "32            33.0            2\n",
       "33            35.0            1\n",
       "34            38.0            1\n",
       "35            45.0            1\n",
       "36            50.0            6"
      ]
     },
     "execution_count": 60,
     "metadata": {},
     "output_type": "execute_result"
    }
   ],
   "source": [
    "affinity_user_comb_df"
   ]
  },
  {
   "cell_type": "code",
   "execution_count": 61,
   "metadata": {
    "collapsed": false
   },
   "outputs": [
    {
     "data": {
      "text/plain": [
       "62301"
      ]
     },
     "execution_count": 61,
     "metadata": {},
     "output_type": "execute_result"
    }
   ],
   "source": [
    "affinity_user_comb_df.users_count.sum()"
   ]
  },
  {
   "cell_type": "code",
   "execution_count": 62,
   "metadata": {
    "collapsed": true
   },
   "outputs": [],
   "source": [
    "affinity_user_comb_df.sort_index(ascending=False,inplace=True)"
   ]
  },
  {
   "cell_type": "code",
   "execution_count": 63,
   "metadata": {
    "collapsed": false
   },
   "outputs": [
    {
     "data": {
      "text/html": [
       "<div>\n",
       "<table border=\"1\" class=\"dataframe\">\n",
       "  <thead>\n",
       "    <tr style=\"text-align: right;\">\n",
       "      <th></th>\n",
       "      <th>affinity_round</th>\n",
       "      <th>users_count</th>\n",
       "    </tr>\n",
       "  </thead>\n",
       "  <tbody>\n",
       "    <tr>\n",
       "      <th>36</th>\n",
       "      <td>50.0</td>\n",
       "      <td>6</td>\n",
       "    </tr>\n",
       "    <tr>\n",
       "      <th>35</th>\n",
       "      <td>45.0</td>\n",
       "      <td>1</td>\n",
       "    </tr>\n",
       "    <tr>\n",
       "      <th>34</th>\n",
       "      <td>38.0</td>\n",
       "      <td>1</td>\n",
       "    </tr>\n",
       "    <tr>\n",
       "      <th>33</th>\n",
       "      <td>35.0</td>\n",
       "      <td>1</td>\n",
       "    </tr>\n",
       "    <tr>\n",
       "      <th>32</th>\n",
       "      <td>33.0</td>\n",
       "      <td>2</td>\n",
       "    </tr>\n",
       "  </tbody>\n",
       "</table>\n",
       "</div>"
      ],
      "text/plain": [
       "    affinity_round  users_count\n",
       "36            50.0            6\n",
       "35            45.0            1\n",
       "34            38.0            1\n",
       "33            35.0            1\n",
       "32            33.0            2"
      ]
     },
     "execution_count": 63,
     "metadata": {},
     "output_type": "execute_result"
    }
   ],
   "source": [
    "affinity_user_comb_df.head()"
   ]
  },
  {
   "cell_type": "code",
   "execution_count": 64,
   "metadata": {
    "collapsed": true
   },
   "outputs": [],
   "source": [
    "affinity_user_comb_df['user_per'] = affinity_user_comb_df['users_count']/affinity_user_comb_df['users_count'].sum() * 100"
   ]
  },
  {
   "cell_type": "code",
   "execution_count": 65,
   "metadata": {
    "collapsed": false
   },
   "outputs": [
    {
     "data": {
      "text/html": [
       "<div>\n",
       "<table border=\"1\" class=\"dataframe\">\n",
       "  <thead>\n",
       "    <tr style=\"text-align: right;\">\n",
       "      <th></th>\n",
       "      <th>affinity_round</th>\n",
       "      <th>users_count</th>\n",
       "      <th>user_per</th>\n",
       "    </tr>\n",
       "  </thead>\n",
       "  <tbody>\n",
       "    <tr>\n",
       "      <th>36</th>\n",
       "      <td>50.0</td>\n",
       "      <td>6</td>\n",
       "      <td>0.009631</td>\n",
       "    </tr>\n",
       "    <tr>\n",
       "      <th>35</th>\n",
       "      <td>45.0</td>\n",
       "      <td>1</td>\n",
       "      <td>0.001605</td>\n",
       "    </tr>\n",
       "    <tr>\n",
       "      <th>34</th>\n",
       "      <td>38.0</td>\n",
       "      <td>1</td>\n",
       "      <td>0.001605</td>\n",
       "    </tr>\n",
       "    <tr>\n",
       "      <th>33</th>\n",
       "      <td>35.0</td>\n",
       "      <td>1</td>\n",
       "      <td>0.001605</td>\n",
       "    </tr>\n",
       "    <tr>\n",
       "      <th>32</th>\n",
       "      <td>33.0</td>\n",
       "      <td>2</td>\n",
       "      <td>0.003210</td>\n",
       "    </tr>\n",
       "  </tbody>\n",
       "</table>\n",
       "</div>"
      ],
      "text/plain": [
       "    affinity_round  users_count  user_per\n",
       "36            50.0            6  0.009631\n",
       "35            45.0            1  0.001605\n",
       "34            38.0            1  0.001605\n",
       "33            35.0            1  0.001605\n",
       "32            33.0            2  0.003210"
      ]
     },
     "execution_count": 65,
     "metadata": {},
     "output_type": "execute_result"
    }
   ],
   "source": [
    "affinity_user_comb_df.head()"
   ]
  },
  {
   "cell_type": "code",
   "execution_count": 66,
   "metadata": {
    "collapsed": true
   },
   "outputs": [],
   "source": [
    "affinity_user_comb_df['aggregated_per'] = affinity_user_comb_df.user_per.cumsum()"
   ]
  },
  {
   "cell_type": "code",
   "execution_count": 67,
   "metadata": {
    "collapsed": false
   },
   "outputs": [
    {
     "data": {
      "text/html": [
       "<div>\n",
       "<table border=\"1\" class=\"dataframe\">\n",
       "  <thead>\n",
       "    <tr style=\"text-align: right;\">\n",
       "      <th></th>\n",
       "      <th>affinity_round</th>\n",
       "      <th>users_count</th>\n",
       "      <th>user_per</th>\n",
       "      <th>aggregated_per</th>\n",
       "    </tr>\n",
       "  </thead>\n",
       "  <tbody>\n",
       "    <tr>\n",
       "      <th>36</th>\n",
       "      <td>50.0</td>\n",
       "      <td>6</td>\n",
       "      <td>0.009631</td>\n",
       "      <td>0.009631</td>\n",
       "    </tr>\n",
       "    <tr>\n",
       "      <th>35</th>\n",
       "      <td>45.0</td>\n",
       "      <td>1</td>\n",
       "      <td>0.001605</td>\n",
       "      <td>0.011236</td>\n",
       "    </tr>\n",
       "    <tr>\n",
       "      <th>34</th>\n",
       "      <td>38.0</td>\n",
       "      <td>1</td>\n",
       "      <td>0.001605</td>\n",
       "      <td>0.012841</td>\n",
       "    </tr>\n",
       "    <tr>\n",
       "      <th>33</th>\n",
       "      <td>35.0</td>\n",
       "      <td>1</td>\n",
       "      <td>0.001605</td>\n",
       "      <td>0.014446</td>\n",
       "    </tr>\n",
       "    <tr>\n",
       "      <th>32</th>\n",
       "      <td>33.0</td>\n",
       "      <td>2</td>\n",
       "      <td>0.003210</td>\n",
       "      <td>0.017656</td>\n",
       "    </tr>\n",
       "  </tbody>\n",
       "</table>\n",
       "</div>"
      ],
      "text/plain": [
       "    affinity_round  users_count  user_per  aggregated_per\n",
       "36            50.0            6  0.009631        0.009631\n",
       "35            45.0            1  0.001605        0.011236\n",
       "34            38.0            1  0.001605        0.012841\n",
       "33            35.0            1  0.001605        0.014446\n",
       "32            33.0            2  0.003210        0.017656"
      ]
     },
     "execution_count": 67,
     "metadata": {},
     "output_type": "execute_result"
    }
   ],
   "source": [
    "affinity_user_comb_df.head()"
   ]
  },
  {
   "cell_type": "code",
   "execution_count": 68,
   "metadata": {
    "collapsed": false,
    "scrolled": true
   },
   "outputs": [
    {
     "data": {
      "text/html": [
       "<div>\n",
       "<table border=\"1\" class=\"dataframe\">\n",
       "  <thead>\n",
       "    <tr style=\"text-align: right;\">\n",
       "      <th></th>\n",
       "      <th>affinity_round</th>\n",
       "      <th>users_count</th>\n",
       "      <th>user_per</th>\n",
       "      <th>aggregated_per</th>\n",
       "    </tr>\n",
       "  </thead>\n",
       "  <tbody>\n",
       "    <tr>\n",
       "      <th>36</th>\n",
       "      <td>50.0</td>\n",
       "      <td>6</td>\n",
       "      <td>0.009631</td>\n",
       "      <td>0.009631</td>\n",
       "    </tr>\n",
       "    <tr>\n",
       "      <th>35</th>\n",
       "      <td>45.0</td>\n",
       "      <td>1</td>\n",
       "      <td>0.001605</td>\n",
       "      <td>0.011236</td>\n",
       "    </tr>\n",
       "    <tr>\n",
       "      <th>34</th>\n",
       "      <td>38.0</td>\n",
       "      <td>1</td>\n",
       "      <td>0.001605</td>\n",
       "      <td>0.012841</td>\n",
       "    </tr>\n",
       "    <tr>\n",
       "      <th>33</th>\n",
       "      <td>35.0</td>\n",
       "      <td>1</td>\n",
       "      <td>0.001605</td>\n",
       "      <td>0.014446</td>\n",
       "    </tr>\n",
       "    <tr>\n",
       "      <th>32</th>\n",
       "      <td>33.0</td>\n",
       "      <td>2</td>\n",
       "      <td>0.003210</td>\n",
       "      <td>0.017656</td>\n",
       "    </tr>\n",
       "    <tr>\n",
       "      <th>31</th>\n",
       "      <td>32.0</td>\n",
       "      <td>1</td>\n",
       "      <td>0.001605</td>\n",
       "      <td>0.019261</td>\n",
       "    </tr>\n",
       "    <tr>\n",
       "      <th>30</th>\n",
       "      <td>30.0</td>\n",
       "      <td>3</td>\n",
       "      <td>0.004815</td>\n",
       "      <td>0.024077</td>\n",
       "    </tr>\n",
       "    <tr>\n",
       "      <th>29</th>\n",
       "      <td>29.0</td>\n",
       "      <td>4</td>\n",
       "      <td>0.006420</td>\n",
       "      <td>0.030497</td>\n",
       "    </tr>\n",
       "    <tr>\n",
       "      <th>28</th>\n",
       "      <td>28.0</td>\n",
       "      <td>3</td>\n",
       "      <td>0.004815</td>\n",
       "      <td>0.035312</td>\n",
       "    </tr>\n",
       "    <tr>\n",
       "      <th>27</th>\n",
       "      <td>27.0</td>\n",
       "      <td>4</td>\n",
       "      <td>0.006420</td>\n",
       "      <td>0.041733</td>\n",
       "    </tr>\n",
       "    <tr>\n",
       "      <th>26</th>\n",
       "      <td>26.0</td>\n",
       "      <td>8</td>\n",
       "      <td>0.012841</td>\n",
       "      <td>0.054574</td>\n",
       "    </tr>\n",
       "    <tr>\n",
       "      <th>25</th>\n",
       "      <td>25.0</td>\n",
       "      <td>14</td>\n",
       "      <td>0.022472</td>\n",
       "      <td>0.077045</td>\n",
       "    </tr>\n",
       "    <tr>\n",
       "      <th>24</th>\n",
       "      <td>24.0</td>\n",
       "      <td>16</td>\n",
       "      <td>0.025682</td>\n",
       "      <td>0.102727</td>\n",
       "    </tr>\n",
       "    <tr>\n",
       "      <th>23</th>\n",
       "      <td>23.0</td>\n",
       "      <td>12</td>\n",
       "      <td>0.019261</td>\n",
       "      <td>0.121988</td>\n",
       "    </tr>\n",
       "    <tr>\n",
       "      <th>22</th>\n",
       "      <td>22.0</td>\n",
       "      <td>21</td>\n",
       "      <td>0.033707</td>\n",
       "      <td>0.155696</td>\n",
       "    </tr>\n",
       "    <tr>\n",
       "      <th>21</th>\n",
       "      <td>21.0</td>\n",
       "      <td>35</td>\n",
       "      <td>0.056179</td>\n",
       "      <td>0.211875</td>\n",
       "    </tr>\n",
       "    <tr>\n",
       "      <th>20</th>\n",
       "      <td>20.0</td>\n",
       "      <td>52</td>\n",
       "      <td>0.083466</td>\n",
       "      <td>0.295340</td>\n",
       "    </tr>\n",
       "    <tr>\n",
       "      <th>19</th>\n",
       "      <td>19.0</td>\n",
       "      <td>53</td>\n",
       "      <td>0.085071</td>\n",
       "      <td>0.380411</td>\n",
       "    </tr>\n",
       "    <tr>\n",
       "      <th>18</th>\n",
       "      <td>18.0</td>\n",
       "      <td>79</td>\n",
       "      <td>0.126804</td>\n",
       "      <td>0.507215</td>\n",
       "    </tr>\n",
       "    <tr>\n",
       "      <th>17</th>\n",
       "      <td>17.0</td>\n",
       "      <td>107</td>\n",
       "      <td>0.171747</td>\n",
       "      <td>0.678962</td>\n",
       "    </tr>\n",
       "    <tr>\n",
       "      <th>16</th>\n",
       "      <td>16.0</td>\n",
       "      <td>117</td>\n",
       "      <td>0.187798</td>\n",
       "      <td>0.866760</td>\n",
       "    </tr>\n",
       "    <tr>\n",
       "      <th>15</th>\n",
       "      <td>15.0</td>\n",
       "      <td>176</td>\n",
       "      <td>0.282499</td>\n",
       "      <td>1.149259</td>\n",
       "    </tr>\n",
       "    <tr>\n",
       "      <th>14</th>\n",
       "      <td>14.0</td>\n",
       "      <td>245</td>\n",
       "      <td>0.393252</td>\n",
       "      <td>1.542511</td>\n",
       "    </tr>\n",
       "    <tr>\n",
       "      <th>13</th>\n",
       "      <td>13.0</td>\n",
       "      <td>273</td>\n",
       "      <td>0.438195</td>\n",
       "      <td>1.980707</td>\n",
       "    </tr>\n",
       "    <tr>\n",
       "      <th>12</th>\n",
       "      <td>12.0</td>\n",
       "      <td>380</td>\n",
       "      <td>0.609942</td>\n",
       "      <td>2.590649</td>\n",
       "    </tr>\n",
       "    <tr>\n",
       "      <th>11</th>\n",
       "      <td>11.0</td>\n",
       "      <td>396</td>\n",
       "      <td>0.635624</td>\n",
       "      <td>3.226272</td>\n",
       "    </tr>\n",
       "    <tr>\n",
       "      <th>10</th>\n",
       "      <td>10.0</td>\n",
       "      <td>528</td>\n",
       "      <td>0.847498</td>\n",
       "      <td>4.073771</td>\n",
       "    </tr>\n",
       "    <tr>\n",
       "      <th>9</th>\n",
       "      <td>9.0</td>\n",
       "      <td>627</td>\n",
       "      <td>1.006404</td>\n",
       "      <td>5.080175</td>\n",
       "    </tr>\n",
       "    <tr>\n",
       "      <th>8</th>\n",
       "      <td>8.0</td>\n",
       "      <td>824</td>\n",
       "      <td>1.322611</td>\n",
       "      <td>6.402786</td>\n",
       "    </tr>\n",
       "    <tr>\n",
       "      <th>7</th>\n",
       "      <td>7.0</td>\n",
       "      <td>1205</td>\n",
       "      <td>1.934158</td>\n",
       "      <td>8.336945</td>\n",
       "    </tr>\n",
       "    <tr>\n",
       "      <th>6</th>\n",
       "      <td>6.0</td>\n",
       "      <td>1545</td>\n",
       "      <td>2.479896</td>\n",
       "      <td>10.816841</td>\n",
       "    </tr>\n",
       "    <tr>\n",
       "      <th>5</th>\n",
       "      <td>5.0</td>\n",
       "      <td>1969</td>\n",
       "      <td>3.160463</td>\n",
       "      <td>13.977304</td>\n",
       "    </tr>\n",
       "    <tr>\n",
       "      <th>4</th>\n",
       "      <td>4.0</td>\n",
       "      <td>2443</td>\n",
       "      <td>3.921285</td>\n",
       "      <td>17.898589</td>\n",
       "    </tr>\n",
       "    <tr>\n",
       "      <th>3</th>\n",
       "      <td>3.0</td>\n",
       "      <td>2868</td>\n",
       "      <td>4.603457</td>\n",
       "      <td>22.502047</td>\n",
       "    </tr>\n",
       "    <tr>\n",
       "      <th>2</th>\n",
       "      <td>2.0</td>\n",
       "      <td>4492</td>\n",
       "      <td>7.210157</td>\n",
       "      <td>29.712204</td>\n",
       "    </tr>\n",
       "    <tr>\n",
       "      <th>1</th>\n",
       "      <td>1.0</td>\n",
       "      <td>13671</td>\n",
       "      <td>21.943468</td>\n",
       "      <td>51.655672</td>\n",
       "    </tr>\n",
       "    <tr>\n",
       "      <th>0</th>\n",
       "      <td>0.0</td>\n",
       "      <td>30119</td>\n",
       "      <td>48.344328</td>\n",
       "      <td>100.000000</td>\n",
       "    </tr>\n",
       "  </tbody>\n",
       "</table>\n",
       "</div>"
      ],
      "text/plain": [
       "    affinity_round  users_count   user_per  aggregated_per\n",
       "36            50.0            6   0.009631        0.009631\n",
       "35            45.0            1   0.001605        0.011236\n",
       "34            38.0            1   0.001605        0.012841\n",
       "33            35.0            1   0.001605        0.014446\n",
       "32            33.0            2   0.003210        0.017656\n",
       "31            32.0            1   0.001605        0.019261\n",
       "30            30.0            3   0.004815        0.024077\n",
       "29            29.0            4   0.006420        0.030497\n",
       "28            28.0            3   0.004815        0.035312\n",
       "27            27.0            4   0.006420        0.041733\n",
       "26            26.0            8   0.012841        0.054574\n",
       "25            25.0           14   0.022472        0.077045\n",
       "24            24.0           16   0.025682        0.102727\n",
       "23            23.0           12   0.019261        0.121988\n",
       "22            22.0           21   0.033707        0.155696\n",
       "21            21.0           35   0.056179        0.211875\n",
       "20            20.0           52   0.083466        0.295340\n",
       "19            19.0           53   0.085071        0.380411\n",
       "18            18.0           79   0.126804        0.507215\n",
       "17            17.0          107   0.171747        0.678962\n",
       "16            16.0          117   0.187798        0.866760\n",
       "15            15.0          176   0.282499        1.149259\n",
       "14            14.0          245   0.393252        1.542511\n",
       "13            13.0          273   0.438195        1.980707\n",
       "12            12.0          380   0.609942        2.590649\n",
       "11            11.0          396   0.635624        3.226272\n",
       "10            10.0          528   0.847498        4.073771\n",
       "9              9.0          627   1.006404        5.080175\n",
       "8              8.0          824   1.322611        6.402786\n",
       "7              7.0         1205   1.934158        8.336945\n",
       "6              6.0         1545   2.479896       10.816841\n",
       "5              5.0         1969   3.160463       13.977304\n",
       "4              4.0         2443   3.921285       17.898589\n",
       "3              3.0         2868   4.603457       22.502047\n",
       "2              2.0         4492   7.210157       29.712204\n",
       "1              1.0        13671  21.943468       51.655672\n",
       "0              0.0        30119  48.344328      100.000000"
      ]
     },
     "execution_count": 68,
     "metadata": {},
     "output_type": "execute_result"
    }
   ],
   "source": [
    "affinity_user_comb_df"
   ]
  },
  {
   "cell_type": "code",
   "execution_count": 69,
   "metadata": {
    "collapsed": true
   },
   "outputs": [],
   "source": [
    "affinity_user_comb_df['round_aggr'] = affinity_user_comb_df.aggregated_per.round()"
   ]
  },
  {
   "cell_type": "code",
   "execution_count": 70,
   "metadata": {
    "collapsed": false
   },
   "outputs": [
    {
     "data": {
      "text/html": [
       "<div>\n",
       "<table border=\"1\" class=\"dataframe\">\n",
       "  <thead>\n",
       "    <tr style=\"text-align: right;\">\n",
       "      <th></th>\n",
       "      <th>affinity_round</th>\n",
       "      <th>users_count</th>\n",
       "      <th>user_per</th>\n",
       "      <th>aggregated_per</th>\n",
       "      <th>round_aggr</th>\n",
       "    </tr>\n",
       "  </thead>\n",
       "  <tbody>\n",
       "    <tr>\n",
       "      <th>36</th>\n",
       "      <td>50.0</td>\n",
       "      <td>6</td>\n",
       "      <td>0.009631</td>\n",
       "      <td>0.009631</td>\n",
       "      <td>0.0</td>\n",
       "    </tr>\n",
       "    <tr>\n",
       "      <th>35</th>\n",
       "      <td>45.0</td>\n",
       "      <td>1</td>\n",
       "      <td>0.001605</td>\n",
       "      <td>0.011236</td>\n",
       "      <td>0.0</td>\n",
       "    </tr>\n",
       "    <tr>\n",
       "      <th>34</th>\n",
       "      <td>38.0</td>\n",
       "      <td>1</td>\n",
       "      <td>0.001605</td>\n",
       "      <td>0.012841</td>\n",
       "      <td>0.0</td>\n",
       "    </tr>\n",
       "    <tr>\n",
       "      <th>33</th>\n",
       "      <td>35.0</td>\n",
       "      <td>1</td>\n",
       "      <td>0.001605</td>\n",
       "      <td>0.014446</td>\n",
       "      <td>0.0</td>\n",
       "    </tr>\n",
       "    <tr>\n",
       "      <th>32</th>\n",
       "      <td>33.0</td>\n",
       "      <td>2</td>\n",
       "      <td>0.003210</td>\n",
       "      <td>0.017656</td>\n",
       "      <td>0.0</td>\n",
       "    </tr>\n",
       "  </tbody>\n",
       "</table>\n",
       "</div>"
      ],
      "text/plain": [
       "    affinity_round  users_count  user_per  aggregated_per  round_aggr\n",
       "36            50.0            6  0.009631        0.009631         0.0\n",
       "35            45.0            1  0.001605        0.011236         0.0\n",
       "34            38.0            1  0.001605        0.012841         0.0\n",
       "33            35.0            1  0.001605        0.014446         0.0\n",
       "32            33.0            2  0.003210        0.017656         0.0"
      ]
     },
     "execution_count": 70,
     "metadata": {},
     "output_type": "execute_result"
    }
   ],
   "source": [
    "affinity_user_comb_df.head()"
   ]
  },
  {
   "cell_type": "code",
   "execution_count": 71,
   "metadata": {
    "collapsed": false
   },
   "outputs": [
    {
     "data": {
      "text/html": [
       "<div>\n",
       "<table border=\"1\" class=\"dataframe\">\n",
       "  <thead>\n",
       "    <tr style=\"text-align: right;\">\n",
       "      <th></th>\n",
       "      <th>affinity_round</th>\n",
       "      <th>users_count</th>\n",
       "      <th>user_per</th>\n",
       "      <th>aggregated_per</th>\n",
       "      <th>round_aggr</th>\n",
       "    </tr>\n",
       "  </thead>\n",
       "  <tbody>\n",
       "    <tr>\n",
       "      <th>4</th>\n",
       "      <td>4.0</td>\n",
       "      <td>2443</td>\n",
       "      <td>3.921285</td>\n",
       "      <td>17.898589</td>\n",
       "      <td>18.0</td>\n",
       "    </tr>\n",
       "    <tr>\n",
       "      <th>3</th>\n",
       "      <td>3.0</td>\n",
       "      <td>2868</td>\n",
       "      <td>4.603457</td>\n",
       "      <td>22.502047</td>\n",
       "      <td>23.0</td>\n",
       "    </tr>\n",
       "    <tr>\n",
       "      <th>2</th>\n",
       "      <td>2.0</td>\n",
       "      <td>4492</td>\n",
       "      <td>7.210157</td>\n",
       "      <td>29.712204</td>\n",
       "      <td>30.0</td>\n",
       "    </tr>\n",
       "    <tr>\n",
       "      <th>1</th>\n",
       "      <td>1.0</td>\n",
       "      <td>13671</td>\n",
       "      <td>21.943468</td>\n",
       "      <td>51.655672</td>\n",
       "      <td>52.0</td>\n",
       "    </tr>\n",
       "    <tr>\n",
       "      <th>0</th>\n",
       "      <td>0.0</td>\n",
       "      <td>30119</td>\n",
       "      <td>48.344328</td>\n",
       "      <td>100.000000</td>\n",
       "      <td>100.0</td>\n",
       "    </tr>\n",
       "  </tbody>\n",
       "</table>\n",
       "</div>"
      ],
      "text/plain": [
       "   affinity_round  users_count   user_per  aggregated_per  round_aggr\n",
       "4             4.0         2443   3.921285       17.898589        18.0\n",
       "3             3.0         2868   4.603457       22.502047        23.0\n",
       "2             2.0         4492   7.210157       29.712204        30.0\n",
       "1             1.0        13671  21.943468       51.655672        52.0\n",
       "0             0.0        30119  48.344328      100.000000       100.0"
      ]
     },
     "execution_count": 71,
     "metadata": {},
     "output_type": "execute_result"
    }
   ],
   "source": [
    "affinity_user_comb_df.tail()"
   ]
  },
  {
   "cell_type": "code",
   "execution_count": 79,
   "metadata": {
    "collapsed": false
   },
   "outputs": [
    {
     "data": {
      "text/html": [
       "<div>\n",
       "<table border=\"1\" class=\"dataframe\">\n",
       "  <thead>\n",
       "    <tr style=\"text-align: right;\">\n",
       "      <th></th>\n",
       "      <th>affinity_round</th>\n",
       "      <th>users_count</th>\n",
       "      <th>user_per</th>\n",
       "      <th>aggregated_per</th>\n",
       "      <th>round_aggr</th>\n",
       "    </tr>\n",
       "  </thead>\n",
       "  <tbody>\n",
       "    <tr>\n",
       "      <th>36</th>\n",
       "      <td>50.0</td>\n",
       "      <td>6</td>\n",
       "      <td>0.009631</td>\n",
       "      <td>0.009631</td>\n",
       "      <td>0.0</td>\n",
       "    </tr>\n",
       "    <tr>\n",
       "      <th>35</th>\n",
       "      <td>45.0</td>\n",
       "      <td>1</td>\n",
       "      <td>0.001605</td>\n",
       "      <td>0.011236</td>\n",
       "      <td>0.0</td>\n",
       "    </tr>\n",
       "    <tr>\n",
       "      <th>34</th>\n",
       "      <td>38.0</td>\n",
       "      <td>1</td>\n",
       "      <td>0.001605</td>\n",
       "      <td>0.012841</td>\n",
       "      <td>0.0</td>\n",
       "    </tr>\n",
       "    <tr>\n",
       "      <th>33</th>\n",
       "      <td>35.0</td>\n",
       "      <td>1</td>\n",
       "      <td>0.001605</td>\n",
       "      <td>0.014446</td>\n",
       "      <td>0.0</td>\n",
       "    </tr>\n",
       "    <tr>\n",
       "      <th>32</th>\n",
       "      <td>33.0</td>\n",
       "      <td>2</td>\n",
       "      <td>0.003210</td>\n",
       "      <td>0.017656</td>\n",
       "      <td>0.0</td>\n",
       "    </tr>\n",
       "    <tr>\n",
       "      <th>31</th>\n",
       "      <td>32.0</td>\n",
       "      <td>1</td>\n",
       "      <td>0.001605</td>\n",
       "      <td>0.019261</td>\n",
       "      <td>0.0</td>\n",
       "    </tr>\n",
       "    <tr>\n",
       "      <th>30</th>\n",
       "      <td>30.0</td>\n",
       "      <td>3</td>\n",
       "      <td>0.004815</td>\n",
       "      <td>0.024077</td>\n",
       "      <td>0.0</td>\n",
       "    </tr>\n",
       "    <tr>\n",
       "      <th>29</th>\n",
       "      <td>29.0</td>\n",
       "      <td>4</td>\n",
       "      <td>0.006420</td>\n",
       "      <td>0.030497</td>\n",
       "      <td>0.0</td>\n",
       "    </tr>\n",
       "    <tr>\n",
       "      <th>28</th>\n",
       "      <td>28.0</td>\n",
       "      <td>3</td>\n",
       "      <td>0.004815</td>\n",
       "      <td>0.035312</td>\n",
       "      <td>0.0</td>\n",
       "    </tr>\n",
       "    <tr>\n",
       "      <th>27</th>\n",
       "      <td>27.0</td>\n",
       "      <td>4</td>\n",
       "      <td>0.006420</td>\n",
       "      <td>0.041733</td>\n",
       "      <td>0.0</td>\n",
       "    </tr>\n",
       "    <tr>\n",
       "      <th>26</th>\n",
       "      <td>26.0</td>\n",
       "      <td>8</td>\n",
       "      <td>0.012841</td>\n",
       "      <td>0.054574</td>\n",
       "      <td>0.0</td>\n",
       "    </tr>\n",
       "    <tr>\n",
       "      <th>25</th>\n",
       "      <td>25.0</td>\n",
       "      <td>14</td>\n",
       "      <td>0.022472</td>\n",
       "      <td>0.077045</td>\n",
       "      <td>0.0</td>\n",
       "    </tr>\n",
       "    <tr>\n",
       "      <th>24</th>\n",
       "      <td>24.0</td>\n",
       "      <td>16</td>\n",
       "      <td>0.025682</td>\n",
       "      <td>0.102727</td>\n",
       "      <td>0.0</td>\n",
       "    </tr>\n",
       "    <tr>\n",
       "      <th>23</th>\n",
       "      <td>23.0</td>\n",
       "      <td>12</td>\n",
       "      <td>0.019261</td>\n",
       "      <td>0.121988</td>\n",
       "      <td>0.0</td>\n",
       "    </tr>\n",
       "    <tr>\n",
       "      <th>22</th>\n",
       "      <td>22.0</td>\n",
       "      <td>21</td>\n",
       "      <td>0.033707</td>\n",
       "      <td>0.155696</td>\n",
       "      <td>0.0</td>\n",
       "    </tr>\n",
       "    <tr>\n",
       "      <th>21</th>\n",
       "      <td>21.0</td>\n",
       "      <td>35</td>\n",
       "      <td>0.056179</td>\n",
       "      <td>0.211875</td>\n",
       "      <td>0.0</td>\n",
       "    </tr>\n",
       "    <tr>\n",
       "      <th>20</th>\n",
       "      <td>20.0</td>\n",
       "      <td>52</td>\n",
       "      <td>0.083466</td>\n",
       "      <td>0.295340</td>\n",
       "      <td>0.0</td>\n",
       "    </tr>\n",
       "    <tr>\n",
       "      <th>19</th>\n",
       "      <td>19.0</td>\n",
       "      <td>53</td>\n",
       "      <td>0.085071</td>\n",
       "      <td>0.380411</td>\n",
       "      <td>0.0</td>\n",
       "    </tr>\n",
       "    <tr>\n",
       "      <th>18</th>\n",
       "      <td>18.0</td>\n",
       "      <td>79</td>\n",
       "      <td>0.126804</td>\n",
       "      <td>0.507215</td>\n",
       "      <td>1.0</td>\n",
       "    </tr>\n",
       "    <tr>\n",
       "      <th>17</th>\n",
       "      <td>17.0</td>\n",
       "      <td>107</td>\n",
       "      <td>0.171747</td>\n",
       "      <td>0.678962</td>\n",
       "      <td>1.0</td>\n",
       "    </tr>\n",
       "    <tr>\n",
       "      <th>16</th>\n",
       "      <td>16.0</td>\n",
       "      <td>117</td>\n",
       "      <td>0.187798</td>\n",
       "      <td>0.866760</td>\n",
       "      <td>1.0</td>\n",
       "    </tr>\n",
       "    <tr>\n",
       "      <th>15</th>\n",
       "      <td>15.0</td>\n",
       "      <td>176</td>\n",
       "      <td>0.282499</td>\n",
       "      <td>1.149259</td>\n",
       "      <td>1.0</td>\n",
       "    </tr>\n",
       "    <tr>\n",
       "      <th>14</th>\n",
       "      <td>14.0</td>\n",
       "      <td>245</td>\n",
       "      <td>0.393252</td>\n",
       "      <td>1.542511</td>\n",
       "      <td>2.0</td>\n",
       "    </tr>\n",
       "    <tr>\n",
       "      <th>13</th>\n",
       "      <td>13.0</td>\n",
       "      <td>273</td>\n",
       "      <td>0.438195</td>\n",
       "      <td>1.980707</td>\n",
       "      <td>2.0</td>\n",
       "    </tr>\n",
       "    <tr>\n",
       "      <th>12</th>\n",
       "      <td>12.0</td>\n",
       "      <td>380</td>\n",
       "      <td>0.609942</td>\n",
       "      <td>2.590649</td>\n",
       "      <td>3.0</td>\n",
       "    </tr>\n",
       "    <tr>\n",
       "      <th>11</th>\n",
       "      <td>11.0</td>\n",
       "      <td>396</td>\n",
       "      <td>0.635624</td>\n",
       "      <td>3.226272</td>\n",
       "      <td>3.0</td>\n",
       "    </tr>\n",
       "    <tr>\n",
       "      <th>10</th>\n",
       "      <td>10.0</td>\n",
       "      <td>528</td>\n",
       "      <td>0.847498</td>\n",
       "      <td>4.073771</td>\n",
       "      <td>4.0</td>\n",
       "    </tr>\n",
       "    <tr>\n",
       "      <th>9</th>\n",
       "      <td>9.0</td>\n",
       "      <td>627</td>\n",
       "      <td>1.006404</td>\n",
       "      <td>5.080175</td>\n",
       "      <td>5.0</td>\n",
       "    </tr>\n",
       "    <tr>\n",
       "      <th>8</th>\n",
       "      <td>8.0</td>\n",
       "      <td>824</td>\n",
       "      <td>1.322611</td>\n",
       "      <td>6.402786</td>\n",
       "      <td>6.0</td>\n",
       "    </tr>\n",
       "    <tr>\n",
       "      <th>7</th>\n",
       "      <td>7.0</td>\n",
       "      <td>1205</td>\n",
       "      <td>1.934158</td>\n",
       "      <td>8.336945</td>\n",
       "      <td>8.0</td>\n",
       "    </tr>\n",
       "    <tr>\n",
       "      <th>6</th>\n",
       "      <td>6.0</td>\n",
       "      <td>1545</td>\n",
       "      <td>2.479896</td>\n",
       "      <td>10.816841</td>\n",
       "      <td>11.0</td>\n",
       "    </tr>\n",
       "    <tr>\n",
       "      <th>5</th>\n",
       "      <td>5.0</td>\n",
       "      <td>1969</td>\n",
       "      <td>3.160463</td>\n",
       "      <td>13.977304</td>\n",
       "      <td>14.0</td>\n",
       "    </tr>\n",
       "    <tr>\n",
       "      <th>4</th>\n",
       "      <td>4.0</td>\n",
       "      <td>2443</td>\n",
       "      <td>3.921285</td>\n",
       "      <td>17.898589</td>\n",
       "      <td>18.0</td>\n",
       "    </tr>\n",
       "    <tr>\n",
       "      <th>3</th>\n",
       "      <td>3.0</td>\n",
       "      <td>2868</td>\n",
       "      <td>4.603457</td>\n",
       "      <td>22.502047</td>\n",
       "      <td>23.0</td>\n",
       "    </tr>\n",
       "    <tr>\n",
       "      <th>2</th>\n",
       "      <td>2.0</td>\n",
       "      <td>4492</td>\n",
       "      <td>7.210157</td>\n",
       "      <td>29.712204</td>\n",
       "      <td>30.0</td>\n",
       "    </tr>\n",
       "    <tr>\n",
       "      <th>1</th>\n",
       "      <td>1.0</td>\n",
       "      <td>13671</td>\n",
       "      <td>21.943468</td>\n",
       "      <td>51.655672</td>\n",
       "      <td>52.0</td>\n",
       "    </tr>\n",
       "    <tr>\n",
       "      <th>0</th>\n",
       "      <td>0.0</td>\n",
       "      <td>30119</td>\n",
       "      <td>48.344328</td>\n",
       "      <td>100.000000</td>\n",
       "      <td>100.0</td>\n",
       "    </tr>\n",
       "  </tbody>\n",
       "</table>\n",
       "</div>"
      ],
      "text/plain": [
       "    affinity_round  users_count   user_per  aggregated_per  round_aggr\n",
       "36            50.0            6   0.009631        0.009631         0.0\n",
       "35            45.0            1   0.001605        0.011236         0.0\n",
       "34            38.0            1   0.001605        0.012841         0.0\n",
       "33            35.0            1   0.001605        0.014446         0.0\n",
       "32            33.0            2   0.003210        0.017656         0.0\n",
       "31            32.0            1   0.001605        0.019261         0.0\n",
       "30            30.0            3   0.004815        0.024077         0.0\n",
       "29            29.0            4   0.006420        0.030497         0.0\n",
       "28            28.0            3   0.004815        0.035312         0.0\n",
       "27            27.0            4   0.006420        0.041733         0.0\n",
       "26            26.0            8   0.012841        0.054574         0.0\n",
       "25            25.0           14   0.022472        0.077045         0.0\n",
       "24            24.0           16   0.025682        0.102727         0.0\n",
       "23            23.0           12   0.019261        0.121988         0.0\n",
       "22            22.0           21   0.033707        0.155696         0.0\n",
       "21            21.0           35   0.056179        0.211875         0.0\n",
       "20            20.0           52   0.083466        0.295340         0.0\n",
       "19            19.0           53   0.085071        0.380411         0.0\n",
       "18            18.0           79   0.126804        0.507215         1.0\n",
       "17            17.0          107   0.171747        0.678962         1.0\n",
       "16            16.0          117   0.187798        0.866760         1.0\n",
       "15            15.0          176   0.282499        1.149259         1.0\n",
       "14            14.0          245   0.393252        1.542511         2.0\n",
       "13            13.0          273   0.438195        1.980707         2.0\n",
       "12            12.0          380   0.609942        2.590649         3.0\n",
       "11            11.0          396   0.635624        3.226272         3.0\n",
       "10            10.0          528   0.847498        4.073771         4.0\n",
       "9              9.0          627   1.006404        5.080175         5.0\n",
       "8              8.0          824   1.322611        6.402786         6.0\n",
       "7              7.0         1205   1.934158        8.336945         8.0\n",
       "6              6.0         1545   2.479896       10.816841        11.0\n",
       "5              5.0         1969   3.160463       13.977304        14.0\n",
       "4              4.0         2443   3.921285       17.898589        18.0\n",
       "3              3.0         2868   4.603457       22.502047        23.0\n",
       "2              2.0         4492   7.210157       29.712204        30.0\n",
       "1              1.0        13671  21.943468       51.655672        52.0\n",
       "0              0.0        30119  48.344328      100.000000       100.0"
      ]
     },
     "execution_count": 79,
     "metadata": {},
     "output_type": "execute_result"
    }
   ],
   "source": [
    "affinity_user_comb_df"
   ]
  },
  {
   "cell_type": "code",
   "execution_count": 72,
   "metadata": {
    "collapsed": false
   },
   "outputs": [],
   "source": [
    "a = affinity_user_comb_df.loc[affinity_user_comb_df['round_aggr'] <= 2]"
   ]
  },
  {
   "cell_type": "code",
   "execution_count": 73,
   "metadata": {
    "collapsed": false
   },
   "outputs": [
    {
     "data": {
      "text/html": [
       "<div>\n",
       "<table border=\"1\" class=\"dataframe\">\n",
       "  <thead>\n",
       "    <tr style=\"text-align: right;\">\n",
       "      <th></th>\n",
       "      <th>affinity_round</th>\n",
       "      <th>users_count</th>\n",
       "      <th>user_per</th>\n",
       "      <th>aggregated_per</th>\n",
       "      <th>round_aggr</th>\n",
       "    </tr>\n",
       "  </thead>\n",
       "  <tbody>\n",
       "    <tr>\n",
       "      <th>36</th>\n",
       "      <td>50.0</td>\n",
       "      <td>6</td>\n",
       "      <td>0.009631</td>\n",
       "      <td>0.009631</td>\n",
       "      <td>0.0</td>\n",
       "    </tr>\n",
       "    <tr>\n",
       "      <th>35</th>\n",
       "      <td>45.0</td>\n",
       "      <td>1</td>\n",
       "      <td>0.001605</td>\n",
       "      <td>0.011236</td>\n",
       "      <td>0.0</td>\n",
       "    </tr>\n",
       "    <tr>\n",
       "      <th>34</th>\n",
       "      <td>38.0</td>\n",
       "      <td>1</td>\n",
       "      <td>0.001605</td>\n",
       "      <td>0.012841</td>\n",
       "      <td>0.0</td>\n",
       "    </tr>\n",
       "    <tr>\n",
       "      <th>33</th>\n",
       "      <td>35.0</td>\n",
       "      <td>1</td>\n",
       "      <td>0.001605</td>\n",
       "      <td>0.014446</td>\n",
       "      <td>0.0</td>\n",
       "    </tr>\n",
       "    <tr>\n",
       "      <th>32</th>\n",
       "      <td>33.0</td>\n",
       "      <td>2</td>\n",
       "      <td>0.003210</td>\n",
       "      <td>0.017656</td>\n",
       "      <td>0.0</td>\n",
       "    </tr>\n",
       "    <tr>\n",
       "      <th>31</th>\n",
       "      <td>32.0</td>\n",
       "      <td>1</td>\n",
       "      <td>0.001605</td>\n",
       "      <td>0.019261</td>\n",
       "      <td>0.0</td>\n",
       "    </tr>\n",
       "    <tr>\n",
       "      <th>30</th>\n",
       "      <td>30.0</td>\n",
       "      <td>3</td>\n",
       "      <td>0.004815</td>\n",
       "      <td>0.024077</td>\n",
       "      <td>0.0</td>\n",
       "    </tr>\n",
       "    <tr>\n",
       "      <th>29</th>\n",
       "      <td>29.0</td>\n",
       "      <td>4</td>\n",
       "      <td>0.006420</td>\n",
       "      <td>0.030497</td>\n",
       "      <td>0.0</td>\n",
       "    </tr>\n",
       "    <tr>\n",
       "      <th>28</th>\n",
       "      <td>28.0</td>\n",
       "      <td>3</td>\n",
       "      <td>0.004815</td>\n",
       "      <td>0.035312</td>\n",
       "      <td>0.0</td>\n",
       "    </tr>\n",
       "    <tr>\n",
       "      <th>27</th>\n",
       "      <td>27.0</td>\n",
       "      <td>4</td>\n",
       "      <td>0.006420</td>\n",
       "      <td>0.041733</td>\n",
       "      <td>0.0</td>\n",
       "    </tr>\n",
       "    <tr>\n",
       "      <th>26</th>\n",
       "      <td>26.0</td>\n",
       "      <td>8</td>\n",
       "      <td>0.012841</td>\n",
       "      <td>0.054574</td>\n",
       "      <td>0.0</td>\n",
       "    </tr>\n",
       "    <tr>\n",
       "      <th>25</th>\n",
       "      <td>25.0</td>\n",
       "      <td>14</td>\n",
       "      <td>0.022472</td>\n",
       "      <td>0.077045</td>\n",
       "      <td>0.0</td>\n",
       "    </tr>\n",
       "    <tr>\n",
       "      <th>24</th>\n",
       "      <td>24.0</td>\n",
       "      <td>16</td>\n",
       "      <td>0.025682</td>\n",
       "      <td>0.102727</td>\n",
       "      <td>0.0</td>\n",
       "    </tr>\n",
       "    <tr>\n",
       "      <th>23</th>\n",
       "      <td>23.0</td>\n",
       "      <td>12</td>\n",
       "      <td>0.019261</td>\n",
       "      <td>0.121988</td>\n",
       "      <td>0.0</td>\n",
       "    </tr>\n",
       "    <tr>\n",
       "      <th>22</th>\n",
       "      <td>22.0</td>\n",
       "      <td>21</td>\n",
       "      <td>0.033707</td>\n",
       "      <td>0.155696</td>\n",
       "      <td>0.0</td>\n",
       "    </tr>\n",
       "    <tr>\n",
       "      <th>21</th>\n",
       "      <td>21.0</td>\n",
       "      <td>35</td>\n",
       "      <td>0.056179</td>\n",
       "      <td>0.211875</td>\n",
       "      <td>0.0</td>\n",
       "    </tr>\n",
       "    <tr>\n",
       "      <th>20</th>\n",
       "      <td>20.0</td>\n",
       "      <td>52</td>\n",
       "      <td>0.083466</td>\n",
       "      <td>0.295340</td>\n",
       "      <td>0.0</td>\n",
       "    </tr>\n",
       "    <tr>\n",
       "      <th>19</th>\n",
       "      <td>19.0</td>\n",
       "      <td>53</td>\n",
       "      <td>0.085071</td>\n",
       "      <td>0.380411</td>\n",
       "      <td>0.0</td>\n",
       "    </tr>\n",
       "    <tr>\n",
       "      <th>18</th>\n",
       "      <td>18.0</td>\n",
       "      <td>79</td>\n",
       "      <td>0.126804</td>\n",
       "      <td>0.507215</td>\n",
       "      <td>1.0</td>\n",
       "    </tr>\n",
       "    <tr>\n",
       "      <th>17</th>\n",
       "      <td>17.0</td>\n",
       "      <td>107</td>\n",
       "      <td>0.171747</td>\n",
       "      <td>0.678962</td>\n",
       "      <td>1.0</td>\n",
       "    </tr>\n",
       "    <tr>\n",
       "      <th>16</th>\n",
       "      <td>16.0</td>\n",
       "      <td>117</td>\n",
       "      <td>0.187798</td>\n",
       "      <td>0.866760</td>\n",
       "      <td>1.0</td>\n",
       "    </tr>\n",
       "    <tr>\n",
       "      <th>15</th>\n",
       "      <td>15.0</td>\n",
       "      <td>176</td>\n",
       "      <td>0.282499</td>\n",
       "      <td>1.149259</td>\n",
       "      <td>1.0</td>\n",
       "    </tr>\n",
       "    <tr>\n",
       "      <th>14</th>\n",
       "      <td>14.0</td>\n",
       "      <td>245</td>\n",
       "      <td>0.393252</td>\n",
       "      <td>1.542511</td>\n",
       "      <td>2.0</td>\n",
       "    </tr>\n",
       "    <tr>\n",
       "      <th>13</th>\n",
       "      <td>13.0</td>\n",
       "      <td>273</td>\n",
       "      <td>0.438195</td>\n",
       "      <td>1.980707</td>\n",
       "      <td>2.0</td>\n",
       "    </tr>\n",
       "  </tbody>\n",
       "</table>\n",
       "</div>"
      ],
      "text/plain": [
       "    affinity_round  users_count  user_per  aggregated_per  round_aggr\n",
       "36            50.0            6  0.009631        0.009631         0.0\n",
       "35            45.0            1  0.001605        0.011236         0.0\n",
       "34            38.0            1  0.001605        0.012841         0.0\n",
       "33            35.0            1  0.001605        0.014446         0.0\n",
       "32            33.0            2  0.003210        0.017656         0.0\n",
       "31            32.0            1  0.001605        0.019261         0.0\n",
       "30            30.0            3  0.004815        0.024077         0.0\n",
       "29            29.0            4  0.006420        0.030497         0.0\n",
       "28            28.0            3  0.004815        0.035312         0.0\n",
       "27            27.0            4  0.006420        0.041733         0.0\n",
       "26            26.0            8  0.012841        0.054574         0.0\n",
       "25            25.0           14  0.022472        0.077045         0.0\n",
       "24            24.0           16  0.025682        0.102727         0.0\n",
       "23            23.0           12  0.019261        0.121988         0.0\n",
       "22            22.0           21  0.033707        0.155696         0.0\n",
       "21            21.0           35  0.056179        0.211875         0.0\n",
       "20            20.0           52  0.083466        0.295340         0.0\n",
       "19            19.0           53  0.085071        0.380411         0.0\n",
       "18            18.0           79  0.126804        0.507215         1.0\n",
       "17            17.0          107  0.171747        0.678962         1.0\n",
       "16            16.0          117  0.187798        0.866760         1.0\n",
       "15            15.0          176  0.282499        1.149259         1.0\n",
       "14            14.0          245  0.393252        1.542511         2.0\n",
       "13            13.0          273  0.438195        1.980707         2.0"
      ]
     },
     "execution_count": 73,
     "metadata": {},
     "output_type": "execute_result"
    }
   ],
   "source": [
    "a"
   ]
  },
  {
   "cell_type": "code",
   "execution_count": 74,
   "metadata": {
    "collapsed": false
   },
   "outputs": [],
   "source": [
    "a.reset_index(drop=True, inplace=True)"
   ]
  },
  {
   "cell_type": "code",
   "execution_count": 75,
   "metadata": {
    "collapsed": false
   },
   "outputs": [
    {
     "data": {
      "text/html": [
       "<div>\n",
       "<table border=\"1\" class=\"dataframe\">\n",
       "  <thead>\n",
       "    <tr style=\"text-align: right;\">\n",
       "      <th></th>\n",
       "      <th>affinity_round</th>\n",
       "      <th>users_count</th>\n",
       "      <th>user_per</th>\n",
       "      <th>aggregated_per</th>\n",
       "      <th>round_aggr</th>\n",
       "    </tr>\n",
       "  </thead>\n",
       "  <tbody>\n",
       "    <tr>\n",
       "      <th>0</th>\n",
       "      <td>50.0</td>\n",
       "      <td>6</td>\n",
       "      <td>0.009631</td>\n",
       "      <td>0.009631</td>\n",
       "      <td>0.0</td>\n",
       "    </tr>\n",
       "    <tr>\n",
       "      <th>1</th>\n",
       "      <td>45.0</td>\n",
       "      <td>1</td>\n",
       "      <td>0.001605</td>\n",
       "      <td>0.011236</td>\n",
       "      <td>0.0</td>\n",
       "    </tr>\n",
       "    <tr>\n",
       "      <th>2</th>\n",
       "      <td>38.0</td>\n",
       "      <td>1</td>\n",
       "      <td>0.001605</td>\n",
       "      <td>0.012841</td>\n",
       "      <td>0.0</td>\n",
       "    </tr>\n",
       "    <tr>\n",
       "      <th>3</th>\n",
       "      <td>35.0</td>\n",
       "      <td>1</td>\n",
       "      <td>0.001605</td>\n",
       "      <td>0.014446</td>\n",
       "      <td>0.0</td>\n",
       "    </tr>\n",
       "    <tr>\n",
       "      <th>4</th>\n",
       "      <td>33.0</td>\n",
       "      <td>2</td>\n",
       "      <td>0.003210</td>\n",
       "      <td>0.017656</td>\n",
       "      <td>0.0</td>\n",
       "    </tr>\n",
       "    <tr>\n",
       "      <th>5</th>\n",
       "      <td>32.0</td>\n",
       "      <td>1</td>\n",
       "      <td>0.001605</td>\n",
       "      <td>0.019261</td>\n",
       "      <td>0.0</td>\n",
       "    </tr>\n",
       "    <tr>\n",
       "      <th>6</th>\n",
       "      <td>30.0</td>\n",
       "      <td>3</td>\n",
       "      <td>0.004815</td>\n",
       "      <td>0.024077</td>\n",
       "      <td>0.0</td>\n",
       "    </tr>\n",
       "    <tr>\n",
       "      <th>7</th>\n",
       "      <td>29.0</td>\n",
       "      <td>4</td>\n",
       "      <td>0.006420</td>\n",
       "      <td>0.030497</td>\n",
       "      <td>0.0</td>\n",
       "    </tr>\n",
       "    <tr>\n",
       "      <th>8</th>\n",
       "      <td>28.0</td>\n",
       "      <td>3</td>\n",
       "      <td>0.004815</td>\n",
       "      <td>0.035312</td>\n",
       "      <td>0.0</td>\n",
       "    </tr>\n",
       "    <tr>\n",
       "      <th>9</th>\n",
       "      <td>27.0</td>\n",
       "      <td>4</td>\n",
       "      <td>0.006420</td>\n",
       "      <td>0.041733</td>\n",
       "      <td>0.0</td>\n",
       "    </tr>\n",
       "    <tr>\n",
       "      <th>10</th>\n",
       "      <td>26.0</td>\n",
       "      <td>8</td>\n",
       "      <td>0.012841</td>\n",
       "      <td>0.054574</td>\n",
       "      <td>0.0</td>\n",
       "    </tr>\n",
       "    <tr>\n",
       "      <th>11</th>\n",
       "      <td>25.0</td>\n",
       "      <td>14</td>\n",
       "      <td>0.022472</td>\n",
       "      <td>0.077045</td>\n",
       "      <td>0.0</td>\n",
       "    </tr>\n",
       "    <tr>\n",
       "      <th>12</th>\n",
       "      <td>24.0</td>\n",
       "      <td>16</td>\n",
       "      <td>0.025682</td>\n",
       "      <td>0.102727</td>\n",
       "      <td>0.0</td>\n",
       "    </tr>\n",
       "    <tr>\n",
       "      <th>13</th>\n",
       "      <td>23.0</td>\n",
       "      <td>12</td>\n",
       "      <td>0.019261</td>\n",
       "      <td>0.121988</td>\n",
       "      <td>0.0</td>\n",
       "    </tr>\n",
       "    <tr>\n",
       "      <th>14</th>\n",
       "      <td>22.0</td>\n",
       "      <td>21</td>\n",
       "      <td>0.033707</td>\n",
       "      <td>0.155696</td>\n",
       "      <td>0.0</td>\n",
       "    </tr>\n",
       "    <tr>\n",
       "      <th>15</th>\n",
       "      <td>21.0</td>\n",
       "      <td>35</td>\n",
       "      <td>0.056179</td>\n",
       "      <td>0.211875</td>\n",
       "      <td>0.0</td>\n",
       "    </tr>\n",
       "    <tr>\n",
       "      <th>16</th>\n",
       "      <td>20.0</td>\n",
       "      <td>52</td>\n",
       "      <td>0.083466</td>\n",
       "      <td>0.295340</td>\n",
       "      <td>0.0</td>\n",
       "    </tr>\n",
       "    <tr>\n",
       "      <th>17</th>\n",
       "      <td>19.0</td>\n",
       "      <td>53</td>\n",
       "      <td>0.085071</td>\n",
       "      <td>0.380411</td>\n",
       "      <td>0.0</td>\n",
       "    </tr>\n",
       "    <tr>\n",
       "      <th>18</th>\n",
       "      <td>18.0</td>\n",
       "      <td>79</td>\n",
       "      <td>0.126804</td>\n",
       "      <td>0.507215</td>\n",
       "      <td>1.0</td>\n",
       "    </tr>\n",
       "    <tr>\n",
       "      <th>19</th>\n",
       "      <td>17.0</td>\n",
       "      <td>107</td>\n",
       "      <td>0.171747</td>\n",
       "      <td>0.678962</td>\n",
       "      <td>1.0</td>\n",
       "    </tr>\n",
       "    <tr>\n",
       "      <th>20</th>\n",
       "      <td>16.0</td>\n",
       "      <td>117</td>\n",
       "      <td>0.187798</td>\n",
       "      <td>0.866760</td>\n",
       "      <td>1.0</td>\n",
       "    </tr>\n",
       "    <tr>\n",
       "      <th>21</th>\n",
       "      <td>15.0</td>\n",
       "      <td>176</td>\n",
       "      <td>0.282499</td>\n",
       "      <td>1.149259</td>\n",
       "      <td>1.0</td>\n",
       "    </tr>\n",
       "    <tr>\n",
       "      <th>22</th>\n",
       "      <td>14.0</td>\n",
       "      <td>245</td>\n",
       "      <td>0.393252</td>\n",
       "      <td>1.542511</td>\n",
       "      <td>2.0</td>\n",
       "    </tr>\n",
       "    <tr>\n",
       "      <th>23</th>\n",
       "      <td>13.0</td>\n",
       "      <td>273</td>\n",
       "      <td>0.438195</td>\n",
       "      <td>1.980707</td>\n",
       "      <td>2.0</td>\n",
       "    </tr>\n",
       "  </tbody>\n",
       "</table>\n",
       "</div>"
      ],
      "text/plain": [
       "    affinity_round  users_count  user_per  aggregated_per  round_aggr\n",
       "0             50.0            6  0.009631        0.009631         0.0\n",
       "1             45.0            1  0.001605        0.011236         0.0\n",
       "2             38.0            1  0.001605        0.012841         0.0\n",
       "3             35.0            1  0.001605        0.014446         0.0\n",
       "4             33.0            2  0.003210        0.017656         0.0\n",
       "5             32.0            1  0.001605        0.019261         0.0\n",
       "6             30.0            3  0.004815        0.024077         0.0\n",
       "7             29.0            4  0.006420        0.030497         0.0\n",
       "8             28.0            3  0.004815        0.035312         0.0\n",
       "9             27.0            4  0.006420        0.041733         0.0\n",
       "10            26.0            8  0.012841        0.054574         0.0\n",
       "11            25.0           14  0.022472        0.077045         0.0\n",
       "12            24.0           16  0.025682        0.102727         0.0\n",
       "13            23.0           12  0.019261        0.121988         0.0\n",
       "14            22.0           21  0.033707        0.155696         0.0\n",
       "15            21.0           35  0.056179        0.211875         0.0\n",
       "16            20.0           52  0.083466        0.295340         0.0\n",
       "17            19.0           53  0.085071        0.380411         0.0\n",
       "18            18.0           79  0.126804        0.507215         1.0\n",
       "19            17.0          107  0.171747        0.678962         1.0\n",
       "20            16.0          117  0.187798        0.866760         1.0\n",
       "21            15.0          176  0.282499        1.149259         1.0\n",
       "22            14.0          245  0.393252        1.542511         2.0\n",
       "23            13.0          273  0.438195        1.980707         2.0"
      ]
     },
     "execution_count": 75,
     "metadata": {},
     "output_type": "execute_result"
    }
   ],
   "source": [
    "a"
   ]
  },
  {
   "cell_type": "code",
   "execution_count": 76,
   "metadata": {
    "collapsed": true
   },
   "outputs": [],
   "source": [
    "a_value = a.affinity_round.loc[a['round_aggr'] <= 2]"
   ]
  },
  {
   "cell_type": "code",
   "execution_count": 77,
   "metadata": {
    "collapsed": false
   },
   "outputs": [],
   "source": [
    "a_value = a_value.tolist()"
   ]
  },
  {
   "cell_type": "code",
   "execution_count": 78,
   "metadata": {
    "collapsed": false
   },
   "outputs": [
    {
     "data": {
      "text/plain": [
       "[50.0,\n",
       " 45.0,\n",
       " 38.0,\n",
       " 35.0,\n",
       " 33.0,\n",
       " 32.0,\n",
       " 30.0,\n",
       " 29.0,\n",
       " 28.0,\n",
       " 27.0,\n",
       " 26.0,\n",
       " 25.0,\n",
       " 24.0,\n",
       " 23.0,\n",
       " 22.0,\n",
       " 21.0,\n",
       " 20.0,\n",
       " 19.0,\n",
       " 18.0,\n",
       " 17.0,\n",
       " 16.0,\n",
       " 15.0,\n",
       " 14.0,\n",
       " 13.0]"
      ]
     },
     "execution_count": 78,
     "metadata": {},
     "output_type": "execute_result"
    }
   ],
   "source": [
    "a_value"
   ]
  },
  {
   "cell_type": "code",
   "execution_count": 80,
   "metadata": {
    "collapsed": false
   },
   "outputs": [
    {
     "data": {
      "text/plain": [
       "13.0"
      ]
     },
     "execution_count": 80,
     "metadata": {},
     "output_type": "execute_result"
    }
   ],
   "source": [
    "a_value[-1]"
   ]
  },
  {
   "cell_type": "code",
   "execution_count": 81,
   "metadata": {
    "collapsed": true
   },
   "outputs": [],
   "source": [
    "b = affinity_user_comb_df.loc[(affinity_user_comb_df['round_aggr'] >2) & \n",
    "                                       (affinity_user_comb_df['round_aggr'] <=10)]"
   ]
  },
  {
   "cell_type": "code",
   "execution_count": 82,
   "metadata": {
    "collapsed": false
   },
   "outputs": [
    {
     "data": {
      "text/html": [
       "<div>\n",
       "<table border=\"1\" class=\"dataframe\">\n",
       "  <thead>\n",
       "    <tr style=\"text-align: right;\">\n",
       "      <th></th>\n",
       "      <th>affinity_round</th>\n",
       "      <th>users_count</th>\n",
       "      <th>user_per</th>\n",
       "      <th>aggregated_per</th>\n",
       "      <th>round_aggr</th>\n",
       "    </tr>\n",
       "  </thead>\n",
       "  <tbody>\n",
       "    <tr>\n",
       "      <th>12</th>\n",
       "      <td>12.0</td>\n",
       "      <td>380</td>\n",
       "      <td>0.609942</td>\n",
       "      <td>2.590649</td>\n",
       "      <td>3.0</td>\n",
       "    </tr>\n",
       "    <tr>\n",
       "      <th>11</th>\n",
       "      <td>11.0</td>\n",
       "      <td>396</td>\n",
       "      <td>0.635624</td>\n",
       "      <td>3.226272</td>\n",
       "      <td>3.0</td>\n",
       "    </tr>\n",
       "    <tr>\n",
       "      <th>10</th>\n",
       "      <td>10.0</td>\n",
       "      <td>528</td>\n",
       "      <td>0.847498</td>\n",
       "      <td>4.073771</td>\n",
       "      <td>4.0</td>\n",
       "    </tr>\n",
       "    <tr>\n",
       "      <th>9</th>\n",
       "      <td>9.0</td>\n",
       "      <td>627</td>\n",
       "      <td>1.006404</td>\n",
       "      <td>5.080175</td>\n",
       "      <td>5.0</td>\n",
       "    </tr>\n",
       "    <tr>\n",
       "      <th>8</th>\n",
       "      <td>8.0</td>\n",
       "      <td>824</td>\n",
       "      <td>1.322611</td>\n",
       "      <td>6.402786</td>\n",
       "      <td>6.0</td>\n",
       "    </tr>\n",
       "    <tr>\n",
       "      <th>7</th>\n",
       "      <td>7.0</td>\n",
       "      <td>1205</td>\n",
       "      <td>1.934158</td>\n",
       "      <td>8.336945</td>\n",
       "      <td>8.0</td>\n",
       "    </tr>\n",
       "  </tbody>\n",
       "</table>\n",
       "</div>"
      ],
      "text/plain": [
       "    affinity_round  users_count  user_per  aggregated_per  round_aggr\n",
       "12            12.0          380  0.609942        2.590649         3.0\n",
       "11            11.0          396  0.635624        3.226272         3.0\n",
       "10            10.0          528  0.847498        4.073771         4.0\n",
       "9              9.0          627  1.006404        5.080175         5.0\n",
       "8              8.0          824  1.322611        6.402786         6.0\n",
       "7              7.0         1205  1.934158        8.336945         8.0"
      ]
     },
     "execution_count": 82,
     "metadata": {},
     "output_type": "execute_result"
    }
   ],
   "source": [
    "b"
   ]
  },
  {
   "cell_type": "code",
   "execution_count": 83,
   "metadata": {
    "collapsed": true
   },
   "outputs": [],
   "source": [
    "b.reset_index(drop=True, inplace=True)"
   ]
  },
  {
   "cell_type": "code",
   "execution_count": 84,
   "metadata": {
    "collapsed": false
   },
   "outputs": [
    {
     "data": {
      "text/html": [
       "<div>\n",
       "<table border=\"1\" class=\"dataframe\">\n",
       "  <thead>\n",
       "    <tr style=\"text-align: right;\">\n",
       "      <th></th>\n",
       "      <th>affinity_round</th>\n",
       "      <th>users_count</th>\n",
       "      <th>user_per</th>\n",
       "      <th>aggregated_per</th>\n",
       "      <th>round_aggr</th>\n",
       "    </tr>\n",
       "  </thead>\n",
       "  <tbody>\n",
       "    <tr>\n",
       "      <th>0</th>\n",
       "      <td>12.0</td>\n",
       "      <td>380</td>\n",
       "      <td>0.609942</td>\n",
       "      <td>2.590649</td>\n",
       "      <td>3.0</td>\n",
       "    </tr>\n",
       "    <tr>\n",
       "      <th>1</th>\n",
       "      <td>11.0</td>\n",
       "      <td>396</td>\n",
       "      <td>0.635624</td>\n",
       "      <td>3.226272</td>\n",
       "      <td>3.0</td>\n",
       "    </tr>\n",
       "    <tr>\n",
       "      <th>2</th>\n",
       "      <td>10.0</td>\n",
       "      <td>528</td>\n",
       "      <td>0.847498</td>\n",
       "      <td>4.073771</td>\n",
       "      <td>4.0</td>\n",
       "    </tr>\n",
       "    <tr>\n",
       "      <th>3</th>\n",
       "      <td>9.0</td>\n",
       "      <td>627</td>\n",
       "      <td>1.006404</td>\n",
       "      <td>5.080175</td>\n",
       "      <td>5.0</td>\n",
       "    </tr>\n",
       "    <tr>\n",
       "      <th>4</th>\n",
       "      <td>8.0</td>\n",
       "      <td>824</td>\n",
       "      <td>1.322611</td>\n",
       "      <td>6.402786</td>\n",
       "      <td>6.0</td>\n",
       "    </tr>\n",
       "    <tr>\n",
       "      <th>5</th>\n",
       "      <td>7.0</td>\n",
       "      <td>1205</td>\n",
       "      <td>1.934158</td>\n",
       "      <td>8.336945</td>\n",
       "      <td>8.0</td>\n",
       "    </tr>\n",
       "  </tbody>\n",
       "</table>\n",
       "</div>"
      ],
      "text/plain": [
       "   affinity_round  users_count  user_per  aggregated_per  round_aggr\n",
       "0            12.0          380  0.609942        2.590649         3.0\n",
       "1            11.0          396  0.635624        3.226272         3.0\n",
       "2            10.0          528  0.847498        4.073771         4.0\n",
       "3             9.0          627  1.006404        5.080175         5.0\n",
       "4             8.0          824  1.322611        6.402786         6.0\n",
       "5             7.0         1205  1.934158        8.336945         8.0"
      ]
     },
     "execution_count": 84,
     "metadata": {},
     "output_type": "execute_result"
    }
   ],
   "source": [
    "b"
   ]
  },
  {
   "cell_type": "code",
   "execution_count": 85,
   "metadata": {
    "collapsed": true
   },
   "outputs": [],
   "source": [
    "b_value = b.affinity_round.loc[(b['round_aggr'] >2) & \n",
    "                          (b['round_aggr'] <=10)]"
   ]
  },
  {
   "cell_type": "code",
   "execution_count": 86,
   "metadata": {
    "collapsed": false
   },
   "outputs": [
    {
     "data": {
      "text/plain": [
       "0    12.0\n",
       "1    11.0\n",
       "2    10.0\n",
       "3     9.0\n",
       "4     8.0\n",
       "5     7.0\n",
       "Name: affinity_round, dtype: float64"
      ]
     },
     "execution_count": 86,
     "metadata": {},
     "output_type": "execute_result"
    }
   ],
   "source": [
    "b_value"
   ]
  },
  {
   "cell_type": "code",
   "execution_count": 87,
   "metadata": {
    "collapsed": false
   },
   "outputs": [],
   "source": [
    "b_value = b_value.tolist()"
   ]
  },
  {
   "cell_type": "code",
   "execution_count": 88,
   "metadata": {
    "collapsed": false
   },
   "outputs": [
    {
     "data": {
      "text/plain": [
       "[12.0, 11.0, 10.0, 9.0, 8.0, 7.0]"
      ]
     },
     "execution_count": 88,
     "metadata": {},
     "output_type": "execute_result"
    }
   ],
   "source": [
    "b_value"
   ]
  },
  {
   "cell_type": "code",
   "execution_count": 89,
   "metadata": {
    "collapsed": true
   },
   "outputs": [],
   "source": [
    "c = affinity_user_comb_df.loc[(affinity_user_comb_df['round_aggr'] >10) & \n",
    "                                       (affinity_user_comb_df['round_aggr'] <=25)]"
   ]
  },
  {
   "cell_type": "code",
   "execution_count": 90,
   "metadata": {
    "collapsed": false
   },
   "outputs": [
    {
     "data": {
      "text/html": [
       "<div>\n",
       "<table border=\"1\" class=\"dataframe\">\n",
       "  <thead>\n",
       "    <tr style=\"text-align: right;\">\n",
       "      <th></th>\n",
       "      <th>affinity_round</th>\n",
       "      <th>users_count</th>\n",
       "      <th>user_per</th>\n",
       "      <th>aggregated_per</th>\n",
       "      <th>round_aggr</th>\n",
       "    </tr>\n",
       "  </thead>\n",
       "  <tbody>\n",
       "    <tr>\n",
       "      <th>6</th>\n",
       "      <td>6.0</td>\n",
       "      <td>1545</td>\n",
       "      <td>2.479896</td>\n",
       "      <td>10.816841</td>\n",
       "      <td>11.0</td>\n",
       "    </tr>\n",
       "    <tr>\n",
       "      <th>5</th>\n",
       "      <td>5.0</td>\n",
       "      <td>1969</td>\n",
       "      <td>3.160463</td>\n",
       "      <td>13.977304</td>\n",
       "      <td>14.0</td>\n",
       "    </tr>\n",
       "    <tr>\n",
       "      <th>4</th>\n",
       "      <td>4.0</td>\n",
       "      <td>2443</td>\n",
       "      <td>3.921285</td>\n",
       "      <td>17.898589</td>\n",
       "      <td>18.0</td>\n",
       "    </tr>\n",
       "    <tr>\n",
       "      <th>3</th>\n",
       "      <td>3.0</td>\n",
       "      <td>2868</td>\n",
       "      <td>4.603457</td>\n",
       "      <td>22.502047</td>\n",
       "      <td>23.0</td>\n",
       "    </tr>\n",
       "  </tbody>\n",
       "</table>\n",
       "</div>"
      ],
      "text/plain": [
       "   affinity_round  users_count  user_per  aggregated_per  round_aggr\n",
       "6             6.0         1545  2.479896       10.816841        11.0\n",
       "5             5.0         1969  3.160463       13.977304        14.0\n",
       "4             4.0         2443  3.921285       17.898589        18.0\n",
       "3             3.0         2868  4.603457       22.502047        23.0"
      ]
     },
     "execution_count": 90,
     "metadata": {},
     "output_type": "execute_result"
    }
   ],
   "source": [
    "c"
   ]
  },
  {
   "cell_type": "code",
   "execution_count": 91,
   "metadata": {
    "collapsed": true
   },
   "outputs": [],
   "source": [
    "c.reset_index(drop=True, inplace=True)"
   ]
  },
  {
   "cell_type": "code",
   "execution_count": 92,
   "metadata": {
    "collapsed": true
   },
   "outputs": [],
   "source": [
    "c_value = c.affinity_round.loc[(c['round_aggr'] >10) & \n",
    "                                       (c['round_aggr'] <=25)]"
   ]
  },
  {
   "cell_type": "code",
   "execution_count": 93,
   "metadata": {
    "collapsed": false
   },
   "outputs": [
    {
     "data": {
      "text/plain": [
       "0    6.0\n",
       "1    5.0\n",
       "2    4.0\n",
       "3    3.0\n",
       "Name: affinity_round, dtype: float64"
      ]
     },
     "execution_count": 93,
     "metadata": {},
     "output_type": "execute_result"
    }
   ],
   "source": [
    "c_value"
   ]
  },
  {
   "cell_type": "code",
   "execution_count": 94,
   "metadata": {
    "collapsed": true
   },
   "outputs": [],
   "source": [
    "c_value = c_value.tolist()"
   ]
  },
  {
   "cell_type": "code",
   "execution_count": 95,
   "metadata": {
    "collapsed": false
   },
   "outputs": [
    {
     "data": {
      "text/plain": [
       "[6.0, 5.0, 4.0, 3.0]"
      ]
     },
     "execution_count": 95,
     "metadata": {},
     "output_type": "execute_result"
    }
   ],
   "source": [
    "c_value"
   ]
  },
  {
   "cell_type": "code",
   "execution_count": 96,
   "metadata": {
    "collapsed": true
   },
   "outputs": [],
   "source": [
    "d = affinity_user_comb_df.loc[(affinity_user_comb_df['round_aggr'] >25) & \n",
    "                                       (affinity_user_comb_df['round_aggr'] <=50)]"
   ]
  },
  {
   "cell_type": "code",
   "execution_count": 97,
   "metadata": {
    "collapsed": false
   },
   "outputs": [
    {
     "data": {
      "text/html": [
       "<div>\n",
       "<table border=\"1\" class=\"dataframe\">\n",
       "  <thead>\n",
       "    <tr style=\"text-align: right;\">\n",
       "      <th></th>\n",
       "      <th>affinity_round</th>\n",
       "      <th>users_count</th>\n",
       "      <th>user_per</th>\n",
       "      <th>aggregated_per</th>\n",
       "      <th>round_aggr</th>\n",
       "    </tr>\n",
       "  </thead>\n",
       "  <tbody>\n",
       "    <tr>\n",
       "      <th>2</th>\n",
       "      <td>2.0</td>\n",
       "      <td>4492</td>\n",
       "      <td>7.210157</td>\n",
       "      <td>29.712204</td>\n",
       "      <td>30.0</td>\n",
       "    </tr>\n",
       "  </tbody>\n",
       "</table>\n",
       "</div>"
      ],
      "text/plain": [
       "   affinity_round  users_count  user_per  aggregated_per  round_aggr\n",
       "2             2.0         4492  7.210157       29.712204        30.0"
      ]
     },
     "execution_count": 97,
     "metadata": {},
     "output_type": "execute_result"
    }
   ],
   "source": [
    "d"
   ]
  },
  {
   "cell_type": "code",
   "execution_count": 98,
   "metadata": {
    "collapsed": true
   },
   "outputs": [],
   "source": [
    "d.reset_index(drop=True, inplace=True)"
   ]
  },
  {
   "cell_type": "code",
   "execution_count": 99,
   "metadata": {
    "collapsed": true
   },
   "outputs": [],
   "source": [
    "d_value = d.affinity_round.loc[(d['round_aggr'] > 25) & \n",
    "                          (d['round_aggr'] <=50)]"
   ]
  },
  {
   "cell_type": "code",
   "execution_count": 100,
   "metadata": {
    "collapsed": false
   },
   "outputs": [
    {
     "data": {
      "text/plain": [
       "0    2.0\n",
       "Name: affinity_round, dtype: float64"
      ]
     },
     "execution_count": 100,
     "metadata": {},
     "output_type": "execute_result"
    }
   ],
   "source": [
    "d_value"
   ]
  },
  {
   "cell_type": "code",
   "execution_count": 101,
   "metadata": {
    "collapsed": true
   },
   "outputs": [],
   "source": [
    "d_value= d_value.tolist()"
   ]
  },
  {
   "cell_type": "code",
   "execution_count": 102,
   "metadata": {
    "collapsed": false
   },
   "outputs": [
    {
     "data": {
      "text/plain": [
       "[2.0]"
      ]
     },
     "execution_count": 102,
     "metadata": {},
     "output_type": "execute_result"
    }
   ],
   "source": [
    "d_value"
   ]
  },
  {
   "cell_type": "code",
   "execution_count": 103,
   "metadata": {
    "collapsed": true
   },
   "outputs": [],
   "source": [
    "e = affinity_user_comb_df.loc[affinity_user_comb_df['round_aggr'] > 50]"
   ]
  },
  {
   "cell_type": "code",
   "execution_count": 104,
   "metadata": {
    "collapsed": true
   },
   "outputs": [],
   "source": [
    "e.reset_index(drop=True, inplace=True)"
   ]
  },
  {
   "cell_type": "code",
   "execution_count": 105,
   "metadata": {
    "collapsed": true
   },
   "outputs": [],
   "source": [
    "e_value = e.affinity_round.loc[e['round_aggr'] > 50]"
   ]
  },
  {
   "cell_type": "code",
   "execution_count": 106,
   "metadata": {
    "collapsed": false
   },
   "outputs": [
    {
     "data": {
      "text/plain": [
       "0    1.0\n",
       "1    0.0\n",
       "Name: affinity_round, dtype: float64"
      ]
     },
     "execution_count": 106,
     "metadata": {},
     "output_type": "execute_result"
    }
   ],
   "source": [
    "e_value"
   ]
  },
  {
   "cell_type": "code",
   "execution_count": 107,
   "metadata": {
    "collapsed": true
   },
   "outputs": [],
   "source": [
    "e_value = e_value.tolist()"
   ]
  },
  {
   "cell_type": "code",
   "execution_count": 108,
   "metadata": {
    "collapsed": false
   },
   "outputs": [
    {
     "data": {
      "text/plain": [
       "[1.0, 0.0]"
      ]
     },
     "execution_count": 108,
     "metadata": {},
     "output_type": "execute_result"
    }
   ],
   "source": [
    "e_value"
   ]
  },
  {
   "cell_type": "code",
   "execution_count": 109,
   "metadata": {
    "collapsed": true
   },
   "outputs": [],
   "source": [
    "affinity_df['Recommendation_class'] = \"\""
   ]
  },
  {
   "cell_type": "code",
   "execution_count": 110,
   "metadata": {
    "collapsed": false
   },
   "outputs": [
    {
     "data": {
      "text/html": [
       "<div>\n",
       "<table border=\"1\" class=\"dataframe\">\n",
       "  <thead>\n",
       "    <tr style=\"text-align: right;\">\n",
       "      <th></th>\n",
       "      <th>cust_id</th>\n",
       "      <th>product_id</th>\n",
       "      <th>combination</th>\n",
       "      <th>visits</th>\n",
       "      <th>affinity</th>\n",
       "      <th>affinity_round</th>\n",
       "      <th>class</th>\n",
       "    </tr>\n",
       "  </thead>\n",
       "  <tbody>\n",
       "    <tr>\n",
       "      <th>0</th>\n",
       "      <td>100010021</td>\n",
       "      <td>1205 - 17292 - 5 - OZ</td>\n",
       "      <td>2</td>\n",
       "      <td>349</td>\n",
       "      <td>0.573066</td>\n",
       "      <td>1.0</td>\n",
       "      <td></td>\n",
       "    </tr>\n",
       "    <tr>\n",
       "      <th>1</th>\n",
       "      <td>100010021</td>\n",
       "      <td>1703 - 10882 - 32 - OZ</td>\n",
       "      <td>1</td>\n",
       "      <td>349</td>\n",
       "      <td>0.286533</td>\n",
       "      <td>0.0</td>\n",
       "      <td></td>\n",
       "    </tr>\n",
       "    <tr>\n",
       "      <th>2</th>\n",
       "      <td>100010021</td>\n",
       "      <td>1703 - 19934 - 26 - OZ</td>\n",
       "      <td>1</td>\n",
       "      <td>349</td>\n",
       "      <td>0.286533</td>\n",
       "      <td>0.0</td>\n",
       "      <td></td>\n",
       "    </tr>\n",
       "    <tr>\n",
       "      <th>3</th>\n",
       "      <td>100010021</td>\n",
       "      <td>1703 - 6608 - 32 - OZ</td>\n",
       "      <td>1</td>\n",
       "      <td>349</td>\n",
       "      <td>0.286533</td>\n",
       "      <td>0.0</td>\n",
       "      <td></td>\n",
       "    </tr>\n",
       "    <tr>\n",
       "      <th>4</th>\n",
       "      <td>100010021</td>\n",
       "      <td>1704 - 27327 - 20 - OZ</td>\n",
       "      <td>1</td>\n",
       "      <td>349</td>\n",
       "      <td>0.286533</td>\n",
       "      <td>0.0</td>\n",
       "      <td></td>\n",
       "    </tr>\n",
       "  </tbody>\n",
       "</table>\n",
       "</div>"
      ],
      "text/plain": [
       "     cust_id              product_id  combination  visits  affinity  \\\n",
       "0  100010021   1205 - 17292 - 5 - OZ            2     349  0.573066   \n",
       "1  100010021  1703 - 10882 - 32 - OZ            1     349  0.286533   \n",
       "2  100010021  1703 - 19934 - 26 - OZ            1     349  0.286533   \n",
       "3  100010021   1703 - 6608 - 32 - OZ            1     349  0.286533   \n",
       "4  100010021  1704 - 27327 - 20 - OZ            1     349  0.286533   \n",
       "\n",
       "   affinity_round class  \n",
       "0             1.0        \n",
       "1             0.0        \n",
       "2             0.0        \n",
       "3             0.0        \n",
       "4             0.0        "
      ]
     },
     "execution_count": 110,
     "metadata": {},
     "output_type": "execute_result"
    }
   ],
   "source": [
    "affinity_df.head()"
   ]
  },
  {
   "cell_type": "code",
   "execution_count": 111,
   "metadata": {
    "collapsed": false
   },
   "outputs": [],
   "source": [
    "affinity_df.loc[affinity_df['affinity_round'] >= a_value[-1], 'Recommendation_class'] = \"Class_A\""
   ]
  },
  {
   "cell_type": "code",
   "execution_count": 112,
   "metadata": {
    "collapsed": false
   },
   "outputs": [
    {
     "data": {
      "text/html": [
       "<div>\n",
       "<table border=\"1\" class=\"dataframe\">\n",
       "  <thead>\n",
       "    <tr style=\"text-align: right;\">\n",
       "      <th></th>\n",
       "      <th>cust_id</th>\n",
       "      <th>product_id</th>\n",
       "      <th>combination</th>\n",
       "      <th>visits</th>\n",
       "      <th>affinity</th>\n",
       "      <th>affinity_round</th>\n",
       "      <th>class</th>\n",
       "    </tr>\n",
       "  </thead>\n",
       "  <tbody>\n",
       "    <tr>\n",
       "      <th>0</th>\n",
       "      <td>100010021</td>\n",
       "      <td>1205 - 17292 - 5 - OZ</td>\n",
       "      <td>2</td>\n",
       "      <td>349</td>\n",
       "      <td>0.573066</td>\n",
       "      <td>1.0</td>\n",
       "      <td></td>\n",
       "    </tr>\n",
       "    <tr>\n",
       "      <th>1</th>\n",
       "      <td>100010021</td>\n",
       "      <td>1703 - 10882 - 32 - OZ</td>\n",
       "      <td>1</td>\n",
       "      <td>349</td>\n",
       "      <td>0.286533</td>\n",
       "      <td>0.0</td>\n",
       "      <td></td>\n",
       "    </tr>\n",
       "    <tr>\n",
       "      <th>2</th>\n",
       "      <td>100010021</td>\n",
       "      <td>1703 - 19934 - 26 - OZ</td>\n",
       "      <td>1</td>\n",
       "      <td>349</td>\n",
       "      <td>0.286533</td>\n",
       "      <td>0.0</td>\n",
       "      <td></td>\n",
       "    </tr>\n",
       "    <tr>\n",
       "      <th>3</th>\n",
       "      <td>100010021</td>\n",
       "      <td>1703 - 6608 - 32 - OZ</td>\n",
       "      <td>1</td>\n",
       "      <td>349</td>\n",
       "      <td>0.286533</td>\n",
       "      <td>0.0</td>\n",
       "      <td></td>\n",
       "    </tr>\n",
       "    <tr>\n",
       "      <th>4</th>\n",
       "      <td>100010021</td>\n",
       "      <td>1704 - 27327 - 20 - OZ</td>\n",
       "      <td>1</td>\n",
       "      <td>349</td>\n",
       "      <td>0.286533</td>\n",
       "      <td>0.0</td>\n",
       "      <td></td>\n",
       "    </tr>\n",
       "  </tbody>\n",
       "</table>\n",
       "</div>"
      ],
      "text/plain": [
       "     cust_id              product_id  combination  visits  affinity  \\\n",
       "0  100010021   1205 - 17292 - 5 - OZ            2     349  0.573066   \n",
       "1  100010021  1703 - 10882 - 32 - OZ            1     349  0.286533   \n",
       "2  100010021  1703 - 19934 - 26 - OZ            1     349  0.286533   \n",
       "3  100010021   1703 - 6608 - 32 - OZ            1     349  0.286533   \n",
       "4  100010021  1704 - 27327 - 20 - OZ            1     349  0.286533   \n",
       "\n",
       "   affinity_round class  \n",
       "0             1.0        \n",
       "1             0.0        \n",
       "2             0.0        \n",
       "3             0.0        \n",
       "4             0.0        "
      ]
     },
     "execution_count": 112,
     "metadata": {},
     "output_type": "execute_result"
    }
   ],
   "source": [
    "affinity_df.head()"
   ]
  },
  {
   "cell_type": "code",
   "execution_count": 113,
   "metadata": {
    "collapsed": false
   },
   "outputs": [],
   "source": [
    "affinity_df.loc[(affinity_df['affinity_round'] >= b_value[-1]) & (affinity_df['affinity_round'] < a_value[-1]), 'Recommendation_class'] = \"Class_B\""
   ]
  },
  {
   "cell_type": "code",
   "execution_count": 114,
   "metadata": {
    "collapsed": true
   },
   "outputs": [],
   "source": [
    "affinity_df.loc[(affinity_df['affinity_round'] >= c_value[-1]) & (affinity_df['affinity_round'] < b_value[-1]), 'Recommendation_class'] = \"Class_C\""
   ]
  },
  {
   "cell_type": "code",
   "execution_count": 115,
   "metadata": {
    "collapsed": false
   },
   "outputs": [],
   "source": [
    "affinity_df.loc[(affinity_df['affinity_round'] >= d_value[-1]) & (affinity_df['affinity_round'] < c_value[-1]), 'Recommendation_class'] = \"Class_D\""
   ]
  },
  {
   "cell_type": "code",
   "execution_count": 116,
   "metadata": {
    "collapsed": false
   },
   "outputs": [],
   "source": [
    "affinity_df.loc[(affinity_df['affinity_round'] >= e_value[-1]) & (affinity_df['affinity_round'] < d_value[-1]), 'Recommendation_class'] = \"Class_E\""
   ]
  },
  {
   "cell_type": "code",
   "execution_count": 117,
   "metadata": {
    "collapsed": false
   },
   "outputs": [
    {
     "data": {
      "text/html": [
       "<div>\n",
       "<table border=\"1\" class=\"dataframe\">\n",
       "  <thead>\n",
       "    <tr style=\"text-align: right;\">\n",
       "      <th></th>\n",
       "      <th>cust_id</th>\n",
       "      <th>product_id</th>\n",
       "      <th>combination</th>\n",
       "      <th>visits</th>\n",
       "      <th>affinity</th>\n",
       "      <th>affinity_round</th>\n",
       "      <th>class</th>\n",
       "    </tr>\n",
       "  </thead>\n",
       "  <tbody>\n",
       "    <tr>\n",
       "      <th>0</th>\n",
       "      <td>100010021</td>\n",
       "      <td>1205 - 17292 - 5 - OZ</td>\n",
       "      <td>2</td>\n",
       "      <td>349</td>\n",
       "      <td>0.573066</td>\n",
       "      <td>1.0</td>\n",
       "      <td>Class_E</td>\n",
       "    </tr>\n",
       "    <tr>\n",
       "      <th>1</th>\n",
       "      <td>100010021</td>\n",
       "      <td>1703 - 10882 - 32 - OZ</td>\n",
       "      <td>1</td>\n",
       "      <td>349</td>\n",
       "      <td>0.286533</td>\n",
       "      <td>0.0</td>\n",
       "      <td>Class_E</td>\n",
       "    </tr>\n",
       "    <tr>\n",
       "      <th>2</th>\n",
       "      <td>100010021</td>\n",
       "      <td>1703 - 19934 - 26 - OZ</td>\n",
       "      <td>1</td>\n",
       "      <td>349</td>\n",
       "      <td>0.286533</td>\n",
       "      <td>0.0</td>\n",
       "      <td>Class_E</td>\n",
       "    </tr>\n",
       "    <tr>\n",
       "      <th>3</th>\n",
       "      <td>100010021</td>\n",
       "      <td>1703 - 6608 - 32 - OZ</td>\n",
       "      <td>1</td>\n",
       "      <td>349</td>\n",
       "      <td>0.286533</td>\n",
       "      <td>0.0</td>\n",
       "      <td>Class_E</td>\n",
       "    </tr>\n",
       "    <tr>\n",
       "      <th>4</th>\n",
       "      <td>100010021</td>\n",
       "      <td>1704 - 27327 - 20 - OZ</td>\n",
       "      <td>1</td>\n",
       "      <td>349</td>\n",
       "      <td>0.286533</td>\n",
       "      <td>0.0</td>\n",
       "      <td>Class_E</td>\n",
       "    </tr>\n",
       "  </tbody>\n",
       "</table>\n",
       "</div>"
      ],
      "text/plain": [
       "     cust_id              product_id  combination  visits  affinity  \\\n",
       "0  100010021   1205 - 17292 - 5 - OZ            2     349  0.573066   \n",
       "1  100010021  1703 - 10882 - 32 - OZ            1     349  0.286533   \n",
       "2  100010021  1703 - 19934 - 26 - OZ            1     349  0.286533   \n",
       "3  100010021   1703 - 6608 - 32 - OZ            1     349  0.286533   \n",
       "4  100010021  1704 - 27327 - 20 - OZ            1     349  0.286533   \n",
       "\n",
       "   affinity_round    class  \n",
       "0             1.0  Class_E  \n",
       "1             0.0  Class_E  \n",
       "2             0.0  Class_E  \n",
       "3             0.0  Class_E  \n",
       "4             0.0  Class_E  "
      ]
     },
     "execution_count": 117,
     "metadata": {},
     "output_type": "execute_result"
    }
   ],
   "source": [
    "affinity_df.head()"
   ]
  },
  {
   "cell_type": "code",
   "execution_count": 118,
   "metadata": {
    "collapsed": false,
    "scrolled": true
   },
   "outputs": [
    {
     "data": {
      "text/html": [
       "<div>\n",
       "<table border=\"1\" class=\"dataframe\">\n",
       "  <thead>\n",
       "    <tr style=\"text-align: right;\">\n",
       "      <th></th>\n",
       "      <th>cust_id</th>\n",
       "      <th>product_id</th>\n",
       "      <th>combination</th>\n",
       "      <th>visits</th>\n",
       "      <th>affinity</th>\n",
       "      <th>affinity_round</th>\n",
       "      <th>class</th>\n",
       "    </tr>\n",
       "  </thead>\n",
       "  <tbody>\n",
       "    <tr>\n",
       "      <th>6536</th>\n",
       "      <td>100413035</td>\n",
       "      <td>6315 - 30626 - 128 - OZ</td>\n",
       "      <td>32</td>\n",
       "      <td>186</td>\n",
       "      <td>17.204301</td>\n",
       "      <td>17.0</td>\n",
       "      <td>Class_A</td>\n",
       "    </tr>\n",
       "    <tr>\n",
       "      <th>67200</th>\n",
       "      <td>102970463</td>\n",
       "      <td>9753 - 0 - 1 - CT</td>\n",
       "      <td>2</td>\n",
       "      <td>8</td>\n",
       "      <td>25.000000</td>\n",
       "      <td>25.0</td>\n",
       "      <td>Class_A</td>\n",
       "    </tr>\n",
       "    <tr>\n",
       "      <th>112572</th>\n",
       "      <td>104370698</td>\n",
       "      <td>6315 - 10786 - 128 - OZ</td>\n",
       "      <td>40</td>\n",
       "      <td>267</td>\n",
       "      <td>14.981273</td>\n",
       "      <td>15.0</td>\n",
       "      <td>Class_A</td>\n",
       "    </tr>\n",
       "    <tr>\n",
       "      <th>112819</th>\n",
       "      <td>104415170</td>\n",
       "      <td>2506 - 10786 - 32 - OZ</td>\n",
       "      <td>77</td>\n",
       "      <td>489</td>\n",
       "      <td>15.746421</td>\n",
       "      <td>16.0</td>\n",
       "      <td>Class_A</td>\n",
       "    </tr>\n",
       "    <tr>\n",
       "      <th>151791</th>\n",
       "      <td>105150199</td>\n",
       "      <td>3618 - 23359 - 20 - OZ</td>\n",
       "      <td>99</td>\n",
       "      <td>492</td>\n",
       "      <td>20.121951</td>\n",
       "      <td>20.0</td>\n",
       "      <td>Class_A</td>\n",
       "    </tr>\n",
       "    <tr>\n",
       "      <th>229160</th>\n",
       "      <td>1073248526</td>\n",
       "      <td>9753 - 0 - 1 - CT</td>\n",
       "      <td>159</td>\n",
       "      <td>946</td>\n",
       "      <td>16.807611</td>\n",
       "      <td>17.0</td>\n",
       "      <td>Class_A</td>\n",
       "    </tr>\n",
       "    <tr>\n",
       "      <th>230791</th>\n",
       "      <td>107345069</td>\n",
       "      <td>9609 - 88199 - 0 -</td>\n",
       "      <td>338</td>\n",
       "      <td>2384</td>\n",
       "      <td>14.177852</td>\n",
       "      <td>14.0</td>\n",
       "      <td>Class_A</td>\n",
       "    </tr>\n",
       "    <tr>\n",
       "      <th>251421</th>\n",
       "      <td>1078792440</td>\n",
       "      <td>9753 - 0 - 1 - CT</td>\n",
       "      <td>355</td>\n",
       "      <td>2137</td>\n",
       "      <td>16.612073</td>\n",
       "      <td>17.0</td>\n",
       "      <td>Class_A</td>\n",
       "    </tr>\n",
       "    <tr>\n",
       "      <th>253302</th>\n",
       "      <td>107908162</td>\n",
       "      <td>9904 - 14997 - 10.5 - OZ</td>\n",
       "      <td>145</td>\n",
       "      <td>862</td>\n",
       "      <td>16.821346</td>\n",
       "      <td>17.0</td>\n",
       "      <td>Class_A</td>\n",
       "    </tr>\n",
       "    <tr>\n",
       "      <th>289545</th>\n",
       "      <td>1091291758</td>\n",
       "      <td>9753 - 0 - 1 - CT</td>\n",
       "      <td>265</td>\n",
       "      <td>1503</td>\n",
       "      <td>17.631404</td>\n",
       "      <td>18.0</td>\n",
       "      <td>Class_A</td>\n",
       "    </tr>\n",
       "    <tr>\n",
       "      <th>295163</th>\n",
       "      <td>109617720</td>\n",
       "      <td>907 - 20016 - 20 - OZ</td>\n",
       "      <td>8</td>\n",
       "      <td>61</td>\n",
       "      <td>13.114754</td>\n",
       "      <td>13.0</td>\n",
       "      <td>Class_A</td>\n",
       "    </tr>\n",
       "    <tr>\n",
       "      <th>343108</th>\n",
       "      <td>112300348</td>\n",
       "      <td>3711 - 19525 - 12 - OZ</td>\n",
       "      <td>3</td>\n",
       "      <td>16</td>\n",
       "      <td>18.750000</td>\n",
       "      <td>19.0</td>\n",
       "      <td>Class_A</td>\n",
       "    </tr>\n",
       "    <tr>\n",
       "      <th>358675</th>\n",
       "      <td>114034454</td>\n",
       "      <td>6315 - 30626 - 128 - OZ</td>\n",
       "      <td>67</td>\n",
       "      <td>429</td>\n",
       "      <td>15.617716</td>\n",
       "      <td>16.0</td>\n",
       "      <td>Class_A</td>\n",
       "    </tr>\n",
       "    <tr>\n",
       "      <th>362368</th>\n",
       "      <td>1144713654</td>\n",
       "      <td>9753 - 0 - 1 - CT</td>\n",
       "      <td>58</td>\n",
       "      <td>444</td>\n",
       "      <td>13.063063</td>\n",
       "      <td>13.0</td>\n",
       "      <td>Class_A</td>\n",
       "    </tr>\n",
       "    <tr>\n",
       "      <th>404049</th>\n",
       "      <td>116311882</td>\n",
       "      <td>3611 - 5890 - 50.7 - OZ</td>\n",
       "      <td>187</td>\n",
       "      <td>982</td>\n",
       "      <td>19.042770</td>\n",
       "      <td>19.0</td>\n",
       "      <td>Class_A</td>\n",
       "    </tr>\n",
       "    <tr>\n",
       "      <th>417244</th>\n",
       "      <td>1169470570</td>\n",
       "      <td>9753 - 0 - 1 - CT</td>\n",
       "      <td>103</td>\n",
       "      <td>577</td>\n",
       "      <td>17.850953</td>\n",
       "      <td>18.0</td>\n",
       "      <td>Class_A</td>\n",
       "    </tr>\n",
       "    <tr>\n",
       "      <th>419701</th>\n",
       "      <td>117085769</td>\n",
       "      <td>5705 - 20230 - 6 - OZ</td>\n",
       "      <td>25</td>\n",
       "      <td>175</td>\n",
       "      <td>14.285714</td>\n",
       "      <td>14.0</td>\n",
       "      <td>Class_A</td>\n",
       "    </tr>\n",
       "    <tr>\n",
       "      <th>420857</th>\n",
       "      <td>117117968</td>\n",
       "      <td>6001 - 30272 - 32 - OZ</td>\n",
       "      <td>117</td>\n",
       "      <td>891</td>\n",
       "      <td>13.131313</td>\n",
       "      <td>13.0</td>\n",
       "      <td>Class_A</td>\n",
       "    </tr>\n",
       "    <tr>\n",
       "      <th>421550</th>\n",
       "      <td>1171374110</td>\n",
       "      <td>9609 - 88199 - 0 -</td>\n",
       "      <td>169</td>\n",
       "      <td>1331</td>\n",
       "      <td>12.697220</td>\n",
       "      <td>13.0</td>\n",
       "      <td>Class_A</td>\n",
       "    </tr>\n",
       "    <tr>\n",
       "      <th>439212</th>\n",
       "      <td>118078486</td>\n",
       "      <td>9609 - 88199 - 0 -</td>\n",
       "      <td>269</td>\n",
       "      <td>1979</td>\n",
       "      <td>13.592724</td>\n",
       "      <td>14.0</td>\n",
       "      <td>Class_A</td>\n",
       "    </tr>\n",
       "    <tr>\n",
       "      <th>444809</th>\n",
       "      <td>1183658166</td>\n",
       "      <td>9609 - 88199 - 0 -</td>\n",
       "      <td>43</td>\n",
       "      <td>274</td>\n",
       "      <td>15.693431</td>\n",
       "      <td>16.0</td>\n",
       "      <td>Class_A</td>\n",
       "    </tr>\n",
       "    <tr>\n",
       "      <th>456546</th>\n",
       "      <td>119453085</td>\n",
       "      <td>6311 - 12297 - 15.2 - OZ</td>\n",
       "      <td>192</td>\n",
       "      <td>1232</td>\n",
       "      <td>15.584416</td>\n",
       "      <td>16.0</td>\n",
       "      <td>Class_A</td>\n",
       "    </tr>\n",
       "    <tr>\n",
       "      <th>476182</th>\n",
       "      <td>120338360</td>\n",
       "      <td>6401 - 15433 - 72 - OZ</td>\n",
       "      <td>58</td>\n",
       "      <td>447</td>\n",
       "      <td>12.975391</td>\n",
       "      <td>13.0</td>\n",
       "      <td>Class_A</td>\n",
       "    </tr>\n",
       "    <tr>\n",
       "      <th>480167</th>\n",
       "      <td>120548141</td>\n",
       "      <td>9609 - 88199 - 0 -</td>\n",
       "      <td>25</td>\n",
       "      <td>146</td>\n",
       "      <td>17.123288</td>\n",
       "      <td>17.0</td>\n",
       "      <td>Class_A</td>\n",
       "    </tr>\n",
       "    <tr>\n",
       "      <th>588920</th>\n",
       "      <td>121667708</td>\n",
       "      <td>9609 - 88199 - 0 -</td>\n",
       "      <td>188</td>\n",
       "      <td>1406</td>\n",
       "      <td>13.371266</td>\n",
       "      <td>13.0</td>\n",
       "      <td>Class_A</td>\n",
       "    </tr>\n",
       "    <tr>\n",
       "      <th>590481</th>\n",
       "      <td>121694327</td>\n",
       "      <td>9753 - 0 - 1 - CT</td>\n",
       "      <td>21</td>\n",
       "      <td>126</td>\n",
       "      <td>16.666667</td>\n",
       "      <td>17.0</td>\n",
       "      <td>Class_A</td>\n",
       "    </tr>\n",
       "    <tr>\n",
       "      <th>610424</th>\n",
       "      <td>121795318</td>\n",
       "      <td>6315 - 10786 - 16 - OZ</td>\n",
       "      <td>212</td>\n",
       "      <td>1281</td>\n",
       "      <td>16.549571</td>\n",
       "      <td>17.0</td>\n",
       "      <td>Class_A</td>\n",
       "    </tr>\n",
       "    <tr>\n",
       "      <th>618815</th>\n",
       "      <td>121855956</td>\n",
       "      <td>5555 - 26051 - 28 - OZ</td>\n",
       "      <td>96</td>\n",
       "      <td>728</td>\n",
       "      <td>13.186813</td>\n",
       "      <td>13.0</td>\n",
       "      <td>Class_A</td>\n",
       "    </tr>\n",
       "    <tr>\n",
       "      <th>669809</th>\n",
       "      <td>122226110</td>\n",
       "      <td>5614 - 10786 - 1 - OZ</td>\n",
       "      <td>270</td>\n",
       "      <td>1872</td>\n",
       "      <td>14.423077</td>\n",
       "      <td>14.0</td>\n",
       "      <td>Class_A</td>\n",
       "    </tr>\n",
       "    <tr>\n",
       "      <th>758301</th>\n",
       "      <td>123977450</td>\n",
       "      <td>9609 - 88199 - 0 -</td>\n",
       "      <td>273</td>\n",
       "      <td>1990</td>\n",
       "      <td>13.718593</td>\n",
       "      <td>14.0</td>\n",
       "      <td>Class_A</td>\n",
       "    </tr>\n",
       "    <tr>\n",
       "      <th>...</th>\n",
       "      <td>...</td>\n",
       "      <td>...</td>\n",
       "      <td>...</td>\n",
       "      <td>...</td>\n",
       "      <td>...</td>\n",
       "      <td>...</td>\n",
       "      <td>...</td>\n",
       "    </tr>\n",
       "    <tr>\n",
       "      <th>27308761</th>\n",
       "      <td>768196390</td>\n",
       "      <td>2105 - 14357 - 32 - OZ</td>\n",
       "      <td>135</td>\n",
       "      <td>858</td>\n",
       "      <td>15.734266</td>\n",
       "      <td>16.0</td>\n",
       "      <td>Class_A</td>\n",
       "    </tr>\n",
       "    <tr>\n",
       "      <th>27310221</th>\n",
       "      <td>768243582</td>\n",
       "      <td>0 - 0 - 0 -</td>\n",
       "      <td>151</td>\n",
       "      <td>1193</td>\n",
       "      <td>12.657167</td>\n",
       "      <td>13.0</td>\n",
       "      <td>Class_A</td>\n",
       "    </tr>\n",
       "    <tr>\n",
       "      <th>27314302</th>\n",
       "      <td>768409621</td>\n",
       "      <td>0 - 0 - 0 -</td>\n",
       "      <td>77</td>\n",
       "      <td>601</td>\n",
       "      <td>12.811980</td>\n",
       "      <td>13.0</td>\n",
       "      <td>Class_A</td>\n",
       "    </tr>\n",
       "    <tr>\n",
       "      <th>27322255</th>\n",
       "      <td>768591505</td>\n",
       "      <td>0 - 0 - 0 -</td>\n",
       "      <td>61</td>\n",
       "      <td>420</td>\n",
       "      <td>14.523810</td>\n",
       "      <td>15.0</td>\n",
       "      <td>Class_A</td>\n",
       "    </tr>\n",
       "    <tr>\n",
       "      <th>27342959</th>\n",
       "      <td>769343295</td>\n",
       "      <td>9609 - 88199 - 0 -</td>\n",
       "      <td>582</td>\n",
       "      <td>4126</td>\n",
       "      <td>14.105671</td>\n",
       "      <td>14.0</td>\n",
       "      <td>Class_A</td>\n",
       "    </tr>\n",
       "    <tr>\n",
       "      <th>27347661</th>\n",
       "      <td>769597405</td>\n",
       "      <td>9609 - 88199 - 0 -</td>\n",
       "      <td>181</td>\n",
       "      <td>1153</td>\n",
       "      <td>15.698179</td>\n",
       "      <td>16.0</td>\n",
       "      <td>Class_A</td>\n",
       "    </tr>\n",
       "    <tr>\n",
       "      <th>27358823</th>\n",
       "      <td>770173130</td>\n",
       "      <td>0 - 0 - 0 -</td>\n",
       "      <td>130</td>\n",
       "      <td>871</td>\n",
       "      <td>14.925373</td>\n",
       "      <td>15.0</td>\n",
       "      <td>Class_A</td>\n",
       "    </tr>\n",
       "    <tr>\n",
       "      <th>27366225</th>\n",
       "      <td>770342933</td>\n",
       "      <td>5814 - 10837 - 4.2 - OZ</td>\n",
       "      <td>212</td>\n",
       "      <td>1470</td>\n",
       "      <td>14.421769</td>\n",
       "      <td>14.0</td>\n",
       "      <td>Class_A</td>\n",
       "    </tr>\n",
       "    <tr>\n",
       "      <th>27375667</th>\n",
       "      <td>770897380</td>\n",
       "      <td>0 - 0 - 0 -</td>\n",
       "      <td>39</td>\n",
       "      <td>307</td>\n",
       "      <td>12.703583</td>\n",
       "      <td>13.0</td>\n",
       "      <td>Class_A</td>\n",
       "    </tr>\n",
       "    <tr>\n",
       "      <th>27378944</th>\n",
       "      <td>771049792</td>\n",
       "      <td>0 - 0 - 0 -</td>\n",
       "      <td>109</td>\n",
       "      <td>833</td>\n",
       "      <td>13.085234</td>\n",
       "      <td>13.0</td>\n",
       "      <td>Class_A</td>\n",
       "    </tr>\n",
       "    <tr>\n",
       "      <th>27386221</th>\n",
       "      <td>771410148</td>\n",
       "      <td>0 - 0 - 0 -</td>\n",
       "      <td>157</td>\n",
       "      <td>1195</td>\n",
       "      <td>13.138075</td>\n",
       "      <td>13.0</td>\n",
       "      <td>Class_A</td>\n",
       "    </tr>\n",
       "    <tr>\n",
       "      <th>27401528</th>\n",
       "      <td>772011396</td>\n",
       "      <td>0 - 0 - 0 -</td>\n",
       "      <td>200</td>\n",
       "      <td>1197</td>\n",
       "      <td>16.708438</td>\n",
       "      <td>17.0</td>\n",
       "      <td>Class_A</td>\n",
       "    </tr>\n",
       "    <tr>\n",
       "      <th>27407442</th>\n",
       "      <td>772325383</td>\n",
       "      <td>0 - 0 - 0 -</td>\n",
       "      <td>250</td>\n",
       "      <td>1711</td>\n",
       "      <td>14.611338</td>\n",
       "      <td>15.0</td>\n",
       "      <td>Class_A</td>\n",
       "    </tr>\n",
       "    <tr>\n",
       "      <th>27421298</th>\n",
       "      <td>773240825</td>\n",
       "      <td>9609 - 88199 - 0 -</td>\n",
       "      <td>149</td>\n",
       "      <td>1125</td>\n",
       "      <td>13.244444</td>\n",
       "      <td>13.0</td>\n",
       "      <td>Class_A</td>\n",
       "    </tr>\n",
       "    <tr>\n",
       "      <th>27443773</th>\n",
       "      <td>798721156</td>\n",
       "      <td>9609 - 88199 - 0 -</td>\n",
       "      <td>57</td>\n",
       "      <td>451</td>\n",
       "      <td>12.638581</td>\n",
       "      <td>13.0</td>\n",
       "      <td>Class_A</td>\n",
       "    </tr>\n",
       "    <tr>\n",
       "      <th>27455003</th>\n",
       "      <td>817874268</td>\n",
       "      <td>9753 - 0 - 1 - CT</td>\n",
       "      <td>258</td>\n",
       "      <td>1226</td>\n",
       "      <td>21.044046</td>\n",
       "      <td>21.0</td>\n",
       "      <td>Class_A</td>\n",
       "    </tr>\n",
       "    <tr>\n",
       "      <th>27495131</th>\n",
       "      <td>863373290</td>\n",
       "      <td>9753 - 0 - 1 - CT</td>\n",
       "      <td>206</td>\n",
       "      <td>1061</td>\n",
       "      <td>19.415646</td>\n",
       "      <td>19.0</td>\n",
       "      <td>Class_A</td>\n",
       "    </tr>\n",
       "    <tr>\n",
       "      <th>27543306</th>\n",
       "      <td>872846189</td>\n",
       "      <td>9753 - 0 - 1 - CT</td>\n",
       "      <td>241</td>\n",
       "      <td>1663</td>\n",
       "      <td>14.491882</td>\n",
       "      <td>14.0</td>\n",
       "      <td>Class_A</td>\n",
       "    </tr>\n",
       "    <tr>\n",
       "      <th>27558405</th>\n",
       "      <td>874013933</td>\n",
       "      <td>9753 - 0 - 1 - CT</td>\n",
       "      <td>243</td>\n",
       "      <td>1906</td>\n",
       "      <td>12.749213</td>\n",
       "      <td>13.0</td>\n",
       "      <td>Class_A</td>\n",
       "    </tr>\n",
       "    <tr>\n",
       "      <th>27561329</th>\n",
       "      <td>87423533</td>\n",
       "      <td>3618 - 15704 - 67.6 - OZ</td>\n",
       "      <td>36</td>\n",
       "      <td>153</td>\n",
       "      <td>23.529412</td>\n",
       "      <td>24.0</td>\n",
       "      <td>Class_A</td>\n",
       "    </tr>\n",
       "    <tr>\n",
       "      <th>27571691</th>\n",
       "      <td>875087896</td>\n",
       "      <td>9753 - 0 - 1 - CT</td>\n",
       "      <td>137</td>\n",
       "      <td>894</td>\n",
       "      <td>15.324385</td>\n",
       "      <td>15.0</td>\n",
       "      <td>Class_A</td>\n",
       "    </tr>\n",
       "    <tr>\n",
       "      <th>27608174</th>\n",
       "      <td>898839529</td>\n",
       "      <td>7901 - 43728 - 1 - CT</td>\n",
       "      <td>122</td>\n",
       "      <td>737</td>\n",
       "      <td>16.553596</td>\n",
       "      <td>17.0</td>\n",
       "      <td>Class_A</td>\n",
       "    </tr>\n",
       "    <tr>\n",
       "      <th>27628321</th>\n",
       "      <td>944697007</td>\n",
       "      <td>0 - 0 - 0 -</td>\n",
       "      <td>68</td>\n",
       "      <td>359</td>\n",
       "      <td>18.941504</td>\n",
       "      <td>19.0</td>\n",
       "      <td>Class_A</td>\n",
       "    </tr>\n",
       "    <tr>\n",
       "      <th>27629783</th>\n",
       "      <td>948271276</td>\n",
       "      <td>9609 - 88199 - 0 -</td>\n",
       "      <td>209</td>\n",
       "      <td>1257</td>\n",
       "      <td>16.626889</td>\n",
       "      <td>17.0</td>\n",
       "      <td>Class_A</td>\n",
       "    </tr>\n",
       "    <tr>\n",
       "      <th>27636606</th>\n",
       "      <td>96745376</td>\n",
       "      <td>2630 - 9787 - 184 - CT</td>\n",
       "      <td>8</td>\n",
       "      <td>49</td>\n",
       "      <td>16.326531</td>\n",
       "      <td>16.0</td>\n",
       "      <td>Class_A</td>\n",
       "    </tr>\n",
       "    <tr>\n",
       "      <th>27636607</th>\n",
       "      <td>96745376</td>\n",
       "      <td>2633 - 30626 - 12 - RL</td>\n",
       "      <td>7</td>\n",
       "      <td>49</td>\n",
       "      <td>14.285714</td>\n",
       "      <td>14.0</td>\n",
       "      <td>Class_A</td>\n",
       "    </tr>\n",
       "    <tr>\n",
       "      <th>27636613</th>\n",
       "      <td>96745376</td>\n",
       "      <td>6401 - 11704 - 216 - OZ</td>\n",
       "      <td>13</td>\n",
       "      <td>49</td>\n",
       "      <td>26.530612</td>\n",
       "      <td>27.0</td>\n",
       "      <td>Class_A</td>\n",
       "    </tr>\n",
       "    <tr>\n",
       "      <th>27647412</th>\n",
       "      <td>97309678</td>\n",
       "      <td>9753 - 0 - 1 - CT</td>\n",
       "      <td>217</td>\n",
       "      <td>1372</td>\n",
       "      <td>15.816327</td>\n",
       "      <td>16.0</td>\n",
       "      <td>Class_A</td>\n",
       "    </tr>\n",
       "    <tr>\n",
       "      <th>27649334</th>\n",
       "      <td>97483202</td>\n",
       "      <td>3604 - 15704 - 67.6 - OZ</td>\n",
       "      <td>17</td>\n",
       "      <td>120</td>\n",
       "      <td>14.166667</td>\n",
       "      <td>14.0</td>\n",
       "      <td>Class_A</td>\n",
       "    </tr>\n",
       "    <tr>\n",
       "      <th>27659091</th>\n",
       "      <td>98075215</td>\n",
       "      <td>6315 - 30626 - 128 - OZ</td>\n",
       "      <td>10</td>\n",
       "      <td>77</td>\n",
       "      <td>12.987013</td>\n",
       "      <td>13.0</td>\n",
       "      <td>Class_A</td>\n",
       "    </tr>\n",
       "  </tbody>\n",
       "</table>\n",
       "<p>6464 rows × 7 columns</p>\n",
       "</div>"
      ],
      "text/plain": [
       "             cust_id                product_id  combination  visits  \\\n",
       "6536       100413035   6315 - 30626 - 128 - OZ           32     186   \n",
       "67200      102970463         9753 - 0 - 1 - CT            2       8   \n",
       "112572     104370698   6315 - 10786 - 128 - OZ           40     267   \n",
       "112819     104415170    2506 - 10786 - 32 - OZ           77     489   \n",
       "151791     105150199    3618 - 23359 - 20 - OZ           99     492   \n",
       "229160    1073248526         9753 - 0 - 1 - CT          159     946   \n",
       "230791     107345069       9609 - 88199 - 0 -           338    2384   \n",
       "251421    1078792440         9753 - 0 - 1 - CT          355    2137   \n",
       "253302     107908162  9904 - 14997 - 10.5 - OZ          145     862   \n",
       "289545    1091291758         9753 - 0 - 1 - CT          265    1503   \n",
       "295163     109617720     907 - 20016 - 20 - OZ            8      61   \n",
       "343108     112300348    3711 - 19525 - 12 - OZ            3      16   \n",
       "358675     114034454   6315 - 30626 - 128 - OZ           67     429   \n",
       "362368    1144713654         9753 - 0 - 1 - CT           58     444   \n",
       "404049     116311882   3611 - 5890 - 50.7 - OZ          187     982   \n",
       "417244    1169470570         9753 - 0 - 1 - CT          103     577   \n",
       "419701     117085769     5705 - 20230 - 6 - OZ           25     175   \n",
       "420857     117117968    6001 - 30272 - 32 - OZ          117     891   \n",
       "421550    1171374110       9609 - 88199 - 0 -           169    1331   \n",
       "439212     118078486       9609 - 88199 - 0 -           269    1979   \n",
       "444809    1183658166       9609 - 88199 - 0 -            43     274   \n",
       "456546     119453085  6311 - 12297 - 15.2 - OZ          192    1232   \n",
       "476182     120338360    6401 - 15433 - 72 - OZ           58     447   \n",
       "480167     120548141       9609 - 88199 - 0 -            25     146   \n",
       "588920     121667708       9609 - 88199 - 0 -           188    1406   \n",
       "590481     121694327         9753 - 0 - 1 - CT           21     126   \n",
       "610424     121795318    6315 - 10786 - 16 - OZ          212    1281   \n",
       "618815     121855956    5555 - 26051 - 28 - OZ           96     728   \n",
       "669809     122226110     5614 - 10786 - 1 - OZ          270    1872   \n",
       "758301     123977450       9609 - 88199 - 0 -           273    1990   \n",
       "...              ...                       ...          ...     ...   \n",
       "27308761   768196390    2105 - 14357 - 32 - OZ          135     858   \n",
       "27310221   768243582              0 - 0 - 0 -           151    1193   \n",
       "27314302   768409621              0 - 0 - 0 -            77     601   \n",
       "27322255   768591505              0 - 0 - 0 -            61     420   \n",
       "27342959   769343295       9609 - 88199 - 0 -           582    4126   \n",
       "27347661   769597405       9609 - 88199 - 0 -           181    1153   \n",
       "27358823   770173130              0 - 0 - 0 -           130     871   \n",
       "27366225   770342933   5814 - 10837 - 4.2 - OZ          212    1470   \n",
       "27375667   770897380              0 - 0 - 0 -            39     307   \n",
       "27378944   771049792              0 - 0 - 0 -           109     833   \n",
       "27386221   771410148              0 - 0 - 0 -           157    1195   \n",
       "27401528   772011396              0 - 0 - 0 -           200    1197   \n",
       "27407442   772325383              0 - 0 - 0 -           250    1711   \n",
       "27421298   773240825       9609 - 88199 - 0 -           149    1125   \n",
       "27443773   798721156       9609 - 88199 - 0 -            57     451   \n",
       "27455003   817874268         9753 - 0 - 1 - CT          258    1226   \n",
       "27495131   863373290         9753 - 0 - 1 - CT          206    1061   \n",
       "27543306   872846189         9753 - 0 - 1 - CT          241    1663   \n",
       "27558405   874013933         9753 - 0 - 1 - CT          243    1906   \n",
       "27561329    87423533  3618 - 15704 - 67.6 - OZ           36     153   \n",
       "27571691   875087896         9753 - 0 - 1 - CT          137     894   \n",
       "27608174   898839529     7901 - 43728 - 1 - CT          122     737   \n",
       "27628321   944697007              0 - 0 - 0 -            68     359   \n",
       "27629783   948271276       9609 - 88199 - 0 -           209    1257   \n",
       "27636606    96745376    2630 - 9787 - 184 - CT            8      49   \n",
       "27636607    96745376    2633 - 30626 - 12 - RL            7      49   \n",
       "27636613    96745376   6401 - 11704 - 216 - OZ           13      49   \n",
       "27647412    97309678         9753 - 0 - 1 - CT          217    1372   \n",
       "27649334    97483202  3604 - 15704 - 67.6 - OZ           17     120   \n",
       "27659091    98075215   6315 - 30626 - 128 - OZ           10      77   \n",
       "\n",
       "           affinity  affinity_round    class  \n",
       "6536      17.204301            17.0  Class_A  \n",
       "67200     25.000000            25.0  Class_A  \n",
       "112572    14.981273            15.0  Class_A  \n",
       "112819    15.746421            16.0  Class_A  \n",
       "151791    20.121951            20.0  Class_A  \n",
       "229160    16.807611            17.0  Class_A  \n",
       "230791    14.177852            14.0  Class_A  \n",
       "251421    16.612073            17.0  Class_A  \n",
       "253302    16.821346            17.0  Class_A  \n",
       "289545    17.631404            18.0  Class_A  \n",
       "295163    13.114754            13.0  Class_A  \n",
       "343108    18.750000            19.0  Class_A  \n",
       "358675    15.617716            16.0  Class_A  \n",
       "362368    13.063063            13.0  Class_A  \n",
       "404049    19.042770            19.0  Class_A  \n",
       "417244    17.850953            18.0  Class_A  \n",
       "419701    14.285714            14.0  Class_A  \n",
       "420857    13.131313            13.0  Class_A  \n",
       "421550    12.697220            13.0  Class_A  \n",
       "439212    13.592724            14.0  Class_A  \n",
       "444809    15.693431            16.0  Class_A  \n",
       "456546    15.584416            16.0  Class_A  \n",
       "476182    12.975391            13.0  Class_A  \n",
       "480167    17.123288            17.0  Class_A  \n",
       "588920    13.371266            13.0  Class_A  \n",
       "590481    16.666667            17.0  Class_A  \n",
       "610424    16.549571            17.0  Class_A  \n",
       "618815    13.186813            13.0  Class_A  \n",
       "669809    14.423077            14.0  Class_A  \n",
       "758301    13.718593            14.0  Class_A  \n",
       "...             ...             ...      ...  \n",
       "27308761  15.734266            16.0  Class_A  \n",
       "27310221  12.657167            13.0  Class_A  \n",
       "27314302  12.811980            13.0  Class_A  \n",
       "27322255  14.523810            15.0  Class_A  \n",
       "27342959  14.105671            14.0  Class_A  \n",
       "27347661  15.698179            16.0  Class_A  \n",
       "27358823  14.925373            15.0  Class_A  \n",
       "27366225  14.421769            14.0  Class_A  \n",
       "27375667  12.703583            13.0  Class_A  \n",
       "27378944  13.085234            13.0  Class_A  \n",
       "27386221  13.138075            13.0  Class_A  \n",
       "27401528  16.708438            17.0  Class_A  \n",
       "27407442  14.611338            15.0  Class_A  \n",
       "27421298  13.244444            13.0  Class_A  \n",
       "27443773  12.638581            13.0  Class_A  \n",
       "27455003  21.044046            21.0  Class_A  \n",
       "27495131  19.415646            19.0  Class_A  \n",
       "27543306  14.491882            14.0  Class_A  \n",
       "27558405  12.749213            13.0  Class_A  \n",
       "27561329  23.529412            24.0  Class_A  \n",
       "27571691  15.324385            15.0  Class_A  \n",
       "27608174  16.553596            17.0  Class_A  \n",
       "27628321  18.941504            19.0  Class_A  \n",
       "27629783  16.626889            17.0  Class_A  \n",
       "27636606  16.326531            16.0  Class_A  \n",
       "27636607  14.285714            14.0  Class_A  \n",
       "27636613  26.530612            27.0  Class_A  \n",
       "27647412  15.816327            16.0  Class_A  \n",
       "27649334  14.166667            14.0  Class_A  \n",
       "27659091  12.987013            13.0  Class_A  \n",
       "\n",
       "[6464 rows x 7 columns]"
      ]
     },
     "execution_count": 118,
     "metadata": {},
     "output_type": "execute_result"
    }
   ],
   "source": [
    "#affinity_df.query('affinity_round >= 13')"
   ]
  },
  {
   "cell_type": "code",
   "execution_count": 119,
   "metadata": {
    "collapsed": false
   },
   "outputs": [
    {
     "data": {
      "text/plain": [
       "(27692932, 7)"
      ]
     },
     "execution_count": 119,
     "metadata": {},
     "output_type": "execute_result"
    }
   ],
   "source": [
    "affinity_df.shape"
   ]
  },
  {
   "cell_type": "code",
   "execution_count": 120,
   "metadata": {
    "collapsed": false
   },
   "outputs": [
    {
     "data": {
      "text/plain": [
       "62301"
      ]
     },
     "execution_count": 120,
     "metadata": {},
     "output_type": "execute_result"
    }
   ],
   "source": [
    "len(affinity_df.cust_id.unique())"
   ]
  },
  {
   "cell_type": "code",
   "execution_count": null,
   "metadata": {
    "collapsed": true
   },
   "outputs": [],
   "source": []
  },
  {
   "cell_type": "code",
   "execution_count": null,
   "metadata": {
    "collapsed": true
   },
   "outputs": [],
   "source": []
  }
 ],
 "metadata": {
  "kernelspec": {
   "display_name": "Python 2",
   "language": "python",
   "name": "python2"
  },
  "language_info": {
   "codemirror_mode": {
    "name": "ipython",
    "version": 2
   },
   "file_extension": ".py",
   "mimetype": "text/x-python",
   "name": "python",
   "nbconvert_exporter": "python",
   "pygments_lexer": "ipython2",
   "version": "2.7.11"
  }
 },
 "nbformat": 4,
 "nbformat_minor": 0
}
