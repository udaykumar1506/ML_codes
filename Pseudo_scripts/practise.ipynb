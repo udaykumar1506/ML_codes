{
 "cells": [
  {
   "cell_type": "code",
   "execution_count": 1,
   "metadata": {
    "collapsed": false
   },
   "outputs": [
    {
     "name": "stdout",
     "output_type": "stream",
     "text": [
      "/home/ubuntu\n"
     ]
    }
   ],
   "source": [
    "cd"
   ]
  },
  {
   "cell_type": "code",
   "execution_count": 2,
   "metadata": {
    "collapsed": true
   },
   "outputs": [],
   "source": [
    "from DemoServerDB import ConnectDatabase\n",
    "from mapping import doc"
   ]
  },
  {
   "cell_type": "code",
   "execution_count": 3,
   "metadata": {
    "collapsed": true
   },
   "outputs": [],
   "source": [
    "temp = ConnectDatabase()"
   ]
  },
  {
   "cell_type": "code",
   "execution_count": 4,
   "metadata": {
    "collapsed": false
   },
   "outputs": [
    {
     "data": {
      "text/plain": [
       "<connection object at 0x7f16f5f77b40; dsn: 'dbname=postgresdemo user=clientdemo password=xxxxxxxxxxx host=postgresdemo.c3yxphqgag3s.ap-southeast-1.rds.amazonaws.com port=5432 sslmode=require', closed: 0>"
      ]
     },
     "execution_count": 4,
     "metadata": {},
     "output_type": "execute_result"
    }
   ],
   "source": [
    "temp.conn"
   ]
  },
  {
   "cell_type": "code",
   "execution_count": 5,
   "metadata": {
    "collapsed": false
   },
   "outputs": [
    {
     "data": {
      "text/plain": [
       "{'cust_id': 'userid',\n",
       " 'product_id': 'product_id',\n",
       " 'quantity': 'quantity',\n",
       " 'renewal': 'renewal',\n",
       " 'revenue': 'revenue',\n",
       " 'timestamp': 'purchase_date'}"
      ]
     },
     "execution_count": 5,
     "metadata": {},
     "output_type": "execute_result"
    }
   ],
   "source": [
    "doc['column_map']['TRANSACTION_MASTER']"
   ]
  },
  {
   "cell_type": "code",
   "execution_count": 6,
   "metadata": {
    "collapsed": false
   },
   "outputs": [],
   "source": [
    "query = 'SELECT \"%s\",\"%s\",\"%s\" FROM \"%s\"'%(doc['column_map']['TRANSACTION_MASTER']['cust_id'],\n",
    "                                           doc['column_map']['TRANSACTION_MASTER']['product_id'],\n",
    "                                           doc['column_map']['TRANSACTION_MASTER']['timestamp'],\n",
    "                                           doc['table_map']['TRANSACTION_MASTER'])"
   ]
  },
  {
   "cell_type": "code",
   "execution_count": 7,
   "metadata": {
    "collapsed": false
   },
   "outputs": [
    {
     "name": "stdout",
     "output_type": "stream",
     "text": [
      "SELECT \"userid\",\"product_id\",\"purchase_date\" FROM \"trans\"\n"
     ]
    }
   ],
   "source": [
    "print query"
   ]
  },
  {
   "cell_type": "code",
   "execution_count": 8,
   "metadata": {
    "collapsed": true
   },
   "outputs": [],
   "source": [
    "temp.conn.rollback()"
   ]
  },
  {
   "cell_type": "code",
   "execution_count": 9,
   "metadata": {
    "collapsed": true
   },
   "outputs": [],
   "source": [
    "temp.cur.execute(query)"
   ]
  },
  {
   "cell_type": "code",
   "execution_count": 10,
   "metadata": {
    "collapsed": true
   },
   "outputs": [],
   "source": [
    "col_names = [desc[0] for desc in temp.cur.description]"
   ]
  },
  {
   "cell_type": "code",
   "execution_count": 11,
   "metadata": {
    "collapsed": false
   },
   "outputs": [
    {
     "data": {
      "text/plain": [
       "['userid', 'product_id', 'purchase_date']"
      ]
     },
     "execution_count": 11,
     "metadata": {},
     "output_type": "execute_result"
    }
   ],
   "source": [
    "col_names"
   ]
  },
  {
   "cell_type": "code",
   "execution_count": 12,
   "metadata": {
    "collapsed": true
   },
   "outputs": [],
   "source": [
    "import pandas as pd\n",
    "import numpy as np"
   ]
  },
  {
   "cell_type": "code",
   "execution_count": 13,
   "metadata": {
    "collapsed": true
   },
   "outputs": [],
   "source": [
    "trans_table = pd.DataFrame(temp.cur.fetchall(), columns=col_names)"
   ]
  },
  {
   "cell_type": "code",
   "execution_count": 14,
   "metadata": {
    "collapsed": false
   },
   "outputs": [
    {
     "data": {
      "text/html": [
       "<div>\n",
       "<table border=\"1\" class=\"dataframe\">\n",
       "  <thead>\n",
       "    <tr style=\"text-align: right;\">\n",
       "      <th></th>\n",
       "      <th>userid</th>\n",
       "      <th>product_id</th>\n",
       "      <th>purchase_date</th>\n",
       "    </tr>\n",
       "  </thead>\n",
       "  <tbody>\n",
       "    <tr>\n",
       "      <th>0</th>\n",
       "      <td>3893506</td>\n",
       "      <td>com.gopaktor.subscription.v1.premium.1m</td>\n",
       "      <td>2016-09-07 13:59:45+00:00</td>\n",
       "    </tr>\n",
       "    <tr>\n",
       "      <th>1</th>\n",
       "      <td>3793254</td>\n",
       "      <td>com.gopaktor.subscription.v1.premium.1m</td>\n",
       "      <td>2016-09-25 03:06:11+00:00</td>\n",
       "    </tr>\n",
       "    <tr>\n",
       "      <th>2</th>\n",
       "      <td>6148794</td>\n",
       "      <td>com.gopaktor.subscription.v1.premium.1m</td>\n",
       "      <td>2016-10-01 02:27:37+00:00</td>\n",
       "    </tr>\n",
       "    <tr>\n",
       "      <th>3</th>\n",
       "      <td>6149220</td>\n",
       "      <td>com.gopaktor.subscription.v4.premium.1m</td>\n",
       "      <td>2016-10-01 06:39:16+00:00</td>\n",
       "    </tr>\n",
       "    <tr>\n",
       "      <th>4</th>\n",
       "      <td>6149432</td>\n",
       "      <td>com.gopaktor.subscription.v4.premium.1m</td>\n",
       "      <td>2016-10-01 09:07:49+00:00</td>\n",
       "    </tr>\n",
       "  </tbody>\n",
       "</table>\n",
       "</div>"
      ],
      "text/plain": [
       "    userid                               product_id             purchase_date\n",
       "0  3893506  com.gopaktor.subscription.v1.premium.1m 2016-09-07 13:59:45+00:00\n",
       "1  3793254  com.gopaktor.subscription.v1.premium.1m 2016-09-25 03:06:11+00:00\n",
       "2  6148794  com.gopaktor.subscription.v1.premium.1m 2016-10-01 02:27:37+00:00\n",
       "3  6149220  com.gopaktor.subscription.v4.premium.1m 2016-10-01 06:39:16+00:00\n",
       "4  6149432  com.gopaktor.subscription.v4.premium.1m 2016-10-01 09:07:49+00:00"
      ]
     },
     "execution_count": 14,
     "metadata": {},
     "output_type": "execute_result"
    }
   ],
   "source": [
    "trans_table.head()"
   ]
  },
  {
   "cell_type": "code",
   "execution_count": 15,
   "metadata": {
    "collapsed": true
   },
   "outputs": [],
   "source": [
    "trans_table.rename(columns={doc['column_map']['TRANSACTION_MASTER']['cust_id']:'cust_id'},inplace=True)\n",
    "trans_table.rename(columns={doc['column_map']['TRANSACTION_MASTER']['product_id']:'product_id'},inplace=True)\n",
    "trans_table.rename(columns={doc['column_map']['TRANSACTION_MASTER']['timestamp']:'timestamp'},inplace=True)"
   ]
  },
  {
   "cell_type": "code",
   "execution_count": 16,
   "metadata": {
    "collapsed": false
   },
   "outputs": [
    {
     "data": {
      "text/html": [
       "<div>\n",
       "<table border=\"1\" class=\"dataframe\">\n",
       "  <thead>\n",
       "    <tr style=\"text-align: right;\">\n",
       "      <th></th>\n",
       "      <th>cust_id</th>\n",
       "      <th>product_id</th>\n",
       "      <th>timestamp</th>\n",
       "    </tr>\n",
       "  </thead>\n",
       "  <tbody>\n",
       "    <tr>\n",
       "      <th>0</th>\n",
       "      <td>3893506</td>\n",
       "      <td>com.gopaktor.subscription.v1.premium.1m</td>\n",
       "      <td>2016-09-07 13:59:45+00:00</td>\n",
       "    </tr>\n",
       "    <tr>\n",
       "      <th>1</th>\n",
       "      <td>3793254</td>\n",
       "      <td>com.gopaktor.subscription.v1.premium.1m</td>\n",
       "      <td>2016-09-25 03:06:11+00:00</td>\n",
       "    </tr>\n",
       "    <tr>\n",
       "      <th>2</th>\n",
       "      <td>6148794</td>\n",
       "      <td>com.gopaktor.subscription.v1.premium.1m</td>\n",
       "      <td>2016-10-01 02:27:37+00:00</td>\n",
       "    </tr>\n",
       "    <tr>\n",
       "      <th>3</th>\n",
       "      <td>6149220</td>\n",
       "      <td>com.gopaktor.subscription.v4.premium.1m</td>\n",
       "      <td>2016-10-01 06:39:16+00:00</td>\n",
       "    </tr>\n",
       "    <tr>\n",
       "      <th>4</th>\n",
       "      <td>6149432</td>\n",
       "      <td>com.gopaktor.subscription.v4.premium.1m</td>\n",
       "      <td>2016-10-01 09:07:49+00:00</td>\n",
       "    </tr>\n",
       "  </tbody>\n",
       "</table>\n",
       "</div>"
      ],
      "text/plain": [
       "   cust_id                               product_id                 timestamp\n",
       "0  3893506  com.gopaktor.subscription.v1.premium.1m 2016-09-07 13:59:45+00:00\n",
       "1  3793254  com.gopaktor.subscription.v1.premium.1m 2016-09-25 03:06:11+00:00\n",
       "2  6148794  com.gopaktor.subscription.v1.premium.1m 2016-10-01 02:27:37+00:00\n",
       "3  6149220  com.gopaktor.subscription.v4.premium.1m 2016-10-01 06:39:16+00:00\n",
       "4  6149432  com.gopaktor.subscription.v4.premium.1m 2016-10-01 09:07:49+00:00"
      ]
     },
     "execution_count": 16,
     "metadata": {},
     "output_type": "execute_result"
    }
   ],
   "source": [
    "trans_table.head()"
   ]
  },
  {
   "cell_type": "code",
   "execution_count": 17,
   "metadata": {
    "collapsed": true
   },
   "outputs": [],
   "source": [
    "cust_prod = trans_table[['cust_id', 'product_id']]"
   ]
  },
  {
   "cell_type": "code",
   "execution_count": 18,
   "metadata": {
    "collapsed": true
   },
   "outputs": [],
   "source": [
    "grp_cust = cust_prod.groupby('cust_id').count().reset_index()"
   ]
  },
  {
   "cell_type": "code",
   "execution_count": 19,
   "metadata": {
    "collapsed": false
   },
   "outputs": [
    {
     "data": {
      "text/html": [
       "<div>\n",
       "<table border=\"1\" class=\"dataframe\">\n",
       "  <thead>\n",
       "    <tr style=\"text-align: right;\">\n",
       "      <th></th>\n",
       "      <th>cust_id</th>\n",
       "      <th>product_id</th>\n",
       "    </tr>\n",
       "  </thead>\n",
       "  <tbody>\n",
       "    <tr>\n",
       "      <th>0</th>\n",
       "      <td>2942914</td>\n",
       "      <td>1</td>\n",
       "    </tr>\n",
       "    <tr>\n",
       "      <th>1</th>\n",
       "      <td>3053432</td>\n",
       "      <td>10</td>\n",
       "    </tr>\n",
       "    <tr>\n",
       "      <th>2</th>\n",
       "      <td>3129800</td>\n",
       "      <td>1</td>\n",
       "    </tr>\n",
       "    <tr>\n",
       "      <th>3</th>\n",
       "      <td>3289765</td>\n",
       "      <td>1</td>\n",
       "    </tr>\n",
       "    <tr>\n",
       "      <th>4</th>\n",
       "      <td>3325662</td>\n",
       "      <td>2</td>\n",
       "    </tr>\n",
       "  </tbody>\n",
       "</table>\n",
       "</div>"
      ],
      "text/plain": [
       "   cust_id  product_id\n",
       "0  2942914           1\n",
       "1  3053432          10\n",
       "2  3129800           1\n",
       "3  3289765           1\n",
       "4  3325662           2"
      ]
     },
     "execution_count": 19,
     "metadata": {},
     "output_type": "execute_result"
    }
   ],
   "source": [
    "grp_cust.head()"
   ]
  },
  {
   "cell_type": "code",
   "execution_count": 20,
   "metadata": {
    "collapsed": true
   },
   "outputs": [],
   "source": [
    "grp_cust.rename(columns={'product_id':'count'}, inplace=True)"
   ]
  },
  {
   "cell_type": "code",
   "execution_count": 21,
   "metadata": {
    "collapsed": false
   },
   "outputs": [
    {
     "data": {
      "text/html": [
       "<div>\n",
       "<table border=\"1\" class=\"dataframe\">\n",
       "  <thead>\n",
       "    <tr style=\"text-align: right;\">\n",
       "      <th></th>\n",
       "      <th>cust_id</th>\n",
       "      <th>count</th>\n",
       "    </tr>\n",
       "  </thead>\n",
       "  <tbody>\n",
       "    <tr>\n",
       "      <th>0</th>\n",
       "      <td>2942914</td>\n",
       "      <td>1</td>\n",
       "    </tr>\n",
       "    <tr>\n",
       "      <th>1</th>\n",
       "      <td>3053432</td>\n",
       "      <td>10</td>\n",
       "    </tr>\n",
       "    <tr>\n",
       "      <th>2</th>\n",
       "      <td>3129800</td>\n",
       "      <td>1</td>\n",
       "    </tr>\n",
       "    <tr>\n",
       "      <th>3</th>\n",
       "      <td>3289765</td>\n",
       "      <td>1</td>\n",
       "    </tr>\n",
       "    <tr>\n",
       "      <th>4</th>\n",
       "      <td>3325662</td>\n",
       "      <td>2</td>\n",
       "    </tr>\n",
       "  </tbody>\n",
       "</table>\n",
       "</div>"
      ],
      "text/plain": [
       "   cust_id  count\n",
       "0  2942914      1\n",
       "1  3053432     10\n",
       "2  3129800      1\n",
       "3  3289765      1\n",
       "4  3325662      2"
      ]
     },
     "execution_count": 21,
     "metadata": {},
     "output_type": "execute_result"
    }
   ],
   "source": [
    "grp_cust.head()"
   ]
  },
  {
   "cell_type": "code",
   "execution_count": null,
   "metadata": {
    "collapsed": false
   },
   "outputs": [],
   "source": [
    "grp_cust.shape"
   ]
  },
  {
   "cell_type": "code",
   "execution_count": 22,
   "metadata": {
    "collapsed": false
   },
   "outputs": [],
   "source": [
    "group_data = trans_table.groupby(['cust_id', 'product_id']).size().reset_index().rename(columns={0:'count'})"
   ]
  },
  {
   "cell_type": "code",
   "execution_count": 23,
   "metadata": {
    "collapsed": false
   },
   "outputs": [
    {
     "data": {
      "text/html": [
       "<div>\n",
       "<table border=\"1\" class=\"dataframe\">\n",
       "  <thead>\n",
       "    <tr style=\"text-align: right;\">\n",
       "      <th></th>\n",
       "      <th>cust_id</th>\n",
       "      <th>product_id</th>\n",
       "      <th>count</th>\n",
       "    </tr>\n",
       "  </thead>\n",
       "  <tbody>\n",
       "    <tr>\n",
       "      <th>0</th>\n",
       "      <td>2942914</td>\n",
       "      <td>com.gopaktor.subscription.v1.premium.1m</td>\n",
       "      <td>1</td>\n",
       "    </tr>\n",
       "    <tr>\n",
       "      <th>1</th>\n",
       "      <td>3053432</td>\n",
       "      <td>com.gopaktor.subscription.v4.premium.1m</td>\n",
       "      <td>10</td>\n",
       "    </tr>\n",
       "    <tr>\n",
       "      <th>2</th>\n",
       "      <td>3129800</td>\n",
       "      <td>com.gopaktor.subscription.v1.premium.1m</td>\n",
       "      <td>1</td>\n",
       "    </tr>\n",
       "    <tr>\n",
       "      <th>3</th>\n",
       "      <td>3289765</td>\n",
       "      <td>com.gopaktor.subscription.v2.premium.6m.2000</td>\n",
       "      <td>1</td>\n",
       "    </tr>\n",
       "    <tr>\n",
       "      <th>4</th>\n",
       "      <td>3325662</td>\n",
       "      <td>com.gopaktor.subscription.v12.premium.1m</td>\n",
       "      <td>2</td>\n",
       "    </tr>\n",
       "  </tbody>\n",
       "</table>\n",
       "</div>"
      ],
      "text/plain": [
       "   cust_id                                    product_id  count\n",
       "0  2942914       com.gopaktor.subscription.v1.premium.1m      1\n",
       "1  3053432       com.gopaktor.subscription.v4.premium.1m     10\n",
       "2  3129800       com.gopaktor.subscription.v1.premium.1m      1\n",
       "3  3289765  com.gopaktor.subscription.v2.premium.6m.2000      1\n",
       "4  3325662      com.gopaktor.subscription.v12.premium.1m      2"
      ]
     },
     "execution_count": 23,
     "metadata": {},
     "output_type": "execute_result"
    }
   ],
   "source": [
    "group_data.head()"
   ]
  },
  {
   "cell_type": "code",
   "execution_count": 24,
   "metadata": {
    "collapsed": false
   },
   "outputs": [
    {
     "data": {
      "text/plain": [
       "(3232, 3)"
      ]
     },
     "execution_count": 24,
     "metadata": {},
     "output_type": "execute_result"
    }
   ],
   "source": [
    "group_data.shape"
   ]
  },
  {
   "cell_type": "code",
   "execution_count": 25,
   "metadata": {
    "collapsed": true
   },
   "outputs": [],
   "source": [
    "repeated_data = group_data.query('count != 1')"
   ]
  },
  {
   "cell_type": "code",
   "execution_count": 26,
   "metadata": {
    "collapsed": false
   },
   "outputs": [
    {
     "data": {
      "text/html": [
       "<div>\n",
       "<table border=\"1\" class=\"dataframe\">\n",
       "  <thead>\n",
       "    <tr style=\"text-align: right;\">\n",
       "      <th></th>\n",
       "      <th>cust_id</th>\n",
       "      <th>product_id</th>\n",
       "      <th>count</th>\n",
       "    </tr>\n",
       "  </thead>\n",
       "  <tbody>\n",
       "    <tr>\n",
       "      <th>1</th>\n",
       "      <td>3053432</td>\n",
       "      <td>com.gopaktor.subscription.v4.premium.1m</td>\n",
       "      <td>10</td>\n",
       "    </tr>\n",
       "    <tr>\n",
       "      <th>4</th>\n",
       "      <td>3325662</td>\n",
       "      <td>com.gopaktor.subscription.v12.premium.1m</td>\n",
       "      <td>2</td>\n",
       "    </tr>\n",
       "    <tr>\n",
       "      <th>5</th>\n",
       "      <td>3409109</td>\n",
       "      <td>com.gopaktor.subscription.v12.premium.1m</td>\n",
       "      <td>2</td>\n",
       "    </tr>\n",
       "    <tr>\n",
       "      <th>6</th>\n",
       "      <td>3793254</td>\n",
       "      <td>com.gopaktor.subscription.v1.premium.1m</td>\n",
       "      <td>4</td>\n",
       "    </tr>\n",
       "    <tr>\n",
       "      <th>7</th>\n",
       "      <td>3893506</td>\n",
       "      <td>com.gopaktor.subscription.v1.premium.1m</td>\n",
       "      <td>4</td>\n",
       "    </tr>\n",
       "  </tbody>\n",
       "</table>\n",
       "</div>"
      ],
      "text/plain": [
       "   cust_id                                product_id  count\n",
       "1  3053432   com.gopaktor.subscription.v4.premium.1m     10\n",
       "4  3325662  com.gopaktor.subscription.v12.premium.1m      2\n",
       "5  3409109  com.gopaktor.subscription.v12.premium.1m      2\n",
       "6  3793254   com.gopaktor.subscription.v1.premium.1m      4\n",
       "7  3893506   com.gopaktor.subscription.v1.premium.1m      4"
      ]
     },
     "execution_count": 26,
     "metadata": {},
     "output_type": "execute_result"
    }
   ],
   "source": [
    "repeated_data.head()"
   ]
  },
  {
   "cell_type": "code",
   "execution_count": 27,
   "metadata": {
    "collapsed": false
   },
   "outputs": [
    {
     "data": {
      "text/plain": [
       "796"
      ]
     },
     "execution_count": 27,
     "metadata": {},
     "output_type": "execute_result"
    }
   ],
   "source": [
    "len(repeated_data.cust_id.unique())"
   ]
  },
  {
   "cell_type": "code",
   "execution_count": 28,
   "metadata": {
    "collapsed": false
   },
   "outputs": [
    {
     "data": {
      "text/plain": [
       "9"
      ]
     },
     "execution_count": 28,
     "metadata": {},
     "output_type": "execute_result"
    }
   ],
   "source": [
    "len(repeated_data.product_id.unique())"
   ]
  },
  {
   "cell_type": "code",
   "execution_count": 29,
   "metadata": {
    "collapsed": false
   },
   "outputs": [
    {
     "data": {
      "text/html": [
       "<div>\n",
       "<table border=\"1\" class=\"dataframe\">\n",
       "  <thead>\n",
       "    <tr style=\"text-align: right;\">\n",
       "      <th></th>\n",
       "      <th>cust_id</th>\n",
       "      <th>product_id</th>\n",
       "      <th>count</th>\n",
       "    </tr>\n",
       "  </thead>\n",
       "  <tbody>\n",
       "    <tr>\n",
       "      <th>1</th>\n",
       "      <td>3053432</td>\n",
       "      <td>com.gopaktor.subscription.v4.premium.1m</td>\n",
       "      <td>10</td>\n",
       "    </tr>\n",
       "    <tr>\n",
       "      <th>4</th>\n",
       "      <td>3325662</td>\n",
       "      <td>com.gopaktor.subscription.v12.premium.1m</td>\n",
       "      <td>2</td>\n",
       "    </tr>\n",
       "    <tr>\n",
       "      <th>5</th>\n",
       "      <td>3409109</td>\n",
       "      <td>com.gopaktor.subscription.v12.premium.1m</td>\n",
       "      <td>2</td>\n",
       "    </tr>\n",
       "    <tr>\n",
       "      <th>6</th>\n",
       "      <td>3793254</td>\n",
       "      <td>com.gopaktor.subscription.v1.premium.1m</td>\n",
       "      <td>4</td>\n",
       "    </tr>\n",
       "    <tr>\n",
       "      <th>7</th>\n",
       "      <td>3893506</td>\n",
       "      <td>com.gopaktor.subscription.v1.premium.1m</td>\n",
       "      <td>4</td>\n",
       "    </tr>\n",
       "  </tbody>\n",
       "</table>\n",
       "</div>"
      ],
      "text/plain": [
       "   cust_id                                product_id  count\n",
       "1  3053432   com.gopaktor.subscription.v4.premium.1m     10\n",
       "4  3325662  com.gopaktor.subscription.v12.premium.1m      2\n",
       "5  3409109  com.gopaktor.subscription.v12.premium.1m      2\n",
       "6  3793254   com.gopaktor.subscription.v1.premium.1m      4\n",
       "7  3893506   com.gopaktor.subscription.v1.premium.1m      4"
      ]
     },
     "execution_count": 29,
     "metadata": {},
     "output_type": "execute_result"
    }
   ],
   "source": [
    "repeated_data.head()"
   ]
  },
  {
   "cell_type": "code",
   "execution_count": 30,
   "metadata": {
    "collapsed": false
   },
   "outputs": [
    {
     "data": {
      "text/html": [
       "<div>\n",
       "<table border=\"1\" class=\"dataframe\">\n",
       "  <thead>\n",
       "    <tr style=\"text-align: right;\">\n",
       "      <th></th>\n",
       "      <th>cust_id</th>\n",
       "      <th>product_id</th>\n",
       "      <th>timestamp</th>\n",
       "    </tr>\n",
       "  </thead>\n",
       "  <tbody>\n",
       "    <tr>\n",
       "      <th>0</th>\n",
       "      <td>3893506</td>\n",
       "      <td>com.gopaktor.subscription.v1.premium.1m</td>\n",
       "      <td>2016-09-07 13:59:45+00:00</td>\n",
       "    </tr>\n",
       "    <tr>\n",
       "      <th>1</th>\n",
       "      <td>3793254</td>\n",
       "      <td>com.gopaktor.subscription.v1.premium.1m</td>\n",
       "      <td>2016-09-25 03:06:11+00:00</td>\n",
       "    </tr>\n",
       "    <tr>\n",
       "      <th>2</th>\n",
       "      <td>6148794</td>\n",
       "      <td>com.gopaktor.subscription.v1.premium.1m</td>\n",
       "      <td>2016-10-01 02:27:37+00:00</td>\n",
       "    </tr>\n",
       "    <tr>\n",
       "      <th>3</th>\n",
       "      <td>6149220</td>\n",
       "      <td>com.gopaktor.subscription.v4.premium.1m</td>\n",
       "      <td>2016-10-01 06:39:16+00:00</td>\n",
       "    </tr>\n",
       "    <tr>\n",
       "      <th>4</th>\n",
       "      <td>6149432</td>\n",
       "      <td>com.gopaktor.subscription.v4.premium.1m</td>\n",
       "      <td>2016-10-01 09:07:49+00:00</td>\n",
       "    </tr>\n",
       "  </tbody>\n",
       "</table>\n",
       "</div>"
      ],
      "text/plain": [
       "   cust_id                               product_id                 timestamp\n",
       "0  3893506  com.gopaktor.subscription.v1.premium.1m 2016-09-07 13:59:45+00:00\n",
       "1  3793254  com.gopaktor.subscription.v1.premium.1m 2016-09-25 03:06:11+00:00\n",
       "2  6148794  com.gopaktor.subscription.v1.premium.1m 2016-10-01 02:27:37+00:00\n",
       "3  6149220  com.gopaktor.subscription.v4.premium.1m 2016-10-01 06:39:16+00:00\n",
       "4  6149432  com.gopaktor.subscription.v4.premium.1m 2016-10-01 09:07:49+00:00"
      ]
     },
     "execution_count": 30,
     "metadata": {},
     "output_type": "execute_result"
    }
   ],
   "source": [
    "trans_table.head()"
   ]
  },
  {
   "cell_type": "code",
   "execution_count": 31,
   "metadata": {
    "collapsed": false
   },
   "outputs": [],
   "source": [
    "xyz = pd.merge(trans_table, repeated_data, on=['cust_id', 'product_id'], how='left')"
   ]
  },
  {
   "cell_type": "code",
   "execution_count": 32,
   "metadata": {
    "collapsed": false
   },
   "outputs": [
    {
     "data": {
      "text/html": [
       "<div>\n",
       "<table border=\"1\" class=\"dataframe\">\n",
       "  <thead>\n",
       "    <tr style=\"text-align: right;\">\n",
       "      <th></th>\n",
       "      <th>cust_id</th>\n",
       "      <th>product_id</th>\n",
       "      <th>timestamp</th>\n",
       "      <th>count</th>\n",
       "    </tr>\n",
       "  </thead>\n",
       "  <tbody>\n",
       "    <tr>\n",
       "      <th>0</th>\n",
       "      <td>3893506</td>\n",
       "      <td>com.gopaktor.subscription.v1.premium.1m</td>\n",
       "      <td>2016-09-07 13:59:45+00:00</td>\n",
       "      <td>4.0</td>\n",
       "    </tr>\n",
       "    <tr>\n",
       "      <th>1</th>\n",
       "      <td>3793254</td>\n",
       "      <td>com.gopaktor.subscription.v1.premium.1m</td>\n",
       "      <td>2016-09-25 03:06:11+00:00</td>\n",
       "      <td>4.0</td>\n",
       "    </tr>\n",
       "    <tr>\n",
       "      <th>2</th>\n",
       "      <td>6148794</td>\n",
       "      <td>com.gopaktor.subscription.v1.premium.1m</td>\n",
       "      <td>2016-10-01 02:27:37+00:00</td>\n",
       "      <td>NaN</td>\n",
       "    </tr>\n",
       "    <tr>\n",
       "      <th>3</th>\n",
       "      <td>6149220</td>\n",
       "      <td>com.gopaktor.subscription.v4.premium.1m</td>\n",
       "      <td>2016-10-01 06:39:16+00:00</td>\n",
       "      <td>NaN</td>\n",
       "    </tr>\n",
       "    <tr>\n",
       "      <th>4</th>\n",
       "      <td>6149432</td>\n",
       "      <td>com.gopaktor.subscription.v4.premium.1m</td>\n",
       "      <td>2016-10-01 09:07:49+00:00</td>\n",
       "      <td>NaN</td>\n",
       "    </tr>\n",
       "  </tbody>\n",
       "</table>\n",
       "</div>"
      ],
      "text/plain": [
       "   cust_id                               product_id                 timestamp  \\\n",
       "0  3893506  com.gopaktor.subscription.v1.premium.1m 2016-09-07 13:59:45+00:00   \n",
       "1  3793254  com.gopaktor.subscription.v1.premium.1m 2016-09-25 03:06:11+00:00   \n",
       "2  6148794  com.gopaktor.subscription.v1.premium.1m 2016-10-01 02:27:37+00:00   \n",
       "3  6149220  com.gopaktor.subscription.v4.premium.1m 2016-10-01 06:39:16+00:00   \n",
       "4  6149432  com.gopaktor.subscription.v4.premium.1m 2016-10-01 09:07:49+00:00   \n",
       "\n",
       "   count  \n",
       "0    4.0  \n",
       "1    4.0  \n",
       "2    NaN  \n",
       "3    NaN  \n",
       "4    NaN  "
      ]
     },
     "execution_count": 32,
     "metadata": {},
     "output_type": "execute_result"
    }
   ],
   "source": [
    "xyz.head()"
   ]
  },
  {
   "cell_type": "code",
   "execution_count": 33,
   "metadata": {
    "collapsed": false
   },
   "outputs": [
    {
     "data": {
      "text/plain": [
       "(4428, 4)"
      ]
     },
     "execution_count": 33,
     "metadata": {},
     "output_type": "execute_result"
    }
   ],
   "source": [
    "xyz.shape"
   ]
  },
  {
   "cell_type": "code",
   "execution_count": 34,
   "metadata": {
    "collapsed": false
   },
   "outputs": [
    {
     "data": {
      "text/plain": [
       "3087"
      ]
     },
     "execution_count": 34,
     "metadata": {},
     "output_type": "execute_result"
    }
   ],
   "source": [
    "len(xyz.cust_id.unique())"
   ]
  },
  {
   "cell_type": "code",
   "execution_count": 35,
   "metadata": {
    "collapsed": false
   },
   "outputs": [
    {
     "data": {
      "text/plain": [
       "18"
      ]
     },
     "execution_count": 35,
     "metadata": {},
     "output_type": "execute_result"
    }
   ],
   "source": [
    "len(xyz.product_id.unique())"
   ]
  },
  {
   "cell_type": "code",
   "execution_count": 51,
   "metadata": {
    "collapsed": false
   },
   "outputs": [],
   "source": [
    "def x(frame):\n",
    "    frame['time'] = frame['timestamp'].max() - frame['timestamp'].min()\n",
    "    return frame"
   ]
  },
  {
   "cell_type": "code",
   "execution_count": 52,
   "metadata": {
    "collapsed": false
   },
   "outputs": [],
   "source": [
    "dates = xyz.groupby(['cust_id','product_id'], group_keys=False).apply(x)"
   ]
  },
  {
   "cell_type": "code",
   "execution_count": 53,
   "metadata": {
    "collapsed": false
   },
   "outputs": [
    {
     "data": {
      "text/html": [
       "<div>\n",
       "<table border=\"1\" class=\"dataframe\">\n",
       "  <thead>\n",
       "    <tr style=\"text-align: right;\">\n",
       "      <th></th>\n",
       "      <th>cust_id</th>\n",
       "      <th>product_id</th>\n",
       "      <th>timestamp</th>\n",
       "      <th>count</th>\n",
       "      <th>time</th>\n",
       "    </tr>\n",
       "  </thead>\n",
       "  <tbody>\n",
       "    <tr>\n",
       "      <th>0</th>\n",
       "      <td>3893506</td>\n",
       "      <td>com.gopaktor.subscription.v1.premium.1m</td>\n",
       "      <td>2016-09-07 13:59:45+00:00</td>\n",
       "      <td>4.0</td>\n",
       "      <td>91 days 01:00:00</td>\n",
       "    </tr>\n",
       "    <tr>\n",
       "      <th>1</th>\n",
       "      <td>3793254</td>\n",
       "      <td>com.gopaktor.subscription.v1.premium.1m</td>\n",
       "      <td>2016-09-25 03:06:11+00:00</td>\n",
       "      <td>4.0</td>\n",
       "      <td>91 days 01:00:00</td>\n",
       "    </tr>\n",
       "    <tr>\n",
       "      <th>2</th>\n",
       "      <td>6148794</td>\n",
       "      <td>com.gopaktor.subscription.v1.premium.1m</td>\n",
       "      <td>2016-10-01 02:27:37+00:00</td>\n",
       "      <td>NaN</td>\n",
       "      <td>0 days 00:00:00</td>\n",
       "    </tr>\n",
       "    <tr>\n",
       "      <th>3</th>\n",
       "      <td>6149220</td>\n",
       "      <td>com.gopaktor.subscription.v4.premium.1m</td>\n",
       "      <td>2016-10-01 06:39:16+00:00</td>\n",
       "      <td>NaN</td>\n",
       "      <td>0 days 00:00:00</td>\n",
       "    </tr>\n",
       "    <tr>\n",
       "      <th>4</th>\n",
       "      <td>6149432</td>\n",
       "      <td>com.gopaktor.subscription.v4.premium.1m</td>\n",
       "      <td>2016-10-01 09:07:49+00:00</td>\n",
       "      <td>NaN</td>\n",
       "      <td>0 days 00:00:00</td>\n",
       "    </tr>\n",
       "  </tbody>\n",
       "</table>\n",
       "</div>"
      ],
      "text/plain": [
       "   cust_id                               product_id                 timestamp  \\\n",
       "0  3893506  com.gopaktor.subscription.v1.premium.1m 2016-09-07 13:59:45+00:00   \n",
       "1  3793254  com.gopaktor.subscription.v1.premium.1m 2016-09-25 03:06:11+00:00   \n",
       "2  6148794  com.gopaktor.subscription.v1.premium.1m 2016-10-01 02:27:37+00:00   \n",
       "3  6149220  com.gopaktor.subscription.v4.premium.1m 2016-10-01 06:39:16+00:00   \n",
       "4  6149432  com.gopaktor.subscription.v4.premium.1m 2016-10-01 09:07:49+00:00   \n",
       "\n",
       "   count             time  \n",
       "0    4.0 91 days 01:00:00  \n",
       "1    4.0 91 days 01:00:00  \n",
       "2    NaN  0 days 00:00:00  \n",
       "3    NaN  0 days 00:00:00  \n",
       "4    NaN  0 days 00:00:00  "
      ]
     },
     "execution_count": 53,
     "metadata": {},
     "output_type": "execute_result"
    }
   ],
   "source": [
    "dates.head()"
   ]
  },
  {
   "cell_type": "code",
   "execution_count": 55,
   "metadata": {
    "collapsed": true
   },
   "outputs": [],
   "source": [
    "cust_repur = dates"
   ]
  },
  {
   "cell_type": "code",
   "execution_count": 57,
   "metadata": {
    "collapsed": false
   },
   "outputs": [
    {
     "data": {
      "text/html": [
       "<div>\n",
       "<table border=\"1\" class=\"dataframe\">\n",
       "  <thead>\n",
       "    <tr style=\"text-align: right;\">\n",
       "      <th></th>\n",
       "      <th>cust_id</th>\n",
       "      <th>product_id</th>\n",
       "      <th>timestamp</th>\n",
       "      <th>count</th>\n",
       "      <th>time</th>\n",
       "    </tr>\n",
       "  </thead>\n",
       "  <tbody>\n",
       "    <tr>\n",
       "      <th>0</th>\n",
       "      <td>3893506</td>\n",
       "      <td>com.gopaktor.subscription.v1.premium.1m</td>\n",
       "      <td>2016-09-07 13:59:45+00:00</td>\n",
       "      <td>4.0</td>\n",
       "      <td>91 days 01:00:00</td>\n",
       "    </tr>\n",
       "    <tr>\n",
       "      <th>1</th>\n",
       "      <td>3793254</td>\n",
       "      <td>com.gopaktor.subscription.v1.premium.1m</td>\n",
       "      <td>2016-09-25 03:06:11+00:00</td>\n",
       "      <td>4.0</td>\n",
       "      <td>91 days 01:00:00</td>\n",
       "    </tr>\n",
       "    <tr>\n",
       "      <th>2</th>\n",
       "      <td>6148794</td>\n",
       "      <td>com.gopaktor.subscription.v1.premium.1m</td>\n",
       "      <td>2016-10-01 02:27:37+00:00</td>\n",
       "      <td>NaN</td>\n",
       "      <td>0 days 00:00:00</td>\n",
       "    </tr>\n",
       "    <tr>\n",
       "      <th>3</th>\n",
       "      <td>6149220</td>\n",
       "      <td>com.gopaktor.subscription.v4.premium.1m</td>\n",
       "      <td>2016-10-01 06:39:16+00:00</td>\n",
       "      <td>NaN</td>\n",
       "      <td>0 days 00:00:00</td>\n",
       "    </tr>\n",
       "    <tr>\n",
       "      <th>4</th>\n",
       "      <td>6149432</td>\n",
       "      <td>com.gopaktor.subscription.v4.premium.1m</td>\n",
       "      <td>2016-10-01 09:07:49+00:00</td>\n",
       "      <td>NaN</td>\n",
       "      <td>0 days 00:00:00</td>\n",
       "    </tr>\n",
       "  </tbody>\n",
       "</table>\n",
       "</div>"
      ],
      "text/plain": [
       "   cust_id                               product_id                 timestamp  \\\n",
       "0  3893506  com.gopaktor.subscription.v1.premium.1m 2016-09-07 13:59:45+00:00   \n",
       "1  3793254  com.gopaktor.subscription.v1.premium.1m 2016-09-25 03:06:11+00:00   \n",
       "2  6148794  com.gopaktor.subscription.v1.premium.1m 2016-10-01 02:27:37+00:00   \n",
       "3  6149220  com.gopaktor.subscription.v4.premium.1m 2016-10-01 06:39:16+00:00   \n",
       "4  6149432  com.gopaktor.subscription.v4.premium.1m 2016-10-01 09:07:49+00:00   \n",
       "\n",
       "   count             time  \n",
       "0    4.0 91 days 01:00:00  \n",
       "1    4.0 91 days 01:00:00  \n",
       "2    NaN  0 days 00:00:00  \n",
       "3    NaN  0 days 00:00:00  \n",
       "4    NaN  0 days 00:00:00  "
      ]
     },
     "execution_count": 57,
     "metadata": {},
     "output_type": "execute_result"
    }
   ],
   "source": [
    "cust_repur.head()"
   ]
  },
  {
   "cell_type": "code",
   "execution_count": 58,
   "metadata": {
    "collapsed": false
   },
   "outputs": [
    {
     "data": {
      "text/plain": [
       "(4428, 5)"
      ]
     },
     "execution_count": 58,
     "metadata": {},
     "output_type": "execute_result"
    }
   ],
   "source": [
    "cust_repur.shape"
   ]
  },
  {
   "cell_type": "code",
   "execution_count": 59,
   "metadata": {
    "collapsed": false
   },
   "outputs": [
    {
     "data": {
      "text/plain": [
       "18"
      ]
     },
     "execution_count": 59,
     "metadata": {},
     "output_type": "execute_result"
    }
   ],
   "source": [
    "len(cust_repur.product_id.unique())"
   ]
  },
  {
   "cell_type": "code",
   "execution_count": 60,
   "metadata": {
    "collapsed": false
   },
   "outputs": [],
   "source": [
    "cust_repur.reset_index(drop=True, inplace=True)"
   ]
  },
  {
   "cell_type": "code",
   "execution_count": 61,
   "metadata": {
    "collapsed": false
   },
   "outputs": [
    {
     "data": {
      "text/html": [
       "<div>\n",
       "<table border=\"1\" class=\"dataframe\">\n",
       "  <thead>\n",
       "    <tr style=\"text-align: right;\">\n",
       "      <th></th>\n",
       "      <th>cust_id</th>\n",
       "      <th>product_id</th>\n",
       "      <th>timestamp</th>\n",
       "      <th>count</th>\n",
       "      <th>time</th>\n",
       "    </tr>\n",
       "  </thead>\n",
       "  <tbody>\n",
       "    <tr>\n",
       "      <th>0</th>\n",
       "      <td>3893506</td>\n",
       "      <td>com.gopaktor.subscription.v1.premium.1m</td>\n",
       "      <td>2016-09-07 13:59:45+00:00</td>\n",
       "      <td>4.0</td>\n",
       "      <td>91 days 01:00:00</td>\n",
       "    </tr>\n",
       "    <tr>\n",
       "      <th>1</th>\n",
       "      <td>3793254</td>\n",
       "      <td>com.gopaktor.subscription.v1.premium.1m</td>\n",
       "      <td>2016-09-25 03:06:11+00:00</td>\n",
       "      <td>4.0</td>\n",
       "      <td>91 days 01:00:00</td>\n",
       "    </tr>\n",
       "    <tr>\n",
       "      <th>2</th>\n",
       "      <td>6148794</td>\n",
       "      <td>com.gopaktor.subscription.v1.premium.1m</td>\n",
       "      <td>2016-10-01 02:27:37+00:00</td>\n",
       "      <td>NaN</td>\n",
       "      <td>0 days 00:00:00</td>\n",
       "    </tr>\n",
       "    <tr>\n",
       "      <th>3</th>\n",
       "      <td>6149220</td>\n",
       "      <td>com.gopaktor.subscription.v4.premium.1m</td>\n",
       "      <td>2016-10-01 06:39:16+00:00</td>\n",
       "      <td>NaN</td>\n",
       "      <td>0 days 00:00:00</td>\n",
       "    </tr>\n",
       "    <tr>\n",
       "      <th>4</th>\n",
       "      <td>6149432</td>\n",
       "      <td>com.gopaktor.subscription.v4.premium.1m</td>\n",
       "      <td>2016-10-01 09:07:49+00:00</td>\n",
       "      <td>NaN</td>\n",
       "      <td>0 days 00:00:00</td>\n",
       "    </tr>\n",
       "  </tbody>\n",
       "</table>\n",
       "</div>"
      ],
      "text/plain": [
       "   cust_id                               product_id                 timestamp  \\\n",
       "0  3893506  com.gopaktor.subscription.v1.premium.1m 2016-09-07 13:59:45+00:00   \n",
       "1  3793254  com.gopaktor.subscription.v1.premium.1m 2016-09-25 03:06:11+00:00   \n",
       "2  6148794  com.gopaktor.subscription.v1.premium.1m 2016-10-01 02:27:37+00:00   \n",
       "3  6149220  com.gopaktor.subscription.v4.premium.1m 2016-10-01 06:39:16+00:00   \n",
       "4  6149432  com.gopaktor.subscription.v4.premium.1m 2016-10-01 09:07:49+00:00   \n",
       "\n",
       "   count             time  \n",
       "0    4.0 91 days 01:00:00  \n",
       "1    4.0 91 days 01:00:00  \n",
       "2    NaN  0 days 00:00:00  \n",
       "3    NaN  0 days 00:00:00  \n",
       "4    NaN  0 days 00:00:00  "
      ]
     },
     "execution_count": 61,
     "metadata": {},
     "output_type": "execute_result"
    }
   ],
   "source": [
    "cust_repur.head()"
   ]
  },
  {
   "cell_type": "code",
   "execution_count": 130,
   "metadata": {
    "collapsed": false
   },
   "outputs": [],
   "source": [
    "kkkk = cust_repur.groupby(['cust_id', 'product_id'])['timestamp'].max()"
   ]
  },
  {
   "cell_type": "code",
   "execution_count": 132,
   "metadata": {
    "collapsed": false
   },
   "outputs": [],
   "source": [
    "kk = kkkk.to_frame().reset_index()"
   ]
  },
  {
   "cell_type": "code",
   "execution_count": 133,
   "metadata": {
    "collapsed": false
   },
   "outputs": [
    {
     "data": {
      "text/html": [
       "<div>\n",
       "<table border=\"1\" class=\"dataframe\">\n",
       "  <thead>\n",
       "    <tr style=\"text-align: right;\">\n",
       "      <th></th>\n",
       "      <th>cust_id</th>\n",
       "      <th>product_id</th>\n",
       "      <th>timestamp</th>\n",
       "    </tr>\n",
       "  </thead>\n",
       "  <tbody>\n",
       "    <tr>\n",
       "      <th>0</th>\n",
       "      <td>2942914</td>\n",
       "      <td>com.gopaktor.subscription.v1.premium.1m</td>\n",
       "      <td>2016-12-24 09:53:35+00:00</td>\n",
       "    </tr>\n",
       "    <tr>\n",
       "      <th>1</th>\n",
       "      <td>3053432</td>\n",
       "      <td>com.gopaktor.subscription.v4.premium.1m</td>\n",
       "      <td>2017-01-26 06:22:00+00:00</td>\n",
       "    </tr>\n",
       "    <tr>\n",
       "      <th>2</th>\n",
       "      <td>3129800</td>\n",
       "      <td>com.gopaktor.subscription.v1.premium.1m</td>\n",
       "      <td>2016-12-09 07:57:37+00:00</td>\n",
       "    </tr>\n",
       "    <tr>\n",
       "      <th>3</th>\n",
       "      <td>3289765</td>\n",
       "      <td>com.gopaktor.subscription.v2.premium.6m.2000</td>\n",
       "      <td>2016-12-06 11:37:37+00:00</td>\n",
       "    </tr>\n",
       "    <tr>\n",
       "      <th>4</th>\n",
       "      <td>3325662</td>\n",
       "      <td>com.gopaktor.subscription.v12.premium.1m</td>\n",
       "      <td>2016-12-03 04:36:00+00:00</td>\n",
       "    </tr>\n",
       "  </tbody>\n",
       "</table>\n",
       "</div>"
      ],
      "text/plain": [
       "   cust_id                                    product_id  \\\n",
       "0  2942914       com.gopaktor.subscription.v1.premium.1m   \n",
       "1  3053432       com.gopaktor.subscription.v4.premium.1m   \n",
       "2  3129800       com.gopaktor.subscription.v1.premium.1m   \n",
       "3  3289765  com.gopaktor.subscription.v2.premium.6m.2000   \n",
       "4  3325662      com.gopaktor.subscription.v12.premium.1m   \n",
       "\n",
       "                  timestamp  \n",
       "0 2016-12-24 09:53:35+00:00  \n",
       "1 2017-01-26 06:22:00+00:00  \n",
       "2 2016-12-09 07:57:37+00:00  \n",
       "3 2016-12-06 11:37:37+00:00  \n",
       "4 2016-12-03 04:36:00+00:00  "
      ]
     },
     "execution_count": 133,
     "metadata": {},
     "output_type": "execute_result"
    }
   ],
   "source": [
    "kk.head()"
   ]
  },
  {
   "cell_type": "code",
   "execution_count": 126,
   "metadata": {
    "collapsed": false
   },
   "outputs": [
    {
     "data": {
      "text/plain": [
       "(3232, 3)"
      ]
     },
     "execution_count": 126,
     "metadata": {},
     "output_type": "execute_result"
    }
   ],
   "source": [
    "kk.shape"
   ]
  },
  {
   "cell_type": "code",
   "execution_count": 62,
   "metadata": {
    "collapsed": true
   },
   "outputs": [],
   "source": [
    "list_of_indexes = [np.argmax(g['timestamp']) for l, g in cust_repur.groupby(['cust_id','product_id'])]"
   ]
  },
  {
   "cell_type": "code",
   "execution_count": 179,
   "metadata": {
    "collapsed": false
   },
   "outputs": [],
   "source": [
    "cust_repur_original = cust_repur.ix[list_of_indexes]"
   ]
  },
  {
   "cell_type": "code",
   "execution_count": 180,
   "metadata": {
    "collapsed": false
   },
   "outputs": [
    {
     "data": {
      "text/html": [
       "<div>\n",
       "<table border=\"1\" class=\"dataframe\">\n",
       "  <thead>\n",
       "    <tr style=\"text-align: right;\">\n",
       "      <th></th>\n",
       "      <th>cust_id</th>\n",
       "      <th>product_id</th>\n",
       "      <th>timestamp</th>\n",
       "      <th>count</th>\n",
       "      <th>time</th>\n",
       "    </tr>\n",
       "  </thead>\n",
       "  <tbody>\n",
       "    <tr>\n",
       "      <th>2790</th>\n",
       "      <td>2942914</td>\n",
       "      <td>com.gopaktor.subscription.v1.premium.1m</td>\n",
       "      <td>2016-12-24 09:53:35+00:00</td>\n",
       "      <td>NaN</td>\n",
       "      <td>0 days 00:00:00</td>\n",
       "    </tr>\n",
       "    <tr>\n",
       "      <th>3556</th>\n",
       "      <td>3053432</td>\n",
       "      <td>com.gopaktor.subscription.v4.premium.1m</td>\n",
       "      <td>2017-01-26 06:22:00+00:00</td>\n",
       "      <td>10.0</td>\n",
       "      <td>245 days 01:54:56</td>\n",
       "    </tr>\n",
       "    <tr>\n",
       "      <th>2529</th>\n",
       "      <td>3129800</td>\n",
       "      <td>com.gopaktor.subscription.v1.premium.1m</td>\n",
       "      <td>2016-12-09 07:57:37+00:00</td>\n",
       "      <td>NaN</td>\n",
       "      <td>0 days 00:00:00</td>\n",
       "    </tr>\n",
       "    <tr>\n",
       "      <th>1308</th>\n",
       "      <td>3289765</td>\n",
       "      <td>com.gopaktor.subscription.v2.premium.6m.2000</td>\n",
       "      <td>2016-12-06 11:37:37+00:00</td>\n",
       "      <td>NaN</td>\n",
       "      <td>0 days 00:00:00</td>\n",
       "    </tr>\n",
       "    <tr>\n",
       "      <th>2411</th>\n",
       "      <td>3325662</td>\n",
       "      <td>com.gopaktor.subscription.v12.premium.1m</td>\n",
       "      <td>2016-12-03 04:36:00+00:00</td>\n",
       "      <td>2.0</td>\n",
       "      <td>31 days 01:49:48</td>\n",
       "    </tr>\n",
       "  </tbody>\n",
       "</table>\n",
       "</div>"
      ],
      "text/plain": [
       "      cust_id                                    product_id  \\\n",
       "2790  2942914       com.gopaktor.subscription.v1.premium.1m   \n",
       "3556  3053432       com.gopaktor.subscription.v4.premium.1m   \n",
       "2529  3129800       com.gopaktor.subscription.v1.premium.1m   \n",
       "1308  3289765  com.gopaktor.subscription.v2.premium.6m.2000   \n",
       "2411  3325662      com.gopaktor.subscription.v12.premium.1m   \n",
       "\n",
       "                     timestamp  count              time  \n",
       "2790 2016-12-24 09:53:35+00:00    NaN   0 days 00:00:00  \n",
       "3556 2017-01-26 06:22:00+00:00   10.0 245 days 01:54:56  \n",
       "2529 2016-12-09 07:57:37+00:00    NaN   0 days 00:00:00  \n",
       "1308 2016-12-06 11:37:37+00:00    NaN   0 days 00:00:00  \n",
       "2411 2016-12-03 04:36:00+00:00    2.0  31 days 01:49:48  "
      ]
     },
     "execution_count": 180,
     "metadata": {},
     "output_type": "execute_result"
    }
   ],
   "source": [
    "cust_repur_original.head()"
   ]
  },
  {
   "cell_type": "code",
   "execution_count": 183,
   "metadata": {
    "collapsed": true
   },
   "outputs": [
    {
     "data": {
      "text/plain": [
       "2790    2016-12-24\n",
       "3556    2017-01-26\n",
       "2529    2016-12-09\n",
       "1308    2016-12-06\n",
       "2411    2016-12-03\n",
       "3697    2016-12-30\n",
       "1949    2016-12-25\n",
       "2504    2016-12-07\n",
       "2577    2016-12-12\n",
       "868     2016-11-15\n",
       "2       2016-10-01\n",
       "3264    2017-01-17\n",
       "1732    2016-11-05\n",
       "213     2016-10-01\n",
       "2196    2016-11-22\n",
       "3       2016-10-01\n",
       "17      2016-10-02\n",
       "3550    2017-02-01\n",
       "556     2016-11-02\n",
       "58      2016-10-07\n",
       "1603    2016-11-02\n",
       "4       2016-10-01\n",
       "5       2016-10-01\n",
       "1861    2016-11-09\n",
       "1602    2016-11-02\n",
       "2019    2016-11-14\n",
       "237     2016-10-04\n",
       "1245    2016-12-06\n",
       "8       2016-10-01\n",
       "1285    2016-12-08\n",
       "           ...    \n",
       "4386    2017-02-03\n",
       "4391    2017-02-03\n",
       "3627    2017-02-03\n",
       "4390    2017-02-03\n",
       "3634    2017-02-04\n",
       "4395    2017-02-04\n",
       "3638    2017-02-04\n",
       "4397    2017-02-04\n",
       "3656    2017-02-04\n",
       "4398    2017-02-04\n",
       "3644    2017-02-04\n",
       "3646    2017-02-04\n",
       "3648    2017-02-04\n",
       "3650    2017-02-04\n",
       "4405    2017-02-04\n",
       "4410    2017-02-05\n",
       "4412    2017-02-05\n",
       "4416    2017-02-05\n",
       "3658    2017-02-05\n",
       "3659    2017-02-05\n",
       "3661    2017-02-05\n",
       "3663    2017-02-05\n",
       "3664    2017-02-05\n",
       "4418    2017-02-05\n",
       "3666    2017-02-05\n",
       "3668    2017-02-05\n",
       "4421    2017-02-05\n",
       "4422    2017-02-05\n",
       "3676    2017-02-06\n",
       "3679    2017-02-06\n",
       "Name: timestamp, dtype: object"
      ]
     },
     "execution_count": 183,
     "metadata": {},
     "output_type": "execute_result"
    }
   ],
   "source": [
    "cust_repur_original[\"timestamp\"].dt.date"
   ]
  },
  {
   "cell_type": "code",
   "execution_count": null,
   "metadata": {
    "collapsed": true
   },
   "outputs": [],
   "source": []
  },
  {
   "cell_type": "code",
   "execution_count": 108,
   "metadata": {
    "collapsed": false
   },
   "outputs": [
    {
     "data": {
      "text/plain": [
       "(3232, 8)"
      ]
     },
     "execution_count": 108,
     "metadata": {},
     "output_type": "execute_result"
    }
   ],
   "source": [
    "cust_repur_original.shape"
   ]
  },
  {
   "cell_type": "code",
   "execution_count": 65,
   "metadata": {
    "collapsed": true
   },
   "outputs": [],
   "source": [
    "cust_repur_original.reset_index(drop=True,inplace=True)"
   ]
  },
  {
   "cell_type": "code",
   "execution_count": 66,
   "metadata": {
    "collapsed": false
   },
   "outputs": [
    {
     "data": {
      "text/html": [
       "<div>\n",
       "<table border=\"1\" class=\"dataframe\">\n",
       "  <thead>\n",
       "    <tr style=\"text-align: right;\">\n",
       "      <th></th>\n",
       "      <th>cust_id</th>\n",
       "      <th>product_id</th>\n",
       "      <th>timestamp</th>\n",
       "      <th>count</th>\n",
       "      <th>time</th>\n",
       "    </tr>\n",
       "  </thead>\n",
       "  <tbody>\n",
       "    <tr>\n",
       "      <th>0</th>\n",
       "      <td>2942914</td>\n",
       "      <td>com.gopaktor.subscription.v1.premium.1m</td>\n",
       "      <td>2016-12-24 09:53:35+00:00</td>\n",
       "      <td>NaN</td>\n",
       "      <td>0 days 00:00:00</td>\n",
       "    </tr>\n",
       "    <tr>\n",
       "      <th>1</th>\n",
       "      <td>3053432</td>\n",
       "      <td>com.gopaktor.subscription.v4.premium.1m</td>\n",
       "      <td>2017-01-26 06:22:00+00:00</td>\n",
       "      <td>10.0</td>\n",
       "      <td>245 days 01:54:56</td>\n",
       "    </tr>\n",
       "    <tr>\n",
       "      <th>2</th>\n",
       "      <td>3129800</td>\n",
       "      <td>com.gopaktor.subscription.v1.premium.1m</td>\n",
       "      <td>2016-12-09 07:57:37+00:00</td>\n",
       "      <td>NaN</td>\n",
       "      <td>0 days 00:00:00</td>\n",
       "    </tr>\n",
       "    <tr>\n",
       "      <th>3</th>\n",
       "      <td>3289765</td>\n",
       "      <td>com.gopaktor.subscription.v2.premium.6m.2000</td>\n",
       "      <td>2016-12-06 11:37:37+00:00</td>\n",
       "      <td>NaN</td>\n",
       "      <td>0 days 00:00:00</td>\n",
       "    </tr>\n",
       "    <tr>\n",
       "      <th>4</th>\n",
       "      <td>3325662</td>\n",
       "      <td>com.gopaktor.subscription.v12.premium.1m</td>\n",
       "      <td>2016-12-03 04:36:00+00:00</td>\n",
       "      <td>2.0</td>\n",
       "      <td>31 days 01:49:48</td>\n",
       "    </tr>\n",
       "  </tbody>\n",
       "</table>\n",
       "</div>"
      ],
      "text/plain": [
       "   cust_id                                    product_id  \\\n",
       "0  2942914       com.gopaktor.subscription.v1.premium.1m   \n",
       "1  3053432       com.gopaktor.subscription.v4.premium.1m   \n",
       "2  3129800       com.gopaktor.subscription.v1.premium.1m   \n",
       "3  3289765  com.gopaktor.subscription.v2.premium.6m.2000   \n",
       "4  3325662      com.gopaktor.subscription.v12.premium.1m   \n",
       "\n",
       "                  timestamp  count              time  \n",
       "0 2016-12-24 09:53:35+00:00    NaN   0 days 00:00:00  \n",
       "1 2017-01-26 06:22:00+00:00   10.0 245 days 01:54:56  \n",
       "2 2016-12-09 07:57:37+00:00    NaN   0 days 00:00:00  \n",
       "3 2016-12-06 11:37:37+00:00    NaN   0 days 00:00:00  \n",
       "4 2016-12-03 04:36:00+00:00    2.0  31 days 01:49:48  "
      ]
     },
     "execution_count": 66,
     "metadata": {},
     "output_type": "execute_result"
    }
   ],
   "source": [
    "cust_repur_original.head()"
   ]
  },
  {
   "cell_type": "code",
   "execution_count": 69,
   "metadata": {
    "collapsed": true
   },
   "outputs": [],
   "source": [
    "cust_repur_original['days_int'] = \"\""
   ]
  },
  {
   "cell_type": "code",
   "execution_count": 143,
   "metadata": {
    "collapsed": false
   },
   "outputs": [],
   "source": [
    "cust_repur_original[\"timestamp\"] = pd.to_datetime(cust_repur_original[\"timestamp\"]) "
   ]
  },
  {
   "cell_type": "code",
   "execution_count": 150,
   "metadata": {
    "collapsed": false
   },
   "outputs": [
    {
     "data": {
      "text/plain": [
       "<pandas.tseries.common.DatetimeProperties object at 0x7f16c38e1750>"
      ]
     },
     "execution_count": 150,
     "metadata": {},
     "output_type": "execute_result"
    }
   ],
   "source": [
    "cust_repur_original[\"timestamp\"].dt"
   ]
  },
  {
   "cell_type": "code",
   "execution_count": 100,
   "metadata": {
    "collapsed": true
   },
   "outputs": [],
   "source": [
    "import datetime as dt"
   ]
  },
  {
   "cell_type": "code",
   "execution_count": 101,
   "metadata": {
    "collapsed": false
   },
   "outputs": [],
   "source": [
    "cust_repur_original['xyz'] = cust_repur_original['time'].dt.days"
   ]
  },
  {
   "cell_type": "code",
   "execution_count": 102,
   "metadata": {
    "collapsed": false
   },
   "outputs": [
    {
     "data": {
      "text/html": [
       "<div>\n",
       "<table border=\"1\" class=\"dataframe\">\n",
       "  <thead>\n",
       "    <tr style=\"text-align: right;\">\n",
       "      <th></th>\n",
       "      <th>cust_id</th>\n",
       "      <th>product_id</th>\n",
       "      <th>timestamp</th>\n",
       "      <th>count</th>\n",
       "      <th>time</th>\n",
       "      <th>days_int</th>\n",
       "      <th>repurchase_time</th>\n",
       "      <th>xyz</th>\n",
       "    </tr>\n",
       "  </thead>\n",
       "  <tbody>\n",
       "    <tr>\n",
       "      <th>0</th>\n",
       "      <td>2942914</td>\n",
       "      <td>com.gopaktor.subscription.v1.premium.1m</td>\n",
       "      <td>2016-12-24 09:53:35+00:00</td>\n",
       "      <td>NaN</td>\n",
       "      <td>0 days 00:00:00</td>\n",
       "      <td>0</td>\n",
       "      <td>NaN</td>\n",
       "      <td>0</td>\n",
       "    </tr>\n",
       "    <tr>\n",
       "      <th>1</th>\n",
       "      <td>3053432</td>\n",
       "      <td>com.gopaktor.subscription.v4.premium.1m</td>\n",
       "      <td>2017-01-26 06:22:00+00:00</td>\n",
       "      <td>10.0</td>\n",
       "      <td>245 days 01:54:56</td>\n",
       "      <td>245</td>\n",
       "      <td>27.1111</td>\n",
       "      <td>245</td>\n",
       "    </tr>\n",
       "    <tr>\n",
       "      <th>2</th>\n",
       "      <td>3129800</td>\n",
       "      <td>com.gopaktor.subscription.v1.premium.1m</td>\n",
       "      <td>2016-12-09 07:57:37+00:00</td>\n",
       "      <td>NaN</td>\n",
       "      <td>0 days 00:00:00</td>\n",
       "      <td>0</td>\n",
       "      <td>NaN</td>\n",
       "      <td>0</td>\n",
       "    </tr>\n",
       "    <tr>\n",
       "      <th>3</th>\n",
       "      <td>3289765</td>\n",
       "      <td>com.gopaktor.subscription.v2.premium.6m.2000</td>\n",
       "      <td>2016-12-06 11:37:37+00:00</td>\n",
       "      <td>NaN</td>\n",
       "      <td>0 days 00:00:00</td>\n",
       "      <td>0</td>\n",
       "      <td>NaN</td>\n",
       "      <td>0</td>\n",
       "    </tr>\n",
       "    <tr>\n",
       "      <th>4</th>\n",
       "      <td>3325662</td>\n",
       "      <td>com.gopaktor.subscription.v12.premium.1m</td>\n",
       "      <td>2016-12-03 04:36:00+00:00</td>\n",
       "      <td>2.0</td>\n",
       "      <td>31 days 01:49:48</td>\n",
       "      <td>31</td>\n",
       "      <td>30</td>\n",
       "      <td>31</td>\n",
       "    </tr>\n",
       "  </tbody>\n",
       "</table>\n",
       "</div>"
      ],
      "text/plain": [
       "   cust_id                                    product_id  \\\n",
       "0  2942914       com.gopaktor.subscription.v1.premium.1m   \n",
       "1  3053432       com.gopaktor.subscription.v4.premium.1m   \n",
       "2  3129800       com.gopaktor.subscription.v1.premium.1m   \n",
       "3  3289765  com.gopaktor.subscription.v2.premium.6m.2000   \n",
       "4  3325662      com.gopaktor.subscription.v12.premium.1m   \n",
       "\n",
       "                  timestamp  count              time days_int repurchase_time  \\\n",
       "0 2016-12-24 09:53:35+00:00    NaN   0 days 00:00:00        0             NaN   \n",
       "1 2017-01-26 06:22:00+00:00   10.0 245 days 01:54:56      245         27.1111   \n",
       "2 2016-12-09 07:57:37+00:00    NaN   0 days 00:00:00        0             NaN   \n",
       "3 2016-12-06 11:37:37+00:00    NaN   0 days 00:00:00        0             NaN   \n",
       "4 2016-12-03 04:36:00+00:00    2.0  31 days 01:49:48       31              30   \n",
       "\n",
       "   xyz  \n",
       "0    0  \n",
       "1  245  \n",
       "2    0  \n",
       "3    0  \n",
       "4   31  "
      ]
     },
     "execution_count": 102,
     "metadata": {},
     "output_type": "execute_result"
    }
   ],
   "source": [
    "cust_repur_original.head()"
   ]
  },
  {
   "cell_type": "code",
   "execution_count": 75,
   "metadata": {
    "collapsed": false
   },
   "outputs": [
    {
     "name": "stderr",
     "output_type": "stream",
     "text": [
      "/home/ubuntu/anaconda2/lib/python2.7/site-packages/ipykernel/__main__.py:2: SettingWithCopyWarning: \n",
      "A value is trying to be set on a copy of a slice from a DataFrame\n",
      "\n",
      "See the caveats in the documentation: http://pandas.pydata.org/pandas-docs/stable/indexing.html#indexing-view-versus-copy\n",
      "  from ipykernel import kernelapp as app\n"
     ]
    }
   ],
   "source": [
    "for index, row in cust_repur_original.iterrows():\n",
    "    cust_repur_original.days_int[index] = cust_repur_original.time[index].days"
   ]
  },
  {
   "cell_type": "code",
   "execution_count": 76,
   "metadata": {
    "collapsed": false
   },
   "outputs": [
    {
     "data": {
      "text/html": [
       "<div>\n",
       "<table border=\"1\" class=\"dataframe\">\n",
       "  <thead>\n",
       "    <tr style=\"text-align: right;\">\n",
       "      <th></th>\n",
       "      <th>cust_id</th>\n",
       "      <th>product_id</th>\n",
       "      <th>timestamp</th>\n",
       "      <th>count</th>\n",
       "      <th>time</th>\n",
       "      <th>days_int</th>\n",
       "    </tr>\n",
       "  </thead>\n",
       "  <tbody>\n",
       "    <tr>\n",
       "      <th>0</th>\n",
       "      <td>2942914</td>\n",
       "      <td>com.gopaktor.subscription.v1.premium.1m</td>\n",
       "      <td>2016-12-24 09:53:35+00:00</td>\n",
       "      <td>NaN</td>\n",
       "      <td>0 days 00:00:00</td>\n",
       "      <td>0</td>\n",
       "    </tr>\n",
       "    <tr>\n",
       "      <th>1</th>\n",
       "      <td>3053432</td>\n",
       "      <td>com.gopaktor.subscription.v4.premium.1m</td>\n",
       "      <td>2017-01-26 06:22:00+00:00</td>\n",
       "      <td>10.0</td>\n",
       "      <td>245 days 01:54:56</td>\n",
       "      <td>245</td>\n",
       "    </tr>\n",
       "    <tr>\n",
       "      <th>2</th>\n",
       "      <td>3129800</td>\n",
       "      <td>com.gopaktor.subscription.v1.premium.1m</td>\n",
       "      <td>2016-12-09 07:57:37+00:00</td>\n",
       "      <td>NaN</td>\n",
       "      <td>0 days 00:00:00</td>\n",
       "      <td>0</td>\n",
       "    </tr>\n",
       "    <tr>\n",
       "      <th>3</th>\n",
       "      <td>3289765</td>\n",
       "      <td>com.gopaktor.subscription.v2.premium.6m.2000</td>\n",
       "      <td>2016-12-06 11:37:37+00:00</td>\n",
       "      <td>NaN</td>\n",
       "      <td>0 days 00:00:00</td>\n",
       "      <td>0</td>\n",
       "    </tr>\n",
       "    <tr>\n",
       "      <th>4</th>\n",
       "      <td>3325662</td>\n",
       "      <td>com.gopaktor.subscription.v12.premium.1m</td>\n",
       "      <td>2016-12-03 04:36:00+00:00</td>\n",
       "      <td>2.0</td>\n",
       "      <td>31 days 01:49:48</td>\n",
       "      <td>31</td>\n",
       "    </tr>\n",
       "  </tbody>\n",
       "</table>\n",
       "</div>"
      ],
      "text/plain": [
       "   cust_id                                    product_id  \\\n",
       "0  2942914       com.gopaktor.subscription.v1.premium.1m   \n",
       "1  3053432       com.gopaktor.subscription.v4.premium.1m   \n",
       "2  3129800       com.gopaktor.subscription.v1.premium.1m   \n",
       "3  3289765  com.gopaktor.subscription.v2.premium.6m.2000   \n",
       "4  3325662      com.gopaktor.subscription.v12.premium.1m   \n",
       "\n",
       "                  timestamp  count              time days_int  \n",
       "0 2016-12-24 09:53:35+00:00    NaN   0 days 00:00:00        0  \n",
       "1 2017-01-26 06:22:00+00:00   10.0 245 days 01:54:56      245  \n",
       "2 2016-12-09 07:57:37+00:00    NaN   0 days 00:00:00        0  \n",
       "3 2016-12-06 11:37:37+00:00    NaN   0 days 00:00:00        0  \n",
       "4 2016-12-03 04:36:00+00:00    2.0  31 days 01:49:48       31  "
      ]
     },
     "execution_count": 76,
     "metadata": {},
     "output_type": "execute_result"
    }
   ],
   "source": [
    "cust_repur_original.head()"
   ]
  },
  {
   "cell_type": "code",
   "execution_count": null,
   "metadata": {
    "collapsed": true
   },
   "outputs": [],
   "source": []
  },
  {
   "cell_type": "code",
   "execution_count": null,
   "metadata": {
    "collapsed": false
   },
   "outputs": [],
   "source": [
    "cust_repur_original.head()"
   ]
  },
  {
   "cell_type": "code",
   "execution_count": 207,
   "metadata": {
    "collapsed": false
   },
   "outputs": [
    {
     "ename": "KeyError",
     "evalue": "'days_int'",
     "output_type": "error",
     "traceback": [
      "\u001b[1;31m---------------------------------------------------------------------------\u001b[0m",
      "\u001b[1;31mKeyError\u001b[0m                                  Traceback (most recent call last)",
      "\u001b[1;32m<ipython-input-207-28ed069fdaf7>\u001b[0m in \u001b[0;36m<module>\u001b[1;34m()\u001b[0m\n\u001b[1;32m----> 1\u001b[1;33m \u001b[0mcust_repur_original\u001b[0m\u001b[1;33m[\u001b[0m\u001b[1;34m'repurchase_time'\u001b[0m\u001b[1;33m]\u001b[0m \u001b[1;33m=\u001b[0m \u001b[1;33m(\u001b[0m\u001b[0mcust_repur_original\u001b[0m\u001b[1;33m[\u001b[0m\u001b[1;34m'days_int'\u001b[0m\u001b[1;33m]\u001b[0m\u001b[1;33m-\u001b[0m\u001b[1;36m1\u001b[0m\u001b[1;33m)\u001b[0m \u001b[1;33m/\u001b[0m \u001b[1;33m(\u001b[0m\u001b[0mcust_repur_original\u001b[0m\u001b[1;33m[\u001b[0m\u001b[1;34m'count'\u001b[0m\u001b[1;33m]\u001b[0m\u001b[1;33m-\u001b[0m\u001b[1;36m1\u001b[0m\u001b[1;33m)\u001b[0m\u001b[1;33m\u001b[0m\u001b[0m\n\u001b[0m",
      "\u001b[1;32m/home/ubuntu/anaconda2/lib/python2.7/site-packages/pandas/core/frame.pyc\u001b[0m in \u001b[0;36m__getitem__\u001b[1;34m(self, key)\u001b[0m\n\u001b[0;32m   1990\u001b[0m             \u001b[1;32mreturn\u001b[0m \u001b[0mself\u001b[0m\u001b[1;33m.\u001b[0m\u001b[0m_getitem_multilevel\u001b[0m\u001b[1;33m(\u001b[0m\u001b[0mkey\u001b[0m\u001b[1;33m)\u001b[0m\u001b[1;33m\u001b[0m\u001b[0m\n\u001b[0;32m   1991\u001b[0m         \u001b[1;32melse\u001b[0m\u001b[1;33m:\u001b[0m\u001b[1;33m\u001b[0m\u001b[0m\n\u001b[1;32m-> 1992\u001b[1;33m             \u001b[1;32mreturn\u001b[0m \u001b[0mself\u001b[0m\u001b[1;33m.\u001b[0m\u001b[0m_getitem_column\u001b[0m\u001b[1;33m(\u001b[0m\u001b[0mkey\u001b[0m\u001b[1;33m)\u001b[0m\u001b[1;33m\u001b[0m\u001b[0m\n\u001b[0m\u001b[0;32m   1993\u001b[0m \u001b[1;33m\u001b[0m\u001b[0m\n\u001b[0;32m   1994\u001b[0m     \u001b[1;32mdef\u001b[0m \u001b[0m_getitem_column\u001b[0m\u001b[1;33m(\u001b[0m\u001b[0mself\u001b[0m\u001b[1;33m,\u001b[0m \u001b[0mkey\u001b[0m\u001b[1;33m)\u001b[0m\u001b[1;33m:\u001b[0m\u001b[1;33m\u001b[0m\u001b[0m\n",
      "\u001b[1;32m/home/ubuntu/anaconda2/lib/python2.7/site-packages/pandas/core/frame.pyc\u001b[0m in \u001b[0;36m_getitem_column\u001b[1;34m(self, key)\u001b[0m\n\u001b[0;32m   1997\u001b[0m         \u001b[1;31m# get column\u001b[0m\u001b[1;33m\u001b[0m\u001b[1;33m\u001b[0m\u001b[0m\n\u001b[0;32m   1998\u001b[0m         \u001b[1;32mif\u001b[0m \u001b[0mself\u001b[0m\u001b[1;33m.\u001b[0m\u001b[0mcolumns\u001b[0m\u001b[1;33m.\u001b[0m\u001b[0mis_unique\u001b[0m\u001b[1;33m:\u001b[0m\u001b[1;33m\u001b[0m\u001b[0m\n\u001b[1;32m-> 1999\u001b[1;33m             \u001b[1;32mreturn\u001b[0m \u001b[0mself\u001b[0m\u001b[1;33m.\u001b[0m\u001b[0m_get_item_cache\u001b[0m\u001b[1;33m(\u001b[0m\u001b[0mkey\u001b[0m\u001b[1;33m)\u001b[0m\u001b[1;33m\u001b[0m\u001b[0m\n\u001b[0m\u001b[0;32m   2000\u001b[0m \u001b[1;33m\u001b[0m\u001b[0m\n\u001b[0;32m   2001\u001b[0m         \u001b[1;31m# duplicate columns & possible reduce dimensionality\u001b[0m\u001b[1;33m\u001b[0m\u001b[1;33m\u001b[0m\u001b[0m\n",
      "\u001b[1;32m/home/ubuntu/anaconda2/lib/python2.7/site-packages/pandas/core/generic.pyc\u001b[0m in \u001b[0;36m_get_item_cache\u001b[1;34m(self, item)\u001b[0m\n\u001b[0;32m   1343\u001b[0m         \u001b[0mres\u001b[0m \u001b[1;33m=\u001b[0m \u001b[0mcache\u001b[0m\u001b[1;33m.\u001b[0m\u001b[0mget\u001b[0m\u001b[1;33m(\u001b[0m\u001b[0mitem\u001b[0m\u001b[1;33m)\u001b[0m\u001b[1;33m\u001b[0m\u001b[0m\n\u001b[0;32m   1344\u001b[0m         \u001b[1;32mif\u001b[0m \u001b[0mres\u001b[0m \u001b[1;32mis\u001b[0m \u001b[0mNone\u001b[0m\u001b[1;33m:\u001b[0m\u001b[1;33m\u001b[0m\u001b[0m\n\u001b[1;32m-> 1345\u001b[1;33m             \u001b[0mvalues\u001b[0m \u001b[1;33m=\u001b[0m \u001b[0mself\u001b[0m\u001b[1;33m.\u001b[0m\u001b[0m_data\u001b[0m\u001b[1;33m.\u001b[0m\u001b[0mget\u001b[0m\u001b[1;33m(\u001b[0m\u001b[0mitem\u001b[0m\u001b[1;33m)\u001b[0m\u001b[1;33m\u001b[0m\u001b[0m\n\u001b[0m\u001b[0;32m   1346\u001b[0m             \u001b[0mres\u001b[0m \u001b[1;33m=\u001b[0m \u001b[0mself\u001b[0m\u001b[1;33m.\u001b[0m\u001b[0m_box_item_values\u001b[0m\u001b[1;33m(\u001b[0m\u001b[0mitem\u001b[0m\u001b[1;33m,\u001b[0m \u001b[0mvalues\u001b[0m\u001b[1;33m)\u001b[0m\u001b[1;33m\u001b[0m\u001b[0m\n\u001b[0;32m   1347\u001b[0m             \u001b[0mcache\u001b[0m\u001b[1;33m[\u001b[0m\u001b[0mitem\u001b[0m\u001b[1;33m]\u001b[0m \u001b[1;33m=\u001b[0m \u001b[0mres\u001b[0m\u001b[1;33m\u001b[0m\u001b[0m\n",
      "\u001b[1;32m/home/ubuntu/anaconda2/lib/python2.7/site-packages/pandas/core/internals.pyc\u001b[0m in \u001b[0;36mget\u001b[1;34m(self, item, fastpath)\u001b[0m\n\u001b[0;32m   3223\u001b[0m \u001b[1;33m\u001b[0m\u001b[0m\n\u001b[0;32m   3224\u001b[0m             \u001b[1;32mif\u001b[0m \u001b[1;32mnot\u001b[0m \u001b[0misnull\u001b[0m\u001b[1;33m(\u001b[0m\u001b[0mitem\u001b[0m\u001b[1;33m)\u001b[0m\u001b[1;33m:\u001b[0m\u001b[1;33m\u001b[0m\u001b[0m\n\u001b[1;32m-> 3225\u001b[1;33m                 \u001b[0mloc\u001b[0m \u001b[1;33m=\u001b[0m \u001b[0mself\u001b[0m\u001b[1;33m.\u001b[0m\u001b[0mitems\u001b[0m\u001b[1;33m.\u001b[0m\u001b[0mget_loc\u001b[0m\u001b[1;33m(\u001b[0m\u001b[0mitem\u001b[0m\u001b[1;33m)\u001b[0m\u001b[1;33m\u001b[0m\u001b[0m\n\u001b[0m\u001b[0;32m   3226\u001b[0m             \u001b[1;32melse\u001b[0m\u001b[1;33m:\u001b[0m\u001b[1;33m\u001b[0m\u001b[0m\n\u001b[0;32m   3227\u001b[0m                 \u001b[0mindexer\u001b[0m \u001b[1;33m=\u001b[0m \u001b[0mnp\u001b[0m\u001b[1;33m.\u001b[0m\u001b[0marange\u001b[0m\u001b[1;33m(\u001b[0m\u001b[0mlen\u001b[0m\u001b[1;33m(\u001b[0m\u001b[0mself\u001b[0m\u001b[1;33m.\u001b[0m\u001b[0mitems\u001b[0m\u001b[1;33m)\u001b[0m\u001b[1;33m)\u001b[0m\u001b[1;33m[\u001b[0m\u001b[0misnull\u001b[0m\u001b[1;33m(\u001b[0m\u001b[0mself\u001b[0m\u001b[1;33m.\u001b[0m\u001b[0mitems\u001b[0m\u001b[1;33m)\u001b[0m\u001b[1;33m]\u001b[0m\u001b[1;33m\u001b[0m\u001b[0m\n",
      "\u001b[1;32m/home/ubuntu/anaconda2/lib/python2.7/site-packages/pandas/indexes/base.pyc\u001b[0m in \u001b[0;36mget_loc\u001b[1;34m(self, key, method, tolerance)\u001b[0m\n\u001b[0;32m   1876\u001b[0m                 \u001b[1;32mreturn\u001b[0m \u001b[0mself\u001b[0m\u001b[1;33m.\u001b[0m\u001b[0m_engine\u001b[0m\u001b[1;33m.\u001b[0m\u001b[0mget_loc\u001b[0m\u001b[1;33m(\u001b[0m\u001b[0mkey\u001b[0m\u001b[1;33m)\u001b[0m\u001b[1;33m\u001b[0m\u001b[0m\n\u001b[0;32m   1877\u001b[0m             \u001b[1;32mexcept\u001b[0m \u001b[0mKeyError\u001b[0m\u001b[1;33m:\u001b[0m\u001b[1;33m\u001b[0m\u001b[0m\n\u001b[1;32m-> 1878\u001b[1;33m                 \u001b[1;32mreturn\u001b[0m \u001b[0mself\u001b[0m\u001b[1;33m.\u001b[0m\u001b[0m_engine\u001b[0m\u001b[1;33m.\u001b[0m\u001b[0mget_loc\u001b[0m\u001b[1;33m(\u001b[0m\u001b[0mself\u001b[0m\u001b[1;33m.\u001b[0m\u001b[0m_maybe_cast_indexer\u001b[0m\u001b[1;33m(\u001b[0m\u001b[0mkey\u001b[0m\u001b[1;33m)\u001b[0m\u001b[1;33m)\u001b[0m\u001b[1;33m\u001b[0m\u001b[0m\n\u001b[0m\u001b[0;32m   1879\u001b[0m \u001b[1;33m\u001b[0m\u001b[0m\n\u001b[0;32m   1880\u001b[0m         \u001b[0mindexer\u001b[0m \u001b[1;33m=\u001b[0m \u001b[0mself\u001b[0m\u001b[1;33m.\u001b[0m\u001b[0mget_indexer\u001b[0m\u001b[1;33m(\u001b[0m\u001b[1;33m[\u001b[0m\u001b[0mkey\u001b[0m\u001b[1;33m]\u001b[0m\u001b[1;33m,\u001b[0m \u001b[0mmethod\u001b[0m\u001b[1;33m=\u001b[0m\u001b[0mmethod\u001b[0m\u001b[1;33m,\u001b[0m \u001b[0mtolerance\u001b[0m\u001b[1;33m=\u001b[0m\u001b[0mtolerance\u001b[0m\u001b[1;33m)\u001b[0m\u001b[1;33m\u001b[0m\u001b[0m\n",
      "\u001b[1;32mpandas/index.pyx\u001b[0m in \u001b[0;36mpandas.index.IndexEngine.get_loc (pandas/index.c:4027)\u001b[1;34m()\u001b[0m\n",
      "\u001b[1;32mpandas/index.pyx\u001b[0m in \u001b[0;36mpandas.index.IndexEngine.get_loc (pandas/index.c:3891)\u001b[1;34m()\u001b[0m\n",
      "\u001b[1;32mpandas/hashtable.pyx\u001b[0m in \u001b[0;36mpandas.hashtable.PyObjectHashTable.get_item (pandas/hashtable.c:12408)\u001b[1;34m()\u001b[0m\n",
      "\u001b[1;32mpandas/hashtable.pyx\u001b[0m in \u001b[0;36mpandas.hashtable.PyObjectHashTable.get_item (pandas/hashtable.c:12359)\u001b[1;34m()\u001b[0m\n",
      "\u001b[1;31mKeyError\u001b[0m: 'days_int'"
     ]
    }
   ],
   "source": [
    "cust_repur_original['repurchase_time'] = (cust_repur_original['days_int']-1) / (cust_repur_original['count']-1)"
   ]
  },
  {
   "cell_type": "code",
   "execution_count": 80,
   "metadata": {
    "collapsed": false
   },
   "outputs": [
    {
     "data": {
      "text/html": [
       "<div>\n",
       "<table border=\"1\" class=\"dataframe\">\n",
       "  <thead>\n",
       "    <tr style=\"text-align: right;\">\n",
       "      <th></th>\n",
       "      <th>cust_id</th>\n",
       "      <th>product_id</th>\n",
       "      <th>timestamp</th>\n",
       "      <th>count</th>\n",
       "      <th>time</th>\n",
       "      <th>days_int</th>\n",
       "      <th>repurchase_time</th>\n",
       "    </tr>\n",
       "  </thead>\n",
       "  <tbody>\n",
       "    <tr>\n",
       "      <th>0</th>\n",
       "      <td>2942914</td>\n",
       "      <td>com.gopaktor.subscription.v1.premium.1m</td>\n",
       "      <td>2016-12-24 09:53:35+00:00</td>\n",
       "      <td>NaN</td>\n",
       "      <td>0 days 00:00:00</td>\n",
       "      <td>0</td>\n",
       "      <td>NaN</td>\n",
       "    </tr>\n",
       "    <tr>\n",
       "      <th>1</th>\n",
       "      <td>3053432</td>\n",
       "      <td>com.gopaktor.subscription.v4.premium.1m</td>\n",
       "      <td>2017-01-26 06:22:00+00:00</td>\n",
       "      <td>10.0</td>\n",
       "      <td>245 days 01:54:56</td>\n",
       "      <td>245</td>\n",
       "      <td>27.1111</td>\n",
       "    </tr>\n",
       "    <tr>\n",
       "      <th>2</th>\n",
       "      <td>3129800</td>\n",
       "      <td>com.gopaktor.subscription.v1.premium.1m</td>\n",
       "      <td>2016-12-09 07:57:37+00:00</td>\n",
       "      <td>NaN</td>\n",
       "      <td>0 days 00:00:00</td>\n",
       "      <td>0</td>\n",
       "      <td>NaN</td>\n",
       "    </tr>\n",
       "    <tr>\n",
       "      <th>3</th>\n",
       "      <td>3289765</td>\n",
       "      <td>com.gopaktor.subscription.v2.premium.6m.2000</td>\n",
       "      <td>2016-12-06 11:37:37+00:00</td>\n",
       "      <td>NaN</td>\n",
       "      <td>0 days 00:00:00</td>\n",
       "      <td>0</td>\n",
       "      <td>NaN</td>\n",
       "    </tr>\n",
       "    <tr>\n",
       "      <th>4</th>\n",
       "      <td>3325662</td>\n",
       "      <td>com.gopaktor.subscription.v12.premium.1m</td>\n",
       "      <td>2016-12-03 04:36:00+00:00</td>\n",
       "      <td>2.0</td>\n",
       "      <td>31 days 01:49:48</td>\n",
       "      <td>31</td>\n",
       "      <td>30</td>\n",
       "    </tr>\n",
       "  </tbody>\n",
       "</table>\n",
       "</div>"
      ],
      "text/plain": [
       "   cust_id                                    product_id  \\\n",
       "0  2942914       com.gopaktor.subscription.v1.premium.1m   \n",
       "1  3053432       com.gopaktor.subscription.v4.premium.1m   \n",
       "2  3129800       com.gopaktor.subscription.v1.premium.1m   \n",
       "3  3289765  com.gopaktor.subscription.v2.premium.6m.2000   \n",
       "4  3325662      com.gopaktor.subscription.v12.premium.1m   \n",
       "\n",
       "                  timestamp  count              time days_int repurchase_time  \n",
       "0 2016-12-24 09:53:35+00:00    NaN   0 days 00:00:00        0             NaN  \n",
       "1 2017-01-26 06:22:00+00:00   10.0 245 days 01:54:56      245         27.1111  \n",
       "2 2016-12-09 07:57:37+00:00    NaN   0 days 00:00:00        0             NaN  \n",
       "3 2016-12-06 11:37:37+00:00    NaN   0 days 00:00:00        0             NaN  \n",
       "4 2016-12-03 04:36:00+00:00    2.0  31 days 01:49:48       31              30  "
      ]
     },
     "execution_count": 80,
     "metadata": {},
     "output_type": "execute_result"
    }
   ],
   "source": [
    "cust_repur_original.head()"
   ]
  },
  {
   "cell_type": "code",
   "execution_count": 81,
   "metadata": {
    "collapsed": false
   },
   "outputs": [
    {
     "data": {
      "text/html": [
       "<div>\n",
       "<table border=\"1\" class=\"dataframe\">\n",
       "  <thead>\n",
       "    <tr style=\"text-align: right;\">\n",
       "      <th></th>\n",
       "      <th>cust_id</th>\n",
       "      <th>product_id</th>\n",
       "      <th>timestamp</th>\n",
       "      <th>count</th>\n",
       "      <th>time</th>\n",
       "      <th>days_int</th>\n",
       "      <th>repurchase_time</th>\n",
       "    </tr>\n",
       "  </thead>\n",
       "  <tbody>\n",
       "    <tr>\n",
       "      <th>0</th>\n",
       "      <td>2942914</td>\n",
       "      <td>com.gopaktor.subscription.v1.premium.1m</td>\n",
       "      <td>2016-12-24 09:53:35+00:00</td>\n",
       "      <td>NaN</td>\n",
       "      <td>0 days 00:00:00</td>\n",
       "      <td>0</td>\n",
       "      <td>NaN</td>\n",
       "    </tr>\n",
       "    <tr>\n",
       "      <th>1</th>\n",
       "      <td>3053432</td>\n",
       "      <td>com.gopaktor.subscription.v4.premium.1m</td>\n",
       "      <td>2017-01-26 06:22:00+00:00</td>\n",
       "      <td>10.0</td>\n",
       "      <td>245 days 01:54:56</td>\n",
       "      <td>245</td>\n",
       "      <td>27.1111</td>\n",
       "    </tr>\n",
       "    <tr>\n",
       "      <th>2</th>\n",
       "      <td>3129800</td>\n",
       "      <td>com.gopaktor.subscription.v1.premium.1m</td>\n",
       "      <td>2016-12-09 07:57:37+00:00</td>\n",
       "      <td>NaN</td>\n",
       "      <td>0 days 00:00:00</td>\n",
       "      <td>0</td>\n",
       "      <td>NaN</td>\n",
       "    </tr>\n",
       "    <tr>\n",
       "      <th>3</th>\n",
       "      <td>3289765</td>\n",
       "      <td>com.gopaktor.subscription.v2.premium.6m.2000</td>\n",
       "      <td>2016-12-06 11:37:37+00:00</td>\n",
       "      <td>NaN</td>\n",
       "      <td>0 days 00:00:00</td>\n",
       "      <td>0</td>\n",
       "      <td>NaN</td>\n",
       "    </tr>\n",
       "    <tr>\n",
       "      <th>4</th>\n",
       "      <td>3325662</td>\n",
       "      <td>com.gopaktor.subscription.v12.premium.1m</td>\n",
       "      <td>2016-12-03 04:36:00+00:00</td>\n",
       "      <td>2.0</td>\n",
       "      <td>31 days 01:49:48</td>\n",
       "      <td>31</td>\n",
       "      <td>30</td>\n",
       "    </tr>\n",
       "  </tbody>\n",
       "</table>\n",
       "</div>"
      ],
      "text/plain": [
       "   cust_id                                    product_id  \\\n",
       "0  2942914       com.gopaktor.subscription.v1.premium.1m   \n",
       "1  3053432       com.gopaktor.subscription.v4.premium.1m   \n",
       "2  3129800       com.gopaktor.subscription.v1.premium.1m   \n",
       "3  3289765  com.gopaktor.subscription.v2.premium.6m.2000   \n",
       "4  3325662      com.gopaktor.subscription.v12.premium.1m   \n",
       "\n",
       "                  timestamp  count              time days_int repurchase_time  \n",
       "0 2016-12-24 09:53:35+00:00    NaN   0 days 00:00:00        0             NaN  \n",
       "1 2017-01-26 06:22:00+00:00   10.0 245 days 01:54:56      245         27.1111  \n",
       "2 2016-12-09 07:57:37+00:00    NaN   0 days 00:00:00        0             NaN  \n",
       "3 2016-12-06 11:37:37+00:00    NaN   0 days 00:00:00        0             NaN  \n",
       "4 2016-12-03 04:36:00+00:00    2.0  31 days 01:49:48       31              30  "
      ]
     },
     "execution_count": 81,
     "metadata": {},
     "output_type": "execute_result"
    }
   ],
   "source": [
    "cust_repur_original.head()"
   ]
  },
  {
   "cell_type": "code",
   "execution_count": null,
   "metadata": {
    "collapsed": false
   },
   "outputs": [],
   "source": [
    "len(cust_repur_original.product_id.unique())"
   ]
  },
  {
   "cell_type": "code",
   "execution_count": 82,
   "metadata": {
    "collapsed": false
   },
   "outputs": [
    {
     "data": {
      "text/plain": [
       "array(['com.gopaktor.subscription.v1.premium.1m',\n",
       "       'com.gopaktor.subscription.v4.premium.1m',\n",
       "       'com.gopaktor.subscription.v2.premium.6m.2000',\n",
       "       'com.gopaktor.subscription.v12.premium.1m',\n",
       "       'com.gopaktor.subscription.v2.premium.1m.2000',\n",
       "       'com.gopaktor.credit.v2.1000',\n",
       "       'com.gopaktor.subscription.v2.premium.3m.2000',\n",
       "       'com.gopaktor.subscription.v3.premium.6m',\n",
       "       'com.gopaktor.subscription.v3.premium.3m',\n",
       "       'com.gopaktor.subscription.v12.premium.3m',\n",
       "       'com.gopaktor.subscription.v2.premium.3m',\n",
       "       'com.gopaktor.subscription.v2.premium.6m',\n",
       "       'com.gopaktor.subscription.v2.premium.1m.3000',\n",
       "       'com.gopaktor.subscription.v11.premium.6m',\n",
       "       'com.gopaktor.credit.v2.3000', 'com.gopaktor.credit.v2.10000',\n",
       "       'com.gopaktor.credit.v2.6000', 'com.gopaktor.credit.v3.2000'], dtype=object)"
      ]
     },
     "execution_count": 82,
     "metadata": {},
     "output_type": "execute_result"
    }
   ],
   "source": [
    "cust_repur_original.product_id.unique()"
   ]
  },
  {
   "cell_type": "code",
   "execution_count": 84,
   "metadata": {
    "collapsed": false
   },
   "outputs": [],
   "source": [
    "abc = pd.pivot_table(cust_repur_original, index=['cust_id'], columns=['product_id'], values=['repurchase_time'], aggfunc='first')"
   ]
  },
  {
   "cell_type": "code",
   "execution_count": 85,
   "metadata": {
    "collapsed": false
   },
   "outputs": [
    {
     "data": {
      "text/plain": [
       "(3087, 18)"
      ]
     },
     "execution_count": 85,
     "metadata": {},
     "output_type": "execute_result"
    }
   ],
   "source": [
    "abc.shape"
   ]
  },
  {
   "cell_type": "code",
   "execution_count": 86,
   "metadata": {
    "collapsed": false
   },
   "outputs": [
    {
     "data": {
      "text/html": [
       "<div>\n",
       "<table border=\"1\" class=\"dataframe\">\n",
       "  <thead>\n",
       "    <tr>\n",
       "      <th></th>\n",
       "      <th colspan=\"18\" halign=\"left\">repurchase_time</th>\n",
       "    </tr>\n",
       "    <tr>\n",
       "      <th>product_id</th>\n",
       "      <th>com.gopaktor.credit.v2.1000</th>\n",
       "      <th>com.gopaktor.credit.v2.10000</th>\n",
       "      <th>com.gopaktor.credit.v2.3000</th>\n",
       "      <th>com.gopaktor.credit.v2.6000</th>\n",
       "      <th>com.gopaktor.credit.v3.2000</th>\n",
       "      <th>com.gopaktor.subscription.v1.premium.1m</th>\n",
       "      <th>com.gopaktor.subscription.v11.premium.6m</th>\n",
       "      <th>com.gopaktor.subscription.v12.premium.1m</th>\n",
       "      <th>com.gopaktor.subscription.v12.premium.3m</th>\n",
       "      <th>com.gopaktor.subscription.v2.premium.1m.2000</th>\n",
       "      <th>com.gopaktor.subscription.v2.premium.1m.3000</th>\n",
       "      <th>com.gopaktor.subscription.v2.premium.3m</th>\n",
       "      <th>com.gopaktor.subscription.v2.premium.3m.2000</th>\n",
       "      <th>com.gopaktor.subscription.v2.premium.6m</th>\n",
       "      <th>com.gopaktor.subscription.v2.premium.6m.2000</th>\n",
       "      <th>com.gopaktor.subscription.v3.premium.3m</th>\n",
       "      <th>com.gopaktor.subscription.v3.premium.6m</th>\n",
       "      <th>com.gopaktor.subscription.v4.premium.1m</th>\n",
       "    </tr>\n",
       "    <tr>\n",
       "      <th>cust_id</th>\n",
       "      <th></th>\n",
       "      <th></th>\n",
       "      <th></th>\n",
       "      <th></th>\n",
       "      <th></th>\n",
       "      <th></th>\n",
       "      <th></th>\n",
       "      <th></th>\n",
       "      <th></th>\n",
       "      <th></th>\n",
       "      <th></th>\n",
       "      <th></th>\n",
       "      <th></th>\n",
       "      <th></th>\n",
       "      <th></th>\n",
       "      <th></th>\n",
       "      <th></th>\n",
       "      <th></th>\n",
       "    </tr>\n",
       "  </thead>\n",
       "  <tbody>\n",
       "    <tr>\n",
       "      <th>2942914</th>\n",
       "      <td>NaN</td>\n",
       "      <td>NaN</td>\n",
       "      <td>NaN</td>\n",
       "      <td>NaN</td>\n",
       "      <td>NaN</td>\n",
       "      <td>NaN</td>\n",
       "      <td>NaN</td>\n",
       "      <td>NaN</td>\n",
       "      <td>NaN</td>\n",
       "      <td>NaN</td>\n",
       "      <td>NaN</td>\n",
       "      <td>NaN</td>\n",
       "      <td>NaN</td>\n",
       "      <td>NaN</td>\n",
       "      <td>NaN</td>\n",
       "      <td>NaN</td>\n",
       "      <td>NaN</td>\n",
       "      <td>NaN</td>\n",
       "    </tr>\n",
       "    <tr>\n",
       "      <th>3053432</th>\n",
       "      <td>NaN</td>\n",
       "      <td>NaN</td>\n",
       "      <td>NaN</td>\n",
       "      <td>NaN</td>\n",
       "      <td>NaN</td>\n",
       "      <td>NaN</td>\n",
       "      <td>NaN</td>\n",
       "      <td>NaN</td>\n",
       "      <td>NaN</td>\n",
       "      <td>NaN</td>\n",
       "      <td>NaN</td>\n",
       "      <td>NaN</td>\n",
       "      <td>NaN</td>\n",
       "      <td>NaN</td>\n",
       "      <td>NaN</td>\n",
       "      <td>NaN</td>\n",
       "      <td>NaN</td>\n",
       "      <td>27.111111</td>\n",
       "    </tr>\n",
       "    <tr>\n",
       "      <th>3129800</th>\n",
       "      <td>NaN</td>\n",
       "      <td>NaN</td>\n",
       "      <td>NaN</td>\n",
       "      <td>NaN</td>\n",
       "      <td>NaN</td>\n",
       "      <td>NaN</td>\n",
       "      <td>NaN</td>\n",
       "      <td>NaN</td>\n",
       "      <td>NaN</td>\n",
       "      <td>NaN</td>\n",
       "      <td>NaN</td>\n",
       "      <td>NaN</td>\n",
       "      <td>NaN</td>\n",
       "      <td>NaN</td>\n",
       "      <td>NaN</td>\n",
       "      <td>NaN</td>\n",
       "      <td>NaN</td>\n",
       "      <td>NaN</td>\n",
       "    </tr>\n",
       "    <tr>\n",
       "      <th>3289765</th>\n",
       "      <td>NaN</td>\n",
       "      <td>NaN</td>\n",
       "      <td>NaN</td>\n",
       "      <td>NaN</td>\n",
       "      <td>NaN</td>\n",
       "      <td>NaN</td>\n",
       "      <td>NaN</td>\n",
       "      <td>NaN</td>\n",
       "      <td>NaN</td>\n",
       "      <td>NaN</td>\n",
       "      <td>NaN</td>\n",
       "      <td>NaN</td>\n",
       "      <td>NaN</td>\n",
       "      <td>NaN</td>\n",
       "      <td>NaN</td>\n",
       "      <td>NaN</td>\n",
       "      <td>NaN</td>\n",
       "      <td>NaN</td>\n",
       "    </tr>\n",
       "    <tr>\n",
       "      <th>3325662</th>\n",
       "      <td>NaN</td>\n",
       "      <td>NaN</td>\n",
       "      <td>NaN</td>\n",
       "      <td>NaN</td>\n",
       "      <td>NaN</td>\n",
       "      <td>NaN</td>\n",
       "      <td>NaN</td>\n",
       "      <td>30.0</td>\n",
       "      <td>NaN</td>\n",
       "      <td>NaN</td>\n",
       "      <td>NaN</td>\n",
       "      <td>NaN</td>\n",
       "      <td>NaN</td>\n",
       "      <td>NaN</td>\n",
       "      <td>NaN</td>\n",
       "      <td>NaN</td>\n",
       "      <td>NaN</td>\n",
       "      <td>NaN</td>\n",
       "    </tr>\n",
       "  </tbody>\n",
       "</table>\n",
       "</div>"
      ],
      "text/plain": [
       "                       repurchase_time                               \\\n",
       "product_id com.gopaktor.credit.v2.1000 com.gopaktor.credit.v2.10000   \n",
       "cust_id                                                               \n",
       "2942914                            NaN                          NaN   \n",
       "3053432                            NaN                          NaN   \n",
       "3129800                            NaN                          NaN   \n",
       "3289765                            NaN                          NaN   \n",
       "3325662                            NaN                          NaN   \n",
       "\n",
       "                                                                    \\\n",
       "product_id com.gopaktor.credit.v2.3000 com.gopaktor.credit.v2.6000   \n",
       "cust_id                                                              \n",
       "2942914                            NaN                         NaN   \n",
       "3053432                            NaN                         NaN   \n",
       "3129800                            NaN                         NaN   \n",
       "3289765                            NaN                         NaN   \n",
       "3325662                            NaN                         NaN   \n",
       "\n",
       "                                        \\\n",
       "product_id com.gopaktor.credit.v3.2000   \n",
       "cust_id                                  \n",
       "2942914                            NaN   \n",
       "3053432                            NaN   \n",
       "3129800                            NaN   \n",
       "3289765                            NaN   \n",
       "3325662                            NaN   \n",
       "\n",
       "                                                    \\\n",
       "product_id com.gopaktor.subscription.v1.premium.1m   \n",
       "cust_id                                              \n",
       "2942914                                        NaN   \n",
       "3053432                                        NaN   \n",
       "3129800                                        NaN   \n",
       "3289765                                        NaN   \n",
       "3325662                                        NaN   \n",
       "\n",
       "                                                     \\\n",
       "product_id com.gopaktor.subscription.v11.premium.6m   \n",
       "cust_id                                               \n",
       "2942914                                         NaN   \n",
       "3053432                                         NaN   \n",
       "3129800                                         NaN   \n",
       "3289765                                         NaN   \n",
       "3325662                                         NaN   \n",
       "\n",
       "                                                     \\\n",
       "product_id com.gopaktor.subscription.v12.premium.1m   \n",
       "cust_id                                               \n",
       "2942914                                         NaN   \n",
       "3053432                                         NaN   \n",
       "3129800                                         NaN   \n",
       "3289765                                         NaN   \n",
       "3325662                                        30.0   \n",
       "\n",
       "                                                     \\\n",
       "product_id com.gopaktor.subscription.v12.premium.3m   \n",
       "cust_id                                               \n",
       "2942914                                         NaN   \n",
       "3053432                                         NaN   \n",
       "3129800                                         NaN   \n",
       "3289765                                         NaN   \n",
       "3325662                                         NaN   \n",
       "\n",
       "                                                         \\\n",
       "product_id com.gopaktor.subscription.v2.premium.1m.2000   \n",
       "cust_id                                                   \n",
       "2942914                                             NaN   \n",
       "3053432                                             NaN   \n",
       "3129800                                             NaN   \n",
       "3289765                                             NaN   \n",
       "3325662                                             NaN   \n",
       "\n",
       "                                                         \\\n",
       "product_id com.gopaktor.subscription.v2.premium.1m.3000   \n",
       "cust_id                                                   \n",
       "2942914                                             NaN   \n",
       "3053432                                             NaN   \n",
       "3129800                                             NaN   \n",
       "3289765                                             NaN   \n",
       "3325662                                             NaN   \n",
       "\n",
       "                                                    \\\n",
       "product_id com.gopaktor.subscription.v2.premium.3m   \n",
       "cust_id                                              \n",
       "2942914                                        NaN   \n",
       "3053432                                        NaN   \n",
       "3129800                                        NaN   \n",
       "3289765                                        NaN   \n",
       "3325662                                        NaN   \n",
       "\n",
       "                                                         \\\n",
       "product_id com.gopaktor.subscription.v2.premium.3m.2000   \n",
       "cust_id                                                   \n",
       "2942914                                             NaN   \n",
       "3053432                                             NaN   \n",
       "3129800                                             NaN   \n",
       "3289765                                             NaN   \n",
       "3325662                                             NaN   \n",
       "\n",
       "                                                    \\\n",
       "product_id com.gopaktor.subscription.v2.premium.6m   \n",
       "cust_id                                              \n",
       "2942914                                        NaN   \n",
       "3053432                                        NaN   \n",
       "3129800                                        NaN   \n",
       "3289765                                        NaN   \n",
       "3325662                                        NaN   \n",
       "\n",
       "                                                         \\\n",
       "product_id com.gopaktor.subscription.v2.premium.6m.2000   \n",
       "cust_id                                                   \n",
       "2942914                                             NaN   \n",
       "3053432                                             NaN   \n",
       "3129800                                             NaN   \n",
       "3289765                                             NaN   \n",
       "3325662                                             NaN   \n",
       "\n",
       "                                                    \\\n",
       "product_id com.gopaktor.subscription.v3.premium.3m   \n",
       "cust_id                                              \n",
       "2942914                                        NaN   \n",
       "3053432                                        NaN   \n",
       "3129800                                        NaN   \n",
       "3289765                                        NaN   \n",
       "3325662                                        NaN   \n",
       "\n",
       "                                                    \\\n",
       "product_id com.gopaktor.subscription.v3.premium.6m   \n",
       "cust_id                                              \n",
       "2942914                                        NaN   \n",
       "3053432                                        NaN   \n",
       "3129800                                        NaN   \n",
       "3289765                                        NaN   \n",
       "3325662                                        NaN   \n",
       "\n",
       "                                                    \n",
       "product_id com.gopaktor.subscription.v4.premium.1m  \n",
       "cust_id                                             \n",
       "2942914                                        NaN  \n",
       "3053432                                  27.111111  \n",
       "3129800                                        NaN  \n",
       "3289765                                        NaN  \n",
       "3325662                                        NaN  "
      ]
     },
     "execution_count": 86,
     "metadata": {},
     "output_type": "execute_result"
    }
   ],
   "source": [
    "abc.head()"
   ]
  },
  {
   "cell_type": "code",
   "execution_count": null,
   "metadata": {
    "collapsed": false
   },
   "outputs": [],
   "source": [
    "type(abc)"
   ]
  },
  {
   "cell_type": "code",
   "execution_count": 87,
   "metadata": {
    "collapsed": false
   },
   "outputs": [],
   "source": [
    "mi = abc.columns"
   ]
  },
  {
   "cell_type": "code",
   "execution_count": null,
   "metadata": {
    "collapsed": false
   },
   "outputs": [],
   "source": [
    "mi"
   ]
  },
  {
   "cell_type": "code",
   "execution_count": 88,
   "metadata": {
    "collapsed": false
   },
   "outputs": [
    {
     "data": {
      "text/plain": [
       "[('repurchase_time', 'com.gopaktor.credit.v2.1000'),\n",
       " ('repurchase_time', 'com.gopaktor.credit.v2.10000'),\n",
       " ('repurchase_time', 'com.gopaktor.credit.v2.3000'),\n",
       " ('repurchase_time', 'com.gopaktor.credit.v2.6000'),\n",
       " ('repurchase_time', 'com.gopaktor.credit.v3.2000'),\n",
       " ('repurchase_time', 'com.gopaktor.subscription.v1.premium.1m'),\n",
       " ('repurchase_time', 'com.gopaktor.subscription.v11.premium.6m'),\n",
       " ('repurchase_time', 'com.gopaktor.subscription.v12.premium.1m'),\n",
       " ('repurchase_time', 'com.gopaktor.subscription.v12.premium.3m'),\n",
       " ('repurchase_time', 'com.gopaktor.subscription.v2.premium.1m.2000'),\n",
       " ('repurchase_time', 'com.gopaktor.subscription.v2.premium.1m.3000'),\n",
       " ('repurchase_time', 'com.gopaktor.subscription.v2.premium.3m'),\n",
       " ('repurchase_time', 'com.gopaktor.subscription.v2.premium.3m.2000'),\n",
       " ('repurchase_time', 'com.gopaktor.subscription.v2.premium.6m'),\n",
       " ('repurchase_time', 'com.gopaktor.subscription.v2.premium.6m.2000'),\n",
       " ('repurchase_time', 'com.gopaktor.subscription.v3.premium.3m'),\n",
       " ('repurchase_time', 'com.gopaktor.subscription.v3.premium.6m'),\n",
       " ('repurchase_time', 'com.gopaktor.subscription.v4.premium.1m')]"
      ]
     },
     "execution_count": 88,
     "metadata": {},
     "output_type": "execute_result"
    }
   ],
   "source": [
    "mi.tolist()"
   ]
  },
  {
   "cell_type": "code",
   "execution_count": 89,
   "metadata": {
    "collapsed": true
   },
   "outputs": [],
   "source": [
    "ind = pd.Index([e[1] for e in mi.tolist()])"
   ]
  },
  {
   "cell_type": "code",
   "execution_count": 90,
   "metadata": {
    "collapsed": false
   },
   "outputs": [
    {
     "data": {
      "text/plain": [
       "Index([u'com.gopaktor.credit.v2.1000', u'com.gopaktor.credit.v2.10000',\n",
       "       u'com.gopaktor.credit.v2.3000', u'com.gopaktor.credit.v2.6000',\n",
       "       u'com.gopaktor.credit.v3.2000',\n",
       "       u'com.gopaktor.subscription.v1.premium.1m',\n",
       "       u'com.gopaktor.subscription.v11.premium.6m',\n",
       "       u'com.gopaktor.subscription.v12.premium.1m',\n",
       "       u'com.gopaktor.subscription.v12.premium.3m',\n",
       "       u'com.gopaktor.subscription.v2.premium.1m.2000',\n",
       "       u'com.gopaktor.subscription.v2.premium.1m.3000',\n",
       "       u'com.gopaktor.subscription.v2.premium.3m',\n",
       "       u'com.gopaktor.subscription.v2.premium.3m.2000',\n",
       "       u'com.gopaktor.subscription.v2.premium.6m',\n",
       "       u'com.gopaktor.subscription.v2.premium.6m.2000',\n",
       "       u'com.gopaktor.subscription.v3.premium.3m',\n",
       "       u'com.gopaktor.subscription.v3.premium.6m',\n",
       "       u'com.gopaktor.subscription.v4.premium.1m'],\n",
       "      dtype='object')"
      ]
     },
     "execution_count": 90,
     "metadata": {},
     "output_type": "execute_result"
    }
   ],
   "source": [
    "ind"
   ]
  },
  {
   "cell_type": "code",
   "execution_count": 91,
   "metadata": {
    "collapsed": true
   },
   "outputs": [],
   "source": [
    "abc.columns = ind"
   ]
  },
  {
   "cell_type": "code",
   "execution_count": 92,
   "metadata": {
    "collapsed": false
   },
   "outputs": [
    {
     "data": {
      "text/html": [
       "<div>\n",
       "<table border=\"1\" class=\"dataframe\">\n",
       "  <thead>\n",
       "    <tr style=\"text-align: right;\">\n",
       "      <th></th>\n",
       "      <th>com.gopaktor.credit.v2.1000</th>\n",
       "      <th>com.gopaktor.credit.v2.10000</th>\n",
       "      <th>com.gopaktor.credit.v2.3000</th>\n",
       "      <th>com.gopaktor.credit.v2.6000</th>\n",
       "      <th>com.gopaktor.credit.v3.2000</th>\n",
       "      <th>com.gopaktor.subscription.v1.premium.1m</th>\n",
       "      <th>com.gopaktor.subscription.v11.premium.6m</th>\n",
       "      <th>com.gopaktor.subscription.v12.premium.1m</th>\n",
       "      <th>com.gopaktor.subscription.v12.premium.3m</th>\n",
       "      <th>com.gopaktor.subscription.v2.premium.1m.2000</th>\n",
       "      <th>com.gopaktor.subscription.v2.premium.1m.3000</th>\n",
       "      <th>com.gopaktor.subscription.v2.premium.3m</th>\n",
       "      <th>com.gopaktor.subscription.v2.premium.3m.2000</th>\n",
       "      <th>com.gopaktor.subscription.v2.premium.6m</th>\n",
       "      <th>com.gopaktor.subscription.v2.premium.6m.2000</th>\n",
       "      <th>com.gopaktor.subscription.v3.premium.3m</th>\n",
       "      <th>com.gopaktor.subscription.v3.premium.6m</th>\n",
       "      <th>com.gopaktor.subscription.v4.premium.1m</th>\n",
       "    </tr>\n",
       "    <tr>\n",
       "      <th>cust_id</th>\n",
       "      <th></th>\n",
       "      <th></th>\n",
       "      <th></th>\n",
       "      <th></th>\n",
       "      <th></th>\n",
       "      <th></th>\n",
       "      <th></th>\n",
       "      <th></th>\n",
       "      <th></th>\n",
       "      <th></th>\n",
       "      <th></th>\n",
       "      <th></th>\n",
       "      <th></th>\n",
       "      <th></th>\n",
       "      <th></th>\n",
       "      <th></th>\n",
       "      <th></th>\n",
       "      <th></th>\n",
       "    </tr>\n",
       "  </thead>\n",
       "  <tbody>\n",
       "    <tr>\n",
       "      <th>2942914</th>\n",
       "      <td>NaN</td>\n",
       "      <td>NaN</td>\n",
       "      <td>NaN</td>\n",
       "      <td>NaN</td>\n",
       "      <td>NaN</td>\n",
       "      <td>NaN</td>\n",
       "      <td>NaN</td>\n",
       "      <td>NaN</td>\n",
       "      <td>NaN</td>\n",
       "      <td>NaN</td>\n",
       "      <td>NaN</td>\n",
       "      <td>NaN</td>\n",
       "      <td>NaN</td>\n",
       "      <td>NaN</td>\n",
       "      <td>NaN</td>\n",
       "      <td>NaN</td>\n",
       "      <td>NaN</td>\n",
       "      <td>NaN</td>\n",
       "    </tr>\n",
       "    <tr>\n",
       "      <th>3053432</th>\n",
       "      <td>NaN</td>\n",
       "      <td>NaN</td>\n",
       "      <td>NaN</td>\n",
       "      <td>NaN</td>\n",
       "      <td>NaN</td>\n",
       "      <td>NaN</td>\n",
       "      <td>NaN</td>\n",
       "      <td>NaN</td>\n",
       "      <td>NaN</td>\n",
       "      <td>NaN</td>\n",
       "      <td>NaN</td>\n",
       "      <td>NaN</td>\n",
       "      <td>NaN</td>\n",
       "      <td>NaN</td>\n",
       "      <td>NaN</td>\n",
       "      <td>NaN</td>\n",
       "      <td>NaN</td>\n",
       "      <td>27.111111</td>\n",
       "    </tr>\n",
       "    <tr>\n",
       "      <th>3129800</th>\n",
       "      <td>NaN</td>\n",
       "      <td>NaN</td>\n",
       "      <td>NaN</td>\n",
       "      <td>NaN</td>\n",
       "      <td>NaN</td>\n",
       "      <td>NaN</td>\n",
       "      <td>NaN</td>\n",
       "      <td>NaN</td>\n",
       "      <td>NaN</td>\n",
       "      <td>NaN</td>\n",
       "      <td>NaN</td>\n",
       "      <td>NaN</td>\n",
       "      <td>NaN</td>\n",
       "      <td>NaN</td>\n",
       "      <td>NaN</td>\n",
       "      <td>NaN</td>\n",
       "      <td>NaN</td>\n",
       "      <td>NaN</td>\n",
       "    </tr>\n",
       "    <tr>\n",
       "      <th>3289765</th>\n",
       "      <td>NaN</td>\n",
       "      <td>NaN</td>\n",
       "      <td>NaN</td>\n",
       "      <td>NaN</td>\n",
       "      <td>NaN</td>\n",
       "      <td>NaN</td>\n",
       "      <td>NaN</td>\n",
       "      <td>NaN</td>\n",
       "      <td>NaN</td>\n",
       "      <td>NaN</td>\n",
       "      <td>NaN</td>\n",
       "      <td>NaN</td>\n",
       "      <td>NaN</td>\n",
       "      <td>NaN</td>\n",
       "      <td>NaN</td>\n",
       "      <td>NaN</td>\n",
       "      <td>NaN</td>\n",
       "      <td>NaN</td>\n",
       "    </tr>\n",
       "    <tr>\n",
       "      <th>3325662</th>\n",
       "      <td>NaN</td>\n",
       "      <td>NaN</td>\n",
       "      <td>NaN</td>\n",
       "      <td>NaN</td>\n",
       "      <td>NaN</td>\n",
       "      <td>NaN</td>\n",
       "      <td>NaN</td>\n",
       "      <td>30.0</td>\n",
       "      <td>NaN</td>\n",
       "      <td>NaN</td>\n",
       "      <td>NaN</td>\n",
       "      <td>NaN</td>\n",
       "      <td>NaN</td>\n",
       "      <td>NaN</td>\n",
       "      <td>NaN</td>\n",
       "      <td>NaN</td>\n",
       "      <td>NaN</td>\n",
       "      <td>NaN</td>\n",
       "    </tr>\n",
       "  </tbody>\n",
       "</table>\n",
       "</div>"
      ],
      "text/plain": [
       "         com.gopaktor.credit.v2.1000  com.gopaktor.credit.v2.10000  \\\n",
       "cust_id                                                              \n",
       "2942914                          NaN                           NaN   \n",
       "3053432                          NaN                           NaN   \n",
       "3129800                          NaN                           NaN   \n",
       "3289765                          NaN                           NaN   \n",
       "3325662                          NaN                           NaN   \n",
       "\n",
       "         com.gopaktor.credit.v2.3000  com.gopaktor.credit.v2.6000  \\\n",
       "cust_id                                                             \n",
       "2942914                          NaN                          NaN   \n",
       "3053432                          NaN                          NaN   \n",
       "3129800                          NaN                          NaN   \n",
       "3289765                          NaN                          NaN   \n",
       "3325662                          NaN                          NaN   \n",
       "\n",
       "         com.gopaktor.credit.v3.2000  com.gopaktor.subscription.v1.premium.1m  \\\n",
       "cust_id                                                                         \n",
       "2942914                          NaN                                      NaN   \n",
       "3053432                          NaN                                      NaN   \n",
       "3129800                          NaN                                      NaN   \n",
       "3289765                          NaN                                      NaN   \n",
       "3325662                          NaN                                      NaN   \n",
       "\n",
       "         com.gopaktor.subscription.v11.premium.6m  \\\n",
       "cust_id                                             \n",
       "2942914                                       NaN   \n",
       "3053432                                       NaN   \n",
       "3129800                                       NaN   \n",
       "3289765                                       NaN   \n",
       "3325662                                       NaN   \n",
       "\n",
       "         com.gopaktor.subscription.v12.premium.1m  \\\n",
       "cust_id                                             \n",
       "2942914                                       NaN   \n",
       "3053432                                       NaN   \n",
       "3129800                                       NaN   \n",
       "3289765                                       NaN   \n",
       "3325662                                      30.0   \n",
       "\n",
       "         com.gopaktor.subscription.v12.premium.3m  \\\n",
       "cust_id                                             \n",
       "2942914                                       NaN   \n",
       "3053432                                       NaN   \n",
       "3129800                                       NaN   \n",
       "3289765                                       NaN   \n",
       "3325662                                       NaN   \n",
       "\n",
       "         com.gopaktor.subscription.v2.premium.1m.2000  \\\n",
       "cust_id                                                 \n",
       "2942914                                           NaN   \n",
       "3053432                                           NaN   \n",
       "3129800                                           NaN   \n",
       "3289765                                           NaN   \n",
       "3325662                                           NaN   \n",
       "\n",
       "         com.gopaktor.subscription.v2.premium.1m.3000  \\\n",
       "cust_id                                                 \n",
       "2942914                                           NaN   \n",
       "3053432                                           NaN   \n",
       "3129800                                           NaN   \n",
       "3289765                                           NaN   \n",
       "3325662                                           NaN   \n",
       "\n",
       "         com.gopaktor.subscription.v2.premium.3m  \\\n",
       "cust_id                                            \n",
       "2942914                                      NaN   \n",
       "3053432                                      NaN   \n",
       "3129800                                      NaN   \n",
       "3289765                                      NaN   \n",
       "3325662                                      NaN   \n",
       "\n",
       "         com.gopaktor.subscription.v2.premium.3m.2000  \\\n",
       "cust_id                                                 \n",
       "2942914                                           NaN   \n",
       "3053432                                           NaN   \n",
       "3129800                                           NaN   \n",
       "3289765                                           NaN   \n",
       "3325662                                           NaN   \n",
       "\n",
       "         com.gopaktor.subscription.v2.premium.6m  \\\n",
       "cust_id                                            \n",
       "2942914                                      NaN   \n",
       "3053432                                      NaN   \n",
       "3129800                                      NaN   \n",
       "3289765                                      NaN   \n",
       "3325662                                      NaN   \n",
       "\n",
       "         com.gopaktor.subscription.v2.premium.6m.2000  \\\n",
       "cust_id                                                 \n",
       "2942914                                           NaN   \n",
       "3053432                                           NaN   \n",
       "3129800                                           NaN   \n",
       "3289765                                           NaN   \n",
       "3325662                                           NaN   \n",
       "\n",
       "         com.gopaktor.subscription.v3.premium.3m  \\\n",
       "cust_id                                            \n",
       "2942914                                      NaN   \n",
       "3053432                                      NaN   \n",
       "3129800                                      NaN   \n",
       "3289765                                      NaN   \n",
       "3325662                                      NaN   \n",
       "\n",
       "         com.gopaktor.subscription.v3.premium.6m  \\\n",
       "cust_id                                            \n",
       "2942914                                      NaN   \n",
       "3053432                                      NaN   \n",
       "3129800                                      NaN   \n",
       "3289765                                      NaN   \n",
       "3325662                                      NaN   \n",
       "\n",
       "         com.gopaktor.subscription.v4.premium.1m  \n",
       "cust_id                                           \n",
       "2942914                                      NaN  \n",
       "3053432                                27.111111  \n",
       "3129800                                      NaN  \n",
       "3289765                                      NaN  \n",
       "3325662                                      NaN  "
      ]
     },
     "execution_count": 92,
     "metadata": {},
     "output_type": "execute_result"
    }
   ],
   "source": [
    "abc.head()"
   ]
  },
  {
   "cell_type": "code",
   "execution_count": 93,
   "metadata": {
    "collapsed": true
   },
   "outputs": [],
   "source": [
    "products = pd.DataFrame(abc.columns)"
   ]
  },
  {
   "cell_type": "code",
   "execution_count": null,
   "metadata": {
    "collapsed": false
   },
   "outputs": [],
   "source": [
    "products"
   ]
  },
  {
   "cell_type": "code",
   "execution_count": 94,
   "metadata": {
    "collapsed": false
   },
   "outputs": [],
   "source": [
    "products.rename(columns={0:'product_id'}, inplace=True)"
   ]
  },
  {
   "cell_type": "code",
   "execution_count": null,
   "metadata": {
    "collapsed": false
   },
   "outputs": [],
   "source": [
    "products"
   ]
  },
  {
   "cell_type": "code",
   "execution_count": 198,
   "metadata": {
    "collapsed": true
   },
   "outputs": [],
   "source": [
    "art = abc[products.product_id[products.index]].sum() / abc[products.product_id[products.index]].count()"
   ]
  },
  {
   "cell_type": "code",
   "execution_count": null,
   "metadata": {
    "collapsed": false
   },
   "outputs": [],
   "source": [
    "type(art)"
   ]
  },
  {
   "cell_type": "code",
   "execution_count": 199,
   "metadata": {
    "collapsed": false
   },
   "outputs": [],
   "source": [
    "art = art.to_frame()"
   ]
  },
  {
   "cell_type": "code",
   "execution_count": 200,
   "metadata": {
    "collapsed": false
   },
   "outputs": [
    {
     "data": {
      "text/html": [
       "<div>\n",
       "<table border=\"1\" class=\"dataframe\">\n",
       "  <thead>\n",
       "    <tr style=\"text-align: right;\">\n",
       "      <th></th>\n",
       "      <th>0</th>\n",
       "    </tr>\n",
       "  </thead>\n",
       "  <tbody>\n",
       "    <tr>\n",
       "      <th>com.gopaktor.credit.v2.1000</th>\n",
       "      <td>1.586538</td>\n",
       "    </tr>\n",
       "    <tr>\n",
       "      <th>com.gopaktor.credit.v2.10000</th>\n",
       "      <td>NaN</td>\n",
       "    </tr>\n",
       "    <tr>\n",
       "      <th>com.gopaktor.credit.v2.3000</th>\n",
       "      <td>NaN</td>\n",
       "    </tr>\n",
       "    <tr>\n",
       "      <th>com.gopaktor.credit.v2.6000</th>\n",
       "      <td>NaN</td>\n",
       "    </tr>\n",
       "    <tr>\n",
       "      <th>com.gopaktor.credit.v3.2000</th>\n",
       "      <td>NaN</td>\n",
       "    </tr>\n",
       "    <tr>\n",
       "      <th>com.gopaktor.subscription.v1.premium.1m</th>\n",
       "      <td>30.151834</td>\n",
       "    </tr>\n",
       "    <tr>\n",
       "      <th>com.gopaktor.subscription.v11.premium.6m</th>\n",
       "      <td>NaN</td>\n",
       "    </tr>\n",
       "    <tr>\n",
       "      <th>com.gopaktor.subscription.v12.premium.1m</th>\n",
       "      <td>30.318182</td>\n",
       "    </tr>\n",
       "    <tr>\n",
       "      <th>com.gopaktor.subscription.v12.premium.3m</th>\n",
       "      <td>91.250000</td>\n",
       "    </tr>\n",
       "    <tr>\n",
       "      <th>com.gopaktor.subscription.v2.premium.1m.2000</th>\n",
       "      <td>29.507519</td>\n",
       "    </tr>\n",
       "    <tr>\n",
       "      <th>com.gopaktor.subscription.v2.premium.1m.3000</th>\n",
       "      <td>NaN</td>\n",
       "    </tr>\n",
       "    <tr>\n",
       "      <th>com.gopaktor.subscription.v2.premium.3m</th>\n",
       "      <td>91.000000</td>\n",
       "    </tr>\n",
       "    <tr>\n",
       "      <th>com.gopaktor.subscription.v2.premium.3m.2000</th>\n",
       "      <td>91.000000</td>\n",
       "    </tr>\n",
       "    <tr>\n",
       "      <th>com.gopaktor.subscription.v2.premium.6m</th>\n",
       "      <td>NaN</td>\n",
       "    </tr>\n",
       "    <tr>\n",
       "      <th>com.gopaktor.subscription.v2.premium.6m.2000</th>\n",
       "      <td>NaN</td>\n",
       "    </tr>\n",
       "    <tr>\n",
       "      <th>com.gopaktor.subscription.v3.premium.3m</th>\n",
       "      <td>92.000000</td>\n",
       "    </tr>\n",
       "    <tr>\n",
       "      <th>com.gopaktor.subscription.v3.premium.6m</th>\n",
       "      <td>NaN</td>\n",
       "    </tr>\n",
       "    <tr>\n",
       "      <th>com.gopaktor.subscription.v4.premium.1m</th>\n",
       "      <td>30.733682</td>\n",
       "    </tr>\n",
       "  </tbody>\n",
       "</table>\n",
       "</div>"
      ],
      "text/plain": [
       "                                                      0\n",
       "com.gopaktor.credit.v2.1000                    1.586538\n",
       "com.gopaktor.credit.v2.10000                        NaN\n",
       "com.gopaktor.credit.v2.3000                         NaN\n",
       "com.gopaktor.credit.v2.6000                         NaN\n",
       "com.gopaktor.credit.v3.2000                         NaN\n",
       "com.gopaktor.subscription.v1.premium.1m       30.151834\n",
       "com.gopaktor.subscription.v11.premium.6m            NaN\n",
       "com.gopaktor.subscription.v12.premium.1m      30.318182\n",
       "com.gopaktor.subscription.v12.premium.3m      91.250000\n",
       "com.gopaktor.subscription.v2.premium.1m.2000  29.507519\n",
       "com.gopaktor.subscription.v2.premium.1m.3000        NaN\n",
       "com.gopaktor.subscription.v2.premium.3m       91.000000\n",
       "com.gopaktor.subscription.v2.premium.3m.2000  91.000000\n",
       "com.gopaktor.subscription.v2.premium.6m             NaN\n",
       "com.gopaktor.subscription.v2.premium.6m.2000        NaN\n",
       "com.gopaktor.subscription.v3.premium.3m       92.000000\n",
       "com.gopaktor.subscription.v3.premium.6m             NaN\n",
       "com.gopaktor.subscription.v4.premium.1m       30.733682"
      ]
     },
     "execution_count": 200,
     "metadata": {},
     "output_type": "execute_result"
    }
   ],
   "source": [
    "art"
   ]
  },
  {
   "cell_type": "code",
   "execution_count": 201,
   "metadata": {
    "collapsed": true
   },
   "outputs": [],
   "source": [
    "art.reset_index(inplace=True)"
   ]
  },
  {
   "cell_type": "code",
   "execution_count": 202,
   "metadata": {
    "collapsed": false
   },
   "outputs": [
    {
     "data": {
      "text/html": [
       "<div>\n",
       "<table border=\"1\" class=\"dataframe\">\n",
       "  <thead>\n",
       "    <tr style=\"text-align: right;\">\n",
       "      <th></th>\n",
       "      <th>index</th>\n",
       "      <th>0</th>\n",
       "    </tr>\n",
       "  </thead>\n",
       "  <tbody>\n",
       "    <tr>\n",
       "      <th>0</th>\n",
       "      <td>com.gopaktor.credit.v2.1000</td>\n",
       "      <td>1.586538</td>\n",
       "    </tr>\n",
       "    <tr>\n",
       "      <th>1</th>\n",
       "      <td>com.gopaktor.credit.v2.10000</td>\n",
       "      <td>NaN</td>\n",
       "    </tr>\n",
       "    <tr>\n",
       "      <th>2</th>\n",
       "      <td>com.gopaktor.credit.v2.3000</td>\n",
       "      <td>NaN</td>\n",
       "    </tr>\n",
       "    <tr>\n",
       "      <th>3</th>\n",
       "      <td>com.gopaktor.credit.v2.6000</td>\n",
       "      <td>NaN</td>\n",
       "    </tr>\n",
       "    <tr>\n",
       "      <th>4</th>\n",
       "      <td>com.gopaktor.credit.v3.2000</td>\n",
       "      <td>NaN</td>\n",
       "    </tr>\n",
       "    <tr>\n",
       "      <th>5</th>\n",
       "      <td>com.gopaktor.subscription.v1.premium.1m</td>\n",
       "      <td>30.151834</td>\n",
       "    </tr>\n",
       "    <tr>\n",
       "      <th>6</th>\n",
       "      <td>com.gopaktor.subscription.v11.premium.6m</td>\n",
       "      <td>NaN</td>\n",
       "    </tr>\n",
       "    <tr>\n",
       "      <th>7</th>\n",
       "      <td>com.gopaktor.subscription.v12.premium.1m</td>\n",
       "      <td>30.318182</td>\n",
       "    </tr>\n",
       "    <tr>\n",
       "      <th>8</th>\n",
       "      <td>com.gopaktor.subscription.v12.premium.3m</td>\n",
       "      <td>91.250000</td>\n",
       "    </tr>\n",
       "    <tr>\n",
       "      <th>9</th>\n",
       "      <td>com.gopaktor.subscription.v2.premium.1m.2000</td>\n",
       "      <td>29.507519</td>\n",
       "    </tr>\n",
       "    <tr>\n",
       "      <th>10</th>\n",
       "      <td>com.gopaktor.subscription.v2.premium.1m.3000</td>\n",
       "      <td>NaN</td>\n",
       "    </tr>\n",
       "    <tr>\n",
       "      <th>11</th>\n",
       "      <td>com.gopaktor.subscription.v2.premium.3m</td>\n",
       "      <td>91.000000</td>\n",
       "    </tr>\n",
       "    <tr>\n",
       "      <th>12</th>\n",
       "      <td>com.gopaktor.subscription.v2.premium.3m.2000</td>\n",
       "      <td>91.000000</td>\n",
       "    </tr>\n",
       "    <tr>\n",
       "      <th>13</th>\n",
       "      <td>com.gopaktor.subscription.v2.premium.6m</td>\n",
       "      <td>NaN</td>\n",
       "    </tr>\n",
       "    <tr>\n",
       "      <th>14</th>\n",
       "      <td>com.gopaktor.subscription.v2.premium.6m.2000</td>\n",
       "      <td>NaN</td>\n",
       "    </tr>\n",
       "    <tr>\n",
       "      <th>15</th>\n",
       "      <td>com.gopaktor.subscription.v3.premium.3m</td>\n",
       "      <td>92.000000</td>\n",
       "    </tr>\n",
       "    <tr>\n",
       "      <th>16</th>\n",
       "      <td>com.gopaktor.subscription.v3.premium.6m</td>\n",
       "      <td>NaN</td>\n",
       "    </tr>\n",
       "    <tr>\n",
       "      <th>17</th>\n",
       "      <td>com.gopaktor.subscription.v4.premium.1m</td>\n",
       "      <td>30.733682</td>\n",
       "    </tr>\n",
       "  </tbody>\n",
       "</table>\n",
       "</div>"
      ],
      "text/plain": [
       "                                           index          0\n",
       "0                    com.gopaktor.credit.v2.1000   1.586538\n",
       "1                   com.gopaktor.credit.v2.10000        NaN\n",
       "2                    com.gopaktor.credit.v2.3000        NaN\n",
       "3                    com.gopaktor.credit.v2.6000        NaN\n",
       "4                    com.gopaktor.credit.v3.2000        NaN\n",
       "5        com.gopaktor.subscription.v1.premium.1m  30.151834\n",
       "6       com.gopaktor.subscription.v11.premium.6m        NaN\n",
       "7       com.gopaktor.subscription.v12.premium.1m  30.318182\n",
       "8       com.gopaktor.subscription.v12.premium.3m  91.250000\n",
       "9   com.gopaktor.subscription.v2.premium.1m.2000  29.507519\n",
       "10  com.gopaktor.subscription.v2.premium.1m.3000        NaN\n",
       "11       com.gopaktor.subscription.v2.premium.3m  91.000000\n",
       "12  com.gopaktor.subscription.v2.premium.3m.2000  91.000000\n",
       "13       com.gopaktor.subscription.v2.premium.6m        NaN\n",
       "14  com.gopaktor.subscription.v2.premium.6m.2000        NaN\n",
       "15       com.gopaktor.subscription.v3.premium.3m  92.000000\n",
       "16       com.gopaktor.subscription.v3.premium.6m        NaN\n",
       "17       com.gopaktor.subscription.v4.premium.1m  30.733682"
      ]
     },
     "execution_count": 202,
     "metadata": {},
     "output_type": "execute_result"
    }
   ],
   "source": [
    "art"
   ]
  },
  {
   "cell_type": "code",
   "execution_count": 203,
   "metadata": {
    "collapsed": true
   },
   "outputs": [],
   "source": [
    "art.rename(columns={'index':'product_id'}, inplace=True)"
   ]
  },
  {
   "cell_type": "code",
   "execution_count": 204,
   "metadata": {
    "collapsed": true
   },
   "outputs": [],
   "source": [
    "art.rename(columns={0:'average_repurchase_time'}, inplace=True)"
   ]
  },
  {
   "cell_type": "code",
   "execution_count": 205,
   "metadata": {
    "collapsed": false
   },
   "outputs": [
    {
     "data": {
      "text/html": [
       "<div>\n",
       "<table border=\"1\" class=\"dataframe\">\n",
       "  <thead>\n",
       "    <tr style=\"text-align: right;\">\n",
       "      <th></th>\n",
       "      <th>product_id</th>\n",
       "      <th>average_repurchase_time</th>\n",
       "    </tr>\n",
       "  </thead>\n",
       "  <tbody>\n",
       "    <tr>\n",
       "      <th>0</th>\n",
       "      <td>com.gopaktor.credit.v2.1000</td>\n",
       "      <td>1.586538</td>\n",
       "    </tr>\n",
       "    <tr>\n",
       "      <th>1</th>\n",
       "      <td>com.gopaktor.credit.v2.10000</td>\n",
       "      <td>NaN</td>\n",
       "    </tr>\n",
       "    <tr>\n",
       "      <th>2</th>\n",
       "      <td>com.gopaktor.credit.v2.3000</td>\n",
       "      <td>NaN</td>\n",
       "    </tr>\n",
       "    <tr>\n",
       "      <th>3</th>\n",
       "      <td>com.gopaktor.credit.v2.6000</td>\n",
       "      <td>NaN</td>\n",
       "    </tr>\n",
       "    <tr>\n",
       "      <th>4</th>\n",
       "      <td>com.gopaktor.credit.v3.2000</td>\n",
       "      <td>NaN</td>\n",
       "    </tr>\n",
       "    <tr>\n",
       "      <th>5</th>\n",
       "      <td>com.gopaktor.subscription.v1.premium.1m</td>\n",
       "      <td>30.151834</td>\n",
       "    </tr>\n",
       "    <tr>\n",
       "      <th>6</th>\n",
       "      <td>com.gopaktor.subscription.v11.premium.6m</td>\n",
       "      <td>NaN</td>\n",
       "    </tr>\n",
       "    <tr>\n",
       "      <th>7</th>\n",
       "      <td>com.gopaktor.subscription.v12.premium.1m</td>\n",
       "      <td>30.318182</td>\n",
       "    </tr>\n",
       "    <tr>\n",
       "      <th>8</th>\n",
       "      <td>com.gopaktor.subscription.v12.premium.3m</td>\n",
       "      <td>91.250000</td>\n",
       "    </tr>\n",
       "    <tr>\n",
       "      <th>9</th>\n",
       "      <td>com.gopaktor.subscription.v2.premium.1m.2000</td>\n",
       "      <td>29.507519</td>\n",
       "    </tr>\n",
       "    <tr>\n",
       "      <th>10</th>\n",
       "      <td>com.gopaktor.subscription.v2.premium.1m.3000</td>\n",
       "      <td>NaN</td>\n",
       "    </tr>\n",
       "    <tr>\n",
       "      <th>11</th>\n",
       "      <td>com.gopaktor.subscription.v2.premium.3m</td>\n",
       "      <td>91.000000</td>\n",
       "    </tr>\n",
       "    <tr>\n",
       "      <th>12</th>\n",
       "      <td>com.gopaktor.subscription.v2.premium.3m.2000</td>\n",
       "      <td>91.000000</td>\n",
       "    </tr>\n",
       "    <tr>\n",
       "      <th>13</th>\n",
       "      <td>com.gopaktor.subscription.v2.premium.6m</td>\n",
       "      <td>NaN</td>\n",
       "    </tr>\n",
       "    <tr>\n",
       "      <th>14</th>\n",
       "      <td>com.gopaktor.subscription.v2.premium.6m.2000</td>\n",
       "      <td>NaN</td>\n",
       "    </tr>\n",
       "    <tr>\n",
       "      <th>15</th>\n",
       "      <td>com.gopaktor.subscription.v3.premium.3m</td>\n",
       "      <td>92.000000</td>\n",
       "    </tr>\n",
       "    <tr>\n",
       "      <th>16</th>\n",
       "      <td>com.gopaktor.subscription.v3.premium.6m</td>\n",
       "      <td>NaN</td>\n",
       "    </tr>\n",
       "    <tr>\n",
       "      <th>17</th>\n",
       "      <td>com.gopaktor.subscription.v4.premium.1m</td>\n",
       "      <td>30.733682</td>\n",
       "    </tr>\n",
       "  </tbody>\n",
       "</table>\n",
       "</div>"
      ],
      "text/plain": [
       "                                      product_id  average_repurchase_time\n",
       "0                    com.gopaktor.credit.v2.1000                 1.586538\n",
       "1                   com.gopaktor.credit.v2.10000                      NaN\n",
       "2                    com.gopaktor.credit.v2.3000                      NaN\n",
       "3                    com.gopaktor.credit.v2.6000                      NaN\n",
       "4                    com.gopaktor.credit.v3.2000                      NaN\n",
       "5        com.gopaktor.subscription.v1.premium.1m                30.151834\n",
       "6       com.gopaktor.subscription.v11.premium.6m                      NaN\n",
       "7       com.gopaktor.subscription.v12.premium.1m                30.318182\n",
       "8       com.gopaktor.subscription.v12.premium.3m                91.250000\n",
       "9   com.gopaktor.subscription.v2.premium.1m.2000                29.507519\n",
       "10  com.gopaktor.subscription.v2.premium.1m.3000                      NaN\n",
       "11       com.gopaktor.subscription.v2.premium.3m                91.000000\n",
       "12  com.gopaktor.subscription.v2.premium.3m.2000                91.000000\n",
       "13       com.gopaktor.subscription.v2.premium.6m                      NaN\n",
       "14  com.gopaktor.subscription.v2.premium.6m.2000                      NaN\n",
       "15       com.gopaktor.subscription.v3.premium.3m                92.000000\n",
       "16       com.gopaktor.subscription.v3.premium.6m                      NaN\n",
       "17       com.gopaktor.subscription.v4.premium.1m                30.733682"
      ]
     },
     "execution_count": 205,
     "metadata": {},
     "output_type": "execute_result"
    }
   ],
   "source": [
    "art"
   ]
  },
  {
   "cell_type": "code",
   "execution_count": 178,
   "metadata": {
    "collapsed": false
   },
   "outputs": [
    {
     "data": {
      "text/html": [
       "<div>\n",
       "<table border=\"1\" class=\"dataframe\">\n",
       "  <thead>\n",
       "    <tr style=\"text-align: right;\">\n",
       "      <th></th>\n",
       "      <th>cust_id</th>\n",
       "      <th>product_id</th>\n",
       "      <th>timestamp</th>\n",
       "      <th>count</th>\n",
       "      <th>time</th>\n",
       "      <th>days_int</th>\n",
       "      <th>repurchase_time</th>\n",
       "      <th>xyz</th>\n",
       "    </tr>\n",
       "  </thead>\n",
       "  <tbody>\n",
       "    <tr>\n",
       "      <th>0</th>\n",
       "      <td>2942914</td>\n",
       "      <td>com.gopaktor.subscription.v1.premium.1m</td>\n",
       "      <td>2016-12-24 09:53:35+00:00</td>\n",
       "      <td>NaN</td>\n",
       "      <td>0 days 00:00:00</td>\n",
       "      <td>0</td>\n",
       "      <td>NaN</td>\n",
       "      <td>0</td>\n",
       "    </tr>\n",
       "    <tr>\n",
       "      <th>1</th>\n",
       "      <td>3053432</td>\n",
       "      <td>com.gopaktor.subscription.v4.premium.1m</td>\n",
       "      <td>2017-01-26 06:22:00+00:00</td>\n",
       "      <td>10.0</td>\n",
       "      <td>245 days 01:54:56</td>\n",
       "      <td>245</td>\n",
       "      <td>27.1111</td>\n",
       "      <td>245</td>\n",
       "    </tr>\n",
       "    <tr>\n",
       "      <th>2</th>\n",
       "      <td>3129800</td>\n",
       "      <td>com.gopaktor.subscription.v1.premium.1m</td>\n",
       "      <td>2016-12-09 07:57:37+00:00</td>\n",
       "      <td>NaN</td>\n",
       "      <td>0 days 00:00:00</td>\n",
       "      <td>0</td>\n",
       "      <td>NaN</td>\n",
       "      <td>0</td>\n",
       "    </tr>\n",
       "    <tr>\n",
       "      <th>3</th>\n",
       "      <td>3289765</td>\n",
       "      <td>com.gopaktor.subscription.v2.premium.6m.2000</td>\n",
       "      <td>2016-12-06 11:37:37+00:00</td>\n",
       "      <td>NaN</td>\n",
       "      <td>0 days 00:00:00</td>\n",
       "      <td>0</td>\n",
       "      <td>NaN</td>\n",
       "      <td>0</td>\n",
       "    </tr>\n",
       "    <tr>\n",
       "      <th>4</th>\n",
       "      <td>3325662</td>\n",
       "      <td>com.gopaktor.subscription.v12.premium.1m</td>\n",
       "      <td>2016-12-03 04:36:00+00:00</td>\n",
       "      <td>2.0</td>\n",
       "      <td>31 days 01:49:48</td>\n",
       "      <td>31</td>\n",
       "      <td>30</td>\n",
       "      <td>31</td>\n",
       "    </tr>\n",
       "  </tbody>\n",
       "</table>\n",
       "</div>"
      ],
      "text/plain": [
       "   cust_id                                    product_id  \\\n",
       "0  2942914       com.gopaktor.subscription.v1.premium.1m   \n",
       "1  3053432       com.gopaktor.subscription.v4.premium.1m   \n",
       "2  3129800       com.gopaktor.subscription.v1.premium.1m   \n",
       "3  3289765  com.gopaktor.subscription.v2.premium.6m.2000   \n",
       "4  3325662      com.gopaktor.subscription.v12.premium.1m   \n",
       "\n",
       "                  timestamp  count              time days_int repurchase_time  \\\n",
       "0 2016-12-24 09:53:35+00:00    NaN   0 days 00:00:00        0             NaN   \n",
       "1 2017-01-26 06:22:00+00:00   10.0 245 days 01:54:56      245         27.1111   \n",
       "2 2016-12-09 07:57:37+00:00    NaN   0 days 00:00:00        0             NaN   \n",
       "3 2016-12-06 11:37:37+00:00    NaN   0 days 00:00:00        0             NaN   \n",
       "4 2016-12-03 04:36:00+00:00    2.0  31 days 01:49:48       31              30   \n",
       "\n",
       "   xyz  \n",
       "0    0  \n",
       "1  245  \n",
       "2    0  \n",
       "3    0  \n",
       "4   31  "
      ]
     },
     "execution_count": 178,
     "metadata": {},
     "output_type": "execute_result"
    }
   ],
   "source": [
    "cust_repur_original.head()"
   ]
  },
  {
   "cell_type": "code",
   "execution_count": 167,
   "metadata": {
    "collapsed": false
   },
   "outputs": [
    {
     "ename": "AttributeError",
     "evalue": "'_iLocIndexer' object has no attribute 'to_datetime'",
     "output_type": "error",
     "traceback": [
      "\u001b[1;31m---------------------------------------------------------------------------\u001b[0m",
      "\u001b[1;31mAttributeError\u001b[0m                            Traceback (most recent call last)",
      "\u001b[1;32m<ipython-input-167-f559670a1037>\u001b[0m in \u001b[0;36m<module>\u001b[1;34m()\u001b[0m\n\u001b[1;32m----> 1\u001b[1;33m \u001b[0mcust_repur_original\u001b[0m\u001b[1;33m.\u001b[0m\u001b[0mtimestamp\u001b[0m\u001b[1;33m.\u001b[0m\u001b[0miloc\u001b[0m \u001b[1;33m=\u001b[0m \u001b[0mcust_repur_original\u001b[0m\u001b[1;33m.\u001b[0m\u001b[0mtimestamp\u001b[0m\u001b[1;33m.\u001b[0m\u001b[0miloc\u001b[0m\u001b[1;33m.\u001b[0m\u001b[0mto_datetime\u001b[0m\u001b[1;33m(\u001b[0m\u001b[1;33m)\u001b[0m\u001b[1;33m\u001b[0m\u001b[0m\n\u001b[0m",
      "\u001b[1;31mAttributeError\u001b[0m: '_iLocIndexer' object has no attribute 'to_datetime'"
     ]
    }
   ],
   "source": [
    "cust_repur_original.timestamp.iloc = cust_repur_original.timestamp.iloc.to_datetime()"
   ]
  },
  {
   "cell_type": "code",
   "execution_count": 176,
   "metadata": {
    "collapsed": false
   },
   "outputs": [
    {
     "data": {
      "text/plain": [
       "pandas.tslib.Timestamp"
      ]
     },
     "execution_count": 176,
     "metadata": {},
     "output_type": "execute_result"
    }
   ],
   "source": [
    "type(cust_repur_original.timestamp[0])"
   ]
  },
  {
   "cell_type": "code",
   "execution_count": 164,
   "metadata": {
    "collapsed": false
   },
   "outputs": [
    {
     "data": {
      "text/plain": [
       "datetime.datetime(2017, 3, 26, 14, 25, 36, 710185)"
      ]
     },
     "execution_count": 164,
     "metadata": {},
     "output_type": "execute_result"
    }
   ],
   "source": [
    "dt.datetime.today()"
   ]
  },
  {
   "cell_type": "code",
   "execution_count": 187,
   "metadata": {
    "collapsed": true
   },
   "outputs": [
    {
     "data": {
      "text/plain": [
       "2790    2016-12-24\n",
       "3556    2017-01-26\n",
       "2529    2016-12-09\n",
       "1308    2016-12-06\n",
       "2411    2016-12-03\n",
       "3697    2016-12-30\n",
       "1949    2016-12-25\n",
       "2504    2016-12-07\n",
       "2577    2016-12-12\n",
       "868     2016-11-15\n",
       "2       2016-10-01\n",
       "3264    2017-01-17\n",
       "1732    2016-11-05\n",
       "213     2016-10-01\n",
       "2196    2016-11-22\n",
       "3       2016-10-01\n",
       "17      2016-10-02\n",
       "3550    2017-02-01\n",
       "556     2016-11-02\n",
       "58      2016-10-07\n",
       "1603    2016-11-02\n",
       "4       2016-10-01\n",
       "5       2016-10-01\n",
       "1861    2016-11-09\n",
       "1602    2016-11-02\n",
       "2019    2016-11-14\n",
       "237     2016-10-04\n",
       "1245    2016-12-06\n",
       "8       2016-10-01\n",
       "1285    2016-12-08\n",
       "           ...    \n",
       "4386    2017-02-03\n",
       "4391    2017-02-03\n",
       "3627    2017-02-03\n",
       "4390    2017-02-03\n",
       "3634    2017-02-04\n",
       "4395    2017-02-04\n",
       "3638    2017-02-04\n",
       "4397    2017-02-04\n",
       "3656    2017-02-04\n",
       "4398    2017-02-04\n",
       "3644    2017-02-04\n",
       "3646    2017-02-04\n",
       "3648    2017-02-04\n",
       "3650    2017-02-04\n",
       "4405    2017-02-04\n",
       "4410    2017-02-05\n",
       "4412    2017-02-05\n",
       "4416    2017-02-05\n",
       "3658    2017-02-05\n",
       "3659    2017-02-05\n",
       "3661    2017-02-05\n",
       "3663    2017-02-05\n",
       "3664    2017-02-05\n",
       "4418    2017-02-05\n",
       "3666    2017-02-05\n",
       "3668    2017-02-05\n",
       "4421    2017-02-05\n",
       "4422    2017-02-05\n",
       "3676    2017-02-06\n",
       "3679    2017-02-06\n",
       "Name: timestamp, dtype: object"
      ]
     },
     "execution_count": 187,
     "metadata": {},
     "output_type": "execute_result"
    }
   ],
   "source": [
    "cust_repur_original[\"timestamp\"].dt.date"
   ]
  },
  {
   "cell_type": "code",
   "execution_count": 174,
   "metadata": {
    "collapsed": false
   },
   "outputs": [],
   "source": [
    "cust_repur_original[\"timestamp\"] = cust_repur_original[\"timestamp\"].dt.tz_convert('UTC')"
   ]
  },
  {
   "cell_type": "code",
   "execution_count": 188,
   "metadata": {
    "collapsed": false
   },
   "outputs": [],
   "source": [
    "cust_repur_original['time_diff'] = dt.date.today() - cust_repur_original[\"timestamp\"].dt.date"
   ]
  },
  {
   "cell_type": "code",
   "execution_count": 189,
   "metadata": {
    "collapsed": false
   },
   "outputs": [
    {
     "data": {
      "text/html": [
       "<div>\n",
       "<table border=\"1\" class=\"dataframe\">\n",
       "  <thead>\n",
       "    <tr style=\"text-align: right;\">\n",
       "      <th></th>\n",
       "      <th>cust_id</th>\n",
       "      <th>product_id</th>\n",
       "      <th>timestamp</th>\n",
       "      <th>count</th>\n",
       "      <th>time</th>\n",
       "      <th>time_diff</th>\n",
       "    </tr>\n",
       "  </thead>\n",
       "  <tbody>\n",
       "    <tr>\n",
       "      <th>2790</th>\n",
       "      <td>2942914</td>\n",
       "      <td>com.gopaktor.subscription.v1.premium.1m</td>\n",
       "      <td>2016-12-24 09:53:35+00:00</td>\n",
       "      <td>NaN</td>\n",
       "      <td>0 days 00:00:00</td>\n",
       "      <td>92 days</td>\n",
       "    </tr>\n",
       "    <tr>\n",
       "      <th>3556</th>\n",
       "      <td>3053432</td>\n",
       "      <td>com.gopaktor.subscription.v4.premium.1m</td>\n",
       "      <td>2017-01-26 06:22:00+00:00</td>\n",
       "      <td>10.0</td>\n",
       "      <td>245 days 01:54:56</td>\n",
       "      <td>59 days</td>\n",
       "    </tr>\n",
       "    <tr>\n",
       "      <th>2529</th>\n",
       "      <td>3129800</td>\n",
       "      <td>com.gopaktor.subscription.v1.premium.1m</td>\n",
       "      <td>2016-12-09 07:57:37+00:00</td>\n",
       "      <td>NaN</td>\n",
       "      <td>0 days 00:00:00</td>\n",
       "      <td>107 days</td>\n",
       "    </tr>\n",
       "    <tr>\n",
       "      <th>1308</th>\n",
       "      <td>3289765</td>\n",
       "      <td>com.gopaktor.subscription.v2.premium.6m.2000</td>\n",
       "      <td>2016-12-06 11:37:37+00:00</td>\n",
       "      <td>NaN</td>\n",
       "      <td>0 days 00:00:00</td>\n",
       "      <td>110 days</td>\n",
       "    </tr>\n",
       "    <tr>\n",
       "      <th>2411</th>\n",
       "      <td>3325662</td>\n",
       "      <td>com.gopaktor.subscription.v12.premium.1m</td>\n",
       "      <td>2016-12-03 04:36:00+00:00</td>\n",
       "      <td>2.0</td>\n",
       "      <td>31 days 01:49:48</td>\n",
       "      <td>113 days</td>\n",
       "    </tr>\n",
       "  </tbody>\n",
       "</table>\n",
       "</div>"
      ],
      "text/plain": [
       "      cust_id                                    product_id  \\\n",
       "2790  2942914       com.gopaktor.subscription.v1.premium.1m   \n",
       "3556  3053432       com.gopaktor.subscription.v4.premium.1m   \n",
       "2529  3129800       com.gopaktor.subscription.v1.premium.1m   \n",
       "1308  3289765  com.gopaktor.subscription.v2.premium.6m.2000   \n",
       "2411  3325662      com.gopaktor.subscription.v12.premium.1m   \n",
       "\n",
       "                     timestamp  count              time  time_diff  \n",
       "2790 2016-12-24 09:53:35+00:00    NaN   0 days 00:00:00    92 days  \n",
       "3556 2017-01-26 06:22:00+00:00   10.0 245 days 01:54:56    59 days  \n",
       "2529 2016-12-09 07:57:37+00:00    NaN   0 days 00:00:00   107 days  \n",
       "1308 2016-12-06 11:37:37+00:00    NaN   0 days 00:00:00   110 days  \n",
       "2411 2016-12-03 04:36:00+00:00    2.0  31 days 01:49:48   113 days  "
      ]
     },
     "execution_count": 189,
     "metadata": {},
     "output_type": "execute_result"
    }
   ],
   "source": [
    "cust_repur_original.head()"
   ]
  },
  {
   "cell_type": "code",
   "execution_count": 137,
   "metadata": {
    "collapsed": false
   },
   "outputs": [
    {
     "data": {
      "text/plain": [
       "datetime.date(2017, 3, 26)"
      ]
     },
     "execution_count": 137,
     "metadata": {},
     "output_type": "execute_result"
    }
   ],
   "source": [
    "dt.datetime.now().date()"
   ]
  },
  {
   "cell_type": "code",
   "execution_count": 195,
   "metadata": {
    "collapsed": true
   },
   "outputs": [],
   "source": [
    "cust_repur_original.reset_index(drop=True, inplace=True)"
   ]
  },
  {
   "cell_type": "code",
   "execution_count": 196,
   "metadata": {
    "collapsed": false
   },
   "outputs": [
    {
     "data": {
      "text/html": [
       "<div>\n",
       "<table border=\"1\" class=\"dataframe\">\n",
       "  <thead>\n",
       "    <tr style=\"text-align: right;\">\n",
       "      <th></th>\n",
       "      <th>cust_id</th>\n",
       "      <th>product_id</th>\n",
       "      <th>timestamp</th>\n",
       "      <th>count</th>\n",
       "      <th>time</th>\n",
       "      <th>time_diff</th>\n",
       "    </tr>\n",
       "  </thead>\n",
       "  <tbody>\n",
       "    <tr>\n",
       "      <th>0</th>\n",
       "      <td>2942914</td>\n",
       "      <td>com.gopaktor.subscription.v1.premium.1m</td>\n",
       "      <td>2016-12-24 09:53:35+00:00</td>\n",
       "      <td>NaN</td>\n",
       "      <td>0 days 00:00:00</td>\n",
       "      <td>92 days</td>\n",
       "    </tr>\n",
       "    <tr>\n",
       "      <th>1</th>\n",
       "      <td>3053432</td>\n",
       "      <td>com.gopaktor.subscription.v4.premium.1m</td>\n",
       "      <td>2017-01-26 06:22:00+00:00</td>\n",
       "      <td>10.0</td>\n",
       "      <td>245 days 01:54:56</td>\n",
       "      <td>59 days</td>\n",
       "    </tr>\n",
       "    <tr>\n",
       "      <th>2</th>\n",
       "      <td>3129800</td>\n",
       "      <td>com.gopaktor.subscription.v1.premium.1m</td>\n",
       "      <td>2016-12-09 07:57:37+00:00</td>\n",
       "      <td>NaN</td>\n",
       "      <td>0 days 00:00:00</td>\n",
       "      <td>107 days</td>\n",
       "    </tr>\n",
       "    <tr>\n",
       "      <th>3</th>\n",
       "      <td>3289765</td>\n",
       "      <td>com.gopaktor.subscription.v2.premium.6m.2000</td>\n",
       "      <td>2016-12-06 11:37:37+00:00</td>\n",
       "      <td>NaN</td>\n",
       "      <td>0 days 00:00:00</td>\n",
       "      <td>110 days</td>\n",
       "    </tr>\n",
       "    <tr>\n",
       "      <th>4</th>\n",
       "      <td>3325662</td>\n",
       "      <td>com.gopaktor.subscription.v12.premium.1m</td>\n",
       "      <td>2016-12-03 04:36:00+00:00</td>\n",
       "      <td>2.0</td>\n",
       "      <td>31 days 01:49:48</td>\n",
       "      <td>113 days</td>\n",
       "    </tr>\n",
       "  </tbody>\n",
       "</table>\n",
       "</div>"
      ],
      "text/plain": [
       "   cust_id                                    product_id  \\\n",
       "0  2942914       com.gopaktor.subscription.v1.premium.1m   \n",
       "1  3053432       com.gopaktor.subscription.v4.premium.1m   \n",
       "2  3129800       com.gopaktor.subscription.v1.premium.1m   \n",
       "3  3289765  com.gopaktor.subscription.v2.premium.6m.2000   \n",
       "4  3325662      com.gopaktor.subscription.v12.premium.1m   \n",
       "\n",
       "                  timestamp  count              time  time_diff  \n",
       "0 2016-12-24 09:53:35+00:00    NaN   0 days 00:00:00    92 days  \n",
       "1 2017-01-26 06:22:00+00:00   10.0 245 days 01:54:56    59 days  \n",
       "2 2016-12-09 07:57:37+00:00    NaN   0 days 00:00:00   107 days  \n",
       "3 2016-12-06 11:37:37+00:00    NaN   0 days 00:00:00   110 days  \n",
       "4 2016-12-03 04:36:00+00:00    2.0  31 days 01:49:48   113 days  "
      ]
     },
     "execution_count": 196,
     "metadata": {},
     "output_type": "execute_result"
    }
   ],
   "source": [
    "cust_repur_original.head()"
   ]
  },
  {
   "cell_type": "code",
   "execution_count": 206,
   "metadata": {
    "collapsed": false
   },
   "outputs": [],
   "source": [
    "art_dict = art.set_index('product_id')['average_repurchase_time'].to_dict()"
   ]
  },
  {
   "cell_type": "code",
   "execution_count": null,
   "metadata": {
    "collapsed": true
   },
   "outputs": [],
   "source": [
    "if cust_repur_original[\"count\"] == 0:\n",
    "    if art_dict.has_key(str(cust_repur_original[\"product_id\"])):\n",
    "        cust_repur_original.repurchase_time[x] = art_dict[str(cust_repur_original.product_id[x])]"
   ]
  },
  {
   "cell_type": "code",
   "execution_count": null,
   "metadata": {
    "collapsed": true
   },
   "outputs": [],
   "source": []
  },
  {
   "cell_type": "code",
   "execution_count": null,
   "metadata": {
    "collapsed": true
   },
   "outputs": [],
   "source": []
  },
  {
   "cell_type": "code",
   "execution_count": null,
   "metadata": {
    "collapsed": true
   },
   "outputs": [],
   "source": []
  },
  {
   "cell_type": "code",
   "execution_count": null,
   "metadata": {
    "collapsed": true
   },
   "outputs": [],
   "source": []
  },
  {
   "cell_type": "code",
   "execution_count": null,
   "metadata": {
    "collapsed": true
   },
   "outputs": [],
   "source": []
  }
 ],
 "metadata": {
  "kernelspec": {
   "display_name": "Python 2",
   "language": "python",
   "name": "python2"
  },
  "language_info": {
   "codemirror_mode": {
    "name": "ipython",
    "version": 2
   },
   "file_extension": ".py",
   "mimetype": "text/x-python",
   "name": "python",
   "nbconvert_exporter": "python",
   "pygments_lexer": "ipython2",
   "version": "2.7.11"
  }
 },
 "nbformat": 4,
 "nbformat_minor": 0
}
