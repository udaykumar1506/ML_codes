{
 "cells": [
  {
   "cell_type": "code",
   "execution_count": 1,
   "metadata": {
    "collapsed": true
   },
   "outputs": [],
   "source": [
    "from DemoServerDB import ConnectDatabase\n",
    "from mapping import doc"
   ]
  },
  {
   "cell_type": "code",
   "execution_count": 2,
   "metadata": {
    "collapsed": true
   },
   "outputs": [],
   "source": [
    "temp = ConnectDatabase()"
   ]
  },
  {
   "cell_type": "code",
   "execution_count": 3,
   "metadata": {
    "collapsed": false
   },
   "outputs": [
    {
     "data": {
      "text/plain": [
       "<connection object at 0x7f72ad4dc398; dsn: 'dbname=postgresdemo user=clientdemo password=xxxxxxxxxxx host=postgresdemo.c3yxphqgag3s.ap-southeast-1.rds.amazonaws.com port=5432 sslmode=require', closed: 0>"
      ]
     },
     "execution_count": 3,
     "metadata": {},
     "output_type": "execute_result"
    }
   ],
   "source": [
    "temp.conn"
   ]
  },
  {
   "cell_type": "code",
   "execution_count": 4,
   "metadata": {
    "collapsed": false
   },
   "outputs": [
    {
     "data": {
      "text/plain": [
       "{'CUSTOMER_CONTACT': {'cust_id': 'id',\n",
       "  'email_id': 'email',\n",
       "  'facebook_id': 'facebook_id',\n",
       "  'firstname': 'first_name',\n",
       "  'lastname': 'last_name',\n",
       "  'phone_number': 'phone'},\n",
       " 'CUSTOMER_MASTER': {'birthday': 'birthday',\n",
       "  'create_date': 'create_date',\n",
       "  'cust_id': 'id'},\n",
       " 'CUSTOMER_SECONDARY': {'cust_id': 'cust_id'},\n",
       " 'EVENT_LOG': {'action_type': 'actiontype',\n",
       "  'cust_id': 'from_id',\n",
       "  'product_id': 'to_id',\n",
       "  'timestamp': 'timestamp'},\n",
       " 'EVENT_MASTER': {'action_category_id': None,\n",
       "  'action_category_name': None,\n",
       "  'action_name': 'action_desc',\n",
       "  'action_type': 'actiontype'},\n",
       " 'TRANSACTION_MASTER': {'cust_id': 'userid',\n",
       "  'product_id': 'product_id',\n",
       "  'quantity': 'quantity',\n",
       "  'renewal': 'renewal',\n",
       "  'revenue': 'revenue',\n",
       "  'timestamp': 'purchase_date'}}"
      ]
     },
     "execution_count": 4,
     "metadata": {},
     "output_type": "execute_result"
    }
   ],
   "source": [
    "doc['column_map']"
   ]
  },
  {
   "cell_type": "code",
   "execution_count": 5,
   "metadata": {
    "collapsed": true
   },
   "outputs": [],
   "source": [
    "query = 'SELECT \"%s\",\"%s\",\"%s\" FROM %s'%(doc['column_map']['TRANSACTION_MASTER']['cust_id'],\n",
    "                                         doc['column_map']['TRANSACTION_MASTER']['product_id'],\n",
    "                                         doc['column_map']['TRANSACTION_MASTER']['timestamp'],\n",
    "                                         doc['table_map']['TRANSACTION_MASTER'])"
   ]
  },
  {
   "cell_type": "code",
   "execution_count": 6,
   "metadata": {
    "collapsed": false
   },
   "outputs": [
    {
     "name": "stdout",
     "output_type": "stream",
     "text": [
      "SELECT \"userid\",\"product_id\",\"purchase_date\" FROM trans\n"
     ]
    }
   ],
   "source": [
    "print query"
   ]
  },
  {
   "cell_type": "code",
   "execution_count": 7,
   "metadata": {
    "collapsed": true
   },
   "outputs": [],
   "source": [
    "temp.conn.rollback()"
   ]
  },
  {
   "cell_type": "code",
   "execution_count": 8,
   "metadata": {
    "collapsed": true
   },
   "outputs": [],
   "source": [
    "temp.cur.execute(query)"
   ]
  },
  {
   "cell_type": "code",
   "execution_count": 9,
   "metadata": {
    "collapsed": true
   },
   "outputs": [],
   "source": [
    "col_names = [desc[0] for desc in temp.cur.description]"
   ]
  },
  {
   "cell_type": "code",
   "execution_count": 10,
   "metadata": {
    "collapsed": false
   },
   "outputs": [
    {
     "data": {
      "text/plain": [
       "['userid', 'product_id', 'purchase_date']"
      ]
     },
     "execution_count": 10,
     "metadata": {},
     "output_type": "execute_result"
    }
   ],
   "source": [
    "col_names"
   ]
  },
  {
   "cell_type": "code",
   "execution_count": 11,
   "metadata": {
    "collapsed": true
   },
   "outputs": [],
   "source": [
    "import pandas as pd"
   ]
  },
  {
   "cell_type": "code",
   "execution_count": 12,
   "metadata": {
    "collapsed": true
   },
   "outputs": [],
   "source": [
    "trans_table = pd.DataFrame(temp.cur.fetchall(), columns=col_names)"
   ]
  },
  {
   "cell_type": "code",
   "execution_count": 13,
   "metadata": {
    "collapsed": false
   },
   "outputs": [
    {
     "data": {
      "text/html": [
       "<div>\n",
       "<table border=\"1\" class=\"dataframe\">\n",
       "  <thead>\n",
       "    <tr style=\"text-align: right;\">\n",
       "      <th></th>\n",
       "      <th>userid</th>\n",
       "      <th>product_id</th>\n",
       "      <th>purchase_date</th>\n",
       "    </tr>\n",
       "  </thead>\n",
       "  <tbody>\n",
       "    <tr>\n",
       "      <th>0</th>\n",
       "      <td>3893506</td>\n",
       "      <td>com.gopaktor.subscription.v1.premium.1m</td>\n",
       "      <td>2016-09-07 13:59:45+00:00</td>\n",
       "    </tr>\n",
       "    <tr>\n",
       "      <th>1</th>\n",
       "      <td>3793254</td>\n",
       "      <td>com.gopaktor.subscription.v1.premium.1m</td>\n",
       "      <td>2016-09-25 03:06:11+00:00</td>\n",
       "    </tr>\n",
       "    <tr>\n",
       "      <th>2</th>\n",
       "      <td>6148794</td>\n",
       "      <td>com.gopaktor.subscription.v1.premium.1m</td>\n",
       "      <td>2016-10-01 02:27:37+00:00</td>\n",
       "    </tr>\n",
       "    <tr>\n",
       "      <th>3</th>\n",
       "      <td>6149220</td>\n",
       "      <td>com.gopaktor.subscription.v4.premium.1m</td>\n",
       "      <td>2016-10-01 06:39:16+00:00</td>\n",
       "    </tr>\n",
       "    <tr>\n",
       "      <th>4</th>\n",
       "      <td>6149432</td>\n",
       "      <td>com.gopaktor.subscription.v4.premium.1m</td>\n",
       "      <td>2016-10-01 09:07:49+00:00</td>\n",
       "    </tr>\n",
       "  </tbody>\n",
       "</table>\n",
       "</div>"
      ],
      "text/plain": [
       "    userid                               product_id             purchase_date\n",
       "0  3893506  com.gopaktor.subscription.v1.premium.1m 2016-09-07 13:59:45+00:00\n",
       "1  3793254  com.gopaktor.subscription.v1.premium.1m 2016-09-25 03:06:11+00:00\n",
       "2  6148794  com.gopaktor.subscription.v1.premium.1m 2016-10-01 02:27:37+00:00\n",
       "3  6149220  com.gopaktor.subscription.v4.premium.1m 2016-10-01 06:39:16+00:00\n",
       "4  6149432  com.gopaktor.subscription.v4.premium.1m 2016-10-01 09:07:49+00:00"
      ]
     },
     "execution_count": 13,
     "metadata": {},
     "output_type": "execute_result"
    }
   ],
   "source": [
    "trans_table.head()"
   ]
  },
  {
   "cell_type": "code",
   "execution_count": 14,
   "metadata": {
    "collapsed": false
   },
   "outputs": [],
   "source": [
    "trans_table.rename(columns={doc['column_map']['TRANSACTION_MASTER']['cust_id'] : 'cust_id'}, inplace=True)\n",
    "trans_table.rename(columns={doc['column_map']['TRANSACTION_MASTER']['product_id'] : 'product_id'}, inplace=True)\n",
    "trans_table.rename(columns={doc['column_map']['TRANSACTION_MASTER']['timestamp'] : 'timestamp'}, inplace=True)"
   ]
  },
  {
   "cell_type": "code",
   "execution_count": 15,
   "metadata": {
    "collapsed": false
   },
   "outputs": [
    {
     "data": {
      "text/html": [
       "<div>\n",
       "<table border=\"1\" class=\"dataframe\">\n",
       "  <thead>\n",
       "    <tr style=\"text-align: right;\">\n",
       "      <th></th>\n",
       "      <th>cust_id</th>\n",
       "      <th>product_id</th>\n",
       "      <th>timestamp</th>\n",
       "    </tr>\n",
       "  </thead>\n",
       "  <tbody>\n",
       "    <tr>\n",
       "      <th>0</th>\n",
       "      <td>3893506</td>\n",
       "      <td>com.gopaktor.subscription.v1.premium.1m</td>\n",
       "      <td>2016-09-07 13:59:45+00:00</td>\n",
       "    </tr>\n",
       "    <tr>\n",
       "      <th>1</th>\n",
       "      <td>3793254</td>\n",
       "      <td>com.gopaktor.subscription.v1.premium.1m</td>\n",
       "      <td>2016-09-25 03:06:11+00:00</td>\n",
       "    </tr>\n",
       "    <tr>\n",
       "      <th>2</th>\n",
       "      <td>6148794</td>\n",
       "      <td>com.gopaktor.subscription.v1.premium.1m</td>\n",
       "      <td>2016-10-01 02:27:37+00:00</td>\n",
       "    </tr>\n",
       "    <tr>\n",
       "      <th>3</th>\n",
       "      <td>6149220</td>\n",
       "      <td>com.gopaktor.subscription.v4.premium.1m</td>\n",
       "      <td>2016-10-01 06:39:16+00:00</td>\n",
       "    </tr>\n",
       "    <tr>\n",
       "      <th>4</th>\n",
       "      <td>6149432</td>\n",
       "      <td>com.gopaktor.subscription.v4.premium.1m</td>\n",
       "      <td>2016-10-01 09:07:49+00:00</td>\n",
       "    </tr>\n",
       "  </tbody>\n",
       "</table>\n",
       "</div>"
      ],
      "text/plain": [
       "   cust_id                               product_id                 timestamp\n",
       "0  3893506  com.gopaktor.subscription.v1.premium.1m 2016-09-07 13:59:45+00:00\n",
       "1  3793254  com.gopaktor.subscription.v1.premium.1m 2016-09-25 03:06:11+00:00\n",
       "2  6148794  com.gopaktor.subscription.v1.premium.1m 2016-10-01 02:27:37+00:00\n",
       "3  6149220  com.gopaktor.subscription.v4.premium.1m 2016-10-01 06:39:16+00:00\n",
       "4  6149432  com.gopaktor.subscription.v4.premium.1m 2016-10-01 09:07:49+00:00"
      ]
     },
     "execution_count": 15,
     "metadata": {},
     "output_type": "execute_result"
    }
   ],
   "source": [
    "trans_table.head()"
   ]
  },
  {
   "cell_type": "code",
   "execution_count": 16,
   "metadata": {
    "collapsed": false
   },
   "outputs": [
    {
     "data": {
      "text/plain": [
       "(4428, 3)"
      ]
     },
     "execution_count": 16,
     "metadata": {},
     "output_type": "execute_result"
    }
   ],
   "source": [
    "trans_table.shape"
   ]
  },
  {
   "cell_type": "code",
   "execution_count": 17,
   "metadata": {
    "collapsed": false
   },
   "outputs": [
    {
     "data": {
      "text/plain": [
       "3087"
      ]
     },
     "execution_count": 17,
     "metadata": {},
     "output_type": "execute_result"
    }
   ],
   "source": [
    "len(trans_table['cust_id'].unique())"
   ]
  },
  {
   "cell_type": "code",
   "execution_count": 18,
   "metadata": {
    "collapsed": false
   },
   "outputs": [],
   "source": [
    "cust_prod_comb = trans_table.groupby(['cust_id', 'product_id']).size().reset_index().rename(columns = {0:'count'})"
   ]
  },
  {
   "cell_type": "code",
   "execution_count": 19,
   "metadata": {
    "collapsed": false
   },
   "outputs": [
    {
     "data": {
      "text/html": [
       "<div>\n",
       "<table border=\"1\" class=\"dataframe\">\n",
       "  <thead>\n",
       "    <tr style=\"text-align: right;\">\n",
       "      <th></th>\n",
       "      <th>cust_id</th>\n",
       "      <th>product_id</th>\n",
       "      <th>count</th>\n",
       "    </tr>\n",
       "  </thead>\n",
       "  <tbody>\n",
       "    <tr>\n",
       "      <th>0</th>\n",
       "      <td>2942914</td>\n",
       "      <td>com.gopaktor.subscription.v1.premium.1m</td>\n",
       "      <td>1</td>\n",
       "    </tr>\n",
       "    <tr>\n",
       "      <th>1</th>\n",
       "      <td>3053432</td>\n",
       "      <td>com.gopaktor.subscription.v4.premium.1m</td>\n",
       "      <td>10</td>\n",
       "    </tr>\n",
       "    <tr>\n",
       "      <th>2</th>\n",
       "      <td>3129800</td>\n",
       "      <td>com.gopaktor.subscription.v1.premium.1m</td>\n",
       "      <td>1</td>\n",
       "    </tr>\n",
       "    <tr>\n",
       "      <th>3</th>\n",
       "      <td>3289765</td>\n",
       "      <td>com.gopaktor.subscription.v2.premium.6m.2000</td>\n",
       "      <td>1</td>\n",
       "    </tr>\n",
       "    <tr>\n",
       "      <th>4</th>\n",
       "      <td>3325662</td>\n",
       "      <td>com.gopaktor.subscription.v12.premium.1m</td>\n",
       "      <td>2</td>\n",
       "    </tr>\n",
       "  </tbody>\n",
       "</table>\n",
       "</div>"
      ],
      "text/plain": [
       "   cust_id                                    product_id  count\n",
       "0  2942914       com.gopaktor.subscription.v1.premium.1m      1\n",
       "1  3053432       com.gopaktor.subscription.v4.premium.1m     10\n",
       "2  3129800       com.gopaktor.subscription.v1.premium.1m      1\n",
       "3  3289765  com.gopaktor.subscription.v2.premium.6m.2000      1\n",
       "4  3325662      com.gopaktor.subscription.v12.premium.1m      2"
      ]
     },
     "execution_count": 19,
     "metadata": {},
     "output_type": "execute_result"
    }
   ],
   "source": [
    "cust_prod_comb.head()"
   ]
  },
  {
   "cell_type": "code",
   "execution_count": 20,
   "metadata": {
    "collapsed": false
   },
   "outputs": [
    {
     "data": {
      "text/plain": [
       "(3232, 3)"
      ]
     },
     "execution_count": 20,
     "metadata": {},
     "output_type": "execute_result"
    }
   ],
   "source": [
    "cust_prod_comb.shape"
   ]
  },
  {
   "cell_type": "code",
   "execution_count": 21,
   "metadata": {
    "collapsed": true
   },
   "outputs": [],
   "source": [
    "cust_date_comb = trans_table[['cust_id', 'timestamp']]"
   ]
  },
  {
   "cell_type": "code",
   "execution_count": 22,
   "metadata": {
    "collapsed": true
   },
   "outputs": [],
   "source": [
    "def x(frame):\n",
    "    frame.sort_values('timestamp', inplace=True)\n",
    "    frame['repurchase_time'] = frame['timestamp'] - frame['timestamp'].shift(1)\n",
    "    return frame"
   ]
  },
  {
   "cell_type": "code",
   "execution_count": 44,
   "metadata": {
    "collapsed": false
   },
   "outputs": [],
   "source": [
    "dates = trans_table.groupby(['cust_id', 'product_id'], group_keys=False).apply(x)"
   ]
  },
  {
   "cell_type": "code",
   "execution_count": 45,
   "metadata": {
    "collapsed": false
   },
   "outputs": [
    {
     "data": {
      "text/html": [
       "<div>\n",
       "<table border=\"1\" class=\"dataframe\">\n",
       "  <thead>\n",
       "    <tr style=\"text-align: right;\">\n",
       "      <th></th>\n",
       "      <th>cust_id</th>\n",
       "      <th>product_id</th>\n",
       "      <th>timestamp</th>\n",
       "      <th>repurchase_time</th>\n",
       "    </tr>\n",
       "  </thead>\n",
       "  <tbody>\n",
       "    <tr>\n",
       "      <th>2790</th>\n",
       "      <td>2942914</td>\n",
       "      <td>com.gopaktor.subscription.v1.premium.1m</td>\n",
       "      <td>2016-12-24 09:53:35+00:00</td>\n",
       "      <td>NaT</td>\n",
       "    </tr>\n",
       "    <tr>\n",
       "      <th>4309</th>\n",
       "      <td>3053432</td>\n",
       "      <td>com.gopaktor.subscription.v4.premium.1m</td>\n",
       "      <td>2016-05-26 04:27:04+00:00</td>\n",
       "      <td>NaT</td>\n",
       "    </tr>\n",
       "    <tr>\n",
       "      <th>4308</th>\n",
       "      <td>3053432</td>\n",
       "      <td>com.gopaktor.subscription.v4.premium.1m</td>\n",
       "      <td>2016-06-27 06:17:00+00:00</td>\n",
       "      <td>32 days 01:49:56</td>\n",
       "    </tr>\n",
       "    <tr>\n",
       "      <th>3554</th>\n",
       "      <td>3053432</td>\n",
       "      <td>com.gopaktor.subscription.v4.premium.1m</td>\n",
       "      <td>2016-07-27 06:17:00+00:00</td>\n",
       "      <td>30 days 00:00:00</td>\n",
       "    </tr>\n",
       "    <tr>\n",
       "      <th>3553</th>\n",
       "      <td>3053432</td>\n",
       "      <td>com.gopaktor.subscription.v4.premium.1m</td>\n",
       "      <td>2016-08-27 06:17:00+00:00</td>\n",
       "      <td>31 days 00:00:00</td>\n",
       "    </tr>\n",
       "  </tbody>\n",
       "</table>\n",
       "</div>"
      ],
      "text/plain": [
       "      cust_id                               product_id  \\\n",
       "2790  2942914  com.gopaktor.subscription.v1.premium.1m   \n",
       "4309  3053432  com.gopaktor.subscription.v4.premium.1m   \n",
       "4308  3053432  com.gopaktor.subscription.v4.premium.1m   \n",
       "3554  3053432  com.gopaktor.subscription.v4.premium.1m   \n",
       "3553  3053432  com.gopaktor.subscription.v4.premium.1m   \n",
       "\n",
       "                     timestamp  repurchase_time  \n",
       "2790 2016-12-24 09:53:35+00:00              NaT  \n",
       "4309 2016-05-26 04:27:04+00:00              NaT  \n",
       "4308 2016-06-27 06:17:00+00:00 32 days 01:49:56  \n",
       "3554 2016-07-27 06:17:00+00:00 30 days 00:00:00  \n",
       "3553 2016-08-27 06:17:00+00:00 31 days 00:00:00  "
      ]
     },
     "execution_count": 45,
     "metadata": {},
     "output_type": "execute_result"
    }
   ],
   "source": [
    "dates.head()"
   ]
  },
  {
   "cell_type": "code",
   "execution_count": 46,
   "metadata": {
    "collapsed": true
   },
   "outputs": [],
   "source": [
    "dates.sort_index(inplace=True)"
   ]
  },
  {
   "cell_type": "code",
   "execution_count": 47,
   "metadata": {
    "collapsed": false
   },
   "outputs": [
    {
     "data": {
      "text/html": [
       "<div>\n",
       "<table border=\"1\" class=\"dataframe\">\n",
       "  <thead>\n",
       "    <tr style=\"text-align: right;\">\n",
       "      <th></th>\n",
       "      <th>cust_id</th>\n",
       "      <th>product_id</th>\n",
       "      <th>timestamp</th>\n",
       "      <th>repurchase_time</th>\n",
       "    </tr>\n",
       "  </thead>\n",
       "  <tbody>\n",
       "    <tr>\n",
       "      <th>0</th>\n",
       "      <td>3893506</td>\n",
       "      <td>com.gopaktor.subscription.v1.premium.1m</td>\n",
       "      <td>2016-09-07 13:59:45+00:00</td>\n",
       "      <td>NaT</td>\n",
       "    </tr>\n",
       "    <tr>\n",
       "      <th>1</th>\n",
       "      <td>3793254</td>\n",
       "      <td>com.gopaktor.subscription.v1.premium.1m</td>\n",
       "      <td>2016-09-25 03:06:11+00:00</td>\n",
       "      <td>NaT</td>\n",
       "    </tr>\n",
       "    <tr>\n",
       "      <th>2</th>\n",
       "      <td>6148794</td>\n",
       "      <td>com.gopaktor.subscription.v1.premium.1m</td>\n",
       "      <td>2016-10-01 02:27:37+00:00</td>\n",
       "      <td>NaT</td>\n",
       "    </tr>\n",
       "    <tr>\n",
       "      <th>3</th>\n",
       "      <td>6149220</td>\n",
       "      <td>com.gopaktor.subscription.v4.premium.1m</td>\n",
       "      <td>2016-10-01 06:39:16+00:00</td>\n",
       "      <td>NaT</td>\n",
       "    </tr>\n",
       "    <tr>\n",
       "      <th>4</th>\n",
       "      <td>6149432</td>\n",
       "      <td>com.gopaktor.subscription.v4.premium.1m</td>\n",
       "      <td>2016-10-01 09:07:49+00:00</td>\n",
       "      <td>NaT</td>\n",
       "    </tr>\n",
       "  </tbody>\n",
       "</table>\n",
       "</div>"
      ],
      "text/plain": [
       "   cust_id                               product_id                 timestamp  \\\n",
       "0  3893506  com.gopaktor.subscription.v1.premium.1m 2016-09-07 13:59:45+00:00   \n",
       "1  3793254  com.gopaktor.subscription.v1.premium.1m 2016-09-25 03:06:11+00:00   \n",
       "2  6148794  com.gopaktor.subscription.v1.premium.1m 2016-10-01 02:27:37+00:00   \n",
       "3  6149220  com.gopaktor.subscription.v4.premium.1m 2016-10-01 06:39:16+00:00   \n",
       "4  6149432  com.gopaktor.subscription.v4.premium.1m 2016-10-01 09:07:49+00:00   \n",
       "\n",
       "   repurchase_time  \n",
       "0              NaT  \n",
       "1              NaT  \n",
       "2              NaT  \n",
       "3              NaT  \n",
       "4              NaT  "
      ]
     },
     "execution_count": 47,
     "metadata": {},
     "output_type": "execute_result"
    }
   ],
   "source": [
    "dates.head()"
   ]
  },
  {
   "cell_type": "code",
   "execution_count": 52,
   "metadata": {
    "collapsed": false
   },
   "outputs": [],
   "source": [
    "dates['sum'] = dates['repurchase_time'].groupby(dates['cust_id']).transform('sum')"
   ]
  },
  {
   "cell_type": "code",
   "execution_count": 53,
   "metadata": {
    "collapsed": false
   },
   "outputs": [
    {
     "data": {
      "text/html": [
       "<div>\n",
       "<table border=\"1\" class=\"dataframe\">\n",
       "  <thead>\n",
       "    <tr style=\"text-align: right;\">\n",
       "      <th></th>\n",
       "      <th>cust_id</th>\n",
       "      <th>product_id</th>\n",
       "      <th>timestamp</th>\n",
       "      <th>repurchase_time</th>\n",
       "      <th>sum</th>\n",
       "    </tr>\n",
       "  </thead>\n",
       "  <tbody>\n",
       "    <tr>\n",
       "      <th>0</th>\n",
       "      <td>3893506</td>\n",
       "      <td>com.gopaktor.subscription.v1.premium.1m</td>\n",
       "      <td>2016-09-07 13:59:45+00:00</td>\n",
       "      <td>NaT</td>\n",
       "      <td>91 days 01:00:00</td>\n",
       "    </tr>\n",
       "    <tr>\n",
       "      <th>1</th>\n",
       "      <td>3793254</td>\n",
       "      <td>com.gopaktor.subscription.v1.premium.1m</td>\n",
       "      <td>2016-09-25 03:06:11+00:00</td>\n",
       "      <td>NaT</td>\n",
       "      <td>91 days 01:00:00</td>\n",
       "    </tr>\n",
       "    <tr>\n",
       "      <th>2</th>\n",
       "      <td>6148794</td>\n",
       "      <td>com.gopaktor.subscription.v1.premium.1m</td>\n",
       "      <td>2016-10-01 02:27:37+00:00</td>\n",
       "      <td>NaT</td>\n",
       "      <td>NaT</td>\n",
       "    </tr>\n",
       "    <tr>\n",
       "      <th>3</th>\n",
       "      <td>6149220</td>\n",
       "      <td>com.gopaktor.subscription.v4.premium.1m</td>\n",
       "      <td>2016-10-01 06:39:16+00:00</td>\n",
       "      <td>NaT</td>\n",
       "      <td>NaT</td>\n",
       "    </tr>\n",
       "    <tr>\n",
       "      <th>4</th>\n",
       "      <td>6149432</td>\n",
       "      <td>com.gopaktor.subscription.v4.premium.1m</td>\n",
       "      <td>2016-10-01 09:07:49+00:00</td>\n",
       "      <td>NaT</td>\n",
       "      <td>NaT</td>\n",
       "    </tr>\n",
       "  </tbody>\n",
       "</table>\n",
       "</div>"
      ],
      "text/plain": [
       "   cust_id                               product_id                 timestamp  \\\n",
       "0  3893506  com.gopaktor.subscription.v1.premium.1m 2016-09-07 13:59:45+00:00   \n",
       "1  3793254  com.gopaktor.subscription.v1.premium.1m 2016-09-25 03:06:11+00:00   \n",
       "2  6148794  com.gopaktor.subscription.v1.premium.1m 2016-10-01 02:27:37+00:00   \n",
       "3  6149220  com.gopaktor.subscription.v4.premium.1m 2016-10-01 06:39:16+00:00   \n",
       "4  6149432  com.gopaktor.subscription.v4.premium.1m 2016-10-01 09:07:49+00:00   \n",
       "\n",
       "   repurchase_time              sum  \n",
       "0              NaT 91 days 01:00:00  \n",
       "1              NaT 91 days 01:00:00  \n",
       "2              NaT              NaT  \n",
       "3              NaT              NaT  \n",
       "4              NaT              NaT  "
      ]
     },
     "execution_count": 53,
     "metadata": {},
     "output_type": "execute_result"
    }
   ],
   "source": [
    "dates.head()"
   ]
  },
  {
   "cell_type": "code",
   "execution_count": 54,
   "metadata": {
    "collapsed": false
   },
   "outputs": [
    {
     "data": {
      "text/html": [
       "<div>\n",
       "<table border=\"1\" class=\"dataframe\">\n",
       "  <thead>\n",
       "    <tr style=\"text-align: right;\">\n",
       "      <th></th>\n",
       "      <th>cust_id</th>\n",
       "      <th>product_id</th>\n",
       "      <th>timestamp</th>\n",
       "      <th>repurchase_time</th>\n",
       "      <th>sum</th>\n",
       "    </tr>\n",
       "  </thead>\n",
       "  <tbody>\n",
       "    <tr>\n",
       "      <th>3553</th>\n",
       "      <td>3053432</td>\n",
       "      <td>com.gopaktor.subscription.v4.premium.1m</td>\n",
       "      <td>2016-08-27 06:17:00+00:00</td>\n",
       "      <td>31 days 00:00:00</td>\n",
       "      <td>245 days 01:54:56</td>\n",
       "    </tr>\n",
       "    <tr>\n",
       "      <th>3554</th>\n",
       "      <td>3053432</td>\n",
       "      <td>com.gopaktor.subscription.v4.premium.1m</td>\n",
       "      <td>2016-07-27 06:17:00+00:00</td>\n",
       "      <td>30 days 00:00:00</td>\n",
       "      <td>245 days 01:54:56</td>\n",
       "    </tr>\n",
       "    <tr>\n",
       "      <th>3555</th>\n",
       "      <td>3053432</td>\n",
       "      <td>com.gopaktor.subscription.v4.premium.1m</td>\n",
       "      <td>2016-09-27 06:18:00+00:00</td>\n",
       "      <td>0 days 00:01:00</td>\n",
       "      <td>245 days 01:54:56</td>\n",
       "    </tr>\n",
       "    <tr>\n",
       "      <th>3556</th>\n",
       "      <td>3053432</td>\n",
       "      <td>com.gopaktor.subscription.v4.premium.1m</td>\n",
       "      <td>2017-01-26 06:22:00+00:00</td>\n",
       "      <td>31 days 00:00:00</td>\n",
       "      <td>245 days 01:54:56</td>\n",
       "    </tr>\n",
       "    <tr>\n",
       "      <th>4308</th>\n",
       "      <td>3053432</td>\n",
       "      <td>com.gopaktor.subscription.v4.premium.1m</td>\n",
       "      <td>2016-06-27 06:17:00+00:00</td>\n",
       "      <td>32 days 01:49:56</td>\n",
       "      <td>245 days 01:54:56</td>\n",
       "    </tr>\n",
       "    <tr>\n",
       "      <th>4309</th>\n",
       "      <td>3053432</td>\n",
       "      <td>com.gopaktor.subscription.v4.premium.1m</td>\n",
       "      <td>2016-05-26 04:27:04+00:00</td>\n",
       "      <td>NaT</td>\n",
       "      <td>245 days 01:54:56</td>\n",
       "    </tr>\n",
       "    <tr>\n",
       "      <th>4310</th>\n",
       "      <td>3053432</td>\n",
       "      <td>com.gopaktor.subscription.v4.premium.1m</td>\n",
       "      <td>2016-09-27 06:17:00+00:00</td>\n",
       "      <td>31 days 00:00:00</td>\n",
       "      <td>245 days 01:54:56</td>\n",
       "    </tr>\n",
       "    <tr>\n",
       "      <th>4311</th>\n",
       "      <td>3053432</td>\n",
       "      <td>com.gopaktor.subscription.v4.premium.1m</td>\n",
       "      <td>2016-10-27 06:17:00+00:00</td>\n",
       "      <td>29 days 23:59:00</td>\n",
       "      <td>245 days 01:54:56</td>\n",
       "    </tr>\n",
       "    <tr>\n",
       "      <th>4312</th>\n",
       "      <td>3053432</td>\n",
       "      <td>com.gopaktor.subscription.v4.premium.1m</td>\n",
       "      <td>2016-11-26 06:22:00+00:00</td>\n",
       "      <td>30 days 00:05:00</td>\n",
       "      <td>245 days 01:54:56</td>\n",
       "    </tr>\n",
       "    <tr>\n",
       "      <th>4313</th>\n",
       "      <td>3053432</td>\n",
       "      <td>com.gopaktor.subscription.v4.premium.1m</td>\n",
       "      <td>2016-12-26 06:22:00+00:00</td>\n",
       "      <td>30 days 00:00:00</td>\n",
       "      <td>245 days 01:54:56</td>\n",
       "    </tr>\n",
       "  </tbody>\n",
       "</table>\n",
       "</div>"
      ],
      "text/plain": [
       "      cust_id                               product_id  \\\n",
       "3553  3053432  com.gopaktor.subscription.v4.premium.1m   \n",
       "3554  3053432  com.gopaktor.subscription.v4.premium.1m   \n",
       "3555  3053432  com.gopaktor.subscription.v4.premium.1m   \n",
       "3556  3053432  com.gopaktor.subscription.v4.premium.1m   \n",
       "4308  3053432  com.gopaktor.subscription.v4.premium.1m   \n",
       "4309  3053432  com.gopaktor.subscription.v4.premium.1m   \n",
       "4310  3053432  com.gopaktor.subscription.v4.premium.1m   \n",
       "4311  3053432  com.gopaktor.subscription.v4.premium.1m   \n",
       "4312  3053432  com.gopaktor.subscription.v4.premium.1m   \n",
       "4313  3053432  com.gopaktor.subscription.v4.premium.1m   \n",
       "\n",
       "                     timestamp  repurchase_time               sum  \n",
       "3553 2016-08-27 06:17:00+00:00 31 days 00:00:00 245 days 01:54:56  \n",
       "3554 2016-07-27 06:17:00+00:00 30 days 00:00:00 245 days 01:54:56  \n",
       "3555 2016-09-27 06:18:00+00:00  0 days 00:01:00 245 days 01:54:56  \n",
       "3556 2017-01-26 06:22:00+00:00 31 days 00:00:00 245 days 01:54:56  \n",
       "4308 2016-06-27 06:17:00+00:00 32 days 01:49:56 245 days 01:54:56  \n",
       "4309 2016-05-26 04:27:04+00:00              NaT 245 days 01:54:56  \n",
       "4310 2016-09-27 06:17:00+00:00 31 days 00:00:00 245 days 01:54:56  \n",
       "4311 2016-10-27 06:17:00+00:00 29 days 23:59:00 245 days 01:54:56  \n",
       "4312 2016-11-26 06:22:00+00:00 30 days 00:05:00 245 days 01:54:56  \n",
       "4313 2016-12-26 06:22:00+00:00 30 days 00:00:00 245 days 01:54:56  "
      ]
     },
     "execution_count": 54,
     "metadata": {},
     "output_type": "execute_result"
    }
   ],
   "source": [
    "dates.query('cust_id == \"3053432\"')"
   ]
  },
  {
   "cell_type": "code",
   "execution_count": 55,
   "metadata": {
    "collapsed": false
   },
   "outputs": [
    {
     "data": {
      "text/html": [
       "<div>\n",
       "<table border=\"1\" class=\"dataframe\">\n",
       "  <thead>\n",
       "    <tr style=\"text-align: right;\">\n",
       "      <th></th>\n",
       "      <th>cust_id</th>\n",
       "      <th>product_id</th>\n",
       "      <th>timestamp</th>\n",
       "      <th>repurchase_time</th>\n",
       "      <th>sum</th>\n",
       "    </tr>\n",
       "  </thead>\n",
       "  <tbody>\n",
       "    <tr>\n",
       "      <th>0</th>\n",
       "      <td>3893506</td>\n",
       "      <td>com.gopaktor.subscription.v1.premium.1m</td>\n",
       "      <td>2016-09-07 13:59:45+00:00</td>\n",
       "      <td>NaT</td>\n",
       "      <td>91 days 01:00:00</td>\n",
       "    </tr>\n",
       "    <tr>\n",
       "      <th>1</th>\n",
       "      <td>3793254</td>\n",
       "      <td>com.gopaktor.subscription.v1.premium.1m</td>\n",
       "      <td>2016-09-25 03:06:11+00:00</td>\n",
       "      <td>NaT</td>\n",
       "      <td>91 days 01:00:00</td>\n",
       "    </tr>\n",
       "    <tr>\n",
       "      <th>2</th>\n",
       "      <td>6148794</td>\n",
       "      <td>com.gopaktor.subscription.v1.premium.1m</td>\n",
       "      <td>2016-10-01 02:27:37+00:00</td>\n",
       "      <td>NaT</td>\n",
       "      <td>NaT</td>\n",
       "    </tr>\n",
       "    <tr>\n",
       "      <th>3</th>\n",
       "      <td>6149220</td>\n",
       "      <td>com.gopaktor.subscription.v4.premium.1m</td>\n",
       "      <td>2016-10-01 06:39:16+00:00</td>\n",
       "      <td>NaT</td>\n",
       "      <td>NaT</td>\n",
       "    </tr>\n",
       "    <tr>\n",
       "      <th>4</th>\n",
       "      <td>6149432</td>\n",
       "      <td>com.gopaktor.subscription.v4.premium.1m</td>\n",
       "      <td>2016-10-01 09:07:49+00:00</td>\n",
       "      <td>NaT</td>\n",
       "      <td>NaT</td>\n",
       "    </tr>\n",
       "  </tbody>\n",
       "</table>\n",
       "</div>"
      ],
      "text/plain": [
       "   cust_id                               product_id                 timestamp  \\\n",
       "0  3893506  com.gopaktor.subscription.v1.premium.1m 2016-09-07 13:59:45+00:00   \n",
       "1  3793254  com.gopaktor.subscription.v1.premium.1m 2016-09-25 03:06:11+00:00   \n",
       "2  6148794  com.gopaktor.subscription.v1.premium.1m 2016-10-01 02:27:37+00:00   \n",
       "3  6149220  com.gopaktor.subscription.v4.premium.1m 2016-10-01 06:39:16+00:00   \n",
       "4  6149432  com.gopaktor.subscription.v4.premium.1m 2016-10-01 09:07:49+00:00   \n",
       "\n",
       "   repurchase_time              sum  \n",
       "0              NaT 91 days 01:00:00  \n",
       "1              NaT 91 days 01:00:00  \n",
       "2              NaT              NaT  \n",
       "3              NaT              NaT  \n",
       "4              NaT              NaT  "
      ]
     },
     "execution_count": 55,
     "metadata": {},
     "output_type": "execute_result"
    }
   ],
   "source": [
    "dates.head()"
   ]
  },
  {
   "cell_type": "code",
   "execution_count": 56,
   "metadata": {
    "collapsed": false
   },
   "outputs": [
    {
     "data": {
      "text/html": [
       "<div>\n",
       "<table border=\"1\" class=\"dataframe\">\n",
       "  <thead>\n",
       "    <tr style=\"text-align: right;\">\n",
       "      <th></th>\n",
       "      <th>cust_id</th>\n",
       "      <th>product_id</th>\n",
       "      <th>count</th>\n",
       "    </tr>\n",
       "  </thead>\n",
       "  <tbody>\n",
       "    <tr>\n",
       "      <th>0</th>\n",
       "      <td>2942914</td>\n",
       "      <td>com.gopaktor.subscription.v1.premium.1m</td>\n",
       "      <td>1</td>\n",
       "    </tr>\n",
       "    <tr>\n",
       "      <th>1</th>\n",
       "      <td>3053432</td>\n",
       "      <td>com.gopaktor.subscription.v4.premium.1m</td>\n",
       "      <td>10</td>\n",
       "    </tr>\n",
       "    <tr>\n",
       "      <th>2</th>\n",
       "      <td>3129800</td>\n",
       "      <td>com.gopaktor.subscription.v1.premium.1m</td>\n",
       "      <td>1</td>\n",
       "    </tr>\n",
       "    <tr>\n",
       "      <th>3</th>\n",
       "      <td>3289765</td>\n",
       "      <td>com.gopaktor.subscription.v2.premium.6m.2000</td>\n",
       "      <td>1</td>\n",
       "    </tr>\n",
       "    <tr>\n",
       "      <th>4</th>\n",
       "      <td>3325662</td>\n",
       "      <td>com.gopaktor.subscription.v12.premium.1m</td>\n",
       "      <td>2</td>\n",
       "    </tr>\n",
       "  </tbody>\n",
       "</table>\n",
       "</div>"
      ],
      "text/plain": [
       "   cust_id                                    product_id  count\n",
       "0  2942914       com.gopaktor.subscription.v1.premium.1m      1\n",
       "1  3053432       com.gopaktor.subscription.v4.premium.1m     10\n",
       "2  3129800       com.gopaktor.subscription.v1.premium.1m      1\n",
       "3  3289765  com.gopaktor.subscription.v2.premium.6m.2000      1\n",
       "4  3325662      com.gopaktor.subscription.v12.premium.1m      2"
      ]
     },
     "execution_count": 56,
     "metadata": {},
     "output_type": "execute_result"
    }
   ],
   "source": [
    "cust_prod_comb.head()"
   ]
  },
  {
   "cell_type": "code",
   "execution_count": 73,
   "metadata": {
    "collapsed": true
   },
   "outputs": [],
   "source": [
    "final = pd.merge(cust_prod_comb, dates, on=['cust_id','product_id'])"
   ]
  },
  {
   "cell_type": "code",
   "execution_count": 74,
   "metadata": {
    "collapsed": false
   },
   "outputs": [
    {
     "data": {
      "text/html": [
       "<div>\n",
       "<table border=\"1\" class=\"dataframe\">\n",
       "  <thead>\n",
       "    <tr style=\"text-align: right;\">\n",
       "      <th></th>\n",
       "      <th>cust_id</th>\n",
       "      <th>product_id</th>\n",
       "      <th>count</th>\n",
       "      <th>timestamp</th>\n",
       "      <th>repurchase_time</th>\n",
       "      <th>sum</th>\n",
       "    </tr>\n",
       "  </thead>\n",
       "  <tbody>\n",
       "    <tr>\n",
       "      <th>0</th>\n",
       "      <td>2942914</td>\n",
       "      <td>com.gopaktor.subscription.v1.premium.1m</td>\n",
       "      <td>1</td>\n",
       "      <td>2016-12-24 09:53:35+00:00</td>\n",
       "      <td>NaT</td>\n",
       "      <td>NaT</td>\n",
       "    </tr>\n",
       "    <tr>\n",
       "      <th>1</th>\n",
       "      <td>3053432</td>\n",
       "      <td>com.gopaktor.subscription.v4.premium.1m</td>\n",
       "      <td>10</td>\n",
       "      <td>2016-08-27 06:17:00+00:00</td>\n",
       "      <td>31 days 00:00:00</td>\n",
       "      <td>245 days 01:54:56</td>\n",
       "    </tr>\n",
       "    <tr>\n",
       "      <th>2</th>\n",
       "      <td>3053432</td>\n",
       "      <td>com.gopaktor.subscription.v4.premium.1m</td>\n",
       "      <td>10</td>\n",
       "      <td>2016-07-27 06:17:00+00:00</td>\n",
       "      <td>30 days 00:00:00</td>\n",
       "      <td>245 days 01:54:56</td>\n",
       "    </tr>\n",
       "    <tr>\n",
       "      <th>3</th>\n",
       "      <td>3053432</td>\n",
       "      <td>com.gopaktor.subscription.v4.premium.1m</td>\n",
       "      <td>10</td>\n",
       "      <td>2016-09-27 06:18:00+00:00</td>\n",
       "      <td>0 days 00:01:00</td>\n",
       "      <td>245 days 01:54:56</td>\n",
       "    </tr>\n",
       "    <tr>\n",
       "      <th>4</th>\n",
       "      <td>3053432</td>\n",
       "      <td>com.gopaktor.subscription.v4.premium.1m</td>\n",
       "      <td>10</td>\n",
       "      <td>2017-01-26 06:22:00+00:00</td>\n",
       "      <td>31 days 00:00:00</td>\n",
       "      <td>245 days 01:54:56</td>\n",
       "    </tr>\n",
       "    <tr>\n",
       "      <th>5</th>\n",
       "      <td>3053432</td>\n",
       "      <td>com.gopaktor.subscription.v4.premium.1m</td>\n",
       "      <td>10</td>\n",
       "      <td>2016-06-27 06:17:00+00:00</td>\n",
       "      <td>32 days 01:49:56</td>\n",
       "      <td>245 days 01:54:56</td>\n",
       "    </tr>\n",
       "    <tr>\n",
       "      <th>6</th>\n",
       "      <td>3053432</td>\n",
       "      <td>com.gopaktor.subscription.v4.premium.1m</td>\n",
       "      <td>10</td>\n",
       "      <td>2016-05-26 04:27:04+00:00</td>\n",
       "      <td>NaT</td>\n",
       "      <td>245 days 01:54:56</td>\n",
       "    </tr>\n",
       "    <tr>\n",
       "      <th>7</th>\n",
       "      <td>3053432</td>\n",
       "      <td>com.gopaktor.subscription.v4.premium.1m</td>\n",
       "      <td>10</td>\n",
       "      <td>2016-09-27 06:17:00+00:00</td>\n",
       "      <td>31 days 00:00:00</td>\n",
       "      <td>245 days 01:54:56</td>\n",
       "    </tr>\n",
       "    <tr>\n",
       "      <th>8</th>\n",
       "      <td>3053432</td>\n",
       "      <td>com.gopaktor.subscription.v4.premium.1m</td>\n",
       "      <td>10</td>\n",
       "      <td>2016-10-27 06:17:00+00:00</td>\n",
       "      <td>29 days 23:59:00</td>\n",
       "      <td>245 days 01:54:56</td>\n",
       "    </tr>\n",
       "    <tr>\n",
       "      <th>9</th>\n",
       "      <td>3053432</td>\n",
       "      <td>com.gopaktor.subscription.v4.premium.1m</td>\n",
       "      <td>10</td>\n",
       "      <td>2016-11-26 06:22:00+00:00</td>\n",
       "      <td>30 days 00:05:00</td>\n",
       "      <td>245 days 01:54:56</td>\n",
       "    </tr>\n",
       "    <tr>\n",
       "      <th>10</th>\n",
       "      <td>3053432</td>\n",
       "      <td>com.gopaktor.subscription.v4.premium.1m</td>\n",
       "      <td>10</td>\n",
       "      <td>2016-12-26 06:22:00+00:00</td>\n",
       "      <td>30 days 00:00:00</td>\n",
       "      <td>245 days 01:54:56</td>\n",
       "    </tr>\n",
       "    <tr>\n",
       "      <th>11</th>\n",
       "      <td>3129800</td>\n",
       "      <td>com.gopaktor.subscription.v1.premium.1m</td>\n",
       "      <td>1</td>\n",
       "      <td>2016-12-09 07:57:37+00:00</td>\n",
       "      <td>NaT</td>\n",
       "      <td>NaT</td>\n",
       "    </tr>\n",
       "    <tr>\n",
       "      <th>12</th>\n",
       "      <td>3289765</td>\n",
       "      <td>com.gopaktor.subscription.v2.premium.6m.2000</td>\n",
       "      <td>1</td>\n",
       "      <td>2016-12-06 11:37:37+00:00</td>\n",
       "      <td>NaT</td>\n",
       "      <td>NaT</td>\n",
       "    </tr>\n",
       "    <tr>\n",
       "      <th>13</th>\n",
       "      <td>3325662</td>\n",
       "      <td>com.gopaktor.subscription.v12.premium.1m</td>\n",
       "      <td>2</td>\n",
       "      <td>2016-11-02 02:46:12+00:00</td>\n",
       "      <td>NaT</td>\n",
       "      <td>31 days 01:49:48</td>\n",
       "    </tr>\n",
       "    <tr>\n",
       "      <th>14</th>\n",
       "      <td>3325662</td>\n",
       "      <td>com.gopaktor.subscription.v12.premium.1m</td>\n",
       "      <td>2</td>\n",
       "      <td>2016-12-03 04:36:00+00:00</td>\n",
       "      <td>31 days 01:49:48</td>\n",
       "      <td>31 days 01:49:48</td>\n",
       "    </tr>\n",
       "    <tr>\n",
       "      <th>15</th>\n",
       "      <td>3409109</td>\n",
       "      <td>com.gopaktor.subscription.v12.premium.1m</td>\n",
       "      <td>2</td>\n",
       "      <td>2016-11-30 00:57:54+00:00</td>\n",
       "      <td>NaT</td>\n",
       "      <td>30 days 01:55:06</td>\n",
       "    </tr>\n",
       "    <tr>\n",
       "      <th>16</th>\n",
       "      <td>3409109</td>\n",
       "      <td>com.gopaktor.subscription.v12.premium.1m</td>\n",
       "      <td>2</td>\n",
       "      <td>2016-12-30 02:53:00+00:00</td>\n",
       "      <td>30 days 01:55:06</td>\n",
       "      <td>30 days 01:55:06</td>\n",
       "    </tr>\n",
       "    <tr>\n",
       "      <th>17</th>\n",
       "      <td>3793254</td>\n",
       "      <td>com.gopaktor.subscription.v1.premium.1m</td>\n",
       "      <td>4</td>\n",
       "      <td>2016-09-25 03:06:11+00:00</td>\n",
       "      <td>NaT</td>\n",
       "      <td>91 days 01:00:00</td>\n",
       "    </tr>\n",
       "    <tr>\n",
       "      <th>18</th>\n",
       "      <td>3793254</td>\n",
       "      <td>com.gopaktor.subscription.v1.premium.1m</td>\n",
       "      <td>4</td>\n",
       "      <td>2016-10-25 03:06:11+00:00</td>\n",
       "      <td>30 days 00:00:00</td>\n",
       "      <td>91 days 01:00:00</td>\n",
       "    </tr>\n",
       "    <tr>\n",
       "      <th>19</th>\n",
       "      <td>3793254</td>\n",
       "      <td>com.gopaktor.subscription.v1.premium.1m</td>\n",
       "      <td>4</td>\n",
       "      <td>2016-11-25 04:06:11+00:00</td>\n",
       "      <td>31 days 01:00:00</td>\n",
       "      <td>91 days 01:00:00</td>\n",
       "    </tr>\n",
       "  </tbody>\n",
       "</table>\n",
       "</div>"
      ],
      "text/plain": [
       "    cust_id                                    product_id  count  \\\n",
       "0   2942914       com.gopaktor.subscription.v1.premium.1m      1   \n",
       "1   3053432       com.gopaktor.subscription.v4.premium.1m     10   \n",
       "2   3053432       com.gopaktor.subscription.v4.premium.1m     10   \n",
       "3   3053432       com.gopaktor.subscription.v4.premium.1m     10   \n",
       "4   3053432       com.gopaktor.subscription.v4.premium.1m     10   \n",
       "5   3053432       com.gopaktor.subscription.v4.premium.1m     10   \n",
       "6   3053432       com.gopaktor.subscription.v4.premium.1m     10   \n",
       "7   3053432       com.gopaktor.subscription.v4.premium.1m     10   \n",
       "8   3053432       com.gopaktor.subscription.v4.premium.1m     10   \n",
       "9   3053432       com.gopaktor.subscription.v4.premium.1m     10   \n",
       "10  3053432       com.gopaktor.subscription.v4.premium.1m     10   \n",
       "11  3129800       com.gopaktor.subscription.v1.premium.1m      1   \n",
       "12  3289765  com.gopaktor.subscription.v2.premium.6m.2000      1   \n",
       "13  3325662      com.gopaktor.subscription.v12.premium.1m      2   \n",
       "14  3325662      com.gopaktor.subscription.v12.premium.1m      2   \n",
       "15  3409109      com.gopaktor.subscription.v12.premium.1m      2   \n",
       "16  3409109      com.gopaktor.subscription.v12.premium.1m      2   \n",
       "17  3793254       com.gopaktor.subscription.v1.premium.1m      4   \n",
       "18  3793254       com.gopaktor.subscription.v1.premium.1m      4   \n",
       "19  3793254       com.gopaktor.subscription.v1.premium.1m      4   \n",
       "\n",
       "                   timestamp  repurchase_time               sum  \n",
       "0  2016-12-24 09:53:35+00:00              NaT               NaT  \n",
       "1  2016-08-27 06:17:00+00:00 31 days 00:00:00 245 days 01:54:56  \n",
       "2  2016-07-27 06:17:00+00:00 30 days 00:00:00 245 days 01:54:56  \n",
       "3  2016-09-27 06:18:00+00:00  0 days 00:01:00 245 days 01:54:56  \n",
       "4  2017-01-26 06:22:00+00:00 31 days 00:00:00 245 days 01:54:56  \n",
       "5  2016-06-27 06:17:00+00:00 32 days 01:49:56 245 days 01:54:56  \n",
       "6  2016-05-26 04:27:04+00:00              NaT 245 days 01:54:56  \n",
       "7  2016-09-27 06:17:00+00:00 31 days 00:00:00 245 days 01:54:56  \n",
       "8  2016-10-27 06:17:00+00:00 29 days 23:59:00 245 days 01:54:56  \n",
       "9  2016-11-26 06:22:00+00:00 30 days 00:05:00 245 days 01:54:56  \n",
       "10 2016-12-26 06:22:00+00:00 30 days 00:00:00 245 days 01:54:56  \n",
       "11 2016-12-09 07:57:37+00:00              NaT               NaT  \n",
       "12 2016-12-06 11:37:37+00:00              NaT               NaT  \n",
       "13 2016-11-02 02:46:12+00:00              NaT  31 days 01:49:48  \n",
       "14 2016-12-03 04:36:00+00:00 31 days 01:49:48  31 days 01:49:48  \n",
       "15 2016-11-30 00:57:54+00:00              NaT  30 days 01:55:06  \n",
       "16 2016-12-30 02:53:00+00:00 30 days 01:55:06  30 days 01:55:06  \n",
       "17 2016-09-25 03:06:11+00:00              NaT  91 days 01:00:00  \n",
       "18 2016-10-25 03:06:11+00:00 30 days 00:00:00  91 days 01:00:00  \n",
       "19 2016-11-25 04:06:11+00:00 31 days 01:00:00  91 days 01:00:00  "
      ]
     },
     "execution_count": 74,
     "metadata": {},
     "output_type": "execute_result"
    }
   ],
   "source": [
    "final.head(20)"
   ]
  },
  {
   "cell_type": "code",
   "execution_count": 75,
   "metadata": {
    "collapsed": true
   },
   "outputs": [],
   "source": [
    "del final['timestamp']"
   ]
  },
  {
   "cell_type": "code",
   "execution_count": 76,
   "metadata": {
    "collapsed": true
   },
   "outputs": [],
   "source": [
    "del final['repurchase_time']"
   ]
  },
  {
   "cell_type": "code",
   "execution_count": 77,
   "metadata": {
    "collapsed": false
   },
   "outputs": [
    {
     "data": {
      "text/html": [
       "<div>\n",
       "<table border=\"1\" class=\"dataframe\">\n",
       "  <thead>\n",
       "    <tr style=\"text-align: right;\">\n",
       "      <th></th>\n",
       "      <th>cust_id</th>\n",
       "      <th>product_id</th>\n",
       "      <th>count</th>\n",
       "      <th>sum</th>\n",
       "    </tr>\n",
       "  </thead>\n",
       "  <tbody>\n",
       "    <tr>\n",
       "      <th>0</th>\n",
       "      <td>2942914</td>\n",
       "      <td>com.gopaktor.subscription.v1.premium.1m</td>\n",
       "      <td>1</td>\n",
       "      <td>NaT</td>\n",
       "    </tr>\n",
       "    <tr>\n",
       "      <th>1</th>\n",
       "      <td>3053432</td>\n",
       "      <td>com.gopaktor.subscription.v4.premium.1m</td>\n",
       "      <td>10</td>\n",
       "      <td>245 days 01:54:56</td>\n",
       "    </tr>\n",
       "    <tr>\n",
       "      <th>2</th>\n",
       "      <td>3053432</td>\n",
       "      <td>com.gopaktor.subscription.v4.premium.1m</td>\n",
       "      <td>10</td>\n",
       "      <td>245 days 01:54:56</td>\n",
       "    </tr>\n",
       "    <tr>\n",
       "      <th>3</th>\n",
       "      <td>3053432</td>\n",
       "      <td>com.gopaktor.subscription.v4.premium.1m</td>\n",
       "      <td>10</td>\n",
       "      <td>245 days 01:54:56</td>\n",
       "    </tr>\n",
       "    <tr>\n",
       "      <th>4</th>\n",
       "      <td>3053432</td>\n",
       "      <td>com.gopaktor.subscription.v4.premium.1m</td>\n",
       "      <td>10</td>\n",
       "      <td>245 days 01:54:56</td>\n",
       "    </tr>\n",
       "  </tbody>\n",
       "</table>\n",
       "</div>"
      ],
      "text/plain": [
       "   cust_id                               product_id  count               sum\n",
       "0  2942914  com.gopaktor.subscription.v1.premium.1m      1               NaT\n",
       "1  3053432  com.gopaktor.subscription.v4.premium.1m     10 245 days 01:54:56\n",
       "2  3053432  com.gopaktor.subscription.v4.premium.1m     10 245 days 01:54:56\n",
       "3  3053432  com.gopaktor.subscription.v4.premium.1m     10 245 days 01:54:56\n",
       "4  3053432  com.gopaktor.subscription.v4.premium.1m     10 245 days 01:54:56"
      ]
     },
     "execution_count": 77,
     "metadata": {},
     "output_type": "execute_result"
    }
   ],
   "source": [
    "final.head()"
   ]
  },
  {
   "cell_type": "code",
   "execution_count": 78,
   "metadata": {
    "collapsed": false
   },
   "outputs": [
    {
     "data": {
      "text/plain": [
       "(4428, 4)"
      ]
     },
     "execution_count": 78,
     "metadata": {},
     "output_type": "execute_result"
    }
   ],
   "source": [
    "final.shape"
   ]
  },
  {
   "cell_type": "code",
   "execution_count": 81,
   "metadata": {
    "collapsed": true
   },
   "outputs": [],
   "source": [
    "final_data = final"
   ]
  },
  {
   "cell_type": "code",
   "execution_count": 82,
   "metadata": {
    "collapsed": false
   },
   "outputs": [
    {
     "data": {
      "text/html": [
       "<div>\n",
       "<table border=\"1\" class=\"dataframe\">\n",
       "  <thead>\n",
       "    <tr style=\"text-align: right;\">\n",
       "      <th></th>\n",
       "      <th>cust_id</th>\n",
       "      <th>product_id</th>\n",
       "      <th>count</th>\n",
       "      <th>sum</th>\n",
       "    </tr>\n",
       "  </thead>\n",
       "  <tbody>\n",
       "    <tr>\n",
       "      <th>0</th>\n",
       "      <td>2942914</td>\n",
       "      <td>com.gopaktor.subscription.v1.premium.1m</td>\n",
       "      <td>1</td>\n",
       "      <td>NaT</td>\n",
       "    </tr>\n",
       "    <tr>\n",
       "      <th>1</th>\n",
       "      <td>3053432</td>\n",
       "      <td>com.gopaktor.subscription.v4.premium.1m</td>\n",
       "      <td>10</td>\n",
       "      <td>245 days 01:54:56</td>\n",
       "    </tr>\n",
       "    <tr>\n",
       "      <th>2</th>\n",
       "      <td>3053432</td>\n",
       "      <td>com.gopaktor.subscription.v4.premium.1m</td>\n",
       "      <td>10</td>\n",
       "      <td>245 days 01:54:56</td>\n",
       "    </tr>\n",
       "    <tr>\n",
       "      <th>3</th>\n",
       "      <td>3053432</td>\n",
       "      <td>com.gopaktor.subscription.v4.premium.1m</td>\n",
       "      <td>10</td>\n",
       "      <td>245 days 01:54:56</td>\n",
       "    </tr>\n",
       "    <tr>\n",
       "      <th>4</th>\n",
       "      <td>3053432</td>\n",
       "      <td>com.gopaktor.subscription.v4.premium.1m</td>\n",
       "      <td>10</td>\n",
       "      <td>245 days 01:54:56</td>\n",
       "    </tr>\n",
       "  </tbody>\n",
       "</table>\n",
       "</div>"
      ],
      "text/plain": [
       "   cust_id                               product_id  count               sum\n",
       "0  2942914  com.gopaktor.subscription.v1.premium.1m      1               NaT\n",
       "1  3053432  com.gopaktor.subscription.v4.premium.1m     10 245 days 01:54:56\n",
       "2  3053432  com.gopaktor.subscription.v4.premium.1m     10 245 days 01:54:56\n",
       "3  3053432  com.gopaktor.subscription.v4.premium.1m     10 245 days 01:54:56\n",
       "4  3053432  com.gopaktor.subscription.v4.premium.1m     10 245 days 01:54:56"
      ]
     },
     "execution_count": 82,
     "metadata": {},
     "output_type": "execute_result"
    }
   ],
   "source": [
    "final_data.head()"
   ]
  },
  {
   "cell_type": "code",
   "execution_count": 83,
   "metadata": {
    "collapsed": false
   },
   "outputs": [
    {
     "data": {
      "text/plain": [
       "(4428, 4)"
      ]
     },
     "execution_count": 83,
     "metadata": {},
     "output_type": "execute_result"
    }
   ],
   "source": [
    "final_data.shape"
   ]
  },
  {
   "cell_type": "code",
   "execution_count": 84,
   "metadata": {
    "collapsed": false
   },
   "outputs": [
    {
     "data": {
      "text/plain": [
       "3087"
      ]
     },
     "execution_count": 84,
     "metadata": {},
     "output_type": "execute_result"
    }
   ],
   "source": [
    "len(final_data.cust_id.unique())"
   ]
  },
  {
   "cell_type": "code",
   "execution_count": 86,
   "metadata": {
    "collapsed": false
   },
   "outputs": [
    {
     "data": {
      "text/plain": [
       "18"
      ]
     },
     "execution_count": 86,
     "metadata": {},
     "output_type": "execute_result"
    }
   ],
   "source": [
    "len(final_data.product_id.unique())"
   ]
  },
  {
   "cell_type": "code",
   "execution_count": 87,
   "metadata": {
    "collapsed": true
   },
   "outputs": [],
   "source": [
    "final_data['repurchase_time'] = final_data['sum'] / final_data['count']"
   ]
  },
  {
   "cell_type": "code",
   "execution_count": 88,
   "metadata": {
    "collapsed": false
   },
   "outputs": [
    {
     "data": {
      "text/html": [
       "<div>\n",
       "<table border=\"1\" class=\"dataframe\">\n",
       "  <thead>\n",
       "    <tr style=\"text-align: right;\">\n",
       "      <th></th>\n",
       "      <th>cust_id</th>\n",
       "      <th>product_id</th>\n",
       "      <th>count</th>\n",
       "      <th>sum</th>\n",
       "      <th>repurchase_time</th>\n",
       "    </tr>\n",
       "  </thead>\n",
       "  <tbody>\n",
       "    <tr>\n",
       "      <th>0</th>\n",
       "      <td>2942914</td>\n",
       "      <td>com.gopaktor.subscription.v1.premium.1m</td>\n",
       "      <td>1</td>\n",
       "      <td>NaT</td>\n",
       "      <td>NaT</td>\n",
       "    </tr>\n",
       "    <tr>\n",
       "      <th>1</th>\n",
       "      <td>3053432</td>\n",
       "      <td>com.gopaktor.subscription.v4.premium.1m</td>\n",
       "      <td>10</td>\n",
       "      <td>245 days 01:54:56</td>\n",
       "      <td>24 days 12:11:29.600000</td>\n",
       "    </tr>\n",
       "    <tr>\n",
       "      <th>2</th>\n",
       "      <td>3053432</td>\n",
       "      <td>com.gopaktor.subscription.v4.premium.1m</td>\n",
       "      <td>10</td>\n",
       "      <td>245 days 01:54:56</td>\n",
       "      <td>24 days 12:11:29.600000</td>\n",
       "    </tr>\n",
       "    <tr>\n",
       "      <th>3</th>\n",
       "      <td>3053432</td>\n",
       "      <td>com.gopaktor.subscription.v4.premium.1m</td>\n",
       "      <td>10</td>\n",
       "      <td>245 days 01:54:56</td>\n",
       "      <td>24 days 12:11:29.600000</td>\n",
       "    </tr>\n",
       "    <tr>\n",
       "      <th>4</th>\n",
       "      <td>3053432</td>\n",
       "      <td>com.gopaktor.subscription.v4.premium.1m</td>\n",
       "      <td>10</td>\n",
       "      <td>245 days 01:54:56</td>\n",
       "      <td>24 days 12:11:29.600000</td>\n",
       "    </tr>\n",
       "  </tbody>\n",
       "</table>\n",
       "</div>"
      ],
      "text/plain": [
       "   cust_id                               product_id  count               sum  \\\n",
       "0  2942914  com.gopaktor.subscription.v1.premium.1m      1               NaT   \n",
       "1  3053432  com.gopaktor.subscription.v4.premium.1m     10 245 days 01:54:56   \n",
       "2  3053432  com.gopaktor.subscription.v4.premium.1m     10 245 days 01:54:56   \n",
       "3  3053432  com.gopaktor.subscription.v4.premium.1m     10 245 days 01:54:56   \n",
       "4  3053432  com.gopaktor.subscription.v4.premium.1m     10 245 days 01:54:56   \n",
       "\n",
       "          repurchase_time  \n",
       "0                     NaT  \n",
       "1 24 days 12:11:29.600000  \n",
       "2 24 days 12:11:29.600000  \n",
       "3 24 days 12:11:29.600000  \n",
       "4 24 days 12:11:29.600000  "
      ]
     },
     "execution_count": 88,
     "metadata": {},
     "output_type": "execute_result"
    }
   ],
   "source": [
    "final_data.head()"
   ]
  },
  {
   "cell_type": "code",
   "execution_count": null,
   "metadata": {
    "collapsed": false
   },
   "outputs": [],
   "source": [
    "final_data['repurchase_time'] = final_data['repurchase_time'].fillna(0)"
   ]
  },
  {
   "cell_type": "code",
   "execution_count": null,
   "metadata": {
    "collapsed": false
   },
   "outputs": [],
   "source": [
    "final_data.head()"
   ]
  },
  {
   "cell_type": "code",
   "execution_count": null,
   "metadata": {
    "collapsed": true
   },
   "outputs": [],
   "source": [
    "final_data.rename(columns={'repurchase_time':'customer_repurchase_time'}, inplace=True)"
   ]
  },
  {
   "cell_type": "code",
   "execution_count": null,
   "metadata": {
    "collapsed": false
   },
   "outputs": [],
   "source": [
    "final_data.head()"
   ]
  },
  {
   "cell_type": "code",
   "execution_count": null,
   "metadata": {
    "collapsed": false
   },
   "outputs": [],
   "source": [
    "final_data.query('product_id == \"com.gopaktor.credit.v2.6000\"')"
   ]
  },
  {
   "cell_type": "code",
   "execution_count": null,
   "metadata": {
    "collapsed": true
   },
   "outputs": [],
   "source": []
  }
 ],
 "metadata": {
  "kernelspec": {
   "display_name": "Python 2",
   "language": "python",
   "name": "python2"
  },
  "language_info": {
   "codemirror_mode": {
    "name": "ipython",
    "version": 2
   },
   "file_extension": ".py",
   "mimetype": "text/x-python",
   "name": "python",
   "nbconvert_exporter": "python",
   "pygments_lexer": "ipython2",
   "version": "2.7.11"
  }
 },
 "nbformat": 4,
 "nbformat_minor": 0
}
