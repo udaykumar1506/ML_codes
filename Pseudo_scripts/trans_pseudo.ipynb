{
 "cells": [
  {
   "cell_type": "code",
   "execution_count": 1,
   "metadata": {
    "collapsed": true
   },
   "outputs": [],
   "source": [
    "from DemoServerDB import ConnectDatabase\n",
    "from mapping import doc"
   ]
  },
  {
   "cell_type": "code",
   "execution_count": 2,
   "metadata": {
    "collapsed": true
   },
   "outputs": [],
   "source": [
    "temp = ConnectDatabase()"
   ]
  },
  {
   "cell_type": "code",
   "execution_count": 3,
   "metadata": {
    "collapsed": false
   },
   "outputs": [
    {
     "data": {
      "text/plain": [
       "<connection object at 0x7f8588ca8398; dsn: 'dbname=postgresdemotwo user=clientdemo password=xxxxxxxxxxx host=postgresdemotwo.c3yxphqgag3s.ap-southeast-1.rds.amazonaws.com port=5432 sslmode=require', closed: 0>"
      ]
     },
     "execution_count": 3,
     "metadata": {},
     "output_type": "execute_result"
    }
   ],
   "source": [
    "temp.conn"
   ]
  },
  {
   "cell_type": "code",
   "execution_count": 4,
   "metadata": {
    "collapsed": false
   },
   "outputs": [
    {
     "data": {
      "text/plain": [
       "{'category': 'category',\n",
       " 'cust_id': 'id',\n",
       " 'product_id': 'prod_id',\n",
       " 'quantity': 'purchasequantity',\n",
       " 'timestamp': 'date'}"
      ]
     },
     "execution_count": 4,
     "metadata": {},
     "output_type": "execute_result"
    }
   ],
   "source": [
    "doc['column_map']['TRANSACTION_MASTER']"
   ]
  },
  {
   "cell_type": "code",
   "execution_count": 5,
   "metadata": {
    "collapsed": true
   },
   "outputs": [],
   "source": [
    "query = 'SELECT %s,%s FROM %s'%(doc['column_map']['TRANSACTION_MASTER']['cust_id'],\n",
    "                                doc['column_map']['TRANSACTION_MASTER']['product_id'],\n",
    "                                doc['table_map']['TRANSACTION_MASTER'])"
   ]
  },
  {
   "cell_type": "code",
   "execution_count": 6,
   "metadata": {
    "collapsed": false
   },
   "outputs": [
    {
     "name": "stdout",
     "output_type": "stream",
     "text": [
      "SELECT id,prod_id FROM trans\n"
     ]
    }
   ],
   "source": [
    "print query"
   ]
  },
  {
   "cell_type": "code",
   "execution_count": 7,
   "metadata": {
    "collapsed": false
   },
   "outputs": [],
   "source": [
    "temp.cur.execute(query)"
   ]
  },
  {
   "cell_type": "code",
   "execution_count": 8,
   "metadata": {
    "collapsed": false
   },
   "outputs": [],
   "source": [
    "col_names = [desc[0] for desc in temp.cur.description]"
   ]
  },
  {
   "cell_type": "code",
   "execution_count": 9,
   "metadata": {
    "collapsed": false
   },
   "outputs": [
    {
     "data": {
      "text/plain": [
       "['id', 'prod_id']"
      ]
     },
     "execution_count": 9,
     "metadata": {},
     "output_type": "execute_result"
    }
   ],
   "source": [
    "col_names"
   ]
  },
  {
   "cell_type": "code",
   "execution_count": 10,
   "metadata": {
    "collapsed": false
   },
   "outputs": [],
   "source": [
    "import pandas as pd"
   ]
  },
  {
   "cell_type": "code",
   "execution_count": 11,
   "metadata": {
    "collapsed": true
   },
   "outputs": [],
   "source": [
    "trans_table = pd.DataFrame(temp.cur.fetchall(), columns=col_names)"
   ]
  },
  {
   "cell_type": "code",
   "execution_count": 12,
   "metadata": {
    "collapsed": false
   },
   "outputs": [
    {
     "data": {
      "text/html": [
       "<div>\n",
       "<table border=\"1\" class=\"dataframe\">\n",
       "  <thead>\n",
       "    <tr style=\"text-align: right;\">\n",
       "      <th></th>\n",
       "      <th>id</th>\n",
       "      <th>prod_id</th>\n",
       "    </tr>\n",
       "  </thead>\n",
       "  <tbody>\n",
       "    <tr>\n",
       "      <th>0</th>\n",
       "      <td>3561244241</td>\n",
       "      <td>2507 - 8499 - 24 - OZ</td>\n",
       "    </tr>\n",
       "    <tr>\n",
       "      <th>1</th>\n",
       "      <td>3561244241</td>\n",
       "      <td>2507 - 8499 - 24 - OZ</td>\n",
       "    </tr>\n",
       "    <tr>\n",
       "      <th>2</th>\n",
       "      <td>3561244241</td>\n",
       "      <td>9753 - 0 - 1 - CT</td>\n",
       "    </tr>\n",
       "    <tr>\n",
       "      <th>3</th>\n",
       "      <td>3561244241</td>\n",
       "      <td>9518 - 2988 - 1 - CT</td>\n",
       "    </tr>\n",
       "    <tr>\n",
       "      <th>4</th>\n",
       "      <td>3561244241</td>\n",
       "      <td>9518 - 2988 - 1 - CT</td>\n",
       "    </tr>\n",
       "  </tbody>\n",
       "</table>\n",
       "</div>"
      ],
      "text/plain": [
       "           id                prod_id\n",
       "0  3561244241  2507 - 8499 - 24 - OZ\n",
       "1  3561244241  2507 - 8499 - 24 - OZ\n",
       "2  3561244241      9753 - 0 - 1 - CT\n",
       "3  3561244241   9518 - 2988 - 1 - CT\n",
       "4  3561244241   9518 - 2988 - 1 - CT"
      ]
     },
     "execution_count": 12,
     "metadata": {},
     "output_type": "execute_result"
    }
   ],
   "source": [
    "trans_table.head()"
   ]
  },
  {
   "cell_type": "code",
   "execution_count": 13,
   "metadata": {
    "collapsed": true
   },
   "outputs": [],
   "source": [
    "trans_table.rename(columns={doc['column_map']['TRANSACTION_MASTER']['cust_id']:'cust_id'}, inplace=True)\n",
    "trans_table.rename(columns={doc['column_map']['TRANSACTION_MASTER']['product_id']:'product_id'}, inplace=True)"
   ]
  },
  {
   "cell_type": "code",
   "execution_count": 14,
   "metadata": {
    "collapsed": false
   },
   "outputs": [
    {
     "data": {
      "text/html": [
       "<div>\n",
       "<table border=\"1\" class=\"dataframe\">\n",
       "  <thead>\n",
       "    <tr style=\"text-align: right;\">\n",
       "      <th></th>\n",
       "      <th>cust_id</th>\n",
       "      <th>product_id</th>\n",
       "    </tr>\n",
       "  </thead>\n",
       "  <tbody>\n",
       "    <tr>\n",
       "      <th>0</th>\n",
       "      <td>3561244241</td>\n",
       "      <td>2507 - 8499 - 24 - OZ</td>\n",
       "    </tr>\n",
       "    <tr>\n",
       "      <th>1</th>\n",
       "      <td>3561244241</td>\n",
       "      <td>2507 - 8499 - 24 - OZ</td>\n",
       "    </tr>\n",
       "    <tr>\n",
       "      <th>2</th>\n",
       "      <td>3561244241</td>\n",
       "      <td>9753 - 0 - 1 - CT</td>\n",
       "    </tr>\n",
       "    <tr>\n",
       "      <th>3</th>\n",
       "      <td>3561244241</td>\n",
       "      <td>9518 - 2988 - 1 - CT</td>\n",
       "    </tr>\n",
       "    <tr>\n",
       "      <th>4</th>\n",
       "      <td>3561244241</td>\n",
       "      <td>9518 - 2988 - 1 - CT</td>\n",
       "    </tr>\n",
       "  </tbody>\n",
       "</table>\n",
       "</div>"
      ],
      "text/plain": [
       "      cust_id             product_id\n",
       "0  3561244241  2507 - 8499 - 24 - OZ\n",
       "1  3561244241  2507 - 8499 - 24 - OZ\n",
       "2  3561244241      9753 - 0 - 1 - CT\n",
       "3  3561244241   9518 - 2988 - 1 - CT\n",
       "4  3561244241   9518 - 2988 - 1 - CT"
      ]
     },
     "execution_count": 14,
     "metadata": {},
     "output_type": "execute_result"
    }
   ],
   "source": [
    "trans_table.head()"
   ]
  },
  {
   "cell_type": "code",
   "execution_count": 15,
   "metadata": {
    "collapsed": false
   },
   "outputs": [
    {
     "data": {
      "text/plain": [
       "(71932603, 2)"
      ]
     },
     "execution_count": 15,
     "metadata": {},
     "output_type": "execute_result"
    }
   ],
   "source": [
    "trans_table.shape"
   ]
  },
  {
   "cell_type": "code",
   "execution_count": 16,
   "metadata": {
    "collapsed": true
   },
   "outputs": [],
   "source": [
    "trans_df = trans_table[['cust_id','product_id']]"
   ]
  },
  {
   "cell_type": "code",
   "execution_count": 17,
   "metadata": {
    "collapsed": false
   },
   "outputs": [],
   "source": [
    "grp_cust = trans_df.groupby('cust_id').count()"
   ]
  },
  {
   "cell_type": "code",
   "execution_count": 18,
   "metadata": {
    "collapsed": false
   },
   "outputs": [
    {
     "data": {
      "text/html": [
       "<div>\n",
       "<table border=\"1\" class=\"dataframe\">\n",
       "  <thead>\n",
       "    <tr style=\"text-align: right;\">\n",
       "      <th></th>\n",
       "      <th>product_id</th>\n",
       "    </tr>\n",
       "    <tr>\n",
       "      <th>cust_id</th>\n",
       "      <th></th>\n",
       "    </tr>\n",
       "  </thead>\n",
       "  <tbody>\n",
       "    <tr>\n",
       "      <th>100010021</th>\n",
       "      <td>349</td>\n",
       "    </tr>\n",
       "    <tr>\n",
       "      <th>100022923</th>\n",
       "      <td>617</td>\n",
       "    </tr>\n",
       "    <tr>\n",
       "      <th>100029473</th>\n",
       "      <td>1644</td>\n",
       "    </tr>\n",
       "    <tr>\n",
       "      <th>100050424</th>\n",
       "      <td>1235</td>\n",
       "    </tr>\n",
       "    <tr>\n",
       "      <th>100051316</th>\n",
       "      <td>3065</td>\n",
       "    </tr>\n",
       "  </tbody>\n",
       "</table>\n",
       "</div>"
      ],
      "text/plain": [
       "           product_id\n",
       "cust_id              \n",
       "100010021         349\n",
       "100022923         617\n",
       "100029473        1644\n",
       "100050424        1235\n",
       "100051316        3065"
      ]
     },
     "execution_count": 18,
     "metadata": {},
     "output_type": "execute_result"
    }
   ],
   "source": [
    "grp_cust.head()"
   ]
  },
  {
   "cell_type": "code",
   "execution_count": 19,
   "metadata": {
    "collapsed": true
   },
   "outputs": [],
   "source": [
    "grp_cust = grp_cust.reset_index()"
   ]
  },
  {
   "cell_type": "code",
   "execution_count": 20,
   "metadata": {
    "collapsed": false
   },
   "outputs": [
    {
     "data": {
      "text/html": [
       "<div>\n",
       "<table border=\"1\" class=\"dataframe\">\n",
       "  <thead>\n",
       "    <tr style=\"text-align: right;\">\n",
       "      <th></th>\n",
       "      <th>cust_id</th>\n",
       "      <th>product_id</th>\n",
       "    </tr>\n",
       "  </thead>\n",
       "  <tbody>\n",
       "    <tr>\n",
       "      <th>0</th>\n",
       "      <td>100010021</td>\n",
       "      <td>349</td>\n",
       "    </tr>\n",
       "    <tr>\n",
       "      <th>1</th>\n",
       "      <td>100022923</td>\n",
       "      <td>617</td>\n",
       "    </tr>\n",
       "    <tr>\n",
       "      <th>2</th>\n",
       "      <td>100029473</td>\n",
       "      <td>1644</td>\n",
       "    </tr>\n",
       "    <tr>\n",
       "      <th>3</th>\n",
       "      <td>100050424</td>\n",
       "      <td>1235</td>\n",
       "    </tr>\n",
       "    <tr>\n",
       "      <th>4</th>\n",
       "      <td>100051316</td>\n",
       "      <td>3065</td>\n",
       "    </tr>\n",
       "  </tbody>\n",
       "</table>\n",
       "</div>"
      ],
      "text/plain": [
       "     cust_id  product_id\n",
       "0  100010021         349\n",
       "1  100022923         617\n",
       "2  100029473        1644\n",
       "3  100050424        1235\n",
       "4  100051316        3065"
      ]
     },
     "execution_count": 20,
     "metadata": {},
     "output_type": "execute_result"
    }
   ],
   "source": [
    "grp_cust.head()"
   ]
  },
  {
   "cell_type": "code",
   "execution_count": 53,
   "metadata": {
    "collapsed": false
   },
   "outputs": [
    {
     "data": {
      "text/plain": [
       "(62308, 2)"
      ]
     },
     "execution_count": 53,
     "metadata": {},
     "output_type": "execute_result"
    }
   ],
   "source": [
    "grp_cust.shape"
   ]
  },
  {
   "cell_type": "code",
   "execution_count": 21,
   "metadata": {
    "collapsed": true
   },
   "outputs": [],
   "source": [
    "grp_cust.rename(columns={'product_id':'count'}, inplace=True)"
   ]
  },
  {
   "cell_type": "code",
   "execution_count": 22,
   "metadata": {
    "collapsed": false
   },
   "outputs": [
    {
     "data": {
      "text/html": [
       "<div>\n",
       "<table border=\"1\" class=\"dataframe\">\n",
       "  <thead>\n",
       "    <tr style=\"text-align: right;\">\n",
       "      <th></th>\n",
       "      <th>cust_id</th>\n",
       "      <th>count</th>\n",
       "    </tr>\n",
       "  </thead>\n",
       "  <tbody>\n",
       "    <tr>\n",
       "      <th>0</th>\n",
       "      <td>100010021</td>\n",
       "      <td>349</td>\n",
       "    </tr>\n",
       "    <tr>\n",
       "      <th>1</th>\n",
       "      <td>100022923</td>\n",
       "      <td>617</td>\n",
       "    </tr>\n",
       "    <tr>\n",
       "      <th>2</th>\n",
       "      <td>100029473</td>\n",
       "      <td>1644</td>\n",
       "    </tr>\n",
       "    <tr>\n",
       "      <th>3</th>\n",
       "      <td>100050424</td>\n",
       "      <td>1235</td>\n",
       "    </tr>\n",
       "    <tr>\n",
       "      <th>4</th>\n",
       "      <td>100051316</td>\n",
       "      <td>3065</td>\n",
       "    </tr>\n",
       "  </tbody>\n",
       "</table>\n",
       "</div>"
      ],
      "text/plain": [
       "     cust_id  count\n",
       "0  100010021    349\n",
       "1  100022923    617\n",
       "2  100029473   1644\n",
       "3  100050424   1235\n",
       "4  100051316   3065"
      ]
     },
     "execution_count": 22,
     "metadata": {},
     "output_type": "execute_result"
    }
   ],
   "source": [
    "grp_cust.head()"
   ]
  },
  {
   "cell_type": "code",
   "execution_count": 58,
   "metadata": {
    "collapsed": false
   },
   "outputs": [
    {
     "data": {
      "text/html": [
       "<div>\n",
       "<table border=\"1\" class=\"dataframe\">\n",
       "  <thead>\n",
       "    <tr style=\"text-align: right;\">\n",
       "      <th></th>\n",
       "      <th>cust_id</th>\n",
       "      <th>count</th>\n",
       "    </tr>\n",
       "  </thead>\n",
       "  <tbody>\n",
       "    <tr>\n",
       "      <th>1</th>\n",
       "      <td>100022923</td>\n",
       "      <td>617</td>\n",
       "    </tr>\n",
       "    <tr>\n",
       "      <th>865</th>\n",
       "      <td>115617935</td>\n",
       "      <td>617</td>\n",
       "    </tr>\n",
       "    <tr>\n",
       "      <th>6548</th>\n",
       "      <td>1906583511</td>\n",
       "      <td>617</td>\n",
       "    </tr>\n",
       "    <tr>\n",
       "      <th>6850</th>\n",
       "      <td>1932350082</td>\n",
       "      <td>617</td>\n",
       "    </tr>\n",
       "    <tr>\n",
       "      <th>7264</th>\n",
       "      <td>1952487136</td>\n",
       "      <td>617</td>\n",
       "    </tr>\n",
       "    <tr>\n",
       "      <th>14249</th>\n",
       "      <td>2654463844</td>\n",
       "      <td>617</td>\n",
       "    </tr>\n",
       "    <tr>\n",
       "      <th>16159</th>\n",
       "      <td>2803507662</td>\n",
       "      <td>617</td>\n",
       "    </tr>\n",
       "    <tr>\n",
       "      <th>16194</th>\n",
       "      <td>2806564621</td>\n",
       "      <td>617</td>\n",
       "    </tr>\n",
       "    <tr>\n",
       "      <th>16478</th>\n",
       "      <td>2837827652</td>\n",
       "      <td>617</td>\n",
       "    </tr>\n",
       "    <tr>\n",
       "      <th>17809</th>\n",
       "      <td>2959150780</td>\n",
       "      <td>617</td>\n",
       "    </tr>\n",
       "    <tr>\n",
       "      <th>20613</th>\n",
       "      <td>328238201</td>\n",
       "      <td>617</td>\n",
       "    </tr>\n",
       "    <tr>\n",
       "      <th>22924</th>\n",
       "      <td>3542792491</td>\n",
       "      <td>617</td>\n",
       "    </tr>\n",
       "    <tr>\n",
       "      <th>22990</th>\n",
       "      <td>3546197328</td>\n",
       "      <td>617</td>\n",
       "    </tr>\n",
       "    <tr>\n",
       "      <th>23810</th>\n",
       "      <td>3599695726</td>\n",
       "      <td>617</td>\n",
       "    </tr>\n",
       "    <tr>\n",
       "      <th>27406</th>\n",
       "      <td>3861965838</td>\n",
       "      <td>617</td>\n",
       "    </tr>\n",
       "    <tr>\n",
       "      <th>29582</th>\n",
       "      <td>4037082687</td>\n",
       "      <td>617</td>\n",
       "    </tr>\n",
       "    <tr>\n",
       "      <th>33847</th>\n",
       "      <td>4356930018</td>\n",
       "      <td>617</td>\n",
       "    </tr>\n",
       "    <tr>\n",
       "      <th>35256</th>\n",
       "      <td>440128056</td>\n",
       "      <td>617</td>\n",
       "    </tr>\n",
       "    <tr>\n",
       "      <th>35760</th>\n",
       "      <td>4427832165</td>\n",
       "      <td>617</td>\n",
       "    </tr>\n",
       "    <tr>\n",
       "      <th>36324</th>\n",
       "      <td>446176200</td>\n",
       "      <td>617</td>\n",
       "    </tr>\n",
       "    <tr>\n",
       "      <th>36337</th>\n",
       "      <td>4462471478</td>\n",
       "      <td>617</td>\n",
       "    </tr>\n",
       "    <tr>\n",
       "      <th>37772</th>\n",
       "      <td>456615699</td>\n",
       "      <td>617</td>\n",
       "    </tr>\n",
       "    <tr>\n",
       "      <th>40349</th>\n",
       "      <td>4626189113</td>\n",
       "      <td>617</td>\n",
       "    </tr>\n",
       "    <tr>\n",
       "      <th>41743</th>\n",
       "      <td>4633027523</td>\n",
       "      <td>617</td>\n",
       "    </tr>\n",
       "    <tr>\n",
       "      <th>43353</th>\n",
       "      <td>4640617692</td>\n",
       "      <td>617</td>\n",
       "    </tr>\n",
       "    <tr>\n",
       "      <th>46618</th>\n",
       "      <td>496236077</td>\n",
       "      <td>617</td>\n",
       "    </tr>\n",
       "    <tr>\n",
       "      <th>47019</th>\n",
       "      <td>496769359</td>\n",
       "      <td>617</td>\n",
       "    </tr>\n",
       "    <tr>\n",
       "      <th>48352</th>\n",
       "      <td>498298871</td>\n",
       "      <td>617</td>\n",
       "    </tr>\n",
       "    <tr>\n",
       "      <th>50120</th>\n",
       "      <td>555644065</td>\n",
       "      <td>617</td>\n",
       "    </tr>\n",
       "    <tr>\n",
       "      <th>55436</th>\n",
       "      <td>660155119</td>\n",
       "      <td>617</td>\n",
       "    </tr>\n",
       "    <tr>\n",
       "      <th>59398</th>\n",
       "      <td>723066258</td>\n",
       "      <td>617</td>\n",
       "    </tr>\n",
       "    <tr>\n",
       "      <th>59884</th>\n",
       "      <td>730065819</td>\n",
       "      <td>617</td>\n",
       "    </tr>\n",
       "    <tr>\n",
       "      <th>60189</th>\n",
       "      <td>737707887</td>\n",
       "      <td>617</td>\n",
       "    </tr>\n",
       "    <tr>\n",
       "      <th>60867</th>\n",
       "      <td>753044449</td>\n",
       "      <td>617</td>\n",
       "    </tr>\n",
       "    <tr>\n",
       "      <th>61491</th>\n",
       "      <td>767510361</td>\n",
       "      <td>617</td>\n",
       "    </tr>\n",
       "  </tbody>\n",
       "</table>\n",
       "</div>"
      ],
      "text/plain": [
       "          cust_id  count\n",
       "1       100022923    617\n",
       "865     115617935    617\n",
       "6548   1906583511    617\n",
       "6850   1932350082    617\n",
       "7264   1952487136    617\n",
       "14249  2654463844    617\n",
       "16159  2803507662    617\n",
       "16194  2806564621    617\n",
       "16478  2837827652    617\n",
       "17809  2959150780    617\n",
       "20613   328238201    617\n",
       "22924  3542792491    617\n",
       "22990  3546197328    617\n",
       "23810  3599695726    617\n",
       "27406  3861965838    617\n",
       "29582  4037082687    617\n",
       "33847  4356930018    617\n",
       "35256   440128056    617\n",
       "35760  4427832165    617\n",
       "36324   446176200    617\n",
       "36337  4462471478    617\n",
       "37772   456615699    617\n",
       "40349  4626189113    617\n",
       "41743  4633027523    617\n",
       "43353  4640617692    617\n",
       "46618   496236077    617\n",
       "47019   496769359    617\n",
       "48352   498298871    617\n",
       "50120   555644065    617\n",
       "55436   660155119    617\n",
       "59398   723066258    617\n",
       "59884   730065819    617\n",
       "60189   737707887    617\n",
       "60867   753044449    617\n",
       "61491   767510361    617"
      ]
     },
     "execution_count": 58,
     "metadata": {},
     "output_type": "execute_result"
    }
   ],
   "source": [
    "grp_cust.query('count == 617')"
   ]
  },
  {
   "cell_type": "code",
   "execution_count": 23,
   "metadata": {
    "collapsed": false
   },
   "outputs": [],
   "source": [
    "grp_cust_df_1 = grp_cust.query('count != 1')"
   ]
  },
  {
   "cell_type": "code",
   "execution_count": 24,
   "metadata": {
    "collapsed": false
   },
   "outputs": [
    {
     "data": {
      "text/html": [
       "<div>\n",
       "<table border=\"1\" class=\"dataframe\">\n",
       "  <thead>\n",
       "    <tr style=\"text-align: right;\">\n",
       "      <th></th>\n",
       "      <th>cust_id</th>\n",
       "      <th>count</th>\n",
       "    </tr>\n",
       "  </thead>\n",
       "  <tbody>\n",
       "    <tr>\n",
       "      <th>0</th>\n",
       "      <td>100010021</td>\n",
       "      <td>349</td>\n",
       "    </tr>\n",
       "    <tr>\n",
       "      <th>1</th>\n",
       "      <td>100022923</td>\n",
       "      <td>617</td>\n",
       "    </tr>\n",
       "    <tr>\n",
       "      <th>2</th>\n",
       "      <td>100029473</td>\n",
       "      <td>1644</td>\n",
       "    </tr>\n",
       "    <tr>\n",
       "      <th>3</th>\n",
       "      <td>100050424</td>\n",
       "      <td>1235</td>\n",
       "    </tr>\n",
       "    <tr>\n",
       "      <th>4</th>\n",
       "      <td>100051316</td>\n",
       "      <td>3065</td>\n",
       "    </tr>\n",
       "  </tbody>\n",
       "</table>\n",
       "</div>"
      ],
      "text/plain": [
       "     cust_id  count\n",
       "0  100010021    349\n",
       "1  100022923    617\n",
       "2  100029473   1644\n",
       "3  100050424   1235\n",
       "4  100051316   3065"
      ]
     },
     "execution_count": 24,
     "metadata": {},
     "output_type": "execute_result"
    }
   ],
   "source": [
    "grp_cust_df_1.head()"
   ]
  },
  {
   "cell_type": "code",
   "execution_count": 25,
   "metadata": {
    "collapsed": false
   },
   "outputs": [
    {
     "data": {
      "text/plain": [
       "(62301, 2)"
      ]
     },
     "execution_count": 25,
     "metadata": {},
     "output_type": "execute_result"
    }
   ],
   "source": [
    "grp_cust_df_1.shape"
   ]
  },
  {
   "cell_type": "code",
   "execution_count": 26,
   "metadata": {
    "collapsed": false
   },
   "outputs": [
    {
     "data": {
      "text/plain": [
       "(62308, 2)"
      ]
     },
     "execution_count": 26,
     "metadata": {},
     "output_type": "execute_result"
    }
   ],
   "source": [
    "grp_cust.shape"
   ]
  },
  {
   "cell_type": "code",
   "execution_count": 27,
   "metadata": {
    "collapsed": true
   },
   "outputs": [],
   "source": [
    "grp_cust_df_1.reset_index(drop=True, inplace=True)"
   ]
  },
  {
   "cell_type": "code",
   "execution_count": 28,
   "metadata": {
    "collapsed": false
   },
   "outputs": [
    {
     "data": {
      "text/html": [
       "<div>\n",
       "<table border=\"1\" class=\"dataframe\">\n",
       "  <thead>\n",
       "    <tr style=\"text-align: right;\">\n",
       "      <th></th>\n",
       "      <th>cust_id</th>\n",
       "      <th>count</th>\n",
       "    </tr>\n",
       "  </thead>\n",
       "  <tbody>\n",
       "    <tr>\n",
       "      <th>0</th>\n",
       "      <td>100010021</td>\n",
       "      <td>349</td>\n",
       "    </tr>\n",
       "    <tr>\n",
       "      <th>1</th>\n",
       "      <td>100022923</td>\n",
       "      <td>617</td>\n",
       "    </tr>\n",
       "    <tr>\n",
       "      <th>2</th>\n",
       "      <td>100029473</td>\n",
       "      <td>1644</td>\n",
       "    </tr>\n",
       "    <tr>\n",
       "      <th>3</th>\n",
       "      <td>100050424</td>\n",
       "      <td>1235</td>\n",
       "    </tr>\n",
       "    <tr>\n",
       "      <th>4</th>\n",
       "      <td>100051316</td>\n",
       "      <td>3065</td>\n",
       "    </tr>\n",
       "  </tbody>\n",
       "</table>\n",
       "</div>"
      ],
      "text/plain": [
       "     cust_id  count\n",
       "0  100010021    349\n",
       "1  100022923    617\n",
       "2  100029473   1644\n",
       "3  100050424   1235\n",
       "4  100051316   3065"
      ]
     },
     "execution_count": 28,
     "metadata": {},
     "output_type": "execute_result"
    }
   ],
   "source": [
    "grp_cust_df_1.head()"
   ]
  },
  {
   "cell_type": "code",
   "execution_count": 29,
   "metadata": {
    "collapsed": false
   },
   "outputs": [
    {
     "data": {
      "text/html": [
       "<div>\n",
       "<table border=\"1\" class=\"dataframe\">\n",
       "  <thead>\n",
       "    <tr style=\"text-align: right;\">\n",
       "      <th></th>\n",
       "      <th>cust_id</th>\n",
       "      <th>count</th>\n",
       "    </tr>\n",
       "  </thead>\n",
       "  <tbody>\n",
       "    <tr>\n",
       "      <th>62296</th>\n",
       "      <td>99804794</td>\n",
       "      <td>529</td>\n",
       "    </tr>\n",
       "    <tr>\n",
       "      <th>62297</th>\n",
       "      <td>99818613</td>\n",
       "      <td>673</td>\n",
       "    </tr>\n",
       "    <tr>\n",
       "      <th>62298</th>\n",
       "      <td>99844671</td>\n",
       "      <td>1656</td>\n",
       "    </tr>\n",
       "    <tr>\n",
       "      <th>62299</th>\n",
       "      <td>99926227</td>\n",
       "      <td>914</td>\n",
       "    </tr>\n",
       "    <tr>\n",
       "      <th>62300</th>\n",
       "      <td>99972977</td>\n",
       "      <td>670</td>\n",
       "    </tr>\n",
       "  </tbody>\n",
       "</table>\n",
       "</div>"
      ],
      "text/plain": [
       "        cust_id  count\n",
       "62296  99804794    529\n",
       "62297  99818613    673\n",
       "62298  99844671   1656\n",
       "62299  99926227    914\n",
       "62300  99972977    670"
      ]
     },
     "execution_count": 29,
     "metadata": {},
     "output_type": "execute_result"
    }
   ],
   "source": [
    "grp_cust_df_1.tail()"
   ]
  },
  {
   "cell_type": "code",
   "execution_count": 30,
   "metadata": {
    "collapsed": true
   },
   "outputs": [],
   "source": [
    "cust = grp_cust_df_1[['cust_id']]"
   ]
  },
  {
   "cell_type": "code",
   "execution_count": 31,
   "metadata": {
    "collapsed": false
   },
   "outputs": [
    {
     "data": {
      "text/html": [
       "<div>\n",
       "<table border=\"1\" class=\"dataframe\">\n",
       "  <thead>\n",
       "    <tr style=\"text-align: right;\">\n",
       "      <th></th>\n",
       "      <th>cust_id</th>\n",
       "    </tr>\n",
       "  </thead>\n",
       "  <tbody>\n",
       "    <tr>\n",
       "      <th>0</th>\n",
       "      <td>100010021</td>\n",
       "    </tr>\n",
       "    <tr>\n",
       "      <th>1</th>\n",
       "      <td>100022923</td>\n",
       "    </tr>\n",
       "    <tr>\n",
       "      <th>2</th>\n",
       "      <td>100029473</td>\n",
       "    </tr>\n",
       "    <tr>\n",
       "      <th>3</th>\n",
       "      <td>100050424</td>\n",
       "    </tr>\n",
       "    <tr>\n",
       "      <th>4</th>\n",
       "      <td>100051316</td>\n",
       "    </tr>\n",
       "  </tbody>\n",
       "</table>\n",
       "</div>"
      ],
      "text/plain": [
       "     cust_id\n",
       "0  100010021\n",
       "1  100022923\n",
       "2  100029473\n",
       "3  100050424\n",
       "4  100051316"
      ]
     },
     "execution_count": 31,
     "metadata": {},
     "output_type": "execute_result"
    }
   ],
   "source": [
    "cust.head()"
   ]
  },
  {
   "cell_type": "code",
   "execution_count": 32,
   "metadata": {
    "collapsed": true
   },
   "outputs": [],
   "source": [
    "final_data = trans_df.merge(cust, on='cust_id')"
   ]
  },
  {
   "cell_type": "code",
   "execution_count": 33,
   "metadata": {
    "collapsed": false
   },
   "outputs": [
    {
     "data": {
      "text/plain": [
       "(71932596, 2)"
      ]
     },
     "execution_count": 33,
     "metadata": {},
     "output_type": "execute_result"
    }
   ],
   "source": [
    "final_data.shape"
   ]
  },
  {
   "cell_type": "code",
   "execution_count": 34,
   "metadata": {
    "collapsed": true
   },
   "outputs": [],
   "source": [
    "cust_prod_comb = final_data.groupby(['cust_id','product_id']).size().reset_index().rename(columns={0:'count'})"
   ]
  },
  {
   "cell_type": "code",
   "execution_count": 35,
   "metadata": {
    "collapsed": false
   },
   "outputs": [
    {
     "data": {
      "text/html": [
       "<div>\n",
       "<table border=\"1\" class=\"dataframe\">\n",
       "  <thead>\n",
       "    <tr style=\"text-align: right;\">\n",
       "      <th></th>\n",
       "      <th>cust_id</th>\n",
       "      <th>product_id</th>\n",
       "      <th>count</th>\n",
       "    </tr>\n",
       "  </thead>\n",
       "  <tbody>\n",
       "    <tr>\n",
       "      <th>0</th>\n",
       "      <td>100010021</td>\n",
       "      <td>1205 - 17292 - 5 - OZ</td>\n",
       "      <td>2</td>\n",
       "    </tr>\n",
       "    <tr>\n",
       "      <th>1</th>\n",
       "      <td>100010021</td>\n",
       "      <td>1703 - 10882 - 32 - OZ</td>\n",
       "      <td>1</td>\n",
       "    </tr>\n",
       "    <tr>\n",
       "      <th>2</th>\n",
       "      <td>100010021</td>\n",
       "      <td>1703 - 19934 - 26 - OZ</td>\n",
       "      <td>1</td>\n",
       "    </tr>\n",
       "    <tr>\n",
       "      <th>3</th>\n",
       "      <td>100010021</td>\n",
       "      <td>1703 - 6608 - 32 - OZ</td>\n",
       "      <td>1</td>\n",
       "    </tr>\n",
       "    <tr>\n",
       "      <th>4</th>\n",
       "      <td>100010021</td>\n",
       "      <td>1704 - 27327 - 20 - OZ</td>\n",
       "      <td>1</td>\n",
       "    </tr>\n",
       "  </tbody>\n",
       "</table>\n",
       "</div>"
      ],
      "text/plain": [
       "     cust_id              product_id  count\n",
       "0  100010021   1205 - 17292 - 5 - OZ      2\n",
       "1  100010021  1703 - 10882 - 32 - OZ      1\n",
       "2  100010021  1703 - 19934 - 26 - OZ      1\n",
       "3  100010021   1703 - 6608 - 32 - OZ      1\n",
       "4  100010021  1704 - 27327 - 20 - OZ      1"
      ]
     },
     "execution_count": 35,
     "metadata": {},
     "output_type": "execute_result"
    }
   ],
   "source": [
    "cust_prod_comb.head()"
   ]
  },
  {
   "cell_type": "code",
   "execution_count": 36,
   "metadata": {
    "collapsed": true
   },
   "outputs": [],
   "source": [
    "xyz = cust_prod_comb.merge(grp_cust_df_1, on='cust_id')"
   ]
  },
  {
   "cell_type": "code",
   "execution_count": 37,
   "metadata": {
    "collapsed": false
   },
   "outputs": [
    {
     "data": {
      "text/html": [
       "<div>\n",
       "<table border=\"1\" class=\"dataframe\">\n",
       "  <thead>\n",
       "    <tr style=\"text-align: right;\">\n",
       "      <th></th>\n",
       "      <th>cust_id</th>\n",
       "      <th>product_id</th>\n",
       "      <th>count_x</th>\n",
       "      <th>count_y</th>\n",
       "    </tr>\n",
       "  </thead>\n",
       "  <tbody>\n",
       "    <tr>\n",
       "      <th>0</th>\n",
       "      <td>100010021</td>\n",
       "      <td>1205 - 17292 - 5 - OZ</td>\n",
       "      <td>2</td>\n",
       "      <td>349</td>\n",
       "    </tr>\n",
       "    <tr>\n",
       "      <th>1</th>\n",
       "      <td>100010021</td>\n",
       "      <td>1703 - 10882 - 32 - OZ</td>\n",
       "      <td>1</td>\n",
       "      <td>349</td>\n",
       "    </tr>\n",
       "    <tr>\n",
       "      <th>2</th>\n",
       "      <td>100010021</td>\n",
       "      <td>1703 - 19934 - 26 - OZ</td>\n",
       "      <td>1</td>\n",
       "      <td>349</td>\n",
       "    </tr>\n",
       "    <tr>\n",
       "      <th>3</th>\n",
       "      <td>100010021</td>\n",
       "      <td>1703 - 6608 - 32 - OZ</td>\n",
       "      <td>1</td>\n",
       "      <td>349</td>\n",
       "    </tr>\n",
       "    <tr>\n",
       "      <th>4</th>\n",
       "      <td>100010021</td>\n",
       "      <td>1704 - 27327 - 20 - OZ</td>\n",
       "      <td>1</td>\n",
       "      <td>349</td>\n",
       "    </tr>\n",
       "  </tbody>\n",
       "</table>\n",
       "</div>"
      ],
      "text/plain": [
       "     cust_id              product_id  count_x  count_y\n",
       "0  100010021   1205 - 17292 - 5 - OZ        2      349\n",
       "1  100010021  1703 - 10882 - 32 - OZ        1      349\n",
       "2  100010021  1703 - 19934 - 26 - OZ        1      349\n",
       "3  100010021   1703 - 6608 - 32 - OZ        1      349\n",
       "4  100010021  1704 - 27327 - 20 - OZ        1      349"
      ]
     },
     "execution_count": 37,
     "metadata": {},
     "output_type": "execute_result"
    }
   ],
   "source": [
    "xyz.head()"
   ]
  },
  {
   "cell_type": "code",
   "execution_count": 38,
   "metadata": {
    "collapsed": true
   },
   "outputs": [],
   "source": [
    "xyz.rename(columns={'count_x':'combination'}, inplace=True)\n",
    "xyz.rename(columns={'count_y':'visits'}, inplace=True)"
   ]
  },
  {
   "cell_type": "code",
   "execution_count": 39,
   "metadata": {
    "collapsed": false
   },
   "outputs": [
    {
     "data": {
      "text/html": [
       "<div>\n",
       "<table border=\"1\" class=\"dataframe\">\n",
       "  <thead>\n",
       "    <tr style=\"text-align: right;\">\n",
       "      <th></th>\n",
       "      <th>cust_id</th>\n",
       "      <th>product_id</th>\n",
       "      <th>combination</th>\n",
       "      <th>visits</th>\n",
       "    </tr>\n",
       "  </thead>\n",
       "  <tbody>\n",
       "    <tr>\n",
       "      <th>0</th>\n",
       "      <td>100010021</td>\n",
       "      <td>1205 - 17292 - 5 - OZ</td>\n",
       "      <td>2</td>\n",
       "      <td>349</td>\n",
       "    </tr>\n",
       "    <tr>\n",
       "      <th>1</th>\n",
       "      <td>100010021</td>\n",
       "      <td>1703 - 10882 - 32 - OZ</td>\n",
       "      <td>1</td>\n",
       "      <td>349</td>\n",
       "    </tr>\n",
       "    <tr>\n",
       "      <th>2</th>\n",
       "      <td>100010021</td>\n",
       "      <td>1703 - 19934 - 26 - OZ</td>\n",
       "      <td>1</td>\n",
       "      <td>349</td>\n",
       "    </tr>\n",
       "    <tr>\n",
       "      <th>3</th>\n",
       "      <td>100010021</td>\n",
       "      <td>1703 - 6608 - 32 - OZ</td>\n",
       "      <td>1</td>\n",
       "      <td>349</td>\n",
       "    </tr>\n",
       "    <tr>\n",
       "      <th>4</th>\n",
       "      <td>100010021</td>\n",
       "      <td>1704 - 27327 - 20 - OZ</td>\n",
       "      <td>1</td>\n",
       "      <td>349</td>\n",
       "    </tr>\n",
       "  </tbody>\n",
       "</table>\n",
       "</div>"
      ],
      "text/plain": [
       "     cust_id              product_id  combination  visits\n",
       "0  100010021   1205 - 17292 - 5 - OZ            2     349\n",
       "1  100010021  1703 - 10882 - 32 - OZ            1     349\n",
       "2  100010021  1703 - 19934 - 26 - OZ            1     349\n",
       "3  100010021   1703 - 6608 - 32 - OZ            1     349\n",
       "4  100010021  1704 - 27327 - 20 - OZ            1     349"
      ]
     },
     "execution_count": 39,
     "metadata": {},
     "output_type": "execute_result"
    }
   ],
   "source": [
    "xyz.head()"
   ]
  },
  {
   "cell_type": "code",
   "execution_count": 40,
   "metadata": {
    "collapsed": true
   },
   "outputs": [],
   "source": [
    "xyz['affinity'] = xyz['combination'] / xyz['visits'] * 100"
   ]
  },
  {
   "cell_type": "code",
   "execution_count": 41,
   "metadata": {
    "collapsed": false
   },
   "outputs": [
    {
     "data": {
      "text/html": [
       "<div>\n",
       "<table border=\"1\" class=\"dataframe\">\n",
       "  <thead>\n",
       "    <tr style=\"text-align: right;\">\n",
       "      <th></th>\n",
       "      <th>cust_id</th>\n",
       "      <th>product_id</th>\n",
       "      <th>combination</th>\n",
       "      <th>visits</th>\n",
       "      <th>affinity</th>\n",
       "    </tr>\n",
       "  </thead>\n",
       "  <tbody>\n",
       "    <tr>\n",
       "      <th>0</th>\n",
       "      <td>100010021</td>\n",
       "      <td>1205 - 17292 - 5 - OZ</td>\n",
       "      <td>2</td>\n",
       "      <td>349</td>\n",
       "      <td>0.573066</td>\n",
       "    </tr>\n",
       "    <tr>\n",
       "      <th>1</th>\n",
       "      <td>100010021</td>\n",
       "      <td>1703 - 10882 - 32 - OZ</td>\n",
       "      <td>1</td>\n",
       "      <td>349</td>\n",
       "      <td>0.286533</td>\n",
       "    </tr>\n",
       "    <tr>\n",
       "      <th>2</th>\n",
       "      <td>100010021</td>\n",
       "      <td>1703 - 19934 - 26 - OZ</td>\n",
       "      <td>1</td>\n",
       "      <td>349</td>\n",
       "      <td>0.286533</td>\n",
       "    </tr>\n",
       "    <tr>\n",
       "      <th>3</th>\n",
       "      <td>100010021</td>\n",
       "      <td>1703 - 6608 - 32 - OZ</td>\n",
       "      <td>1</td>\n",
       "      <td>349</td>\n",
       "      <td>0.286533</td>\n",
       "    </tr>\n",
       "    <tr>\n",
       "      <th>4</th>\n",
       "      <td>100010021</td>\n",
       "      <td>1704 - 27327 - 20 - OZ</td>\n",
       "      <td>1</td>\n",
       "      <td>349</td>\n",
       "      <td>0.286533</td>\n",
       "    </tr>\n",
       "  </tbody>\n",
       "</table>\n",
       "</div>"
      ],
      "text/plain": [
       "     cust_id              product_id  combination  visits  affinity\n",
       "0  100010021   1205 - 17292 - 5 - OZ            2     349  0.573066\n",
       "1  100010021  1703 - 10882 - 32 - OZ            1     349  0.286533\n",
       "2  100010021  1703 - 19934 - 26 - OZ            1     349  0.286533\n",
       "3  100010021   1703 - 6608 - 32 - OZ            1     349  0.286533\n",
       "4  100010021  1704 - 27327 - 20 - OZ            1     349  0.286533"
      ]
     },
     "execution_count": 41,
     "metadata": {},
     "output_type": "execute_result"
    }
   ],
   "source": [
    "xyz.head()"
   ]
  },
  {
   "cell_type": "code",
   "execution_count": 42,
   "metadata": {
    "collapsed": true
   },
   "outputs": [],
   "source": [
    "xyz['class'] = \"\""
   ]
  },
  {
   "cell_type": "code",
   "execution_count": 43,
   "metadata": {
    "collapsed": false
   },
   "outputs": [
    {
     "data": {
      "text/html": [
       "<div>\n",
       "<table border=\"1\" class=\"dataframe\">\n",
       "  <thead>\n",
       "    <tr style=\"text-align: right;\">\n",
       "      <th></th>\n",
       "      <th>cust_id</th>\n",
       "      <th>product_id</th>\n",
       "      <th>combination</th>\n",
       "      <th>visits</th>\n",
       "      <th>affinity</th>\n",
       "      <th>class</th>\n",
       "    </tr>\n",
       "  </thead>\n",
       "  <tbody>\n",
       "    <tr>\n",
       "      <th>0</th>\n",
       "      <td>100010021</td>\n",
       "      <td>1205 - 17292 - 5 - OZ</td>\n",
       "      <td>2</td>\n",
       "      <td>349</td>\n",
       "      <td>0.573066</td>\n",
       "      <td></td>\n",
       "    </tr>\n",
       "    <tr>\n",
       "      <th>1</th>\n",
       "      <td>100010021</td>\n",
       "      <td>1703 - 10882 - 32 - OZ</td>\n",
       "      <td>1</td>\n",
       "      <td>349</td>\n",
       "      <td>0.286533</td>\n",
       "      <td></td>\n",
       "    </tr>\n",
       "    <tr>\n",
       "      <th>2</th>\n",
       "      <td>100010021</td>\n",
       "      <td>1703 - 19934 - 26 - OZ</td>\n",
       "      <td>1</td>\n",
       "      <td>349</td>\n",
       "      <td>0.286533</td>\n",
       "      <td></td>\n",
       "    </tr>\n",
       "    <tr>\n",
       "      <th>3</th>\n",
       "      <td>100010021</td>\n",
       "      <td>1703 - 6608 - 32 - OZ</td>\n",
       "      <td>1</td>\n",
       "      <td>349</td>\n",
       "      <td>0.286533</td>\n",
       "      <td></td>\n",
       "    </tr>\n",
       "    <tr>\n",
       "      <th>4</th>\n",
       "      <td>100010021</td>\n",
       "      <td>1704 - 27327 - 20 - OZ</td>\n",
       "      <td>1</td>\n",
       "      <td>349</td>\n",
       "      <td>0.286533</td>\n",
       "      <td></td>\n",
       "    </tr>\n",
       "  </tbody>\n",
       "</table>\n",
       "</div>"
      ],
      "text/plain": [
       "     cust_id              product_id  combination  visits  affinity class\n",
       "0  100010021   1205 - 17292 - 5 - OZ            2     349  0.573066      \n",
       "1  100010021  1703 - 10882 - 32 - OZ            1     349  0.286533      \n",
       "2  100010021  1703 - 19934 - 26 - OZ            1     349  0.286533      \n",
       "3  100010021   1703 - 6608 - 32 - OZ            1     349  0.286533      \n",
       "4  100010021  1704 - 27327 - 20 - OZ            1     349  0.286533      "
      ]
     },
     "execution_count": 43,
     "metadata": {},
     "output_type": "execute_result"
    }
   ],
   "source": [
    "xyz.head()"
   ]
  },
  {
   "cell_type": "code",
   "execution_count": 44,
   "metadata": {
    "collapsed": true
   },
   "outputs": [],
   "source": [
    "xyz.loc[xyz['affinity'] >= 50, 'class'] = \"Class_A\""
   ]
  },
  {
   "cell_type": "code",
   "execution_count": 45,
   "metadata": {
    "collapsed": false
   },
   "outputs": [],
   "source": [
    "xyz.loc[(xyz['affinity'] >= 20) & (xyz['affinity'] < 50) , 'class'] = \"Class_B\""
   ]
  },
  {
   "cell_type": "code",
   "execution_count": 46,
   "metadata": {
    "collapsed": true
   },
   "outputs": [],
   "source": [
    "xyz.loc[xyz['affinity'] < 20 , 'class'] = \"Class_C\""
   ]
  },
  {
   "cell_type": "code",
   "execution_count": 49,
   "metadata": {
    "collapsed": false
   },
   "outputs": [
    {
     "data": {
      "text/html": [
       "<div>\n",
       "<table border=\"1\" class=\"dataframe\">\n",
       "  <thead>\n",
       "    <tr style=\"text-align: right;\">\n",
       "      <th></th>\n",
       "      <th>cust_id</th>\n",
       "      <th>product_id</th>\n",
       "      <th>combination</th>\n",
       "      <th>visits</th>\n",
       "      <th>affinity</th>\n",
       "      <th>class</th>\n",
       "    </tr>\n",
       "  </thead>\n",
       "  <tbody>\n",
       "    <tr>\n",
       "      <th>0</th>\n",
       "      <td>100010021</td>\n",
       "      <td>1205 - 17292 - 5 - OZ</td>\n",
       "      <td>2</td>\n",
       "      <td>349</td>\n",
       "      <td>0.573066</td>\n",
       "      <td>Class_C</td>\n",
       "    </tr>\n",
       "    <tr>\n",
       "      <th>1</th>\n",
       "      <td>100010021</td>\n",
       "      <td>1703 - 10882 - 32 - OZ</td>\n",
       "      <td>1</td>\n",
       "      <td>349</td>\n",
       "      <td>0.286533</td>\n",
       "      <td>Class_C</td>\n",
       "    </tr>\n",
       "    <tr>\n",
       "      <th>2</th>\n",
       "      <td>100010021</td>\n",
       "      <td>1703 - 19934 - 26 - OZ</td>\n",
       "      <td>1</td>\n",
       "      <td>349</td>\n",
       "      <td>0.286533</td>\n",
       "      <td>Class_C</td>\n",
       "    </tr>\n",
       "    <tr>\n",
       "      <th>3</th>\n",
       "      <td>100010021</td>\n",
       "      <td>1703 - 6608 - 32 - OZ</td>\n",
       "      <td>1</td>\n",
       "      <td>349</td>\n",
       "      <td>0.286533</td>\n",
       "      <td>Class_C</td>\n",
       "    </tr>\n",
       "    <tr>\n",
       "      <th>4</th>\n",
       "      <td>100010021</td>\n",
       "      <td>1704 - 27327 - 20 - OZ</td>\n",
       "      <td>1</td>\n",
       "      <td>349</td>\n",
       "      <td>0.286533</td>\n",
       "      <td>Class_C</td>\n",
       "    </tr>\n",
       "    <tr>\n",
       "      <th>5</th>\n",
       "      <td>100010021</td>\n",
       "      <td>1704 - 9439 - 19 - OZ</td>\n",
       "      <td>1</td>\n",
       "      <td>349</td>\n",
       "      <td>0.286533</td>\n",
       "      <td>Class_C</td>\n",
       "    </tr>\n",
       "    <tr>\n",
       "      <th>6</th>\n",
       "      <td>100010021</td>\n",
       "      <td>1708 - 15704 - 24 - OZ</td>\n",
       "      <td>1</td>\n",
       "      <td>349</td>\n",
       "      <td>0.286533</td>\n",
       "      <td>Class_C</td>\n",
       "    </tr>\n",
       "    <tr>\n",
       "      <th>7</th>\n",
       "      <td>100010021</td>\n",
       "      <td>1712 - 15197 - 22 - OZ</td>\n",
       "      <td>1</td>\n",
       "      <td>349</td>\n",
       "      <td>0.286533</td>\n",
       "      <td>Class_C</td>\n",
       "    </tr>\n",
       "    <tr>\n",
       "      <th>8</th>\n",
       "      <td>100010021</td>\n",
       "      <td>1802 - 2368 - 4 - CT</td>\n",
       "      <td>1</td>\n",
       "      <td>349</td>\n",
       "      <td>0.286533</td>\n",
       "      <td>Class_C</td>\n",
       "    </tr>\n",
       "    <tr>\n",
       "      <th>9</th>\n",
       "      <td>100010021</td>\n",
       "      <td>1802 - 51733 - 1 - CT</td>\n",
       "      <td>1</td>\n",
       "      <td>349</td>\n",
       "      <td>0.286533</td>\n",
       "      <td>Class_C</td>\n",
       "    </tr>\n",
       "  </tbody>\n",
       "</table>\n",
       "</div>"
      ],
      "text/plain": [
       "     cust_id              product_id  combination  visits  affinity    class\n",
       "0  100010021   1205 - 17292 - 5 - OZ            2     349  0.573066  Class_C\n",
       "1  100010021  1703 - 10882 - 32 - OZ            1     349  0.286533  Class_C\n",
       "2  100010021  1703 - 19934 - 26 - OZ            1     349  0.286533  Class_C\n",
       "3  100010021   1703 - 6608 - 32 - OZ            1     349  0.286533  Class_C\n",
       "4  100010021  1704 - 27327 - 20 - OZ            1     349  0.286533  Class_C\n",
       "5  100010021   1704 - 9439 - 19 - OZ            1     349  0.286533  Class_C\n",
       "6  100010021  1708 - 15704 - 24 - OZ            1     349  0.286533  Class_C\n",
       "7  100010021  1712 - 15197 - 22 - OZ            1     349  0.286533  Class_C\n",
       "8  100010021    1802 - 2368 - 4 - CT            1     349  0.286533  Class_C\n",
       "9  100010021   1802 - 51733 - 1 - CT            1     349  0.286533  Class_C"
      ]
     },
     "execution_count": 49,
     "metadata": {},
     "output_type": "execute_result"
    }
   ],
   "source": [
    "xyz.head(10)"
   ]
  },
  {
   "cell_type": "code",
   "execution_count": 52,
   "metadata": {
    "collapsed": false
   },
   "outputs": [
    {
     "data": {
      "text/html": [
       "<div>\n",
       "<table border=\"1\" class=\"dataframe\">\n",
       "  <thead>\n",
       "    <tr style=\"text-align: right;\">\n",
       "      <th></th>\n",
       "      <th>cust_id</th>\n",
       "      <th>product_id</th>\n",
       "      <th>combination</th>\n",
       "      <th>visits</th>\n",
       "      <th>affinity</th>\n",
       "      <th>class</th>\n",
       "    </tr>\n",
       "  </thead>\n",
       "  <tbody>\n",
       "    <tr>\n",
       "      <th>4562039</th>\n",
       "      <td>2318817479</td>\n",
       "      <td>6408 - 13918 - 5 - LT</td>\n",
       "      <td>194</td>\n",
       "      <td>379</td>\n",
       "      <td>51.187335</td>\n",
       "      <td>Class_A</td>\n",
       "    </tr>\n",
       "    <tr>\n",
       "      <th>4922048</th>\n",
       "      <td>2415882960</td>\n",
       "      <td>9781 - 8255 - 1 - CT</td>\n",
       "      <td>101</td>\n",
       "      <td>183</td>\n",
       "      <td>55.191257</td>\n",
       "      <td>Class_A</td>\n",
       "    </tr>\n",
       "    <tr>\n",
       "      <th>6063491</th>\n",
       "      <td>2595430565</td>\n",
       "      <td>6408 - 1959 - 0.75 - LT</td>\n",
       "      <td>1</td>\n",
       "      <td>2</td>\n",
       "      <td>50.000000</td>\n",
       "      <td>Class_A</td>\n",
       "    </tr>\n",
       "    <tr>\n",
       "      <th>6063492</th>\n",
       "      <td>2595430565</td>\n",
       "      <td>6408 - 38185 - 1.5 - LT</td>\n",
       "      <td>1</td>\n",
       "      <td>2</td>\n",
       "      <td>50.000000</td>\n",
       "      <td>Class_A</td>\n",
       "    </tr>\n",
       "    <tr>\n",
       "      <th>6190416</th>\n",
       "      <td>2620462049</td>\n",
       "      <td>9753 - 0 - 1 - CT</td>\n",
       "      <td>119</td>\n",
       "      <td>218</td>\n",
       "      <td>54.587156</td>\n",
       "      <td>Class_A</td>\n",
       "    </tr>\n",
       "    <tr>\n",
       "      <th>8275726</th>\n",
       "      <td>3020234434</td>\n",
       "      <td>9732 - 10312 - 1 - CT</td>\n",
       "      <td>1</td>\n",
       "      <td>2</td>\n",
       "      <td>50.000000</td>\n",
       "      <td>Class_A</td>\n",
       "    </tr>\n",
       "    <tr>\n",
       "      <th>8275727</th>\n",
       "      <td>3020234434</td>\n",
       "      <td>9753 - 0 - 1 - CT</td>\n",
       "      <td>1</td>\n",
       "      <td>2</td>\n",
       "      <td>50.000000</td>\n",
       "      <td>Class_A</td>\n",
       "    </tr>\n",
       "    <tr>\n",
       "      <th>8283514</th>\n",
       "      <td>3020705749</td>\n",
       "      <td>2035 - 3611 - 64 - OZ</td>\n",
       "      <td>8</td>\n",
       "      <td>12</td>\n",
       "      <td>66.666667</td>\n",
       "      <td>Class_A</td>\n",
       "    </tr>\n",
       "    <tr>\n",
       "      <th>9463902</th>\n",
       "      <td>3356477529</td>\n",
       "      <td>9753 - 0 - 1 - CT</td>\n",
       "      <td>81</td>\n",
       "      <td>150</td>\n",
       "      <td>54.000000</td>\n",
       "      <td>Class_A</td>\n",
       "    </tr>\n",
       "    <tr>\n",
       "      <th>9919671</th>\n",
       "      <td>3413740410</td>\n",
       "      <td>9753 - 0 - 1 - CT</td>\n",
       "      <td>141</td>\n",
       "      <td>282</td>\n",
       "      <td>50.000000</td>\n",
       "      <td>Class_A</td>\n",
       "    </tr>\n",
       "    <tr>\n",
       "      <th>13226987</th>\n",
       "      <td>4053422289</td>\n",
       "      <td>9753 - 0 - 1 - CT</td>\n",
       "      <td>1</td>\n",
       "      <td>2</td>\n",
       "      <td>50.000000</td>\n",
       "      <td>Class_A</td>\n",
       "    </tr>\n",
       "    <tr>\n",
       "      <th>13226988</th>\n",
       "      <td>4053422289</td>\n",
       "      <td>9904 - 52314 - 16 - OZ</td>\n",
       "      <td>1</td>\n",
       "      <td>2</td>\n",
       "      <td>50.000000</td>\n",
       "      <td>Class_A</td>\n",
       "    </tr>\n",
       "    <tr>\n",
       "      <th>13379722</th>\n",
       "      <td>4085194480</td>\n",
       "      <td>6315 - 15502 - 128 - OZ</td>\n",
       "      <td>16</td>\n",
       "      <td>29</td>\n",
       "      <td>55.172414</td>\n",
       "      <td>Class_A</td>\n",
       "    </tr>\n",
       "    <tr>\n",
       "      <th>14470916</th>\n",
       "      <td>4377662924</td>\n",
       "      <td>0 - 0 - 0 -</td>\n",
       "      <td>1</td>\n",
       "      <td>2</td>\n",
       "      <td>50.000000</td>\n",
       "      <td>Class_A</td>\n",
       "    </tr>\n",
       "    <tr>\n",
       "      <th>14470917</th>\n",
       "      <td>4377662924</td>\n",
       "      <td>419 - 4771 - 6.4 - OZ</td>\n",
       "      <td>1</td>\n",
       "      <td>2</td>\n",
       "      <td>50.000000</td>\n",
       "      <td>Class_A</td>\n",
       "    </tr>\n",
       "    <tr>\n",
       "      <th>14540788</th>\n",
       "      <td>4396488884</td>\n",
       "      <td>0 - 0 - 0 -</td>\n",
       "      <td>1</td>\n",
       "      <td>2</td>\n",
       "      <td>50.000000</td>\n",
       "      <td>Class_A</td>\n",
       "    </tr>\n",
       "    <tr>\n",
       "      <th>14540789</th>\n",
       "      <td>4396488884</td>\n",
       "      <td>5552 - 19572 - 16 - OZ</td>\n",
       "      <td>1</td>\n",
       "      <td>2</td>\n",
       "      <td>50.000000</td>\n",
       "      <td>Class_A</td>\n",
       "    </tr>\n",
       "    <tr>\n",
       "      <th>18084546</th>\n",
       "      <td>4653815829</td>\n",
       "      <td>9115 - 1230 - 1.75 - LT</td>\n",
       "      <td>4</td>\n",
       "      <td>7</td>\n",
       "      <td>57.142857</td>\n",
       "      <td>Class_A</td>\n",
       "    </tr>\n",
       "    <tr>\n",
       "      <th>18117902</th>\n",
       "      <td>4670979967</td>\n",
       "      <td>6305 - 17653 - 59 - OZ</td>\n",
       "      <td>1</td>\n",
       "      <td>2</td>\n",
       "      <td>50.000000</td>\n",
       "      <td>Class_A</td>\n",
       "    </tr>\n",
       "    <tr>\n",
       "      <th>18117903</th>\n",
       "      <td>4670979967</td>\n",
       "      <td>7304 - 104907 - 12 - OZ</td>\n",
       "      <td>1</td>\n",
       "      <td>2</td>\n",
       "      <td>50.000000</td>\n",
       "      <td>Class_A</td>\n",
       "    </tr>\n",
       "  </tbody>\n",
       "</table>\n",
       "</div>"
      ],
      "text/plain": [
       "             cust_id               product_id  combination  visits   affinity  \\\n",
       "4562039   2318817479    6408 - 13918 - 5 - LT          194     379  51.187335   \n",
       "4922048   2415882960     9781 - 8255 - 1 - CT          101     183  55.191257   \n",
       "6063491   2595430565  6408 - 1959 - 0.75 - LT            1       2  50.000000   \n",
       "6063492   2595430565  6408 - 38185 - 1.5 - LT            1       2  50.000000   \n",
       "6190416   2620462049        9753 - 0 - 1 - CT          119     218  54.587156   \n",
       "8275726   3020234434    9732 - 10312 - 1 - CT            1       2  50.000000   \n",
       "8275727   3020234434        9753 - 0 - 1 - CT            1       2  50.000000   \n",
       "8283514   3020705749    2035 - 3611 - 64 - OZ            8      12  66.666667   \n",
       "9463902   3356477529        9753 - 0 - 1 - CT           81     150  54.000000   \n",
       "9919671   3413740410        9753 - 0 - 1 - CT          141     282  50.000000   \n",
       "13226987  4053422289        9753 - 0 - 1 - CT            1       2  50.000000   \n",
       "13226988  4053422289   9904 - 52314 - 16 - OZ            1       2  50.000000   \n",
       "13379722  4085194480  6315 - 15502 - 128 - OZ           16      29  55.172414   \n",
       "14470916  4377662924             0 - 0 - 0 -             1       2  50.000000   \n",
       "14470917  4377662924    419 - 4771 - 6.4 - OZ            1       2  50.000000   \n",
       "14540788  4396488884             0 - 0 - 0 -             1       2  50.000000   \n",
       "14540789  4396488884   5552 - 19572 - 16 - OZ            1       2  50.000000   \n",
       "18084546  4653815829  9115 - 1230 - 1.75 - LT            4       7  57.142857   \n",
       "18117902  4670979967   6305 - 17653 - 59 - OZ            1       2  50.000000   \n",
       "18117903  4670979967  7304 - 104907 - 12 - OZ            1       2  50.000000   \n",
       "\n",
       "            class  \n",
       "4562039   Class_A  \n",
       "4922048   Class_A  \n",
       "6063491   Class_A  \n",
       "6063492   Class_A  \n",
       "6190416   Class_A  \n",
       "8275726   Class_A  \n",
       "8275727   Class_A  \n",
       "8283514   Class_A  \n",
       "9463902   Class_A  \n",
       "9919671   Class_A  \n",
       "13226987  Class_A  \n",
       "13226988  Class_A  \n",
       "13379722  Class_A  \n",
       "14470916  Class_A  \n",
       "14470917  Class_A  \n",
       "14540788  Class_A  \n",
       "14540789  Class_A  \n",
       "18084546  Class_A  \n",
       "18117902  Class_A  \n",
       "18117903  Class_A  "
      ]
     },
     "execution_count": 52,
     "metadata": {},
     "output_type": "execute_result"
    }
   ],
   "source": [
    "xyz.query('affinity >= 50')"
   ]
  },
  {
   "cell_type": "code",
   "execution_count": null,
   "metadata": {
    "collapsed": true
   },
   "outputs": [],
   "source": []
  }
 ],
 "metadata": {
  "kernelspec": {
   "display_name": "Python 2",
   "language": "python",
   "name": "python2"
  },
  "language_info": {
   "codemirror_mode": {
    "name": "ipython",
    "version": 2
   },
   "file_extension": ".py",
   "mimetype": "text/x-python",
   "name": "python",
   "nbconvert_exporter": "python",
   "pygments_lexer": "ipython2",
   "version": "2.7.11"
  }
 },
 "nbformat": 4,
 "nbformat_minor": 0
}
