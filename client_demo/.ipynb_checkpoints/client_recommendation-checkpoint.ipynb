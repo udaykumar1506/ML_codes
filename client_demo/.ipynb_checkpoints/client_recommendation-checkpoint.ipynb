{
 "cells": [
  {
   "cell_type": "code",
   "execution_count": 1,
   "metadata": {
    "collapsed": true
   },
   "outputs": [],
   "source": [
    "import os\n",
    "os.environ['SPARK_CLASSPATH'] = \"/home/ubuntu/postgresql-9.3-1103-jdbc41.jar\""
   ]
  },
  {
   "cell_type": "code",
   "execution_count": 2,
   "metadata": {
    "collapsed": true
   },
   "outputs": [],
   "source": [
    "import findspark"
   ]
  },
  {
   "cell_type": "code",
   "execution_count": 3,
   "metadata": {
    "collapsed": true
   },
   "outputs": [],
   "source": [
    "findspark.init()"
   ]
  },
  {
   "cell_type": "code",
   "execution_count": 4,
   "metadata": {
    "collapsed": true
   },
   "outputs": [],
   "source": [
    "from pyspark import SparkContext\n",
    "from pyspark.sql import SQLContext,Row"
   ]
  },
  {
   "cell_type": "code",
   "execution_count": 5,
   "metadata": {
    "collapsed": false
   },
   "outputs": [],
   "source": [
    "sc = SparkContext(appName = \"BuildProductRecommendations\")"
   ]
  },
  {
   "cell_type": "code",
   "execution_count": 6,
   "metadata": {
    "collapsed": true
   },
   "outputs": [],
   "source": [
    "sqlContext = SQLContext(sc)"
   ]
  },
  {
   "cell_type": "code",
   "execution_count": 7,
   "metadata": {
    "collapsed": true
   },
   "outputs": [],
   "source": [
    "properties = {\n",
    "    \"user\": \"clientdemo\",\n",
    "    \"password\": \"clientdemo4\"\n",
    "}"
   ]
  },
  {
   "cell_type": "code",
   "execution_count": 8,
   "metadata": {
    "collapsed": true
   },
   "outputs": [],
   "source": [
    "url=\"jdbc:postgresql://postgresdemo.c3yxphqgag3s.ap-southeast-1.rds.amazonaws.com:5432/postgresdemo\""
   ]
  },
  {
   "cell_type": "code",
   "execution_count": 9,
   "metadata": {
    "collapsed": false
   },
   "outputs": [],
   "source": [
    "df = sqlContext.read.jdbc(url=url, table=\"trans\", properties=properties)"
   ]
  },
  {
   "cell_type": "code",
   "execution_count": 10,
   "metadata": {
    "collapsed": false
   },
   "outputs": [
    {
     "data": {
      "text/plain": [
       "[Row(userid=u'3893506', quantity=0, product_id=u'com.gopaktor.subscription.v1.premium.1m', purchase_date=datetime.datetime(2016, 9, 7, 13, 59, 45), platform=u'ios', revenue=31.28, renewal=0, insider=0, receipt_id=u'1984955'),\n",
       " Row(userid=u'3793254', quantity=0, product_id=u'com.gopaktor.subscription.v1.premium.1m', purchase_date=datetime.datetime(2016, 9, 25, 3, 6, 11), platform=u'ios', revenue=31.28, renewal=0, insider=0, receipt_id=u'2170195'),\n",
       " Row(userid=u'6148794', quantity=0, product_id=u'com.gopaktor.subscription.v1.premium.1m', purchase_date=datetime.datetime(2016, 10, 1, 2, 27, 37), platform=u'ios', revenue=31.28, renewal=0, insider=0, receipt_id=u'2259995'),\n",
       " Row(userid=u'6149220', quantity=0, product_id=u'com.gopaktor.subscription.v4.premium.1m', purchase_date=datetime.datetime(2016, 10, 1, 6, 39, 16), platform=u'android', revenue=31.28, renewal=0, insider=0, receipt_id=u'1980761'),\n",
       " Row(userid=u'6149432', quantity=0, product_id=u'com.gopaktor.subscription.v4.premium.1m', purchase_date=datetime.datetime(2016, 10, 1, 9, 7, 49), platform=u'android', revenue=31.28, renewal=0, insider=0, receipt_id=u'1980865')]"
      ]
     },
     "execution_count": 10,
     "metadata": {},
     "output_type": "execute_result"
    }
   ],
   "source": [
    "df.take(5)"
   ]
  },
  {
   "cell_type": "code",
   "execution_count": 11,
   "metadata": {
    "collapsed": false
   },
   "outputs": [
    {
     "data": {
      "text/plain": [
       "4428"
      ]
     },
     "execution_count": 11,
     "metadata": {},
     "output_type": "execute_result"
    }
   ],
   "source": [
    "df.count()"
   ]
  },
  {
   "cell_type": "code",
   "execution_count": 12,
   "metadata": {
    "collapsed": false
   },
   "outputs": [
    {
     "data": {
      "text/plain": [
       "pyspark.sql.dataframe.DataFrame"
      ]
     },
     "execution_count": 12,
     "metadata": {},
     "output_type": "execute_result"
    }
   ],
   "source": [
    "type(df)"
   ]
  },
  {
   "cell_type": "code",
   "execution_count": 13,
   "metadata": {
    "collapsed": false
   },
   "outputs": [],
   "source": [
    "df2 = df.select('userid', 'product_id')"
   ]
  },
  {
   "cell_type": "code",
   "execution_count": 14,
   "metadata": {
    "collapsed": false
   },
   "outputs": [
    {
     "data": {
      "text/plain": [
       "[Row(userid=u'3893506', product_id=u'com.gopaktor.subscription.v1.premium.1m'),\n",
       " Row(userid=u'3793254', product_id=u'com.gopaktor.subscription.v1.premium.1m'),\n",
       " Row(userid=u'6148794', product_id=u'com.gopaktor.subscription.v1.premium.1m'),\n",
       " Row(userid=u'6149220', product_id=u'com.gopaktor.subscription.v4.premium.1m'),\n",
       " Row(userid=u'6149432', product_id=u'com.gopaktor.subscription.v4.premium.1m')]"
      ]
     },
     "execution_count": 14,
     "metadata": {},
     "output_type": "execute_result"
    }
   ],
   "source": [
    "df2.take(5)"
   ]
  },
  {
   "cell_type": "code",
   "execution_count": 15,
   "metadata": {
    "collapsed": true
   },
   "outputs": [],
   "source": [
    "from pyspark.sql.functions import lit"
   ]
  },
  {
   "cell_type": "code",
   "execution_count": 16,
   "metadata": {
    "collapsed": false
   },
   "outputs": [],
   "source": [
    "new_df = df2.withColumn(\"action\", lit(1))"
   ]
  },
  {
   "cell_type": "code",
   "execution_count": 17,
   "metadata": {
    "collapsed": false
   },
   "outputs": [
    {
     "data": {
      "text/plain": [
       "[Row(userid=u'3893506', product_id=u'com.gopaktor.subscription.v1.premium.1m', action=1),\n",
       " Row(userid=u'3793254', product_id=u'com.gopaktor.subscription.v1.premium.1m', action=1),\n",
       " Row(userid=u'6148794', product_id=u'com.gopaktor.subscription.v1.premium.1m', action=1),\n",
       " Row(userid=u'6149220', product_id=u'com.gopaktor.subscription.v4.premium.1m', action=1),\n",
       " Row(userid=u'6149432', product_id=u'com.gopaktor.subscription.v4.premium.1m', action=1)]"
      ]
     },
     "execution_count": 17,
     "metadata": {},
     "output_type": "execute_result"
    }
   ],
   "source": [
    "new_df.take(5)"
   ]
  },
  {
   "cell_type": "code",
   "execution_count": 18,
   "metadata": {
    "collapsed": true
   },
   "outputs": [],
   "source": [
    "data = new_df.collect()"
   ]
  },
  {
   "cell_type": "code",
   "execution_count": 19,
   "metadata": {
    "collapsed": true
   },
   "outputs": [],
   "source": [
    "import pandas as pd"
   ]
  },
  {
   "cell_type": "code",
   "execution_count": 20,
   "metadata": {
    "collapsed": false
   },
   "outputs": [],
   "source": [
    "data_df = pd.DataFrame(data, columns=new_df.columns)"
   ]
  },
  {
   "cell_type": "code",
   "execution_count": 21,
   "metadata": {
    "collapsed": false
   },
   "outputs": [
    {
     "data": {
      "text/html": [
       "<div>\n",
       "<table border=\"1\" class=\"dataframe\">\n",
       "  <thead>\n",
       "    <tr style=\"text-align: right;\">\n",
       "      <th></th>\n",
       "      <th>userid</th>\n",
       "      <th>product_id</th>\n",
       "      <th>action</th>\n",
       "    </tr>\n",
       "  </thead>\n",
       "  <tbody>\n",
       "    <tr>\n",
       "      <th>0</th>\n",
       "      <td>3893506</td>\n",
       "      <td>com.gopaktor.subscription.v1.premium.1m</td>\n",
       "      <td>1</td>\n",
       "    </tr>\n",
       "    <tr>\n",
       "      <th>1</th>\n",
       "      <td>3793254</td>\n",
       "      <td>com.gopaktor.subscription.v1.premium.1m</td>\n",
       "      <td>1</td>\n",
       "    </tr>\n",
       "    <tr>\n",
       "      <th>2</th>\n",
       "      <td>6148794</td>\n",
       "      <td>com.gopaktor.subscription.v1.premium.1m</td>\n",
       "      <td>1</td>\n",
       "    </tr>\n",
       "    <tr>\n",
       "      <th>3</th>\n",
       "      <td>6149220</td>\n",
       "      <td>com.gopaktor.subscription.v4.premium.1m</td>\n",
       "      <td>1</td>\n",
       "    </tr>\n",
       "    <tr>\n",
       "      <th>4</th>\n",
       "      <td>6149432</td>\n",
       "      <td>com.gopaktor.subscription.v4.premium.1m</td>\n",
       "      <td>1</td>\n",
       "    </tr>\n",
       "  </tbody>\n",
       "</table>\n",
       "</div>"
      ],
      "text/plain": [
       "    userid                               product_id  action\n",
       "0  3893506  com.gopaktor.subscription.v1.premium.1m       1\n",
       "1  3793254  com.gopaktor.subscription.v1.premium.1m       1\n",
       "2  6148794  com.gopaktor.subscription.v1.premium.1m       1\n",
       "3  6149220  com.gopaktor.subscription.v4.premium.1m       1\n",
       "4  6149432  com.gopaktor.subscription.v4.premium.1m       1"
      ]
     },
     "execution_count": 21,
     "metadata": {},
     "output_type": "execute_result"
    }
   ],
   "source": [
    "data_df.head()"
   ]
  },
  {
   "cell_type": "code",
   "execution_count": 22,
   "metadata": {
    "collapsed": true
   },
   "outputs": [],
   "source": [
    "import yaml\n",
    "with open('/home/ubuntu/MappingBuffer.yml', 'r') as f:\n",
    "    doc = yaml.load(f)"
   ]
  },
  {
   "cell_type": "code",
   "execution_count": 23,
   "metadata": {
    "collapsed": false
   },
   "outputs": [
    {
     "data": {
      "text/plain": [
       "{'cust_id': 'userid',\n",
       " 'product_id': 'product_id',\n",
       " 'quantity': 'quantity',\n",
       " 'renewal': 'renewal',\n",
       " 'revenue': 'revenue',\n",
       " 'timestamp': 'purchase_date'}"
      ]
     },
     "execution_count": 23,
     "metadata": {},
     "output_type": "execute_result"
    }
   ],
   "source": [
    "doc['column_map']['TRANSACTION_MASTER']"
   ]
  },
  {
   "cell_type": "code",
   "execution_count": 24,
   "metadata": {
    "collapsed": true
   },
   "outputs": [],
   "source": [
    "data_df.rename(columns={doc['column_map']['TRANSACTION_MASTER']['cust_id']:'cust_id'}, inplace = True)\n",
    "data_df.rename(columns={doc['column_map']['TRANSACTION_MASTER']['product_id']:'product_id'}, inplace = True)"
   ]
  },
  {
   "cell_type": "code",
   "execution_count": 25,
   "metadata": {
    "collapsed": false
   },
   "outputs": [
    {
     "data": {
      "text/html": [
       "<div>\n",
       "<table border=\"1\" class=\"dataframe\">\n",
       "  <thead>\n",
       "    <tr style=\"text-align: right;\">\n",
       "      <th></th>\n",
       "      <th>cust_id</th>\n",
       "      <th>product_id</th>\n",
       "      <th>action</th>\n",
       "    </tr>\n",
       "  </thead>\n",
       "  <tbody>\n",
       "    <tr>\n",
       "      <th>0</th>\n",
       "      <td>3893506</td>\n",
       "      <td>com.gopaktor.subscription.v1.premium.1m</td>\n",
       "      <td>1</td>\n",
       "    </tr>\n",
       "    <tr>\n",
       "      <th>1</th>\n",
       "      <td>3793254</td>\n",
       "      <td>com.gopaktor.subscription.v1.premium.1m</td>\n",
       "      <td>1</td>\n",
       "    </tr>\n",
       "    <tr>\n",
       "      <th>2</th>\n",
       "      <td>6148794</td>\n",
       "      <td>com.gopaktor.subscription.v1.premium.1m</td>\n",
       "      <td>1</td>\n",
       "    </tr>\n",
       "    <tr>\n",
       "      <th>3</th>\n",
       "      <td>6149220</td>\n",
       "      <td>com.gopaktor.subscription.v4.premium.1m</td>\n",
       "      <td>1</td>\n",
       "    </tr>\n",
       "    <tr>\n",
       "      <th>4</th>\n",
       "      <td>6149432</td>\n",
       "      <td>com.gopaktor.subscription.v4.premium.1m</td>\n",
       "      <td>1</td>\n",
       "    </tr>\n",
       "  </tbody>\n",
       "</table>\n",
       "</div>"
      ],
      "text/plain": [
       "   cust_id                               product_id  action\n",
       "0  3893506  com.gopaktor.subscription.v1.premium.1m       1\n",
       "1  3793254  com.gopaktor.subscription.v1.premium.1m       1\n",
       "2  6148794  com.gopaktor.subscription.v1.premium.1m       1\n",
       "3  6149220  com.gopaktor.subscription.v4.premium.1m       1\n",
       "4  6149432  com.gopaktor.subscription.v4.premium.1m       1"
      ]
     },
     "execution_count": 25,
     "metadata": {},
     "output_type": "execute_result"
    }
   ],
   "source": [
    "data_df.head()"
   ]
  },
  {
   "cell_type": "code",
   "execution_count": 26,
   "metadata": {
    "collapsed": true
   },
   "outputs": [],
   "source": [
    "from sklearn import preprocessing"
   ]
  },
  {
   "cell_type": "code",
   "execution_count": 27,
   "metadata": {
    "collapsed": true
   },
   "outputs": [],
   "source": [
    "user_id_le = preprocessing.LabelEncoder()\n",
    "product_id_le = preprocessing.LabelEncoder()"
   ]
  },
  {
   "cell_type": "code",
   "execution_count": 28,
   "metadata": {
    "collapsed": false
   },
   "outputs": [
    {
     "data": {
      "text/plain": [
       "LabelEncoder()"
      ]
     },
     "execution_count": 28,
     "metadata": {},
     "output_type": "execute_result"
    }
   ],
   "source": [
    "user_id_le.fit(data_df.cust_id)\n",
    "product_id_le.fit(data_df.product_id)"
   ]
  },
  {
   "cell_type": "code",
   "execution_count": 29,
   "metadata": {
    "collapsed": false
   },
   "outputs": [
    {
     "name": "stdout",
     "output_type": "stream",
     "text": [
      "('Number of unique users: ', '3087')\n",
      "('Number of unique products: ', '18')\n"
     ]
    }
   ],
   "source": [
    "print('Number of unique users: ', str(len(user_id_le.classes_)))\n",
    "print('Number of unique products: ', str(len(product_id_le.classes_)))"
   ]
  },
  {
   "cell_type": "code",
   "execution_count": 30,
   "metadata": {
    "collapsed": true
   },
   "outputs": [],
   "source": [
    "n_prod_views_df = data_df"
   ]
  },
  {
   "cell_type": "code",
   "execution_count": 31,
   "metadata": {
    "collapsed": true
   },
   "outputs": [],
   "source": [
    "n_prod_views_df.cust_id = user_id_le.transform(data_df.cust_id)\n",
    "n_prod_views_df.product_id = product_id_le.transform(data_df.product_id)"
   ]
  },
  {
   "cell_type": "code",
   "execution_count": 32,
   "metadata": {
    "collapsed": false
   },
   "outputs": [
    {
     "data": {
      "text/html": [
       "<div>\n",
       "<table border=\"1\" class=\"dataframe\">\n",
       "  <thead>\n",
       "    <tr style=\"text-align: right;\">\n",
       "      <th></th>\n",
       "      <th>cust_id</th>\n",
       "      <th>product_id</th>\n",
       "      <th>action</th>\n",
       "    </tr>\n",
       "  </thead>\n",
       "  <tbody>\n",
       "    <tr>\n",
       "      <th>0</th>\n",
       "      <td>7</td>\n",
       "      <td>5</td>\n",
       "      <td>1</td>\n",
       "    </tr>\n",
       "    <tr>\n",
       "      <th>1</th>\n",
       "      <td>6</td>\n",
       "      <td>5</td>\n",
       "      <td>1</td>\n",
       "    </tr>\n",
       "    <tr>\n",
       "      <th>2</th>\n",
       "      <td>10</td>\n",
       "      <td>5</td>\n",
       "      <td>1</td>\n",
       "    </tr>\n",
       "    <tr>\n",
       "      <th>3</th>\n",
       "      <td>15</td>\n",
       "      <td>17</td>\n",
       "      <td>1</td>\n",
       "    </tr>\n",
       "    <tr>\n",
       "      <th>4</th>\n",
       "      <td>21</td>\n",
       "      <td>17</td>\n",
       "      <td>1</td>\n",
       "    </tr>\n",
       "  </tbody>\n",
       "</table>\n",
       "</div>"
      ],
      "text/plain": [
       "   cust_id  product_id  action\n",
       "0        7           5       1\n",
       "1        6           5       1\n",
       "2       10           5       1\n",
       "3       15          17       1\n",
       "4       21          17       1"
      ]
     },
     "execution_count": 32,
     "metadata": {},
     "output_type": "execute_result"
    }
   ],
   "source": [
    "n_prod_views_df.head()"
   ]
  },
  {
   "cell_type": "code",
   "execution_count": 33,
   "metadata": {
    "collapsed": true
   },
   "outputs": [],
   "source": [
    "from pyspark.mllib.recommendation import ALS"
   ]
  },
  {
   "cell_type": "code",
   "execution_count": 35,
   "metadata": {
    "collapsed": true
   },
   "outputs": [],
   "source": [
    "n_prod_views_rdd = sqlContext.createDataFrame(n_prod_views_df).rdd"
   ]
  },
  {
   "cell_type": "code",
   "execution_count": 36,
   "metadata": {
    "collapsed": false
   },
   "outputs": [
    {
     "data": {
      "text/plain": [
       "[Row(cust_id=7, product_id=5, action=1),\n",
       " Row(cust_id=6, product_id=5, action=1),\n",
       " Row(cust_id=10, product_id=5, action=1),\n",
       " Row(cust_id=15, product_id=17, action=1),\n",
       " Row(cust_id=21, product_id=17, action=1)]"
      ]
     },
     "execution_count": 36,
     "metadata": {},
     "output_type": "execute_result"
    }
   ],
   "source": [
    "n_prod_views_rdd.take(5)"
   ]
  },
  {
   "cell_type": "code",
   "execution_count": 37,
   "metadata": {
    "collapsed": true
   },
   "outputs": [],
   "source": [
    "training_rdd, test_rdd = n_prod_views_rdd.randomSplit([8,2], 1345)"
   ]
  },
  {
   "cell_type": "code",
   "execution_count": 38,
   "metadata": {
    "collapsed": false
   },
   "outputs": [
    {
     "data": {
      "text/plain": [
       "2770"
      ]
     },
     "execution_count": 38,
     "metadata": {},
     "output_type": "execute_result"
    }
   ],
   "source": [
    "training_rdd.distinct().count()"
   ]
  },
  {
   "cell_type": "code",
   "execution_count": 39,
   "metadata": {
    "collapsed": true
   },
   "outputs": [],
   "source": [
    "test_for_predict_rdd = test_rdd.map(lambda x : (x[0], x[1]))"
   ]
  },
  {
   "cell_type": "code",
   "execution_count": 40,
   "metadata": {
    "collapsed": false
   },
   "outputs": [
    {
     "name": "stdout",
     "output_type": "stream",
     "text": [
      "('Training RDD\\n', [Row(cust_id=7, product_id=5, action=1), Row(cust_id=6, product_id=5, action=1), Row(cust_id=10, product_id=5, action=1), Row(cust_id=15, product_id=17, action=1), Row(cust_id=21, product_id=17, action=1)])\n",
      "('\\nTest for Prediction RDD\\n', [(24, 17), (28, 17), (33, 5), (48, 5), (16, 0)])\n"
     ]
    }
   ],
   "source": [
    "print('Training RDD\\n', training_rdd.take(5))\n",
    "print('\\nTest for Prediction RDD\\n', test_for_predict_rdd.take(5))"
   ]
  },
  {
   "cell_type": "code",
   "execution_count": 41,
   "metadata": {
    "collapsed": true
   },
   "outputs": [],
   "source": [
    "import math"
   ]
  },
  {
   "cell_type": "code",
   "execution_count": 42,
   "metadata": {
    "collapsed": true
   },
   "outputs": [],
   "source": [
    "seed = 49247\n",
    "iterations = 10\n",
    "lambdas = [0.01, 0.1]\n",
    "ranks = [16]\n",
    "alphas = [1.0, 2.0, 4.0, 8.0, 16.0, 32.0, 40.0, 80.0]\n",
    "errors = [0 for x in range(len(alphas) * len(ranks) * len(lambdas))]\n",
    "err_index = 0"
   ]
  },
  {
   "cell_type": "code",
   "execution_count": 43,
   "metadata": {
    "collapsed": false
   },
   "outputs": [
    {
     "name": "stdout",
     "output_type": "stream",
     "text": [
      "For rank 16 at alpha: 1.0 and lambda: 0.01, the RMSE is0.403419620793\n",
      "For rank 16 at alpha: 2.0 and lambda: 0.01, the RMSE is0.365176361581\n",
      "For rank 16 at alpha: 4.0 and lambda: 0.01, the RMSE is0.350554686797\n",
      "For rank 16 at alpha: 8.0 and lambda: 0.01, the RMSE is0.346095007943\n",
      "For rank 16 at alpha: 16.0 and lambda: 0.01, the RMSE is0.345035459889\n",
      "For rank 16 at alpha: 32.0 and lambda: 0.01, the RMSE is0.344983758187\n",
      "For rank 16 at alpha: 40.0 and lambda: 0.01, the RMSE is0.345041422707\n",
      "For rank 16 at alpha: 80.0 and lambda: 0.01, the RMSE is0.344614552869\n",
      "For rank 16 at alpha: 1.0 and lambda: 0.1, the RMSE is0.388718469072\n",
      "For rank 16 at alpha: 2.0 and lambda: 0.1, the RMSE is0.357938951823\n",
      "For rank 16 at alpha: 4.0 and lambda: 0.1, the RMSE is0.345908522072\n",
      "For rank 16 at alpha: 8.0 and lambda: 0.1, the RMSE is0.341590815522\n",
      "For rank 16 at alpha: 16.0 and lambda: 0.1, the RMSE is0.340094486971\n",
      "For rank 16 at alpha: 32.0 and lambda: 0.1, the RMSE is0.340223443462\n",
      "For rank 16 at alpha: 40.0 and lambda: 0.1, the RMSE is0.340469295436\n",
      "For rank 16 at alpha: 80.0 and lambda: 0.1, the RMSE is0.341365559854\n"
     ]
    }
   ],
   "source": [
    "for lambda_ in  lambdas:\n",
    "    for rank in ranks:\n",
    "        for alpha in alphas:\n",
    "            model = ALS.trainImplicit(training_rdd, rank, seed=seed, iterations=iterations,\n",
    "                                           lambda_ = lambda_, alpha = alpha)\n",
    "            predictions = model.predictAll(test_for_predict_rdd).map(lambda r : ((r[0], r[1]), r[2]))\n",
    "            views_and_preds = test_rdd.map(lambda r: ((int(r[0]), int(r[1])), float(r[2]))).join(predictions)\n",
    "            error = math.sqrt(views_and_preds.map(lambda r: (r[1][0] - r[1][1])**2).mean())\n",
    "            errors[err_index] = error\n",
    "            err_index += 1\n",
    "            print('For rank {0} at alpha: {1} and lambda: {2}, the RMSE is{3}'.format(rank, alpha, lambda_, error))"
   ]
  },
  {
   "cell_type": "code",
   "execution_count": 44,
   "metadata": {
    "collapsed": false
   },
   "outputs": [
    {
     "data": {
      "text/plain": [
       "[Rating(user=6, product=5, rating=1.0056181013281436),\n",
       " Rating(user=6, product=0, rating=0.05448520007537963),\n",
       " Rating(user=6, product=9, rating=0.007419491600110503),\n",
       " Rating(user=6, product=13, rating=0.002863852998247221),\n",
       " Rating(user=6, product=15, rating=0.0018991022316005302),\n",
       " Rating(user=6, product=16, rating=3.472375761393032e-05),\n",
       " Rating(user=6, product=12, rating=-0.0003348634012038665),\n",
       " Rating(user=6, product=10, rating=-0.0003936586648657092),\n",
       " Rating(user=6, product=17, rating=-0.0005144505540696648),\n",
       " Rating(user=6, product=4, rating=-0.0006029846803468492)]"
      ]
     },
     "execution_count": 44,
     "metadata": {},
     "output_type": "execute_result"
    }
   ],
   "source": [
    "model.recommendProducts(6,10)"
   ]
  },
  {
   "cell_type": "code",
   "execution_count": 45,
   "metadata": {
    "collapsed": true
   },
   "outputs": [],
   "source": [
    "all_user = model.recommendProductsForUsers(20)"
   ]
  },
  {
   "cell_type": "code",
   "execution_count": 46,
   "metadata": {
    "collapsed": false
   },
   "outputs": [
    {
     "data": {
      "text/plain": [
       "2663"
      ]
     },
     "execution_count": 46,
     "metadata": {},
     "output_type": "execute_result"
    }
   ],
   "source": [
    "all_user.count()"
   ]
  },
  {
   "cell_type": "code",
   "execution_count": null,
   "metadata": {
    "collapsed": false
   },
   "outputs": [],
   "source": [
    "all_user.take(1)"
   ]
  },
  {
   "cell_type": "code",
   "execution_count": null,
   "metadata": {
    "collapsed": true
   },
   "outputs": [],
   "source": [
    "rec_all = all_user.collect()"
   ]
  },
  {
   "cell_type": "code",
   "execution_count": null,
   "metadata": {
    "collapsed": false
   },
   "outputs": [],
   "source": [
    "len(rec_all)"
   ]
  },
  {
   "cell_type": "code",
   "execution_count": null,
   "metadata": {
    "collapsed": false
   },
   "outputs": [],
   "source": [
    "rec_all[0]"
   ]
  },
  {
   "cell_type": "code",
   "execution_count": null,
   "metadata": {
    "collapsed": true
   },
   "outputs": [],
   "source": [
    "rec = []"
   ]
  },
  {
   "cell_type": "code",
   "execution_count": null,
   "metadata": {
    "collapsed": false
   },
   "outputs": [],
   "source": [
    "for x in range(len(rec_all)):\n",
    "    for y in range(17):\n",
    "            v = rec_all[x][1][y][0:3]\n",
    "            d = list(v)\n",
    "            rec.append(d)"
   ]
  },
  {
   "cell_type": "code",
   "execution_count": null,
   "metadata": {
    "collapsed": false
   },
   "outputs": [],
   "source": [
    "rec[2]"
   ]
  },
  {
   "cell_type": "code",
   "execution_count": null,
   "metadata": {
    "collapsed": true
   },
   "outputs": [],
   "source": [
    "rec_df = pd.DataFrame(rec, columns=['cust_id', 'rec_product', 'rating'])"
   ]
  },
  {
   "cell_type": "code",
   "execution_count": null,
   "metadata": {
    "collapsed": false,
    "scrolled": true
   },
   "outputs": [],
   "source": [
    "rec_df.head()"
   ]
  },
  {
   "cell_type": "code",
   "execution_count": null,
   "metadata": {
    "collapsed": false
   },
   "outputs": [],
   "source": [
    "rec_df.shape"
   ]
  },
  {
   "cell_type": "code",
   "execution_count": null,
   "metadata": {
    "collapsed": true
   },
   "outputs": [],
   "source": [
    "model1 = ALS.trainImplicit(n_prod_views_rdd, rank=16, seed=seed, iterations=iterations,alpha=0.01)"
   ]
  },
  {
   "cell_type": "code",
   "execution_count": null,
   "metadata": {
    "collapsed": true
   },
   "outputs": [],
   "source": [
    "my_rec = model1.recommendProductsForUsers(20).collect()"
   ]
  },
  {
   "cell_type": "code",
   "execution_count": null,
   "metadata": {
    "collapsed": false
   },
   "outputs": [],
   "source": [
    "len(my_rec)"
   ]
  },
  {
   "cell_type": "code",
   "execution_count": null,
   "metadata": {
    "collapsed": true
   },
   "outputs": [],
   "source": [
    "rec2 = []"
   ]
  },
  {
   "cell_type": "code",
   "execution_count": null,
   "metadata": {
    "collapsed": true
   },
   "outputs": [],
   "source": [
    "for x in range(len(rec_all)):\n",
    "    for y in range(17):\n",
    "            v = rec_all[x][1][y][0:3]\n",
    "            d = list(v)\n",
    "            rec2.append(d)"
   ]
  },
  {
   "cell_type": "code",
   "execution_count": null,
   "metadata": {
    "collapsed": true
   },
   "outputs": [],
   "source": [
    "rec_df1 = pd.DataFrame(rec2, columns=['cust_id', 'rec_product', 'rating'])"
   ]
  },
  {
   "cell_type": "code",
   "execution_count": null,
   "metadata": {
    "collapsed": false
   },
   "outputs": [],
   "source": [
    "rec_df1.head()"
   ]
  },
  {
   "cell_type": "code",
   "execution_count": null,
   "metadata": {
    "collapsed": false,
    "scrolled": true
   },
   "outputs": [],
   "source": [
    "rec_df1.shape"
   ]
  },
  {
   "cell_type": "code",
   "execution_count": null,
   "metadata": {
    "collapsed": true
   },
   "outputs": [],
   "source": [
    "uniq_cust = pd.read_csv('/home/ubuntu/client_demo/uniq_cust_cat')"
   ]
  },
  {
   "cell_type": "code",
   "execution_count": null,
   "metadata": {
    "collapsed": true
   },
   "outputs": [],
   "source": [
    "uniq_prod = pd.read_csv('/home/ubuntu/client_demo/uniq_prod_cat')"
   ]
  },
  {
   "cell_type": "code",
   "execution_count": null,
   "metadata": {
    "collapsed": false
   },
   "outputs": [],
   "source": [
    "uniq_cust.head()"
   ]
  },
  {
   "cell_type": "code",
   "execution_count": null,
   "metadata": {
    "collapsed": false
   },
   "outputs": [],
   "source": [
    "uniq_prod.head()"
   ]
  },
  {
   "cell_type": "code",
   "execution_count": null,
   "metadata": {
    "collapsed": true
   },
   "outputs": [],
   "source": [
    "users_map = uniq_cust.set_index('code')['cust_id'].to_dict()\n",
    "product_map = uniq_prod.set_index('code')['product_id'].to_dict()"
   ]
  },
  {
   "cell_type": "code",
   "execution_count": null,
   "metadata": {
    "collapsed": false
   },
   "outputs": [],
   "source": [
    "product_map[5]"
   ]
  },
  {
   "cell_type": "code",
   "execution_count": null,
   "metadata": {
    "collapsed": true
   },
   "outputs": [],
   "source": []
  },
  {
   "cell_type": "code",
   "execution_count": null,
   "metadata": {
    "collapsed": false
   },
   "outputs": [],
   "source": [
    "rec_df1.head()"
   ]
  },
  {
   "cell_type": "code",
   "execution_count": null,
   "metadata": {
    "collapsed": true
   },
   "outputs": [],
   "source": []
  },
  {
   "cell_type": "code",
   "execution_count": null,
   "metadata": {
    "collapsed": false
   },
   "outputs": [],
   "source": [
    "product_map.keys()"
   ]
  },
  {
   "cell_type": "code",
   "execution_count": null,
   "metadata": {
    "collapsed": true
   },
   "outputs": [],
   "source": []
  },
  {
   "cell_type": "code",
   "execution_count": null,
   "metadata": {
    "collapsed": false
   },
   "outputs": [],
   "source": [
    "product_map[rec_df1.rec_product[2]]"
   ]
  },
  {
   "cell_type": "code",
   "execution_count": null,
   "metadata": {
    "collapsed": false
   },
   "outputs": [],
   "source": [
    "rec_df1.rec_product[2]"
   ]
  },
  {
   "cell_type": "code",
   "execution_count": null,
   "metadata": {
    "collapsed": true
   },
   "outputs": [],
   "source": []
  },
  {
   "cell_type": "code",
   "execution_count": null,
   "metadata": {
    "collapsed": true
   },
   "outputs": [],
   "source": []
  },
  {
   "cell_type": "code",
   "execution_count": null,
   "metadata": {
    "collapsed": true
   },
   "outputs": [],
   "source": []
  },
  {
   "cell_type": "code",
   "execution_count": null,
   "metadata": {
    "collapsed": true
   },
   "outputs": [],
   "source": []
  },
  {
   "cell_type": "code",
   "execution_count": null,
   "metadata": {
    "collapsed": true
   },
   "outputs": [],
   "source": []
  }
 ],
 "metadata": {
  "kernelspec": {
   "display_name": "Python 2",
   "language": "python",
   "name": "python2"
  },
  "language_info": {
   "codemirror_mode": {
    "name": "ipython",
    "version": 2
   },
   "file_extension": ".py",
   "mimetype": "text/x-python",
   "name": "python",
   "nbconvert_exporter": "python",
   "pygments_lexer": "ipython2",
   "version": "2.7.11"
  }
 },
 "nbformat": 4,
 "nbformat_minor": 0
}
