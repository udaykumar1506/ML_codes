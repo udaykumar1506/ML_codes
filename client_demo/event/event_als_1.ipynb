{
 "cells": [
  {
   "cell_type": "code",
   "execution_count": 1,
   "metadata": {
    "collapsed": true
   },
   "outputs": [],
   "source": [
    "import psycopg2"
   ]
  },
  {
   "cell_type": "code",
   "execution_count": 2,
   "metadata": {
    "collapsed": true
   },
   "outputs": [],
   "source": [
    "conn = psycopg2.connect(\n",
    "                database='postgres_db',\n",
    "                user='postgres_user',\n",
    "                password='admin',\n",
    "                host='client.tuple-mia.com',\n",
    "                port='5432',\n",
    "                sslmode='require'\n",
    "            )"
   ]
  },
  {
   "cell_type": "code",
   "execution_count": 3,
   "metadata": {
    "collapsed": true
   },
   "outputs": [],
   "source": [
    "temp = conn.cursor()"
   ]
  },
  {
   "cell_type": "code",
   "execution_count": 4,
   "metadata": {
    "collapsed": true
   },
   "outputs": [],
   "source": [
    "import yaml\n",
    "with open('/home/ubuntu/MappingBuffer_event.yml', 'r') as f:\n",
    "    doc = yaml.load(f)"
   ]
  },
  {
   "cell_type": "code",
   "execution_count": 5,
   "metadata": {
    "collapsed": false
   },
   "outputs": [
    {
     "data": {
      "text/plain": [
       "{'CUSTOMER_CONTACT': 'contact',\n",
       " 'CUSTOMER_MASTER': 'users',\n",
       " 'CUSTOMER_SECONDARY': 'temp_customer_secondary',\n",
       " 'EVENT_LOG': 'event',\n",
       " 'EVENT_MASTER': 'event_master',\n",
       " 'TRANSACTION_MASTER': 'trans'}"
      ]
     },
     "execution_count": 5,
     "metadata": {},
     "output_type": "execute_result"
    }
   ],
   "source": [
    "doc['table_map']"
   ]
  },
  {
   "cell_type": "code",
   "execution_count": 6,
   "metadata": {
    "collapsed": false
   },
   "outputs": [
    {
     "data": {
      "text/plain": [
       "{'CUSTOMER_CONTACT': {'cust_id': 'id',\n",
       "  'email_id': 'email',\n",
       "  'facebook_id': 'facebook_id',\n",
       "  'firstname': 'first_name',\n",
       "  'lastname': 'last_name',\n",
       "  'phone_number': 'phone'},\n",
       " 'CUSTOMER_MASTER': {'birthday': 'birthday',\n",
       "  'create_date': 'create_date',\n",
       "  'cust_id': 'id'},\n",
       " 'CUSTOMER_SECONDARY': {'cust_id': 'cust_id'},\n",
       " 'EVENT_LOG': {'action_type': 'actiontype',\n",
       "  'cust_id': 'from_id',\n",
       "  'product_id': 'to_id',\n",
       "  'timestamp': 'timestamp'},\n",
       " 'EVENT_MASTER': {'action_category_id': None,\n",
       "  'action_category_name': None,\n",
       "  'action_name': 'action_desc',\n",
       "  'action_type': 'actiontype'},\n",
       " 'TRANSACTION_MASTER': {'cust_id': 'userid',\n",
       "  'product_id': 'product_id',\n",
       "  'quantity': 'quantity',\n",
       "  'renewal': 'renewal',\n",
       "  'revenue': 'revenue',\n",
       "  'timestamp': 'purchase_date'}}"
      ]
     },
     "execution_count": 6,
     "metadata": {},
     "output_type": "execute_result"
    }
   ],
   "source": [
    "doc['column_map']"
   ]
  },
  {
   "cell_type": "code",
   "execution_count": 7,
   "metadata": {
    "collapsed": false
   },
   "outputs": [],
   "source": [
    "query = \"SELECT * FROM %s where %s = ( SELECT %s FROM %s WHERE %s = 'like')\"%(\n",
    "        doc['table_map']['EVENT_LOG'],\n",
    "        doc['column_map']['EVENT_LOG']['action_type'],\n",
    "        doc['column_map']['EVENT_MASTER']['action_type'],\n",
    "        doc['table_map']['EVENT_MASTER'],\n",
    "        doc['column_map']['EVENT_MASTER']['action_name']        \n",
    "    )"
   ]
  },
  {
   "cell_type": "code",
   "execution_count": 8,
   "metadata": {
    "collapsed": false
   },
   "outputs": [
    {
     "name": "stdout",
     "output_type": "stream",
     "text": [
      "SELECT * FROM event where actiontype = ( SELECT actiontype FROM event_master WHERE action_desc = 'like')\n"
     ]
    }
   ],
   "source": [
    "print query"
   ]
  },
  {
   "cell_type": "code",
   "execution_count": 9,
   "metadata": {
    "collapsed": true
   },
   "outputs": [],
   "source": [
    "temp.execute(query)"
   ]
  },
  {
   "cell_type": "code",
   "execution_count": 10,
   "metadata": {
    "collapsed": true
   },
   "outputs": [],
   "source": [
    "event = temp.fetchall()"
   ]
  },
  {
   "cell_type": "code",
   "execution_count": 11,
   "metadata": {
    "collapsed": false
   },
   "outputs": [
    {
     "data": {
      "text/plain": [
       "2075810"
      ]
     },
     "execution_count": 11,
     "metadata": {},
     "output_type": "execute_result"
    }
   ],
   "source": [
    "len(event)"
   ]
  },
  {
   "cell_type": "code",
   "execution_count": 12,
   "metadata": {
    "collapsed": true
   },
   "outputs": [],
   "source": [
    "colnames = [desc[0] for desc in temp.description]"
   ]
  },
  {
   "cell_type": "code",
   "execution_count": 13,
   "metadata": {
    "collapsed": false
   },
   "outputs": [
    {
     "data": {
      "text/plain": [
       "['to_id', 'timestamp', 'actiontype', 'from_id']"
      ]
     },
     "execution_count": 13,
     "metadata": {},
     "output_type": "execute_result"
    }
   ],
   "source": [
    "colnames"
   ]
  },
  {
   "cell_type": "code",
   "execution_count": 14,
   "metadata": {
    "collapsed": true
   },
   "outputs": [],
   "source": [
    "import pandas as pd"
   ]
  },
  {
   "cell_type": "code",
   "execution_count": 15,
   "metadata": {
    "collapsed": true
   },
   "outputs": [],
   "source": [
    "event_df = pd.DataFrame(event, columns=colnames)"
   ]
  },
  {
   "cell_type": "code",
   "execution_count": 16,
   "metadata": {
    "collapsed": false
   },
   "outputs": [
    {
     "data": {
      "text/html": [
       "<div>\n",
       "<table border=\"1\" class=\"dataframe\">\n",
       "  <thead>\n",
       "    <tr style=\"text-align: right;\">\n",
       "      <th></th>\n",
       "      <th>to_id</th>\n",
       "      <th>timestamp</th>\n",
       "      <th>actiontype</th>\n",
       "      <th>from_id</th>\n",
       "    </tr>\n",
       "  </thead>\n",
       "  <tbody>\n",
       "    <tr>\n",
       "      <th>0</th>\n",
       "      <td>255074</td>\n",
       "      <td>2016-11-19 00:52:13+00:00</td>\n",
       "      <td>1</td>\n",
       "      <td>6148771</td>\n",
       "    </tr>\n",
       "    <tr>\n",
       "      <th>1</th>\n",
       "      <td>304603</td>\n",
       "      <td>2016-11-20 08:03:32+00:00</td>\n",
       "      <td>1</td>\n",
       "      <td>6148771</td>\n",
       "    </tr>\n",
       "    <tr>\n",
       "      <th>2</th>\n",
       "      <td>368895</td>\n",
       "      <td>2016-11-15 09:28:35+00:00</td>\n",
       "      <td>1</td>\n",
       "      <td>6148771</td>\n",
       "    </tr>\n",
       "    <tr>\n",
       "      <th>3</th>\n",
       "      <td>376784</td>\n",
       "      <td>2016-11-15 09:43:29+00:00</td>\n",
       "      <td>1</td>\n",
       "      <td>6148771</td>\n",
       "    </tr>\n",
       "    <tr>\n",
       "      <th>4</th>\n",
       "      <td>462976</td>\n",
       "      <td>2016-11-15 09:44:27+00:00</td>\n",
       "      <td>1</td>\n",
       "      <td>6148771</td>\n",
       "    </tr>\n",
       "  </tbody>\n",
       "</table>\n",
       "</div>"
      ],
      "text/plain": [
       "    to_id                 timestamp  actiontype  from_id\n",
       "0  255074 2016-11-19 00:52:13+00:00           1  6148771\n",
       "1  304603 2016-11-20 08:03:32+00:00           1  6148771\n",
       "2  368895 2016-11-15 09:28:35+00:00           1  6148771\n",
       "3  376784 2016-11-15 09:43:29+00:00           1  6148771\n",
       "4  462976 2016-11-15 09:44:27+00:00           1  6148771"
      ]
     },
     "execution_count": 16,
     "metadata": {},
     "output_type": "execute_result"
    }
   ],
   "source": [
    "event_df.head()"
   ]
  },
  {
   "cell_type": "code",
   "execution_count": 17,
   "metadata": {
    "collapsed": true
   },
   "outputs": [],
   "source": [
    "event_df.rename(columns={doc['column_map']['EVENT_LOG']['cust_id']:'cust_id'}, inplace = True)\n",
    "event_df.rename(columns={doc['column_map']['EVENT_LOG']['product_id']:'product_id'}, inplace = True)\n",
    "event_df.rename(columns={doc['column_map']['EVENT_LOG']['action_type']:'actiontype'}, inplace = True)"
   ]
  },
  {
   "cell_type": "code",
   "execution_count": 18,
   "metadata": {
    "collapsed": true
   },
   "outputs": [],
   "source": [
    "event_data = event_df[['cust_id', 'product_id', 'actiontype']]"
   ]
  },
  {
   "cell_type": "code",
   "execution_count": 19,
   "metadata": {
    "collapsed": false
   },
   "outputs": [
    {
     "data": {
      "text/html": [
       "<div>\n",
       "<table border=\"1\" class=\"dataframe\">\n",
       "  <thead>\n",
       "    <tr style=\"text-align: right;\">\n",
       "      <th></th>\n",
       "      <th>cust_id</th>\n",
       "      <th>product_id</th>\n",
       "      <th>actiontype</th>\n",
       "    </tr>\n",
       "  </thead>\n",
       "  <tbody>\n",
       "    <tr>\n",
       "      <th>0</th>\n",
       "      <td>6148771</td>\n",
       "      <td>255074</td>\n",
       "      <td>1</td>\n",
       "    </tr>\n",
       "    <tr>\n",
       "      <th>1</th>\n",
       "      <td>6148771</td>\n",
       "      <td>304603</td>\n",
       "      <td>1</td>\n",
       "    </tr>\n",
       "    <tr>\n",
       "      <th>2</th>\n",
       "      <td>6148771</td>\n",
       "      <td>368895</td>\n",
       "      <td>1</td>\n",
       "    </tr>\n",
       "    <tr>\n",
       "      <th>3</th>\n",
       "      <td>6148771</td>\n",
       "      <td>376784</td>\n",
       "      <td>1</td>\n",
       "    </tr>\n",
       "    <tr>\n",
       "      <th>4</th>\n",
       "      <td>6148771</td>\n",
       "      <td>462976</td>\n",
       "      <td>1</td>\n",
       "    </tr>\n",
       "  </tbody>\n",
       "</table>\n",
       "</div>"
      ],
      "text/plain": [
       "   cust_id  product_id  actiontype\n",
       "0  6148771      255074           1\n",
       "1  6148771      304603           1\n",
       "2  6148771      368895           1\n",
       "3  6148771      376784           1\n",
       "4  6148771      462976           1"
      ]
     },
     "execution_count": 19,
     "metadata": {},
     "output_type": "execute_result"
    }
   ],
   "source": [
    "event_data.head()"
   ]
  },
  {
   "cell_type": "code",
   "execution_count": 21,
   "metadata": {
    "collapsed": true
   },
   "outputs": [],
   "source": [
    "event_data.to_csv('/home/ubuntu/client_demo/event/event_action_header', header=True)"
   ]
  },
  {
   "cell_type": "code",
   "execution_count": null,
   "metadata": {
    "collapsed": false
   },
   "outputs": [],
   "source": [
    "type(event_data)"
   ]
  },
  {
   "cell_type": "code",
   "execution_count": null,
   "metadata": {
    "collapsed": true
   },
   "outputs": [],
   "source": []
  },
  {
   "cell_type": "code",
   "execution_count": null,
   "metadata": {
    "collapsed": true
   },
   "outputs": [],
   "source": [
    "import findspark"
   ]
  },
  {
   "cell_type": "code",
   "execution_count": null,
   "metadata": {
    "collapsed": true
   },
   "outputs": [],
   "source": [
    "findspark.init()"
   ]
  },
  {
   "cell_type": "code",
   "execution_count": null,
   "metadata": {
    "collapsed": true
   },
   "outputs": [],
   "source": [
    "from pyspark import SparkContext\n",
    "from pyspark.sql import SQLContext,Row\n",
    "from pyspark.mllib.recommendation import ALS"
   ]
  },
  {
   "cell_type": "code",
   "execution_count": null,
   "metadata": {
    "collapsed": true
   },
   "outputs": [],
   "source": [
    "sc = SparkContext(appName = \"BuildProductRecommendations_event\")"
   ]
  },
  {
   "cell_type": "code",
   "execution_count": null,
   "metadata": {
    "collapsed": true
   },
   "outputs": [],
   "source": [
    "sqlContext = SQLContext(sc)"
   ]
  },
  {
   "cell_type": "code",
   "execution_count": null,
   "metadata": {
    "collapsed": false
   },
   "outputs": [],
   "source": [
    "n_prod_views_rdd = sqlContext.createDataFrame(event_data).rdd"
   ]
  },
  {
   "cell_type": "code",
   "execution_count": null,
   "metadata": {
    "collapsed": false
   },
   "outputs": [],
   "source": [
    "n_prod_views_rdd.take(5)"
   ]
  },
  {
   "cell_type": "code",
   "execution_count": null,
   "metadata": {
    "collapsed": true
   },
   "outputs": [],
   "source": [
    "training_rdd, test_rdd = n_prod_views_rdd.randomSplit([8,2], 1345)"
   ]
  },
  {
   "cell_type": "code",
   "execution_count": null,
   "metadata": {
    "collapsed": false
   },
   "outputs": [],
   "source": [
    "training_rdd.distinct().count()"
   ]
  },
  {
   "cell_type": "code",
   "execution_count": null,
   "metadata": {
    "collapsed": true
   },
   "outputs": [],
   "source": [
    "test_for_predict_rdd = test_rdd.map(lambda x : (x[0], x[1]))"
   ]
  },
  {
   "cell_type": "code",
   "execution_count": null,
   "metadata": {
    "collapsed": true
   },
   "outputs": [],
   "source": [
    "import math"
   ]
  },
  {
   "cell_type": "code",
   "execution_count": null,
   "metadata": {
    "collapsed": true
   },
   "outputs": [],
   "source": [
    "seed = 49247\n",
    "iterations = 10\n",
    "lambdas = [0.01, 0.1]\n",
    "ranks = [16]\n",
    "alphas = [1.0, 2.0, 4.0, 8.0, 16.0, 32.0, 40.0, 80.0]\n",
    "errors = [0 for x in range(len(alphas) * len(ranks) * len(lambdas))]\n",
    "err_index = 0"
   ]
  },
  {
   "cell_type": "code",
   "execution_count": null,
   "metadata": {
    "collapsed": false
   },
   "outputs": [],
   "source": [
    "for lambda_ in  lambdas:\n",
    "    for rank in ranks:\n",
    "        for alpha in alphas:\n",
    "            model = ALS.trainImplicit(training_rdd, rank, seed=seed, iterations=iterations,\n",
    "                                           lambda_ = lambda_, alpha = alpha)\n",
    "            predictions = model.predictAll(test_for_predict_rdd).map(lambda r : ((r[0], r[1]), r[2]))\n",
    "            views_and_preds = test_rdd.map(lambda r: ((int(r[0]), int(r[1])), float(r[2]))).join(predictions)\n",
    "            error = math.sqrt(views_and_preds.map(lambda r: (r[1][0] - r[1][1])**2).mean())\n",
    "            errors[err_index] = error\n",
    "            err_index += 1\n",
    "            print('For rank {0} at alpha: {1} and lambda: {2}, the RMSE is{3}'.format(rank, alpha, lambda_, error))"
   ]
  },
  {
   "cell_type": "code",
   "execution_count": null,
   "metadata": {
    "collapsed": false
   },
   "outputs": [],
   "source": [
    "model.recommendProducts(6253829,10)"
   ]
  },
  {
   "cell_type": "code",
   "execution_count": null,
   "metadata": {
    "collapsed": true
   },
   "outputs": [],
   "source": []
  },
  {
   "cell_type": "code",
   "execution_count": null,
   "metadata": {
    "collapsed": true
   },
   "outputs": [],
   "source": []
  }
 ],
 "metadata": {
  "kernelspec": {
   "display_name": "Python 2",
   "language": "python",
   "name": "python2"
  },
  "language_info": {
   "codemirror_mode": {
    "name": "ipython",
    "version": 2
   },
   "file_extension": ".py",
   "mimetype": "text/x-python",
   "name": "python",
   "nbconvert_exporter": "python",
   "pygments_lexer": "ipython2",
   "version": "2.7.11"
  }
 },
 "nbformat": 4,
 "nbformat_minor": 0
}
