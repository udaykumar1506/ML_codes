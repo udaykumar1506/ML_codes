{
 "cells": [
  {
   "cell_type": "code",
   "execution_count": 1,
   "metadata": {
    "collapsed": false
   },
   "outputs": [
    {
     "name": "stdout",
     "output_type": "stream",
     "text": [
      "/home/ubuntu\n"
     ]
    }
   ],
   "source": [
    "cd"
   ]
  },
  {
   "cell_type": "code",
   "execution_count": 2,
   "metadata": {
    "collapsed": true
   },
   "outputs": [],
   "source": [
    "from DemoServerDB import ConnectDatabase\n",
    "from mapping import doc"
   ]
  },
  {
   "cell_type": "code",
   "execution_count": 4,
   "metadata": {
    "collapsed": false
   },
   "outputs": [
    {
     "data": {
      "text/plain": [
       "{'CUSTOMER_CONTACT': 'contact',\n",
       " 'CUSTOMER_MASTER': 'users',\n",
       " 'CUSTOMER_SECONDARY': 'temp_customer_secondary',\n",
       " 'EVENT_LOG': 'event',\n",
       " 'EVENT_MASTER': 'event_master',\n",
       " 'TRANSACTION_MASTER': 'trans'}"
      ]
     },
     "execution_count": 4,
     "metadata": {},
     "output_type": "execute_result"
    }
   ],
   "source": [
    "doc['table_map']"
   ]
  },
  {
   "cell_type": "code",
   "execution_count": 5,
   "metadata": {
    "collapsed": false
   },
   "outputs": [
    {
     "data": {
      "text/plain": [
       "{'CUSTOMER_CONTACT': {'cust_id': 'id',\n",
       "  'email_id': 'email',\n",
       "  'facebook_id': 'facebook_id',\n",
       "  'firstname': 'first_name',\n",
       "  'lastname': 'last_name',\n",
       "  'phone_number': 'phone'},\n",
       " 'CUSTOMER_MASTER': {'birthday': 'birthday',\n",
       "  'create_date': 'create_date',\n",
       "  'cust_id': 'id'},\n",
       " 'CUSTOMER_SECONDARY': {'cust_id': 'cust_id'},\n",
       " 'EVENT_LOG': {'action_type': 'actiontype',\n",
       "  'cust_id': 'from_id',\n",
       "  'product_id': 'to_id',\n",
       "  'timestamp': 'timestamp'},\n",
       " 'EVENT_MASTER': {'action_category_id': None,\n",
       "  'action_category_name': None,\n",
       "  'action_name': 'action_desc',\n",
       "  'action_type': 'actiontype'},\n",
       " 'TRANSACTION_MASTER': {'cust_id': 'userid',\n",
       "  'product_id': 'product_id',\n",
       "  'quantity': 'quantity',\n",
       "  'renewal': 'renewal',\n",
       "  'revenue': 'revenue',\n",
       "  'timestamp': 'purchase_date'}}"
      ]
     },
     "execution_count": 5,
     "metadata": {},
     "output_type": "execute_result"
    }
   ],
   "source": [
    "doc['column_map']"
   ]
  },
  {
   "cell_type": "code",
   "execution_count": 6,
   "metadata": {
    "collapsed": true
   },
   "outputs": [],
   "source": [
    "temp = ConnectDatabase()"
   ]
  },
  {
   "cell_type": "code",
   "execution_count": 9,
   "metadata": {
    "collapsed": false
   },
   "outputs": [
    {
     "data": {
      "text/plain": [
       "<connection object at 0x7fdd480df168; dsn: 'dbname=postgres_db user=postgres_user password=xxxxx host=developer.tuple-mia.com port=5432 sslmode=require', closed: 0>"
      ]
     },
     "execution_count": 9,
     "metadata": {},
     "output_type": "execute_result"
    }
   ],
   "source": [
    "temp.conn"
   ]
  },
  {
   "cell_type": "code",
   "execution_count": 10,
   "metadata": {
    "collapsed": true
   },
   "outputs": [],
   "source": [
    "query = 'SELECT * FROM %s'%(doc['table_map']['TRANSACTION_MASTER'])"
   ]
  },
  {
   "cell_type": "code",
   "execution_count": 11,
   "metadata": {
    "collapsed": false
   },
   "outputs": [
    {
     "name": "stdout",
     "output_type": "stream",
     "text": [
      "SELECT * FROM trans\n"
     ]
    }
   ],
   "source": [
    "print query"
   ]
  },
  {
   "cell_type": "code",
   "execution_count": null,
   "metadata": {
    "collapsed": true
   },
   "outputs": [],
   "source": []
  },
  {
   "cell_type": "code",
   "execution_count": null,
   "metadata": {
    "collapsed": true
   },
   "outputs": [],
   "source": []
  },
  {
   "cell_type": "code",
   "execution_count": null,
   "metadata": {
    "collapsed": true
   },
   "outputs": [],
   "source": []
  },
  {
   "cell_type": "code",
   "execution_count": null,
   "metadata": {
    "collapsed": true
   },
   "outputs": [],
   "source": []
  }
 ],
 "metadata": {
  "kernelspec": {
   "display_name": "Python 2",
   "language": "python",
   "name": "python2"
  },
  "language_info": {
   "codemirror_mode": {
    "name": "ipython",
    "version": 2
   },
   "file_extension": ".py",
   "mimetype": "text/x-python",
   "name": "python",
   "nbconvert_exporter": "python",
   "pygments_lexer": "ipython2",
   "version": "2.7.11"
  }
 },
 "nbformat": 4,
 "nbformat_minor": 0
}
