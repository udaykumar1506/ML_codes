{
 "cells": [
  {
   "cell_type": "code",
   "execution_count": 1,
   "metadata": {
    "collapsed": true
   },
   "outputs": [],
   "source": [
    "from DemoServerDB import ConnectDatabase"
   ]
  },
  {
   "cell_type": "code",
   "execution_count": 2,
   "metadata": {
    "collapsed": true
   },
   "outputs": [],
   "source": [
    "temp = ConnectDatabase()"
   ]
  },
  {
   "cell_type": "code",
   "execution_count": 3,
   "metadata": {
    "collapsed": true
   },
   "outputs": [],
   "source": [
    "query = 'SELECT * FROM campaign_final'"
   ]
  },
  {
   "cell_type": "code",
   "execution_count": 4,
   "metadata": {
    "collapsed": true
   },
   "outputs": [],
   "source": [
    "temp.cur.execute(query)"
   ]
  },
  {
   "cell_type": "code",
   "execution_count": 5,
   "metadata": {
    "collapsed": true
   },
   "outputs": [],
   "source": [
    "col_names = [desc[0] for desc in temp.cur.description]"
   ]
  },
  {
   "cell_type": "code",
   "execution_count": 7,
   "metadata": {
    "collapsed": true
   },
   "outputs": [],
   "source": [
    "import pandas as pd"
   ]
  },
  {
   "cell_type": "code",
   "execution_count": 8,
   "metadata": {
    "collapsed": true
   },
   "outputs": [],
   "source": [
    "camp = pd.DataFrame(temp.cur.fetchall(), columns=col_names)"
   ]
  },
  {
   "cell_type": "code",
   "execution_count": 9,
   "metadata": {
    "collapsed": false
   },
   "outputs": [
    {
     "data": {
      "text/html": [
       "<div>\n",
       "<table border=\"1\" class=\"dataframe\">\n",
       "  <thead>\n",
       "    <tr style=\"text-align: right;\">\n",
       "      <th></th>\n",
       "      <th>campaign_id</th>\n",
       "      <th>group</th>\n",
       "      <th>campaign_name</th>\n",
       "      <th>campaign_platform</th>\n",
       "      <th>campaign_objective</th>\n",
       "      <th>audience_name</th>\n",
       "      <th>campaign_type</th>\n",
       "      <th>experiment_type</th>\n",
       "      <th>campaign_start_date</th>\n",
       "      <th>campaign_end_date</th>\n",
       "      <th>...</th>\n",
       "      <th>rev_wend_camp</th>\n",
       "      <th>visits_wend_camp</th>\n",
       "      <th>prods_wend_camp</th>\n",
       "      <th>cltv_camp</th>\n",
       "      <th>cltv_wday_camp</th>\n",
       "      <th>cltv_wend_camp</th>\n",
       "      <th>conv_camp</th>\n",
       "      <th>conv_wday_camp</th>\n",
       "      <th>conv_wend_camp</th>\n",
       "      <th>cust_id</th>\n",
       "    </tr>\n",
       "  </thead>\n",
       "  <tbody>\n",
       "    <tr>\n",
       "      <th>0</th>\n",
       "      <td>1.0</td>\n",
       "      <td>Target</td>\n",
       "      <td>Demo2Set</td>\n",
       "      <td>Email</td>\n",
       "      <td>BRAND_AWARENESS</td>\n",
       "      <td>valuevh</td>\n",
       "      <td>Discount</td>\n",
       "      <td>A/B Testing</td>\n",
       "      <td>2016-10-06</td>\n",
       "      <td>2016-11-05</td>\n",
       "      <td>...</td>\n",
       "      <td>0.0</td>\n",
       "      <td>0.0</td>\n",
       "      <td>0.0</td>\n",
       "      <td>0.0</td>\n",
       "      <td>0.0</td>\n",
       "      <td>0.0</td>\n",
       "      <td>0.0</td>\n",
       "      <td>0.0</td>\n",
       "      <td>0.0</td>\n",
       "      <td>3289765</td>\n",
       "    </tr>\n",
       "    <tr>\n",
       "      <th>1</th>\n",
       "      <td>1.0</td>\n",
       "      <td>Target</td>\n",
       "      <td>Demo2Set</td>\n",
       "      <td>Email</td>\n",
       "      <td>BRAND_AWARENESS</td>\n",
       "      <td>valuevh</td>\n",
       "      <td>Discount</td>\n",
       "      <td>A/B Testing</td>\n",
       "      <td>2016-10-06</td>\n",
       "      <td>2016-11-05</td>\n",
       "      <td>...</td>\n",
       "      <td>0.0</td>\n",
       "      <td>0.0</td>\n",
       "      <td>0.0</td>\n",
       "      <td>0.0</td>\n",
       "      <td>0.0</td>\n",
       "      <td>0.0</td>\n",
       "      <td>0.0</td>\n",
       "      <td>0.0</td>\n",
       "      <td>0.0</td>\n",
       "      <td>6148771</td>\n",
       "    </tr>\n",
       "    <tr>\n",
       "      <th>2</th>\n",
       "      <td>1.0</td>\n",
       "      <td>Target</td>\n",
       "      <td>Demo2Set</td>\n",
       "      <td>Email</td>\n",
       "      <td>BRAND_AWARENESS</td>\n",
       "      <td>valuevh</td>\n",
       "      <td>Discount</td>\n",
       "      <td>A/B Testing</td>\n",
       "      <td>2016-10-06</td>\n",
       "      <td>2016-11-05</td>\n",
       "      <td>...</td>\n",
       "      <td>0.0</td>\n",
       "      <td>0.0</td>\n",
       "      <td>0.0</td>\n",
       "      <td>0.0</td>\n",
       "      <td>0.0</td>\n",
       "      <td>0.0</td>\n",
       "      <td>0.0</td>\n",
       "      <td>0.0</td>\n",
       "      <td>0.0</td>\n",
       "      <td>6148833</td>\n",
       "    </tr>\n",
       "    <tr>\n",
       "      <th>3</th>\n",
       "      <td>1.0</td>\n",
       "      <td>Control</td>\n",
       "      <td>Demo2Set</td>\n",
       "      <td>Email</td>\n",
       "      <td>BRAND_AWARENESS</td>\n",
       "      <td>valuevh</td>\n",
       "      <td>Discount</td>\n",
       "      <td>A/B Testing</td>\n",
       "      <td>2016-10-06</td>\n",
       "      <td>2016-11-05</td>\n",
       "      <td>...</td>\n",
       "      <td>0.0</td>\n",
       "      <td>0.0</td>\n",
       "      <td>0.0</td>\n",
       "      <td>0.0</td>\n",
       "      <td>0.0</td>\n",
       "      <td>0.0</td>\n",
       "      <td>0.0</td>\n",
       "      <td>0.0</td>\n",
       "      <td>0.0</td>\n",
       "      <td>6148977</td>\n",
       "    </tr>\n",
       "    <tr>\n",
       "      <th>4</th>\n",
       "      <td>1.0</td>\n",
       "      <td>Target</td>\n",
       "      <td>Demo2Set</td>\n",
       "      <td>Email</td>\n",
       "      <td>BRAND_AWARENESS</td>\n",
       "      <td>valuevh</td>\n",
       "      <td>Discount</td>\n",
       "      <td>A/B Testing</td>\n",
       "      <td>2016-10-06</td>\n",
       "      <td>2016-11-05</td>\n",
       "      <td>...</td>\n",
       "      <td>0.0</td>\n",
       "      <td>0.0</td>\n",
       "      <td>0.0</td>\n",
       "      <td>0.0</td>\n",
       "      <td>0.0</td>\n",
       "      <td>0.0</td>\n",
       "      <td>0.0</td>\n",
       "      <td>0.0</td>\n",
       "      <td>0.0</td>\n",
       "      <td>6149144</td>\n",
       "    </tr>\n",
       "  </tbody>\n",
       "</table>\n",
       "<p>5 rows × 39 columns</p>\n",
       "</div>"
      ],
      "text/plain": [
       "   campaign_id    group campaign_name campaign_platform campaign_objective  \\\n",
       "0          1.0   Target      Demo2Set             Email    BRAND_AWARENESS   \n",
       "1          1.0   Target      Demo2Set             Email    BRAND_AWARENESS   \n",
       "2          1.0   Target      Demo2Set             Email    BRAND_AWARENESS   \n",
       "3          1.0  Control      Demo2Set             Email    BRAND_AWARENESS   \n",
       "4          1.0   Target      Demo2Set             Email    BRAND_AWARENESS   \n",
       "\n",
       "  audience_name campaign_type experiment_type campaign_start_date  \\\n",
       "0       valuevh      Discount     A/B Testing          2016-10-06   \n",
       "1       valuevh      Discount     A/B Testing          2016-10-06   \n",
       "2       valuevh      Discount     A/B Testing          2016-10-06   \n",
       "3       valuevh      Discount     A/B Testing          2016-10-06   \n",
       "4       valuevh      Discount     A/B Testing          2016-10-06   \n",
       "\n",
       "  campaign_end_date   ...     rev_wend_camp visits_wend_camp  prods_wend_camp  \\\n",
       "0        2016-11-05   ...               0.0              0.0              0.0   \n",
       "1        2016-11-05   ...               0.0              0.0              0.0   \n",
       "2        2016-11-05   ...               0.0              0.0              0.0   \n",
       "3        2016-11-05   ...               0.0              0.0              0.0   \n",
       "4        2016-11-05   ...               0.0              0.0              0.0   \n",
       "\n",
       "   cltv_camp cltv_wday_camp  cltv_wend_camp conv_camp  conv_wday_camp  \\\n",
       "0        0.0            0.0             0.0       0.0             0.0   \n",
       "1        0.0            0.0             0.0       0.0             0.0   \n",
       "2        0.0            0.0             0.0       0.0             0.0   \n",
       "3        0.0            0.0             0.0       0.0             0.0   \n",
       "4        0.0            0.0             0.0       0.0             0.0   \n",
       "\n",
       "   conv_wend_camp  cust_id  \n",
       "0             0.0  3289765  \n",
       "1             0.0  6148771  \n",
       "2             0.0  6148833  \n",
       "3             0.0  6148977  \n",
       "4             0.0  6149144  \n",
       "\n",
       "[5 rows x 39 columns]"
      ]
     },
     "execution_count": 9,
     "metadata": {},
     "output_type": "execute_result"
    }
   ],
   "source": [
    "camp.head()"
   ]
  },
  {
   "cell_type": "code",
   "execution_count": 16,
   "metadata": {
    "collapsed": false
   },
   "outputs": [
    {
     "data": {
      "text/plain": [
       "(7000, 39)"
      ]
     },
     "execution_count": 16,
     "metadata": {},
     "output_type": "execute_result"
    }
   ],
   "source": [
    "camp.shape"
   ]
  },
  {
   "cell_type": "code",
   "execution_count": 14,
   "metadata": {
    "collapsed": false
   },
   "outputs": [],
   "source": [
    "camp1 = camp.query('campaign_id == 1')"
   ]
  },
  {
   "cell_type": "code",
   "execution_count": 15,
   "metadata": {
    "collapsed": false
   },
   "outputs": [
    {
     "data": {
      "text/plain": [
       "(3000, 39)"
      ]
     },
     "execution_count": 15,
     "metadata": {},
     "output_type": "execute_result"
    }
   ],
   "source": [
    "camp1.shape"
   ]
  },
  {
   "cell_type": "code",
   "execution_count": null,
   "metadata": {
    "collapsed": true
   },
   "outputs": [],
   "source": [
    "import plotly.plotly as py"
   ]
  }
 ],
 "metadata": {
  "kernelspec": {
   "display_name": "Python 2",
   "language": "python",
   "name": "python2"
  },
  "language_info": {
   "codemirror_mode": {
    "name": "ipython",
    "version": 2
   },
   "file_extension": ".py",
   "mimetype": "text/x-python",
   "name": "python",
   "nbconvert_exporter": "python",
   "pygments_lexer": "ipython2",
   "version": "2.7.11"
  }
 },
 "nbformat": 4,
 "nbformat_minor": 0
}
