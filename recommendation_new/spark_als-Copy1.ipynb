{
 "cells": [
  {
   "cell_type": "code",
   "execution_count": 1,
   "metadata": {
    "collapsed": true
   },
   "outputs": [],
   "source": [
    "import pandas as pd"
   ]
  },
  {
   "cell_type": "code",
   "execution_count": 2,
   "metadata": {
    "collapsed": false
   },
   "outputs": [],
   "source": [
    "prod_views_df = pd.read_csv('/home/ubuntu/recommendation_new/client', index_col=None)"
   ]
  },
  {
   "cell_type": "code",
   "execution_count": 3,
   "metadata": {
    "collapsed": false
   },
   "outputs": [
    {
     "data": {
      "text/html": [
       "<div>\n",
       "<table border=\"1\" class=\"dataframe\">\n",
       "  <thead>\n",
       "    <tr style=\"text-align: right;\">\n",
       "      <th></th>\n",
       "      <th>Unnamed: 0</th>\n",
       "      <th>cust_id</th>\n",
       "      <th>product_id</th>\n",
       "      <th>rating</th>\n",
       "    </tr>\n",
       "  </thead>\n",
       "  <tbody>\n",
       "    <tr>\n",
       "      <th>0</th>\n",
       "      <td>0</td>\n",
       "      <td>3893506</td>\n",
       "      <td>com.gopaktor.subscription.v1.premium.1m</td>\n",
       "      <td>1</td>\n",
       "    </tr>\n",
       "    <tr>\n",
       "      <th>1</th>\n",
       "      <td>1</td>\n",
       "      <td>3793254</td>\n",
       "      <td>com.gopaktor.subscription.v1.premium.1m</td>\n",
       "      <td>1</td>\n",
       "    </tr>\n",
       "    <tr>\n",
       "      <th>2</th>\n",
       "      <td>2</td>\n",
       "      <td>6148794</td>\n",
       "      <td>com.gopaktor.subscription.v1.premium.1m</td>\n",
       "      <td>1</td>\n",
       "    </tr>\n",
       "    <tr>\n",
       "      <th>3</th>\n",
       "      <td>3</td>\n",
       "      <td>6149220</td>\n",
       "      <td>com.gopaktor.subscription.v4.premium.1m</td>\n",
       "      <td>1</td>\n",
       "    </tr>\n",
       "    <tr>\n",
       "      <th>4</th>\n",
       "      <td>4</td>\n",
       "      <td>6149432</td>\n",
       "      <td>com.gopaktor.subscription.v4.premium.1m</td>\n",
       "      <td>1</td>\n",
       "    </tr>\n",
       "    <tr>\n",
       "      <th>5</th>\n",
       "      <td>5</td>\n",
       "      <td>6149434</td>\n",
       "      <td>com.gopaktor.subscription.v4.premium.1m</td>\n",
       "      <td>1</td>\n",
       "    </tr>\n",
       "  </tbody>\n",
       "</table>\n",
       "</div>"
      ],
      "text/plain": [
       "   Unnamed: 0  cust_id                               product_id  rating\n",
       "0           0  3893506  com.gopaktor.subscription.v1.premium.1m       1\n",
       "1           1  3793254  com.gopaktor.subscription.v1.premium.1m       1\n",
       "2           2  6148794  com.gopaktor.subscription.v1.premium.1m       1\n",
       "3           3  6149220  com.gopaktor.subscription.v4.premium.1m       1\n",
       "4           4  6149432  com.gopaktor.subscription.v4.premium.1m       1\n",
       "5           5  6149434  com.gopaktor.subscription.v4.premium.1m       1"
      ]
     },
     "execution_count": 3,
     "metadata": {},
     "output_type": "execute_result"
    }
   ],
   "source": [
    "prod_views_df.head(6)"
   ]
  },
  {
   "cell_type": "code",
   "execution_count": 4,
   "metadata": {
    "collapsed": false
   },
   "outputs": [],
   "source": [
    "prod_views_df.drop(prod_views_df.columns[[0]], axis=1, inplace = True)"
   ]
  },
  {
   "cell_type": "code",
   "execution_count": 5,
   "metadata": {
    "collapsed": false
   },
   "outputs": [
    {
     "data": {
      "text/html": [
       "<div>\n",
       "<table border=\"1\" class=\"dataframe\">\n",
       "  <thead>\n",
       "    <tr style=\"text-align: right;\">\n",
       "      <th></th>\n",
       "      <th>cust_id</th>\n",
       "      <th>product_id</th>\n",
       "      <th>rating</th>\n",
       "    </tr>\n",
       "  </thead>\n",
       "  <tbody>\n",
       "    <tr>\n",
       "      <th>0</th>\n",
       "      <td>3893506</td>\n",
       "      <td>com.gopaktor.subscription.v1.premium.1m</td>\n",
       "      <td>1</td>\n",
       "    </tr>\n",
       "    <tr>\n",
       "      <th>1</th>\n",
       "      <td>3793254</td>\n",
       "      <td>com.gopaktor.subscription.v1.premium.1m</td>\n",
       "      <td>1</td>\n",
       "    </tr>\n",
       "    <tr>\n",
       "      <th>2</th>\n",
       "      <td>6148794</td>\n",
       "      <td>com.gopaktor.subscription.v1.premium.1m</td>\n",
       "      <td>1</td>\n",
       "    </tr>\n",
       "    <tr>\n",
       "      <th>3</th>\n",
       "      <td>6149220</td>\n",
       "      <td>com.gopaktor.subscription.v4.premium.1m</td>\n",
       "      <td>1</td>\n",
       "    </tr>\n",
       "    <tr>\n",
       "      <th>4</th>\n",
       "      <td>6149432</td>\n",
       "      <td>com.gopaktor.subscription.v4.premium.1m</td>\n",
       "      <td>1</td>\n",
       "    </tr>\n",
       "  </tbody>\n",
       "</table>\n",
       "</div>"
      ],
      "text/plain": [
       "   cust_id                               product_id  rating\n",
       "0  3893506  com.gopaktor.subscription.v1.premium.1m       1\n",
       "1  3793254  com.gopaktor.subscription.v1.premium.1m       1\n",
       "2  6148794  com.gopaktor.subscription.v1.premium.1m       1\n",
       "3  6149220  com.gopaktor.subscription.v4.premium.1m       1\n",
       "4  6149432  com.gopaktor.subscription.v4.premium.1m       1"
      ]
     },
     "execution_count": 5,
     "metadata": {},
     "output_type": "execute_result"
    }
   ],
   "source": [
    "prod_views_df.head()"
   ]
  },
  {
   "cell_type": "code",
   "execution_count": 6,
   "metadata": {
    "collapsed": false
   },
   "outputs": [
    {
     "data": {
      "text/plain": [
       "(4428, 3)"
      ]
     },
     "execution_count": 6,
     "metadata": {},
     "output_type": "execute_result"
    }
   ],
   "source": [
    "prod_views_df.shape"
   ]
  },
  {
   "cell_type": "code",
   "execution_count": 7,
   "metadata": {
    "collapsed": true
   },
   "outputs": [],
   "source": [
    "from sklearn import preprocessing"
   ]
  },
  {
   "cell_type": "code",
   "execution_count": 8,
   "metadata": {
    "collapsed": true
   },
   "outputs": [],
   "source": [
    "user_id_le = preprocessing.LabelEncoder()\n",
    "product_id_le = preprocessing.LabelEncoder()"
   ]
  },
  {
   "cell_type": "code",
   "execution_count": 9,
   "metadata": {
    "collapsed": false
   },
   "outputs": [
    {
     "data": {
      "text/plain": [
       "LabelEncoder()"
      ]
     },
     "execution_count": 9,
     "metadata": {},
     "output_type": "execute_result"
    }
   ],
   "source": [
    "user_id_le.fit(prod_views_df.cust_id)"
   ]
  },
  {
   "cell_type": "code",
   "execution_count": 10,
   "metadata": {
    "collapsed": false
   },
   "outputs": [
    {
     "data": {
      "text/plain": [
       "LabelEncoder()"
      ]
     },
     "execution_count": 10,
     "metadata": {},
     "output_type": "execute_result"
    }
   ],
   "source": [
    "product_id_le.fit(prod_views_df.product_id)"
   ]
  },
  {
   "cell_type": "code",
   "execution_count": 11,
   "metadata": {
    "collapsed": false
   },
   "outputs": [
    {
     "name": "stdout",
     "output_type": "stream",
     "text": [
      "('Number of unique users: ', '3087')\n",
      "('Number of unique products: ', '18')\n"
     ]
    }
   ],
   "source": [
    "print('Number of unique users: ', str(len(user_id_le.classes_)))\n",
    "print('Number of unique products: ', str(len(product_id_le.classes_)))"
   ]
  },
  {
   "cell_type": "code",
   "execution_count": 12,
   "metadata": {
    "collapsed": true
   },
   "outputs": [],
   "source": [
    "n_prod_views_df = prod_views_df"
   ]
  },
  {
   "cell_type": "code",
   "execution_count": 13,
   "metadata": {
    "collapsed": false
   },
   "outputs": [],
   "source": [
    "n_prod_views_df.cust_id = user_id_le.transform(prod_views_df.cust_id)"
   ]
  },
  {
   "cell_type": "code",
   "execution_count": 14,
   "metadata": {
    "collapsed": true
   },
   "outputs": [],
   "source": [
    "n_prod_views_df.product_id = product_id_le.transform(prod_views_df.product_id)"
   ]
  },
  {
   "cell_type": "code",
   "execution_count": 15,
   "metadata": {
    "collapsed": false
   },
   "outputs": [
    {
     "data": {
      "text/html": [
       "<div>\n",
       "<table border=\"1\" class=\"dataframe\">\n",
       "  <thead>\n",
       "    <tr style=\"text-align: right;\">\n",
       "      <th></th>\n",
       "      <th>cust_id</th>\n",
       "      <th>product_id</th>\n",
       "      <th>rating</th>\n",
       "    </tr>\n",
       "  </thead>\n",
       "  <tbody>\n",
       "    <tr>\n",
       "      <th>0</th>\n",
       "      <td>7</td>\n",
       "      <td>5</td>\n",
       "      <td>1</td>\n",
       "    </tr>\n",
       "    <tr>\n",
       "      <th>1</th>\n",
       "      <td>6</td>\n",
       "      <td>5</td>\n",
       "      <td>1</td>\n",
       "    </tr>\n",
       "    <tr>\n",
       "      <th>2</th>\n",
       "      <td>10</td>\n",
       "      <td>5</td>\n",
       "      <td>1</td>\n",
       "    </tr>\n",
       "    <tr>\n",
       "      <th>3</th>\n",
       "      <td>15</td>\n",
       "      <td>17</td>\n",
       "      <td>1</td>\n",
       "    </tr>\n",
       "    <tr>\n",
       "      <th>4</th>\n",
       "      <td>21</td>\n",
       "      <td>17</td>\n",
       "      <td>1</td>\n",
       "    </tr>\n",
       "  </tbody>\n",
       "</table>\n",
       "</div>"
      ],
      "text/plain": [
       "   cust_id  product_id  rating\n",
       "0        7           5       1\n",
       "1        6           5       1\n",
       "2       10           5       1\n",
       "3       15          17       1\n",
       "4       21          17       1"
      ]
     },
     "execution_count": 15,
     "metadata": {},
     "output_type": "execute_result"
    }
   ],
   "source": [
    "n_prod_views_df.head()"
   ]
  },
  {
   "cell_type": "code",
   "execution_count": 16,
   "metadata": {
    "collapsed": false
   },
   "outputs": [],
   "source": [
    "import findspark"
   ]
  },
  {
   "cell_type": "code",
   "execution_count": 17,
   "metadata": {
    "collapsed": true
   },
   "outputs": [],
   "source": [
    "findspark.init()"
   ]
  },
  {
   "cell_type": "code",
   "execution_count": 18,
   "metadata": {
    "collapsed": true
   },
   "outputs": [],
   "source": [
    "from pyspark import SparkContext\n",
    "from pyspark.sql import SQLContext"
   ]
  },
  {
   "cell_type": "code",
   "execution_count": 19,
   "metadata": {
    "collapsed": true
   },
   "outputs": [],
   "source": [
    "from pyspark.mllib.recommendation import ALS"
   ]
  },
  {
   "cell_type": "code",
   "execution_count": 20,
   "metadata": {
    "collapsed": true
   },
   "outputs": [],
   "source": [
    "sc = SparkContext(appName = \"BuildProductRecommendations\")"
   ]
  },
  {
   "cell_type": "code",
   "execution_count": 21,
   "metadata": {
    "collapsed": true
   },
   "outputs": [],
   "source": [
    "sqlContext = SQLContext(sc)"
   ]
  },
  {
   "cell_type": "code",
   "execution_count": 22,
   "metadata": {
    "collapsed": true
   },
   "outputs": [],
   "source": [
    "n_prod_views_rdd = sqlContext.createDataFrame(n_prod_views_df).rdd"
   ]
  },
  {
   "cell_type": "code",
   "execution_count": 23,
   "metadata": {
    "collapsed": false
   },
   "outputs": [
    {
     "data": {
      "text/plain": [
       "[Row(cust_id=7, product_id=5, rating=1),\n",
       " Row(cust_id=6, product_id=5, rating=1),\n",
       " Row(cust_id=10, product_id=5, rating=1),\n",
       " Row(cust_id=15, product_id=17, rating=1),\n",
       " Row(cust_id=21, product_id=17, rating=1)]"
      ]
     },
     "execution_count": 23,
     "metadata": {},
     "output_type": "execute_result"
    }
   ],
   "source": [
    "n_prod_views_rdd.take(5)"
   ]
  },
  {
   "cell_type": "code",
   "execution_count": 24,
   "metadata": {
    "collapsed": true
   },
   "outputs": [],
   "source": [
    "training_rdd, validation_rdd, test_rdd = n_prod_views_rdd.randomSplit([6,2,2], 1345)"
   ]
  },
  {
   "cell_type": "code",
   "execution_count": 25,
   "metadata": {
    "collapsed": true
   },
   "outputs": [],
   "source": [
    "validation_for_predict_rdd = validation_rdd.map(lambda x : (x[0], x[1]))"
   ]
  },
  {
   "cell_type": "code",
   "execution_count": 26,
   "metadata": {
    "collapsed": true
   },
   "outputs": [],
   "source": [
    "test_for_predict_rdd = test_rdd.map(lambda x : (x[0], x[1]))"
   ]
  },
  {
   "cell_type": "code",
   "execution_count": 27,
   "metadata": {
    "collapsed": false
   },
   "outputs": [
    {
     "data": {
      "text/plain": [
       "[(7, 5), (21, 17), (30, 16), (74, 5), (113, 5)]"
      ]
     },
     "execution_count": 27,
     "metadata": {},
     "output_type": "execute_result"
    }
   ],
   "source": [
    "validation_for_predict_rdd.take(5)"
   ]
  },
  {
   "cell_type": "code",
   "execution_count": 28,
   "metadata": {
    "collapsed": false
   },
   "outputs": [
    {
     "data": {
      "text/plain": [
       "[Row(cust_id=6, product_id=5, rating=1),\n",
       " Row(cust_id=10, product_id=5, rating=1),\n",
       " Row(cust_id=15, product_id=17, rating=1),\n",
       " Row(cust_id=22, product_id=17, rating=1),\n",
       " Row(cust_id=18, product_id=17, rating=1)]"
      ]
     },
     "execution_count": 28,
     "metadata": {},
     "output_type": "execute_result"
    }
   ],
   "source": [
    "training_rdd.take(5)"
   ]
  },
  {
   "cell_type": "code",
   "execution_count": 29,
   "metadata": {
    "collapsed": false
   },
   "outputs": [
    {
     "name": "stdout",
     "output_type": "stream",
     "text": [
      "('Training RDD\\n', [Row(cust_id=6, product_id=5, rating=1), Row(cust_id=10, product_id=5, rating=1), Row(cust_id=15, product_id=17, rating=1), Row(cust_id=22, product_id=17, rating=1), Row(cust_id=18, product_id=17, rating=1)])\n",
      "('\\nValidation for prediction RDD\\n', [(7, 5), (21, 17), (30, 16), (74, 5), (113, 5)])\n",
      "('\\nTest for Prediction RDD\\n', [(24, 17), (28, 17), (33, 5), (48, 5), (16, 0)])\n"
     ]
    }
   ],
   "source": [
    "print('Training RDD\\n', training_rdd.take(5))\n",
    "print('\\nValidation for prediction RDD\\n', validation_for_predict_rdd.take(5))\n",
    "print('\\nTest for Prediction RDD\\n', test_for_predict_rdd.take(5))"
   ]
  },
  {
   "cell_type": "code",
   "execution_count": 30,
   "metadata": {
    "collapsed": true
   },
   "outputs": [],
   "source": [
    "import math"
   ]
  },
  {
   "cell_type": "code",
   "execution_count": 31,
   "metadata": {
    "collapsed": true
   },
   "outputs": [],
   "source": [
    "seed = 49247\n",
    "iterations = 10\n",
    "lambdas = [0.01, 0.1]\n",
    "ranks = [16]\n",
    "alphas = [1.0, 2.0, 4.0, 8.0, 16.0, 32.0, 40.0, 80.0]\n",
    "errors = [0 for x in range(len(alphas) * len(ranks) * len(lambdas))]\n",
    "err_index = 0"
   ]
  },
  {
   "cell_type": "code",
   "execution_count": 32,
   "metadata": {
    "collapsed": false
   },
   "outputs": [
    {
     "name": "stdout",
     "output_type": "stream",
     "text": [
      "For rank 16 at alpha: 1.0 and lambda: 0.01, the RMSE is0.3618524676\n",
      "For rank 16 at alpha: 2.0 and lambda: 0.01, the RMSE is0.320635344415\n",
      "For rank 16 at alpha: 4.0 and lambda: 0.01, the RMSE is0.304084575444\n",
      "For rank 16 at alpha: 8.0 and lambda: 0.01, the RMSE is0.298953713989\n",
      "For rank 16 at alpha: 16.0 and lambda: 0.01, the RMSE is0.29777185821\n",
      "For rank 16 at alpha: 32.0 and lambda: 0.01, the RMSE is0.297652481366\n",
      "For rank 16 at alpha: 40.0 and lambda: 0.01, the RMSE is0.297683583103\n",
      "For rank 16 at alpha: 80.0 and lambda: 0.01, the RMSE is0.29784487528\n",
      "For rank 16 at alpha: 1.0 and lambda: 0.1, the RMSE is0.347145244249\n",
      "For rank 16 at alpha: 2.0 and lambda: 0.1, the RMSE is0.31411679644\n",
      "For rank 16 at alpha: 4.0 and lambda: 0.1, the RMSE is0.301544573613\n",
      "For rank 16 at alpha: 8.0 and lambda: 0.1, the RMSE is0.29732915119\n",
      "For rank 16 at alpha: 16.0 and lambda: 0.1, the RMSE is0.295813446016\n",
      "For rank 16 at alpha: 32.0 and lambda: 0.1, the RMSE is0.295446642748\n",
      "For rank 16 at alpha: 40.0 and lambda: 0.1, the RMSE is0.295457678988\n",
      "For rank 16 at alpha: 80.0 and lambda: 0.1, the RMSE is0.295597427554\n"
     ]
    }
   ],
   "source": [
    "for lambda_ in  lambdas:\n",
    "    for rank in ranks:\n",
    "        for alpha in alphas:\n",
    "            model = ALS.trainImplicit(training_rdd, rank, seed=seed, iterations=iterations,\n",
    "                                           lambda_ = lambda_, alpha = alpha)\n",
    "            predictions = model.predictAll(validation_for_predict_rdd).map(lambda r : ((r[0], r[1]), r[2]))\n",
    "            views_and_preds = validation_rdd.map(lambda r: ((int(r[0]), int(r[1])), float(r[2]))).join(predictions)\n",
    "            error = math.sqrt(views_and_preds.map(lambda r: (r[1][0] - r[1][1])**2).mean())\n",
    "            errors[err_index] = error\n",
    "            err_index += 1\n",
    "            print('For rank {0} at alpha: {1} and lambda: {2}, the RMSE is{3}'.format(rank, alpha, lambda_, error))"
   ]
  },
  {
   "cell_type": "code",
   "execution_count": null,
   "metadata": {
    "collapsed": true
   },
   "outputs": [],
   "source": []
  },
  {
   "cell_type": "code",
   "execution_count": null,
   "metadata": {
    "collapsed": false
   },
   "outputs": [],
   "source": [
    "predictions = model.recommendProducts(6,10)"
   ]
  },
  {
   "cell_type": "code",
   "execution_count": null,
   "metadata": {
    "collapsed": false
   },
   "outputs": [],
   "source": [
    "predictions"
   ]
  },
  {
   "cell_type": "code",
   "execution_count": 38,
   "metadata": {
    "collapsed": true
   },
   "outputs": [],
   "source": [
    "all_user = model.recommendProductsForUsers(20)"
   ]
  },
  {
   "cell_type": "code",
   "execution_count": 39,
   "metadata": {
    "collapsed": false
   },
   "outputs": [
    {
     "data": {
      "text/plain": [
       "774"
      ]
     },
     "execution_count": 39,
     "metadata": {},
     "output_type": "execute_result"
    }
   ],
   "source": [
    "all_user.count()"
   ]
  },
  {
   "cell_type": "code",
   "execution_count": 40,
   "metadata": {
    "collapsed": false
   },
   "outputs": [
    {
     "data": {
      "text/plain": [
       "[(96,\n",
       "  (Rating(user=96, product=15, rating=0.9606531729819345),\n",
       "   Rating(user=96, product=1, rating=0.0013493345938071916),\n",
       "   Rating(user=96, product=0, rating=0.00040243511720881864),\n",
       "   Rating(user=96, product=5, rating=6.589012819243484e-05),\n",
       "   Rating(user=96, product=11, rating=3.592912558986888e-05),\n",
       "   Rating(user=96, product=14, rating=-0.00010497835261521343),\n",
       "   Rating(user=96, product=12, rating=-0.00010607336281896404),\n",
       "   Rating(user=96, product=9, rating=-0.00013881282123665364),\n",
       "   Rating(user=96, product=7, rating=-0.00021604348097167825),\n",
       "   Rating(user=96, product=8, rating=-0.0002665368430527504),\n",
       "   Rating(user=96, product=16, rating=-0.0003544141334719149),\n",
       "   Rating(user=96, product=6, rating=-0.0006783216777427655),\n",
       "   Rating(user=96, product=17, rating=-0.0007002553741833548),\n",
       "   Rating(user=96, product=10, rating=-0.0010782224520942407),\n",
       "   Rating(user=96, product=2, rating=-0.0011421241666532966),\n",
       "   Rating(user=96, product=13, rating=-0.0019091638084096363))),\n",
       " (784,\n",
       "  (Rating(user=784, product=5, rating=0.9884087295633815),\n",
       "   Rating(user=784, product=12, rating=0.0031368086444434895),\n",
       "   Rating(user=784, product=9, rating=0.0008440358958246019),\n",
       "   Rating(user=784, product=7, rating=0.0006514611200472142),\n",
       "   Rating(user=784, product=11, rating=0.0005087249218084788),\n",
       "   Rating(user=784, product=6, rating=0.00029783590352666645),\n",
       "   Rating(user=784, product=14, rating=0.00017015449600957244),\n",
       "   Rating(user=784, product=2, rating=0.00011994470770299026),\n",
       "   Rating(user=784, product=15, rating=6.414029406505428e-05),\n",
       "   Rating(user=784, product=1, rating=-1.9073979846712108e-05),\n",
       "   Rating(user=784, product=16, rating=-4.022767090511303e-05),\n",
       "   Rating(user=784, product=10, rating=-5.341283614448272e-05),\n",
       "   Rating(user=784, product=13, rating=-9.028469921681936e-05),\n",
       "   Rating(user=784, product=8, rating=-0.0005550514552975783),\n",
       "   Rating(user=784, product=0, rating=-0.001001114707430556),\n",
       "   Rating(user=784, product=17, rating=-0.005715915940208635))),\n",
       " (800,\n",
       "  (Rating(user=800, product=5, rating=0.9884087295633815),\n",
       "   Rating(user=800, product=12, rating=0.0031368086444434895),\n",
       "   Rating(user=800, product=9, rating=0.0008440358958246019),\n",
       "   Rating(user=800, product=7, rating=0.0006514611200472142),\n",
       "   Rating(user=800, product=11, rating=0.0005087249218084788),\n",
       "   Rating(user=800, product=6, rating=0.00029783590352666645),\n",
       "   Rating(user=800, product=14, rating=0.00017015449600957244),\n",
       "   Rating(user=800, product=2, rating=0.00011994470770299026),\n",
       "   Rating(user=800, product=15, rating=6.414029406505428e-05),\n",
       "   Rating(user=800, product=1, rating=-1.9073979846712108e-05),\n",
       "   Rating(user=800, product=16, rating=-4.022767090511303e-05),\n",
       "   Rating(user=800, product=10, rating=-5.341283614448272e-05),\n",
       "   Rating(user=800, product=13, rating=-9.028469921681936e-05),\n",
       "   Rating(user=800, product=8, rating=-0.0005550514552975783),\n",
       "   Rating(user=800, product=0, rating=-0.001001114707430556),\n",
       "   Rating(user=800, product=17, rating=-0.005715915940208635))),\n",
       " (16,\n",
       "  (Rating(user=16, product=0, rating=0.9678857244361087),\n",
       "   Rating(user=16, product=14, rating=0.0007115890920338097),\n",
       "   Rating(user=16, product=15, rating=0.0003996354961273707),\n",
       "   Rating(user=16, product=2, rating=8.088933886396532e-05),\n",
       "   Rating(user=16, product=9, rating=-5.067160840857565e-05),\n",
       "   Rating(user=16, product=8, rating=-0.00018749820812574702),\n",
       "   Rating(user=16, product=17, rating=-0.00021666430856626118),\n",
       "   Rating(user=16, product=7, rating=-0.00022815998240616198),\n",
       "   Rating(user=16, product=1, rating=-0.00023527713721643861),\n",
       "   Rating(user=16, product=10, rating=-0.0003834247977346772),\n",
       "   Rating(user=16, product=16, rating=-0.0004309227472361066),\n",
       "   Rating(user=16, product=11, rating=-0.00046175061872608114),\n",
       "   Rating(user=16, product=13, rating=-0.0006675942388803258),\n",
       "   Rating(user=16, product=6, rating=-0.0007234336170133526),\n",
       "   Rating(user=16, product=12, rating=-0.000792221425943207),\n",
       "   Rating(user=16, product=5, rating=-0.0010214174791373098))),\n",
       " (320,\n",
       "  (Rating(user=320, product=5, rating=0.9884087295633815),\n",
       "   Rating(user=320, product=12, rating=0.0031368086444434895),\n",
       "   Rating(user=320, product=9, rating=0.0008440358958246019),\n",
       "   Rating(user=320, product=7, rating=0.0006514611200472142),\n",
       "   Rating(user=320, product=11, rating=0.0005087249218084788),\n",
       "   Rating(user=320, product=6, rating=0.00029783590352666645),\n",
       "   Rating(user=320, product=14, rating=0.00017015449600957244),\n",
       "   Rating(user=320, product=2, rating=0.00011994470770299026),\n",
       "   Rating(user=320, product=15, rating=6.414029406505428e-05),\n",
       "   Rating(user=320, product=1, rating=-1.9073979846712108e-05),\n",
       "   Rating(user=320, product=16, rating=-4.022767090511303e-05),\n",
       "   Rating(user=320, product=10, rating=-5.341283614448272e-05),\n",
       "   Rating(user=320, product=13, rating=-9.028469921681936e-05),\n",
       "   Rating(user=320, product=8, rating=-0.0005550514552975783),\n",
       "   Rating(user=320, product=0, rating=-0.001001114707430556),\n",
       "   Rating(user=320, product=17, rating=-0.005715915940208635)))]"
      ]
     },
     "execution_count": 40,
     "metadata": {},
     "output_type": "execute_result"
    }
   ],
   "source": [
    "all_user.take(5)"
   ]
  },
  {
   "cell_type": "code",
   "execution_count": null,
   "metadata": {
    "collapsed": true
   },
   "outputs": [],
   "source": []
  },
  {
   "cell_type": "code",
   "execution_count": null,
   "metadata": {
    "collapsed": true
   },
   "outputs": [],
   "source": []
  },
  {
   "cell_type": "code",
   "execution_count": null,
   "metadata": {
    "collapsed": true
   },
   "outputs": [],
   "source": []
  }
 ],
 "metadata": {
  "kernelspec": {
   "display_name": "Python 2",
   "language": "python",
   "name": "python2"
  },
  "language_info": {
   "codemirror_mode": {
    "name": "ipython",
    "version": 2
   },
   "file_extension": ".py",
   "mimetype": "text/x-python",
   "name": "python",
   "nbconvert_exporter": "python",
   "pygments_lexer": "ipython2",
   "version": "2.7.11"
  }
 },
 "nbformat": 4,
 "nbformat_minor": 0
}
