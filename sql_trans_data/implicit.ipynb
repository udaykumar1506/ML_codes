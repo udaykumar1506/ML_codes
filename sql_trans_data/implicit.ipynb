{
 "cells": [
  {
   "cell_type": "code",
   "execution_count": 1,
   "metadata": {
    "collapsed": false
   },
   "outputs": [],
   "source": [
    "import os\n",
    "import sys\n",
    "\n",
    "spark_path = \"/opt/spark/\"\n",
    "\n",
    "os.environ['SPARK_HOME'] = spark_path\n",
    "os.environ['HADOOP_HOME'] = spark_path\n",
    "\n",
    "sys.path.append(spark_path + \"/bin\")\n",
    "sys.path.append(spark_path + \"/python\")\n",
    "sys.path.append(spark_path + \"/python/pyspark/\")\n",
    "sys.path.append(spark_path + \"/python/lib\")\n",
    "sys.path.append(spark_path + \"/python/lib/pyspark.zip\")\n",
    "sys.path.append(spark_path + \"/python/lib/py4j-0.9-src.zip\")\n",
    "\n",
    "from pyspark import SparkContext\n",
    "from pyspark import SparkConf\n",
    "\n",
    "sc = SparkContext(\"local\", \"test\")"
   ]
  },
  {
   "cell_type": "code",
   "execution_count": 2,
   "metadata": {
    "collapsed": false
   },
   "outputs": [
    {
     "data": {
      "text/plain": [
       "<pyspark.context.SparkContext at 0x7f59045eafd0>"
      ]
     },
     "execution_count": 2,
     "metadata": {},
     "output_type": "execute_result"
    }
   ],
   "source": [
    "sc"
   ]
  },
  {
   "cell_type": "code",
   "execution_count": 3,
   "metadata": {
    "collapsed": true
   },
   "outputs": [],
   "source": [
    "data = sc.textFile(\"/home/ubuntu/sql_trans_data/prod_int\")"
   ]
  },
  {
   "cell_type": "code",
   "execution_count": 4,
   "metadata": {
    "collapsed": false
   },
   "outputs": [
    {
     "data": {
      "text/plain": [
       "[u'0,18,6093827,1',\n",
       " u'1,18,110380,1',\n",
       " u'2,18,131057,1',\n",
       " u'3,18,133977,1',\n",
       " u'4,18,171879,1']"
      ]
     },
     "execution_count": 4,
     "metadata": {},
     "output_type": "execute_result"
    }
   ],
   "source": [
    "data.take(5)"
   ]
  },
  {
   "cell_type": "code",
   "execution_count": 5,
   "metadata": {
    "collapsed": true
   },
   "outputs": [],
   "source": [
    "from pyspark.mllib.recommendation import ALS,MatrixFactorizationModel, Rating"
   ]
  },
  {
   "cell_type": "code",
   "execution_count": 6,
   "metadata": {
    "collapsed": true
   },
   "outputs": [],
   "source": [
    "mls = data.map(lambda l: l.split(','))"
   ]
  },
  {
   "cell_type": "code",
   "execution_count": 7,
   "metadata": {
    "collapsed": true
   },
   "outputs": [],
   "source": [
    "ratings = mls.map(lambda x: Rating(int(x[2]),int(x[1]), float(x[3])))"
   ]
  },
  {
   "cell_type": "code",
   "execution_count": 8,
   "metadata": {
    "collapsed": true
   },
   "outputs": [],
   "source": [
    "train, test = ratings.randomSplit([0.7,0.3],7856)"
   ]
  },
  {
   "cell_type": "code",
   "execution_count": 9,
   "metadata": {
    "collapsed": false
   },
   "outputs": [
    {
     "data": {
      "text/plain": [
       "8952"
      ]
     },
     "execution_count": 9,
     "metadata": {},
     "output_type": "execute_result"
    }
   ],
   "source": [
    "train.count()"
   ]
  },
  {
   "cell_type": "code",
   "execution_count": 10,
   "metadata": {
    "collapsed": false,
    "scrolled": true
   },
   "outputs": [
    {
     "data": {
      "text/plain": [
       "[Rating(user=6093827, product=18, rating=1.0),\n",
       " Rating(user=110380, product=18, rating=1.0),\n",
       " Rating(user=131057, product=18, rating=1.0),\n",
       " Rating(user=133977, product=18, rating=1.0),\n",
       " Rating(user=194181, product=18, rating=1.0),\n",
       " Rating(user=233893, product=8, rating=1.0),\n",
       " Rating(user=25936, product=18, rating=1.0),\n",
       " Rating(user=2884394, product=0, rating=1.0),\n",
       " Rating(user=2889669, product=18, rating=1.0),\n",
       " Rating(user=2917725, product=0, rating=1.0)]"
      ]
     },
     "execution_count": 10,
     "metadata": {},
     "output_type": "execute_result"
    }
   ],
   "source": [
    "train.take(10)"
   ]
  },
  {
   "cell_type": "code",
   "execution_count": 11,
   "metadata": {
    "collapsed": false
   },
   "outputs": [
    {
     "data": {
      "text/plain": [
       "3865"
      ]
     },
     "execution_count": 11,
     "metadata": {},
     "output_type": "execute_result"
    }
   ],
   "source": [
    "test.count()"
   ]
  },
  {
   "cell_type": "code",
   "execution_count": 12,
   "metadata": {
    "collapsed": false
   },
   "outputs": [
    {
     "data": {
      "text/plain": [
       "[Rating(user=171879, product=18, rating=1.0),\n",
       " Rating(user=2897162, product=18, rating=1.0),\n",
       " Rating(user=2988180, product=18, rating=1.0),\n",
       " Rating(user=3015879, product=18, rating=1.0),\n",
       " Rating(user=3113366, product=0, rating=1.0),\n",
       " Rating(user=3183957, product=18, rating=1.0),\n",
       " Rating(user=17094, product=18, rating=1.0),\n",
       " Rating(user=186761, product=18, rating=1.0),\n",
       " Rating(user=194181, product=18, rating=1.0),\n",
       " Rating(user=252601, product=16, rating=1.0)]"
      ]
     },
     "execution_count": 12,
     "metadata": {},
     "output_type": "execute_result"
    }
   ],
   "source": [
    "test.take(10)"
   ]
  },
  {
   "cell_type": "code",
   "execution_count": null,
   "metadata": {
    "collapsed": true
   },
   "outputs": [],
   "source": []
  },
  {
   "cell_type": "code",
   "execution_count": 13,
   "metadata": {
    "collapsed": true
   },
   "outputs": [],
   "source": [
    "rank = 5"
   ]
  },
  {
   "cell_type": "code",
   "execution_count": 14,
   "metadata": {
    "collapsed": true
   },
   "outputs": [],
   "source": [
    "numIterations = 10"
   ]
  },
  {
   "cell_type": "code",
   "execution_count": 15,
   "metadata": {
    "collapsed": true
   },
   "outputs": [],
   "source": [
    "model = ALS.trainImplicit(train, rank, numIterations, seed=1234)"
   ]
  },
  {
   "cell_type": "code",
   "execution_count": 16,
   "metadata": {
    "collapsed": false
   },
   "outputs": [
    {
     "data": {
      "text/plain": [
       "[Rating(user=5920534, product=18, rating=21.203112316943255),\n",
       " Rating(user=5230430, product=18, rating=20.66856537226009),\n",
       " Rating(user=5222617, product=18, rating=20.66856537226009),\n",
       " Rating(user=5273747, product=18, rating=20.40318478614303),\n",
       " Rating(user=5688023, product=18, rating=20.12365626193903),\n",
       " Rating(user=5926374, product=18, rating=19.56808102554572),\n",
       " Rating(user=5695327, product=18, rating=19.56808102554572),\n",
       " Rating(user=5969687, product=18, rating=19.001521098613303),\n",
       " Rating(user=5819774, product=18, rating=18.803799666911612),\n",
       " Rating(user=98467, product=18, rating=18.423647168775986)]"
      ]
     },
     "execution_count": 16,
     "metadata": {},
     "output_type": "execute_result"
    }
   ],
   "source": [
    "model.recommendUsers(18,10)"
   ]
  },
  {
   "cell_type": "code",
   "execution_count": 17,
   "metadata": {
    "collapsed": false
   },
   "outputs": [
    {
     "data": {
      "text/plain": [
       "[Rating(user=6093827, product=18, rating=8.126538989529486),\n",
       " Rating(user=6093827, product=0, rating=0.08086517869625887),\n",
       " Rating(user=6093827, product=20, rating=0.02845241618164044),\n",
       " Rating(user=6093827, product=1, rating=0.015480153609008784),\n",
       " Rating(user=6093827, product=8, rating=0.013914613321859282),\n",
       " Rating(user=6093827, product=6, rating=0.007473584648103455),\n",
       " Rating(user=6093827, product=17, rating=0.005608635156515785),\n",
       " Rating(user=6093827, product=5, rating=0.003573862051404905),\n",
       " Rating(user=6093827, product=9, rating=0.0015142052569148967),\n",
       " Rating(user=6093827, product=10, rating=0.0014442033768933271)]"
      ]
     },
     "execution_count": 17,
     "metadata": {},
     "output_type": "execute_result"
    }
   ],
   "source": [
    "model.recommendProducts(6093827,10)"
   ]
  },
  {
   "cell_type": "code",
   "execution_count": 18,
   "metadata": {
    "collapsed": false
   },
   "outputs": [
    {
     "data": {
      "text/plain": [
       "[Rating(user=110380, product=18, rating=6.385107447077223),\n",
       " Rating(user=110380, product=0, rating=0.06725401802569575),\n",
       " Rating(user=110380, product=20, rating=0.022351146186237136),\n",
       " Rating(user=110380, product=1, rating=0.012557237077898575),\n",
       " Rating(user=110380, product=8, rating=0.011093915332444249),\n",
       " Rating(user=110380, product=6, rating=0.005870481568039169),\n",
       " Rating(user=110380, product=17, rating=0.00440527589917609),\n",
       " Rating(user=110380, product=5, rating=0.0028332307333731044),\n",
       " Rating(user=110380, product=10, rating=0.0019913592683229453),\n",
       " Rating(user=110380, product=16, rating=0.0014657296838397893)]"
      ]
     },
     "execution_count": 18,
     "metadata": {},
     "output_type": "execute_result"
    }
   ],
   "source": [
    "model.recommendProducts(110380,10)"
   ]
  },
  {
   "cell_type": "code",
   "execution_count": 19,
   "metadata": {
    "collapsed": true
   },
   "outputs": [],
   "source": [
    "user_rec = model.recommendProductsForUsers(25).collect()"
   ]
  },
  {
   "cell_type": "code",
   "execution_count": 20,
   "metadata": {
    "collapsed": false
   },
   "outputs": [
    {
     "data": {
      "text/plain": [
       "1042"
      ]
     },
     "execution_count": 20,
     "metadata": {},
     "output_type": "execute_result"
    }
   ],
   "source": [
    "len(user_rec)"
   ]
  },
  {
   "cell_type": "code",
   "execution_count": 21,
   "metadata": {
    "collapsed": false,
    "scrolled": true
   },
   "outputs": [
    {
     "data": {
      "text/plain": [
       "(4739814,\n",
       " (Rating(user=4739814, product=4, rating=3.8265610014965805),\n",
       "  Rating(user=4739814, product=0, rating=0.043881886003016124),\n",
       "  Rating(user=4739814, product=9, rating=0.009563914620168534),\n",
       "  Rating(user=4739814, product=16, rating=0.00861046153131556),\n",
       "  Rating(user=4739814, product=8, rating=0.0013243181244931845),\n",
       "  Rating(user=4739814, product=20, rating=0.00013336890217498752),\n",
       "  Rating(user=4739814, product=17, rating=4.670241599482245e-05),\n",
       "  Rating(user=4739814, product=6, rating=4.6481336262653916e-05),\n",
       "  Rating(user=4739814, product=15, rating=1.2247990014284581e-13),\n",
       "  Rating(user=4739814, product=7, rating=-9.396239537925962e-34),\n",
       "  Rating(user=4739814, product=19, rating=-1.250103452816004e-22),\n",
       "  Rating(user=4739814, product=21, rating=-3.2710903814098587e-14),\n",
       "  Rating(user=4739814, product=13, rating=-0.00024732039461868374),\n",
       "  Rating(user=4739814, product=12, rating=-0.0003631066199264246),\n",
       "  Rating(user=4739814, product=10, rating=-0.0007263769157073163),\n",
       "  Rating(user=4739814, product=5, rating=-0.000726676863693855),\n",
       "  Rating(user=4739814, product=18, rating=-0.0015856303919210557),\n",
       "  Rating(user=4739814, product=14, rating=-0.0018253631072379962),\n",
       "  Rating(user=4739814, product=1, rating=-0.009896543258735346),\n",
       "  Rating(user=4739814, product=3, rating=-0.012202805916522785),\n",
       "  Rating(user=4739814, product=11, rating=-0.016524056278308663),\n",
       "  Rating(user=4739814, product=2, rating=-0.07021696800411759)))"
      ]
     },
     "execution_count": 21,
     "metadata": {},
     "output_type": "execute_result"
    }
   ],
   "source": [
    "user_rec[1]"
   ]
  },
  {
   "cell_type": "code",
   "execution_count": 22,
   "metadata": {
    "collapsed": false
   },
   "outputs": [
    {
     "data": {
      "text/plain": [
       "8.126538989529486"
      ]
     },
     "execution_count": 22,
     "metadata": {},
     "output_type": "execute_result"
    }
   ],
   "source": [
    "model.predict(6093827, 18)"
   ]
  },
  {
   "cell_type": "code",
   "execution_count": 23,
   "metadata": {
    "collapsed": true
   },
   "outputs": [],
   "source": [
    "pred_input = train.map(lambda x:(x[0],x[1]))"
   ]
  },
  {
   "cell_type": "code",
   "execution_count": 24,
   "metadata": {
    "collapsed": false
   },
   "outputs": [
    {
     "data": {
      "text/plain": [
       "[(6093827, 18),\n",
       " (110380, 18),\n",
       " (131057, 18),\n",
       " (133977, 18),\n",
       " (194181, 18),\n",
       " (233893, 8),\n",
       " (25936, 18),\n",
       " (2884394, 0),\n",
       " (2889669, 18),\n",
       " (2917725, 0)]"
      ]
     },
     "execution_count": 24,
     "metadata": {},
     "output_type": "execute_result"
    }
   ],
   "source": [
    "pred_input.take(10)"
   ]
  },
  {
   "cell_type": "code",
   "execution_count": 25,
   "metadata": {
    "collapsed": false
   },
   "outputs": [],
   "source": [
    "pred = model.predictAll(pred_input)"
   ]
  },
  {
   "cell_type": "code",
   "execution_count": 26,
   "metadata": {
    "collapsed": false
   },
   "outputs": [],
   "source": [
    "pred1 = pred.distinct()"
   ]
  },
  {
   "cell_type": "code",
   "execution_count": 27,
   "metadata": {
    "collapsed": false,
    "scrolled": true
   },
   "outputs": [
    {
     "data": {
      "text/plain": [
       "[Rating(user=2935298, product=18, rating=5.615681836066915),\n",
       " Rating(user=6066007, product=18, rating=4.737447060300018),\n",
       " Rating(user=6035126, product=4, rating=9.640016068494987),\n",
       " Rating(user=36843, product=18, rating=5.615681836066915),\n",
       " Rating(user=4488376, product=4, rating=11.843196248679135)]"
      ]
     },
     "execution_count": 27,
     "metadata": {},
     "output_type": "execute_result"
    }
   ],
   "source": [
    "pred1.take(5)"
   ]
  },
  {
   "cell_type": "code",
   "execution_count": 28,
   "metadata": {
    "collapsed": true
   },
   "outputs": [],
   "source": [
    "true_reorg = train.map(lambda x:((x[0],x[1]), x[2]))"
   ]
  },
  {
   "cell_type": "code",
   "execution_count": 29,
   "metadata": {
    "collapsed": false
   },
   "outputs": [
    {
     "data": {
      "text/plain": [
       "[((6093827, 18), 1.0),\n",
       " ((110380, 18), 1.0),\n",
       " ((131057, 18), 1.0),\n",
       " ((133977, 18), 1.0),\n",
       " ((194181, 18), 1.0)]"
      ]
     },
     "execution_count": 29,
     "metadata": {},
     "output_type": "execute_result"
    }
   ],
   "source": [
    "true_reorg.take(5)"
   ]
  },
  {
   "cell_type": "code",
   "execution_count": 30,
   "metadata": {
    "collapsed": false
   },
   "outputs": [],
   "source": [
    "pred_reorg = pred1.map(lambda x:((x[0],x[1]), x[2]))"
   ]
  },
  {
   "cell_type": "code",
   "execution_count": 31,
   "metadata": {
    "collapsed": false
   },
   "outputs": [
    {
     "data": {
      "text/plain": [
       "[((2935298, 18), 5.615681836066915),\n",
       " ((6066007, 18), 4.737447060300018),\n",
       " ((6035126, 4), 9.640016068494987),\n",
       " ((36843, 18), 5.615681836066915),\n",
       " ((4488376, 4), 11.843196248679135),\n",
       " ((4637001, 11), 3.8792295181574046),\n",
       " ((5715314, 13), 0.0005157008344005956),\n",
       " ((5697684, 10), 4.742016850221945),\n",
       " ((5784947, 18), 9.704355372663466),\n",
       " ((5700252, 18), 3.8372818366900945)]"
      ]
     },
     "execution_count": 31,
     "metadata": {},
     "output_type": "execute_result"
    }
   ],
   "source": [
    "pred_reorg.take(10)"
   ]
  },
  {
   "cell_type": "code",
   "execution_count": 32,
   "metadata": {
    "collapsed": false
   },
   "outputs": [],
   "source": [
    "true_pred = true_reorg.join(pred_reorg)"
   ]
  },
  {
   "cell_type": "code",
   "execution_count": 33,
   "metadata": {
    "collapsed": false
   },
   "outputs": [
    {
     "data": {
      "text/plain": [
       "8952"
      ]
     },
     "execution_count": 33,
     "metadata": {},
     "output_type": "execute_result"
    }
   ],
   "source": [
    "true_pred.count()"
   ]
  },
  {
   "cell_type": "code",
   "execution_count": 34,
   "metadata": {
    "collapsed": false
   },
   "outputs": [],
   "source": [
    "true_pred1 = true_pred.distinct()"
   ]
  },
  {
   "cell_type": "code",
   "execution_count": 35,
   "metadata": {
    "collapsed": false
   },
   "outputs": [
    {
     "data": {
      "text/plain": [
       "[((5939760, 10), (1.0, 3.840286517778763)),\n",
       " ((5809016, 18), (1.0, 8.126538989529486)),\n",
       " ((5930550, 16), (1.0, 1.0442273593396028)),\n",
       " ((5962544, 18), (1.0, 4.737447060300018)),\n",
       " ((5934639, 10), (1.0, 5.622091706032647))]"
      ]
     },
     "execution_count": 35,
     "metadata": {},
     "output_type": "execute_result"
    }
   ],
   "source": [
    "true_pred1.take(5)"
   ]
  },
  {
   "cell_type": "code",
   "execution_count": 36,
   "metadata": {
    "collapsed": false
   },
   "outputs": [
    {
     "data": {
      "text/plain": [
       "1140"
      ]
     },
     "execution_count": 36,
     "metadata": {},
     "output_type": "execute_result"
    }
   ],
   "source": [
    "true_pred1.count()"
   ]
  },
  {
   "cell_type": "code",
   "execution_count": 37,
   "metadata": {
    "collapsed": true
   },
   "outputs": [],
   "source": [
    "from math import sqrt"
   ]
  },
  {
   "cell_type": "code",
   "execution_count": 38,
   "metadata": {
    "collapsed": true
   },
   "outputs": [],
   "source": [
    "MSE = true_pred1.map(lambda r: (r[1][0] - r[1][1])**2).mean()"
   ]
  },
  {
   "cell_type": "code",
   "execution_count": 39,
   "metadata": {
    "collapsed": true
   },
   "outputs": [],
   "source": [
    "RMSE = sqrt(MSE)"
   ]
  },
  {
   "cell_type": "code",
   "execution_count": 40,
   "metadata": {
    "collapsed": false
   },
   "outputs": [
    {
     "data": {
      "text/plain": [
       "6.615543338033035"
      ]
     },
     "execution_count": 40,
     "metadata": {},
     "output_type": "execute_result"
    }
   ],
   "source": [
    "RMSE"
   ]
  },
  {
   "cell_type": "code",
   "execution_count": 41,
   "metadata": {
    "collapsed": true
   },
   "outputs": [],
   "source": [
    "test_input = test.map(lambda x:(x[0],x[1]))"
   ]
  },
  {
   "cell_type": "code",
   "execution_count": 42,
   "metadata": {
    "collapsed": true
   },
   "outputs": [],
   "source": [
    "pred_test = model.predictAll(test_input)"
   ]
  },
  {
   "cell_type": "code",
   "execution_count": 43,
   "metadata": {
    "collapsed": false
   },
   "outputs": [],
   "source": [
    "pred_test1 = pred_test.distinct()"
   ]
  },
  {
   "cell_type": "code",
   "execution_count": 44,
   "metadata": {
    "collapsed": false
   },
   "outputs": [
    {
     "data": {
      "text/plain": [
       "[Rating(user=2935298, product=18, rating=5.615681836066915),\n",
       " Rating(user=6066007, product=18, rating=4.737447060300018),\n",
       " Rating(user=6035126, product=4, rating=9.640016068494987),\n",
       " Rating(user=36843, product=18, rating=5.615681836066915),\n",
       " Rating(user=4488376, product=4, rating=11.843196248679135)]"
      ]
     },
     "execution_count": 44,
     "metadata": {},
     "output_type": "execute_result"
    }
   ],
   "source": [
    "pred_test1.take(5)"
   ]
  },
  {
   "cell_type": "code",
   "execution_count": 45,
   "metadata": {
    "collapsed": false
   },
   "outputs": [
    {
     "data": {
      "text/plain": [
       "1083"
      ]
     },
     "execution_count": 45,
     "metadata": {},
     "output_type": "execute_result"
    }
   ],
   "source": [
    "pred_test1.count()"
   ]
  },
  {
   "cell_type": "code",
   "execution_count": 46,
   "metadata": {
    "collapsed": true
   },
   "outputs": [],
   "source": [
    "test_reorg = test.map(lambda x:((x[0],x[1]), x[2]))"
   ]
  },
  {
   "cell_type": "code",
   "execution_count": 47,
   "metadata": {
    "collapsed": true
   },
   "outputs": [],
   "source": [
    "pred_reorg = pred_test1.map(lambda x:((x[0],x[1]), x[2]))"
   ]
  },
  {
   "cell_type": "code",
   "execution_count": 48,
   "metadata": {
    "collapsed": true
   },
   "outputs": [],
   "source": [
    "test_pred = test_reorg.join(pred_reorg)"
   ]
  },
  {
   "cell_type": "code",
   "execution_count": 49,
   "metadata": {
    "collapsed": false
   },
   "outputs": [],
   "source": [
    "test_pred1 = test_pred.distinct()"
   ]
  },
  {
   "cell_type": "code",
   "execution_count": 50,
   "metadata": {
    "collapsed": false
   },
   "outputs": [
    {
     "data": {
      "text/plain": [
       "[((5939760, 10), (1.0, 3.840286517778763)),\n",
       " ((5809016, 18), (1.0, 8.126538989529486)),\n",
       " ((5930550, 16), (1.0, 1.0442273593396028)),\n",
       " ((5962544, 18), (1.0, 4.737447060300018)),\n",
       " ((5934639, 10), (1.0, 5.622091706032647))]"
      ]
     },
     "execution_count": 50,
     "metadata": {},
     "output_type": "execute_result"
    }
   ],
   "source": [
    "test_pred1.take(5)"
   ]
  },
  {
   "cell_type": "code",
   "execution_count": 51,
   "metadata": {
    "collapsed": false
   },
   "outputs": [
    {
     "data": {
      "text/plain": [
       "1083"
      ]
     },
     "execution_count": 51,
     "metadata": {},
     "output_type": "execute_result"
    }
   ],
   "source": [
    "test_pred1.count()"
   ]
  },
  {
   "cell_type": "code",
   "execution_count": 52,
   "metadata": {
    "collapsed": true
   },
   "outputs": [],
   "source": [
    "test_MSE = test_pred1.map(lambda r: (r[1][0] - r[1][1])**2).mean()"
   ]
  },
  {
   "cell_type": "code",
   "execution_count": 53,
   "metadata": {
    "collapsed": true
   },
   "outputs": [],
   "source": [
    "test_RMSE = sqrt(test_MSE)"
   ]
  },
  {
   "cell_type": "code",
   "execution_count": 54,
   "metadata": {
    "collapsed": false
   },
   "outputs": [
    {
     "data": {
      "text/plain": [
       "6.690816574782381"
      ]
     },
     "execution_count": 54,
     "metadata": {},
     "output_type": "execute_result"
    }
   ],
   "source": [
    "test_RMSE"
   ]
  },
  {
   "cell_type": "code",
   "execution_count": null,
   "metadata": {
    "collapsed": true
   },
   "outputs": [],
   "source": []
  },
  {
   "cell_type": "code",
   "execution_count": null,
   "metadata": {
    "collapsed": true
   },
   "outputs": [],
   "source": []
  },
  {
   "cell_type": "code",
   "execution_count": null,
   "metadata": {
    "collapsed": true
   },
   "outputs": [],
   "source": []
  },
  {
   "cell_type": "code",
   "execution_count": null,
   "metadata": {
    "collapsed": true
   },
   "outputs": [],
   "source": []
  },
  {
   "cell_type": "code",
   "execution_count": null,
   "metadata": {
    "collapsed": true
   },
   "outputs": [],
   "source": []
  },
  {
   "cell_type": "code",
   "execution_count": null,
   "metadata": {
    "collapsed": true
   },
   "outputs": [],
   "source": []
  }
 ],
 "metadata": {
  "kernelspec": {
   "display_name": "Python 2",
   "language": "python",
   "name": "python2"
  },
  "language_info": {
   "codemirror_mode": {
    "name": "ipython",
    "version": 2
   },
   "file_extension": ".py",
   "mimetype": "text/x-python",
   "name": "python",
   "nbconvert_exporter": "python",
   "pygments_lexer": "ipython2",
   "version": "2.7.11"
  }
 },
 "nbformat": 4,
 "nbformat_minor": 0
}
