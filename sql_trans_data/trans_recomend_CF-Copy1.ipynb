{
 "cells": [
  {
   "cell_type": "code",
   "execution_count": 1,
   "metadata": {
    "collapsed": false
   },
   "outputs": [
    {
     "name": "stdout",
     "output_type": "stream",
     "text": [
      "/home/ubuntu\n"
     ]
    }
   ],
   "source": [
    "cd"
   ]
  },
  {
   "cell_type": "code",
   "execution_count": 2,
   "metadata": {
    "collapsed": true
   },
   "outputs": [],
   "source": [
    "from DemoServerDB import ConnectDatabase"
   ]
  },
  {
   "cell_type": "code",
   "execution_count": 3,
   "metadata": {
    "collapsed": true
   },
   "outputs": [],
   "source": [
    "temp = ConnectDatabase()"
   ]
  },
  {
   "cell_type": "code",
   "execution_count": 4,
   "metadata": {
    "collapsed": false
   },
   "outputs": [
    {
     "data": {
      "text/plain": [
       "<DemoServerDB.ConnectDatabase instance at 0x7efff01813b0>"
      ]
     },
     "execution_count": 4,
     "metadata": {},
     "output_type": "execute_result"
    }
   ],
   "source": [
    "temp"
   ]
  },
  {
   "cell_type": "code",
   "execution_count": 5,
   "metadata": {
    "collapsed": true
   },
   "outputs": [],
   "source": [
    "temp.cur.execute('SELECT * from trans')"
   ]
  },
  {
   "cell_type": "code",
   "execution_count": 6,
   "metadata": {
    "collapsed": true
   },
   "outputs": [],
   "source": [
    "trans = temp.cur.fetchall()"
   ]
  },
  {
   "cell_type": "code",
   "execution_count": 7,
   "metadata": {
    "collapsed": false
   },
   "outputs": [
    {
     "data": {
      "text/plain": [
       "('com.gopaktor.subscription.v4.premium.1m',\n",
       " '1950705',\n",
       " 28.98,\n",
       " '2016-09-07 02:25:39',\n",
       " 0,\n",
       " '6093827',\n",
       " 0,\n",
       " 'android',\n",
       " 0)"
      ]
     },
     "execution_count": 7,
     "metadata": {},
     "output_type": "execute_result"
    }
   ],
   "source": [
    "trans[0]"
   ]
  },
  {
   "cell_type": "code",
   "execution_count": 8,
   "metadata": {
    "collapsed": true
   },
   "outputs": [],
   "source": [
    "colnames = [desc[0] for desc in temp.cur.description]"
   ]
  },
  {
   "cell_type": "code",
   "execution_count": 9,
   "metadata": {
    "collapsed": false
   },
   "outputs": [
    {
     "data": {
      "text/plain": [
       "['product_id',\n",
       " 'receipt_id',\n",
       " 'revenue',\n",
       " 'purchase_date',\n",
       " 'renewal',\n",
       " 'userid',\n",
       " 'insider',\n",
       " 'platform',\n",
       " 'quantity']"
      ]
     },
     "execution_count": 9,
     "metadata": {},
     "output_type": "execute_result"
    }
   ],
   "source": [
    "colnames"
   ]
  },
  {
   "cell_type": "code",
   "execution_count": 10,
   "metadata": {
    "collapsed": true
   },
   "outputs": [],
   "source": [
    "import yaml\n",
    "with open('/home/ubuntu/MappingBuffer.yml', 'r') as f:\n",
    "    doc = yaml.load(f)"
   ]
  },
  {
   "cell_type": "code",
   "execution_count": 11,
   "metadata": {
    "collapsed": false
   },
   "outputs": [
    {
     "data": {
      "text/plain": [
       "'userid'"
      ]
     },
     "execution_count": 11,
     "metadata": {},
     "output_type": "execute_result"
    }
   ],
   "source": [
    "doc['column_map']['TRANSACTION_MASTER']['cust_id']"
   ]
  },
  {
   "cell_type": "code",
   "execution_count": 12,
   "metadata": {
    "collapsed": true
   },
   "outputs": [],
   "source": [
    "import pandas as pd\n",
    "import numpy as np"
   ]
  },
  {
   "cell_type": "code",
   "execution_count": 13,
   "metadata": {
    "collapsed": true
   },
   "outputs": [],
   "source": [
    "trans_df = pd.DataFrame(trans)"
   ]
  },
  {
   "cell_type": "code",
   "execution_count": 14,
   "metadata": {
    "collapsed": false
   },
   "outputs": [
    {
     "data": {
      "text/html": [
       "<div>\n",
       "<table border=\"1\" class=\"dataframe\">\n",
       "  <thead>\n",
       "    <tr style=\"text-align: right;\">\n",
       "      <th></th>\n",
       "      <th>0</th>\n",
       "      <th>1</th>\n",
       "      <th>2</th>\n",
       "      <th>3</th>\n",
       "      <th>4</th>\n",
       "      <th>5</th>\n",
       "      <th>6</th>\n",
       "      <th>7</th>\n",
       "      <th>8</th>\n",
       "    </tr>\n",
       "  </thead>\n",
       "  <tbody>\n",
       "    <tr>\n",
       "      <th>0</th>\n",
       "      <td>com.gopaktor.subscription.v4.premium.1m</td>\n",
       "      <td>1950705</td>\n",
       "      <td>28.98</td>\n",
       "      <td>2016-09-07 02:25:39</td>\n",
       "      <td>0</td>\n",
       "      <td>6093827</td>\n",
       "      <td>0</td>\n",
       "      <td>android</td>\n",
       "      <td>0</td>\n",
       "    </tr>\n",
       "    <tr>\n",
       "      <th>1</th>\n",
       "      <td>com.gopaktor.subscription.v4.premium.1m</td>\n",
       "      <td>1388808</td>\n",
       "      <td>28.98</td>\n",
       "      <td>2016-07-07 17:54:01</td>\n",
       "      <td>1</td>\n",
       "      <td>110380</td>\n",
       "      <td>0</td>\n",
       "      <td>android</td>\n",
       "      <td>0</td>\n",
       "    </tr>\n",
       "    <tr>\n",
       "      <th>2</th>\n",
       "      <td>com.gopaktor.subscription.v4.premium.1m</td>\n",
       "      <td>1409469</td>\n",
       "      <td>28.98</td>\n",
       "      <td>2016-06-10 17:54:00</td>\n",
       "      <td>1</td>\n",
       "      <td>131057</td>\n",
       "      <td>0</td>\n",
       "      <td>android</td>\n",
       "      <td>0</td>\n",
       "    </tr>\n",
       "    <tr>\n",
       "      <th>3</th>\n",
       "      <td>com.gopaktor.subscription.v4.premium.1m</td>\n",
       "      <td>1853800</td>\n",
       "      <td>28.98</td>\n",
       "      <td>2016-07-27 18:53:07</td>\n",
       "      <td>0</td>\n",
       "      <td>133977</td>\n",
       "      <td>0</td>\n",
       "      <td>android</td>\n",
       "      <td>0</td>\n",
       "    </tr>\n",
       "    <tr>\n",
       "      <th>4</th>\n",
       "      <td>com.gopaktor.subscription.v4.premium.1m</td>\n",
       "      <td>1810983</td>\n",
       "      <td>28.98</td>\n",
       "      <td>2016-07-06 10:18:42</td>\n",
       "      <td>0</td>\n",
       "      <td>171879</td>\n",
       "      <td>0</td>\n",
       "      <td>android</td>\n",
       "      <td>0</td>\n",
       "    </tr>\n",
       "  </tbody>\n",
       "</table>\n",
       "</div>"
      ],
      "text/plain": [
       "                                         0        1      2  \\\n",
       "0  com.gopaktor.subscription.v4.premium.1m  1950705  28.98   \n",
       "1  com.gopaktor.subscription.v4.premium.1m  1388808  28.98   \n",
       "2  com.gopaktor.subscription.v4.premium.1m  1409469  28.98   \n",
       "3  com.gopaktor.subscription.v4.premium.1m  1853800  28.98   \n",
       "4  com.gopaktor.subscription.v4.premium.1m  1810983  28.98   \n",
       "\n",
       "                     3  4        5  6        7  8  \n",
       "0  2016-09-07 02:25:39  0  6093827  0  android  0  \n",
       "1  2016-07-07 17:54:01  1   110380  0  android  0  \n",
       "2  2016-06-10 17:54:00  1   131057  0  android  0  \n",
       "3  2016-07-27 18:53:07  0   133977  0  android  0  \n",
       "4  2016-07-06 10:18:42  0   171879  0  android  0  "
      ]
     },
     "execution_count": 14,
     "metadata": {},
     "output_type": "execute_result"
    }
   ],
   "source": [
    "trans_df.head()\n"
   ]
  },
  {
   "cell_type": "code",
   "execution_count": 15,
   "metadata": {
    "collapsed": true
   },
   "outputs": [],
   "source": [
    "trans_df.columns = colnames"
   ]
  },
  {
   "cell_type": "code",
   "execution_count": 16,
   "metadata": {
    "collapsed": false
   },
   "outputs": [
    {
     "data": {
      "text/html": [
       "<div>\n",
       "<table border=\"1\" class=\"dataframe\">\n",
       "  <thead>\n",
       "    <tr style=\"text-align: right;\">\n",
       "      <th></th>\n",
       "      <th>product_id</th>\n",
       "      <th>receipt_id</th>\n",
       "      <th>revenue</th>\n",
       "      <th>purchase_date</th>\n",
       "      <th>renewal</th>\n",
       "      <th>userid</th>\n",
       "      <th>insider</th>\n",
       "      <th>platform</th>\n",
       "      <th>quantity</th>\n",
       "    </tr>\n",
       "  </thead>\n",
       "  <tbody>\n",
       "    <tr>\n",
       "      <th>0</th>\n",
       "      <td>com.gopaktor.subscription.v4.premium.1m</td>\n",
       "      <td>1950705</td>\n",
       "      <td>28.98</td>\n",
       "      <td>2016-09-07 02:25:39</td>\n",
       "      <td>0</td>\n",
       "      <td>6093827</td>\n",
       "      <td>0</td>\n",
       "      <td>android</td>\n",
       "      <td>0</td>\n",
       "    </tr>\n",
       "    <tr>\n",
       "      <th>1</th>\n",
       "      <td>com.gopaktor.subscription.v4.premium.1m</td>\n",
       "      <td>1388808</td>\n",
       "      <td>28.98</td>\n",
       "      <td>2016-07-07 17:54:01</td>\n",
       "      <td>1</td>\n",
       "      <td>110380</td>\n",
       "      <td>0</td>\n",
       "      <td>android</td>\n",
       "      <td>0</td>\n",
       "    </tr>\n",
       "    <tr>\n",
       "      <th>2</th>\n",
       "      <td>com.gopaktor.subscription.v4.premium.1m</td>\n",
       "      <td>1409469</td>\n",
       "      <td>28.98</td>\n",
       "      <td>2016-06-10 17:54:00</td>\n",
       "      <td>1</td>\n",
       "      <td>131057</td>\n",
       "      <td>0</td>\n",
       "      <td>android</td>\n",
       "      <td>0</td>\n",
       "    </tr>\n",
       "    <tr>\n",
       "      <th>3</th>\n",
       "      <td>com.gopaktor.subscription.v4.premium.1m</td>\n",
       "      <td>1853800</td>\n",
       "      <td>28.98</td>\n",
       "      <td>2016-07-27 18:53:07</td>\n",
       "      <td>0</td>\n",
       "      <td>133977</td>\n",
       "      <td>0</td>\n",
       "      <td>android</td>\n",
       "      <td>0</td>\n",
       "    </tr>\n",
       "    <tr>\n",
       "      <th>4</th>\n",
       "      <td>com.gopaktor.subscription.v4.premium.1m</td>\n",
       "      <td>1810983</td>\n",
       "      <td>28.98</td>\n",
       "      <td>2016-07-06 10:18:42</td>\n",
       "      <td>0</td>\n",
       "      <td>171879</td>\n",
       "      <td>0</td>\n",
       "      <td>android</td>\n",
       "      <td>0</td>\n",
       "    </tr>\n",
       "    <tr>\n",
       "      <th>5</th>\n",
       "      <td>com.gopaktor.subscription.v4.premium.1m</td>\n",
       "      <td>1358694</td>\n",
       "      <td>28.98</td>\n",
       "      <td>2016-07-04 04:36:00</td>\n",
       "      <td>1</td>\n",
       "      <td>194181</td>\n",
       "      <td>0</td>\n",
       "      <td>android</td>\n",
       "      <td>0</td>\n",
       "    </tr>\n",
       "  </tbody>\n",
       "</table>\n",
       "</div>"
      ],
      "text/plain": [
       "                                product_id receipt_id  revenue  \\\n",
       "0  com.gopaktor.subscription.v4.premium.1m    1950705    28.98   \n",
       "1  com.gopaktor.subscription.v4.premium.1m    1388808    28.98   \n",
       "2  com.gopaktor.subscription.v4.premium.1m    1409469    28.98   \n",
       "3  com.gopaktor.subscription.v4.premium.1m    1853800    28.98   \n",
       "4  com.gopaktor.subscription.v4.premium.1m    1810983    28.98   \n",
       "5  com.gopaktor.subscription.v4.premium.1m    1358694    28.98   \n",
       "\n",
       "         purchase_date  renewal   userid  insider platform  quantity  \n",
       "0  2016-09-07 02:25:39        0  6093827        0  android         0  \n",
       "1  2016-07-07 17:54:01        1   110380        0  android         0  \n",
       "2  2016-06-10 17:54:00        1   131057        0  android         0  \n",
       "3  2016-07-27 18:53:07        0   133977        0  android         0  \n",
       "4  2016-07-06 10:18:42        0   171879        0  android         0  \n",
       "5  2016-07-04 04:36:00        1   194181        0  android         0  "
      ]
     },
     "execution_count": 16,
     "metadata": {},
     "output_type": "execute_result"
    }
   ],
   "source": [
    "trans_df.head(6)"
   ]
  },
  {
   "cell_type": "code",
   "execution_count": 17,
   "metadata": {
    "collapsed": true
   },
   "outputs": [],
   "source": [
    "trans_df.rename(columns={doc['column_map']['TRANSACTION_MASTER']['cust_id']:'cust_id'}, inplace = True)\n",
    "trans_df.rename(columns={doc['column_map']['TRANSACTION_MASTER']['revenue']:'revenue'}, inplace = True)\n",
    "trans_df.rename(columns={doc['column_map']['TRANSACTION_MASTER']['product_id']:'product_id'}, inplace = True)\n",
    "trans_df.rename(columns={doc['column_map']['TRANSACTION_MASTER']['timestamp']:'timestamp'}, inplace = True)"
   ]
  },
  {
   "cell_type": "code",
   "execution_count": 18,
   "metadata": {
    "collapsed": false
   },
   "outputs": [
    {
     "data": {
      "text/html": [
       "<div>\n",
       "<table border=\"1\" class=\"dataframe\">\n",
       "  <thead>\n",
       "    <tr style=\"text-align: right;\">\n",
       "      <th></th>\n",
       "      <th>product_id</th>\n",
       "      <th>receipt_id</th>\n",
       "      <th>revenue</th>\n",
       "      <th>timestamp</th>\n",
       "      <th>renewal</th>\n",
       "      <th>cust_id</th>\n",
       "      <th>insider</th>\n",
       "      <th>platform</th>\n",
       "      <th>quantity</th>\n",
       "    </tr>\n",
       "  </thead>\n",
       "  <tbody>\n",
       "    <tr>\n",
       "      <th>0</th>\n",
       "      <td>com.gopaktor.subscription.v4.premium.1m</td>\n",
       "      <td>1950705</td>\n",
       "      <td>28.98</td>\n",
       "      <td>2016-09-07 02:25:39</td>\n",
       "      <td>0</td>\n",
       "      <td>6093827</td>\n",
       "      <td>0</td>\n",
       "      <td>android</td>\n",
       "      <td>0</td>\n",
       "    </tr>\n",
       "    <tr>\n",
       "      <th>1</th>\n",
       "      <td>com.gopaktor.subscription.v4.premium.1m</td>\n",
       "      <td>1388808</td>\n",
       "      <td>28.98</td>\n",
       "      <td>2016-07-07 17:54:01</td>\n",
       "      <td>1</td>\n",
       "      <td>110380</td>\n",
       "      <td>0</td>\n",
       "      <td>android</td>\n",
       "      <td>0</td>\n",
       "    </tr>\n",
       "    <tr>\n",
       "      <th>2</th>\n",
       "      <td>com.gopaktor.subscription.v4.premium.1m</td>\n",
       "      <td>1409469</td>\n",
       "      <td>28.98</td>\n",
       "      <td>2016-06-10 17:54:00</td>\n",
       "      <td>1</td>\n",
       "      <td>131057</td>\n",
       "      <td>0</td>\n",
       "      <td>android</td>\n",
       "      <td>0</td>\n",
       "    </tr>\n",
       "    <tr>\n",
       "      <th>3</th>\n",
       "      <td>com.gopaktor.subscription.v4.premium.1m</td>\n",
       "      <td>1853800</td>\n",
       "      <td>28.98</td>\n",
       "      <td>2016-07-27 18:53:07</td>\n",
       "      <td>0</td>\n",
       "      <td>133977</td>\n",
       "      <td>0</td>\n",
       "      <td>android</td>\n",
       "      <td>0</td>\n",
       "    </tr>\n",
       "    <tr>\n",
       "      <th>4</th>\n",
       "      <td>com.gopaktor.subscription.v4.premium.1m</td>\n",
       "      <td>1810983</td>\n",
       "      <td>28.98</td>\n",
       "      <td>2016-07-06 10:18:42</td>\n",
       "      <td>0</td>\n",
       "      <td>171879</td>\n",
       "      <td>0</td>\n",
       "      <td>android</td>\n",
       "      <td>0</td>\n",
       "    </tr>\n",
       "    <tr>\n",
       "      <th>5</th>\n",
       "      <td>com.gopaktor.subscription.v4.premium.1m</td>\n",
       "      <td>1358694</td>\n",
       "      <td>28.98</td>\n",
       "      <td>2016-07-04 04:36:00</td>\n",
       "      <td>1</td>\n",
       "      <td>194181</td>\n",
       "      <td>0</td>\n",
       "      <td>android</td>\n",
       "      <td>0</td>\n",
       "    </tr>\n",
       "  </tbody>\n",
       "</table>\n",
       "</div>"
      ],
      "text/plain": [
       "                                product_id receipt_id  revenue  \\\n",
       "0  com.gopaktor.subscription.v4.premium.1m    1950705    28.98   \n",
       "1  com.gopaktor.subscription.v4.premium.1m    1388808    28.98   \n",
       "2  com.gopaktor.subscription.v4.premium.1m    1409469    28.98   \n",
       "3  com.gopaktor.subscription.v4.premium.1m    1853800    28.98   \n",
       "4  com.gopaktor.subscription.v4.premium.1m    1810983    28.98   \n",
       "5  com.gopaktor.subscription.v4.premium.1m    1358694    28.98   \n",
       "\n",
       "             timestamp  renewal  cust_id  insider platform  quantity  \n",
       "0  2016-09-07 02:25:39        0  6093827        0  android         0  \n",
       "1  2016-07-07 17:54:01        1   110380        0  android         0  \n",
       "2  2016-06-10 17:54:00        1   131057        0  android         0  \n",
       "3  2016-07-27 18:53:07        0   133977        0  android         0  \n",
       "4  2016-07-06 10:18:42        0   171879        0  android         0  \n",
       "5  2016-07-04 04:36:00        1   194181        0  android         0  "
      ]
     },
     "execution_count": 18,
     "metadata": {},
     "output_type": "execute_result"
    }
   ],
   "source": [
    "trans_df.head(6)"
   ]
  },
  {
   "cell_type": "code",
   "execution_count": 19,
   "metadata": {
    "collapsed": false
   },
   "outputs": [],
   "source": [
    "cust_prod = trans_df.drop(['receipt_id','renewal','revenue','insider','platform','quantity','timestamp'],1)"
   ]
  },
  {
   "cell_type": "code",
   "execution_count": 20,
   "metadata": {
    "collapsed": false
   },
   "outputs": [
    {
     "data": {
      "text/html": [
       "<div>\n",
       "<table border=\"1\" class=\"dataframe\">\n",
       "  <thead>\n",
       "    <tr style=\"text-align: right;\">\n",
       "      <th></th>\n",
       "      <th>product_id</th>\n",
       "      <th>cust_id</th>\n",
       "    </tr>\n",
       "  </thead>\n",
       "  <tbody>\n",
       "    <tr>\n",
       "      <th>0</th>\n",
       "      <td>com.gopaktor.subscription.v4.premium.1m</td>\n",
       "      <td>6093827</td>\n",
       "    </tr>\n",
       "    <tr>\n",
       "      <th>1</th>\n",
       "      <td>com.gopaktor.subscription.v4.premium.1m</td>\n",
       "      <td>110380</td>\n",
       "    </tr>\n",
       "    <tr>\n",
       "      <th>2</th>\n",
       "      <td>com.gopaktor.subscription.v4.premium.1m</td>\n",
       "      <td>131057</td>\n",
       "    </tr>\n",
       "    <tr>\n",
       "      <th>3</th>\n",
       "      <td>com.gopaktor.subscription.v4.premium.1m</td>\n",
       "      <td>133977</td>\n",
       "    </tr>\n",
       "    <tr>\n",
       "      <th>4</th>\n",
       "      <td>com.gopaktor.subscription.v4.premium.1m</td>\n",
       "      <td>171879</td>\n",
       "    </tr>\n",
       "    <tr>\n",
       "      <th>5</th>\n",
       "      <td>com.gopaktor.subscription.v4.premium.1m</td>\n",
       "      <td>194181</td>\n",
       "    </tr>\n",
       "  </tbody>\n",
       "</table>\n",
       "</div>"
      ],
      "text/plain": [
       "                                product_id  cust_id\n",
       "0  com.gopaktor.subscription.v4.premium.1m  6093827\n",
       "1  com.gopaktor.subscription.v4.premium.1m   110380\n",
       "2  com.gopaktor.subscription.v4.premium.1m   131057\n",
       "3  com.gopaktor.subscription.v4.premium.1m   133977\n",
       "4  com.gopaktor.subscription.v4.premium.1m   171879\n",
       "5  com.gopaktor.subscription.v4.premium.1m   194181"
      ]
     },
     "execution_count": 20,
     "metadata": {},
     "output_type": "execute_result"
    }
   ],
   "source": [
    "cust_prod.head(6)"
   ]
  },
  {
   "cell_type": "code",
   "execution_count": 21,
   "metadata": {
    "collapsed": true
   },
   "outputs": [],
   "source": [
    "values = pd.DataFrame([1]*len(cust_prod))"
   ]
  },
  {
   "cell_type": "code",
   "execution_count": 22,
   "metadata": {
    "collapsed": false
   },
   "outputs": [
    {
     "data": {
      "text/html": [
       "<div>\n",
       "<table border=\"1\" class=\"dataframe\">\n",
       "  <thead>\n",
       "    <tr style=\"text-align: right;\">\n",
       "      <th></th>\n",
       "      <th>0</th>\n",
       "    </tr>\n",
       "  </thead>\n",
       "  <tbody>\n",
       "    <tr>\n",
       "      <th>0</th>\n",
       "      <td>1</td>\n",
       "    </tr>\n",
       "    <tr>\n",
       "      <th>1</th>\n",
       "      <td>1</td>\n",
       "    </tr>\n",
       "    <tr>\n",
       "      <th>2</th>\n",
       "      <td>1</td>\n",
       "    </tr>\n",
       "    <tr>\n",
       "      <th>3</th>\n",
       "      <td>1</td>\n",
       "    </tr>\n",
       "    <tr>\n",
       "      <th>4</th>\n",
       "      <td>1</td>\n",
       "    </tr>\n",
       "    <tr>\n",
       "      <th>5</th>\n",
       "      <td>1</td>\n",
       "    </tr>\n",
       "  </tbody>\n",
       "</table>\n",
       "</div>"
      ],
      "text/plain": [
       "   0\n",
       "0  1\n",
       "1  1\n",
       "2  1\n",
       "3  1\n",
       "4  1\n",
       "5  1"
      ]
     },
     "execution_count": 22,
     "metadata": {},
     "output_type": "execute_result"
    }
   ],
   "source": [
    "values.head(6)"
   ]
  },
  {
   "cell_type": "code",
   "execution_count": 23,
   "metadata": {
    "collapsed": false
   },
   "outputs": [],
   "source": [
    "values.rename(columns={0:'value'}, inplace=True)"
   ]
  },
  {
   "cell_type": "code",
   "execution_count": 24,
   "metadata": {
    "collapsed": false
   },
   "outputs": [],
   "source": [
    "cust_prod_df = pd.concat([cust_prod,values],axis=1)"
   ]
  },
  {
   "cell_type": "code",
   "execution_count": 25,
   "metadata": {
    "collapsed": false
   },
   "outputs": [
    {
     "data": {
      "text/html": [
       "<div>\n",
       "<table border=\"1\" class=\"dataframe\">\n",
       "  <thead>\n",
       "    <tr style=\"text-align: right;\">\n",
       "      <th></th>\n",
       "      <th>product_id</th>\n",
       "      <th>cust_id</th>\n",
       "      <th>value</th>\n",
       "    </tr>\n",
       "  </thead>\n",
       "  <tbody>\n",
       "    <tr>\n",
       "      <th>0</th>\n",
       "      <td>com.gopaktor.subscription.v4.premium.1m</td>\n",
       "      <td>6093827</td>\n",
       "      <td>1</td>\n",
       "    </tr>\n",
       "    <tr>\n",
       "      <th>1</th>\n",
       "      <td>com.gopaktor.subscription.v4.premium.1m</td>\n",
       "      <td>110380</td>\n",
       "      <td>1</td>\n",
       "    </tr>\n",
       "    <tr>\n",
       "      <th>2</th>\n",
       "      <td>com.gopaktor.subscription.v4.premium.1m</td>\n",
       "      <td>131057</td>\n",
       "      <td>1</td>\n",
       "    </tr>\n",
       "    <tr>\n",
       "      <th>3</th>\n",
       "      <td>com.gopaktor.subscription.v4.premium.1m</td>\n",
       "      <td>133977</td>\n",
       "      <td>1</td>\n",
       "    </tr>\n",
       "    <tr>\n",
       "      <th>4</th>\n",
       "      <td>com.gopaktor.subscription.v4.premium.1m</td>\n",
       "      <td>171879</td>\n",
       "      <td>1</td>\n",
       "    </tr>\n",
       "    <tr>\n",
       "      <th>5</th>\n",
       "      <td>com.gopaktor.subscription.v4.premium.1m</td>\n",
       "      <td>194181</td>\n",
       "      <td>1</td>\n",
       "    </tr>\n",
       "  </tbody>\n",
       "</table>\n",
       "</div>"
      ],
      "text/plain": [
       "                                product_id  cust_id  value\n",
       "0  com.gopaktor.subscription.v4.premium.1m  6093827      1\n",
       "1  com.gopaktor.subscription.v4.premium.1m   110380      1\n",
       "2  com.gopaktor.subscription.v4.premium.1m   131057      1\n",
       "3  com.gopaktor.subscription.v4.premium.1m   133977      1\n",
       "4  com.gopaktor.subscription.v4.premium.1m   171879      1\n",
       "5  com.gopaktor.subscription.v4.premium.1m   194181      1"
      ]
     },
     "execution_count": 25,
     "metadata": {},
     "output_type": "execute_result"
    }
   ],
   "source": [
    "cust_prod_df.head(6)"
   ]
  },
  {
   "cell_type": "code",
   "execution_count": 26,
   "metadata": {
    "collapsed": false
   },
   "outputs": [],
   "source": [
    "cust_prod_mat = cust_prod_df.pivot_table(index = 'cust_id', columns='product_id', values='value')"
   ]
  },
  {
   "cell_type": "code",
   "execution_count": null,
   "metadata": {
    "collapsed": false
   },
   "outputs": [],
   "source": [
    "cust_prod_mat.head(6)"
   ]
  },
  {
   "cell_type": "code",
   "execution_count": null,
   "metadata": {
    "collapsed": true
   },
   "outputs": [],
   "source": [
    "del cust_prod_mat.index.name"
   ]
  },
  {
   "cell_type": "code",
   "execution_count": null,
   "metadata": {
    "collapsed": true
   },
   "outputs": [],
   "source": [
    "del cust_prod_mat.columns.name"
   ]
  },
  {
   "cell_type": "code",
   "execution_count": null,
   "metadata": {
    "collapsed": true
   },
   "outputs": [],
   "source": [
    "cust_prod_mat.reset_index(level=0, inplace=True)"
   ]
  },
  {
   "cell_type": "code",
   "execution_count": null,
   "metadata": {
    "collapsed": false
   },
   "outputs": [],
   "source": [
    "cust_prod_mat.head(6)"
   ]
  },
  {
   "cell_type": "code",
   "execution_count": null,
   "metadata": {
    "collapsed": false
   },
   "outputs": [],
   "source": [
    "cust_prod_mat.rename(columns={'index':'cust_id'}, inplace=True)"
   ]
  },
  {
   "cell_type": "code",
   "execution_count": null,
   "metadata": {
    "collapsed": false
   },
   "outputs": [],
   "source": [
    "cust_prod_mat = cust_prod_mat.fillna(0)"
   ]
  },
  {
   "cell_type": "code",
   "execution_count": null,
   "metadata": {
    "collapsed": false
   },
   "outputs": [],
   "source": [
    "cust_prod_mat.head(6)"
   ]
  },
  {
   "cell_type": "code",
   "execution_count": null,
   "metadata": {
    "collapsed": false
   },
   "outputs": [],
   "source": [
    "cust_prod_mat.shape"
   ]
  },
  {
   "cell_type": "markdown",
   "metadata": {},
   "source": [
    "## ITEM CF ##"
   ]
  },
  {
   "cell_type": "code",
   "execution_count": null,
   "metadata": {
    "collapsed": true
   },
   "outputs": [],
   "source": [
    "from scipy.spatial.distance import cosine"
   ]
  },
  {
   "cell_type": "code",
   "execution_count": null,
   "metadata": {
    "collapsed": true
   },
   "outputs": [],
   "source": [
    "data_user = cust_prod_mat.drop('cust_id', 1)"
   ]
  },
  {
   "cell_type": "code",
   "execution_count": null,
   "metadata": {
    "collapsed": false
   },
   "outputs": [],
   "source": [
    "data_ibs = pd.DataFrame(index=data_user.columns,columns=data_user.columns)"
   ]
  },
  {
   "cell_type": "code",
   "execution_count": null,
   "metadata": {
    "collapsed": false
   },
   "outputs": [],
   "source": [
    "for i in range(0,len(data_ibs.columns)) :\n",
    "    for j in range(0,len(data_ibs.columns)) :\n",
    "      data_ibs.ix[i,j] = 1-cosine(data_user.ix[:,i],data_user.ix[:,j])"
   ]
  },
  {
   "cell_type": "code",
   "execution_count": null,
   "metadata": {
    "collapsed": true
   },
   "outputs": [],
   "source": [
    "data_ibs.head(6)"
   ]
  },
  {
   "cell_type": "code",
   "execution_count": null,
   "metadata": {
    "collapsed": true
   },
   "outputs": [],
   "source": [
    "data_neighbours = pd.DataFrame(index=data_ibs.columns,columns=range(1,11))"
   ]
  },
  {
   "cell_type": "code",
   "execution_count": null,
   "metadata": {
    "collapsed": true
   },
   "outputs": [],
   "source": [
    "for i in range(0,len(data_ibs.columns)):\n",
    "    data_neighbours.ix[i,:10] = data_ibs.ix[0:,i].sort_values(ascending=False)[:10].index"
   ]
  },
  {
   "cell_type": "code",
   "execution_count": null,
   "metadata": {
    "collapsed": false
   },
   "outputs": [],
   "source": [
    "data_neighbours.head(6)"
   ]
  },
  {
   "cell_type": "markdown",
   "metadata": {},
   "source": [
    "## USER CF ##"
   ]
  },
  {
   "cell_type": "code",
   "execution_count": null,
   "metadata": {
    "collapsed": true
   },
   "outputs": [],
   "source": [
    "def getScore(history, similarities):\n",
    "   return sum(history*similarities)/sum(similarities)"
   ]
  },
  {
   "cell_type": "code",
   "execution_count": null,
   "metadata": {
    "collapsed": false
   },
   "outputs": [],
   "source": [
    "data_sims = pd.DataFrame(index=cust_prod_mat.index,columns=cust_prod_mat.columns)"
   ]
  },
  {
   "cell_type": "code",
   "execution_count": null,
   "metadata": {
    "collapsed": false
   },
   "outputs": [],
   "source": [
    "data_sims.head(6)"
   ]
  },
  {
   "cell_type": "code",
   "execution_count": null,
   "metadata": {
    "collapsed": true
   },
   "outputs": [],
   "source": [
    "data_sims.ix[:,:1] = cust_prod_mat.ix[:,:1]"
   ]
  },
  {
   "cell_type": "code",
   "execution_count": null,
   "metadata": {
    "collapsed": false
   },
   "outputs": [],
   "source": [
    "data_sims.head(6)"
   ]
  },
  {
   "cell_type": "code",
   "execution_count": null,
   "metadata": {
    "collapsed": false
   },
   "outputs": [],
   "source": [
    "for i in range(0,len(data_sims.index)):\n",
    "    for j in range(1,len(data_sims.columns)):\n",
    "        user = data_sims.index[i]\n",
    "        product = data_sims.columns[j]\n",
    " \n",
    "        if cust_prod_mat.ix[i][j] == 1:\n",
    "            data_sims.ix[i][j] = 0\n",
    "        else:\n",
    "            product_top_names = data_neighbours.ix[product][1:10]\n",
    "            product_top_sims = data_ibs.ix[product].sort_values(ascending=False)[1:10]\n",
    "            user_purchases = data_user.ix[user,product_top_names]\n",
    " \n",
    "            data_sims.ix[i][j] = getScore(user_purchases,product_top_sims)"
   ]
  },
  {
   "cell_type": "code",
   "execution_count": null,
   "metadata": {
    "collapsed": true
   },
   "outputs": [],
   "source": [
    "data_recommend = pd.DataFrame(index=data_sims.index, columns=['cust_id','1','2','3','4','5','6'])"
   ]
  },
  {
   "cell_type": "code",
   "execution_count": null,
   "metadata": {
    "collapsed": true
   },
   "outputs": [],
   "source": [
    "data_recommend.ix[0:,0] = data_sims.ix[:,0]"
   ]
  },
  {
   "cell_type": "code",
   "execution_count": null,
   "metadata": {
    "collapsed": true
   },
   "outputs": [],
   "source": [
    "for i in range(0,len(data_sims.index)):\n",
    "    data_recommend.ix[i,1:] = data_sims.ix[i,:].sort_values(ascending=False).ix[1:7,].index.transpose()"
   ]
  },
  {
   "cell_type": "code",
   "execution_count": null,
   "metadata": {
    "collapsed": false
   },
   "outputs": [],
   "source": [
    "data_recommend.head(6)"
   ]
  },
  {
   "cell_type": "code",
   "execution_count": null,
   "metadata": {
    "collapsed": true
   },
   "outputs": [],
   "source": []
  },
  {
   "cell_type": "code",
   "execution_count": null,
   "metadata": {
    "collapsed": true
   },
   "outputs": [],
   "source": [
    "cust_prod_df.to_csv('/home/ubuntu/sql_trans_data/cust_prod')"
   ]
  },
  {
   "cell_type": "code",
   "execution_count": 30,
   "metadata": {
    "collapsed": false
   },
   "outputs": [],
   "source": [
    "cust_prod_int = cust_prod_df"
   ]
  },
  {
   "cell_type": "code",
   "execution_count": 31,
   "metadata": {
    "collapsed": false
   },
   "outputs": [
    {
     "data": {
      "text/html": [
       "<div>\n",
       "<table border=\"1\" class=\"dataframe\">\n",
       "  <thead>\n",
       "    <tr style=\"text-align: right;\">\n",
       "      <th></th>\n",
       "      <th>product_id</th>\n",
       "      <th>cust_id</th>\n",
       "      <th>value</th>\n",
       "    </tr>\n",
       "  </thead>\n",
       "  <tbody>\n",
       "    <tr>\n",
       "      <th>0</th>\n",
       "      <td>com.gopaktor.subscription.v4.premium.1m</td>\n",
       "      <td>6093827</td>\n",
       "      <td>1</td>\n",
       "    </tr>\n",
       "    <tr>\n",
       "      <th>1</th>\n",
       "      <td>com.gopaktor.subscription.v4.premium.1m</td>\n",
       "      <td>110380</td>\n",
       "      <td>1</td>\n",
       "    </tr>\n",
       "    <tr>\n",
       "      <th>2</th>\n",
       "      <td>com.gopaktor.subscription.v4.premium.1m</td>\n",
       "      <td>131057</td>\n",
       "      <td>1</td>\n",
       "    </tr>\n",
       "    <tr>\n",
       "      <th>3</th>\n",
       "      <td>com.gopaktor.subscription.v4.premium.1m</td>\n",
       "      <td>133977</td>\n",
       "      <td>1</td>\n",
       "    </tr>\n",
       "    <tr>\n",
       "      <th>4</th>\n",
       "      <td>com.gopaktor.subscription.v4.premium.1m</td>\n",
       "      <td>171879</td>\n",
       "      <td>1</td>\n",
       "    </tr>\n",
       "    <tr>\n",
       "      <th>5</th>\n",
       "      <td>com.gopaktor.subscription.v4.premium.1m</td>\n",
       "      <td>194181</td>\n",
       "      <td>1</td>\n",
       "    </tr>\n",
       "  </tbody>\n",
       "</table>\n",
       "</div>"
      ],
      "text/plain": [
       "                                product_id  cust_id  value\n",
       "0  com.gopaktor.subscription.v4.premium.1m  6093827      1\n",
       "1  com.gopaktor.subscription.v4.premium.1m   110380      1\n",
       "2  com.gopaktor.subscription.v4.premium.1m   131057      1\n",
       "3  com.gopaktor.subscription.v4.premium.1m   133977      1\n",
       "4  com.gopaktor.subscription.v4.premium.1m   171879      1\n",
       "5  com.gopaktor.subscription.v4.premium.1m   194181      1"
      ]
     },
     "execution_count": 31,
     "metadata": {},
     "output_type": "execute_result"
    }
   ],
   "source": [
    "cust_prod_int.head(6)"
   ]
  },
  {
   "cell_type": "code",
   "execution_count": 32,
   "metadata": {
    "collapsed": false
   },
   "outputs": [],
   "source": [
    "cust_prod_int['product_id'] = cust_prod_int['product_id'].astype('category')"
   ]
  },
  {
   "cell_type": "code",
   "execution_count": 33,
   "metadata": {
    "collapsed": true
   },
   "outputs": [],
   "source": [
    "cust_prod_int['product_id'] = cust_prod_int['product_id'].cat.codes"
   ]
  },
  {
   "cell_type": "code",
   "execution_count": null,
   "metadata": {
    "collapsed": false
   },
   "outputs": [],
   "source": [
    "cust_prod_int.head(6)"
   ]
  },
  {
   "cell_type": "code",
   "execution_count": null,
   "metadata": {
    "collapsed": true
   },
   "outputs": [],
   "source": [
    "cust_prod_int.to_csv('/home/ubuntu/sql_trans_data/prod_int')"
   ]
  },
  {
   "cell_type": "code",
   "execution_count": null,
   "metadata": {
    "collapsed": false
   },
   "outputs": [],
   "source": [
    "type(cust_prod_int)"
   ]
  },
  {
   "cell_type": "code",
   "execution_count": null,
   "metadata": {
    "collapsed": false
   },
   "outputs": [],
   "source": []
  },
  {
   "cell_type": "code",
   "execution_count": null,
   "metadata": {
    "collapsed": true
   },
   "outputs": [],
   "source": []
  },
  {
   "cell_type": "code",
   "execution_count": null,
   "metadata": {
    "collapsed": true
   },
   "outputs": [],
   "source": []
  },
  {
   "cell_type": "code",
   "execution_count": 27,
   "metadata": {
    "collapsed": false
   },
   "outputs": [],
   "source": [
    "products_uniq = pd.DataFrame(trans_df.product_id.unique())"
   ]
  },
  {
   "cell_type": "code",
   "execution_count": 28,
   "metadata": {
    "collapsed": false
   },
   "outputs": [
    {
     "data": {
      "text/html": [
       "<div>\n",
       "<table border=\"1\" class=\"dataframe\">\n",
       "  <thead>\n",
       "    <tr style=\"text-align: right;\">\n",
       "      <th></th>\n",
       "      <th>0</th>\n",
       "    </tr>\n",
       "  </thead>\n",
       "  <tbody>\n",
       "    <tr>\n",
       "      <th>0</th>\n",
       "      <td>com.gopaktor.subscription.v4.premium.1m</td>\n",
       "    </tr>\n",
       "    <tr>\n",
       "      <th>1</th>\n",
       "      <td>com.gopaktor.subscription.v2.premium.1m</td>\n",
       "    </tr>\n",
       "    <tr>\n",
       "      <th>2</th>\n",
       "      <td>com.gopaktor.credit.v2.1000</td>\n",
       "    </tr>\n",
       "    <tr>\n",
       "      <th>3</th>\n",
       "      <td>com.gopaktor.subscription.v3.premium.3m</td>\n",
       "    </tr>\n",
       "    <tr>\n",
       "      <th>4</th>\n",
       "      <td>com.gopaktor.subscription.v3.premium.6m</td>\n",
       "    </tr>\n",
       "    <tr>\n",
       "      <th>5</th>\n",
       "      <td>com.gopaktor.subscription.v11.premium.6m</td>\n",
       "    </tr>\n",
       "    <tr>\n",
       "      <th>6</th>\n",
       "      <td>com.gopaktor.credit.v2.3000</td>\n",
       "    </tr>\n",
       "    <tr>\n",
       "      <th>7</th>\n",
       "      <td>com.gopaktor.credit.v2.10000</td>\n",
       "    </tr>\n",
       "    <tr>\n",
       "      <th>8</th>\n",
       "      <td>com.gopaktor.credit.v2.6000</td>\n",
       "    </tr>\n",
       "    <tr>\n",
       "      <th>9</th>\n",
       "      <td>com.gopaktor.subscription.v14.premium.1m</td>\n",
       "    </tr>\n",
       "    <tr>\n",
       "      <th>10</th>\n",
       "      <td>com.gopaktor.subscription.v8.premium.6m</td>\n",
       "    </tr>\n",
       "    <tr>\n",
       "      <th>11</th>\n",
       "      <td>com.gopaktor.upgrade.v2.ultimate.premium.3m</td>\n",
       "    </tr>\n",
       "    <tr>\n",
       "      <th>12</th>\n",
       "      <td>com.gopaktor.subscription.v12.premium.3m</td>\n",
       "    </tr>\n",
       "    <tr>\n",
       "      <th>13</th>\n",
       "      <td>paktor.credit.10</td>\n",
       "    </tr>\n",
       "    <tr>\n",
       "      <th>14</th>\n",
       "      <td>com.gopaktor.subscription.v1.premium.1m</td>\n",
       "    </tr>\n",
       "    <tr>\n",
       "      <th>15</th>\n",
       "      <td>com.gopaktor.subscription.v2.premium.6m.3000</td>\n",
       "    </tr>\n",
       "    <tr>\n",
       "      <th>16</th>\n",
       "      <td>com.gopaktor.subscription.v2.premium.1m.2000</td>\n",
       "    </tr>\n",
       "    <tr>\n",
       "      <th>17</th>\n",
       "      <td>com.gopaktor.subscription.v2.premium.1m.3000</td>\n",
       "    </tr>\n",
       "    <tr>\n",
       "      <th>18</th>\n",
       "      <td>com.gopaktor.subscription.v2.premium.3m</td>\n",
       "    </tr>\n",
       "    <tr>\n",
       "      <th>19</th>\n",
       "      <td>com.gopaktor.subscription.v2.premium.6m</td>\n",
       "    </tr>\n",
       "    <tr>\n",
       "      <th>20</th>\n",
       "      <td>com.gopaktor.subscription.v2.premium.3m.3000</td>\n",
       "    </tr>\n",
       "    <tr>\n",
       "      <th>21</th>\n",
       "      <td>com.gopaktor.subscription.v2.premium.3m.2000</td>\n",
       "    </tr>\n",
       "  </tbody>\n",
       "</table>\n",
       "</div>"
      ],
      "text/plain": [
       "                                               0\n",
       "0        com.gopaktor.subscription.v4.premium.1m\n",
       "1        com.gopaktor.subscription.v2.premium.1m\n",
       "2                    com.gopaktor.credit.v2.1000\n",
       "3        com.gopaktor.subscription.v3.premium.3m\n",
       "4        com.gopaktor.subscription.v3.premium.6m\n",
       "5       com.gopaktor.subscription.v11.premium.6m\n",
       "6                    com.gopaktor.credit.v2.3000\n",
       "7                   com.gopaktor.credit.v2.10000\n",
       "8                    com.gopaktor.credit.v2.6000\n",
       "9       com.gopaktor.subscription.v14.premium.1m\n",
       "10       com.gopaktor.subscription.v8.premium.6m\n",
       "11   com.gopaktor.upgrade.v2.ultimate.premium.3m\n",
       "12      com.gopaktor.subscription.v12.premium.3m\n",
       "13                              paktor.credit.10\n",
       "14       com.gopaktor.subscription.v1.premium.1m\n",
       "15  com.gopaktor.subscription.v2.premium.6m.3000\n",
       "16  com.gopaktor.subscription.v2.premium.1m.2000\n",
       "17  com.gopaktor.subscription.v2.premium.1m.3000\n",
       "18       com.gopaktor.subscription.v2.premium.3m\n",
       "19       com.gopaktor.subscription.v2.premium.6m\n",
       "20  com.gopaktor.subscription.v2.premium.3m.3000\n",
       "21  com.gopaktor.subscription.v2.premium.3m.2000"
      ]
     },
     "execution_count": 28,
     "metadata": {},
     "output_type": "execute_result"
    }
   ],
   "source": [
    "products_uniq"
   ]
  },
  {
   "cell_type": "code",
   "execution_count": 41,
   "metadata": {
    "collapsed": false
   },
   "outputs": [],
   "source": [
    "product_codes = pd.DataFrame(cust_prod_int.product_id.unique())"
   ]
  },
  {
   "cell_type": "code",
   "execution_count": 42,
   "metadata": {
    "collapsed": false
   },
   "outputs": [],
   "source": [
    "pd_un = pd.merge(products_uniq,product_codes, left_index=True, right_index=True)"
   ]
  },
  {
   "cell_type": "code",
   "execution_count": 43,
   "metadata": {
    "collapsed": false
   },
   "outputs": [
    {
     "data": {
      "text/html": [
       "<div>\n",
       "<table border=\"1\" class=\"dataframe\">\n",
       "  <thead>\n",
       "    <tr style=\"text-align: right;\">\n",
       "      <th></th>\n",
       "      <th>0_x</th>\n",
       "      <th>0_y</th>\n",
       "    </tr>\n",
       "  </thead>\n",
       "  <tbody>\n",
       "    <tr>\n",
       "      <th>0</th>\n",
       "      <td>com.gopaktor.subscription.v4.premium.1m</td>\n",
       "      <td>18</td>\n",
       "    </tr>\n",
       "    <tr>\n",
       "      <th>1</th>\n",
       "      <td>com.gopaktor.subscription.v2.premium.1m</td>\n",
       "      <td>8</td>\n",
       "    </tr>\n",
       "    <tr>\n",
       "      <th>2</th>\n",
       "      <td>com.gopaktor.credit.v2.1000</td>\n",
       "      <td>0</td>\n",
       "    </tr>\n",
       "    <tr>\n",
       "      <th>3</th>\n",
       "      <td>com.gopaktor.subscription.v3.premium.3m</td>\n",
       "      <td>16</td>\n",
       "    </tr>\n",
       "    <tr>\n",
       "      <th>4</th>\n",
       "      <td>com.gopaktor.subscription.v3.premium.6m</td>\n",
       "      <td>17</td>\n",
       "    </tr>\n",
       "    <tr>\n",
       "      <th>5</th>\n",
       "      <td>com.gopaktor.subscription.v11.premium.6m</td>\n",
       "      <td>5</td>\n",
       "    </tr>\n",
       "    <tr>\n",
       "      <th>6</th>\n",
       "      <td>com.gopaktor.credit.v2.3000</td>\n",
       "      <td>2</td>\n",
       "    </tr>\n",
       "    <tr>\n",
       "      <th>7</th>\n",
       "      <td>com.gopaktor.credit.v2.10000</td>\n",
       "      <td>1</td>\n",
       "    </tr>\n",
       "    <tr>\n",
       "      <th>8</th>\n",
       "      <td>com.gopaktor.credit.v2.6000</td>\n",
       "      <td>3</td>\n",
       "    </tr>\n",
       "    <tr>\n",
       "      <th>9</th>\n",
       "      <td>com.gopaktor.subscription.v14.premium.1m</td>\n",
       "      <td>7</td>\n",
       "    </tr>\n",
       "    <tr>\n",
       "      <th>10</th>\n",
       "      <td>com.gopaktor.subscription.v8.premium.6m</td>\n",
       "      <td>19</td>\n",
       "    </tr>\n",
       "    <tr>\n",
       "      <th>11</th>\n",
       "      <td>com.gopaktor.upgrade.v2.ultimate.premium.3m</td>\n",
       "      <td>20</td>\n",
       "    </tr>\n",
       "    <tr>\n",
       "      <th>12</th>\n",
       "      <td>com.gopaktor.subscription.v12.premium.3m</td>\n",
       "      <td>6</td>\n",
       "    </tr>\n",
       "    <tr>\n",
       "      <th>13</th>\n",
       "      <td>paktor.credit.10</td>\n",
       "      <td>21</td>\n",
       "    </tr>\n",
       "    <tr>\n",
       "      <th>14</th>\n",
       "      <td>com.gopaktor.subscription.v1.premium.1m</td>\n",
       "      <td>4</td>\n",
       "    </tr>\n",
       "    <tr>\n",
       "      <th>15</th>\n",
       "      <td>com.gopaktor.subscription.v2.premium.6m.3000</td>\n",
       "      <td>15</td>\n",
       "    </tr>\n",
       "    <tr>\n",
       "      <th>16</th>\n",
       "      <td>com.gopaktor.subscription.v2.premium.1m.2000</td>\n",
       "      <td>9</td>\n",
       "    </tr>\n",
       "    <tr>\n",
       "      <th>17</th>\n",
       "      <td>com.gopaktor.subscription.v2.premium.1m.3000</td>\n",
       "      <td>10</td>\n",
       "    </tr>\n",
       "    <tr>\n",
       "      <th>18</th>\n",
       "      <td>com.gopaktor.subscription.v2.premium.3m</td>\n",
       "      <td>11</td>\n",
       "    </tr>\n",
       "    <tr>\n",
       "      <th>19</th>\n",
       "      <td>com.gopaktor.subscription.v2.premium.6m</td>\n",
       "      <td>14</td>\n",
       "    </tr>\n",
       "    <tr>\n",
       "      <th>20</th>\n",
       "      <td>com.gopaktor.subscription.v2.premium.3m.3000</td>\n",
       "      <td>13</td>\n",
       "    </tr>\n",
       "    <tr>\n",
       "      <th>21</th>\n",
       "      <td>com.gopaktor.subscription.v2.premium.3m.2000</td>\n",
       "      <td>12</td>\n",
       "    </tr>\n",
       "  </tbody>\n",
       "</table>\n",
       "</div>"
      ],
      "text/plain": [
       "                                             0_x  0_y\n",
       "0        com.gopaktor.subscription.v4.premium.1m   18\n",
       "1        com.gopaktor.subscription.v2.premium.1m    8\n",
       "2                    com.gopaktor.credit.v2.1000    0\n",
       "3        com.gopaktor.subscription.v3.premium.3m   16\n",
       "4        com.gopaktor.subscription.v3.premium.6m   17\n",
       "5       com.gopaktor.subscription.v11.premium.6m    5\n",
       "6                    com.gopaktor.credit.v2.3000    2\n",
       "7                   com.gopaktor.credit.v2.10000    1\n",
       "8                    com.gopaktor.credit.v2.6000    3\n",
       "9       com.gopaktor.subscription.v14.premium.1m    7\n",
       "10       com.gopaktor.subscription.v8.premium.6m   19\n",
       "11   com.gopaktor.upgrade.v2.ultimate.premium.3m   20\n",
       "12      com.gopaktor.subscription.v12.premium.3m    6\n",
       "13                              paktor.credit.10   21\n",
       "14       com.gopaktor.subscription.v1.premium.1m    4\n",
       "15  com.gopaktor.subscription.v2.premium.6m.3000   15\n",
       "16  com.gopaktor.subscription.v2.premium.1m.2000    9\n",
       "17  com.gopaktor.subscription.v2.premium.1m.3000   10\n",
       "18       com.gopaktor.subscription.v2.premium.3m   11\n",
       "19       com.gopaktor.subscription.v2.premium.6m   14\n",
       "20  com.gopaktor.subscription.v2.premium.3m.3000   13\n",
       "21  com.gopaktor.subscription.v2.premium.3m.2000   12"
      ]
     },
     "execution_count": 43,
     "metadata": {},
     "output_type": "execute_result"
    }
   ],
   "source": [
    "pd_un"
   ]
  },
  {
   "cell_type": "code",
   "execution_count": 44,
   "metadata": {
    "collapsed": false
   },
   "outputs": [],
   "source": [
    "pd_un = pd_un.rename(columns={'0_x':'product','0_y':'code'})"
   ]
  },
  {
   "cell_type": "code",
   "execution_count": 45,
   "metadata": {
    "collapsed": false
   },
   "outputs": [],
   "source": [
    "product_map = pd_un.set_index('code')['product'].to_dict()"
   ]
  },
  {
   "cell_type": "code",
   "execution_count": 50,
   "metadata": {
    "collapsed": false
   },
   "outputs": [
    {
     "data": {
      "text/plain": [
       "'com.gopaktor.subscription.v2.premium.3m.2000'"
      ]
     },
     "execution_count": 50,
     "metadata": {},
     "output_type": "execute_result"
    }
   ],
   "source": [
    "product_map[12]"
   ]
  },
  {
   "cell_type": "code",
   "execution_count": null,
   "metadata": {
    "collapsed": true
   },
   "outputs": [],
   "source": []
  },
  {
   "cell_type": "code",
   "execution_count": null,
   "metadata": {
    "collapsed": true
   },
   "outputs": [],
   "source": []
  },
  {
   "cell_type": "code",
   "execution_count": null,
   "metadata": {
    "collapsed": true
   },
   "outputs": [],
   "source": []
  },
  {
   "cell_type": "code",
   "execution_count": null,
   "metadata": {
    "collapsed": true
   },
   "outputs": [],
   "source": []
  },
  {
   "cell_type": "code",
   "execution_count": null,
   "metadata": {
    "collapsed": true
   },
   "outputs": [],
   "source": []
  },
  {
   "cell_type": "code",
   "execution_count": null,
   "metadata": {
    "collapsed": true
   },
   "outputs": [],
   "source": []
  }
 ],
 "metadata": {
  "kernelspec": {
   "display_name": "Python 2",
   "language": "python",
   "name": "python2"
  },
  "language_info": {
   "codemirror_mode": {
    "name": "ipython",
    "version": 2
   },
   "file_extension": ".py",
   "mimetype": "text/x-python",
   "name": "python",
   "nbconvert_exporter": "python",
   "pygments_lexer": "ipython2",
   "version": "2.7.11"
  }
 },
 "nbformat": 4,
 "nbformat_minor": 0
}
